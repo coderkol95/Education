{
 "cells": [
  {
   "cell_type": "markdown",
   "metadata": {},
   "source": [
    "# Initialization\n"
   ]
  },
  {
   "cell_type": "markdown",
   "metadata": {},
   "source": [
    "## Importing the libraries"
   ]
  },
  {
   "cell_type": "code",
   "execution_count": 1,
   "metadata": {},
   "outputs": [],
   "source": [
    "###############################################################################\r\n",
    "#\r\n",
    "#Importing libraries\r\n",
    "#\r\n",
    "import numpy as np \r\n",
    "import scipy.stats\r\n",
    "import pandas as pd \r\n",
    "from sklearn.metrics import silhouette_samples,silhouette_score\r\n",
    "import matplotlib.pyplot as plt \r\n",
    "from mpl_toolkits import mplot3d\r\n",
    "import seaborn as sns\r\n",
    "import datapane as dp\r\n",
    "import plotly.express as px\r\n",
    "from sklearn.preprocessing import MinMaxScaler\r\n",
    "from sklearn.cluster import AffinityPropagation\r\n",
    "from scipy.stats import chi2_contingency as chi2\r\n",
    "###############################################################################\r\n",
    "#\r\n",
    "#Notebook options\r\n",
    "#\r\n",
    "%matplotlib inline\r\n",
    "plt.style.use('fivethirtyeight')\r\n",
    "pd.set_option('display.max_columns', 500)\r\n",
    "###############################################################################"
   ]
  },
  {
   "cell_type": "markdown",
   "metadata": {},
   "source": [
    "## Loading the data"
   ]
  },
  {
   "cell_type": "code",
   "execution_count": 2,
   "metadata": {},
   "outputs": [],
   "source": [
    "###############################################################################\n",
    "#\n",
    "# Reading all the data\n",
    "#\n",
    "dropout = pd.read_excel(r\"../Data/dropout.xls\")\n",
    "enrollments = pd.read_excel(r\"../Data/enrollment.xls\")\n",
    "drinks = pd.read_excel(r\"../Data/drinking_water.xls\")\n",
    "computers = pd.read_excel(r\"../Data/computers.xls\")\n",
    "electricity = pd.read_excel(r\"../Data/electricity.xls\")\n",
    "boys_toilet = pd.read_excel(r\"../Data/boys_toilet.xls\")\n",
    "girls_toilet = pd.read_excel(r\"../Data/girls_toilet.xls\")\n",
    "ptr= pd.read_excel(r\"../Data/pupil_teacher.xls\")\n",
    "###############################################################################"
   ]
  },
  {
   "cell_type": "markdown",
   "metadata": {},
   "source": [
    "# Data preparation"
   ]
  },
  {
   "cell_type": "code",
   "execution_count": 3,
   "metadata": {},
   "outputs": [],
   "source": [
    "###############################################################################\n",
    "#\n",
    "# def returner(xx)\n",
    "# Input: \n",
    "# xx= input dataframe of different factors\n",
    "# \n",
    "# 1. Calculate the aggregate score for that factor for a particular state over three years\n",
    "# 2. Returns the data as a dataframe with the state as the index\n",
    "#\n",
    "###############################################################################\n",
    "\n",
    "def returner(xx):\n",
    "    x=[]\n",
    "    for i in range(36):\n",
    "        x.append([xx['State'].iloc[3*i],xx[['State','All Schools']].iloc[3*i:i*3+3].mean()[0]])  \n",
    "    x=pd.DataFrame(x)\n",
    "    x.set_index(0, inplace=True)\n",
    "    x.index.name='State'\n",
    "    return x"
   ]
  },
  {
   "cell_type": "code",
   "execution_count": 4,
   "metadata": {},
   "outputs": [],
   "source": [
    "enrollments['Higher_Secondary_Boys']=enrollments['Higher_Secondary_Boys'].astype('float')\n",
    "enrollments['Higher_Secondary_Girls']=enrollments['Higher_Secondary_Girls'].astype('float')\n",
    "enrollments['Higher_Secondary_Total']=enrollments['Higher_Secondary_Total'].astype('float')   \n",
    "\n",
    "drinks=returner(drinks)\n",
    "drinks.columns=['Drinking water']\n",
    "electricity=returner(electricity)\n",
    "electricity.columns=['Electricity']\n",
    "computers=returner(computers)\n",
    "computers.columns=[\"Computer\"]\n",
    "boys_t=returner(boys_toilet)\n",
    "boys_t.columns=['Boys toilet']\n",
    "girls_t=returner(girls_toilet)\n",
    "girls_t.columns=['Girls toilet']\n",
    "\n",
    "factors=pd.concat([drinks,electricity,computers,boys_t,girls_t],axis=1)\n",
    "factors.reset_index(inplace=True)"
   ]
  },
  {
   "cell_type": "code",
   "execution_count": 5,
   "metadata": {},
   "outputs": [],
   "source": [
    "# Extracting the names of the states\n",
    "\n",
    "states=[]\n",
    "for i in range(36):\n",
    "    states.append(dropout.State.iloc[3*i])\n",
    "states=pd.DataFrame(states, columns=['State'])"
   ]
  },
  {
   "cell_type": "code",
   "execution_count": 6,
   "metadata": {},
   "outputs": [],
   "source": [
    "###############################################################################\n",
    "#\n",
    "# def create_aggregate(inp)\n",
    "# \n",
    "# Input: input data of enrollments and dropouts\n",
    "#\n",
    "# 1. Drop the state and year columns\n",
    "# 2. Aggregate the data over 3 years and return it \n",
    "#\n",
    "################################################################################\n",
    "\n",
    "def create_aggregate(inp):\n",
    "    inp.drop(['State','Year'],axis=1,inplace=True)\n",
    "\n",
    "    x=pd.DataFrame()\n",
    "    for i in range(36):\n",
    "        x[i]=inp.iloc[3*i+0:i*3+3,:].mean()\n",
    "    x=x.transpose() \n",
    "    return x"
   ]
  },
  {
   "cell_type": "code",
   "execution_count": 7,
   "metadata": {},
   "outputs": [],
   "source": [
    "dropouts_x = create_aggregate(dropout)\n",
    "enrollments_x=create_aggregate(enrollments)"
   ]
  },
  {
   "cell_type": "markdown",
   "metadata": {},
   "source": [
    "# Data exploration"
   ]
  },
  {
   "cell_type": "code",
   "execution_count": 8,
   "metadata": {},
   "outputs": [
    {
     "name": "stdout",
     "output_type": "stream",
     "text": [
      "\n",
      " Correlation between enrollment rates at different stages of schooling\n",
      "\n"
     ]
    },
    {
     "data": {
      "text/html": [
       "<style  type=\"text/css\" >\n",
       "#T_5db4e_row0_col0,#T_5db4e_row1_col1,#T_5db4e_row2_col2,#T_5db4e_row3_col3{\n",
       "            background-color:  #b40426;\n",
       "            color:  #f1f1f1;\n",
       "        }#T_5db4e_row0_col1{\n",
       "            background-color:  #f7b89c;\n",
       "            color:  #000000;\n",
       "        }#T_5db4e_row0_col2,#T_5db4e_row0_col3,#T_5db4e_row3_col0,#T_5db4e_row3_col1{\n",
       "            background-color:  #3b4cc0;\n",
       "            color:  #f1f1f1;\n",
       "        }#T_5db4e_row1_col0{\n",
       "            background-color:  #f59c7d;\n",
       "            color:  #000000;\n",
       "        }#T_5db4e_row1_col2{\n",
       "            background-color:  #cdd9ec;\n",
       "            color:  #000000;\n",
       "        }#T_5db4e_row1_col3{\n",
       "            background-color:  #89acfd;\n",
       "            color:  #000000;\n",
       "        }#T_5db4e_row2_col0{\n",
       "            background-color:  #97b8ff;\n",
       "            color:  #000000;\n",
       "        }#T_5db4e_row2_col1{\n",
       "            background-color:  #d5dbe5;\n",
       "            color:  #000000;\n",
       "        }#T_5db4e_row2_col3{\n",
       "            background-color:  #f6a586;\n",
       "            color:  #000000;\n",
       "        }#T_5db4e_row3_col2{\n",
       "            background-color:  #f3c8b2;\n",
       "            color:  #000000;\n",
       "        }</style><table id=\"T_5db4e_\" ><thead>    <tr>        <th class=\"blank level0\" ></th>        <th class=\"col_heading level0 col0\" >Primary_Total</th>        <th class=\"col_heading level0 col1\" >Upper_Primary_Total</th>        <th class=\"col_heading level0 col2\" >Secondary_Total</th>        <th class=\"col_heading level0 col3\" >Higher_Secondary_Total</th>    </tr></thead><tbody>\n",
       "                <tr>\n",
       "                        <th id=\"T_5db4e_level0_row0\" class=\"row_heading level0 row0\" >Primary_Total</th>\n",
       "                        <td id=\"T_5db4e_row0_col0\" class=\"data row0 col0\" >1.000000</td>\n",
       "                        <td id=\"T_5db4e_row0_col1\" class=\"data row0 col1\" >0.691324</td>\n",
       "                        <td id=\"T_5db4e_row0_col2\" class=\"data row0 col2\" >0.122769</td>\n",
       "                        <td id=\"T_5db4e_row0_col3\" class=\"data row0 col3\" >-0.214995</td>\n",
       "            </tr>\n",
       "            <tr>\n",
       "                        <th id=\"T_5db4e_level0_row1\" class=\"row_heading level0 row1\" >Upper_Primary_Total</th>\n",
       "                        <td id=\"T_5db4e_row1_col0\" class=\"data row1 col0\" >0.691324</td>\n",
       "                        <td id=\"T_5db4e_row1_col1\" class=\"data row1 col1\" >1.000000</td>\n",
       "                        <td id=\"T_5db4e_row1_col2\" class=\"data row1 col2\" >0.513059</td>\n",
       "                        <td id=\"T_5db4e_row1_col3\" class=\"data row1 col3\" >0.076736</td>\n",
       "            </tr>\n",
       "            <tr>\n",
       "                        <th id=\"T_5db4e_level0_row2\" class=\"row_heading level0 row2\" >Secondary_Total</th>\n",
       "                        <td id=\"T_5db4e_row2_col0\" class=\"data row2 col0\" >0.122769</td>\n",
       "                        <td id=\"T_5db4e_row2_col1\" class=\"data row2 col1\" >0.513059</td>\n",
       "                        <td id=\"T_5db4e_row2_col2\" class=\"data row2 col2\" >1.000000</td>\n",
       "                        <td id=\"T_5db4e_row2_col3\" class=\"data row2 col3\" >0.660590</td>\n",
       "            </tr>\n",
       "            <tr>\n",
       "                        <th id=\"T_5db4e_level0_row3\" class=\"row_heading level0 row3\" >Higher_Secondary_Total</th>\n",
       "                        <td id=\"T_5db4e_row3_col0\" class=\"data row3 col0\" >-0.214995</td>\n",
       "                        <td id=\"T_5db4e_row3_col1\" class=\"data row3 col1\" >0.076736</td>\n",
       "                        <td id=\"T_5db4e_row3_col2\" class=\"data row3 col2\" >0.660590</td>\n",
       "                        <td id=\"T_5db4e_row3_col3\" class=\"data row3 col3\" >1.000000</td>\n",
       "            </tr>\n",
       "    </tbody></table>"
      ],
      "text/plain": [
       "<pandas.io.formats.style.Styler at 0x27a0f1c2490>"
      ]
     },
     "execution_count": 8,
     "metadata": {},
     "output_type": "execute_result"
    }
   ],
   "source": [
    "print(\"\\n Correlation between enrollment rates at different stages of schooling\\n\")\n",
    "enrollments[['Primary_Total', 'Upper_Primary_Total', 'Secondary_Total','Higher_Secondary_Total']].corr(method='spearman').style.background_gradient(cmap='coolwarm')"
   ]
  },
  {
   "cell_type": "markdown",
   "metadata": {},
   "source": [
    "### Observations\n",
    "* There is moderate positive correlation between `primary` and `upper primary` dropouts\n",
    "* There is moderate positive correlation between `secondary` and `higher secondary` dropouts\n",
    "\n",
    "Probably in similar states students dropout during the lower classes, and in other similar states the dropout rate is higher in the upper classes."
   ]
  },
  {
   "cell_type": "code",
   "execution_count": 9,
   "metadata": {},
   "outputs": [
    {
     "name": "stdout",
     "output_type": "stream",
     "text": [
      "\n",
      " Correlation between dropout rates at different stages of schooling\n",
      "\n"
     ]
    },
    {
     "data": {
      "text/html": [
       "<style  type=\"text/css\" >\n",
       "#T_47b47_row0_col0,#T_47b47_row1_col1,#T_47b47_row2_col2,#T_47b47_row3_col3{\n",
       "            background-color:  #b40426;\n",
       "            color:  #f1f1f1;\n",
       "        }#T_47b47_row0_col1{\n",
       "            background-color:  #f18d6f;\n",
       "            color:  #000000;\n",
       "        }#T_47b47_row0_col2{\n",
       "            background-color:  #d7dce3;\n",
       "            color:  #000000;\n",
       "        }#T_47b47_row0_col3,#T_47b47_row3_col0,#T_47b47_row3_col1,#T_47b47_row3_col2{\n",
       "            background-color:  #3b4cc0;\n",
       "            color:  #f1f1f1;\n",
       "        }#T_47b47_row1_col0{\n",
       "            background-color:  #ee8468;\n",
       "            color:  #000000;\n",
       "        }#T_47b47_row1_col2{\n",
       "            background-color:  #f7b89c;\n",
       "            color:  #000000;\n",
       "        }#T_47b47_row1_col3{\n",
       "            background-color:  #5572df;\n",
       "            color:  #000000;\n",
       "        }#T_47b47_row2_col0{\n",
       "            background-color:  #dfdbd9;\n",
       "            color:  #000000;\n",
       "        }#T_47b47_row2_col1{\n",
       "            background-color:  #f7bca1;\n",
       "            color:  #000000;\n",
       "        }#T_47b47_row2_col3{\n",
       "            background-color:  #4b64d5;\n",
       "            color:  #f1f1f1;\n",
       "        }</style><table id=\"T_47b47_\" ><thead>    <tr>        <th class=\"blank level0\" ></th>        <th class=\"col_heading level0 col0\" >PRIMARY_TOTAL</th>        <th class=\"col_heading level0 col1\" >UPPER_PRIMARY_TOTAL</th>        <th class=\"col_heading level0 col2\" >SECONDARY_TOTAL</th>        <th class=\"col_heading level0 col3\" >HRSECONDARY_TOTAL</th>    </tr></thead><tbody>\n",
       "                <tr>\n",
       "                        <th id=\"T_47b47_level0_row0\" class=\"row_heading level0 row0\" >PRIMARY_TOTAL</th>\n",
       "                        <td id=\"T_47b47_row0_col0\" class=\"data row0 col0\" >1.000000</td>\n",
       "                        <td id=\"T_47b47_row0_col1\" class=\"data row0 col1\" >0.748033</td>\n",
       "                        <td id=\"T_47b47_row0_col2\" class=\"data row0 col2\" >0.384132</td>\n",
       "                        <td id=\"T_47b47_row0_col3\" class=\"data row0 col3\" >-0.255152</td>\n",
       "            </tr>\n",
       "            <tr>\n",
       "                        <th id=\"T_47b47_level0_row1\" class=\"row_heading level0 row1\" >UPPER_PRIMARY_TOTAL</th>\n",
       "                        <td id=\"T_47b47_row1_col0\" class=\"data row1 col0\" >0.748033</td>\n",
       "                        <td id=\"T_47b47_row1_col1\" class=\"data row1 col1\" >1.000000</td>\n",
       "                        <td id=\"T_47b47_row1_col2\" class=\"data row1 col2\" >0.605983</td>\n",
       "                        <td id=\"T_47b47_row1_col3\" class=\"data row1 col3\" >-0.144547</td>\n",
       "            </tr>\n",
       "            <tr>\n",
       "                        <th id=\"T_47b47_level0_row2\" class=\"row_heading level0 row2\" >SECONDARY_TOTAL</th>\n",
       "                        <td id=\"T_47b47_row2_col0\" class=\"data row2 col0\" >0.384132</td>\n",
       "                        <td id=\"T_47b47_row2_col1\" class=\"data row2 col1\" >0.605983</td>\n",
       "                        <td id=\"T_47b47_row2_col2\" class=\"data row2 col2\" >1.000000</td>\n",
       "                        <td id=\"T_47b47_row2_col3\" class=\"data row2 col3\" >-0.183079</td>\n",
       "            </tr>\n",
       "            <tr>\n",
       "                        <th id=\"T_47b47_level0_row3\" class=\"row_heading level0 row3\" >HRSECONDARY_TOTAL</th>\n",
       "                        <td id=\"T_47b47_row3_col0\" class=\"data row3 col0\" >-0.255152</td>\n",
       "                        <td id=\"T_47b47_row3_col1\" class=\"data row3 col1\" >-0.144547</td>\n",
       "                        <td id=\"T_47b47_row3_col2\" class=\"data row3 col2\" >-0.183079</td>\n",
       "                        <td id=\"T_47b47_row3_col3\" class=\"data row3 col3\" >1.000000</td>\n",
       "            </tr>\n",
       "    </tbody></table>"
      ],
      "text/plain": [
       "<pandas.io.formats.style.Styler at 0x27a0f1bd3d0>"
      ]
     },
     "execution_count": 9,
     "metadata": {},
     "output_type": "execute_result"
    }
   ],
   "source": [
    "print(\"\\n Correlation between dropout rates at different stages of schooling\\n\")\n",
    "dropout[['PRIMARY_TOTAL', 'UPPER_PRIMARY_TOTAL', 'SECONDARY_TOTAL','HRSECONDARY_TOTAL']].corr(method='spearman').style.background_gradient(cmap='coolwarm')"
   ]
  },
  {
   "cell_type": "markdown",
   "metadata": {},
   "source": [
    "### Observations\n",
    "\n",
    "* Dropouts in `primary` and `upper primary` are positively correlated. We need to do further analysis."
   ]
  },
  {
   "cell_type": "code",
   "execution_count": 10,
   "metadata": {},
   "outputs": [
    {
     "data": {
      "text/plain": [
       "Text(0.5, 0.98, 'Analysis on dropout and enrollment rates')"
      ]
     },
     "execution_count": 10,
     "metadata": {},
     "output_type": "execute_result"
    },
    {
     "data": {
      "image/png": "[encoded data removed]",
      "text/plain": [
       "<Figure size 1584x720 with 4 Axes>"
      ]
     },
     "metadata": {},
     "output_type": "display_data"
    }
   ],
   "source": [
    "prim=['Primary']*36\n",
    "uprim=['Upper Primary']*36\n",
    "sec=['Secondary']*36\n",
    "usec=['Higher Secondary']*36\n",
    "lis=prim+uprim+sec+usec\n",
    "lis\n",
    "datas=pd.DataFrame({'values':pd.concat([enrollments_x['Primary_Total'],enrollments_x['Upper_Primary_Total'],enrollments_x['Secondary_Total'],enrollments_x['Higher_Secondary_Total']],axis=0), 'ID':lis, 'State':list(states['State'])*4})\n",
    "\n",
    "enrollments_boys=(enrollments_x['Primary_Boys']+enrollments_x['Upper_Primary_Boys']+enrollments_x['Secondary_Boys']+enrollments_x['Higher_Secondary_Boys'])/4\n",
    "enrollments_girls=(enrollments_x['Primary_Girls']+enrollments_x['Upper_Primary_Girls']+enrollments_x['Secondary_Girls']+enrollments_x['Higher_Secondary_Girls'])/4\n",
    "boys=['Boys']*36\n",
    "girls=['Girls']*36\n",
    "sex=boys+girls\n",
    "enrolls=pd.concat([enrollments_boys,enrollments_girls],axis=0)\n",
    "datassex1=pd.DataFrame({'Enrollments':enrolls,'Sex':sex,'State':list(states['State'])*2})\n",
    "\n",
    "\n",
    "datass=pd.DataFrame({'values':pd.concat([dropouts_x['PRIMARY_TOTAL'],dropouts_x['UPPER_PRIMARY_TOTAL'],dropouts_x['SECONDARY_TOTAL'],dropouts_x['HRSECONDARY_TOTAL']],axis=0), 'ID':lis,'State':list(states['State'])*4})\n",
    "\n",
    "dropouts_boys=(dropouts_x['PRIMARY_BOYS']+dropouts_x['UPPER_PRIMARY_BOYS']+dropouts_x['SECONDARY_BOYS']+dropouts_x['HRSECONDARY_BOYS'])/4\n",
    "dropouts_girls=(dropouts_x['PRIMARY_GIRLS']+dropouts_x['UPPER_PRIMARY_GIRLS']+dropouts_x['SECONDARY_GIRLS']+dropouts_x['HRSECONDARY_GIRLS'])/4\n",
    "\n",
    "drops=pd.concat([dropouts_boys,dropouts_girls],axis=0)\n",
    "datassex2=pd.DataFrame({'Dropouts':drops,'Sex':sex,'State':list(states['State'])*2})\n",
    "\n",
    "fig,ax=plt.subplots(2,2,figsize=(22,10))\n",
    "\n",
    "sns.boxplot(x='values',y='ID',data=datas,ax=ax[0,0])\n",
    "ax[0,0].set_xlabel('Average enrollment rates(%)')\n",
    "ax[0,0].set_ylabel('Section of school')\n",
    "#ax[0].suptitle('Comparison of enrollment rates across different sections of the school')\n",
    "\n",
    "sns.boxplot(x='Enrollments',y='Sex',data=datassex1,ax=ax[0,1])\n",
    "ax[0,1].set_xlabel('Average enrollment rates(%)')\n",
    "ax[0,1].set_ylabel('Sex')\n",
    "#ax[1].suptitle('Comparison of enrollment rates across sex')\n",
    "\n",
    "sns.boxplot(x='values',y='ID',data=datass,ax=ax[1,0])\n",
    "ax[1,0].set_xlabel('Average dropout rates(%)')\n",
    "ax[1,0].set_ylabel('Section of school')\n",
    "#plt.title('Comparison of dropout rates across different sections of the school')\n",
    "\n",
    "\n",
    "sns.boxplot(x='Dropouts',y='Sex',data=datassex2,ax=ax[1,1])\n",
    "ax[1,1].set_xlabel('Average dropout rates(%)')\n",
    "ax[1,1].set_ylabel('Sex')\n",
    "\n",
    "low_prim=datas.State.iloc[datas['values'][datas['ID']=='Primary'].idxmin()]\n",
    "up_prim=datas.State.iloc[datas['values'][datas['ID']=='Upper Primary'].idxmin()]\n",
    "\n",
    "\n",
    "p_out=datass.State.iloc[datass['values'][datass['ID']=='Primary'].idxmax()]\n",
    "up_out= datass.State.iloc[datass['values'][datass['ID']=='Upper Primary'].idxmax()]\n",
    "sec_out=datassex2.State.iloc[datass['values'][datass['ID']=='Primary'].idxmax()]\n",
    "boys_out=datassex2.State.iloc[datassex2['Dropouts'][datassex2['Sex']=='Boys'].idxmax()]\n",
    "\n",
    "\n",
    "ax[0,0].text(55,0.1,s=low_prim)\n",
    "ax[0,0].text(40,1,s=up_prim)\n",
    "ax[1,0].text(17,0.1,s=p_out)\n",
    "ax[1,0].text(13,1,s=up_out)\n",
    "ax[1,0].text(37,2,s=sec_out)\n",
    "ax[1,1].text(14,0.1,s=boys_out)\n",
    "\n",
    "plt.suptitle(\"Analysis on dropout and enrollment rates\")"
   ]
  },
  {
   "cell_type": "markdown",
   "metadata": {},
   "source": [
    "`Observation:`\n",
    "* Lakshwadeep and J&K have exceptionally low enrollment rates\n",
    "* Mizoram has exceptionally high dropout rates in secondary school\n",
    "* Nagaland has exceptionally high dropout rates of boys"
   ]
  },
  {
   "cell_type": "markdown",
   "metadata": {},
   "source": [
    "## Student to teacher ratio"
   ]
  },
  {
   "cell_type": "code",
   "execution_count": 11,
   "metadata": {},
   "outputs": [
    {
     "name": "stderr",
     "output_type": "stream",
     "text": [
      "c:\\Users\\ADMIN\\Documents\\Codebase\\envs\\machine_L\\lib\\site-packages\\datapane\\client\\api\\__init__.py:83: UserWarning:\n",
      "\n",
      "Deprecated, to be removed in next release, use dp.Text instead.\n",
      "\n"
     ]
    },
    {
     "data": {
      "text/markdown": [
       "Publishing document and associated data - *please wait...*"
      ],
      "text/plain": [
       "<IPython.core.display.Markdown object>"
      ]
     },
     "metadata": {},
     "output_type": "display_data"
    },
    {
     "data": {
      "text/markdown": [
       "Report successfully published at https://datapane.com/u/anupammisra/reports/str/ - you can edit and add additional text online"
      ],
      "text/plain": [
       "<IPython.core.display.Markdown object>"
      ]
     },
     "metadata": {},
     "output_type": "display_data"
    }
   ],
   "source": [
    "prim=['Primary']*36\n",
    "uprim=['Upper Primary']*36\n",
    "sec=['Secondary']*36\n",
    "usec=['Higher Secondary']*36\n",
    "lis=prim+uprim+sec+usec\n",
    "lis\n",
    "datas=pd.DataFrame({'Mean percentage(%)':pd.concat([ptr['Primary'],ptr['Upper Primary'],ptr['Secondary'],ptr['Higher Secondary']],axis=0), 'Section of school':lis, 'State':list(states['State'])*4})\n",
    "\n",
    "fig=px.box(data_frame=datas,x='Mean percentage(%)', y='Section of school',hover_name='State',color='Section of school', title=\"Student to teacher ratio\")\n",
    "fig.update_layout(showlegend=False)\n",
    "\n",
    "r = dp.Report(\n",
    "  dp.Markdown('Student to teacher ratio'), #add description to the report\n",
    "  dp.Plot(fig) #create a chart\n",
    ").publish(name='STR', visibility=dp.Visibility.PUBLIC,open=True) #Publish the report"
   ]
  },
  {
   "cell_type": "markdown",
   "metadata": {},
   "source": [
    "`Observations:`\n",
    "\n",
    "* Most states lack teachers in the higher secondary school. Certain states are doing very poorly namely UP, Bihar, Jharkhand and WB"
   ]
  },
  {
   "cell_type": "code",
   "execution_count": 12,
   "metadata": {},
   "outputs": [
    {
     "name": "stderr",
     "output_type": "stream",
     "text": [
      "c:\\Users\\ADMIN\\Documents\\Codebase\\envs\\machine_L\\lib\\site-packages\\datapane\\client\\api\\__init__.py:83: UserWarning:\n",
      "\n",
      "Deprecated, to be removed in next release, use dp.Text instead.\n",
      "\n"
     ]
    },
    {
     "data": {
      "text/markdown": [
       "Publishing document and associated data - *please wait...*"
      ],
      "text/plain": [
       "<IPython.core.display.Markdown object>"
      ]
     },
     "metadata": {},
     "output_type": "display_data"
    },
    {
     "data": {
      "text/markdown": [
       "Report successfully published at https://datapane.com/u/anupammisra/reports/overall/ - you can edit and add additional text online"
      ],
      "text/plain": [
       "<IPython.core.display.Markdown object>"
      ]
     },
     "metadata": {},
     "output_type": "display_data"
    }
   ],
   "source": [
    "dropss=dropouts_x.iloc[:,[2,5,8,11]].mean(axis=1)\n",
    "enrolls=enrollments_x.iloc[:,[2,5,8,11]].mean(axis=1)\n",
    "ptrs=ptr.iloc[:,[1,4]].mean(axis=1)\n",
    "comb=pd.DataFrame({'Enrollments(%)':enrolls,'Dropouts(%)':dropss,'student_teacher_ratio':ptrs})\n",
    "figz = px.scatter(data_frame=comb, x=\"Enrollments(%)\", y=\"Dropouts(%)\", size=\"student_teacher_ratio\", color=states.State, log_x=True, size_max=20, width=1000, height=500, title='Dropouts vs enrollments')\n",
    "figz.update_layout(showlegend=False)\n",
    "r = dp.Report(\n",
    "  dp.Markdown('Overall picture of dropout, enrollment and student:teacher ratio among states'), #add description to the report\n",
    "  dp.Plot(figz) #create a chart\n",
    ").publish(name='Overall', visibility=dp.Visibility.PUBLIC,open=True) #Publish the report"
   ]
  },
  {
   "cell_type": "markdown",
   "metadata": {},
   "source": [
    "`Observations:`\n",
    "\n",
    "* UP has the highest student to teacher ratio. It also has low enrollment rate\n",
    "* Bihar has low enrollment and high dropout rate. They also have a high student to teacher ratio."
   ]
  },
  {
   "cell_type": "code",
   "execution_count": 8,
   "metadata": {},
   "outputs": [],
   "source": [
    "retention_in_secondary = enrollments_x.Secondary_Total * (100-dropouts_x.SECONDARY_TOTAL)/100"
   ]
  },
  {
   "cell_type": "code",
   "execution_count": 9,
   "metadata": {},
   "outputs": [],
   "source": [
    "col = lambda x : 1 if x<=60 else (2 if x <=80 else (3 if x<=90 else 4))"
   ]
  },
  {
   "cell_type": "code",
   "execution_count": 10,
   "metadata": {},
   "outputs": [
    {
     "name": "stderr",
     "output_type": "stream",
     "text": [
      "<ipython-input-10-9481177ef9aa>:4: SettingWithCopyWarning: \n",
      "A value is trying to be set on a copy of a slice from a DataFrame\n",
      "\n",
      "See the caveats in the documentation: https://pandas.pydata.org/pandas-docs/stable/user_guide/indexing.html#returning-a-view-versus-a-copy\n",
      "  retention_in_secondary['Retention(%)'][retention_in_secondary.State=='Chandigarh']=enrollments_x.Secondary_Total[5]\n"
     ]
    }
   ],
   "source": [
    "retention_in_secondary = pd.DataFrame(retention_in_secondary)\n",
    "retention_in_secondary = pd.concat([states,retention_in_secondary],axis=1)\n",
    "retention_in_secondary.columns=['State','Retention(%)']\n",
    "retention_in_secondary['Retention(%)'][retention_in_secondary.State=='Chandigarh']=enrollments_x.Secondary_Total[5]\n",
    "retention_in_secondary['color'] = retention_in_secondary['Retention(%)'].apply(col)"
   ]
  },
  {
   "cell_type": "code",
   "execution_count": 11,
   "metadata": {},
   "outputs": [
    {
     "data": {
      "text/markdown": [
       "Publishing document and associated data - *please wait...*"
      ],
      "text/plain": [
       "<IPython.core.display.Markdown object>"
      ]
     },
     "metadata": {},
     "output_type": "display_data"
    },
    {
     "data": {
      "text/markdown": [
       "Your report doesn't contain any text - did you know you can add text to your report from your browser once published?"
      ],
      "text/plain": [
       "<IPython.core.display.Markdown object>"
      ]
     },
     "metadata": {},
     "output_type": "display_data"
    },
    {
     "data": {
      "text/markdown": [
       "Your report only contains a single element - did you know you can add multiple plots and tables to a report, add text to it and export directly to Medium once published?"
      ],
      "text/plain": [
       "<IPython.core.display.Markdown object>"
      ]
     },
     "metadata": {},
     "output_type": "display_data"
    },
    {
     "data": {
      "text/markdown": [
       "Report successfully published at https://datapane.com/u/anupammisra/reports/retention/ - you can edit and add additional text online"
      ],
      "text/plain": [
       "<IPython.core.display.Markdown object>"
      ]
     },
     "metadata": {},
     "output_type": "display_data"
    }
   ],
   "source": [
    "figx=px.scatter(data_frame= retention_in_secondary, x = 'Retention(%)', hover_name ='State' , color='color', color_continuous_scale='turbo',title=\"Retention rates in secondary school\")\n",
    "figx.update_layout(showlegend=False)\n",
    "\n",
    "r2 = dp.Report(\n",
    "  dp.Plot(figx) #create a chart\n",
    ").publish(name='Retention', visibility=dp.Visibility.PUBLIC,open=True) #Publish the report"
   ]
  },
  {
   "cell_type": "code",
   "execution_count": null,
   "metadata": {},
   "outputs": [],
   "source": []
  },
  {
   "cell_type": "markdown",
   "metadata": {},
   "source": [
    "## Other factors in schooling"
   ]
  },
  {
   "cell_type": "code",
   "execution_count": 17,
   "metadata": {},
   "outputs": [
    {
     "data": {
      "text/html": [
       "<style  type=\"text/css\" >\n",
       "#T_926c3_row0_col0,#T_926c3_row1_col1,#T_926c3_row2_col2,#T_926c3_row3_col3,#T_926c3_row4_col4{\n",
       "            background-color:  #b40426;\n",
       "            color:  #f1f1f1;\n",
       "        }#T_926c3_row0_col1{\n",
       "            background-color:  #e5d8d1;\n",
       "            color:  #000000;\n",
       "        }#T_926c3_row0_col2,#T_926c3_row0_col4,#T_926c3_row1_col3,#T_926c3_row3_col1,#T_926c3_row4_col0{\n",
       "            background-color:  #3b4cc0;\n",
       "            color:  #f1f1f1;\n",
       "        }#T_926c3_row0_col3{\n",
       "            background-color:  #5d7ce6;\n",
       "            color:  #000000;\n",
       "        }#T_926c3_row1_col0{\n",
       "            background-color:  #ead4c8;\n",
       "            color:  #000000;\n",
       "        }#T_926c3_row1_col2{\n",
       "            background-color:  #e8d6cc;\n",
       "            color:  #000000;\n",
       "        }#T_926c3_row1_col4{\n",
       "            background-color:  #b3cdfb;\n",
       "            color:  #000000;\n",
       "        }#T_926c3_row2_col0{\n",
       "            background-color:  #6384eb;\n",
       "            color:  #000000;\n",
       "        }#T_926c3_row2_col1{\n",
       "            background-color:  #efcfbf;\n",
       "            color:  #000000;\n",
       "        }#T_926c3_row2_col3{\n",
       "            background-color:  #6788ee;\n",
       "            color:  #000000;\n",
       "        }#T_926c3_row2_col4,#T_926c3_row4_col1{\n",
       "            background-color:  #a7c5fe;\n",
       "            color:  #000000;\n",
       "        }#T_926c3_row3_col0{\n",
       "            background-color:  #6e90f2;\n",
       "            color:  #000000;\n",
       "        }#T_926c3_row3_col2{\n",
       "            background-color:  #4f69d9;\n",
       "            color:  #000000;\n",
       "        }#T_926c3_row3_col4{\n",
       "            background-color:  #f3c8b2;\n",
       "            color:  #000000;\n",
       "        }#T_926c3_row4_col2{\n",
       "            background-color:  #84a7fc;\n",
       "            color:  #000000;\n",
       "        }#T_926c3_row4_col3{\n",
       "            background-color:  #f0cdbb;\n",
       "            color:  #000000;\n",
       "        }</style><table id=\"T_926c3_\" ><thead>    <tr>        <th class=\"blank level0\" ></th>        <th class=\"col_heading level0 col0\" >Drinking water</th>        <th class=\"col_heading level0 col1\" >Electricity</th>        <th class=\"col_heading level0 col2\" >Computer</th>        <th class=\"col_heading level0 col3\" >Boys toilet</th>        <th class=\"col_heading level0 col4\" >Girls toilet</th>    </tr></thead><tbody>\n",
       "                <tr>\n",
       "                        <th id=\"T_926c3_level0_row0\" class=\"row_heading level0 row0\" >Drinking water</th>\n",
       "                        <td id=\"T_926c3_row0_col0\" class=\"data row0 col0\" >1.000000</td>\n",
       "                        <td id=\"T_926c3_row0_col1\" class=\"data row0 col1\" >0.866581</td>\n",
       "                        <td id=\"T_926c3_row0_col2\" class=\"data row0 col2\" >0.737629</td>\n",
       "                        <td id=\"T_926c3_row0_col3\" class=\"data row0 col3\" >0.746873</td>\n",
       "                        <td id=\"T_926c3_row0_col4\" class=\"data row0 col4\" >0.698581</td>\n",
       "            </tr>\n",
       "            <tr>\n",
       "                        <th id=\"T_926c3_level0_row1\" class=\"row_heading level0 row1\" >Electricity</th>\n",
       "                        <td id=\"T_926c3_row1_col0\" class=\"data row1 col0\" >0.866581</td>\n",
       "                        <td id=\"T_926c3_row1_col1\" class=\"data row1 col1\" >1.000000</td>\n",
       "                        <td id=\"T_926c3_row1_col2\" class=\"data row1 col2\" >0.880671</td>\n",
       "                        <td id=\"T_926c3_row1_col3\" class=\"data row1 col3\" >0.714636</td>\n",
       "                        <td id=\"T_926c3_row1_col4\" class=\"data row1 col4\" >0.807742</td>\n",
       "            </tr>\n",
       "            <tr>\n",
       "                        <th id=\"T_926c3_level0_row2\" class=\"row_heading level0 row2\" >Computer</th>\n",
       "                        <td id=\"T_926c3_row2_col0\" class=\"data row2 col0\" >0.737629</td>\n",
       "                        <td id=\"T_926c3_row2_col1\" class=\"data row2 col1\" >0.880671</td>\n",
       "                        <td id=\"T_926c3_row2_col2\" class=\"data row2 col2\" >1.000000</td>\n",
       "                        <td id=\"T_926c3_row2_col3\" class=\"data row2 col3\" >0.755184</td>\n",
       "                        <td id=\"T_926c3_row2_col4\" class=\"data row2 col4\" >0.796650</td>\n",
       "            </tr>\n",
       "            <tr>\n",
       "                        <th id=\"T_926c3_level0_row3\" class=\"row_heading level0 row3\" >Boys toilet</th>\n",
       "                        <td id=\"T_926c3_row3_col0\" class=\"data row3 col0\" >0.746873</td>\n",
       "                        <td id=\"T_926c3_row3_col1\" class=\"data row3 col1\" >0.714636</td>\n",
       "                        <td id=\"T_926c3_row3_col2\" class=\"data row3 col2\" >0.755184</td>\n",
       "                        <td id=\"T_926c3_row3_col3\" class=\"data row3 col3\" >1.000000</td>\n",
       "                        <td id=\"T_926c3_row3_col4\" class=\"data row3 col4\" >0.882785</td>\n",
       "            </tr>\n",
       "            <tr>\n",
       "                        <th id=\"T_926c3_level0_row4\" class=\"row_heading level0 row4\" >Girls toilet</th>\n",
       "                        <td id=\"T_926c3_row4_col0\" class=\"data row4 col0\" >0.698581</td>\n",
       "                        <td id=\"T_926c3_row4_col1\" class=\"data row4 col1\" >0.807742</td>\n",
       "                        <td id=\"T_926c3_row4_col2\" class=\"data row4 col2\" >0.796650</td>\n",
       "                        <td id=\"T_926c3_row4_col3\" class=\"data row4 col3\" >0.882785</td>\n",
       "                        <td id=\"T_926c3_row4_col4\" class=\"data row4 col4\" >1.000000</td>\n",
       "            </tr>\n",
       "    </tbody></table>"
      ],
      "text/plain": [
       "<pandas.io.formats.style.Styler at 0x27a24bda640>"
      ]
     },
     "execution_count": 17,
     "metadata": {},
     "output_type": "execute_result"
    }
   ],
   "source": [
    "factors.corr(method='spearman').style.background_gradient(cmap=\"coolwarm\")"
   ]
  },
  {
   "cell_type": "code",
   "execution_count": 12,
   "metadata": {},
   "outputs": [
    {
     "name": "stderr",
     "output_type": "stream",
     "text": [
      "c:\\Users\\ADMIN\\Documents\\Codebase\\envs\\machine_L\\lib\\site-packages\\datapane\\client\\api\\__init__.py:83: UserWarning:\n",
      "\n",
      "Deprecated, to be removed in next release, use dp.Text instead.\n",
      "\n"
     ]
    },
    {
     "data": {
      "text/markdown": [
       "Publishing document and associated data - *please wait...*"
      ],
      "text/plain": [
       "<IPython.core.display.Markdown object>"
      ]
     },
     "metadata": {},
     "output_type": "display_data"
    },
    {
     "data": {
      "text/markdown": [
       "Report successfully published at https://datapane.com/u/anupammisra/reports/factors/ - you can edit and add additional text online"
      ],
      "text/plain": [
       "<IPython.core.display.Markdown object>"
      ]
     },
     "metadata": {},
     "output_type": "display_data"
    }
   ],
   "source": [
    "prim=['Drinking water']*36\n",
    "uprim=['Electricity']*36\n",
    "uuprim=['Computer']*36\n",
    "sec=['Boys toilet']*36\n",
    "usec=['Girls toilet']*36\n",
    "lis=prim+uprim+uuprim+sec+usec\n",
    "\n",
    "datas_facts=pd.DataFrame({'Mean percentage(%)':pd.concat([factors['Drinking water'],factors['Electricity'],factors['Computer'],factors['Boys toilet'], factors['Girls toilet']],axis=0), 'Factor':lis,'State':list(states['State'])*5})\n",
    "\n",
    "figy=px.box(data_frame=datas_facts,x='Mean percentage(%)', y='Factor',hover_name='State',color='Factor', title=\"Presence of factors in school\")\n",
    "figy.update_layout(showlegend=False)\n",
    "\n",
    "r = dp.Report(\n",
    "  dp.Markdown('Presence of factors in school'), #add description to the report\n",
    "  dp.Plot(figy) #create a chart\n",
    ").publish(name='Factors', visibility=dp.Visibility.PUBLIC,open=True) #Publish the report"
   ]
  },
  {
   "cell_type": "code",
   "execution_count": 13,
   "metadata": {},
   "outputs": [],
   "source": [
    "stages= ['Primary','Upper_primary','Secondary','Higher_secondary']\n",
    "\n",
    "b_t = [90.48205607,\t82.0528972,\t47.04252336, 57.7953271]\n",
    "g_t = [93.83728972,\t87.60654206, 48.00429907, 56.09971963]\n",
    "e=[62.60271028,\t71.00336449, 53.25831776, 74.1571028]\n",
    "c=[21.07261682,\t47.78841121, 33.04831776, 44.17813084]\n",
    "dw=[93.69271028, 88.96682243, 65.32897196, 78.47168224]\n",
    "boys_t = pd.DataFrame(b_t, index=stages, columns=[\"Boys toilet\"])\n",
    "girls_t = pd.DataFrame(g_t, index=stages, columns=[\"Girls toilet\"])\n",
    "elecs = pd.DataFrame(e, index=stages, columns=[\"Electricity\"])\n",
    "dww = pd.DataFrame(dw, index=stages, columns=[\"Drinking water\"])\n",
    "comps = pd.DataFrame(c, index=stages, columns=[\"Computers\"])\n",
    "composite=pd.concat([boys_t, girls_t,dww,elecs,comps], axis=1)"
   ]
  },
  {
   "cell_type": "code",
   "execution_count": 14,
   "metadata": {},
   "outputs": [
    {
     "data": {
      "text/html": [
       "<style  type=\"text/css\" >\n",
       "#T_69a51_row0_col0{\n",
       "            background-color:  #c43032;\n",
       "            color:  #f1f1f1;\n",
       "        }#T_69a51_row0_col1{\n",
       "            background-color:  #e7745b;\n",
       "            color:  #000000;\n",
       "        }#T_69a51_row0_col2{\n",
       "            background-color:  #cad8ef;\n",
       "            color:  #000000;\n",
       "        }#T_69a51_row0_col3{\n",
       "            background-color:  #bfd3f6;\n",
       "            color:  #000000;\n",
       "        }#T_69a51_row1_col0,#T_69a51_row2_col0,#T_69a51_row2_col1,#T_69a51_row2_col2,#T_69a51_row2_col3{\n",
       "            background-color:  #b40426;\n",
       "            color:  #f1f1f1;\n",
       "        }#T_69a51_row1_col1{\n",
       "            background-color:  #c0282f;\n",
       "            color:  #f1f1f1;\n",
       "        }#T_69a51_row1_col2{\n",
       "            background-color:  #d3dbe7;\n",
       "            color:  #000000;\n",
       "        }#T_69a51_row1_col3{\n",
       "            background-color:  #aec9fc;\n",
       "            color:  #000000;\n",
       "        }#T_69a51_row3_col0{\n",
       "            background-color:  #edd1c2;\n",
       "            color:  #000000;\n",
       "        }#T_69a51_row3_col1{\n",
       "            background-color:  #ecd3c5;\n",
       "            color:  #000000;\n",
       "        }#T_69a51_row3_col2{\n",
       "            background-color:  #f5c4ac;\n",
       "            color:  #000000;\n",
       "        }#T_69a51_row3_col3{\n",
       "            background-color:  #de614d;\n",
       "            color:  #000000;\n",
       "        }#T_69a51_row4_col0,#T_69a51_row4_col1,#T_69a51_row4_col2,#T_69a51_row4_col3{\n",
       "            background-color:  #3b4cc0;\n",
       "            color:  #f1f1f1;\n",
       "        }</style><table id=\"T_69a51_\" ><thead>    <tr>        <th class=\"blank level0\" ></th>        <th class=\"col_heading level0 col0\" >Primary</th>        <th class=\"col_heading level0 col1\" >Upper_primary</th>        <th class=\"col_heading level0 col2\" >Secondary</th>        <th class=\"col_heading level0 col3\" >Higher_secondary</th>    </tr></thead><tbody>\n",
       "                <tr>\n",
       "                        <th id=\"T_69a51_level0_row0\" class=\"row_heading level0 row0\" >Boys toilet</th>\n",
       "                        <td id=\"T_69a51_row0_col0\" class=\"data row0 col0\" >90.482056</td>\n",
       "                        <td id=\"T_69a51_row0_col1\" class=\"data row0 col1\" >82.052897</td>\n",
       "                        <td id=\"T_69a51_row0_col2\" class=\"data row0 col2\" >47.042523</td>\n",
       "                        <td id=\"T_69a51_row0_col3\" class=\"data row0 col3\" >57.795327</td>\n",
       "            </tr>\n",
       "            <tr>\n",
       "                        <th id=\"T_69a51_level0_row1\" class=\"row_heading level0 row1\" >Girls toilet</th>\n",
       "                        <td id=\"T_69a51_row1_col0\" class=\"data row1 col0\" >93.837290</td>\n",
       "                        <td id=\"T_69a51_row1_col1\" class=\"data row1 col1\" >87.606542</td>\n",
       "                        <td id=\"T_69a51_row1_col2\" class=\"data row1 col2\" >48.004299</td>\n",
       "                        <td id=\"T_69a51_row1_col3\" class=\"data row1 col3\" >56.099720</td>\n",
       "            </tr>\n",
       "            <tr>\n",
       "                        <th id=\"T_69a51_level0_row2\" class=\"row_heading level0 row2\" >Drinking water</th>\n",
       "                        <td id=\"T_69a51_row2_col0\" class=\"data row2 col0\" >93.692710</td>\n",
       "                        <td id=\"T_69a51_row2_col1\" class=\"data row2 col1\" >88.966822</td>\n",
       "                        <td id=\"T_69a51_row2_col2\" class=\"data row2 col2\" >65.328972</td>\n",
       "                        <td id=\"T_69a51_row2_col3\" class=\"data row2 col3\" >78.471682</td>\n",
       "            </tr>\n",
       "            <tr>\n",
       "                        <th id=\"T_69a51_level0_row3\" class=\"row_heading level0 row3\" >Electricity</th>\n",
       "                        <td id=\"T_69a51_row3_col0\" class=\"data row3 col0\" >62.602710</td>\n",
       "                        <td id=\"T_69a51_row3_col1\" class=\"data row3 col1\" >71.003364</td>\n",
       "                        <td id=\"T_69a51_row3_col2\" class=\"data row3 col2\" >53.258318</td>\n",
       "                        <td id=\"T_69a51_row3_col3\" class=\"data row3 col3\" >74.157103</td>\n",
       "            </tr>\n",
       "            <tr>\n",
       "                        <th id=\"T_69a51_level0_row4\" class=\"row_heading level0 row4\" >Computers</th>\n",
       "                        <td id=\"T_69a51_row4_col0\" class=\"data row4 col0\" >21.072617</td>\n",
       "                        <td id=\"T_69a51_row4_col1\" class=\"data row4 col1\" >47.788411</td>\n",
       "                        <td id=\"T_69a51_row4_col2\" class=\"data row4 col2\" >33.048318</td>\n",
       "                        <td id=\"T_69a51_row4_col3\" class=\"data row4 col3\" >44.178131</td>\n",
       "            </tr>\n",
       "    </tbody></table>"
      ],
      "text/plain": [
       "<pandas.io.formats.style.Styler at 0x2568e909070>"
      ]
     },
     "execution_count": 14,
     "metadata": {},
     "output_type": "execute_result"
    }
   ],
   "source": [
    "composite.transpose().style.background_gradient(cmap='coolwarm')"
   ]
  },
  {
   "cell_type": "markdown",
   "metadata": {},
   "source": [
    "`Observations:`\n",
    "\n",
    "* More than 50% states have atleast 92% schools with drinking water\n",
    "* Much more schools have drinking water as compared to electricity\n",
    "* Even lower percentage of schools have computer facility\n",
    "* Higher percentage of schools have girls toilets as compared to boys toilets"
   ]
  },
  {
   "cell_type": "markdown",
   "metadata": {},
   "source": [
    "# Hypothesis testing"
   ]
  },
  {
   "cell_type": "markdown",
   "metadata": {},
   "source": [
    "## Dropouts"
   ]
  },
  {
   "cell_type": "markdown",
   "metadata": {},
   "source": [
    "$$H_0 = Dropout\\ rates\\ of\\ girls\\ =\\ dropout\\ rates\\ of\\ boys$$\n",
    "$$H_A = Dropout\\ rates\\ of\\ girls\\ \\neq\\ dropout\\ rates\\ of\\ boys$$"
   ]
  },
  {
   "cell_type": "markdown",
   "metadata": {},
   "source": [
    "$$ t = \\frac{\\bar X_1 - \\bar X_2}{\\sqrt{\\frac{s_1^2}{n_1}+\\frac{s_2^2}{n_2}}} $$"
   ]
  },
  {
   "cell_type": "code",
   "execution_count": 15,
   "metadata": {},
   "outputs": [
    {
     "ename": "NameError",
     "evalue": "name 'dropouts_girls' is not defined",
     "output_type": "error",
     "traceback": [
      "\u001b[1;31m---------------------------------------------------------------------------\u001b[0m",
      "\u001b[1;31mNameError\u001b[0m                                 Traceback (most recent call last)",
      "\u001b[1;32m<ipython-input-15-bf6ac7fe2b39>\u001b[0m in \u001b[0;36m<module>\u001b[1;34m\u001b[0m\n\u001b[1;32m----> 1\u001b[1;33m \u001b[0mg_m\u001b[0m\u001b[1;33m,\u001b[0m\u001b[0mg_sd\u001b[0m\u001b[1;33m=\u001b[0m\u001b[0mdropouts_girls\u001b[0m\u001b[1;33m.\u001b[0m\u001b[0mmean\u001b[0m\u001b[1;33m(\u001b[0m\u001b[1;33m)\u001b[0m\u001b[1;33m,\u001b[0m \u001b[0mdropouts_girls\u001b[0m\u001b[1;33m.\u001b[0m\u001b[0mstd\u001b[0m\u001b[1;33m(\u001b[0m\u001b[1;33m)\u001b[0m\u001b[1;33m\u001b[0m\u001b[1;33m\u001b[0m\u001b[0m\n\u001b[0m\u001b[0;32m      2\u001b[0m \u001b[0mb_m\u001b[0m\u001b[1;33m,\u001b[0m\u001b[0mb_sd\u001b[0m\u001b[1;33m=\u001b[0m\u001b[0mdropouts_boys\u001b[0m\u001b[1;33m.\u001b[0m\u001b[0mmean\u001b[0m\u001b[1;33m(\u001b[0m\u001b[1;33m)\u001b[0m\u001b[1;33m,\u001b[0m \u001b[0mdropouts_boys\u001b[0m\u001b[1;33m.\u001b[0m\u001b[0mstd\u001b[0m\u001b[1;33m(\u001b[0m\u001b[1;33m)\u001b[0m\u001b[1;33m\u001b[0m\u001b[1;33m\u001b[0m\u001b[0m\n\u001b[0;32m      3\u001b[0m \u001b[1;33m\u001b[0m\u001b[0m\n\u001b[0;32m      4\u001b[0m \u001b[0mZ\u001b[0m \u001b[1;33m=\u001b[0m \u001b[1;33m(\u001b[0m\u001b[0mg_m\u001b[0m\u001b[1;33m-\u001b[0m\u001b[0mb_m\u001b[0m\u001b[1;33m)\u001b[0m\u001b[1;33m/\u001b[0m\u001b[1;33m(\u001b[0m\u001b[0mg_sd\u001b[0m\u001b[1;33m**\u001b[0m\u001b[1;36m2\u001b[0m\u001b[1;33m/\u001b[0m\u001b[1;36m36\u001b[0m\u001b[1;33m+\u001b[0m\u001b[0mb_sd\u001b[0m\u001b[1;33m**\u001b[0m\u001b[1;36m2\u001b[0m\u001b[1;33m/\u001b[0m\u001b[1;36m36\u001b[0m\u001b[1;33m)\u001b[0m\u001b[1;33m\u001b[0m\u001b[1;33m\u001b[0m\u001b[0m\n\u001b[0;32m      5\u001b[0m \u001b[1;33m\u001b[0m\u001b[0m\n",
      "\u001b[1;31mNameError\u001b[0m: name 'dropouts_girls' is not defined"
     ]
    }
   ],
   "source": [
    "g_m,g_sd=dropouts_girls.mean(), dropouts_girls.std()\n",
    "b_m,b_sd=dropouts_boys.mean(), dropouts_boys.std()\n",
    "\n",
    "Z = (g_m-b_m)/(g_sd**2/36+b_sd**2/36)\n",
    "\n",
    "#find p-value for two-tailed test\n",
    "s,p=scipy.stats.ttest_ind(dropouts_girls,dropouts_boys,alternative='two-sided')\n",
    "s,p"
   ]
  },
  {
   "cell_type": "markdown",
   "metadata": {},
   "source": [
    "$$There\\ is\\ a\\ 17\\%\\ chance\\ of\\ boys'\\ and\\ girls'\\ dropout\\ rates\\ being\\ same. $$"
   ]
  },
  {
   "cell_type": "code",
   "execution_count": null,
   "metadata": {},
   "outputs": [
    {
     "name": "stdout",
     "output_type": "stream",
     "text": [
      "F-Statistic=45.282, p=0.000\n"
     ]
    }
   ],
   "source": [
    "F, p = scipy.stats.f_oneway(dropouts_x['PRIMARY_TOTAL'],dropouts_x['UPPER_PRIMARY_TOTAL'],dropouts_x['SECONDARY_TOTAL'],dropouts_x['HRSECONDARY_TOTAL'])\n",
    "# Seeing if the overall model is significant\n",
    "print('F-Statistic=%.3f, p=%.3f' % (F, p))"
   ]
  },
  {
   "cell_type": "markdown",
   "metadata": {},
   "source": [
    "## Enrollments"
   ]
  },
  {
   "cell_type": "markdown",
   "metadata": {},
   "source": [
    "$$H_0 = Enrollment\\ rates\\ of\\ girls\\ =\\ enrollment\\ rates\\ of\\ boys$$\n",
    "$$H_A = Enrollment\\ rates\\ of\\ girls\\ \\neq\\ enrollment\\ rates\\ of\\ boys$$"
   ]
  },
  {
   "cell_type": "code",
   "execution_count": null,
   "metadata": {},
   "outputs": [
    {
     "data": {
      "text/plain": [
       "(0.9242406257489818, 0.35853619885206833)"
      ]
     },
     "execution_count": 23,
     "metadata": {},
     "output_type": "execute_result"
    }
   ],
   "source": [
    "g_m,g_sd=enrollments_girls.mean(), enrollments_girls.std()\n",
    "b_m,b_sd=enrollments_boys.mean(), enrollments_boys.std()\n",
    "\n",
    "Z = (g_m-b_m)/(g_sd**2/36+b_sd**2/36)\n",
    "\n",
    "#find p-value for two-tailed test\n",
    "s,p=scipy.stats.ttest_ind(enrollments_girls,enrollments_boys,alternative='two-sided')\n",
    "s,p"
   ]
  },
  {
   "cell_type": "markdown",
   "metadata": {},
   "source": [
    "$$There\\ is\\ a\\ 72\\%\\ chance\\ of\\ boys'\\ and\\ girls'\\ enrollment\\ rates\\ being\\ same.$$"
   ]
  },
  {
   "cell_type": "markdown",
   "metadata": {},
   "source": [
    "$$ANOVA\\\\ H_0\\ =\\ Enrollment\\ rates\\ are\\ the\\ same\\ in\\ primary,\\ upper\\ primary,\\ secondary\\ and\\ higher\\ secondary \\\\ H_A\\ =\\ Enrollment\\ rates\\ are\\ different\\ in\\ primary,\\ upper\\ primary,\\ secondary\\ and\\ higher\\ secondary$$"
   ]
  },
  {
   "cell_type": "code",
   "execution_count": 16,
   "metadata": {},
   "outputs": [
    {
     "name": "stdout",
     "output_type": "stream",
     "text": [
      "F-Statistic=56.868, p=0.000\n"
     ]
    }
   ],
   "source": [
    "F, p = scipy.stats.f_oneway(enrollments_x['Primary_Total'],enrollments_x['Upper_Primary_Total'],enrollments_x['Secondary_Total'],enrollments_x['Higher_Secondary_Total'])\n",
    "# Seeing if the overall model is significant\n",
    "print('F-Statistic=%.3f, p=%.3f' % (F, p))"
   ]
  },
  {
   "cell_type": "markdown",
   "metadata": {},
   "source": [
    "## Student to teacher ratio"
   ]
  },
  {
   "cell_type": "markdown",
   "metadata": {},
   "source": [
    "$$ANOVA\\\\ H_0\\ =\\ Student\\ to\\ teacher\\ ratio\\ is\\ the\\ same\\ in\\ primary,\\ upper\\ primary,\\ secondary\\ and\\ higher\\ secondary \\\\ H_A\\ =\\ Student\\ to\\ teacher\\ ratio\\ is\\ different\\ in\\ primary,\\ upper\\ primary,\\ secondary\\ and\\ higher\\ secondary$$"
   ]
  },
  {
   "cell_type": "code",
   "execution_count": 17,
   "metadata": {},
   "outputs": [
    {
     "name": "stdout",
     "output_type": "stream",
     "text": [
      "F-Statistic=12.850, p=0.000\n"
     ]
    }
   ],
   "source": [
    "F, p = scipy.stats.f_oneway(ptr['Primary'],ptr['Upper Primary'],ptr['Secondary'],ptr['Higher Secondary'])\n",
    "# Seeing if the overall model is significant\n",
    "print('F-Statistic=%.3f, p=%.3f' % (F, p))"
   ]
  },
  {
   "cell_type": "markdown",
   "metadata": {},
   "source": [
    "$$The\\ student\\ to\\ teacher\\ ratio\\ is\\ different\\ in\\ primary,\\ upper\\ primary,\\ secondary\\ and\\ higher\\ secondary\\$$"
   ]
  },
  {
   "cell_type": "markdown",
   "metadata": {},
   "source": [
    "## Other factors"
   ]
  },
  {
   "cell_type": "markdown",
   "metadata": {},
   "source": [
    "$$Chi^2\\\\ H_0\\ =\\ Presence\\ of\\ different\\ factors\\ is\\ independent\\ of\\ the\\ section\\ of\\ the\\ school \\\\ H_A\\ =\\ Presence\\ of\\ different\\ factors\\ is\\ dependent\\ on\\ the\\ section\\ of\\ the\\ school$$"
   ]
  },
  {
   "cell_type": "code",
   "execution_count": 18,
   "metadata": {},
   "outputs": [
    {
     "data": {
      "text/plain": [
       "(28.070220529870937, 0.005402667046801286, 12)"
      ]
     },
     "execution_count": 18,
     "metadata": {},
     "output_type": "execute_result"
    }
   ],
   "source": [
    "from scipy.stats import chi2_contingency as chi2\r\n",
    "stat,p,dof,exp=chi2(composite)\r\n",
    "stat,p,dof"
   ]
  },
  {
   "cell_type": "code",
   "execution_count": 19,
   "metadata": {},
   "outputs": [
    {
     "name": "stdout",
     "output_type": "stream",
     "text": [
      "F-Statistic=53.836, p=0.000\n"
     ]
    }
   ],
   "source": [
    "F, p = scipy.stats.f_oneway(factors['Drinking water'],factors['Electricity'],factors['Computer'],factors['Boys toilet'],factors['Girls toilet'])\r\n",
    "# Seeing if the overall model is significant\r\n",
    "print('F-Statistic=%.3f, p=%.3f' % (F, p))"
   ]
  },
  {
   "cell_type": "markdown",
   "metadata": {},
   "source": [
    "$$The\\ presence\\ of\\ different\\ factors\\ is\\ different\\ in\\ schools$$"
   ]
  },
  {
   "cell_type": "markdown",
   "metadata": {},
   "source": [
    "# Analysis"
   ]
  },
  {
   "cell_type": "code",
   "execution_count": 20,
   "metadata": {},
   "outputs": [],
   "source": [
    "#ptr['average ptr']=(ptr['Primary']+ptr['Upper Primary']+ptr['Secondary']+ptr['Higher Secondary'])/4\n",
    "ptr.drop(['State'],axis=1,inplace=True)"
   ]
  },
  {
   "cell_type": "code",
   "execution_count": 21,
   "metadata": {},
   "outputs": [],
   "source": [
    "#Only keeping totals for overall analysis\n",
    "\n",
    "dropouts_x=dropouts_x[['PRIMARY_TOTAL', 'UPPER_PRIMARY_TOTAL', 'SECONDARY_TOTAL','HRSECONDARY_TOTAL']]\n",
    "enrollments_x=enrollments_x[['Primary_Total', 'Upper_Primary_Total', 'Secondary_Total','Higher_Secondary_Total']]\n",
    "factors.drop(['State'],axis=1,inplace=True)"
   ]
  },
  {
   "cell_type": "code",
   "execution_count": 22,
   "metadata": {},
   "outputs": [],
   "source": [
    "#Creating dataset for overall analysis\n",
    "dataset=pd.concat([dropouts_x,enrollments_x,factors,ptr],axis=1)\n",
    "cols=[]\n",
    "for col in dataset.columns[:4]:\n",
    "    cols.append(\"Dropout-\"+col[:-6])\n",
    "for col in dataset.columns[4:8]:\n",
    "    cols.append(\"Enrollments-\"+col[:-6])\n",
    "for col in dataset.columns[8:13]:\n",
    "    cols.append(col)  \n",
    "for col in dataset.columns[13:17]:\n",
    "    cols.append(\"PTR-\"+col)   \n",
    "dataset.columns=cols\n"
   ]
  },
  {
   "cell_type": "code",
   "execution_count": 23,
   "metadata": {},
   "outputs": [
    {
     "data": {
      "text/html": [
       "<style  type=\"text/css\" >\n",
       "#T_5247b_row0_col0,#T_5247b_row1_col1,#T_5247b_row2_col2,#T_5247b_row3_col3,#T_5247b_row4_col4,#T_5247b_row5_col5,#T_5247b_row6_col6,#T_5247b_row7_col7,#T_5247b_row8_col8,#T_5247b_row9_col9,#T_5247b_row10_col10,#T_5247b_row11_col11,#T_5247b_row12_col12,#T_5247b_row13_col13,#T_5247b_row14_col14,#T_5247b_row15_col15,#T_5247b_row16_col16{\n",
       "            background-color:  #b40426;\n",
       "            color:  #f1f1f1;\n",
       "        }#T_5247b_row0_col1{\n",
       "            background-color:  #da5a49;\n",
       "            color:  #000000;\n",
       "        }#T_5247b_row0_col2,#T_5247b_row7_col10{\n",
       "            background-color:  #f7a98b;\n",
       "            color:  #000000;\n",
       "        }#T_5247b_row0_col3,#T_5247b_row2_col10,#T_5247b_row6_col15{\n",
       "            background-color:  #445acc;\n",
       "            color:  #f1f1f1;\n",
       "        }#T_5247b_row0_col4{\n",
       "            background-color:  #f7a688;\n",
       "            color:  #000000;\n",
       "        }#T_5247b_row0_col5,#T_5247b_row3_col2{\n",
       "            background-color:  #a7c5fe;\n",
       "            color:  #000000;\n",
       "        }#T_5247b_row0_col6,#T_5247b_row1_col14,#T_5247b_row13_col10,#T_5247b_row14_col12{\n",
       "            background-color:  #7597f6;\n",
       "            color:  #000000;\n",
       "        }#T_5247b_row0_col7,#T_5247b_row3_col0,#T_5247b_row15_col9{\n",
       "            background-color:  #93b5fe;\n",
       "            color:  #000000;\n",
       "        }#T_5247b_row0_col8,#T_5247b_row0_col9,#T_5247b_row0_col10,#T_5247b_row0_col12,#T_5247b_row1_col11,#T_5247b_row2_col7,#T_5247b_row3_col14,#T_5247b_row6_col13,#T_5247b_row6_col16,#T_5247b_row7_col1,#T_5247b_row7_col2,#T_5247b_row8_col0,#T_5247b_row8_col4,#T_5247b_row8_col5,#T_5247b_row10_col15,#T_5247b_row14_col3,#T_5247b_row16_col5,#T_5247b_row16_col6{\n",
       "            background-color:  #3b4cc0;\n",
       "            color:  #f1f1f1;\n",
       "        }#T_5247b_row0_col11,#T_5247b_row13_col3{\n",
       "            background-color:  #3d50c3;\n",
       "            color:  #f1f1f1;\n",
       "        }#T_5247b_row0_col13,#T_5247b_row5_col13,#T_5247b_row6_col0,#T_5247b_row12_col5,#T_5247b_row13_col11,#T_5247b_row16_col9{\n",
       "            background-color:  #8db0fe;\n",
       "            color:  #000000;\n",
       "        }#T_5247b_row0_col14,#T_5247b_row9_col5,#T_5247b_row10_col4,#T_5247b_row15_col3{\n",
       "            background-color:  #5a78e4;\n",
       "            color:  #000000;\n",
       "        }#T_5247b_row0_col15,#T_5247b_row9_col13{\n",
       "            background-color:  #8fb1fe;\n",
       "            color:  #000000;\n",
       "        }#T_5247b_row0_col16,#T_5247b_row7_col3{\n",
       "            background-color:  #d7dce3;\n",
       "            color:  #000000;\n",
       "        }#T_5247b_row1_col0{\n",
       "            background-color:  #d85646;\n",
       "            color:  #000000;\n",
       "        }#T_5247b_row1_col2,#T_5247b_row8_col11{\n",
       "            background-color:  #e67259;\n",
       "            color:  #000000;\n",
       "        }#T_5247b_row1_col3{\n",
       "            background-color:  #5673e0;\n",
       "            color:  #000000;\n",
       "        }#T_5247b_row1_col4{\n",
       "            background-color:  #f7b396;\n",
       "            color:  #000000;\n",
       "        }#T_5247b_row1_col5,#T_5247b_row1_col13{\n",
       "            background-color:  #afcafc;\n",
       "            color:  #000000;\n",
       "        }#T_5247b_row1_col6,#T_5247b_row2_col9,#T_5247b_row4_col11,#T_5247b_row10_col13,#T_5247b_row12_col1,#T_5247b_row12_col15{\n",
       "            background-color:  #5d7ce6;\n",
       "            color:  #000000;\n",
       "        }#T_5247b_row1_col7,#T_5247b_row11_col5{\n",
       "            background-color:  #6a8bef;\n",
       "            color:  #000000;\n",
       "        }#T_5247b_row1_col8,#T_5247b_row3_col15,#T_5247b_row4_col10,#T_5247b_row7_col15,#T_5247b_row12_col14{\n",
       "            background-color:  #5977e3;\n",
       "            color:  #000000;\n",
       "        }#T_5247b_row1_col9,#T_5247b_row10_col1,#T_5247b_row16_col12{\n",
       "            background-color:  #506bda;\n",
       "            color:  #000000;\n",
       "        }#T_5247b_row1_col10,#T_5247b_row2_col3,#T_5247b_row9_col0{\n",
       "            background-color:  #465ecf;\n",
       "            color:  #f1f1f1;\n",
       "        }#T_5247b_row1_col12,#T_5247b_row9_col1{\n",
       "            background-color:  #4257c9;\n",
       "            color:  #f1f1f1;\n",
       "        }#T_5247b_row1_col15{\n",
       "            background-color:  #abc8fd;\n",
       "            color:  #000000;\n",
       "        }#T_5247b_row1_col16,#T_5247b_row3_col6,#T_5247b_row14_col8,#T_5247b_row16_col1{\n",
       "            background-color:  #e6d7cf;\n",
       "            color:  #000000;\n",
       "        }#T_5247b_row2_col0{\n",
       "            background-color:  #f7b194;\n",
       "            color:  #000000;\n",
       "        }#T_5247b_row2_col1,#T_5247b_row7_col6{\n",
       "            background-color:  #ec7f63;\n",
       "            color:  #000000;\n",
       "        }#T_5247b_row2_col4,#T_5247b_row12_col3{\n",
       "            background-color:  #ecd3c5;\n",
       "            color:  #000000;\n",
       "        }#T_5247b_row2_col5{\n",
       "            background-color:  #86a9fc;\n",
       "            color:  #000000;\n",
       "        }#T_5247b_row2_col6,#T_5247b_row2_col11,#T_5247b_row9_col4,#T_5247b_row16_col3{\n",
       "            background-color:  #4c66d6;\n",
       "            color:  #000000;\n",
       "        }#T_5247b_row2_col8{\n",
       "            background-color:  #7da0f9;\n",
       "            color:  #000000;\n",
       "        }#T_5247b_row2_col12,#T_5247b_row7_col13{\n",
       "            background-color:  #516ddb;\n",
       "            color:  #000000;\n",
       "        }#T_5247b_row2_col13{\n",
       "            background-color:  #dfdbd9;\n",
       "            color:  #000000;\n",
       "        }#T_5247b_row2_col14,#T_5247b_row13_col4,#T_5247b_row13_col9,#T_5247b_row15_col7{\n",
       "            background-color:  #b6cefa;\n",
       "            color:  #000000;\n",
       "        }#T_5247b_row2_col15{\n",
       "            background-color:  #c1d4f4;\n",
       "            color:  #000000;\n",
       "        }#T_5247b_row2_col16{\n",
       "            background-color:  #e8d6cc;\n",
       "            color:  #000000;\n",
       "        }#T_5247b_row3_col1,#T_5247b_row11_col2{\n",
       "            background-color:  #8badfd;\n",
       "            color:  #000000;\n",
       "        }#T_5247b_row3_col4,#T_5247b_row5_col10{\n",
       "            background-color:  #9abbff;\n",
       "            color:  #000000;\n",
       "        }#T_5247b_row3_col5,#T_5247b_row5_col15{\n",
       "            background-color:  #9bbcff;\n",
       "            color:  #000000;\n",
       "        }#T_5247b_row3_col7,#T_5247b_row6_col12{\n",
       "            background-color:  #f5c2aa;\n",
       "            color:  #000000;\n",
       "        }#T_5247b_row3_col8,#T_5247b_row3_col11{\n",
       "            background-color:  #f1cdba;\n",
       "            color:  #000000;\n",
       "        }#T_5247b_row3_col9,#T_5247b_row4_col1,#T_5247b_row11_col7{\n",
       "            background-color:  #f7af91;\n",
       "            color:  #000000;\n",
       "        }#T_5247b_row3_col10,#T_5247b_row12_col6{\n",
       "            background-color:  #f7b99e;\n",
       "            color:  #000000;\n",
       "        }#T_5247b_row3_col12,#T_5247b_row10_col3,#T_5247b_row11_col6{\n",
       "            background-color:  #f2cab5;\n",
       "            color:  #000000;\n",
       "        }#T_5247b_row3_col13{\n",
       "            background-color:  #536edd;\n",
       "            color:  #000000;\n",
       "        }#T_5247b_row3_col16,#T_5247b_row11_col15{\n",
       "            background-color:  #82a6fb;\n",
       "            color:  #000000;\n",
       "        }#T_5247b_row4_col0,#T_5247b_row14_col16{\n",
       "            background-color:  #f49a7b;\n",
       "            color:  #000000;\n",
       "        }#T_5247b_row4_col2{\n",
       "            background-color:  #f6bfa6;\n",
       "            color:  #000000;\n",
       "        }#T_5247b_row4_col3,#T_5247b_row12_col13{\n",
       "            background-color:  #7093f3;\n",
       "            color:  #000000;\n",
       "        }#T_5247b_row4_col5,#T_5247b_row15_col16{\n",
       "            background-color:  #f08b6e;\n",
       "            color:  #000000;\n",
       "        }#T_5247b_row4_col6{\n",
       "            background-color:  #cedaeb;\n",
       "            color:  #000000;\n",
       "        }#T_5247b_row4_col7,#T_5247b_row8_col13{\n",
       "            background-color:  #b9d0f9;\n",
       "            color:  #000000;\n",
       "        }#T_5247b_row4_col8{\n",
       "            background-color:  #5e7de7;\n",
       "            color:  #000000;\n",
       "        }#T_5247b_row4_col9,#T_5247b_row13_col5{\n",
       "            background-color:  #6485ec;\n",
       "            color:  #000000;\n",
       "        }#T_5247b_row4_col12{\n",
       "            background-color:  #688aef;\n",
       "            color:  #000000;\n",
       "        }#T_5247b_row4_col13,#T_5247b_row14_col4,#T_5247b_row16_col4,#T_5247b_row16_col7{\n",
       "            background-color:  #a5c3fe;\n",
       "            color:  #000000;\n",
       "        }#T_5247b_row4_col14,#T_5247b_row7_col0,#T_5247b_row9_col2,#T_5247b_row10_col2{\n",
       "            background-color:  #7ea1fa;\n",
       "            color:  #000000;\n",
       "        }#T_5247b_row4_col15{\n",
       "            background-color:  #97b8ff;\n",
       "            color:  #000000;\n",
       "        }#T_5247b_row4_col16,#T_5247b_row5_col3,#T_5247b_row5_col9{\n",
       "            background-color:  #adc9fd;\n",
       "            color:  #000000;\n",
       "        }#T_5247b_row5_col0,#T_5247b_row16_col0{\n",
       "            background-color:  #e3d9d3;\n",
       "            color:  #000000;\n",
       "        }#T_5247b_row5_col1,#T_5247b_row5_col2{\n",
       "            background-color:  #dcdddd;\n",
       "            color:  #000000;\n",
       "        }#T_5247b_row5_col4{\n",
       "            background-color:  #e9785d;\n",
       "            color:  #000000;\n",
       "        }#T_5247b_row5_col6,#T_5247b_row9_col6{\n",
       "            background-color:  #f7b599;\n",
       "            color:  #000000;\n",
       "        }#T_5247b_row5_col7{\n",
       "            background-color:  #e1dad6;\n",
       "            color:  #000000;\n",
       "        }#T_5247b_row5_col8{\n",
       "            background-color:  #9dbdff;\n",
       "            color:  #000000;\n",
       "        }#T_5247b_row5_col11,#T_5247b_row8_col16{\n",
       "            background-color:  #a2c1ff;\n",
       "            color:  #000000;\n",
       "        }#T_5247b_row5_col12{\n",
       "            background-color:  #b5cdfa;\n",
       "            color:  #000000;\n",
       "        }#T_5247b_row5_col14,#T_5247b_row14_col10{\n",
       "            background-color:  #779af7;\n",
       "            color:  #000000;\n",
       "        }#T_5247b_row5_col16{\n",
       "            background-color:  #84a7fc;\n",
       "            color:  #000000;\n",
       "        }#T_5247b_row6_col1,#T_5247b_row10_col5,#T_5247b_row13_col6{\n",
       "            background-color:  #5b7ae5;\n",
       "            color:  #000000;\n",
       "        }#T_5247b_row6_col2,#T_5247b_row11_col13,#T_5247b_row15_col6{\n",
       "            background-color:  #7b9ff9;\n",
       "            color:  #000000;\n",
       "        }#T_5247b_row6_col3{\n",
       "            background-color:  #cdd9ec;\n",
       "            color:  #000000;\n",
       "        }#T_5247b_row6_col4{\n",
       "            background-color:  #cad8ef;\n",
       "            color:  #000000;\n",
       "        }#T_5247b_row6_col5,#T_5247b_row8_col6{\n",
       "            background-color:  #efcfbf;\n",
       "            color:  #000000;\n",
       "        }#T_5247b_row6_col7{\n",
       "            background-color:  #e57058;\n",
       "            color:  #000000;\n",
       "        }#T_5247b_row6_col8,#T_5247b_row16_col2{\n",
       "            background-color:  #f3c7b1;\n",
       "            color:  #000000;\n",
       "        }#T_5247b_row6_col9{\n",
       "            background-color:  #f7b093;\n",
       "            color:  #000000;\n",
       "        }#T_5247b_row6_col10{\n",
       "            background-color:  #f6bea4;\n",
       "            color:  #000000;\n",
       "        }#T_5247b_row6_col11,#T_5247b_row7_col12,#T_5247b_row15_col2{\n",
       "            background-color:  #efcebd;\n",
       "            color:  #000000;\n",
       "        }#T_5247b_row6_col14{\n",
       "            background-color:  #4a63d3;\n",
       "            color:  #f1f1f1;\n",
       "        }#T_5247b_row7_col4,#T_5247b_row15_col5{\n",
       "            background-color:  #89acfd;\n",
       "            color:  #000000;\n",
       "        }#T_5247b_row7_col5{\n",
       "            background-color:  #92b4fe;\n",
       "            color:  #000000;\n",
       "        }#T_5247b_row7_col8,#T_5247b_row12_col7{\n",
       "            background-color:  #f7b497;\n",
       "            color:  #000000;\n",
       "        }#T_5247b_row7_col9,#T_5247b_row14_col15,#T_5247b_row15_col14{\n",
       "            background-color:  #f6a283;\n",
       "            color:  #000000;\n",
       "        }#T_5247b_row7_col11{\n",
       "            background-color:  #f4c6af;\n",
       "            color:  #000000;\n",
       "        }#T_5247b_row7_col14,#T_5247b_row14_col5{\n",
       "            background-color:  #6384eb;\n",
       "            color:  #000000;\n",
       "        }#T_5247b_row7_col16,#T_5247b_row16_col11{\n",
       "            background-color:  #7a9df8;\n",
       "            color:  #000000;\n",
       "        }#T_5247b_row8_col1{\n",
       "            background-color:  #3e51c5;\n",
       "            color:  #f1f1f1;\n",
       "        }#T_5247b_row8_col2{\n",
       "            background-color:  #90b2fe;\n",
       "            color:  #000000;\n",
       "        }#T_5247b_row8_col3{\n",
       "            background-color:  #d2dbe8;\n",
       "            color:  #000000;\n",
       "        }#T_5247b_row8_col7{\n",
       "            background-color:  #f7ac8e;\n",
       "            color:  #000000;\n",
       "        }#T_5247b_row8_col9,#T_5247b_row9_col10,#T_5247b_row11_col12,#T_5247b_row12_col11,#T_5247b_row13_col14{\n",
       "            background-color:  #cf453c;\n",
       "            color:  #f1f1f1;\n",
       "        }#T_5247b_row8_col10,#T_5247b_row11_col9,#T_5247b_row12_col8{\n",
       "            background-color:  #e7745b;\n",
       "            color:  #000000;\n",
       "        }#T_5247b_row8_col12{\n",
       "            background-color:  #ee8468;\n",
       "            color:  #000000;\n",
       "        }#T_5247b_row8_col14,#T_5247b_row13_col0,#T_5247b_row14_col7{\n",
       "            background-color:  #bcd2f7;\n",
       "            color:  #000000;\n",
       "        }#T_5247b_row8_col15{\n",
       "            background-color:  #96b7ff;\n",
       "            color:  #000000;\n",
       "        }#T_5247b_row9_col3{\n",
       "            background-color:  #f3c8b2;\n",
       "            color:  #000000;\n",
       "        }#T_5247b_row9_col7{\n",
       "            background-color:  #f39778;\n",
       "            color:  #000000;\n",
       "        }#T_5247b_row9_col8,#T_5247b_row14_col13{\n",
       "            background-color:  #cd423b;\n",
       "            color:  #f1f1f1;\n",
       "        }#T_5247b_row9_col11{\n",
       "            background-color:  #ea7b60;\n",
       "            color:  #000000;\n",
       "        }#T_5247b_row9_col12,#T_5247b_row12_col10{\n",
       "            background-color:  #de614d;\n",
       "            color:  #000000;\n",
       "        }#T_5247b_row9_col14{\n",
       "            background-color:  #81a4fb;\n",
       "            color:  #000000;\n",
       "        }#T_5247b_row9_col15{\n",
       "            background-color:  #4f69d9;\n",
       "            color:  #000000;\n",
       "        }#T_5247b_row9_col16,#T_5247b_row14_col6{\n",
       "            background-color:  #80a3fa;\n",
       "            color:  #000000;\n",
       "        }#T_5247b_row10_col0{\n",
       "            background-color:  #5f7fe8;\n",
       "            color:  #000000;\n",
       "        }#T_5247b_row10_col6{\n",
       "            background-color:  #f7ba9f;\n",
       "            color:  #000000;\n",
       "        }#T_5247b_row10_col7{\n",
       "            background-color:  #f39475;\n",
       "            color:  #000000;\n",
       "        }#T_5247b_row10_col8{\n",
       "            background-color:  #e36b54;\n",
       "            color:  #000000;\n",
       "        }#T_5247b_row10_col9{\n",
       "            background-color:  #cc403a;\n",
       "            color:  #f1f1f1;\n",
       "        }#T_5247b_row10_col11,#T_5247b_row11_col10{\n",
       "            background-color:  #e46e56;\n",
       "            color:  #000000;\n",
       "        }#T_5247b_row10_col12{\n",
       "            background-color:  #e0654f;\n",
       "            color:  #000000;\n",
       "        }#T_5247b_row10_col14{\n",
       "            background-color:  #4b64d5;\n",
       "            color:  #f1f1f1;\n",
       "        }#T_5247b_row10_col16,#T_5247b_row12_col4,#T_5247b_row15_col12{\n",
       "            background-color:  #799cf8;\n",
       "            color:  #000000;\n",
       "        }#T_5247b_row11_col0{\n",
       "            background-color:  #6687ed;\n",
       "            color:  #000000;\n",
       "        }#T_5247b_row11_col1{\n",
       "            background-color:  #4961d2;\n",
       "            color:  #f1f1f1;\n",
       "        }#T_5247b_row11_col3{\n",
       "            background-color:  #e5d8d1;\n",
       "            color:  #000000;\n",
       "        }#T_5247b_row11_col4{\n",
       "            background-color:  #6282ea;\n",
       "            color:  #000000;\n",
       "        }#T_5247b_row11_col8{\n",
       "            background-color:  #e16751;\n",
       "            color:  #000000;\n",
       "        }#T_5247b_row11_col14,#T_5247b_row12_col0,#T_5247b_row16_col10{\n",
       "            background-color:  #6f92f3;\n",
       "            color:  #000000;\n",
       "        }#T_5247b_row11_col16{\n",
       "            background-color:  #88abfd;\n",
       "            color:  #000000;\n",
       "        }#T_5247b_row12_col2{\n",
       "            background-color:  #98b9ff;\n",
       "            color:  #000000;\n",
       "        }#T_5247b_row12_col9{\n",
       "            background-color:  #d95847;\n",
       "            color:  #000000;\n",
       "        }#T_5247b_row12_col16{\n",
       "            background-color:  #6b8df0;\n",
       "            color:  #000000;\n",
       "        }#T_5247b_row13_col1{\n",
       "            background-color:  #c6d6f1;\n",
       "            color:  #000000;\n",
       "        }#T_5247b_row13_col2{\n",
       "            background-color:  #f5c4ac;\n",
       "            color:  #000000;\n",
       "        }#T_5247b_row13_col7{\n",
       "            background-color:  #9fbfff;\n",
       "            color:  #000000;\n",
       "        }#T_5247b_row13_col8{\n",
       "            background-color:  #dadce0;\n",
       "            color:  #000000;\n",
       "        }#T_5247b_row13_col12{\n",
       "            background-color:  #7699f6;\n",
       "            color:  #000000;\n",
       "        }#T_5247b_row13_col15{\n",
       "            background-color:  #f4c5ad;\n",
       "            color:  #000000;\n",
       "        }#T_5247b_row13_col16,#T_5247b_row16_col15{\n",
       "            background-color:  #f59f80;\n",
       "            color:  #000000;\n",
       "        }#T_5247b_row14_col0,#T_5247b_row14_col1,#T_5247b_row15_col11{\n",
       "            background-color:  #a6c4fe;\n",
       "            color:  #000000;\n",
       "        }#T_5247b_row14_col2{\n",
       "            background-color:  #ead4c8;\n",
       "            color:  #000000;\n",
       "        }#T_5247b_row14_col9,#T_5247b_row15_col4{\n",
       "            background-color:  #bad0f8;\n",
       "            color:  #000000;\n",
       "        }#T_5247b_row14_col11{\n",
       "            background-color:  #94b6ff;\n",
       "            color:  #000000;\n",
       "        }#T_5247b_row15_col0{\n",
       "            background-color:  #ccd9ed;\n",
       "            color:  #000000;\n",
       "        }#T_5247b_row15_col1,#T_5247b_row15_col8{\n",
       "            background-color:  #cfdaea;\n",
       "            color:  #000000;\n",
       "        }#T_5247b_row15_col10{\n",
       "            background-color:  #6788ee;\n",
       "            color:  #000000;\n",
       "        }#T_5247b_row15_col13{\n",
       "            background-color:  #f6bda2;\n",
       "            color:  #000000;\n",
       "        }#T_5247b_row16_col8{\n",
       "            background-color:  #b7cff9;\n",
       "            color:  #000000;\n",
       "        }#T_5247b_row16_col13{\n",
       "            background-color:  #f7aa8c;\n",
       "            color:  #000000;\n",
       "        }#T_5247b_row16_col14{\n",
       "            background-color:  #f7ad90;\n",
       "            color:  #000000;\n",
       "        }</style><table id=\"T_5247b_\" ><thead>    <tr>        <th class=\"blank level0\" ></th>        <th class=\"col_heading level0 col0\" >Dropout-PRIMARY</th>        <th class=\"col_heading level0 col1\" >Dropout-UPPER_PRIMARY</th>        <th class=\"col_heading level0 col2\" >Dropout-SECONDARY</th>        <th class=\"col_heading level0 col3\" >Dropout-HRSECONDARY</th>        <th class=\"col_heading level0 col4\" >Enrollments-Primary</th>        <th class=\"col_heading level0 col5\" >Enrollments-Upper_Primary</th>        <th class=\"col_heading level0 col6\" >Enrollments-Secondary</th>        <th class=\"col_heading level0 col7\" >Enrollments-Higher_Secondary</th>        <th class=\"col_heading level0 col8\" >Drinking water</th>        <th class=\"col_heading level0 col9\" >Electricity</th>        <th class=\"col_heading level0 col10\" >Computer</th>        <th class=\"col_heading level0 col11\" >Boys toilet</th>        <th class=\"col_heading level0 col12\" >Girls toilet</th>        <th class=\"col_heading level0 col13\" >PTR-Primary</th>        <th class=\"col_heading level0 col14\" >PTR-Upper Primary</th>        <th class=\"col_heading level0 col15\" >PTR-Secondary</th>        <th class=\"col_heading level0 col16\" >PTR-Higher Secondary</th>    </tr></thead><tbody>\n",
       "                <tr>\n",
       "                        <th id=\"T_5247b_level0_row0\" class=\"row_heading level0 row0\" >Dropout-PRIMARY</th>\n",
       "                        <td id=\"T_5247b_row0_col0\" class=\"data row0 col0\" >1.000000</td>\n",
       "                        <td id=\"T_5247b_row0_col1\" class=\"data row0 col1\" >0.808626</td>\n",
       "                        <td id=\"T_5247b_row0_col2\" class=\"data row0 col2\" >0.433988</td>\n",
       "                        <td id=\"T_5247b_row0_col3\" class=\"data row0 col3\" >-0.326441</td>\n",
       "                        <td id=\"T_5247b_row0_col4\" class=\"data row0 col4\" >0.546122</td>\n",
       "                        <td id=\"T_5247b_row0_col5\" class=\"data row0 col5\" >0.140328</td>\n",
       "                        <td id=\"T_5247b_row0_col6\" class=\"data row0 col6\" >-0.348632</td>\n",
       "                        <td id=\"T_5247b_row0_col7\" class=\"data row0 col7\" >-0.428581</td>\n",
       "                        <td id=\"T_5247b_row0_col8\" class=\"data row0 col8\" >-0.807090</td>\n",
       "                        <td id=\"T_5247b_row0_col9\" class=\"data row0 col9\" >-0.735675</td>\n",
       "                        <td id=\"T_5247b_row0_col10\" class=\"data row0 col10\" >-0.594915</td>\n",
       "                        <td id=\"T_5247b_row0_col11\" class=\"data row0 col11\" >-0.553430</td>\n",
       "                        <td id=\"T_5247b_row0_col12\" class=\"data row0 col12\" >-0.504931</td>\n",
       "                        <td id=\"T_5247b_row0_col13\" class=\"data row0 col13\" >-0.103060</td>\n",
       "                        <td id=\"T_5247b_row0_col14\" class=\"data row0 col14\" >-0.227747</td>\n",
       "                        <td id=\"T_5247b_row0_col15\" class=\"data row0 col15\" >-0.015009</td>\n",
       "                        <td id=\"T_5247b_row0_col16\" class=\"data row0 col16\" >0.140097</td>\n",
       "            </tr>\n",
       "            <tr>\n",
       "                        <th id=\"T_5247b_level0_row1\" class=\"row_heading level0 row1\" >Dropout-UPPER_PRIMARY</th>\n",
       "                        <td id=\"T_5247b_row1_col0\" class=\"data row1 col0\" >0.808626</td>\n",
       "                        <td id=\"T_5247b_row1_col1\" class=\"data row1 col1\" >1.000000</td>\n",
       "                        <td id=\"T_5247b_row1_col2\" class=\"data row1 col2\" >0.684685</td>\n",
       "                        <td id=\"T_5247b_row1_col3\" class=\"data row1 col3\" >-0.245976</td>\n",
       "                        <td id=\"T_5247b_row1_col4\" class=\"data row1 col4\" >0.491634</td>\n",
       "                        <td id=\"T_5247b_row1_col5\" class=\"data row1 col5\" >0.171943</td>\n",
       "                        <td id=\"T_5247b_row1_col6\" class=\"data row1 col6\" >-0.469755</td>\n",
       "                        <td id=\"T_5247b_row1_col7\" class=\"data row1 col7\" >-0.649678</td>\n",
       "                        <td id=\"T_5247b_row1_col8\" class=\"data row1 col8\" >-0.627836</td>\n",
       "                        <td id=\"T_5247b_row1_col9\" class=\"data row1 col9\" >-0.607732</td>\n",
       "                        <td id=\"T_5247b_row1_col10\" class=\"data row1 col10\" >-0.532561</td>\n",
       "                        <td id=\"T_5247b_row1_col11\" class=\"data row1 col11\" >-0.571282</td>\n",
       "                        <td id=\"T_5247b_row1_col12\" class=\"data row1 col12\" >-0.464949</td>\n",
       "                        <td id=\"T_5247b_row1_col13\" class=\"data row1 col13\" >0.043657</td>\n",
       "                        <td id=\"T_5247b_row1_col14\" class=\"data row1 col14\" >-0.120018</td>\n",
       "                        <td id=\"T_5247b_row1_col15\" class=\"data row1 col15\" >0.097753</td>\n",
       "                        <td id=\"T_5247b_row1_col16\" class=\"data row1 col16\" >0.234128</td>\n",
       "            </tr>\n",
       "            <tr>\n",
       "                        <th id=\"T_5247b_level0_row2\" class=\"row_heading level0 row2\" >Dropout-SECONDARY</th>\n",
       "                        <td id=\"T_5247b_row2_col0\" class=\"data row2 col0\" >0.433988</td>\n",
       "                        <td id=\"T_5247b_row2_col1\" class=\"data row2 col1\" >0.684685</td>\n",
       "                        <td id=\"T_5247b_row2_col2\" class=\"data row2 col2\" >1.000000</td>\n",
       "                        <td id=\"T_5247b_row2_col3\" class=\"data row2 col3\" >-0.314359</td>\n",
       "                        <td id=\"T_5247b_row2_col4\" class=\"data row2 col4\" >0.302703</td>\n",
       "                        <td id=\"T_5247b_row2_col5\" class=\"data row2 col5\" >0.020849</td>\n",
       "                        <td id=\"T_5247b_row2_col6\" class=\"data row2 col6\" >-0.551866</td>\n",
       "                        <td id=\"T_5247b_row2_col7\" class=\"data row2 col7\" >-0.945431</td>\n",
       "                        <td id=\"T_5247b_row2_col8\" class=\"data row2 col8\" >-0.437114</td>\n",
       "                        <td id=\"T_5247b_row2_col9\" class=\"data row2 col9\" >-0.541753</td>\n",
       "                        <td id=\"T_5247b_row2_col10\" class=\"data row2 col10\" >-0.540026</td>\n",
       "                        <td id=\"T_5247b_row2_col11\" class=\"data row2 col11\" >-0.473535</td>\n",
       "                        <td id=\"T_5247b_row2_col12\" class=\"data row2 col12\" >-0.391753</td>\n",
       "                        <td id=\"T_5247b_row2_col13\" class=\"data row2 col13\" >0.275853</td>\n",
       "                        <td id=\"T_5247b_row2_col14\" class=\"data row2 col14\" >0.134956</td>\n",
       "                        <td id=\"T_5247b_row2_col15\" class=\"data row2 col15\" >0.188422</td>\n",
       "                        <td id=\"T_5247b_row2_col16\" class=\"data row2 col16\" >0.249324</td>\n",
       "            </tr>\n",
       "            <tr>\n",
       "                        <th id=\"T_5247b_level0_row3\" class=\"row_heading level0 row3\" >Dropout-HRSECONDARY</th>\n",
       "                        <td id=\"T_5247b_row3_col0\" class=\"data row3 col0\" >-0.326441</td>\n",
       "                        <td id=\"T_5247b_row3_col1\" class=\"data row3 col1\" >-0.245976</td>\n",
       "                        <td id=\"T_5247b_row3_col2\" class=\"data row3 col2\" >-0.314359</td>\n",
       "                        <td id=\"T_5247b_row3_col3\" class=\"data row3 col3\" >1.000000</td>\n",
       "                        <td id=\"T_5247b_row3_col4\" class=\"data row3 col4\" >-0.139472</td>\n",
       "                        <td id=\"T_5247b_row3_col5\" class=\"data row3 col5\" >0.096330</td>\n",
       "                        <td id=\"T_5247b_row3_col6\" class=\"data row3 col6\" >0.235673</td>\n",
       "                        <td id=\"T_5247b_row3_col7\" class=\"data row3 col7\" >0.285383</td>\n",
       "                        <td id=\"T_5247b_row3_col8\" class=\"data row3 col8\" >0.260864</td>\n",
       "                        <td id=\"T_5247b_row3_col9\" class=\"data row3 col9\" >0.469375</td>\n",
       "                        <td id=\"T_5247b_row3_col10\" class=\"data row3 col10\" >0.459240</td>\n",
       "                        <td id=\"T_5247b_row3_col11\" class=\"data row3 col11\" >0.358763</td>\n",
       "                        <td id=\"T_5247b_row3_col12\" class=\"data row3 col12\" >0.403611</td>\n",
       "                        <td id=\"T_5247b_row3_col13\" class=\"data row3 col13\" >-0.355863</td>\n",
       "                        <td id=\"T_5247b_row3_col14\" class=\"data row3 col14\" >-0.370273</td>\n",
       "                        <td id=\"T_5247b_row3_col15\" class=\"data row3 col15\" >-0.227721</td>\n",
       "                        <td id=\"T_5247b_row3_col16\" class=\"data row3 col16\" >-0.288338</td>\n",
       "            </tr>\n",
       "            <tr>\n",
       "                        <th id=\"T_5247b_level0_row4\" class=\"row_heading level0 row4\" >Enrollments-Primary</th>\n",
       "                        <td id=\"T_5247b_row4_col0\" class=\"data row4 col0\" >0.546122</td>\n",
       "                        <td id=\"T_5247b_row4_col1\" class=\"data row4 col1\" >0.491634</td>\n",
       "                        <td id=\"T_5247b_row4_col2\" class=\"data row4 col2\" >0.302703</td>\n",
       "                        <td id=\"T_5247b_row4_col3\" class=\"data row4 col3\" >-0.139472</td>\n",
       "                        <td id=\"T_5247b_row4_col4\" class=\"data row4 col4\" >1.000000</td>\n",
       "                        <td id=\"T_5247b_row4_col5\" class=\"data row4 col5\" >0.725354</td>\n",
       "                        <td id=\"T_5247b_row4_col6\" class=\"data row4 col6\" >0.090862</td>\n",
       "                        <td id=\"T_5247b_row4_col7\" class=\"data row4 col7\" >-0.214672</td>\n",
       "                        <td id=\"T_5247b_row4_col8\" class=\"data row4 col8\" >-0.596135</td>\n",
       "                        <td id=\"T_5247b_row4_col9\" class=\"data row4 col9\" >-0.498712</td>\n",
       "                        <td id=\"T_5247b_row4_col10\" class=\"data row4 col10\" >-0.433719</td>\n",
       "                        <td id=\"T_5247b_row4_col11\" class=\"data row4 col11\" >-0.393690</td>\n",
       "                        <td id=\"T_5247b_row4_col12\" class=\"data row4 col12\" >-0.286598</td>\n",
       "                        <td id=\"T_5247b_row4_col13\" class=\"data row4 col13\" >-0.004121</td>\n",
       "                        <td id=\"T_5247b_row4_col14\" class=\"data row4 col14\" >-0.086150</td>\n",
       "                        <td id=\"T_5247b_row4_col15\" class=\"data row4 col15\" >0.014167</td>\n",
       "                        <td id=\"T_5247b_row4_col16\" class=\"data row4 col16\" >-0.087959</td>\n",
       "            </tr>\n",
       "            <tr>\n",
       "                        <th id=\"T_5247b_level0_row5\" class=\"row_heading level0 row5\" >Enrollments-Upper_Primary</th>\n",
       "                        <td id=\"T_5247b_row5_col0\" class=\"data row5 col0\" >0.140328</td>\n",
       "                        <td id=\"T_5247b_row5_col1\" class=\"data row5 col1\" >0.171943</td>\n",
       "                        <td id=\"T_5247b_row5_col2\" class=\"data row5 col2\" >0.020849</td>\n",
       "                        <td id=\"T_5247b_row5_col3\" class=\"data row5 col3\" >0.096330</td>\n",
       "                        <td id=\"T_5247b_row5_col4\" class=\"data row5 col4\" >0.725354</td>\n",
       "                        <td id=\"T_5247b_row5_col5\" class=\"data row5 col5\" >1.000000</td>\n",
       "                        <td id=\"T_5247b_row5_col6\" class=\"data row5 col6\" >0.461776</td>\n",
       "                        <td id=\"T_5247b_row5_col7\" class=\"data row5 col7\" >0.062548</td>\n",
       "                        <td id=\"T_5247b_row5_col8\" class=\"data row5 col8\" >-0.272681</td>\n",
       "                        <td id=\"T_5247b_row5_col9\" class=\"data row5 col9\" >-0.144330</td>\n",
       "                        <td id=\"T_5247b_row5_col10\" class=\"data row5 col10\" >-0.138739</td>\n",
       "                        <td id=\"T_5247b_row5_col11\" class=\"data row5 col11\" >-0.082936</td>\n",
       "                        <td id=\"T_5247b_row5_col12\" class=\"data row5 col12\" >0.047423</td>\n",
       "                        <td id=\"T_5247b_row5_col13\" class=\"data row5 col13\" >-0.103155</td>\n",
       "                        <td id=\"T_5247b_row5_col14\" class=\"data row5 col14\" >-0.108686</td>\n",
       "                        <td id=\"T_5247b_row5_col15\" class=\"data row5 col15\" >0.032069</td>\n",
       "                        <td id=\"T_5247b_row5_col16\" class=\"data row5 col16\" >-0.276497</td>\n",
       "            </tr>\n",
       "            <tr>\n",
       "                        <th id=\"T_5247b_level0_row6\" class=\"row_heading level0 row6\" >Enrollments-Secondary</th>\n",
       "                        <td id=\"T_5247b_row6_col0\" class=\"data row6 col0\" >-0.348632</td>\n",
       "                        <td id=\"T_5247b_row6_col1\" class=\"data row6 col1\" >-0.469755</td>\n",
       "                        <td id=\"T_5247b_row6_col2\" class=\"data row6 col2\" >-0.551866</td>\n",
       "                        <td id=\"T_5247b_row6_col3\" class=\"data row6 col3\" >0.235673</td>\n",
       "                        <td id=\"T_5247b_row6_col4\" class=\"data row6 col4\" >0.090862</td>\n",
       "                        <td id=\"T_5247b_row6_col5\" class=\"data row6 col5\" >0.461776</td>\n",
       "                        <td id=\"T_5247b_row6_col6\" class=\"data row6 col6\" >1.000000</td>\n",
       "                        <td id=\"T_5247b_row6_col7\" class=\"data row6 col7\" >0.690090</td>\n",
       "                        <td id=\"T_5247b_row6_col8\" class=\"data row6 col8\" >0.307990</td>\n",
       "                        <td id=\"T_5247b_row6_col9\" class=\"data row6 col9\" >0.459279</td>\n",
       "                        <td id=\"T_5247b_row6_col10\" class=\"data row6 col10\" >0.435779</td>\n",
       "                        <td id=\"T_5247b_row6_col11\" class=\"data row6 col11\" >0.344108</td>\n",
       "                        <td id=\"T_5247b_row6_col12\" class=\"data row6 col12\" >0.442526</td>\n",
       "                        <td id=\"T_5247b_row6_col13\" class=\"data row6 col13\" >-0.473149</td>\n",
       "                        <td id=\"T_5247b_row6_col14\" class=\"data row6 col14\" >-0.297341</td>\n",
       "                        <td id=\"T_5247b_row6_col15\" class=\"data row6 col15\" >-0.319789</td>\n",
       "                        <td id=\"T_5247b_row6_col16\" class=\"data row6 col16\" >-0.650354</td>\n",
       "            </tr>\n",
       "            <tr>\n",
       "                        <th id=\"T_5247b_level0_row7\" class=\"row_heading level0 row7\" >Enrollments-Higher_Secondary</th>\n",
       "                        <td id=\"T_5247b_row7_col0\" class=\"data row7 col0\" >-0.428581</td>\n",
       "                        <td id=\"T_5247b_row7_col1\" class=\"data row7 col1\" >-0.649678</td>\n",
       "                        <td id=\"T_5247b_row7_col2\" class=\"data row7 col2\" >-0.945431</td>\n",
       "                        <td id=\"T_5247b_row7_col3\" class=\"data row7 col3\" >0.285383</td>\n",
       "                        <td id=\"T_5247b_row7_col4\" class=\"data row7 col4\" >-0.214672</td>\n",
       "                        <td id=\"T_5247b_row7_col5\" class=\"data row7 col5\" >0.062548</td>\n",
       "                        <td id=\"T_5247b_row7_col6\" class=\"data row7 col6\" >0.690090</td>\n",
       "                        <td id=\"T_5247b_row7_col7\" class=\"data row7 col7\" >1.000000</td>\n",
       "                        <td id=\"T_5247b_row7_col8\" class=\"data row7 col8\" >0.417526</td>\n",
       "                        <td id=\"T_5247b_row7_col9\" class=\"data row7 col9\" >0.525774</td>\n",
       "                        <td id=\"T_5247b_row7_col10\" class=\"data row7 col10\" >0.538481</td>\n",
       "                        <td id=\"T_5247b_row7_col11\" class=\"data row7 col11\" >0.404507</td>\n",
       "                        <td id=\"T_5247b_row7_col12\" class=\"data row7 col12\" >0.371134</td>\n",
       "                        <td id=\"T_5247b_row7_col13\" class=\"data row7 col13\" >-0.359562</td>\n",
       "                        <td id=\"T_5247b_row7_col14\" class=\"data row7 col14\" >-0.188397</td>\n",
       "                        <td id=\"T_5247b_row7_col15\" class=\"data row7 col15\" >-0.230279</td>\n",
       "                        <td id=\"T_5247b_row7_col16\" class=\"data row7 col16\" >-0.327495</td>\n",
       "            </tr>\n",
       "            <tr>\n",
       "                        <th id=\"T_5247b_level0_row8\" class=\"row_heading level0 row8\" >Drinking water</th>\n",
       "                        <td id=\"T_5247b_row8_col0\" class=\"data row8 col0\" >-0.807090</td>\n",
       "                        <td id=\"T_5247b_row8_col1\" class=\"data row8 col1\" >-0.627836</td>\n",
       "                        <td id=\"T_5247b_row8_col2\" class=\"data row8 col2\" >-0.437114</td>\n",
       "                        <td id=\"T_5247b_row8_col3\" class=\"data row8 col3\" >0.260864</td>\n",
       "                        <td id=\"T_5247b_row8_col4\" class=\"data row8 col4\" >-0.596135</td>\n",
       "                        <td id=\"T_5247b_row8_col5\" class=\"data row8 col5\" >-0.272681</td>\n",
       "                        <td id=\"T_5247b_row8_col6\" class=\"data row8 col6\" >0.307990</td>\n",
       "                        <td id=\"T_5247b_row8_col7\" class=\"data row8 col7\" >0.417526</td>\n",
       "                        <td id=\"T_5247b_row8_col8\" class=\"data row8 col8\" >1.000000</td>\n",
       "                        <td id=\"T_5247b_row8_col9\" class=\"data row8 col9\" >0.866581</td>\n",
       "                        <td id=\"T_5247b_row8_col10\" class=\"data row8 col10\" >0.737629</td>\n",
       "                        <td id=\"T_5247b_row8_col11\" class=\"data row8 col11\" >0.746873</td>\n",
       "                        <td id=\"T_5247b_row8_col12\" class=\"data row8 col12\" >0.698581</td>\n",
       "                        <td id=\"T_5247b_row8_col13\" class=\"data row8 col13\" >0.081238</td>\n",
       "                        <td id=\"T_5247b_row8_col14\" class=\"data row8 col14\" >0.163368</td>\n",
       "                        <td id=\"T_5247b_row8_col15\" class=\"data row8 col15\" >0.009285</td>\n",
       "                        <td id=\"T_5247b_row8_col16\" class=\"data row8 col16\" >-0.135139</td>\n",
       "            </tr>\n",
       "            <tr>\n",
       "                        <th id=\"T_5247b_level0_row9\" class=\"row_heading level0 row9\" >Electricity</th>\n",
       "                        <td id=\"T_5247b_row9_col0\" class=\"data row9 col0\" >-0.735675</td>\n",
       "                        <td id=\"T_5247b_row9_col1\" class=\"data row9 col1\" >-0.607732</td>\n",
       "                        <td id=\"T_5247b_row9_col2\" class=\"data row9 col2\" >-0.541753</td>\n",
       "                        <td id=\"T_5247b_row9_col3\" class=\"data row9 col3\" >0.469375</td>\n",
       "                        <td id=\"T_5247b_row9_col4\" class=\"data row9 col4\" >-0.498712</td>\n",
       "                        <td id=\"T_5247b_row9_col5\" class=\"data row9 col5\" >-0.144330</td>\n",
       "                        <td id=\"T_5247b_row9_col6\" class=\"data row9 col6\" >0.459279</td>\n",
       "                        <td id=\"T_5247b_row9_col7\" class=\"data row9 col7\" >0.525774</td>\n",
       "                        <td id=\"T_5247b_row9_col8\" class=\"data row9 col8\" >0.866581</td>\n",
       "                        <td id=\"T_5247b_row9_col9\" class=\"data row9 col9\" >1.000000</td>\n",
       "                        <td id=\"T_5247b_row9_col10\" class=\"data row9 col10\" >0.880671</td>\n",
       "                        <td id=\"T_5247b_row9_col11\" class=\"data row9 col11\" >0.714636</td>\n",
       "                        <td id=\"T_5247b_row9_col12\" class=\"data row9 col12\" >0.807742</td>\n",
       "                        <td id=\"T_5247b_row9_col13\" class=\"data row9 col13\" >-0.098259</td>\n",
       "                        <td id=\"T_5247b_row9_col14\" class=\"data row9 col14\" >-0.072207</td>\n",
       "                        <td id=\"T_5247b_row9_col15\" class=\"data row9 col15\" >-0.270940</td>\n",
       "                        <td id=\"T_5247b_row9_col16\" class=\"data row9 col16\" >-0.298388</td>\n",
       "            </tr>\n",
       "            <tr>\n",
       "                        <th id=\"T_5247b_level0_row10\" class=\"row_heading level0 row10\" >Computer</th>\n",
       "                        <td id=\"T_5247b_row10_col0\" class=\"data row10 col0\" >-0.594915</td>\n",
       "                        <td id=\"T_5247b_row10_col1\" class=\"data row10 col1\" >-0.532561</td>\n",
       "                        <td id=\"T_5247b_row10_col2\" class=\"data row10 col2\" >-0.540026</td>\n",
       "                        <td id=\"T_5247b_row10_col3\" class=\"data row10 col3\" >0.459240</td>\n",
       "                        <td id=\"T_5247b_row10_col4\" class=\"data row10 col4\" >-0.433719</td>\n",
       "                        <td id=\"T_5247b_row10_col5\" class=\"data row10 col5\" >-0.138739</td>\n",
       "                        <td id=\"T_5247b_row10_col6\" class=\"data row10 col6\" >0.435779</td>\n",
       "                        <td id=\"T_5247b_row10_col7\" class=\"data row10 col7\" >0.538481</td>\n",
       "                        <td id=\"T_5247b_row10_col8\" class=\"data row10 col8\" >0.737629</td>\n",
       "                        <td id=\"T_5247b_row10_col9\" class=\"data row10 col9\" >0.880671</td>\n",
       "                        <td id=\"T_5247b_row10_col10\" class=\"data row10 col10\" >1.000000</td>\n",
       "                        <td id=\"T_5247b_row10_col11\" class=\"data row10 col11\" >0.755184</td>\n",
       "                        <td id=\"T_5247b_row10_col12\" class=\"data row10 col12\" >0.796650</td>\n",
       "                        <td id=\"T_5247b_row10_col13\" class=\"data row10 col13\" >-0.307148</td>\n",
       "                        <td id=\"T_5247b_row10_col14\" class=\"data row10 col14\" >-0.293993</td>\n",
       "                        <td id=\"T_5247b_row10_col15\" class=\"data row10 col15\" >-0.365767</td>\n",
       "                        <td id=\"T_5247b_row10_col16\" class=\"data row10 col16\" >-0.332647</td>\n",
       "            </tr>\n",
       "            <tr>\n",
       "                        <th id=\"T_5247b_level0_row11\" class=\"row_heading level0 row11\" >Boys toilet</th>\n",
       "                        <td id=\"T_5247b_row11_col0\" class=\"data row11 col0\" >-0.553430</td>\n",
       "                        <td id=\"T_5247b_row11_col1\" class=\"data row11 col1\" >-0.571282</td>\n",
       "                        <td id=\"T_5247b_row11_col2\" class=\"data row11 col2\" >-0.473535</td>\n",
       "                        <td id=\"T_5247b_row11_col3\" class=\"data row11 col3\" >0.358763</td>\n",
       "                        <td id=\"T_5247b_row11_col4\" class=\"data row11 col4\" >-0.393690</td>\n",
       "                        <td id=\"T_5247b_row11_col5\" class=\"data row11 col5\" >-0.082936</td>\n",
       "                        <td id=\"T_5247b_row11_col6\" class=\"data row11 col6\" >0.344108</td>\n",
       "                        <td id=\"T_5247b_row11_col7\" class=\"data row11 col7\" >0.404507</td>\n",
       "                        <td id=\"T_5247b_row11_col8\" class=\"data row11 col8\" >0.746873</td>\n",
       "                        <td id=\"T_5247b_row11_col9\" class=\"data row11 col9\" >0.714636</td>\n",
       "                        <td id=\"T_5247b_row11_col10\" class=\"data row11 col10\" >0.755184</td>\n",
       "                        <td id=\"T_5247b_row11_col11\" class=\"data row11 col11\" >1.000000</td>\n",
       "                        <td id=\"T_5247b_row11_col12\" class=\"data row11 col12\" >0.882785</td>\n",
       "                        <td id=\"T_5247b_row11_col13\" class=\"data row11 col13\" >-0.175644</td>\n",
       "                        <td id=\"T_5247b_row11_col14\" class=\"data row11 col14\" >-0.145223</td>\n",
       "                        <td id=\"T_5247b_row11_col15\" class=\"data row11 col15\" >-0.061860</td>\n",
       "                        <td id=\"T_5247b_row11_col16\" class=\"data row11 col16\" >-0.263209</td>\n",
       "            </tr>\n",
       "            <tr>\n",
       "                        <th id=\"T_5247b_level0_row12\" class=\"row_heading level0 row12\" >Girls toilet</th>\n",
       "                        <td id=\"T_5247b_row12_col0\" class=\"data row12 col0\" >-0.504931</td>\n",
       "                        <td id=\"T_5247b_row12_col1\" class=\"data row12 col1\" >-0.464949</td>\n",
       "                        <td id=\"T_5247b_row12_col2\" class=\"data row12 col2\" >-0.391753</td>\n",
       "                        <td id=\"T_5247b_row12_col3\" class=\"data row12 col3\" >0.403611</td>\n",
       "                        <td id=\"T_5247b_row12_col4\" class=\"data row12 col4\" >-0.286598</td>\n",
       "                        <td id=\"T_5247b_row12_col5\" class=\"data row12 col5\" >0.047423</td>\n",
       "                        <td id=\"T_5247b_row12_col6\" class=\"data row12 col6\" >0.442526</td>\n",
       "                        <td id=\"T_5247b_row12_col7\" class=\"data row12 col7\" >0.371134</td>\n",
       "                        <td id=\"T_5247b_row12_col8\" class=\"data row12 col8\" >0.698581</td>\n",
       "                        <td id=\"T_5247b_row12_col9\" class=\"data row12 col9\" >0.807742</td>\n",
       "                        <td id=\"T_5247b_row12_col10\" class=\"data row12 col10\" >0.796650</td>\n",
       "                        <td id=\"T_5247b_row12_col11\" class=\"data row12 col11\" >0.882785</td>\n",
       "                        <td id=\"T_5247b_row12_col12\" class=\"data row12 col12\" >1.000000</td>\n",
       "                        <td id=\"T_5247b_row12_col13\" class=\"data row12 col13\" >-0.223469</td>\n",
       "                        <td id=\"T_5247b_row12_col14\" class=\"data row12 col14\" >-0.232996</td>\n",
       "                        <td id=\"T_5247b_row12_col15\" class=\"data row12 col15\" >-0.214456</td>\n",
       "                        <td id=\"T_5247b_row12_col16\" class=\"data row12 col16\" >-0.397937</td>\n",
       "            </tr>\n",
       "            <tr>\n",
       "                        <th id=\"T_5247b_level0_row13\" class=\"row_heading level0 row13\" >PTR-Primary</th>\n",
       "                        <td id=\"T_5247b_row13_col0\" class=\"data row13 col0\" >-0.103060</td>\n",
       "                        <td id=\"T_5247b_row13_col1\" class=\"data row13 col1\" >0.043657</td>\n",
       "                        <td id=\"T_5247b_row13_col2\" class=\"data row13 col2\" >0.275853</td>\n",
       "                        <td id=\"T_5247b_row13_col3\" class=\"data row13 col3\" >-0.355863</td>\n",
       "                        <td id=\"T_5247b_row13_col4\" class=\"data row13 col4\" >-0.004121</td>\n",
       "                        <td id=\"T_5247b_row13_col5\" class=\"data row13 col5\" >-0.103155</td>\n",
       "                        <td id=\"T_5247b_row13_col6\" class=\"data row13 col6\" >-0.473149</td>\n",
       "                        <td id=\"T_5247b_row13_col7\" class=\"data row13 col7\" >-0.359562</td>\n",
       "                        <td id=\"T_5247b_row13_col8\" class=\"data row13 col8\" >0.081238</td>\n",
       "                        <td id=\"T_5247b_row13_col9\" class=\"data row13 col9\" >-0.098259</td>\n",
       "                        <td id=\"T_5247b_row13_col10\" class=\"data row13 col10\" >-0.307148</td>\n",
       "                        <td id=\"T_5247b_row13_col11\" class=\"data row13 col11\" >-0.175644</td>\n",
       "                        <td id=\"T_5247b_row13_col12\" class=\"data row13 col12\" >-0.223469</td>\n",
       "                        <td id=\"T_5247b_row13_col13\" class=\"data row13 col13\" >1.000000</td>\n",
       "                        <td id=\"T_5247b_row13_col14\" class=\"data row13 col14\" >0.895303</td>\n",
       "                        <td id=\"T_5247b_row13_col15\" class=\"data row13 col15\" >0.486951</td>\n",
       "                        <td id=\"T_5247b_row13_col16\" class=\"data row13 col16\" >0.566817</td>\n",
       "            </tr>\n",
       "            <tr>\n",
       "                        <th id=\"T_5247b_level0_row14\" class=\"row_heading level0 row14\" >PTR-Upper Primary</th>\n",
       "                        <td id=\"T_5247b_row14_col0\" class=\"data row14 col0\" >-0.227747</td>\n",
       "                        <td id=\"T_5247b_row14_col1\" class=\"data row14 col1\" >-0.120018</td>\n",
       "                        <td id=\"T_5247b_row14_col2\" class=\"data row14 col2\" >0.134956</td>\n",
       "                        <td id=\"T_5247b_row14_col3\" class=\"data row14 col3\" >-0.370273</td>\n",
       "                        <td id=\"T_5247b_row14_col4\" class=\"data row14 col4\" >-0.086150</td>\n",
       "                        <td id=\"T_5247b_row14_col5\" class=\"data row14 col5\" >-0.108686</td>\n",
       "                        <td id=\"T_5247b_row14_col6\" class=\"data row14 col6\" >-0.297341</td>\n",
       "                        <td id=\"T_5247b_row14_col7\" class=\"data row14 col7\" >-0.188397</td>\n",
       "                        <td id=\"T_5247b_row14_col8\" class=\"data row14 col8\" >0.163368</td>\n",
       "                        <td id=\"T_5247b_row14_col9\" class=\"data row14 col9\" >-0.072207</td>\n",
       "                        <td id=\"T_5247b_row14_col10\" class=\"data row14 col10\" >-0.293993</td>\n",
       "                        <td id=\"T_5247b_row14_col11\" class=\"data row14 col11\" >-0.145223</td>\n",
       "                        <td id=\"T_5247b_row14_col12\" class=\"data row14 col12\" >-0.232996</td>\n",
       "                        <td id=\"T_5247b_row14_col13\" class=\"data row14 col13\" >0.895303</td>\n",
       "                        <td id=\"T_5247b_row14_col14\" class=\"data row14 col14\" >1.000000</td>\n",
       "                        <td id=\"T_5247b_row14_col15\" class=\"data row14 col15\" >0.629253</td>\n",
       "                        <td id=\"T_5247b_row14_col16\" class=\"data row14 col16\" >0.584047</td>\n",
       "            </tr>\n",
       "            <tr>\n",
       "                        <th id=\"T_5247b_level0_row15\" class=\"row_heading level0 row15\" >PTR-Secondary</th>\n",
       "                        <td id=\"T_5247b_row15_col0\" class=\"data row15 col0\" >-0.015009</td>\n",
       "                        <td id=\"T_5247b_row15_col1\" class=\"data row15 col1\" >0.097753</td>\n",
       "                        <td id=\"T_5247b_row15_col2\" class=\"data row15 col2\" >0.188422</td>\n",
       "                        <td id=\"T_5247b_row15_col3\" class=\"data row15 col3\" >-0.227721</td>\n",
       "                        <td id=\"T_5247b_row15_col4\" class=\"data row15 col4\" >0.014167</td>\n",
       "                        <td id=\"T_5247b_row15_col5\" class=\"data row15 col5\" >0.032069</td>\n",
       "                        <td id=\"T_5247b_row15_col6\" class=\"data row15 col6\" >-0.319789</td>\n",
       "                        <td id=\"T_5247b_row15_col7\" class=\"data row15 col7\" >-0.230279</td>\n",
       "                        <td id=\"T_5247b_row15_col8\" class=\"data row15 col8\" >0.009285</td>\n",
       "                        <td id=\"T_5247b_row15_col9\" class=\"data row15 col9\" >-0.270940</td>\n",
       "                        <td id=\"T_5247b_row15_col10\" class=\"data row15 col10\" >-0.365767</td>\n",
       "                        <td id=\"T_5247b_row15_col11\" class=\"data row15 col11\" >-0.061860</td>\n",
       "                        <td id=\"T_5247b_row15_col12\" class=\"data row15 col12\" >-0.214456</td>\n",
       "                        <td id=\"T_5247b_row15_col13\" class=\"data row15 col13\" >0.486951</td>\n",
       "                        <td id=\"T_5247b_row15_col14\" class=\"data row15 col14\" >0.629253</td>\n",
       "                        <td id=\"T_5247b_row15_col15\" class=\"data row15 col15\" >1.000000</td>\n",
       "                        <td id=\"T_5247b_row15_col16\" class=\"data row15 col16\" >0.642309</td>\n",
       "            </tr>\n",
       "            <tr>\n",
       "                        <th id=\"T_5247b_level0_row16\" class=\"row_heading level0 row16\" >PTR-Higher Secondary</th>\n",
       "                        <td id=\"T_5247b_row16_col0\" class=\"data row16 col0\" >0.140097</td>\n",
       "                        <td id=\"T_5247b_row16_col1\" class=\"data row16 col1\" >0.234128</td>\n",
       "                        <td id=\"T_5247b_row16_col2\" class=\"data row16 col2\" >0.249324</td>\n",
       "                        <td id=\"T_5247b_row16_col3\" class=\"data row16 col3\" >-0.288338</td>\n",
       "                        <td id=\"T_5247b_row16_col4\" class=\"data row16 col4\" >-0.087959</td>\n",
       "                        <td id=\"T_5247b_row16_col5\" class=\"data row16 col5\" >-0.276497</td>\n",
       "                        <td id=\"T_5247b_row16_col6\" class=\"data row16 col6\" >-0.650354</td>\n",
       "                        <td id=\"T_5247b_row16_col7\" class=\"data row16 col7\" >-0.327495</td>\n",
       "                        <td id=\"T_5247b_row16_col8\" class=\"data row16 col8\" >-0.135139</td>\n",
       "                        <td id=\"T_5247b_row16_col9\" class=\"data row16 col9\" >-0.298388</td>\n",
       "                        <td id=\"T_5247b_row16_col10\" class=\"data row16 col10\" >-0.332647</td>\n",
       "                        <td id=\"T_5247b_row16_col11\" class=\"data row16 col11\" >-0.263209</td>\n",
       "                        <td id=\"T_5247b_row16_col12\" class=\"data row16 col12\" >-0.397937</td>\n",
       "                        <td id=\"T_5247b_row16_col13\" class=\"data row16 col13\" >0.566817</td>\n",
       "                        <td id=\"T_5247b_row16_col14\" class=\"data row16 col14\" >0.584047</td>\n",
       "                        <td id=\"T_5247b_row16_col15\" class=\"data row16 col15\" >0.642309</td>\n",
       "                        <td id=\"T_5247b_row16_col16\" class=\"data row16 col16\" >1.000000</td>\n",
       "            </tr>\n",
       "    </tbody></table>"
      ],
      "text/plain": [
       "<pandas.io.formats.style.Styler at 0x2568e9ab280>"
      ]
     },
     "execution_count": 23,
     "metadata": {},
     "output_type": "execute_result"
    }
   ],
   "source": [
    "dataset.corr(method='spearman').style.background_gradient(cmap='coolwarm')"
   ]
  },
  {
   "cell_type": "markdown",
   "metadata": {},
   "source": [
    "### Observations\n",
    "\n",
    "* Dropouts are negatively correlated with factors. Children need more care. They need drinking water because they play a lot. If there isn't electricity, India primarily being a tropical country,discourage them to come to schools. WRITE BETTER AND FOR THE OTHER POINTS\n",
    "* Correlation with dropouts reduces with increasing age of students\n",
    "* Same thing observed in enrollments"
   ]
  },
  {
   "cell_type": "code",
   "execution_count": 24,
   "metadata": {},
   "outputs": [
    {
     "data": {
      "text/html": [
       "<div>\n",
       "<style scoped>\n",
       "    .dataframe tbody tr th:only-of-type {\n",
       "        vertical-align: middle;\n",
       "    }\n",
       "\n",
       "    .dataframe tbody tr th {\n",
       "        vertical-align: top;\n",
       "    }\n",
       "\n",
       "    .dataframe thead th {\n",
       "        text-align: right;\n",
       "    }\n",
       "</style>\n",
       "<table border=\"1\" class=\"dataframe\">\n",
       "  <thead>\n",
       "    <tr style=\"text-align: right;\">\n",
       "      <th></th>\n",
       "      <th>Drinking water</th>\n",
       "    </tr>\n",
       "    <tr>\n",
       "      <th>State</th>\n",
       "      <th></th>\n",
       "    </tr>\n",
       "  </thead>\n",
       "  <tbody>\n",
       "    <tr>\n",
       "      <th>Andaman &amp; Nicobar Islands</th>\n",
       "      <td>99.403333</td>\n",
       "    </tr>\n",
       "    <tr>\n",
       "      <th>Andhra Pradesh</th>\n",
       "      <td>93.153333</td>\n",
       "    </tr>\n",
       "    <tr>\n",
       "      <th>Arunachal Pradesh</th>\n",
       "      <td>80.633333</td>\n",
       "    </tr>\n",
       "    <tr>\n",
       "      <th>Assam</th>\n",
       "      <td>83.290000</td>\n",
       "    </tr>\n",
       "    <tr>\n",
       "      <th>Bihar</th>\n",
       "      <td>93.233333</td>\n",
       "    </tr>\n",
       "  </tbody>\n",
       "</table>\n",
       "</div>"
      ],
      "text/plain": [
       "                           Drinking water\n",
       "State                                    \n",
       "Andaman & Nicobar Islands       99.403333\n",
       "Andhra Pradesh                  93.153333\n",
       "Arunachal Pradesh               80.633333\n",
       "Assam                           83.290000\n",
       "Bihar                           93.233333"
      ]
     },
     "execution_count": 24,
     "metadata": {},
     "output_type": "execute_result"
    }
   ],
   "source": [
    "drinks.head()"
   ]
  },
  {
   "cell_type": "markdown",
   "metadata": {},
   "source": [
    "## Checking feature importance"
   ]
  },
  {
   "cell_type": "code",
   "execution_count": 90,
   "metadata": {},
   "outputs": [
    {
     "data": {
      "text/html": [
       "<style  type=\"text/css\" >\n",
       "#T_111af_row0_col0{\n",
       "            background-color:  #fff2ec;\n",
       "            color:  #000000;\n",
       "        }#T_111af_row0_col1{\n",
       "            background-color:  #fdcebb;\n",
       "            color:  #000000;\n",
       "        }#T_111af_row0_col2{\n",
       "            background-color:  #f75c41;\n",
       "            color:  #000000;\n",
       "        }#T_111af_row1_col0{\n",
       "            background-color:  #fff3ed;\n",
       "            color:  #000000;\n",
       "        }#T_111af_row1_col1{\n",
       "            background-color:  #fca98c;\n",
       "            color:  #000000;\n",
       "        }#T_111af_row1_col2{\n",
       "            background-color:  #fcab8f;\n",
       "            color:  #000000;\n",
       "        }#T_111af_row2_col0,#T_111af_row2_col2,#T_111af_row5_col1{\n",
       "            background-color:  #fff5f0;\n",
       "            color:  #000000;\n",
       "        }#T_111af_row2_col1{\n",
       "            background-color:  #fb7151;\n",
       "            color:  #000000;\n",
       "        }#T_111af_row3_col0,#T_111af_row11_col2{\n",
       "            background-color:  #e22e27;\n",
       "            color:  #f1f1f1;\n",
       "        }#T_111af_row3_col1{\n",
       "            background-color:  #fc9070;\n",
       "            color:  #000000;\n",
       "        }#T_111af_row3_col2{\n",
       "            background-color:  #fc8767;\n",
       "            color:  #000000;\n",
       "        }#T_111af_row4_col0{\n",
       "            background-color:  #fee5d9;\n",
       "            color:  #000000;\n",
       "        }#T_111af_row4_col1{\n",
       "            background-color:  #ffebe2;\n",
       "            color:  #000000;\n",
       "        }#T_111af_row4_col2{\n",
       "            background-color:  #c7171c;\n",
       "            color:  #f1f1f1;\n",
       "        }#T_111af_row5_col0{\n",
       "            background-color:  #fc8e6e;\n",
       "            color:  #000000;\n",
       "        }#T_111af_row5_col2{\n",
       "            background-color:  #9f0e14;\n",
       "            color:  #f1f1f1;\n",
       "        }#T_111af_row6_col0,#T_111af_row8_col0{\n",
       "            background-color:  #bd151a;\n",
       "            color:  #f1f1f1;\n",
       "        }#T_111af_row6_col1{\n",
       "            background-color:  #fedbcc;\n",
       "            color:  #000000;\n",
       "        }#T_111af_row6_col2{\n",
       "            background-color:  #a91016;\n",
       "            color:  #f1f1f1;\n",
       "        }#T_111af_row7_col0{\n",
       "            background-color:  #aa1016;\n",
       "            color:  #f1f1f1;\n",
       "        }#T_111af_row7_col1{\n",
       "            background-color:  #fc8969;\n",
       "            color:  #000000;\n",
       "        }#T_111af_row7_col2,#T_111af_row9_col0,#T_111af_row16_col1{\n",
       "            background-color:  #67000d;\n",
       "            color:  #f1f1f1;\n",
       "        }#T_111af_row8_col1{\n",
       "            background-color:  #be151a;\n",
       "            color:  #f1f1f1;\n",
       "        }#T_111af_row8_col2,#T_111af_row9_col1{\n",
       "            background-color:  #f0402f;\n",
       "            color:  #f1f1f1;\n",
       "        }#T_111af_row9_col2{\n",
       "            background-color:  #fb7d5d;\n",
       "            color:  #000000;\n",
       "        }#T_111af_row10_col0{\n",
       "            background-color:  #6b010e;\n",
       "            color:  #f1f1f1;\n",
       "        }#T_111af_row10_col1{\n",
       "            background-color:  #fa6849;\n",
       "            color:  #000000;\n",
       "        }#T_111af_row10_col2{\n",
       "            background-color:  #fc8161;\n",
       "            color:  #000000;\n",
       "        }#T_111af_row11_col0{\n",
       "            background-color:  #b11218;\n",
       "            color:  #f1f1f1;\n",
       "        }#T_111af_row11_col1{\n",
       "            background-color:  #f14130;\n",
       "            color:  #f1f1f1;\n",
       "        }#T_111af_row12_col0{\n",
       "            background-color:  #ac1117;\n",
       "            color:  #f1f1f1;\n",
       "        }#T_111af_row12_col1{\n",
       "            background-color:  #f14432;\n",
       "            color:  #f1f1f1;\n",
       "        }#T_111af_row12_col2{\n",
       "            background-color:  #ee3a2c;\n",
       "            color:  #f1f1f1;\n",
       "        }#T_111af_row13_col0{\n",
       "            background-color:  #fdd0bc;\n",
       "            color:  #000000;\n",
       "        }#T_111af_row13_col1{\n",
       "            background-color:  #7e0610;\n",
       "            color:  #f1f1f1;\n",
       "        }#T_111af_row13_col2{\n",
       "            background-color:  #e32f27;\n",
       "            color:  #f1f1f1;\n",
       "        }#T_111af_row14_col0{\n",
       "            background-color:  #fcc3ab;\n",
       "            color:  #000000;\n",
       "        }#T_111af_row14_col1{\n",
       "            background-color:  #77040f;\n",
       "            color:  #f1f1f1;\n",
       "        }#T_111af_row14_col2{\n",
       "            background-color:  #bb141a;\n",
       "            color:  #f1f1f1;\n",
       "        }#T_111af_row15_col0{\n",
       "            background-color:  #fee4d8;\n",
       "            color:  #000000;\n",
       "        }#T_111af_row15_col1{\n",
       "            background-color:  #9d0d14;\n",
       "            color:  #f1f1f1;\n",
       "        }#T_111af_row15_col2{\n",
       "            background-color:  #9a0c14;\n",
       "            color:  #f1f1f1;\n",
       "        }#T_111af_row16_col0{\n",
       "            background-color:  #fee0d2;\n",
       "            color:  #000000;\n",
       "        }#T_111af_row16_col2{\n",
       "            background-color:  #a60f15;\n",
       "            color:  #f1f1f1;\n",
       "        }</style><table id=\"T_111af_\" ><thead>    <tr>        <th class=\"blank level0\" ></th>        <th class=\"col_heading level0 col0\" >0</th>        <th class=\"col_heading level0 col1\" >1</th>        <th class=\"col_heading level0 col2\" >2</th>    </tr></thead><tbody>\n",
       "                <tr>\n",
       "                        <th id=\"T_111af_level0_row0\" class=\"row_heading level0 row0\" >Dropout-PRIMARY</th>\n",
       "                        <td id=\"T_111af_row0_col0\" class=\"data row0 col0\" >-0.605367</td>\n",
       "                        <td id=\"T_111af_row0_col1\" class=\"data row0 col1\" >-0.448930</td>\n",
       "                        <td id=\"T_111af_row0_col2\" class=\"data row0 col2\" >0.047109</td>\n",
       "            </tr>\n",
       "            <tr>\n",
       "                        <th id=\"T_111af_level0_row1\" class=\"row_heading level0 row1\" >Dropout-UPPER_PRIMARY</th>\n",
       "                        <td id=\"T_111af_row1_col0\" class=\"data row1 col0\" >-0.611272</td>\n",
       "                        <td id=\"T_111af_row1_col1\" class=\"data row1 col1\" >-0.270419</td>\n",
       "                        <td id=\"T_111af_row1_col2\" class=\"data row1 col2\" >-0.210429</td>\n",
       "            </tr>\n",
       "            <tr>\n",
       "                        <th id=\"T_111af_level0_row2\" class=\"row_heading level0 row2\" >Dropout-SECONDARY</th>\n",
       "                        <td id=\"T_111af_row2_col0\" class=\"data row2 col0\" >-0.631073</td>\n",
       "                        <td id=\"T_111af_row2_col1\" class=\"data row2 col1\" >-0.016987</td>\n",
       "                        <td id=\"T_111af_row2_col2\" class=\"data row2 col2\" >-0.535872</td>\n",
       "            </tr>\n",
       "            <tr>\n",
       "                        <th id=\"T_111af_level0_row3\" class=\"row_heading level0 row3\" >Dropout-HRSECONDARY</th>\n",
       "                        <td id=\"T_111af_row3_col0\" class=\"data row3 col0\" >0.412864</td>\n",
       "                        <td id=\"T_111af_row3_col1\" class=\"data row3 col1\" >-0.160236</td>\n",
       "                        <td id=\"T_111af_row3_col2\" class=\"data row3 col2\" >-0.091888</td>\n",
       "            </tr>\n",
       "            <tr>\n",
       "                        <th id=\"T_111af_level0_row4\" class=\"row_heading level0 row4\" >Enrollments-Primary</th>\n",
       "                        <td id=\"T_111af_row4_col0\" class=\"data row4 col0\" >-0.482652</td>\n",
       "                        <td id=\"T_111af_row4_col1\" class=\"data row4 col1\" >-0.635357</td>\n",
       "                        <td id=\"T_111af_row4_col2\" class=\"data row4 col2\" >0.297179</td>\n",
       "            </tr>\n",
       "            <tr>\n",
       "                        <th id=\"T_111af_level0_row5\" class=\"row_heading level0 row5\" >Enrollments-Upper_Primary</th>\n",
       "                        <td id=\"T_111af_row5_col0\" class=\"data row5 col0\" >-0.028903</td>\n",
       "                        <td id=\"T_111af_row5_col1\" class=\"data row5 col1\" >-0.723007</td>\n",
       "                        <td id=\"T_111af_row5_col2\" class=\"data row5 col2\" >0.427753</td>\n",
       "            </tr>\n",
       "            <tr>\n",
       "                        <th id=\"T_111af_level0_row6\" class=\"row_heading level0 row6\" >Enrollments-Secondary</th>\n",
       "                        <td id=\"T_111af_row6_col0\" class=\"data row6 col0\" >0.606071</td>\n",
       "                        <td id=\"T_111af_row6_col1\" class=\"data row6 col1\" >-0.511391</td>\n",
       "                        <td id=\"T_111af_row6_col2\" class=\"data row6 col2\" >0.403274</td>\n",
       "            </tr>\n",
       "            <tr>\n",
       "                        <th id=\"T_111af_level0_row7\" class=\"row_heading level0 row7\" >Enrollments-Higher_Secondary</th>\n",
       "                        <td id=\"T_111af_row7_col0\" class=\"data row7 col0\" >0.704590</td>\n",
       "                        <td id=\"T_111af_row7_col1\" class=\"data row7 col1\" >-0.122832</td>\n",
       "                        <td id=\"T_111af_row7_col2\" class=\"data row7 col2\" >0.552387</td>\n",
       "            </tr>\n",
       "            <tr>\n",
       "                        <th id=\"T_111af_level0_row8\" class=\"row_heading level0 row8\" >Drinking water</th>\n",
       "                        <td id=\"T_111af_row8_col0\" class=\"data row8 col0\" >0.605336</td>\n",
       "                        <td id=\"T_111af_row8_col1\" class=\"data row8 col1\" >0.442926</td>\n",
       "                        <td id=\"T_111af_row8_col2\" class=\"data row8 col2\" >0.129574</td>\n",
       "            </tr>\n",
       "            <tr>\n",
       "                        <th id=\"T_111af_level0_row9\" class=\"row_heading level0 row9\" >Electricity</th>\n",
       "                        <td id=\"T_111af_row9_col0\" class=\"data row9 col0\" >0.925155</td>\n",
       "                        <td id=\"T_111af_row9_col1\" class=\"data row9 col1\" >0.182813</td>\n",
       "                        <td id=\"T_111af_row9_col2\" class=\"data row9 col2\" >-0.056075</td>\n",
       "            </tr>\n",
       "            <tr>\n",
       "                        <th id=\"T_111af_level0_row10\" class=\"row_heading level0 row10\" >Computer</th>\n",
       "                        <td id=\"T_111af_row10_col0\" class=\"data row10 col0\" >0.908568</td>\n",
       "                        <td id=\"T_111af_row10_col1\" class=\"data row10 col1\" >0.027022</td>\n",
       "                        <td id=\"T_111af_row10_col2\" class=\"data row10 col2\" >-0.071563</td>\n",
       "            </tr>\n",
       "            <tr>\n",
       "                        <th id=\"T_111af_level0_row11\" class=\"row_heading level0 row11\" >Boys toilet</th>\n",
       "                        <td id=\"T_111af_row11_col0\" class=\"data row11 col0\" >0.667180</td>\n",
       "                        <td id=\"T_111af_row11_col1\" class=\"data row11 col1\" >0.175650</td>\n",
       "                        <td id=\"T_111af_row11_col2\" class=\"data row11 col2\" >0.191686</td>\n",
       "            </tr>\n",
       "            <tr>\n",
       "                        <th id=\"T_111af_level0_row12\" class=\"row_heading level0 row12\" >Girls toilet</th>\n",
       "                        <td id=\"T_111af_row12_col0\" class=\"data row12 col0\" >0.688874</td>\n",
       "                        <td id=\"T_111af_row12_col1\" class=\"data row12 col1\" >0.163650</td>\n",
       "                        <td id=\"T_111af_row12_col2\" class=\"data row12 col2\" >0.144995</td>\n",
       "            </tr>\n",
       "            <tr>\n",
       "                        <th id=\"T_111af_level0_row13\" class=\"row_heading level0 row13\" >PTR-Primary</th>\n",
       "                        <td id=\"T_111af_row13_col0\" class=\"data row13 col0\" >-0.348016</td>\n",
       "                        <td id=\"T_111af_row13_col1\" class=\"data row13 col1\" >0.681566</td>\n",
       "                        <td id=\"T_111af_row13_col2\" class=\"data row13 col2\" >0.191033</td>\n",
       "            </tr>\n",
       "            <tr>\n",
       "                        <th id=\"T_111af_level0_row14\" class=\"row_heading level0 row14\" >PTR-Upper Primary</th>\n",
       "                        <td id=\"T_111af_row14_col0\" class=\"data row14 col0\" >-0.279693</td>\n",
       "                        <td id=\"T_111af_row14_col1\" class=\"data row14 col1\" >0.707498</td>\n",
       "                        <td id=\"T_111af_row14_col2\" class=\"data row14 col2\" >0.337248</td>\n",
       "            </tr>\n",
       "            <tr>\n",
       "                        <th id=\"T_111af_level0_row15\" class=\"row_heading level0 row15\" >PTR-Secondary</th>\n",
       "                        <td id=\"T_111af_row15_col0\" class=\"data row15 col0\" >-0.469275</td>\n",
       "                        <td id=\"T_111af_row15_col1\" class=\"data row15 col1\" >0.592761</td>\n",
       "                        <td id=\"T_111af_row15_col2\" class=\"data row15 col2\" >0.437909</td>\n",
       "            </tr>\n",
       "            <tr>\n",
       "                        <th id=\"T_111af_level0_row16\" class=\"row_heading level0 row16\" >PTR-Higher Secondary</th>\n",
       "                        <td id=\"T_111af_row16_col0\" class=\"data row16 col0\" >-0.433361</td>\n",
       "                        <td id=\"T_111af_row16_col1\" class=\"data row16 col1\" >0.754515</td>\n",
       "                        <td id=\"T_111af_row16_col2\" class=\"data row16 col2\" >0.411774</td>\n",
       "            </tr>\n",
       "    </tbody></table>"
      ],
      "text/plain": [
       "<pandas.io.formats.style.Styler at 0x256a29194f0>"
      ]
     },
     "execution_count": 90,
     "metadata": {},
     "output_type": "execute_result"
    }
   ],
   "source": [
    "#Using SVD to find feature importance\r\n",
    "'''\r\n",
    "vals=np.array(dataset)\r\n",
    "u,sig,v_t=np.linalg.svd(vals)\r\n",
    "feature_imp=pd.Series(sig,index=list(dataset.columns))\r\n",
    "feature_imp.index.name=\"Feature\"\r\n",
    "feature_imp.name=\"Explained variance\"\r\n",
    "var_exp=pd.DataFrame(feature_imp)\r\n",
    "tot=var_exp['Explained variance'].sum()\r\n",
    "var_exp['Explained variance'] = var_exp['Explained variance']/tot*100\r\n",
    "var_exp.sort_values(['Explained variance'],ascending=False,inplace=True)\r\n",
    "\r\n",
    "exp_var=[]\r\n",
    "for i in range(1,var_exp.shape[0]+1):\r\n",
    "    exp_var.append(var_exp['Explained variance'].iloc[0:i].sum())\r\n",
    "pd.concat([var_exp,pd.DataFrame(exp_var,index=var_exp.index, columns=['Cumulative explained variance'])],axis=1)\r\n",
    "'''\r\n",
    "\r\n",
    "from sklearn.decomposition import PCA\r\n",
    "p=PCA(n_components=3)\r\n",
    "clusters_X=p.fit_transform(dataset)\r\n",
    "\r\n",
    "for_factor_loadings = pd.concat([dataset,pd.DataFrame(clusters_X)], axis=1)\r\n",
    "for_factor_loadings.corr().iloc[:-3,-3:].style.background_gradient(cmap='Reds')"
   ]
  },
  {
   "cell_type": "markdown",
   "metadata": {},
   "source": [
    "`Observations`:\n",
    "\n",
    "* All the dropout and enrollment features explain enough variance according to the Kaizen criteria\n",
    "* Among the different factors, \"Drinking water\" and \"Electricity\" explain enough variance according to the Kaizen criteria"
   ]
  },
  {
   "cell_type": "markdown",
   "metadata": {},
   "source": [
    "Dropout rates in `primary` school define the maximum difference in education between the states"
   ]
  },
  {
   "cell_type": "code",
   "execution_count": 35,
   "metadata": {},
   "outputs": [],
   "source": [
    "X = dataset.drop(['Computer'], axis=1)\r\n",
    "y = dataset.Computer"
   ]
  },
  {
   "cell_type": "code",
   "execution_count": 36,
   "metadata": {},
   "outputs": [
    {
     "data": {
      "text/html": [
       "<table class=\"simpletable\">\n",
       "<caption>OLS Regression Results</caption>\n",
       "<tr>\n",
       "  <th>Dep. Variable:</th>        <td>Computer</td>     <th>  R-squared (uncentered):</th>      <td>   0.936</td>\n",
       "</tr>\n",
       "<tr>\n",
       "  <th>Model:</th>                   <td>OLS</td>       <th>  Adj. R-squared (uncentered):</th> <td>   0.884</td>\n",
       "</tr>\n",
       "<tr>\n",
       "  <th>Method:</th>             <td>Least Squares</td>  <th>  F-statistic:       </th>          <td>   18.20</td>\n",
       "</tr>\n",
       "<tr>\n",
       "  <th>Date:</th>             <td>Mon, 28 Jun 2021</td> <th>  Prob (F-statistic):</th>          <td>1.54e-08</td>\n",
       "</tr>\n",
       "<tr>\n",
       "  <th>Time:</th>                 <td>23:23:13</td>     <th>  Log-Likelihood:    </th>          <td> -141.58</td>\n",
       "</tr>\n",
       "<tr>\n",
       "  <th>No. Observations:</th>      <td>    36</td>      <th>  AIC:               </th>          <td>   315.2</td>\n",
       "</tr>\n",
       "<tr>\n",
       "  <th>Df Residuals:</th>          <td>    20</td>      <th>  BIC:               </th>          <td>   340.5</td>\n",
       "</tr>\n",
       "<tr>\n",
       "  <th>Df Model:</th>              <td>    16</td>      <th>                     </th>              <td> </td>   \n",
       "</tr>\n",
       "<tr>\n",
       "  <th>Covariance Type:</th>      <td>nonrobust</td>    <th>                     </th>              <td> </td>   \n",
       "</tr>\n",
       "</table>\n",
       "<table class=\"simpletable\">\n",
       "<tr>\n",
       "                <td></td>                  <th>coef</th>     <th>std err</th>      <th>t</th>      <th>P>|t|</th>  <th>[0.025</th>    <th>0.975]</th>  \n",
       "</tr>\n",
       "<tr>\n",
       "  <th>Dropout-PRIMARY</th>              <td>   -2.6590</td> <td>    2.495</td> <td>   -1.066</td> <td> 0.299</td> <td>   -7.864</td> <td>    2.546</td>\n",
       "</tr>\n",
       "<tr>\n",
       "  <th>Dropout-UPPER_PRIMARY</th>        <td>    1.8632</td> <td>    2.357</td> <td>    0.791</td> <td> 0.438</td> <td>   -3.053</td> <td>    6.779</td>\n",
       "</tr>\n",
       "<tr>\n",
       "  <th>Dropout-SECONDARY</th>            <td>    0.6815</td> <td>    0.900</td> <td>    0.758</td> <td> 0.457</td> <td>   -1.195</td> <td>    2.558</td>\n",
       "</tr>\n",
       "<tr>\n",
       "  <th>Dropout-HRSECONDARY</th>          <td>   -0.4673</td> <td>    0.764</td> <td>   -0.611</td> <td> 0.548</td> <td>   -2.062</td> <td>    1.127</td>\n",
       "</tr>\n",
       "<tr>\n",
       "  <th>Enrollments-Primary</th>          <td>   -1.1401</td> <td>    0.545</td> <td>   -2.091</td> <td> 0.050</td> <td>   -2.278</td> <td>   -0.003</td>\n",
       "</tr>\n",
       "<tr>\n",
       "  <th>Enrollments-Upper_Primary</th>    <td>    1.0556</td> <td>    0.532</td> <td>    1.984</td> <td> 0.061</td> <td>   -0.054</td> <td>    2.166</td>\n",
       "</tr>\n",
       "<tr>\n",
       "  <th>Enrollments-Secondary</th>        <td>   -0.5534</td> <td>    0.568</td> <td>   -0.974</td> <td> 0.342</td> <td>   -1.739</td> <td>    0.632</td>\n",
       "</tr>\n",
       "<tr>\n",
       "  <th>Enrollments-Higher_Secondary</th> <td>    0.9075</td> <td>    0.460</td> <td>    1.972</td> <td> 0.063</td> <td>   -0.052</td> <td>    1.867</td>\n",
       "</tr>\n",
       "<tr>\n",
       "  <th>Drinking water</th>               <td>   -0.8386</td> <td>    0.814</td> <td>   -1.031</td> <td> 0.315</td> <td>   -2.536</td> <td>    0.859</td>\n",
       "</tr>\n",
       "<tr>\n",
       "  <th>Electricity</th>                  <td>    0.1445</td> <td>    0.271</td> <td>    0.533</td> <td> 0.600</td> <td>   -0.421</td> <td>    0.710</td>\n",
       "</tr>\n",
       "<tr>\n",
       "  <th>Boys toilet</th>                  <td>    1.2943</td> <td>    0.785</td> <td>    1.648</td> <td> 0.115</td> <td>   -0.344</td> <td>    2.932</td>\n",
       "</tr>\n",
       "<tr>\n",
       "  <th>Girls toilet</th>                 <td>   -0.0274</td> <td>    1.367</td> <td>   -0.020</td> <td> 0.984</td> <td>   -2.880</td> <td>    2.825</td>\n",
       "</tr>\n",
       "<tr>\n",
       "  <th>PTR-Primary</th>                  <td>    2.6095</td> <td>    1.221</td> <td>    2.137</td> <td> 0.045</td> <td>    0.062</td> <td>    5.157</td>\n",
       "</tr>\n",
       "<tr>\n",
       "  <th>PTR-Upper Primary</th>            <td>   -3.0253</td> <td>    1.431</td> <td>   -2.115</td> <td> 0.047</td> <td>   -6.009</td> <td>   -0.041</td>\n",
       "</tr>\n",
       "<tr>\n",
       "  <th>PTR-Secondary</th>                <td>   -0.8877</td> <td>    0.551</td> <td>   -1.611</td> <td> 0.123</td> <td>   -2.037</td> <td>    0.262</td>\n",
       "</tr>\n",
       "<tr>\n",
       "  <th>PTR-Higher Secondary</th>         <td>    0.2398</td> <td>    0.419</td> <td>    0.572</td> <td> 0.574</td> <td>   -0.635</td> <td>    1.114</td>\n",
       "</tr>\n",
       "</table>\n",
       "<table class=\"simpletable\">\n",
       "<tr>\n",
       "  <th>Omnibus:</th>       <td> 5.139</td> <th>  Durbin-Watson:     </th> <td>   1.740</td>\n",
       "</tr>\n",
       "<tr>\n",
       "  <th>Prob(Omnibus):</th> <td> 0.077</td> <th>  Jarque-Bera (JB):  </th> <td>   5.379</td>\n",
       "</tr>\n",
       "<tr>\n",
       "  <th>Skew:</th>          <td>-0.225</td> <th>  Prob(JB):          </th> <td>  0.0679</td>\n",
       "</tr>\n",
       "<tr>\n",
       "  <th>Kurtosis:</th>      <td> 4.840</td> <th>  Cond. No.          </th> <td>    309.</td>\n",
       "</tr>\n",
       "</table><br/><br/>Notes:<br/>[1] R² is computed without centering (uncentered) since the model does not contain a constant.<br/>[2] Standard Errors assume that the covariance matrix of the errors is correctly specified."
      ],
      "text/plain": [
       "<class 'statsmodels.iolib.summary.Summary'>\n",
       "\"\"\"\n",
       "                                 OLS Regression Results                                \n",
       "=======================================================================================\n",
       "Dep. Variable:               Computer   R-squared (uncentered):                   0.936\n",
       "Model:                            OLS   Adj. R-squared (uncentered):              0.884\n",
       "Method:                 Least Squares   F-statistic:                              18.20\n",
       "Date:                Mon, 28 Jun 2021   Prob (F-statistic):                    1.54e-08\n",
       "Time:                        23:23:13   Log-Likelihood:                         -141.58\n",
       "No. Observations:                  36   AIC:                                      315.2\n",
       "Df Residuals:                      20   BIC:                                      340.5\n",
       "Df Model:                          16                                                  \n",
       "Covariance Type:            nonrobust                                                  \n",
       "================================================================================================\n",
       "                                   coef    std err          t      P>|t|      [0.025      0.975]\n",
       "------------------------------------------------------------------------------------------------\n",
       "Dropout-PRIMARY                 -2.6590      2.495     -1.066      0.299      -7.864       2.546\n",
       "Dropout-UPPER_PRIMARY            1.8632      2.357      0.791      0.438      -3.053       6.779\n",
       "Dropout-SECONDARY                0.6815      0.900      0.758      0.457      -1.195       2.558\n",
       "Dropout-HRSECONDARY             -0.4673      0.764     -0.611      0.548      -2.062       1.127\n",
       "Enrollments-Primary             -1.1401      0.545     -2.091      0.050      -2.278      -0.003\n",
       "Enrollments-Upper_Primary        1.0556      0.532      1.984      0.061      -0.054       2.166\n",
       "Enrollments-Secondary           -0.5534      0.568     -0.974      0.342      -1.739       0.632\n",
       "Enrollments-Higher_Secondary     0.9075      0.460      1.972      0.063      -0.052       1.867\n",
       "Drinking water                  -0.8386      0.814     -1.031      0.315      -2.536       0.859\n",
       "Electricity                      0.1445      0.271      0.533      0.600      -0.421       0.710\n",
       "Boys toilet                      1.2943      0.785      1.648      0.115      -0.344       2.932\n",
       "Girls toilet                    -0.0274      1.367     -0.020      0.984      -2.880       2.825\n",
       "PTR-Primary                      2.6095      1.221      2.137      0.045       0.062       5.157\n",
       "PTR-Upper Primary               -3.0253      1.431     -2.115      0.047      -6.009      -0.041\n",
       "PTR-Secondary                   -0.8877      0.551     -1.611      0.123      -2.037       0.262\n",
       "PTR-Higher Secondary             0.2398      0.419      0.572      0.574      -0.635       1.114\n",
       "==============================================================================\n",
       "Omnibus:                        5.139   Durbin-Watson:                   1.740\n",
       "Prob(Omnibus):                  0.077   Jarque-Bera (JB):                5.379\n",
       "Skew:                          -0.225   Prob(JB):                       0.0679\n",
       "Kurtosis:                       4.840   Cond. No.                         309.\n",
       "==============================================================================\n",
       "\n",
       "Notes:\n",
       "[1] R² is computed without centering (uncentered) since the model does not contain a constant.\n",
       "[2] Standard Errors assume that the covariance matrix of the errors is correctly specified.\n",
       "\"\"\""
      ]
     },
     "execution_count": 36,
     "metadata": {},
     "output_type": "execute_result"
    }
   ],
   "source": [
    "import statsmodels.api as sm\r\n",
    "lr=sm.OLS(y,X)\r\n",
    "model=lr.fit()\r\n",
    "model.summary()"
   ]
  },
  {
   "cell_type": "code",
   "execution_count": 62,
   "metadata": {},
   "outputs": [
    {
     "data": {
      "text/plain": [
       "array([0, 0, 1, 1, 2, 0, 1, 0, 0, 0, 0, 0, 0, 0, 1, 2, 0, 0, 0, 1, 0, 1,\n",
       "       1, 1, 1, 1, 0, 0, 1, 0, 0, 1, 1, 2, 1, 2])"
      ]
     },
     "execution_count": 62,
     "metadata": {},
     "output_type": "execute_result"
    }
   ],
   "source": [
    "clusters_X= pd.DataFrame(clusters_X)\r\n",
    "from sklearn.cluster import KMeans\r\n",
    "from sklearn.metrics import silhouette_score\r\n",
    "\r\n",
    "from sklearn.preprocessing import MinMaxScaler\r\n",
    "m=MinMaxScaler()\r\n",
    "\r\n",
    "clusters_X=m.fit_transform(clusters_X)\r\n",
    "scores=[]\r\n",
    "\r\n",
    "#for i in range(2,15):\r\n",
    "k=KMeans(n_clusters=3)\r\n",
    "k.fit(clusters_X)\r\n",
    "k.labels_\r\n",
    "#scores.append(silhouette_score(X,labels))\r\n"
   ]
  },
  {
   "cell_type": "code",
   "execution_count": 70,
   "metadata": {},
   "outputs": [],
   "source": [
    "silhouette_coefficients = []\r\n",
    "for k in range(2, 20):\r\n",
    "    kmeans = KMeans(n_clusters=k)\r\n",
    "    kmeans.fit(clusters_X)\r\n",
    "    score = silhouette_score(clusters_X, kmeans.labels_)\r\n",
    "    silhouette_coefficients.append(score)"
   ]
  },
  {
   "cell_type": "code",
   "execution_count": 71,
   "metadata": {},
   "outputs": [
    {
     "data": {
      "text/plain": [
       "<AxesSubplot:>"
      ]
     },
     "execution_count": 71,
     "metadata": {},
     "output_type": "execute_result"
    },
    {
     "data": {
      "image/png": "[encoded data removed]",
      "text/plain": [
       "<Figure size 432x288 with 1 Axes>"
      ]
     },
     "metadata": {},
     "output_type": "display_data"
    }
   ],
   "source": [
    "pd.DataFrame(silhouette_coefficients).plot()"
   ]
  },
  {
   "cell_type": "code",
   "execution_count": 76,
   "metadata": {},
   "outputs": [
    {
     "data": {
      "text/html": [
       "<div>\n",
       "<style scoped>\n",
       "    .dataframe tbody tr th:only-of-type {\n",
       "        vertical-align: middle;\n",
       "    }\n",
       "\n",
       "    .dataframe tbody tr th {\n",
       "        vertical-align: top;\n",
       "    }\n",
       "\n",
       "    .dataframe thead th {\n",
       "        text-align: right;\n",
       "    }\n",
       "</style>\n",
       "<table border=\"1\" class=\"dataframe\">\n",
       "  <thead>\n",
       "    <tr style=\"text-align: right;\">\n",
       "      <th></th>\n",
       "      <th>State</th>\n",
       "      <th>labels</th>\n",
       "    </tr>\n",
       "  </thead>\n",
       "  <tbody>\n",
       "    <tr>\n",
       "      <th>0</th>\n",
       "      <td>Andaman &amp; Nicobar Islands</td>\n",
       "      <td>7</td>\n",
       "    </tr>\n",
       "    <tr>\n",
       "      <th>1</th>\n",
       "      <td>Andhra Pradesh</td>\n",
       "      <td>0</td>\n",
       "    </tr>\n",
       "    <tr>\n",
       "      <th>2</th>\n",
       "      <td>Arunachal Pradesh</td>\n",
       "      <td>1</td>\n",
       "    </tr>\n",
       "    <tr>\n",
       "      <th>3</th>\n",
       "      <td>Assam</td>\n",
       "      <td>16</td>\n",
       "    </tr>\n",
       "    <tr>\n",
       "      <th>4</th>\n",
       "      <td>Bihar</td>\n",
       "      <td>18</td>\n",
       "    </tr>\n",
       "    <tr>\n",
       "      <th>5</th>\n",
       "      <td>Chandigarh</td>\n",
       "      <td>15</td>\n",
       "    </tr>\n",
       "    <tr>\n",
       "      <th>6</th>\n",
       "      <td>Chhattisgarh</td>\n",
       "      <td>10</td>\n",
       "    </tr>\n",
       "    <tr>\n",
       "      <th>7</th>\n",
       "      <td>Dadra &amp; Nagar Haveli</td>\n",
       "      <td>17</td>\n",
       "    </tr>\n",
       "    <tr>\n",
       "      <th>8</th>\n",
       "      <td>Daman &amp; Diu</td>\n",
       "      <td>8</td>\n",
       "    </tr>\n",
       "    <tr>\n",
       "      <th>9</th>\n",
       "      <td>Delhi</td>\n",
       "      <td>5</td>\n",
       "    </tr>\n",
       "    <tr>\n",
       "      <th>10</th>\n",
       "      <td>Goa</td>\n",
       "      <td>7</td>\n",
       "    </tr>\n",
       "    <tr>\n",
       "      <th>11</th>\n",
       "      <td>Gujarat</td>\n",
       "      <td>17</td>\n",
       "    </tr>\n",
       "    <tr>\n",
       "      <th>12</th>\n",
       "      <td>Haryana</td>\n",
       "      <td>2</td>\n",
       "    </tr>\n",
       "    <tr>\n",
       "      <th>13</th>\n",
       "      <td>Himachal Pradesh</td>\n",
       "      <td>5</td>\n",
       "    </tr>\n",
       "    <tr>\n",
       "      <th>14</th>\n",
       "      <td>Jammu And Kashmir</td>\n",
       "      <td>4</td>\n",
       "    </tr>\n",
       "    <tr>\n",
       "      <th>15</th>\n",
       "      <td>Jharkhand</td>\n",
       "      <td>11</td>\n",
       "    </tr>\n",
       "    <tr>\n",
       "      <th>16</th>\n",
       "      <td>Karnataka</td>\n",
       "      <td>17</td>\n",
       "    </tr>\n",
       "    <tr>\n",
       "      <th>17</th>\n",
       "      <td>Kerala</td>\n",
       "      <td>15</td>\n",
       "    </tr>\n",
       "    <tr>\n",
       "      <th>18</th>\n",
       "      <td>Lakshadweep</td>\n",
       "      <td>15</td>\n",
       "    </tr>\n",
       "    <tr>\n",
       "      <th>19</th>\n",
       "      <td>Madhya Pradesh</td>\n",
       "      <td>3</td>\n",
       "    </tr>\n",
       "    <tr>\n",
       "      <th>20</th>\n",
       "      <td>Maharashtra</td>\n",
       "      <td>7</td>\n",
       "    </tr>\n",
       "    <tr>\n",
       "      <th>21</th>\n",
       "      <td>Manipur</td>\n",
       "      <td>1</td>\n",
       "    </tr>\n",
       "    <tr>\n",
       "      <th>22</th>\n",
       "      <td>Meghalaya</td>\n",
       "      <td>13</td>\n",
       "    </tr>\n",
       "    <tr>\n",
       "      <th>23</th>\n",
       "      <td>Mizoram</td>\n",
       "      <td>14</td>\n",
       "    </tr>\n",
       "    <tr>\n",
       "      <th>24</th>\n",
       "      <td>Nagaland</td>\n",
       "      <td>4</td>\n",
       "    </tr>\n",
       "    <tr>\n",
       "      <th>25</th>\n",
       "      <td>Odisha</td>\n",
       "      <td>4</td>\n",
       "    </tr>\n",
       "    <tr>\n",
       "      <th>26</th>\n",
       "      <td>Puducherry</td>\n",
       "      <td>9</td>\n",
       "    </tr>\n",
       "    <tr>\n",
       "      <th>27</th>\n",
       "      <td>Punjab</td>\n",
       "      <td>7</td>\n",
       "    </tr>\n",
       "    <tr>\n",
       "      <th>28</th>\n",
       "      <td>Rajasthan</td>\n",
       "      <td>10</td>\n",
       "    </tr>\n",
       "    <tr>\n",
       "      <th>29</th>\n",
       "      <td>Sikkim</td>\n",
       "      <td>14</td>\n",
       "    </tr>\n",
       "    <tr>\n",
       "      <th>30</th>\n",
       "      <td>Tamil Nadu</td>\n",
       "      <td>7</td>\n",
       "    </tr>\n",
       "    <tr>\n",
       "      <th>31</th>\n",
       "      <td>Telangana</td>\n",
       "      <td>10</td>\n",
       "    </tr>\n",
       "    <tr>\n",
       "      <th>32</th>\n",
       "      <td>Tripura</td>\n",
       "      <td>12</td>\n",
       "    </tr>\n",
       "    <tr>\n",
       "      <th>33</th>\n",
       "      <td>Uttar Pradesh</td>\n",
       "      <td>6</td>\n",
       "    </tr>\n",
       "    <tr>\n",
       "      <th>34</th>\n",
       "      <td>Uttarakhand</td>\n",
       "      <td>10</td>\n",
       "    </tr>\n",
       "    <tr>\n",
       "      <th>35</th>\n",
       "      <td>West Bengal</td>\n",
       "      <td>3</td>\n",
       "    </tr>\n",
       "  </tbody>\n",
       "</table>\n",
       "</div>"
      ],
      "text/plain": [
       "                        State  labels\n",
       "0   Andaman & Nicobar Islands       7\n",
       "1              Andhra Pradesh       0\n",
       "2           Arunachal Pradesh       1\n",
       "3                       Assam      16\n",
       "4                       Bihar      18\n",
       "5                  Chandigarh      15\n",
       "6                Chhattisgarh      10\n",
       "7        Dadra & Nagar Haveli      17\n",
       "8                 Daman & Diu       8\n",
       "9                       Delhi       5\n",
       "10                        Goa       7\n",
       "11                    Gujarat      17\n",
       "12                    Haryana       2\n",
       "13           Himachal Pradesh       5\n",
       "14          Jammu And Kashmir       4\n",
       "15                  Jharkhand      11\n",
       "16                  Karnataka      17\n",
       "17                     Kerala      15\n",
       "18                Lakshadweep      15\n",
       "19             Madhya Pradesh       3\n",
       "20                Maharashtra       7\n",
       "21                    Manipur       1\n",
       "22                  Meghalaya      13\n",
       "23                    Mizoram      14\n",
       "24                   Nagaland       4\n",
       "25                     Odisha       4\n",
       "26                 Puducherry       9\n",
       "27                     Punjab       7\n",
       "28                  Rajasthan      10\n",
       "29                     Sikkim      14\n",
       "30                 Tamil Nadu       7\n",
       "31                  Telangana      10\n",
       "32                    Tripura      12\n",
       "33              Uttar Pradesh       6\n",
       "34                Uttarakhand      10\n",
       "35                West Bengal       3"
      ]
     },
     "execution_count": 76,
     "metadata": {},
     "output_type": "execute_result"
    }
   ],
   "source": [
    "labels=pd.Series(kmeans.labels_)\r\n",
    "states['labels']=labels\r\n",
    "states"
   ]
  },
  {
   "cell_type": "code",
   "execution_count": 36,
   "metadata": {},
   "outputs": [
    {
     "name": "stderr",
     "output_type": "stream",
     "text": [
      "c:\\Users\\ADMIN\\Documents\\Codebase\\envs\\machine_L\\lib\\site-packages\\pandas\\core\\frame.py:4524: SettingWithCopyWarning:\n",
      "\n",
      "\n",
      "A value is trying to be set on a copy of a slice from a DataFrame\n",
      "\n",
      "See the caveats in the documentation: https://pandas.pydata.org/pandas-docs/stable/user_guide/indexing.html#returning-a-view-versus-a-copy\n",
      "\n"
     ]
    }
   ],
   "source": [
    "mm=MinMaxScaler()\n",
    "#Lower the better. So we are subtracting the dropout rates from 100% to get the retention rate\n",
    "#We are diving the PTR by 1 as lower is better\n",
    "datasets=dataset.copy()\n",
    "datasets['Dropout-PRIMARY']=100-datasets['Dropout-PRIMARY']\n",
    "datasets['Dropout-UPPER_PRIMARY']=100-datasets['Dropout-UPPER_PRIMARY']\n",
    "datasets['Dropout-SECONDARY']=100-datasets['Dropout-SECONDARY']\n",
    "datasets['Dropout-HRSECONDARY']=100-datasets['Dropout-HRSECONDARY']\n",
    "datasets['PTR-Primary']=1/datasets['PTR-Primary']\n",
    "datasets['PTR-Upper Primary']=1/datasets['PTR-Upper Primary']\n",
    "datasets['PTR-Secondary'] =1/datasets['PTR-Secondary']\n",
    "datasets['PTR-Higher Secondary'] =1/datasets['PTR-Higher Secondary']\n",
    "\n",
    "datasets[['Dropout-PRIMARY','Dropout-UPPER_PRIMARY','Dropout-SECONDARY','Dropout-HRSECONDARY']].replace({np.inf:0},inplace=True)\n",
    "#Because dividing by 0 makes them 0"
   ]
  },
  {
   "cell_type": "markdown",
   "metadata": {},
   "source": [
    "# Overall ranking of states"
   ]
  },
  {
   "cell_type": "code",
   "execution_count": 37,
   "metadata": {},
   "outputs": [
    {
     "name": "stdout",
     "output_type": "stream",
     "text": [
      "\n",
      " Overall rank of states based on dropout rates, enrollment rates, student:teacher ratio and other factors \n",
      "\n"
     ]
    },
    {
     "data": {
      "text/html": [
       "<div>\n",
       "<style scoped>\n",
       "    .dataframe tbody tr th:only-of-type {\n",
       "        vertical-align: middle;\n",
       "    }\n",
       "\n",
       "    .dataframe tbody tr th {\n",
       "        vertical-align: top;\n",
       "    }\n",
       "\n",
       "    .dataframe thead th {\n",
       "        text-align: right;\n",
       "    }\n",
       "</style>\n",
       "<table border=\"1\" class=\"dataframe\">\n",
       "  <thead>\n",
       "    <tr style=\"text-align: right;\">\n",
       "      <th></th>\n",
       "      <th>Overall score</th>\n",
       "    </tr>\n",
       "    <tr>\n",
       "      <th>State</th>\n",
       "      <th></th>\n",
       "    </tr>\n",
       "  </thead>\n",
       "  <tbody>\n",
       "    <tr>\n",
       "      <th>Delhi</th>\n",
       "      <td>75.715240</td>\n",
       "    </tr>\n",
       "    <tr>\n",
       "      <th>Lakshadweep</th>\n",
       "      <td>74.375553</td>\n",
       "    </tr>\n",
       "    <tr>\n",
       "      <th>Kerala</th>\n",
       "      <td>73.349588</td>\n",
       "    </tr>\n",
       "    <tr>\n",
       "      <th>Chandigarh</th>\n",
       "      <td>73.321496</td>\n",
       "    </tr>\n",
       "    <tr>\n",
       "      <th>Sikkim</th>\n",
       "      <td>72.376044</td>\n",
       "    </tr>\n",
       "    <tr>\n",
       "      <th>Puducherry</th>\n",
       "      <td>71.983355</td>\n",
       "    </tr>\n",
       "    <tr>\n",
       "      <th>Himachal Pradesh</th>\n",
       "      <td>71.253593</td>\n",
       "    </tr>\n",
       "    <tr>\n",
       "      <th>Tamil Nadu</th>\n",
       "      <td>70.800147</td>\n",
       "    </tr>\n",
       "    <tr>\n",
       "      <th>Goa</th>\n",
       "      <td>70.517515</td>\n",
       "    </tr>\n",
       "    <tr>\n",
       "      <th>Punjab</th>\n",
       "      <td>69.780648</td>\n",
       "    </tr>\n",
       "    <tr>\n",
       "      <th>Andaman &amp; Nicobar Islands</th>\n",
       "      <td>69.328665</td>\n",
       "    </tr>\n",
       "    <tr>\n",
       "      <th>Maharashtra</th>\n",
       "      <td>69.199601</td>\n",
       "    </tr>\n",
       "    <tr>\n",
       "      <th>Haryana</th>\n",
       "      <td>68.225080</td>\n",
       "    </tr>\n",
       "    <tr>\n",
       "      <th>Mizoram</th>\n",
       "      <td>68.082295</td>\n",
       "    </tr>\n",
       "    <tr>\n",
       "      <th>Gujarat</th>\n",
       "      <td>67.845604</td>\n",
       "    </tr>\n",
       "    <tr>\n",
       "      <th>Manipur</th>\n",
       "      <td>66.166228</td>\n",
       "    </tr>\n",
       "    <tr>\n",
       "      <th>Daman &amp; Diu</th>\n",
       "      <td>64.692744</td>\n",
       "    </tr>\n",
       "    <tr>\n",
       "      <th>Dadra &amp; Nagar Haveli</th>\n",
       "      <td>64.671446</td>\n",
       "    </tr>\n",
       "    <tr>\n",
       "      <th>Karnataka</th>\n",
       "      <td>64.538772</td>\n",
       "    </tr>\n",
       "    <tr>\n",
       "      <th>Uttarakhand</th>\n",
       "      <td>64.354646</td>\n",
       "    </tr>\n",
       "    <tr>\n",
       "      <th>Telangana</th>\n",
       "      <td>64.038517</td>\n",
       "    </tr>\n",
       "    <tr>\n",
       "      <th>Chhattisgarh</th>\n",
       "      <td>63.878395</td>\n",
       "    </tr>\n",
       "    <tr>\n",
       "      <th>Tripura</th>\n",
       "      <td>63.179730</td>\n",
       "    </tr>\n",
       "    <tr>\n",
       "      <th>West Bengal</th>\n",
       "      <td>63.053892</td>\n",
       "    </tr>\n",
       "    <tr>\n",
       "      <th>Uttar Pradesh</th>\n",
       "      <td>63.026678</td>\n",
       "    </tr>\n",
       "    <tr>\n",
       "      <th>Arunachal Pradesh</th>\n",
       "      <td>63.002390</td>\n",
       "    </tr>\n",
       "    <tr>\n",
       "      <th>Rajasthan</th>\n",
       "      <td>62.863038</td>\n",
       "    </tr>\n",
       "    <tr>\n",
       "      <th>Andhra Pradesh</th>\n",
       "      <td>62.255497</td>\n",
       "    </tr>\n",
       "    <tr>\n",
       "      <th>Madhya Pradesh</th>\n",
       "      <td>59.495972</td>\n",
       "    </tr>\n",
       "    <tr>\n",
       "      <th>Nagaland</th>\n",
       "      <td>58.734874</td>\n",
       "    </tr>\n",
       "    <tr>\n",
       "      <th>Jharkhand</th>\n",
       "      <td>58.281952</td>\n",
       "    </tr>\n",
       "    <tr>\n",
       "      <th>Odisha</th>\n",
       "      <td>57.395507</td>\n",
       "    </tr>\n",
       "    <tr>\n",
       "      <th>Meghalaya</th>\n",
       "      <td>57.048438</td>\n",
       "    </tr>\n",
       "    <tr>\n",
       "      <th>Bihar</th>\n",
       "      <td>56.123755</td>\n",
       "    </tr>\n",
       "    <tr>\n",
       "      <th>Jammu And Kashmir</th>\n",
       "      <td>55.186625</td>\n",
       "    </tr>\n",
       "    <tr>\n",
       "      <th>Assam</th>\n",
       "      <td>54.413032</td>\n",
       "    </tr>\n",
       "  </tbody>\n",
       "</table>\n",
       "</div>"
      ],
      "text/plain": [
       "                           Overall score\n",
       "State                                   \n",
       "Delhi                          75.715240\n",
       "Lakshadweep                    74.375553\n",
       "Kerala                         73.349588\n",
       "Chandigarh                     73.321496\n",
       "Sikkim                         72.376044\n",
       "Puducherry                     71.983355\n",
       "Himachal Pradesh               71.253593\n",
       "Tamil Nadu                     70.800147\n",
       "Goa                            70.517515\n",
       "Punjab                         69.780648\n",
       "Andaman & Nicobar Islands      69.328665\n",
       "Maharashtra                    69.199601\n",
       "Haryana                        68.225080\n",
       "Mizoram                        68.082295\n",
       "Gujarat                        67.845604\n",
       "Manipur                        66.166228\n",
       "Daman & Diu                    64.692744\n",
       "Dadra & Nagar Haveli           64.671446\n",
       "Karnataka                      64.538772\n",
       "Uttarakhand                    64.354646\n",
       "Telangana                      64.038517\n",
       "Chhattisgarh                   63.878395\n",
       "Tripura                        63.179730\n",
       "West Bengal                    63.053892\n",
       "Uttar Pradesh                  63.026678\n",
       "Arunachal Pradesh              63.002390\n",
       "Rajasthan                      62.863038\n",
       "Andhra Pradesh                 62.255497\n",
       "Madhya Pradesh                 59.495972\n",
       "Nagaland                       58.734874\n",
       "Jharkhand                      58.281952\n",
       "Odisha                         57.395507\n",
       "Meghalaya                      57.048438\n",
       "Bihar                          56.123755\n",
       "Jammu And Kashmir              55.186625\n",
       "Assam                          54.413032"
      ]
     },
     "execution_count": 37,
     "metadata": {},
     "output_type": "execute_result"
    }
   ],
   "source": [
    "#Aggregating the scores from all the features\n",
    "states['Overall score']=datasets.mean(axis=1)\n",
    "print('\\n Overall rank of states based on dropout rates, enrollment rates, student:teacher ratio and other factors \\n')\n",
    "states.set_index('State').sort_values(['Overall score'],ascending=False) "
   ]
  },
  {
   "cell_type": "markdown",
   "metadata": {},
   "source": [
    "# Finding out if there are any outliers"
   ]
  },
  {
   "cell_type": "code",
   "execution_count": 38,
   "metadata": {},
   "outputs": [
    {
     "data": {
      "application/vnd.plotly.v1+json": {
       "config": {
        "plotlyServerURL": "https://plot.ly"
       },
       "data": [
        {
         "alignmentgroup": "True",
         "hovertemplate": "<b>%{hovertext}</b><br><br>Overall score=%{x}<extra></extra>",
         "hovertext": [
          "Andaman & Nicobar Islands",
          "Andhra Pradesh",
          "Arunachal Pradesh",
          "Assam",
          "Bihar",
          "Chandigarh",
          "Chhattisgarh",
          "Dadra & Nagar Haveli",
          "Daman & Diu",
          "Delhi",
          "Goa",
          "Gujarat",
          "Haryana",
          "Himachal Pradesh",
          "Jammu And Kashmir",
          "Jharkhand",
          "Karnataka",
          "Kerala",
          "Lakshadweep",
          "Madhya Pradesh",
          "Maharashtra",
          "Manipur",
          "Meghalaya",
          "Mizoram",
          "Nagaland",
          "Odisha",
          "Puducherry",
          "Punjab",
          "Rajasthan",
          "Sikkim",
          "Tamil Nadu",
          "Telangana",
          "Tripura",
          "Uttar Pradesh",
          "Uttarakhand",
          "West Bengal"
         ],
         "legendgroup": "",
         "marker": {
          "color": "#636efa"
         },
         "name": "",
         "notched": false,
         "offsetgroup": "",
         "orientation": "h",
         "showlegend": false,
         "type": "box",
         "x": [
          69.32866523058765,
          62.25549697327462,
          63.002390481745714,
          54.41303177378774,
          56.12375454609447,
          73.32149612167512,
          63.87839454241732,
          64.67144585855141,
          64.69274445442511,
          75.71523974637594,
          70.51751451674737,
          67.84560350428305,
          68.22507978409813,
          71.25359300476946,
          55.18662522757151,
          58.28195176637595,
          64.53877161658795,
          73.34958812776314,
          74.37555347891666,
          59.49597231780958,
          69.19960148863261,
          66.16622799453702,
          57.04843773035531,
          68.0822947218103,
          58.73487424916489,
          57.3955074971165,
          71.98335540276719,
          69.78064837699785,
          62.863037556223766,
          72.37604354004186,
          70.80014728067513,
          64.03851741271727,
          63.179729877322266,
          63.026677611798426,
          64.35464588026207,
          63.05389226690266
         ],
         "x0": " ",
         "xaxis": "x",
         "y0": " ",
         "yaxis": "y"
        }
       ],
       "layout": {
        "boxmode": "group",
        "legend": {
         "tracegroupgap": 0
        },
        "template": {
         "data": {
          "bar": [
           {
            "error_x": {
             "color": "#2a3f5f"
            },
            "error_y": {
             "color": "#2a3f5f"
            },
            "marker": {
             "line": {
              "color": "#E5ECF6",
              "width": 0.5
             }
            },
            "type": "bar"
           }
          ],
          "barpolar": [
           {
            "marker": {
             "line": {
              "color": "#E5ECF6",
              "width": 0.5
             }
            },
            "type": "barpolar"
           }
          ],
          "carpet": [
           {
            "aaxis": {
             "endlinecolor": "#2a3f5f",
             "gridcolor": "white",
             "linecolor": "white",
             "minorgridcolor": "white",
             "startlinecolor": "#2a3f5f"
            },
            "baxis": {
             "endlinecolor": "#2a3f5f",
             "gridcolor": "white",
             "linecolor": "white",
             "minorgridcolor": "white",
             "startlinecolor": "#2a3f5f"
            },
            "type": "carpet"
           }
          ],
          "choropleth": [
           {
            "colorbar": {
             "outlinewidth": 0,
             "ticks": ""
            },
            "type": "choropleth"
           }
          ],
          "contour": [
           {
            "colorbar": {
             "outlinewidth": 0,
             "ticks": ""
            },
            "colorscale": [
             [
              0,
              "#0d0887"
             ],
             [
              0.1111111111111111,
              "#46039f"
             ],
             [
              0.2222222222222222,
              "#7201a8"
             ],
             [
              0.3333333333333333,
              "#9c179e"
             ],
             [
              0.4444444444444444,
              "#bd3786"
             ],
             [
              0.5555555555555556,
              "#d8576b"
             ],
             [
              0.6666666666666666,
              "#ed7953"
             ],
             [
              0.7777777777777778,
              "#fb9f3a"
             ],
             [
              0.8888888888888888,
              "#fdca26"
             ],
             [
              1,
              "#f0f921"
             ]
            ],
            "type": "contour"
           }
          ],
          "contourcarpet": [
           {
            "colorbar": {
             "outlinewidth": 0,
             "ticks": ""
            },
            "type": "contourcarpet"
           }
          ],
          "heatmap": [
           {
            "colorbar": {
             "outlinewidth": 0,
             "ticks": ""
            },
            "colorscale": [
             [
              0,
              "#0d0887"
             ],
             [
              0.1111111111111111,
              "#46039f"
             ],
             [
              0.2222222222222222,
              "#7201a8"
             ],
             [
              0.3333333333333333,
              "#9c179e"
             ],
             [
              0.4444444444444444,
              "#bd3786"
             ],
             [
              0.5555555555555556,
              "#d8576b"
             ],
             [
              0.6666666666666666,
              "#ed7953"
             ],
             [
              0.7777777777777778,
              "#fb9f3a"
             ],
             [
              0.8888888888888888,
              "#fdca26"
             ],
             [
              1,
              "#f0f921"
             ]
            ],
            "type": "heatmap"
           }
          ],
          "heatmapgl": [
           {
            "colorbar": {
             "outlinewidth": 0,
             "ticks": ""
            },
            "colorscale": [
             [
              0,
              "#0d0887"
             ],
             [
              0.1111111111111111,
              "#46039f"
             ],
             [
              0.2222222222222222,
              "#7201a8"
             ],
             [
              0.3333333333333333,
              "#9c179e"
             ],
             [
              0.4444444444444444,
              "#bd3786"
             ],
             [
              0.5555555555555556,
              "#d8576b"
             ],
             [
              0.6666666666666666,
              "#ed7953"
             ],
             [
              0.7777777777777778,
              "#fb9f3a"
             ],
             [
              0.8888888888888888,
              "#fdca26"
             ],
             [
              1,
              "#f0f921"
             ]
            ],
            "type": "heatmapgl"
           }
          ],
          "histogram": [
           {
            "marker": {
             "colorbar": {
              "outlinewidth": 0,
              "ticks": ""
             }
            },
            "type": "histogram"
           }
          ],
          "histogram2d": [
           {
            "colorbar": {
             "outlinewidth": 0,
             "ticks": ""
            },
            "colorscale": [
             [
              0,
              "#0d0887"
             ],
             [
              0.1111111111111111,
              "#46039f"
             ],
             [
              0.2222222222222222,
              "#7201a8"
             ],
             [
              0.3333333333333333,
              "#9c179e"
             ],
             [
              0.4444444444444444,
              "#bd3786"
             ],
             [
              0.5555555555555556,
              "#d8576b"
             ],
             [
              0.6666666666666666,
              "#ed7953"
             ],
             [
              0.7777777777777778,
              "#fb9f3a"
             ],
             [
              0.8888888888888888,
              "#fdca26"
             ],
             [
              1,
              "#f0f921"
             ]
            ],
            "type": "histogram2d"
           }
          ],
          "histogram2dcontour": [
           {
            "colorbar": {
             "outlinewidth": 0,
             "ticks": ""
            },
            "colorscale": [
             [
              0,
              "#0d0887"
             ],
             [
              0.1111111111111111,
              "#46039f"
             ],
             [
              0.2222222222222222,
              "#7201a8"
             ],
             [
              0.3333333333333333,
              "#9c179e"
             ],
             [
              0.4444444444444444,
              "#bd3786"
             ],
             [
              0.5555555555555556,
              "#d8576b"
             ],
             [
              0.6666666666666666,
              "#ed7953"
             ],
             [
              0.7777777777777778,
              "#fb9f3a"
             ],
             [
              0.8888888888888888,
              "#fdca26"
             ],
             [
              1,
              "#f0f921"
             ]
            ],
            "type": "histogram2dcontour"
           }
          ],
          "mesh3d": [
           {
            "colorbar": {
             "outlinewidth": 0,
             "ticks": ""
            },
            "type": "mesh3d"
           }
          ],
          "parcoords": [
           {
            "line": {
             "colorbar": {
              "outlinewidth": 0,
              "ticks": ""
             }
            },
            "type": "parcoords"
           }
          ],
          "pie": [
           {
            "automargin": true,
            "type": "pie"
           }
          ],
          "scatter": [
           {
            "marker": {
             "colorbar": {
              "outlinewidth": 0,
              "ticks": ""
             }
            },
            "type": "scatter"
           }
          ],
          "scatter3d": [
           {
            "line": {
             "colorbar": {
              "outlinewidth": 0,
              "ticks": ""
             }
            },
            "marker": {
             "colorbar": {
              "outlinewidth": 0,
              "ticks": ""
             }
            },
            "type": "scatter3d"
           }
          ],
          "scattercarpet": [
           {
            "marker": {
             "colorbar": {
              "outlinewidth": 0,
              "ticks": ""
             }
            },
            "type": "scattercarpet"
           }
          ],
          "scattergeo": [
           {
            "marker": {
             "colorbar": {
              "outlinewidth": 0,
              "ticks": ""
             }
            },
            "type": "scattergeo"
           }
          ],
          "scattergl": [
           {
            "marker": {
             "colorbar": {
              "outlinewidth": 0,
              "ticks": ""
             }
            },
            "type": "scattergl"
           }
          ],
          "scattermapbox": [
           {
            "marker": {
             "colorbar": {
              "outlinewidth": 0,
              "ticks": ""
             }
            },
            "type": "scattermapbox"
           }
          ],
          "scatterpolar": [
           {
            "marker": {
             "colorbar": {
              "outlinewidth": 0,
              "ticks": ""
             }
            },
            "type": "scatterpolar"
           }
          ],
          "scatterpolargl": [
           {
            "marker": {
             "colorbar": {
              "outlinewidth": 0,
              "ticks": ""
             }
            },
            "type": "scatterpolargl"
           }
          ],
          "scatterternary": [
           {
            "marker": {
             "colorbar": {
              "outlinewidth": 0,
              "ticks": ""
             }
            },
            "type": "scatterternary"
           }
          ],
          "surface": [
           {
            "colorbar": {
             "outlinewidth": 0,
             "ticks": ""
            },
            "colorscale": [
             [
              0,
              "#0d0887"
             ],
             [
              0.1111111111111111,
              "#46039f"
             ],
             [
              0.2222222222222222,
              "#7201a8"
             ],
             [
              0.3333333333333333,
              "#9c179e"
             ],
             [
              0.4444444444444444,
              "#bd3786"
             ],
             [
              0.5555555555555556,
              "#d8576b"
             ],
             [
              0.6666666666666666,
              "#ed7953"
             ],
             [
              0.7777777777777778,
              "#fb9f3a"
             ],
             [
              0.8888888888888888,
              "#fdca26"
             ],
             [
              1,
              "#f0f921"
             ]
            ],
            "type": "surface"
           }
          ],
          "table": [
           {
            "cells": {
             "fill": {
              "color": "#EBF0F8"
             },
             "line": {
              "color": "white"
             }
            },
            "header": {
             "fill": {
              "color": "#C8D4E3"
             },
             "line": {
              "color": "white"
             }
            },
            "type": "table"
           }
          ]
         },
         "layout": {
          "annotationdefaults": {
           "arrowcolor": "#2a3f5f",
           "arrowhead": 0,
           "arrowwidth": 1
          },
          "autotypenumbers": "strict",
          "coloraxis": {
           "colorbar": {
            "outlinewidth": 0,
            "ticks": ""
           }
          },
          "colorscale": {
           "diverging": [
            [
             0,
             "#8e0152"
            ],
            [
             0.1,
             "#c51b7d"
            ],
            [
             0.2,
             "#de77ae"
            ],
            [
             0.3,
             "#f1b6da"
            ],
            [
             0.4,
             "#fde0ef"
            ],
            [
             0.5,
             "#f7f7f7"
            ],
            [
             0.6,
             "#e6f5d0"
            ],
            [
             0.7,
             "#b8e186"
            ],
            [
             0.8,
             "#7fbc41"
            ],
            [
             0.9,
             "#4d9221"
            ],
            [
             1,
             "#276419"
            ]
           ],
           "sequential": [
            [
             0,
             "#0d0887"
            ],
            [
             0.1111111111111111,
             "#46039f"
            ],
            [
             0.2222222222222222,
             "#7201a8"
            ],
            [
             0.3333333333333333,
             "#9c179e"
            ],
            [
             0.4444444444444444,
             "#bd3786"
            ],
            [
             0.5555555555555556,
             "#d8576b"
            ],
            [
             0.6666666666666666,
             "#ed7953"
            ],
            [
             0.7777777777777778,
             "#fb9f3a"
            ],
            [
             0.8888888888888888,
             "#fdca26"
            ],
            [
             1,
             "#f0f921"
            ]
           ],
           "sequentialminus": [
            [
             0,
             "#0d0887"
            ],
            [
             0.1111111111111111,
             "#46039f"
            ],
            [
             0.2222222222222222,
             "#7201a8"
            ],
            [
             0.3333333333333333,
             "#9c179e"
            ],
            [
             0.4444444444444444,
             "#bd3786"
            ],
            [
             0.5555555555555556,
             "#d8576b"
            ],
            [
             0.6666666666666666,
             "#ed7953"
            ],
            [
             0.7777777777777778,
             "#fb9f3a"
            ],
            [
             0.8888888888888888,
             "#fdca26"
            ],
            [
             1,
             "#f0f921"
            ]
           ]
          },
          "colorway": [
           "#636efa",
           "#EF553B",
           "#00cc96",
           "#ab63fa",
           "#FFA15A",
           "#19d3f3",
           "#FF6692",
           "#B6E880",
           "#FF97FF",
           "#FECB52"
          ],
          "font": {
           "color": "#2a3f5f"
          },
          "geo": {
           "bgcolor": "white",
           "lakecolor": "white",
           "landcolor": "#E5ECF6",
           "showlakes": true,
           "showland": true,
           "subunitcolor": "white"
          },
          "hoverlabel": {
           "align": "left"
          },
          "hovermode": "closest",
          "mapbox": {
           "style": "light"
          },
          "paper_bgcolor": "white",
          "plot_bgcolor": "#E5ECF6",
          "polar": {
           "angularaxis": {
            "gridcolor": "white",
            "linecolor": "white",
            "ticks": ""
           },
           "bgcolor": "#E5ECF6",
           "radialaxis": {
            "gridcolor": "white",
            "linecolor": "white",
            "ticks": ""
           }
          },
          "scene": {
           "xaxis": {
            "backgroundcolor": "#E5ECF6",
            "gridcolor": "white",
            "gridwidth": 2,
            "linecolor": "white",
            "showbackground": true,
            "ticks": "",
            "zerolinecolor": "white"
           },
           "yaxis": {
            "backgroundcolor": "#E5ECF6",
            "gridcolor": "white",
            "gridwidth": 2,
            "linecolor": "white",
            "showbackground": true,
            "ticks": "",
            "zerolinecolor": "white"
           },
           "zaxis": {
            "backgroundcolor": "#E5ECF6",
            "gridcolor": "white",
            "gridwidth": 2,
            "linecolor": "white",
            "showbackground": true,
            "ticks": "",
            "zerolinecolor": "white"
           }
          },
          "shapedefaults": {
           "line": {
            "color": "#2a3f5f"
           }
          },
          "ternary": {
           "aaxis": {
            "gridcolor": "white",
            "linecolor": "white",
            "ticks": ""
           },
           "baxis": {
            "gridcolor": "white",
            "linecolor": "white",
            "ticks": ""
           },
           "bgcolor": "#E5ECF6",
           "caxis": {
            "gridcolor": "white",
            "linecolor": "white",
            "ticks": ""
           }
          },
          "title": {
           "x": 0.05
          },
          "xaxis": {
           "automargin": true,
           "gridcolor": "white",
           "linecolor": "white",
           "ticks": "",
           "title": {
            "standoff": 15
           },
           "zerolinecolor": "white",
           "zerolinewidth": 2
          },
          "yaxis": {
           "automargin": true,
           "gridcolor": "white",
           "linecolor": "white",
           "ticks": "",
           "title": {
            "standoff": 15
           },
           "zerolinecolor": "white",
           "zerolinewidth": 2
          }
         }
        },
        "title": {
         "text": "Overall scoring of states"
        },
        "xaxis": {
         "anchor": "y",
         "domain": [
          0,
          1
         ],
         "title": {
          "text": "Overall score"
         }
        },
        "yaxis": {
         "anchor": "x",
         "domain": [
          0,
          1
         ]
        }
       }
      }
     },
     "metadata": {},
     "output_type": "display_data"
    }
   ],
   "source": [
    "px.box(data_frame=states, x='Overall score', hover_name='State',title='Overall scoring of states')"
   ]
  },
  {
   "cell_type": "markdown",
   "metadata": {},
   "source": [
    "## Clustering and visualizing the data on the basis of top three features"
   ]
  },
  {
   "cell_type": "code",
   "execution_count": 39,
   "metadata": {},
   "outputs": [
    {
     "name": "stderr",
     "output_type": "stream",
     "text": [
      "c:\\Users\\ADMIN\\Documents\\Codebase\\envs\\machine_L\\lib\\site-packages\\sklearn\\cluster\\_affinity_propagation.py:148: FutureWarning:\n",
      "\n",
      "'random_state' has been introduced in 0.23. It will be set to None starting from 1.0 (renaming of 0.25) which means that results will differ at every function call. Set 'random_state' to None to silence this warning, or to 0 to keep the behavior of versions <0.23.\n",
      "\n"
     ]
    }
   ],
   "source": [
    "db=AffinityPropagation()\n",
    "db.fit(datasets.iloc[:,:-14])\n",
    "labels=list(db.labels_)"
   ]
  },
  {
   "cell_type": "code",
   "execution_count": 100,
   "metadata": {},
   "outputs": [
    {
     "data": {
      "text/plain": [
       "KMeans(n_clusters=7)"
      ]
     },
     "execution_count": 100,
     "metadata": {},
     "output_type": "execute_result"
    }
   ],
   "source": [
    "kk=KMeans(n_clusters=7)\r\n",
    "kk.fit(clusters_X)"
   ]
  },
  {
   "cell_type": "code",
   "execution_count": 101,
   "metadata": {},
   "outputs": [],
   "source": [
    "states['actual_labels']=pd.Series(kk.labels_)"
   ]
  },
  {
   "cell_type": "code",
   "execution_count": 102,
   "metadata": {},
   "outputs": [],
   "source": [
    "clusters_X = pd.DataFrame(clusters_X)\r\n",
    "clusters_X.rename(columns={0:'Factors',1:'Student:teacher ratio',2:'Enrollment'}, inplace=True)"
   ]
  },
  {
   "cell_type": "code",
   "execution_count": 95,
   "metadata": {},
   "outputs": [
    {
     "data": {
      "text/html": [
       "<div>\n",
       "<style scoped>\n",
       "    .dataframe tbody tr th:only-of-type {\n",
       "        vertical-align: middle;\n",
       "    }\n",
       "\n",
       "    .dataframe tbody tr th {\n",
       "        vertical-align: top;\n",
       "    }\n",
       "\n",
       "    .dataframe thead th {\n",
       "        text-align: right;\n",
       "    }\n",
       "</style>\n",
       "<table border=\"1\" class=\"dataframe\">\n",
       "  <thead>\n",
       "    <tr style=\"text-align: right;\">\n",
       "      <th></th>\n",
       "      <th>Factors</th>\n",
       "      <th>Student:teacher ratio</th>\n",
       "      <th>Enrollment</th>\n",
       "    </tr>\n",
       "  </thead>\n",
       "  <tbody>\n",
       "    <tr>\n",
       "      <th>0</th>\n",
       "      <td>41.362732</td>\n",
       "      <td>-3.386819</td>\n",
       "      <td>2.354377</td>\n",
       "    </tr>\n",
       "    <tr>\n",
       "      <th>1</th>\n",
       "      <td>1.079017</td>\n",
       "      <td>29.074456</td>\n",
       "      <td>-10.330893</td>\n",
       "    </tr>\n",
       "    <tr>\n",
       "      <th>2</th>\n",
       "      <td>-35.212135</td>\n",
       "      <td>-30.876313</td>\n",
       "      <td>20.939058</td>\n",
       "    </tr>\n",
       "    <tr>\n",
       "      <th>3</th>\n",
       "      <td>-64.479366</td>\n",
       "      <td>-19.061087</td>\n",
       "      <td>-24.409528</td>\n",
       "    </tr>\n",
       "    <tr>\n",
       "      <th>4</th>\n",
       "      <td>-76.653983</td>\n",
       "      <td>30.506430</td>\n",
       "      <td>6.417032</td>\n",
       "    </tr>\n",
       "  </tbody>\n",
       "</table>\n",
       "</div>"
      ],
      "text/plain": [
       "     Factors  Student:teacher ratio  Enrollment\n",
       "0  41.362732              -3.386819    2.354377\n",
       "1   1.079017              29.074456  -10.330893\n",
       "2 -35.212135             -30.876313   20.939058\n",
       "3 -64.479366             -19.061087  -24.409528\n",
       "4 -76.653983              30.506430    6.417032"
      ]
     },
     "execution_count": 95,
     "metadata": {},
     "output_type": "execute_result"
    }
   ],
   "source": [
    "clusters_X.head()"
   ]
  },
  {
   "cell_type": "code",
   "execution_count": 105,
   "metadata": {},
   "outputs": [
    {
     "data": {
      "text/markdown": [
       "Publishing document and associated data - *please wait...*"
      ],
      "text/plain": [
       "<IPython.core.display.Markdown object>"
      ]
     },
     "metadata": {},
     "output_type": "display_data"
    },
    {
     "data": {
      "text/markdown": [
       "Your report doesn't contain any text - did you know you can add text to your report from your browser once published?"
      ],
      "text/plain": [
       "<IPython.core.display.Markdown object>"
      ]
     },
     "metadata": {},
     "output_type": "display_data"
    },
    {
     "data": {
      "text/markdown": [
       "Your report only contains a single element - did you know you can add multiple plots and tables to a report, add text to it and export directly to Medium once published?"
      ],
      "text/plain": [
       "<IPython.core.display.Markdown object>"
      ]
     },
     "metadata": {},
     "output_type": "display_data"
    },
    {
     "data": {
      "text/markdown": [
       "Report successfully published at https://datapane.com/u/anupammisra/reports/performance/ - you can edit and add additional text online"
      ],
      "text/plain": [
       "<IPython.core.display.Markdown object>"
      ]
     },
     "metadata": {},
     "output_type": "display_data"
    }
   ],
   "source": [
    "figtot = px.scatter_3d(clusters_X, y='Student:teacher ratio', z='Enrollment', x='Factors',color=states.actual_labels,opacity=0.7,text=states['State'], title='Visualizing performance of states in the education sector')\r\n",
    "figtot.update_layout(width=1200, height=520)\r\n",
    "\r\n",
    "\r\n",
    "r = dp.Report(\r\n",
    "  dp.Plot(figtot) #create a chart\r\n",
    ").publish(name='performance', visibility=dp.Visibility.PUBLIC,open=True) #Publish the report\r\n"
   ]
  },
  {
   "cell_type": "markdown",
   "metadata": {},
   "source": [
    "https://towardsdatascience.com/unsupervised-machine-learning-affinity-propagation-algorithm-explained-d1fef85f22c8"
   ]
  },
  {
   "cell_type": "code",
   "execution_count": 106,
   "metadata": {},
   "outputs": [
    {
     "data": {
      "application/vnd.plotly.v1+json": {
       "config": {
        "plotlyServerURL": "https://plot.ly"
       },
       "data": [
        {
         "hovertemplate": "Factors=%{x}<br>Student:teacher ratio=%{y}<br>Enrollment=%{z}<br>text=%{text}<br>color=%{marker.color}<extra></extra>",
         "legendgroup": "",
         "marker": {
          "color": [
           1,
           2,
           4,
           0,
           5,
           6,
           4,
           2,
           2,
           6,
           1,
           2,
           2,
           1,
           0,
           5,
           2,
           6,
           6,
           5,
           2,
           4,
           0,
           4,
           0,
           0,
           6,
           1,
           4,
           1,
           1,
           4,
           4,
           3,
           4,
           5
          ],
          "coloraxis": "coloraxis",
          "opacity": 0.7,
          "symbol": "circle"
         },
         "mode": "markers+text",
         "name": "",
         "scene": "scene",
         "showlegend": false,
         "text": [
          "Andaman & Nicobar Islands",
          "Andhra Pradesh",
          "Arunachal Pradesh",
          "Assam",
          "Bihar",
          "Chandigarh",
          "Chhattisgarh",
          "Dadra & Nagar Haveli",
          "Daman & Diu",
          "Delhi",
          "Goa",
          "Gujarat",
          "Haryana",
          "Himachal Pradesh",
          "Jammu And Kashmir",
          "Jharkhand",
          "Karnataka",
          "Kerala",
          "Lakshadweep",
          "Madhya Pradesh",
          "Maharashtra",
          "Manipur",
          "Meghalaya",
          "Mizoram",
          "Nagaland",
          "Odisha",
          "Puducherry",
          "Punjab",
          "Rajasthan",
          "Sikkim",
          "Tamil Nadu",
          "Telangana",
          "Tripura",
          "Uttar Pradesh",
          "Uttarakhand",
          "West Bengal"
         ],
         "type": "scatter3d",
         "x": [
          41.362732001311294,
          1.0790170482893342,
          -35.21213518746259,
          -64.47936636410655,
          -76.6539834640724,
          69.07273455706289,
          -19.945746958753936,
          15.8285022426085,
          29.485803011293754,
          57.666531469388396,
          34.02330425476321,
          32.151650741160054,
          28.402271533889234,
          30.23842501332113,
          -44.09005364369234,
          -73.45033178299815,
          8.340109066620899,
          63.04720024166998,
          82.62195730406705,
          -53.610943936532536,
          25.47107254079927,
          -30.0908207934204,
          -67.56617463207147,
          1.8868476865293082,
          -29.978669195055087,
          -53.623917864086785,
          66.39990498647111,
          32.90231202558305,
          -19.49230691999259,
          23.27133562245707,
          37.21474017182733,
          -8.24070228122152,
          -32.172270298946316,
          -35.046868258190806,
          -7.5212637605086545,
          -29.2908961780007
         ],
         "y": [
          -3.3868191627881017,
          29.074456479633426,
          -30.8763134409046,
          -19.061087495642607,
          30.506430453028223,
          6.80077560022233,
          -3.535569338262539,
          18.546325918980255,
          22.926429286034356,
          -12.310155372033002,
          -10.554922764956,
          22.277699664772676,
          5.381698499719518,
          -17.207879170855623,
          5.921479430031868,
          26.41176504747992,
          10.134610699946615,
          -1.1783872498174306,
          -6.326402418836024,
          10.581418489801589,
          17.78393024051908,
          -44.06700561605761,
          -45.66147842883964,
          -41.598443470622435,
          -12.318472999595969,
          -3.8740635629554023,
          5.26946436968963,
          4.895156197207921,
          9.164616963496997,
          -39.55586060960588,
          3.9575174711934262,
          -8.114510915671671,
          -27.70664642255605,
          74.25173805248502,
          1.4304870107426884,
          22.018018565014984
         ],
         "z": [
          2.354376970284843,
          -10.330893332806957,
          20.93905848317416,
          -24.40952830089902,
          6.417032328374853,
          4.822501262825123,
          6.874415069763068,
          -20.5637814503179,
          -39.01827533887937,
          29.30555858769952,
          7.12054308671235,
          -17.81345458412385,
          -9.002534923809764,
          24.619645973907083,
          -22.369444734233053,
          24.939660934282426,
          -30.734717996962853,
          1.8127699045019998,
          0.2794098337579845,
          7.375720775606762,
          4.564951172445862,
          16.242368327276058,
          -8.606394725394772,
          7.233525667484919,
          -26.793813243189152,
          -21.792987277823816,
          -11.53786747265314,
          0.8224507612844364,
          -3.8397644670442252,
          19.67338906134811,
          7.31038462265509,
          -5.138300183381097,
          0.010673353265636018,
          42.86313579722961,
          1.8476633344023623,
          14.522522723236833
         ]
        }
       ],
       "layout": {
        "coloraxis": {
         "colorbar": {
          "title": {
           "text": "color"
          }
         },
         "colorscale": [
          [
           0,
           "#0d0887"
          ],
          [
           0.1111111111111111,
           "#46039f"
          ],
          [
           0.2222222222222222,
           "#7201a8"
          ],
          [
           0.3333333333333333,
           "#9c179e"
          ],
          [
           0.4444444444444444,
           "#bd3786"
          ],
          [
           0.5555555555555556,
           "#d8576b"
          ],
          [
           0.6666666666666666,
           "#ed7953"
          ],
          [
           0.7777777777777778,
           "#fb9f3a"
          ],
          [
           0.8888888888888888,
           "#fdca26"
          ],
          [
           1,
           "#f0f921"
          ]
         ]
        },
        "height": 520,
        "legend": {
         "tracegroupgap": 0
        },
        "scene": {
         "domain": {
          "x": [
           0,
           1
          ],
          "y": [
           0,
           1
          ]
         },
         "xaxis": {
          "title": {
           "text": "Factors"
          }
         },
         "yaxis": {
          "title": {
           "text": "Student:teacher ratio"
          }
         },
         "zaxis": {
          "title": {
           "text": "Enrollment"
          }
         }
        },
        "template": {
         "data": {
          "bar": [
           {
            "error_x": {
             "color": "#2a3f5f"
            },
            "error_y": {
             "color": "#2a3f5f"
            },
            "marker": {
             "line": {
              "color": "#E5ECF6",
              "width": 0.5
             }
            },
            "type": "bar"
           }
          ],
          "barpolar": [
           {
            "marker": {
             "line": {
              "color": "#E5ECF6",
              "width": 0.5
             }
            },
            "type": "barpolar"
           }
          ],
          "carpet": [
           {
            "aaxis": {
             "endlinecolor": "#2a3f5f",
             "gridcolor": "white",
             "linecolor": "white",
             "minorgridcolor": "white",
             "startlinecolor": "#2a3f5f"
            },
            "baxis": {
             "endlinecolor": "#2a3f5f",
             "gridcolor": "white",
             "linecolor": "white",
             "minorgridcolor": "white",
             "startlinecolor": "#2a3f5f"
            },
            "type": "carpet"
           }
          ],
          "choropleth": [
           {
            "colorbar": {
             "outlinewidth": 0,
             "ticks": ""
            },
            "type": "choropleth"
           }
          ],
          "contour": [
           {
            "colorbar": {
             "outlinewidth": 0,
             "ticks": ""
            },
            "colorscale": [
             [
              0,
              "#0d0887"
             ],
             [
              0.1111111111111111,
              "#46039f"
             ],
             [
              0.2222222222222222,
              "#7201a8"
             ],
             [
              0.3333333333333333,
              "#9c179e"
             ],
             [
              0.4444444444444444,
              "#bd3786"
             ],
             [
              0.5555555555555556,
              "#d8576b"
             ],
             [
              0.6666666666666666,
              "#ed7953"
             ],
             [
              0.7777777777777778,
              "#fb9f3a"
             ],
             [
              0.8888888888888888,
              "#fdca26"
             ],
             [
              1,
              "#f0f921"
             ]
            ],
            "type": "contour"
           }
          ],
          "contourcarpet": [
           {
            "colorbar": {
             "outlinewidth": 0,
             "ticks": ""
            },
            "type": "contourcarpet"
           }
          ],
          "heatmap": [
           {
            "colorbar": {
             "outlinewidth": 0,
             "ticks": ""
            },
            "colorscale": [
             [
              0,
              "#0d0887"
             ],
             [
              0.1111111111111111,
              "#46039f"
             ],
             [
              0.2222222222222222,
              "#7201a8"
             ],
             [
              0.3333333333333333,
              "#9c179e"
             ],
             [
              0.4444444444444444,
              "#bd3786"
             ],
             [
              0.5555555555555556,
              "#d8576b"
             ],
             [
              0.6666666666666666,
              "#ed7953"
             ],
             [
              0.7777777777777778,
              "#fb9f3a"
             ],
             [
              0.8888888888888888,
              "#fdca26"
             ],
             [
              1,
              "#f0f921"
             ]
            ],
            "type": "heatmap"
           }
          ],
          "heatmapgl": [
           {
            "colorbar": {
             "outlinewidth": 0,
             "ticks": ""
            },
            "colorscale": [
             [
              0,
              "#0d0887"
             ],
             [
              0.1111111111111111,
              "#46039f"
             ],
             [
              0.2222222222222222,
              "#7201a8"
             ],
             [
              0.3333333333333333,
              "#9c179e"
             ],
             [
              0.4444444444444444,
              "#bd3786"
             ],
             [
              0.5555555555555556,
              "#d8576b"
             ],
             [
              0.6666666666666666,
              "#ed7953"
             ],
             [
              0.7777777777777778,
              "#fb9f3a"
             ],
             [
              0.8888888888888888,
              "#fdca26"
             ],
             [
              1,
              "#f0f921"
             ]
            ],
            "type": "heatmapgl"
           }
          ],
          "histogram": [
           {
            "marker": {
             "colorbar": {
              "outlinewidth": 0,
              "ticks": ""
             }
            },
            "type": "histogram"
           }
          ],
          "histogram2d": [
           {
            "colorbar": {
             "outlinewidth": 0,
             "ticks": ""
            },
            "colorscale": [
             [
              0,
              "#0d0887"
             ],
             [
              0.1111111111111111,
              "#46039f"
             ],
             [
              0.2222222222222222,
              "#7201a8"
             ],
             [
              0.3333333333333333,
              "#9c179e"
             ],
             [
              0.4444444444444444,
              "#bd3786"
             ],
             [
              0.5555555555555556,
              "#d8576b"
             ],
             [
              0.6666666666666666,
              "#ed7953"
             ],
             [
              0.7777777777777778,
              "#fb9f3a"
             ],
             [
              0.8888888888888888,
              "#fdca26"
             ],
             [
              1,
              "#f0f921"
             ]
            ],
            "type": "histogram2d"
           }
          ],
          "histogram2dcontour": [
           {
            "colorbar": {
             "outlinewidth": 0,
             "ticks": ""
            },
            "colorscale": [
             [
              0,
              "#0d0887"
             ],
             [
              0.1111111111111111,
              "#46039f"
             ],
             [
              0.2222222222222222,
              "#7201a8"
             ],
             [
              0.3333333333333333,
              "#9c179e"
             ],
             [
              0.4444444444444444,
              "#bd3786"
             ],
             [
              0.5555555555555556,
              "#d8576b"
             ],
             [
              0.6666666666666666,
              "#ed7953"
             ],
             [
              0.7777777777777778,
              "#fb9f3a"
             ],
             [
              0.8888888888888888,
              "#fdca26"
             ],
             [
              1,
              "#f0f921"
             ]
            ],
            "type": "histogram2dcontour"
           }
          ],
          "mesh3d": [
           {
            "colorbar": {
             "outlinewidth": 0,
             "ticks": ""
            },
            "type": "mesh3d"
           }
          ],
          "parcoords": [
           {
            "line": {
             "colorbar": {
              "outlinewidth": 0,
              "ticks": ""
             }
            },
            "type": "parcoords"
           }
          ],
          "pie": [
           {
            "automargin": true,
            "type": "pie"
           }
          ],
          "scatter": [
           {
            "marker": {
             "colorbar": {
              "outlinewidth": 0,
              "ticks": ""
             }
            },
            "type": "scatter"
           }
          ],
          "scatter3d": [
           {
            "line": {
             "colorbar": {
              "outlinewidth": 0,
              "ticks": ""
             }
            },
            "marker": {
             "colorbar": {
              "outlinewidth": 0,
              "ticks": ""
             }
            },
            "type": "scatter3d"
           }
          ],
          "scattercarpet": [
           {
            "marker": {
             "colorbar": {
              "outlinewidth": 0,
              "ticks": ""
             }
            },
            "type": "scattercarpet"
           }
          ],
          "scattergeo": [
           {
            "marker": {
             "colorbar": {
              "outlinewidth": 0,
              "ticks": ""
             }
            },
            "type": "scattergeo"
           }
          ],
          "scattergl": [
           {
            "marker": {
             "colorbar": {
              "outlinewidth": 0,
              "ticks": ""
             }
            },
            "type": "scattergl"
           }
          ],
          "scattermapbox": [
           {
            "marker": {
             "colorbar": {
              "outlinewidth": 0,
              "ticks": ""
             }
            },
            "type": "scattermapbox"
           }
          ],
          "scatterpolar": [
           {
            "marker": {
             "colorbar": {
              "outlinewidth": 0,
              "ticks": ""
             }
            },
            "type": "scatterpolar"
           }
          ],
          "scatterpolargl": [
           {
            "marker": {
             "colorbar": {
              "outlinewidth": 0,
              "ticks": ""
             }
            },
            "type": "scatterpolargl"
           }
          ],
          "scatterternary": [
           {
            "marker": {
             "colorbar": {
              "outlinewidth": 0,
              "ticks": ""
             }
            },
            "type": "scatterternary"
           }
          ],
          "surface": [
           {
            "colorbar": {
             "outlinewidth": 0,
             "ticks": ""
            },
            "colorscale": [
             [
              0,
              "#0d0887"
             ],
             [
              0.1111111111111111,
              "#46039f"
             ],
             [
              0.2222222222222222,
              "#7201a8"
             ],
             [
              0.3333333333333333,
              "#9c179e"
             ],
             [
              0.4444444444444444,
              "#bd3786"
             ],
             [
              0.5555555555555556,
              "#d8576b"
             ],
             [
              0.6666666666666666,
              "#ed7953"
             ],
             [
              0.7777777777777778,
              "#fb9f3a"
             ],
             [
              0.8888888888888888,
              "#fdca26"
             ],
             [
              1,
              "#f0f921"
             ]
            ],
            "type": "surface"
           }
          ],
          "table": [
           {
            "cells": {
             "fill": {
              "color": "#EBF0F8"
             },
             "line": {
              "color": "white"
             }
            },
            "header": {
             "fill": {
              "color": "#C8D4E3"
             },
             "line": {
              "color": "white"
             }
            },
            "type": "table"
           }
          ]
         },
         "layout": {
          "annotationdefaults": {
           "arrowcolor": "#2a3f5f",
           "arrowhead": 0,
           "arrowwidth": 1
          },
          "autotypenumbers": "strict",
          "coloraxis": {
           "colorbar": {
            "outlinewidth": 0,
            "ticks": ""
           }
          },
          "colorscale": {
           "diverging": [
            [
             0,
             "#8e0152"
            ],
            [
             0.1,
             "#c51b7d"
            ],
            [
             0.2,
             "#de77ae"
            ],
            [
             0.3,
             "#f1b6da"
            ],
            [
             0.4,
             "#fde0ef"
            ],
            [
             0.5,
             "#f7f7f7"
            ],
            [
             0.6,
             "#e6f5d0"
            ],
            [
             0.7,
             "#b8e186"
            ],
            [
             0.8,
             "#7fbc41"
            ],
            [
             0.9,
             "#4d9221"
            ],
            [
             1,
             "#276419"
            ]
           ],
           "sequential": [
            [
             0,
             "#0d0887"
            ],
            [
             0.1111111111111111,
             "#46039f"
            ],
            [
             0.2222222222222222,
             "#7201a8"
            ],
            [
             0.3333333333333333,
             "#9c179e"
            ],
            [
             0.4444444444444444,
             "#bd3786"
            ],
            [
             0.5555555555555556,
             "#d8576b"
            ],
            [
             0.6666666666666666,
             "#ed7953"
            ],
            [
             0.7777777777777778,
             "#fb9f3a"
            ],
            [
             0.8888888888888888,
             "#fdca26"
            ],
            [
             1,
             "#f0f921"
            ]
           ],
           "sequentialminus": [
            [
             0,
             "#0d0887"
            ],
            [
             0.1111111111111111,
             "#46039f"
            ],
            [
             0.2222222222222222,
             "#7201a8"
            ],
            [
             0.3333333333333333,
             "#9c179e"
            ],
            [
             0.4444444444444444,
             "#bd3786"
            ],
            [
             0.5555555555555556,
             "#d8576b"
            ],
            [
             0.6666666666666666,
             "#ed7953"
            ],
            [
             0.7777777777777778,
             "#fb9f3a"
            ],
            [
             0.8888888888888888,
             "#fdca26"
            ],
            [
             1,
             "#f0f921"
            ]
           ]
          },
          "colorway": [
           "#636efa",
           "#EF553B",
           "#00cc96",
           "#ab63fa",
           "#FFA15A",
           "#19d3f3",
           "#FF6692",
           "#B6E880",
           "#FF97FF",
           "#FECB52"
          ],
          "font": {
           "color": "#2a3f5f"
          },
          "geo": {
           "bgcolor": "white",
           "lakecolor": "white",
           "landcolor": "#E5ECF6",
           "showlakes": true,
           "showland": true,
           "subunitcolor": "white"
          },
          "hoverlabel": {
           "align": "left"
          },
          "hovermode": "closest",
          "mapbox": {
           "style": "light"
          },
          "paper_bgcolor": "white",
          "plot_bgcolor": "#E5ECF6",
          "polar": {
           "angularaxis": {
            "gridcolor": "white",
            "linecolor": "white",
            "ticks": ""
           },
           "bgcolor": "#E5ECF6",
           "radialaxis": {
            "gridcolor": "white",
            "linecolor": "white",
            "ticks": ""
           }
          },
          "scene": {
           "xaxis": {
            "backgroundcolor": "#E5ECF6",
            "gridcolor": "white",
            "gridwidth": 2,
            "linecolor": "white",
            "showbackground": true,
            "ticks": "",
            "zerolinecolor": "white"
           },
           "yaxis": {
            "backgroundcolor": "#E5ECF6",
            "gridcolor": "white",
            "gridwidth": 2,
            "linecolor": "white",
            "showbackground": true,
            "ticks": "",
            "zerolinecolor": "white"
           },
           "zaxis": {
            "backgroundcolor": "#E5ECF6",
            "gridcolor": "white",
            "gridwidth": 2,
            "linecolor": "white",
            "showbackground": true,
            "ticks": "",
            "zerolinecolor": "white"
           }
          },
          "shapedefaults": {
           "line": {
            "color": "#2a3f5f"
           }
          },
          "ternary": {
           "aaxis": {
            "gridcolor": "white",
            "linecolor": "white",
            "ticks": ""
           },
           "baxis": {
            "gridcolor": "white",
            "linecolor": "white",
            "ticks": ""
           },
           "bgcolor": "#E5ECF6",
           "caxis": {
            "gridcolor": "white",
            "linecolor": "white",
            "ticks": ""
           }
          },
          "title": {
           "x": 0.05
          },
          "xaxis": {
           "automargin": true,
           "gridcolor": "white",
           "linecolor": "white",
           "ticks": "",
           "title": {
            "standoff": 15
           },
           "zerolinecolor": "white",
           "zerolinewidth": 2
          },
          "yaxis": {
           "automargin": true,
           "gridcolor": "white",
           "linecolor": "white",
           "ticks": "",
           "title": {
            "standoff": 15
           },
           "zerolinecolor": "white",
           "zerolinewidth": 2
          }
         }
        },
        "title": {
         "text": "Visualizing performance of states in the education sector"
        },
        "width": 1200
       }
      }
     },
     "metadata": {},
     "output_type": "display_data"
    }
   ],
   "source": [
    "figtot.show()"
   ]
  },
  {
   "cell_type": "code",
   "execution_count": null,
   "metadata": {},
   "outputs": [],
   "source": []
  },
  {
   "cell_type": "code",
   "execution_count": null,
   "metadata": {},
   "outputs": [],
   "source": []
  }
 ],
 "metadata": {
  "interpreter": {
   "hash": "62a490a61034db1e8b6e05e6e999b5629625384177f9d8186b44b788547d5428"
  },
  "kernelspec": {
   "display_name": "Python 3.9.5 64-bit ('machine_L': venv)",
   "name": "python3"
  },
  "language_info": {
   "codemirror_mode": {
    "name": "ipython",
    "version": 3
   },
   "file_extension": ".py",
   "mimetype": "text/x-python",
   "name": "python",
   "nbconvert_exporter": "python",
   "pygments_lexer": "ipython3",
   "version": "3.9.5"
  },
  "orig_nbformat": 2
 },
 "nbformat": 4,
 "nbformat_minor": 2
}