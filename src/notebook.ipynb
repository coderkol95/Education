{
 "cells": [
  {
   "cell_type": "markdown",
   "metadata": {},
   "source": [
    "# Initialization\n"
   ]
  },
  {
   "cell_type": "markdown",
   "metadata": {},
   "source": [
    "## Importing the libraries"
   ]
  },
  {
   "cell_type": "code",
   "execution_count": 1,
   "metadata": {},
   "outputs": [],
   "source": [
    "###############################################################################\r\n",
    "#\r\n",
    "#Importing libraries\r\n",
    "#\r\n",
    "import numpy as np \r\n",
    "import scipy.stats\r\n",
    "import pandas as pd \r\n",
    "from sklearn.metrics import silhouette_samples,silhouette_score\r\n",
    "import matplotlib.pyplot as plt \r\n",
    "from mpl_toolkits import mplot3d\r\n",
    "import seaborn as sns\r\n",
    "import datapane as dp\r\n",
    "import plotly.express as px\r\n",
    "from sklearn.preprocessing import MinMaxScaler\r\n",
    "from sklearn.cluster import AffinityPropagation\r\n",
    "from scipy.stats import chi2_contingency as chi2\r\n",
    "###############################################################################\r\n",
    "#\r\n",
    "#Notebook options\r\n",
    "#\r\n",
    "%matplotlib inline\r\n",
    "plt.style.use('fivethirtyeight')\r\n",
    "pd.set_option('display.max_columns', 500)\r\n",
    "###############################################################################"
   ]
  },
  {
   "cell_type": "markdown",
   "metadata": {},
   "source": [
    "## Loading the data"
   ]
  },
  {
   "cell_type": "code",
   "execution_count": 2,
   "metadata": {},
   "outputs": [],
   "source": [
    "###############################################################################\n",
    "#\n",
    "# Reading all the data\n",
    "#\n",
    "dropout = pd.read_excel(r\"../Data/dropout.xls\")\n",
    "enrollments = pd.read_excel(r\"../Data/enrollment.xls\")\n",
    "drinks = pd.read_excel(r\"../Data/drinking_water.xls\")\n",
    "computers = pd.read_excel(r\"../Data/computers.xls\")\n",
    "electricity = pd.read_excel(r\"../Data/electricity.xls\")\n",
    "boys_toilet = pd.read_excel(r\"../Data/boys_toilet.xls\")\n",
    "girls_toilet = pd.read_excel(r\"../Data/girls_toilet.xls\")\n",
    "ptr= pd.read_excel(r\"../Data/pupil_teacher.xls\")\n",
    "###############################################################################"
   ]
  },
  {
   "cell_type": "markdown",
   "metadata": {},
   "source": [
    "# Data preparation"
   ]
  },
  {
   "cell_type": "code",
   "execution_count": 3,
   "metadata": {},
   "outputs": [],
   "source": [
    "###############################################################################\n",
    "#\n",
    "# def returner(xx)\n",
    "# Input: \n",
    "# xx= input dataframe of different factors\n",
    "# \n",
    "# 1. Calculate the aggregate score for that factor for a particular state over three years\n",
    "# 2. Returns the data as a dataframe with the state as the index\n",
    "#\n",
    "###############################################################################\n",
    "\n",
    "def returner(xx):\n",
    "    x=[]\n",
    "    for i in range(36):\n",
    "        x.append([xx['State'].iloc[3*i],xx[['State','All Schools']].iloc[3*i:i*3+3].mean()[0]])  \n",
    "    x=pd.DataFrame(x)\n",
    "    x.set_index(0, inplace=True)\n",
    "    x.index.name='State'\n",
    "    return x"
   ]
  },
  {
   "cell_type": "code",
   "execution_count": 4,
   "metadata": {},
   "outputs": [],
   "source": [
    "enrollments['Higher_Secondary_Boys']=enrollments['Higher_Secondary_Boys'].astype('float')\n",
    "enrollments['Higher_Secondary_Girls']=enrollments['Higher_Secondary_Girls'].astype('float')\n",
    "enrollments['Higher_Secondary_Total']=enrollments['Higher_Secondary_Total'].astype('float')   \n",
    "\n",
    "drinks=returner(drinks)\n",
    "drinks.columns=['Drinking water']\n",
    "electricity=returner(electricity)\n",
    "electricity.columns=['Electricity']\n",
    "computers=returner(computers)\n",
    "computers.columns=[\"Computer\"]\n",
    "boys_t=returner(boys_toilet)\n",
    "boys_t.columns=['Boys toilet']\n",
    "girls_t=returner(girls_toilet)\n",
    "girls_t.columns=['Girls toilet']\n",
    "\n",
    "factors=pd.concat([drinks,electricity,computers,boys_t,girls_t],axis=1)\n",
    "factors.reset_index(inplace=True)"
   ]
  },
  {
   "cell_type": "code",
   "execution_count": 5,
   "metadata": {},
   "outputs": [],
   "source": [
    "# Extracting the names of the states\n",
    "\n",
    "states=[]\n",
    "for i in range(36):\n",
    "    states.append(dropout.State.iloc[3*i])\n",
    "states=pd.DataFrame(states, columns=['State'])"
   ]
  },
  {
   "cell_type": "code",
   "execution_count": 6,
   "metadata": {},
   "outputs": [],
   "source": [
    "###############################################################################\n",
    "#\n",
    "# def create_aggregate(inp)\n",
    "# \n",
    "# Input: input data of enrollments and dropouts\n",
    "#\n",
    "# 1. Drop the state and year columns\n",
    "# 2. Aggregate the data over 3 years and return it \n",
    "#\n",
    "################################################################################\n",
    "\n",
    "def create_aggregate(inp):\n",
    "    inp.drop(['State','Year'],axis=1,inplace=True)\n",
    "\n",
    "    x=pd.DataFrame()\n",
    "    for i in range(36):\n",
    "        x[i]=inp.iloc[3*i+0:i*3+3,:].mean()\n",
    "    x=x.transpose() \n",
    "    return x"
   ]
  },
  {
   "cell_type": "code",
   "execution_count": 7,
   "metadata": {},
   "outputs": [],
   "source": [
    "dropouts_x = create_aggregate(dropout)\n",
    "enrollments_x=create_aggregate(enrollments)"
   ]
  },
  {
   "cell_type": "markdown",
   "metadata": {},
   "source": [
    "# Data exploration"
   ]
  },
  {
   "cell_type": "code",
   "execution_count": 8,
   "metadata": {},
   "outputs": [
    {
     "name": "stdout",
     "output_type": "stream",
     "text": [
      "\n",
      " Correlation between enrollment rates at different stages of schooling\n",
      "\n"
     ]
    },
    {
     "data": {
      "text/html": [
       "<style  type=\"text/css\" >\n",
       "#T_5db4e_row0_col0,#T_5db4e_row1_col1,#T_5db4e_row2_col2,#T_5db4e_row3_col3{\n",
       "            background-color:  #b40426;\n",
       "            color:  #f1f1f1;\n",
       "        }#T_5db4e_row0_col1{\n",
       "            background-color:  #f7b89c;\n",
       "            color:  #000000;\n",
       "        }#T_5db4e_row0_col2,#T_5db4e_row0_col3,#T_5db4e_row3_col0,#T_5db4e_row3_col1{\n",
       "            background-color:  #3b4cc0;\n",
       "            color:  #f1f1f1;\n",
       "        }#T_5db4e_row1_col0{\n",
       "            background-color:  #f59c7d;\n",
       "            color:  #000000;\n",
       "        }#T_5db4e_row1_col2{\n",
       "            background-color:  #cdd9ec;\n",
       "            color:  #000000;\n",
       "        }#T_5db4e_row1_col3{\n",
       "            background-color:  #89acfd;\n",
       "            color:  #000000;\n",
       "        }#T_5db4e_row2_col0{\n",
       "            background-color:  #97b8ff;\n",
       "            color:  #000000;\n",
       "        }#T_5db4e_row2_col1{\n",
       "            background-color:  #d5dbe5;\n",
       "            color:  #000000;\n",
       "        }#T_5db4e_row2_col3{\n",
       "            background-color:  #f6a586;\n",
       "            color:  #000000;\n",
       "        }#T_5db4e_row3_col2{\n",
       "            background-color:  #f3c8b2;\n",
       "            color:  #000000;\n",
       "        }</style><table id=\"T_5db4e_\" ><thead>    <tr>        <th class=\"blank level0\" ></th>        <th class=\"col_heading level0 col0\" >Primary_Total</th>        <th class=\"col_heading level0 col1\" >Upper_Primary_Total</th>        <th class=\"col_heading level0 col2\" >Secondary_Total</th>        <th class=\"col_heading level0 col3\" >Higher_Secondary_Total</th>    </tr></thead><tbody>\n",
       "                <tr>\n",
       "                        <th id=\"T_5db4e_level0_row0\" class=\"row_heading level0 row0\" >Primary_Total</th>\n",
       "                        <td id=\"T_5db4e_row0_col0\" class=\"data row0 col0\" >1.000000</td>\n",
       "                        <td id=\"T_5db4e_row0_col1\" class=\"data row0 col1\" >0.691324</td>\n",
       "                        <td id=\"T_5db4e_row0_col2\" class=\"data row0 col2\" >0.122769</td>\n",
       "                        <td id=\"T_5db4e_row0_col3\" class=\"data row0 col3\" >-0.214995</td>\n",
       "            </tr>\n",
       "            <tr>\n",
       "                        <th id=\"T_5db4e_level0_row1\" class=\"row_heading level0 row1\" >Upper_Primary_Total</th>\n",
       "                        <td id=\"T_5db4e_row1_col0\" class=\"data row1 col0\" >0.691324</td>\n",
       "                        <td id=\"T_5db4e_row1_col1\" class=\"data row1 col1\" >1.000000</td>\n",
       "                        <td id=\"T_5db4e_row1_col2\" class=\"data row1 col2\" >0.513059</td>\n",
       "                        <td id=\"T_5db4e_row1_col3\" class=\"data row1 col3\" >0.076736</td>\n",
       "            </tr>\n",
       "            <tr>\n",
       "                        <th id=\"T_5db4e_level0_row2\" class=\"row_heading level0 row2\" >Secondary_Total</th>\n",
       "                        <td id=\"T_5db4e_row2_col0\" class=\"data row2 col0\" >0.122769</td>\n",
       "                        <td id=\"T_5db4e_row2_col1\" class=\"data row2 col1\" >0.513059</td>\n",
       "                        <td id=\"T_5db4e_row2_col2\" class=\"data row2 col2\" >1.000000</td>\n",
       "                        <td id=\"T_5db4e_row2_col3\" class=\"data row2 col3\" >0.660590</td>\n",
       "            </tr>\n",
       "            <tr>\n",
       "                        <th id=\"T_5db4e_level0_row3\" class=\"row_heading level0 row3\" >Higher_Secondary_Total</th>\n",
       "                        <td id=\"T_5db4e_row3_col0\" class=\"data row3 col0\" >-0.214995</td>\n",
       "                        <td id=\"T_5db4e_row3_col1\" class=\"data row3 col1\" >0.076736</td>\n",
       "                        <td id=\"T_5db4e_row3_col2\" class=\"data row3 col2\" >0.660590</td>\n",
       "                        <td id=\"T_5db4e_row3_col3\" class=\"data row3 col3\" >1.000000</td>\n",
       "            </tr>\n",
       "    </tbody></table>"
      ],
      "text/plain": [
       "<pandas.io.formats.style.Styler at 0x27a0f1c2490>"
      ]
     },
     "execution_count": 8,
     "metadata": {},
     "output_type": "execute_result"
    }
   ],
   "source": [
    "print(\"\\n Correlation between enrollment rates at different stages of schooling\\n\")\n",
    "enrollments[['Primary_Total', 'Upper_Primary_Total', 'Secondary_Total','Higher_Secondary_Total']].corr(method='spearman').style.background_gradient(cmap='coolwarm')"
   ]
  },
  {
   "cell_type": "markdown",
   "metadata": {},
   "source": [
    "### Observations\n",
    "* There is moderate positive correlation between `primary` and `upper primary` dropouts\n",
    "* There is moderate positive correlation between `secondary` and `higher secondary` dropouts\n",
    "\n",
    "Probably in similar states students dropout during the lower classes, and in other similar states the dropout rate is higher in the upper classes."
   ]
  },
  {
   "cell_type": "code",
   "execution_count": 9,
   "metadata": {},
   "outputs": [
    {
     "name": "stdout",
     "output_type": "stream",
     "text": [
      "\n",
      " Correlation between dropout rates at different stages of schooling\n",
      "\n"
     ]
    },
    {
     "data": {
      "text/html": [
       "<style  type=\"text/css\" >\n",
       "#T_47b47_row0_col0,#T_47b47_row1_col1,#T_47b47_row2_col2,#T_47b47_row3_col3{\n",
       "            background-color:  #b40426;\n",
       "            color:  #f1f1f1;\n",
       "        }#T_47b47_row0_col1{\n",
       "            background-color:  #f18d6f;\n",
       "            color:  #000000;\n",
       "        }#T_47b47_row0_col2{\n",
       "            background-color:  #d7dce3;\n",
       "            color:  #000000;\n",
       "        }#T_47b47_row0_col3,#T_47b47_row3_col0,#T_47b47_row3_col1,#T_47b47_row3_col2{\n",
       "            background-color:  #3b4cc0;\n",
       "            color:  #f1f1f1;\n",
       "        }#T_47b47_row1_col0{\n",
       "            background-color:  #ee8468;\n",
       "            color:  #000000;\n",
       "        }#T_47b47_row1_col2{\n",
       "            background-color:  #f7b89c;\n",
       "            color:  #000000;\n",
       "        }#T_47b47_row1_col3{\n",
       "            background-color:  #5572df;\n",
       "            color:  #000000;\n",
       "        }#T_47b47_row2_col0{\n",
       "            background-color:  #dfdbd9;\n",
       "            color:  #000000;\n",
       "        }#T_47b47_row2_col1{\n",
       "            background-color:  #f7bca1;\n",
       "            color:  #000000;\n",
       "        }#T_47b47_row2_col3{\n",
       "            background-color:  #4b64d5;\n",
       "            color:  #f1f1f1;\n",
       "        }</style><table id=\"T_47b47_\" ><thead>    <tr>        <th class=\"blank level0\" ></th>        <th class=\"col_heading level0 col0\" >PRIMARY_TOTAL</th>        <th class=\"col_heading level0 col1\" >UPPER_PRIMARY_TOTAL</th>        <th class=\"col_heading level0 col2\" >SECONDARY_TOTAL</th>        <th class=\"col_heading level0 col3\" >HRSECONDARY_TOTAL</th>    </tr></thead><tbody>\n",
       "                <tr>\n",
       "                        <th id=\"T_47b47_level0_row0\" class=\"row_heading level0 row0\" >PRIMARY_TOTAL</th>\n",
       "                        <td id=\"T_47b47_row0_col0\" class=\"data row0 col0\" >1.000000</td>\n",
       "                        <td id=\"T_47b47_row0_col1\" class=\"data row0 col1\" >0.748033</td>\n",
       "                        <td id=\"T_47b47_row0_col2\" class=\"data row0 col2\" >0.384132</td>\n",
       "                        <td id=\"T_47b47_row0_col3\" class=\"data row0 col3\" >-0.255152</td>\n",
       "            </tr>\n",
       "            <tr>\n",
       "                        <th id=\"T_47b47_level0_row1\" class=\"row_heading level0 row1\" >UPPER_PRIMARY_TOTAL</th>\n",
       "                        <td id=\"T_47b47_row1_col0\" class=\"data row1 col0\" >0.748033</td>\n",
       "                        <td id=\"T_47b47_row1_col1\" class=\"data row1 col1\" >1.000000</td>\n",
       "                        <td id=\"T_47b47_row1_col2\" class=\"data row1 col2\" >0.605983</td>\n",
       "                        <td id=\"T_47b47_row1_col3\" class=\"data row1 col3\" >-0.144547</td>\n",
       "            </tr>\n",
       "            <tr>\n",
       "                        <th id=\"T_47b47_level0_row2\" class=\"row_heading level0 row2\" >SECONDARY_TOTAL</th>\n",
       "                        <td id=\"T_47b47_row2_col0\" class=\"data row2 col0\" >0.384132</td>\n",
       "                        <td id=\"T_47b47_row2_col1\" class=\"data row2 col1\" >0.605983</td>\n",
       "                        <td id=\"T_47b47_row2_col2\" class=\"data row2 col2\" >1.000000</td>\n",
       "                        <td id=\"T_47b47_row2_col3\" class=\"data row2 col3\" >-0.183079</td>\n",
       "            </tr>\n",
       "            <tr>\n",
       "                        <th id=\"T_47b47_level0_row3\" class=\"row_heading level0 row3\" >HRSECONDARY_TOTAL</th>\n",
       "                        <td id=\"T_47b47_row3_col0\" class=\"data row3 col0\" >-0.255152</td>\n",
       "                        <td id=\"T_47b47_row3_col1\" class=\"data row3 col1\" >-0.144547</td>\n",
       "                        <td id=\"T_47b47_row3_col2\" class=\"data row3 col2\" >-0.183079</td>\n",
       "                        <td id=\"T_47b47_row3_col3\" class=\"data row3 col3\" >1.000000</td>\n",
       "            </tr>\n",
       "    </tbody></table>"
      ],
      "text/plain": [
       "<pandas.io.formats.style.Styler at 0x27a0f1bd3d0>"
      ]
     },
     "execution_count": 9,
     "metadata": {},
     "output_type": "execute_result"
    }
   ],
   "source": [
    "print(\"\\n Correlation between dropout rates at different stages of schooling\\n\")\n",
    "dropout[['PRIMARY_TOTAL', 'UPPER_PRIMARY_TOTAL', 'SECONDARY_TOTAL','HRSECONDARY_TOTAL']].corr(method='spearman').style.background_gradient(cmap='coolwarm')"
   ]
  },
  {
   "cell_type": "markdown",
   "metadata": {},
   "source": [
    "### Observations\n",
    "\n",
    "* Dropouts in `primary` and `upper primary` are positively correlated. We need to do further analysis."
   ]
  },
  {
   "cell_type": "code",
   "execution_count": 10,
   "metadata": {},
   "outputs": [
    {
     "data": {
      "text/plain": [
       "Text(0.5, 0.98, 'Analysis on dropout and enrollment rates')"
      ]
     },
     "execution_count": 10,
     "metadata": {},
     "output_type": "execute_result"
    },
    {
     "data": {
      "image/png": "[encoded data removed]",
      "text/plain": [
       "<Figure size 1584x720 with 4 Axes>"
      ]
     },
     "metadata": {},
     "output_type": "display_data"
    }
   ],
   "source": [
    "prim=['Primary']*36\n",
    "uprim=['Upper Primary']*36\n",
    "sec=['Secondary']*36\n",
    "usec=['Higher Secondary']*36\n",
    "lis=prim+uprim+sec+usec\n",
    "lis\n",
    "datas=pd.DataFrame({'values':pd.concat([enrollments_x['Primary_Total'],enrollments_x['Upper_Primary_Total'],enrollments_x['Secondary_Total'],enrollments_x['Higher_Secondary_Total']],axis=0), 'ID':lis, 'State':list(states['State'])*4})\n",
    "\n",
    "enrollments_boys=(enrollments_x['Primary_Boys']+enrollments_x['Upper_Primary_Boys']+enrollments_x['Secondary_Boys']+enrollments_x['Higher_Secondary_Boys'])/4\n",
    "enrollments_girls=(enrollments_x['Primary_Girls']+enrollments_x['Upper_Primary_Girls']+enrollments_x['Secondary_Girls']+enrollments_x['Higher_Secondary_Girls'])/4\n",
    "boys=['Boys']*36\n",
    "girls=['Girls']*36\n",
    "sex=boys+girls\n",
    "enrolls=pd.concat([enrollments_boys,enrollments_girls],axis=0)\n",
    "datassex1=pd.DataFrame({'Enrollments':enrolls,'Sex':sex,'State':list(states['State'])*2})\n",
    "\n",
    "\n",
    "datass=pd.DataFrame({'values':pd.concat([dropouts_x['PRIMARY_TOTAL'],dropouts_x['UPPER_PRIMARY_TOTAL'],dropouts_x['SECONDARY_TOTAL'],dropouts_x['HRSECONDARY_TOTAL']],axis=0), 'ID':lis,'State':list(states['State'])*4})\n",
    "\n",
    "dropouts_boys=(dropouts_x['PRIMARY_BOYS']+dropouts_x['UPPER_PRIMARY_BOYS']+dropouts_x['SECONDARY_BOYS']+dropouts_x['HRSECONDARY_BOYS'])/4\n",
    "dropouts_girls=(dropouts_x['PRIMARY_GIRLS']+dropouts_x['UPPER_PRIMARY_GIRLS']+dropouts_x['SECONDARY_GIRLS']+dropouts_x['HRSECONDARY_GIRLS'])/4\n",
    "\n",
    "drops=pd.concat([dropouts_boys,dropouts_girls],axis=0)\n",
    "datassex2=pd.DataFrame({'Dropouts':drops,'Sex':sex,'State':list(states['State'])*2})\n",
    "\n",
    "fig,ax=plt.subplots(2,2,figsize=(22,10))\n",
    "\n",
    "sns.boxplot(x='values',y='ID',data=datas,ax=ax[0,0])\n",
    "ax[0,0].set_xlabel('Average enrollment rates(%)')\n",
    "ax[0,0].set_ylabel('Section of school')\n",
    "#ax[0].suptitle('Comparison of enrollment rates across different sections of the school')\n",
    "\n",
    "sns.boxplot(x='Enrollments',y='Sex',data=datassex1,ax=ax[0,1])\n",
    "ax[0,1].set_xlabel('Average enrollment rates(%)')\n",
    "ax[0,1].set_ylabel('Sex')\n",
    "#ax[1].suptitle('Comparison of enrollment rates across sex')\n",
    "\n",
    "sns.boxplot(x='values',y='ID',data=datass,ax=ax[1,0])\n",
    "ax[1,0].set_xlabel('Average dropout rates(%)')\n",
    "ax[1,0].set_ylabel('Section of school')\n",
    "#plt.title('Comparison of dropout rates across different sections of the school')\n",
    "\n",
    "\n",
    "sns.boxplot(x='Dropouts',y='Sex',data=datassex2,ax=ax[1,1])\n",
    "ax[1,1].set_xlabel('Average dropout rates(%)')\n",
    "ax[1,1].set_ylabel('Sex')\n",
    "\n",
    "low_prim=datas.State.iloc[datas['values'][datas['ID']=='Primary'].idxmin()]\n",
    "up_prim=datas.State.iloc[datas['values'][datas['ID']=='Upper Primary'].idxmin()]\n",
    "\n",
    "\n",
    "p_out=datass.State.iloc[datass['values'][datass['ID']=='Primary'].idxmax()]\n",
    "up_out= datass.State.iloc[datass['values'][datass['ID']=='Upper Primary'].idxmax()]\n",
    "sec_out=datassex2.State.iloc[datass['values'][datass['ID']=='Primary'].idxmax()]\n",
    "boys_out=datassex2.State.iloc[datassex2['Dropouts'][datassex2['Sex']=='Boys'].idxmax()]\n",
    "\n",
    "\n",
    "ax[0,0].text(55,0.1,s=low_prim)\n",
    "ax[0,0].text(40,1,s=up_prim)\n",
    "ax[1,0].text(17,0.1,s=p_out)\n",
    "ax[1,0].text(13,1,s=up_out)\n",
    "ax[1,0].text(37,2,s=sec_out)\n",
    "ax[1,1].text(14,0.1,s=boys_out)\n",
    "\n",
    "plt.suptitle(\"Analysis on dropout and enrollment rates\")"
   ]
  },
  {
   "cell_type": "markdown",
   "metadata": {},
   "source": [
    "`Observation:`\n",
    "* Lakshwadeep and J&K have exceptionally low enrollment rates\n",
    "* Mizoram has exceptionally high dropout rates in secondary school\n",
    "* Nagaland has exceptionally high dropout rates of boys"
   ]
  },
  {
   "cell_type": "markdown",
   "metadata": {},
   "source": [
    "## Student to teacher ratio"
   ]
  },
  {
   "cell_type": "code",
   "execution_count": 11,
   "metadata": {},
   "outputs": [
    {
     "name": "stderr",
     "output_type": "stream",
     "text": [
      "c:\\Users\\ADMIN\\Documents\\Codebase\\envs\\machine_L\\lib\\site-packages\\datapane\\client\\api\\__init__.py:83: UserWarning:\n",
      "\n",
      "Deprecated, to be removed in next release, use dp.Text instead.\n",
      "\n"
     ]
    },
    {
     "data": {
      "text/markdown": [
       "Publishing document and associated data - *please wait...*"
      ],
      "text/plain": [
       "<IPython.core.display.Markdown object>"
      ]
     },
     "metadata": {},
     "output_type": "display_data"
    },
    {
     "data": {
      "text/markdown": [
       "Report successfully published at https://datapane.com/u/anupammisra/reports/str/ - you can edit and add additional text online"
      ],
      "text/plain": [
       "<IPython.core.display.Markdown object>"
      ]
     },
     "metadata": {},
     "output_type": "display_data"
    }
   ],
   "source": [
    "prim=['Primary']*36\n",
    "uprim=['Upper Primary']*36\n",
    "sec=['Secondary']*36\n",
    "usec=['Higher Secondary']*36\n",
    "lis=prim+uprim+sec+usec\n",
    "lis\n",
    "datas=pd.DataFrame({'Mean percentage(%)':pd.concat([ptr['Primary'],ptr['Upper Primary'],ptr['Secondary'],ptr['Higher Secondary']],axis=0), 'Section of school':lis, 'State':list(states['State'])*4})\n",
    "\n",
    "fig=px.box(data_frame=datas,x='Mean percentage(%)', y='Section of school',hover_name='State',color='Section of school', title=\"Student to teacher ratio\")\n",
    "fig.update_layout(showlegend=False)\n",
    "\n",
    "r = dp.Report(\n",
    "  dp.Markdown('Student to teacher ratio'), #add description to the report\n",
    "  dp.Plot(fig) #create a chart\n",
    ").publish(name='STR', visibility=dp.Visibility.PUBLIC,open=True) #Publish the report"
   ]
  },
  {
   "cell_type": "markdown",
   "metadata": {},
   "source": [
    "`Observations:`\n",
    "\n",
    "* Most states lack teachers in the higher secondary school. Certain states are doing very poorly namely UP, Bihar, Jharkhand and WB"
   ]
  },
  {
   "cell_type": "code",
   "execution_count": 12,
   "metadata": {},
   "outputs": [
    {
     "name": "stderr",
     "output_type": "stream",
     "text": [
      "c:\\Users\\ADMIN\\Documents\\Codebase\\envs\\machine_L\\lib\\site-packages\\datapane\\client\\api\\__init__.py:83: UserWarning:\n",
      "\n",
      "Deprecated, to be removed in next release, use dp.Text instead.\n",
      "\n"
     ]
    },
    {
     "data": {
      "text/markdown": [
       "Publishing document and associated data - *please wait...*"
      ],
      "text/plain": [
       "<IPython.core.display.Markdown object>"
      ]
     },
     "metadata": {},
     "output_type": "display_data"
    },
    {
     "data": {
      "text/markdown": [
       "Report successfully published at https://datapane.com/u/anupammisra/reports/overall/ - you can edit and add additional text online"
      ],
      "text/plain": [
       "<IPython.core.display.Markdown object>"
      ]
     },
     "metadata": {},
     "output_type": "display_data"
    }
   ],
   "source": [
    "dropss=dropouts_x.iloc[:,[2,5,8,11]].mean(axis=1)\n",
    "enrolls=enrollments_x.iloc[:,[2,5,8,11]].mean(axis=1)\n",
    "ptrs=ptr.iloc[:,[1,4]].mean(axis=1)\n",
    "comb=pd.DataFrame({'Enrollments(%)':enrolls,'Dropouts(%)':dropss,'student_teacher_ratio':ptrs})\n",
    "figz = px.scatter(data_frame=comb, x=\"Enrollments(%)\", y=\"Dropouts(%)\", size=\"student_teacher_ratio\", color=states.State, log_x=True, size_max=20, width=1000, height=500, title='Dropouts vs enrollments')\n",
    "figz.update_layout(showlegend=False)\n",
    "r = dp.Report(\n",
    "  dp.Markdown('Overall picture of dropout, enrollment and student:teacher ratio among states'), #add description to the report\n",
    "  dp.Plot(figz) #create a chart\n",
    ").publish(name='Overall', visibility=dp.Visibility.PUBLIC,open=True) #Publish the report"
   ]
  },
  {
   "cell_type": "markdown",
   "metadata": {},
   "source": [
    "`Observations:`\n",
    "\n",
    "* UP has the highest student to teacher ratio. It also has low enrollment rate\n",
    "* Bihar has low enrollment and high dropout rate. They also have a high student to teacher ratio."
   ]
  },
  {
   "cell_type": "code",
   "execution_count": 13,
   "metadata": {},
   "outputs": [],
   "source": [
    "retention_in_secondary = enrollments_x.Secondary_Total * (100-dropouts_x.SECONDARY_TOTAL)/100"
   ]
  },
  {
   "cell_type": "code",
   "execution_count": 14,
   "metadata": {},
   "outputs": [],
   "source": [
    "col = lambda x : 1 if x<=60 else (2 if x <=80 else (3 if x<=90 else 4))"
   ]
  },
  {
   "cell_type": "code",
   "execution_count": 15,
   "metadata": {},
   "outputs": [
    {
     "name": "stderr",
     "output_type": "stream",
     "text": [
      "<ipython-input-15-9481177ef9aa>:4: SettingWithCopyWarning:\n",
      "\n",
      "\n",
      "A value is trying to be set on a copy of a slice from a DataFrame\n",
      "\n",
      "See the caveats in the documentation: https://pandas.pydata.org/pandas-docs/stable/user_guide/indexing.html#returning-a-view-versus-a-copy\n",
      "\n"
     ]
    }
   ],
   "source": [
    "retention_in_secondary = pd.DataFrame(retention_in_secondary)\n",
    "retention_in_secondary = pd.concat([states,retention_in_secondary],axis=1)\n",
    "retention_in_secondary.columns=['State','Retention(%)']\n",
    "retention_in_secondary['Retention(%)'][retention_in_secondary.State=='Chandigarh']=enrollments_x.Secondary_Total[5]\n",
    "retention_in_secondary['color'] = retention_in_secondary['Retention(%)'].apply(col)"
   ]
  },
  {
   "cell_type": "code",
   "execution_count": 16,
   "metadata": {},
   "outputs": [
    {
     "data": {
      "text/markdown": [
       "Publishing document and associated data - *please wait...*"
      ],
      "text/plain": [
       "<IPython.core.display.Markdown object>"
      ]
     },
     "metadata": {},
     "output_type": "display_data"
    },
    {
     "data": {
      "text/markdown": [
       "Your report doesn't contain any text - did you know you can add text to your report from your browser once published?"
      ],
      "text/plain": [
       "<IPython.core.display.Markdown object>"
      ]
     },
     "metadata": {},
     "output_type": "display_data"
    },
    {
     "data": {
      "text/markdown": [
       "Your report only contains a single element - did you know you can add multiple plots and tables to a report, add text to it and export directly to Medium once published?"
      ],
      "text/plain": [
       "<IPython.core.display.Markdown object>"
      ]
     },
     "metadata": {},
     "output_type": "display_data"
    },
    {
     "data": {
      "text/markdown": [
       "Report successfully published at https://datapane.com/u/anupammisra/reports/retention/ - you can edit and add additional text online"
      ],
      "text/plain": [
       "<IPython.core.display.Markdown object>"
      ]
     },
     "metadata": {},
     "output_type": "display_data"
    }
   ],
   "source": [
    "figx=px.scatter(data_frame= retention_in_secondary, x = 'Retention(%)', hover_name ='State' , color='color', color_continuous_scale='turbo',title=\"Retention rates in secondary school\")\n",
    "figx.update_layout(showlegend=False)\n",
    "\n",
    "r2 = dp.Report(\n",
    "  dp.Plot(figx) #create a chart\n",
    ").publish(name='Retention', visibility=dp.Visibility.PUBLIC,open=True) #Publish the report"
   ]
  },
  {
   "cell_type": "code",
   "execution_count": null,
   "metadata": {},
   "outputs": [],
   "source": []
  },
  {
   "cell_type": "markdown",
   "metadata": {},
   "source": [
    "## Other factors in schooling"
   ]
  },
  {
   "cell_type": "code",
   "execution_count": 17,
   "metadata": {},
   "outputs": [
    {
     "data": {
      "text/html": [
       "<style  type=\"text/css\" >\n",
       "#T_926c3_row0_col0,#T_926c3_row1_col1,#T_926c3_row2_col2,#T_926c3_row3_col3,#T_926c3_row4_col4{\n",
       "            background-color:  #b40426;\n",
       "            color:  #f1f1f1;\n",
       "        }#T_926c3_row0_col1{\n",
       "            background-color:  #e5d8d1;\n",
       "            color:  #000000;\n",
       "        }#T_926c3_row0_col2,#T_926c3_row0_col4,#T_926c3_row1_col3,#T_926c3_row3_col1,#T_926c3_row4_col0{\n",
       "            background-color:  #3b4cc0;\n",
       "            color:  #f1f1f1;\n",
       "        }#T_926c3_row0_col3{\n",
       "            background-color:  #5d7ce6;\n",
       "            color:  #000000;\n",
       "        }#T_926c3_row1_col0{\n",
       "            background-color:  #ead4c8;\n",
       "            color:  #000000;\n",
       "        }#T_926c3_row1_col2{\n",
       "            background-color:  #e8d6cc;\n",
       "            color:  #000000;\n",
       "        }#T_926c3_row1_col4{\n",
       "            background-color:  #b3cdfb;\n",
       "            color:  #000000;\n",
       "        }#T_926c3_row2_col0{\n",
       "            background-color:  #6384eb;\n",
       "            color:  #000000;\n",
       "        }#T_926c3_row2_col1{\n",
       "            background-color:  #efcfbf;\n",
       "            color:  #000000;\n",
       "        }#T_926c3_row2_col3{\n",
       "            background-color:  #6788ee;\n",
       "            color:  #000000;\n",
       "        }#T_926c3_row2_col4,#T_926c3_row4_col1{\n",
       "            background-color:  #a7c5fe;\n",
       "            color:  #000000;\n",
       "        }#T_926c3_row3_col0{\n",
       "            background-color:  #6e90f2;\n",
       "            color:  #000000;\n",
       "        }#T_926c3_row3_col2{\n",
       "            background-color:  #4f69d9;\n",
       "            color:  #000000;\n",
       "        }#T_926c3_row3_col4{\n",
       "            background-color:  #f3c8b2;\n",
       "            color:  #000000;\n",
       "        }#T_926c3_row4_col2{\n",
       "            background-color:  #84a7fc;\n",
       "            color:  #000000;\n",
       "        }#T_926c3_row4_col3{\n",
       "            background-color:  #f0cdbb;\n",
       "            color:  #000000;\n",
       "        }</style><table id=\"T_926c3_\" ><thead>    <tr>        <th class=\"blank level0\" ></th>        <th class=\"col_heading level0 col0\" >Drinking water</th>        <th class=\"col_heading level0 col1\" >Electricity</th>        <th class=\"col_heading level0 col2\" >Computer</th>        <th class=\"col_heading level0 col3\" >Boys toilet</th>        <th class=\"col_heading level0 col4\" >Girls toilet</th>    </tr></thead><tbody>\n",
       "                <tr>\n",
       "                        <th id=\"T_926c3_level0_row0\" class=\"row_heading level0 row0\" >Drinking water</th>\n",
       "                        <td id=\"T_926c3_row0_col0\" class=\"data row0 col0\" >1.000000</td>\n",
       "                        <td id=\"T_926c3_row0_col1\" class=\"data row0 col1\" >0.866581</td>\n",
       "                        <td id=\"T_926c3_row0_col2\" class=\"data row0 col2\" >0.737629</td>\n",
       "                        <td id=\"T_926c3_row0_col3\" class=\"data row0 col3\" >0.746873</td>\n",
       "                        <td id=\"T_926c3_row0_col4\" class=\"data row0 col4\" >0.698581</td>\n",
       "            </tr>\n",
       "            <tr>\n",
       "                        <th id=\"T_926c3_level0_row1\" class=\"row_heading level0 row1\" >Electricity</th>\n",
       "                        <td id=\"T_926c3_row1_col0\" class=\"data row1 col0\" >0.866581</td>\n",
       "                        <td id=\"T_926c3_row1_col1\" class=\"data row1 col1\" >1.000000</td>\n",
       "                        <td id=\"T_926c3_row1_col2\" class=\"data row1 col2\" >0.880671</td>\n",
       "                        <td id=\"T_926c3_row1_col3\" class=\"data row1 col3\" >0.714636</td>\n",
       "                        <td id=\"T_926c3_row1_col4\" class=\"data row1 col4\" >0.807742</td>\n",
       "            </tr>\n",
       "            <tr>\n",
       "                        <th id=\"T_926c3_level0_row2\" class=\"row_heading level0 row2\" >Computer</th>\n",
       "                        <td id=\"T_926c3_row2_col0\" class=\"data row2 col0\" >0.737629</td>\n",
       "                        <td id=\"T_926c3_row2_col1\" class=\"data row2 col1\" >0.880671</td>\n",
       "                        <td id=\"T_926c3_row2_col2\" class=\"data row2 col2\" >1.000000</td>\n",
       "                        <td id=\"T_926c3_row2_col3\" class=\"data row2 col3\" >0.755184</td>\n",
       "                        <td id=\"T_926c3_row2_col4\" class=\"data row2 col4\" >0.796650</td>\n",
       "            </tr>\n",
       "            <tr>\n",
       "                        <th id=\"T_926c3_level0_row3\" class=\"row_heading level0 row3\" >Boys toilet</th>\n",
       "                        <td id=\"T_926c3_row3_col0\" class=\"data row3 col0\" >0.746873</td>\n",
       "                        <td id=\"T_926c3_row3_col1\" class=\"data row3 col1\" >0.714636</td>\n",
       "                        <td id=\"T_926c3_row3_col2\" class=\"data row3 col2\" >0.755184</td>\n",
       "                        <td id=\"T_926c3_row3_col3\" class=\"data row3 col3\" >1.000000</td>\n",
       "                        <td id=\"T_926c3_row3_col4\" class=\"data row3 col4\" >0.882785</td>\n",
       "            </tr>\n",
       "            <tr>\n",
       "                        <th id=\"T_926c3_level0_row4\" class=\"row_heading level0 row4\" >Girls toilet</th>\n",
       "                        <td id=\"T_926c3_row4_col0\" class=\"data row4 col0\" >0.698581</td>\n",
       "                        <td id=\"T_926c3_row4_col1\" class=\"data row4 col1\" >0.807742</td>\n",
       "                        <td id=\"T_926c3_row4_col2\" class=\"data row4 col2\" >0.796650</td>\n",
       "                        <td id=\"T_926c3_row4_col3\" class=\"data row4 col3\" >0.882785</td>\n",
       "                        <td id=\"T_926c3_row4_col4\" class=\"data row4 col4\" >1.000000</td>\n",
       "            </tr>\n",
       "    </tbody></table>"
      ],
      "text/plain": [
       "<pandas.io.formats.style.Styler at 0x27a24bda640>"
      ]
     },
     "execution_count": 17,
     "metadata": {},
     "output_type": "execute_result"
    }
   ],
   "source": [
    "factors.corr(method='spearman').style.background_gradient(cmap=\"coolwarm\")"
   ]
  },
  {
   "cell_type": "code",
   "execution_count": 18,
   "metadata": {},
   "outputs": [
    {
     "data": {
      "text/markdown": [
       "Publishing document and associated data - *please wait...*"
      ],
      "text/plain": [
       "<IPython.core.display.Markdown object>"
      ]
     },
     "metadata": {},
     "output_type": "display_data"
    },
    {
     "data": {
      "text/markdown": [
       "Report successfully published at https://datapane.com/u/anupammisra/reports/factors/ - you can edit and add additional text online"
      ],
      "text/plain": [
       "<IPython.core.display.Markdown object>"
      ]
     },
     "metadata": {},
     "output_type": "display_data"
    }
   ],
   "source": [
    "prim=['Drinking water']*36\n",
    "uprim=['Electricity']*36\n",
    "uuprim=['Computer']*36\n",
    "sec=['Boys toilet']*36\n",
    "usec=['Girls toilet']*36\n",
    "lis=prim+uprim+uuprim+sec+usec\n",
    "\n",
    "datas_facts=pd.DataFrame({'Mean percentage(%)':pd.concat([factors['Drinking water'],factors['Electricity'],factors['Computer'],factors['Boys toilet'], factors['Girls toilet']],axis=0), 'Factor':lis,'State':list(states['State'])*5})\n",
    "\n",
    "figy=px.box(data_frame=datas_facts,x='Mean percentage(%)', y='Factor',hover_name='State',color='Factor', title=\"Presence of factors in school\")\n",
    "figy.update_layout(showlegend=False)\n",
    "\n",
    "r = dp.Report(\n",
    "  dp.Markdown('Presence of factors in school'), #add description to the report\n",
    "  dp.Plot(figy) #create a chart\n",
    ").publish(name='Factors', visibility=dp.Visibility.PUBLIC,open=True) #Publish the report"
   ]
  },
  {
   "cell_type": "code",
   "execution_count": 19,
   "metadata": {},
   "outputs": [],
   "source": [
    "stages= ['Primary','Upper_primary','Secondary','Higher_secondary']\n",
    "\n",
    "b_t = [90.48205607,\t82.0528972,\t47.04252336, 57.7953271]\n",
    "g_t = [93.83728972,\t87.60654206, 48.00429907, 56.09971963]\n",
    "e=[62.60271028,\t71.00336449, 53.25831776, 74.1571028]\n",
    "c=[21.07261682,\t47.78841121, 33.04831776, 44.17813084]\n",
    "dw=[93.69271028, 88.96682243, 65.32897196, 78.47168224]\n",
    "boys_t = pd.DataFrame(b_t, index=stages, columns=[\"Boys toilet\"])\n",
    "girls_t = pd.DataFrame(g_t, index=stages, columns=[\"Girls toilet\"])\n",
    "elecs = pd.DataFrame(e, index=stages, columns=[\"Electricity\"])\n",
    "dww = pd.DataFrame(dw, index=stages, columns=[\"Drinking water\"])\n",
    "comps = pd.DataFrame(c, index=stages, columns=[\"Computers\"])\n",
    "composite=pd.concat([boys_t, girls_t,dww,elecs,comps], axis=1)"
   ]
  },
  {
   "cell_type": "code",
   "execution_count": 50,
   "metadata": {},
   "outputs": [
    {
     "data": {
      "text/html": [
       "<div>\n",
       "<style scoped>\n",
       "    .dataframe tbody tr th:only-of-type {\n",
       "        vertical-align: middle;\n",
       "    }\n",
       "\n",
       "    .dataframe tbody tr th {\n",
       "        vertical-align: top;\n",
       "    }\n",
       "\n",
       "    .dataframe thead th {\n",
       "        text-align: right;\n",
       "    }\n",
       "</style>\n",
       "<table border=\"1\" class=\"dataframe\">\n",
       "  <thead>\n",
       "    <tr style=\"text-align: right;\">\n",
       "      <th></th>\n",
       "      <th>Primary</th>\n",
       "      <th>Upper_primary</th>\n",
       "      <th>Secondary</th>\n",
       "      <th>Higher_secondary</th>\n",
       "    </tr>\n",
       "  </thead>\n",
       "  <tbody>\n",
       "    <tr>\n",
       "      <th>Boys toilet</th>\n",
       "      <td>90.482056</td>\n",
       "      <td>82.052897</td>\n",
       "      <td>47.042523</td>\n",
       "      <td>57.795327</td>\n",
       "    </tr>\n",
       "    <tr>\n",
       "      <th>Girls toilet</th>\n",
       "      <td>93.837290</td>\n",
       "      <td>87.606542</td>\n",
       "      <td>48.004299</td>\n",
       "      <td>56.099720</td>\n",
       "    </tr>\n",
       "    <tr>\n",
       "      <th>Drinking water</th>\n",
       "      <td>93.692710</td>\n",
       "      <td>88.966822</td>\n",
       "      <td>65.328972</td>\n",
       "      <td>78.471682</td>\n",
       "    </tr>\n",
       "    <tr>\n",
       "      <th>Electricity</th>\n",
       "      <td>62.602710</td>\n",
       "      <td>71.003364</td>\n",
       "      <td>53.258318</td>\n",
       "      <td>74.157103</td>\n",
       "    </tr>\n",
       "    <tr>\n",
       "      <th>Computers</th>\n",
       "      <td>21.072617</td>\n",
       "      <td>47.788411</td>\n",
       "      <td>33.048318</td>\n",
       "      <td>44.178131</td>\n",
       "    </tr>\n",
       "  </tbody>\n",
       "</table>\n",
       "</div>"
      ],
      "text/plain": [
       "                  Primary  Upper_primary  Secondary  Higher_secondary\n",
       "Boys toilet     90.482056      82.052897  47.042523         57.795327\n",
       "Girls toilet    93.837290      87.606542  48.004299         56.099720\n",
       "Drinking water  93.692710      88.966822  65.328972         78.471682\n",
       "Electricity     62.602710      71.003364  53.258318         74.157103\n",
       "Computers       21.072617      47.788411  33.048318         44.178131"
      ]
     },
     "execution_count": 50,
     "metadata": {},
     "output_type": "execute_result"
    }
   ],
   "source": [
    "composite.transpose().style.background_gradient(cmap='coolwarm')"
   ]
  },
  {
   "cell_type": "markdown",
   "metadata": {},
   "source": [
    "`Observations:`\n",
    "\n",
    "* More than 50% states have atleast 92% schools with drinking water\n",
    "* Much more schools have drinking water as compared to electricity\n",
    "* Even lower percentage of schools have computer facility\n",
    "* Higher percentage of schools have girls toilets as compared to boys toilets"
   ]
  },
  {
   "cell_type": "markdown",
   "metadata": {},
   "source": [
    "# Hypothesis testing"
   ]
  },
  {
   "cell_type": "markdown",
   "metadata": {},
   "source": [
    "## Dropouts"
   ]
  },
  {
   "cell_type": "markdown",
   "metadata": {},
   "source": [
    "$$H_0 = Dropout\\ rates\\ of\\ girls\\ =\\ dropout\\ rates\\ of\\ boys$$\n",
    "$$H_A = Dropout\\ rates\\ of\\ girls\\ \\neq\\ dropout\\ rates\\ of\\ boys$$"
   ]
  },
  {
   "cell_type": "markdown",
   "metadata": {},
   "source": [
    "$$ t = \\frac{\\bar X_1 - \\bar X_2}{\\sqrt{\\frac{s_1^2}{n_1}+\\frac{s_2^2}{n_2}}} $$"
   ]
  },
  {
   "cell_type": "code",
   "execution_count": 21,
   "metadata": {},
   "outputs": [
    {
     "data": {
      "text/plain": [
       "(-0.9810354738258853, 0.3299538292807268)"
      ]
     },
     "execution_count": 21,
     "metadata": {},
     "output_type": "execute_result"
    }
   ],
   "source": [
    "g_m,g_sd=dropouts_girls.mean(), dropouts_girls.std()\n",
    "b_m,b_sd=dropouts_boys.mean(), dropouts_boys.std()\n",
    "\n",
    "Z = (g_m-b_m)/(g_sd**2/36+b_sd**2/36)\n",
    "\n",
    "#find p-value for two-tailed test\n",
    "s,p=scipy.stats.ttest_ind(dropouts_girls,dropouts_boys,alternative='two-sided')\n",
    "s,p"
   ]
  },
  {
   "cell_type": "markdown",
   "metadata": {},
   "source": [
    "$$There\\ is\\ a\\ 17\\%\\ chance\\ of\\ boys'\\ and\\ girls'\\ dropout\\ rates\\ being\\ same. $$"
   ]
  },
  {
   "cell_type": "code",
   "execution_count": 22,
   "metadata": {},
   "outputs": [
    {
     "name": "stdout",
     "output_type": "stream",
     "text": [
      "F-Statistic=45.282, p=0.000\n"
     ]
    }
   ],
   "source": [
    "F, p = scipy.stats.f_oneway(dropouts_x['PRIMARY_TOTAL'],dropouts_x['UPPER_PRIMARY_TOTAL'],dropouts_x['SECONDARY_TOTAL'],dropouts_x['HRSECONDARY_TOTAL'])\n",
    "# Seeing if the overall model is significant\n",
    "print('F-Statistic=%.3f, p=%.3f' % (F, p))"
   ]
  },
  {
   "cell_type": "markdown",
   "metadata": {},
   "source": [
    "## Enrollments"
   ]
  },
  {
   "cell_type": "markdown",
   "metadata": {},
   "source": [
    "$$H_0 = Enrollment\\ rates\\ of\\ girls\\ =\\ enrollment\\ rates\\ of\\ boys$$\n",
    "$$H_A = Enrollment\\ rates\\ of\\ girls\\ \\neq\\ enrollment\\ rates\\ of\\ boys$$"
   ]
  },
  {
   "cell_type": "code",
   "execution_count": 23,
   "metadata": {},
   "outputs": [
    {
     "data": {
      "text/plain": [
       "(0.9242406257489818, 0.35853619885206833)"
      ]
     },
     "execution_count": 23,
     "metadata": {},
     "output_type": "execute_result"
    }
   ],
   "source": [
    "g_m,g_sd=enrollments_girls.mean(), enrollments_girls.std()\n",
    "b_m,b_sd=enrollments_boys.mean(), enrollments_boys.std()\n",
    "\n",
    "Z = (g_m-b_m)/(g_sd**2/36+b_sd**2/36)\n",
    "\n",
    "#find p-value for two-tailed test\n",
    "s,p=scipy.stats.ttest_ind(enrollments_girls,enrollments_boys,alternative='two-sided')\n",
    "s,p"
   ]
  },
  {
   "cell_type": "markdown",
   "metadata": {},
   "source": [
    "$$There\\ is\\ a\\ 72\\%\\ chance\\ of\\ boys'\\ and\\ girls'\\ enrollment\\ rates\\ being\\ same.$$"
   ]
  },
  {
   "cell_type": "markdown",
   "metadata": {},
   "source": [
    "$$ANOVA\\\\ H_0\\ =\\ Enrollment\\ rates\\ are\\ the\\ same\\ in\\ primary,\\ upper\\ primary,\\ secondary\\ and\\ higher\\ secondary \\\\ H_A\\ =\\ Enrollment\\ rates\\ are\\ different\\ in\\ primary,\\ upper\\ primary,\\ secondary\\ and\\ higher\\ secondary$$"
   ]
  },
  {
   "cell_type": "code",
   "execution_count": 24,
   "metadata": {},
   "outputs": [
    {
     "name": "stdout",
     "output_type": "stream",
     "text": [
      "F-Statistic=56.868, p=0.000\n"
     ]
    }
   ],
   "source": [
    "F, p = scipy.stats.f_oneway(enrollments_x['Primary_Total'],enrollments_x['Upper_Primary_Total'],enrollments_x['Secondary_Total'],enrollments_x['Higher_Secondary_Total'])\n",
    "# Seeing if the overall model is significant\n",
    "print('F-Statistic=%.3f, p=%.3f' % (F, p))"
   ]
  },
  {
   "cell_type": "markdown",
   "metadata": {},
   "source": [
    "## Student to teacher ratio"
   ]
  },
  {
   "cell_type": "markdown",
   "metadata": {},
   "source": [
    "$$ANOVA\\\\ H_0\\ =\\ Student\\ to\\ teacher\\ ratio\\ is\\ the\\ same\\ in\\ primary,\\ upper\\ primary,\\ secondary\\ and\\ higher\\ secondary \\\\ H_A\\ =\\ Student\\ to\\ teacher\\ ratio\\ is\\ different\\ in\\ primary,\\ upper\\ primary,\\ secondary\\ and\\ higher\\ secondary$$"
   ]
  },
  {
   "cell_type": "code",
   "execution_count": 25,
   "metadata": {},
   "outputs": [
    {
     "name": "stdout",
     "output_type": "stream",
     "text": [
      "F-Statistic=12.850, p=0.000\n"
     ]
    }
   ],
   "source": [
    "F, p = scipy.stats.f_oneway(ptr['Primary'],ptr['Upper Primary'],ptr['Secondary'],ptr['Higher Secondary'])\n",
    "# Seeing if the overall model is significant\n",
    "print('F-Statistic=%.3f, p=%.3f' % (F, p))"
   ]
  },
  {
   "cell_type": "markdown",
   "metadata": {},
   "source": [
    "$$The\\ student\\ to\\ teacher\\ ratio\\ is\\ different\\ in\\ primary,\\ upper\\ primary,\\ secondary\\ and\\ higher\\ secondary\\$$"
   ]
  },
  {
   "cell_type": "markdown",
   "metadata": {},
   "source": [
    "## Other factors"
   ]
  },
  {
   "cell_type": "markdown",
   "metadata": {},
   "source": [
    "$$Chi^2\\\\ H_0\\ =\\ Presence\\ of\\ different\\ factors\\ is\\ independent\\ of\\ the\\ section\\ of\\ the\\ school \\\\ H_A\\ =\\ Presence\\ of\\ different\\ factors\\ is\\ dependent\\ on\\ the\\ section\\ of\\ the\\ school$$"
   ]
  },
  {
   "cell_type": "code",
   "execution_count": 52,
   "metadata": {},
   "outputs": [
    {
     "data": {
      "text/plain": [
       "(28.07022052987094, 0.005402667046801284, 12)"
      ]
     },
     "execution_count": 52,
     "metadata": {},
     "output_type": "execute_result"
    }
   ],
   "source": [
    "from scipy.stats import chi2_contingency as chi2\r\n",
    "stat,p,dof,exp=chi2(composite)\r\n",
    "stat,p,dof"
   ]
  },
  {
   "cell_type": "code",
   "execution_count": 26,
   "metadata": {},
   "outputs": [
    {
     "name": "stdout",
     "output_type": "stream",
     "text": [
      "F-Statistic=53.836, p=0.000\n"
     ]
    }
   ],
   "source": [
    "F, p = scipy.stats.f_oneway(factors['Drinking water'],factors['Electricity'],factors['Computer'],factors['Boys toilet'],factors['Girls toilet'])\r\n",
    "# Seeing if the overall model is significant\r\n",
    "print('F-Statistic=%.3f, p=%.3f' % (F, p))"
   ]
  },
  {
   "cell_type": "markdown",
   "metadata": {},
   "source": [
    "$$The\\ presence\\ of\\ different\\ factors\\ is\\ different\\ in\\ schools$$"
   ]
  },
  {
   "cell_type": "markdown",
   "metadata": {},
   "source": [
    "# Analysis"
   ]
  },
  {
   "cell_type": "code",
   "execution_count": 30,
   "metadata": {},
   "outputs": [],
   "source": [
    "#ptr['average ptr']=(ptr['Primary']+ptr['Upper Primary']+ptr['Secondary']+ptr['Higher Secondary'])/4\n",
    "ptr.drop(['State'],axis=1,inplace=True)"
   ]
  },
  {
   "cell_type": "code",
   "execution_count": 31,
   "metadata": {},
   "outputs": [],
   "source": [
    "#Only keeping totals for overall analysis\n",
    "\n",
    "dropouts_x=dropouts_x[['PRIMARY_TOTAL', 'UPPER_PRIMARY_TOTAL', 'SECONDARY_TOTAL','HRSECONDARY_TOTAL']]\n",
    "enrollments_x=enrollments_x[['Primary_Total', 'Upper_Primary_Total', 'Secondary_Total','Higher_Secondary_Total']]\n",
    "factors.drop(['State'],axis=1,inplace=True)"
   ]
  },
  {
   "cell_type": "code",
   "execution_count": 32,
   "metadata": {},
   "outputs": [],
   "source": [
    "#Creating dataset for overall analysis\n",
    "dataset=pd.concat([dropouts_x,enrollments_x,factors,ptr],axis=1)\n",
    "cols=[]\n",
    "for col in dataset.columns[:4]:\n",
    "    cols.append(\"Dropout-\"+col[:-6])\n",
    "for col in dataset.columns[4:8]:\n",
    "    cols.append(\"Enrollments-\"+col[:-6])\n",
    "for col in dataset.columns[8:13]:\n",
    "    cols.append(col)  \n",
    "for col in dataset.columns[13:17]:\n",
    "    cols.append(\"PTR-\"+col)   \n",
    "dataset.columns=cols\n"
   ]
  },
  {
   "cell_type": "code",
   "execution_count": 33,
   "metadata": {},
   "outputs": [
    {
     "data": {
      "text/html": [
       "<style  type=\"text/css\" >\n",
       "#T_8ed9f_row0_col0,#T_8ed9f_row1_col1,#T_8ed9f_row2_col2,#T_8ed9f_row3_col3,#T_8ed9f_row4_col4,#T_8ed9f_row5_col5,#T_8ed9f_row6_col6,#T_8ed9f_row7_col7,#T_8ed9f_row8_col8,#T_8ed9f_row9_col9,#T_8ed9f_row10_col10,#T_8ed9f_row11_col11,#T_8ed9f_row12_col12,#T_8ed9f_row13_col13,#T_8ed9f_row14_col14,#T_8ed9f_row15_col15,#T_8ed9f_row16_col16{\n",
       "            background-color:  #b40426;\n",
       "            color:  #f1f1f1;\n",
       "        }#T_8ed9f_row0_col1{\n",
       "            background-color:  #da5a49;\n",
       "            color:  #000000;\n",
       "        }#T_8ed9f_row0_col2,#T_8ed9f_row7_col10{\n",
       "            background-color:  #f7a98b;\n",
       "            color:  #000000;\n",
       "        }#T_8ed9f_row0_col3,#T_8ed9f_row2_col10,#T_8ed9f_row6_col15{\n",
       "            background-color:  #445acc;\n",
       "            color:  #f1f1f1;\n",
       "        }#T_8ed9f_row0_col4{\n",
       "            background-color:  #f7a688;\n",
       "            color:  #000000;\n",
       "        }#T_8ed9f_row0_col5,#T_8ed9f_row3_col2{\n",
       "            background-color:  #a7c5fe;\n",
       "            color:  #000000;\n",
       "        }#T_8ed9f_row0_col6,#T_8ed9f_row1_col14,#T_8ed9f_row13_col10,#T_8ed9f_row14_col12{\n",
       "            background-color:  #7597f6;\n",
       "            color:  #000000;\n",
       "        }#T_8ed9f_row0_col7,#T_8ed9f_row3_col0,#T_8ed9f_row15_col9{\n",
       "            background-color:  #93b5fe;\n",
       "            color:  #000000;\n",
       "        }#T_8ed9f_row0_col8,#T_8ed9f_row0_col9,#T_8ed9f_row0_col10,#T_8ed9f_row0_col12,#T_8ed9f_row1_col11,#T_8ed9f_row2_col7,#T_8ed9f_row3_col14,#T_8ed9f_row6_col13,#T_8ed9f_row6_col16,#T_8ed9f_row7_col1,#T_8ed9f_row7_col2,#T_8ed9f_row8_col0,#T_8ed9f_row8_col4,#T_8ed9f_row8_col5,#T_8ed9f_row10_col15,#T_8ed9f_row14_col3,#T_8ed9f_row16_col5,#T_8ed9f_row16_col6{\n",
       "            background-color:  #3b4cc0;\n",
       "            color:  #f1f1f1;\n",
       "        }#T_8ed9f_row0_col11,#T_8ed9f_row13_col3{\n",
       "            background-color:  #3d50c3;\n",
       "            color:  #f1f1f1;\n",
       "        }#T_8ed9f_row0_col13,#T_8ed9f_row5_col13,#T_8ed9f_row6_col0,#T_8ed9f_row12_col5,#T_8ed9f_row13_col11,#T_8ed9f_row16_col9{\n",
       "            background-color:  #8db0fe;\n",
       "            color:  #000000;\n",
       "        }#T_8ed9f_row0_col14,#T_8ed9f_row9_col5,#T_8ed9f_row10_col4,#T_8ed9f_row15_col3{\n",
       "            background-color:  #5a78e4;\n",
       "            color:  #000000;\n",
       "        }#T_8ed9f_row0_col15,#T_8ed9f_row9_col13{\n",
       "            background-color:  #8fb1fe;\n",
       "            color:  #000000;\n",
       "        }#T_8ed9f_row0_col16,#T_8ed9f_row7_col3{\n",
       "            background-color:  #d7dce3;\n",
       "            color:  #000000;\n",
       "        }#T_8ed9f_row1_col0{\n",
       "            background-color:  #d85646;\n",
       "            color:  #000000;\n",
       "        }#T_8ed9f_row1_col2,#T_8ed9f_row8_col11{\n",
       "            background-color:  #e67259;\n",
       "            color:  #000000;\n",
       "        }#T_8ed9f_row1_col3{\n",
       "            background-color:  #5673e0;\n",
       "            color:  #000000;\n",
       "        }#T_8ed9f_row1_col4{\n",
       "            background-color:  #f7b396;\n",
       "            color:  #000000;\n",
       "        }#T_8ed9f_row1_col5,#T_8ed9f_row1_col13{\n",
       "            background-color:  #afcafc;\n",
       "            color:  #000000;\n",
       "        }#T_8ed9f_row1_col6,#T_8ed9f_row2_col9,#T_8ed9f_row4_col11,#T_8ed9f_row10_col13,#T_8ed9f_row12_col1,#T_8ed9f_row12_col15{\n",
       "            background-color:  #5d7ce6;\n",
       "            color:  #000000;\n",
       "        }#T_8ed9f_row1_col7,#T_8ed9f_row11_col5{\n",
       "            background-color:  #6a8bef;\n",
       "            color:  #000000;\n",
       "        }#T_8ed9f_row1_col8,#T_8ed9f_row3_col15,#T_8ed9f_row4_col10,#T_8ed9f_row7_col15,#T_8ed9f_row12_col14{\n",
       "            background-color:  #5977e3;\n",
       "            color:  #000000;\n",
       "        }#T_8ed9f_row1_col9,#T_8ed9f_row10_col1,#T_8ed9f_row16_col12{\n",
       "            background-color:  #506bda;\n",
       "            color:  #000000;\n",
       "        }#T_8ed9f_row1_col10,#T_8ed9f_row2_col3,#T_8ed9f_row9_col0{\n",
       "            background-color:  #465ecf;\n",
       "            color:  #f1f1f1;\n",
       "        }#T_8ed9f_row1_col12,#T_8ed9f_row9_col1{\n",
       "            background-color:  #4257c9;\n",
       "            color:  #f1f1f1;\n",
       "        }#T_8ed9f_row1_col15{\n",
       "            background-color:  #abc8fd;\n",
       "            color:  #000000;\n",
       "        }#T_8ed9f_row1_col16,#T_8ed9f_row3_col6,#T_8ed9f_row14_col8,#T_8ed9f_row16_col1{\n",
       "            background-color:  #e6d7cf;\n",
       "            color:  #000000;\n",
       "        }#T_8ed9f_row2_col0{\n",
       "            background-color:  #f7b194;\n",
       "            color:  #000000;\n",
       "        }#T_8ed9f_row2_col1,#T_8ed9f_row7_col6{\n",
       "            background-color:  #ec7f63;\n",
       "            color:  #000000;\n",
       "        }#T_8ed9f_row2_col4,#T_8ed9f_row12_col3{\n",
       "            background-color:  #ecd3c5;\n",
       "            color:  #000000;\n",
       "        }#T_8ed9f_row2_col5{\n",
       "            background-color:  #86a9fc;\n",
       "            color:  #000000;\n",
       "        }#T_8ed9f_row2_col6,#T_8ed9f_row2_col11,#T_8ed9f_row9_col4,#T_8ed9f_row16_col3{\n",
       "            background-color:  #4c66d6;\n",
       "            color:  #000000;\n",
       "        }#T_8ed9f_row2_col8{\n",
       "            background-color:  #7da0f9;\n",
       "            color:  #000000;\n",
       "        }#T_8ed9f_row2_col12,#T_8ed9f_row7_col13{\n",
       "            background-color:  #516ddb;\n",
       "            color:  #000000;\n",
       "        }#T_8ed9f_row2_col13{\n",
       "            background-color:  #dfdbd9;\n",
       "            color:  #000000;\n",
       "        }#T_8ed9f_row2_col14,#T_8ed9f_row13_col4,#T_8ed9f_row13_col9,#T_8ed9f_row15_col7{\n",
       "            background-color:  #b6cefa;\n",
       "            color:  #000000;\n",
       "        }#T_8ed9f_row2_col15{\n",
       "            background-color:  #c1d4f4;\n",
       "            color:  #000000;\n",
       "        }#T_8ed9f_row2_col16{\n",
       "            background-color:  #e8d6cc;\n",
       "            color:  #000000;\n",
       "        }#T_8ed9f_row3_col1,#T_8ed9f_row11_col2{\n",
       "            background-color:  #8badfd;\n",
       "            color:  #000000;\n",
       "        }#T_8ed9f_row3_col4,#T_8ed9f_row5_col10{\n",
       "            background-color:  #9abbff;\n",
       "            color:  #000000;\n",
       "        }#T_8ed9f_row3_col5,#T_8ed9f_row5_col15{\n",
       "            background-color:  #9bbcff;\n",
       "            color:  #000000;\n",
       "        }#T_8ed9f_row3_col7,#T_8ed9f_row6_col12{\n",
       "            background-color:  #f5c2aa;\n",
       "            color:  #000000;\n",
       "        }#T_8ed9f_row3_col8,#T_8ed9f_row3_col11{\n",
       "            background-color:  #f1cdba;\n",
       "            color:  #000000;\n",
       "        }#T_8ed9f_row3_col9,#T_8ed9f_row4_col1,#T_8ed9f_row11_col7{\n",
       "            background-color:  #f7af91;\n",
       "            color:  #000000;\n",
       "        }#T_8ed9f_row3_col10,#T_8ed9f_row12_col6{\n",
       "            background-color:  #f7b99e;\n",
       "            color:  #000000;\n",
       "        }#T_8ed9f_row3_col12,#T_8ed9f_row10_col3,#T_8ed9f_row11_col6{\n",
       "            background-color:  #f2cab5;\n",
       "            color:  #000000;\n",
       "        }#T_8ed9f_row3_col13{\n",
       "            background-color:  #536edd;\n",
       "            color:  #000000;\n",
       "        }#T_8ed9f_row3_col16,#T_8ed9f_row11_col15{\n",
       "            background-color:  #82a6fb;\n",
       "            color:  #000000;\n",
       "        }#T_8ed9f_row4_col0,#T_8ed9f_row14_col16{\n",
       "            background-color:  #f49a7b;\n",
       "            color:  #000000;\n",
       "        }#T_8ed9f_row4_col2{\n",
       "            background-color:  #f6bfa6;\n",
       "            color:  #000000;\n",
       "        }#T_8ed9f_row4_col3,#T_8ed9f_row12_col13{\n",
       "            background-color:  #7093f3;\n",
       "            color:  #000000;\n",
       "        }#T_8ed9f_row4_col5,#T_8ed9f_row15_col16{\n",
       "            background-color:  #f08b6e;\n",
       "            color:  #000000;\n",
       "        }#T_8ed9f_row4_col6{\n",
       "            background-color:  #cedaeb;\n",
       "            color:  #000000;\n",
       "        }#T_8ed9f_row4_col7,#T_8ed9f_row8_col13{\n",
       "            background-color:  #b9d0f9;\n",
       "            color:  #000000;\n",
       "        }#T_8ed9f_row4_col8{\n",
       "            background-color:  #5e7de7;\n",
       "            color:  #000000;\n",
       "        }#T_8ed9f_row4_col9,#T_8ed9f_row13_col5{\n",
       "            background-color:  #6485ec;\n",
       "            color:  #000000;\n",
       "        }#T_8ed9f_row4_col12{\n",
       "            background-color:  #688aef;\n",
       "            color:  #000000;\n",
       "        }#T_8ed9f_row4_col13,#T_8ed9f_row14_col4,#T_8ed9f_row16_col4,#T_8ed9f_row16_col7{\n",
       "            background-color:  #a5c3fe;\n",
       "            color:  #000000;\n",
       "        }#T_8ed9f_row4_col14,#T_8ed9f_row7_col0,#T_8ed9f_row9_col2,#T_8ed9f_row10_col2{\n",
       "            background-color:  #7ea1fa;\n",
       "            color:  #000000;\n",
       "        }#T_8ed9f_row4_col15{\n",
       "            background-color:  #97b8ff;\n",
       "            color:  #000000;\n",
       "        }#T_8ed9f_row4_col16,#T_8ed9f_row5_col3,#T_8ed9f_row5_col9{\n",
       "            background-color:  #adc9fd;\n",
       "            color:  #000000;\n",
       "        }#T_8ed9f_row5_col0,#T_8ed9f_row16_col0{\n",
       "            background-color:  #e3d9d3;\n",
       "            color:  #000000;\n",
       "        }#T_8ed9f_row5_col1,#T_8ed9f_row5_col2{\n",
       "            background-color:  #dcdddd;\n",
       "            color:  #000000;\n",
       "        }#T_8ed9f_row5_col4{\n",
       "            background-color:  #e9785d;\n",
       "            color:  #000000;\n",
       "        }#T_8ed9f_row5_col6,#T_8ed9f_row9_col6{\n",
       "            background-color:  #f7b599;\n",
       "            color:  #000000;\n",
       "        }#T_8ed9f_row5_col7{\n",
       "            background-color:  #e1dad6;\n",
       "            color:  #000000;\n",
       "        }#T_8ed9f_row5_col8{\n",
       "            background-color:  #9dbdff;\n",
       "            color:  #000000;\n",
       "        }#T_8ed9f_row5_col11,#T_8ed9f_row8_col16{\n",
       "            background-color:  #a2c1ff;\n",
       "            color:  #000000;\n",
       "        }#T_8ed9f_row5_col12{\n",
       "            background-color:  #b5cdfa;\n",
       "            color:  #000000;\n",
       "        }#T_8ed9f_row5_col14,#T_8ed9f_row14_col10{\n",
       "            background-color:  #779af7;\n",
       "            color:  #000000;\n",
       "        }#T_8ed9f_row5_col16{\n",
       "            background-color:  #84a7fc;\n",
       "            color:  #000000;\n",
       "        }#T_8ed9f_row6_col1,#T_8ed9f_row10_col5,#T_8ed9f_row13_col6{\n",
       "            background-color:  #5b7ae5;\n",
       "            color:  #000000;\n",
       "        }#T_8ed9f_row6_col2,#T_8ed9f_row11_col13,#T_8ed9f_row15_col6{\n",
       "            background-color:  #7b9ff9;\n",
       "            color:  #000000;\n",
       "        }#T_8ed9f_row6_col3{\n",
       "            background-color:  #cdd9ec;\n",
       "            color:  #000000;\n",
       "        }#T_8ed9f_row6_col4{\n",
       "            background-color:  #cad8ef;\n",
       "            color:  #000000;\n",
       "        }#T_8ed9f_row6_col5,#T_8ed9f_row8_col6{\n",
       "            background-color:  #efcfbf;\n",
       "            color:  #000000;\n",
       "        }#T_8ed9f_row6_col7{\n",
       "            background-color:  #e57058;\n",
       "            color:  #000000;\n",
       "        }#T_8ed9f_row6_col8,#T_8ed9f_row16_col2{\n",
       "            background-color:  #f3c7b1;\n",
       "            color:  #000000;\n",
       "        }#T_8ed9f_row6_col9{\n",
       "            background-color:  #f7b093;\n",
       "            color:  #000000;\n",
       "        }#T_8ed9f_row6_col10{\n",
       "            background-color:  #f6bea4;\n",
       "            color:  #000000;\n",
       "        }#T_8ed9f_row6_col11,#T_8ed9f_row7_col12,#T_8ed9f_row15_col2{\n",
       "            background-color:  #efcebd;\n",
       "            color:  #000000;\n",
       "        }#T_8ed9f_row6_col14{\n",
       "            background-color:  #4a63d3;\n",
       "            color:  #f1f1f1;\n",
       "        }#T_8ed9f_row7_col4,#T_8ed9f_row15_col5{\n",
       "            background-color:  #89acfd;\n",
       "            color:  #000000;\n",
       "        }#T_8ed9f_row7_col5{\n",
       "            background-color:  #92b4fe;\n",
       "            color:  #000000;\n",
       "        }#T_8ed9f_row7_col8,#T_8ed9f_row12_col7{\n",
       "            background-color:  #f7b497;\n",
       "            color:  #000000;\n",
       "        }#T_8ed9f_row7_col9,#T_8ed9f_row14_col15,#T_8ed9f_row15_col14{\n",
       "            background-color:  #f6a283;\n",
       "            color:  #000000;\n",
       "        }#T_8ed9f_row7_col11{\n",
       "            background-color:  #f4c6af;\n",
       "            color:  #000000;\n",
       "        }#T_8ed9f_row7_col14,#T_8ed9f_row14_col5{\n",
       "            background-color:  #6384eb;\n",
       "            color:  #000000;\n",
       "        }#T_8ed9f_row7_col16,#T_8ed9f_row16_col11{\n",
       "            background-color:  #7a9df8;\n",
       "            color:  #000000;\n",
       "        }#T_8ed9f_row8_col1{\n",
       "            background-color:  #3e51c5;\n",
       "            color:  #f1f1f1;\n",
       "        }#T_8ed9f_row8_col2{\n",
       "            background-color:  #90b2fe;\n",
       "            color:  #000000;\n",
       "        }#T_8ed9f_row8_col3{\n",
       "            background-color:  #d2dbe8;\n",
       "            color:  #000000;\n",
       "        }#T_8ed9f_row8_col7{\n",
       "            background-color:  #f7ac8e;\n",
       "            color:  #000000;\n",
       "        }#T_8ed9f_row8_col9,#T_8ed9f_row9_col10,#T_8ed9f_row11_col12,#T_8ed9f_row12_col11,#T_8ed9f_row13_col14{\n",
       "            background-color:  #cf453c;\n",
       "            color:  #f1f1f1;\n",
       "        }#T_8ed9f_row8_col10,#T_8ed9f_row11_col9,#T_8ed9f_row12_col8{\n",
       "            background-color:  #e7745b;\n",
       "            color:  #000000;\n",
       "        }#T_8ed9f_row8_col12{\n",
       "            background-color:  #ee8468;\n",
       "            color:  #000000;\n",
       "        }#T_8ed9f_row8_col14,#T_8ed9f_row13_col0,#T_8ed9f_row14_col7{\n",
       "            background-color:  #bcd2f7;\n",
       "            color:  #000000;\n",
       "        }#T_8ed9f_row8_col15{\n",
       "            background-color:  #96b7ff;\n",
       "            color:  #000000;\n",
       "        }#T_8ed9f_row9_col3{\n",
       "            background-color:  #f3c8b2;\n",
       "            color:  #000000;\n",
       "        }#T_8ed9f_row9_col7{\n",
       "            background-color:  #f39778;\n",
       "            color:  #000000;\n",
       "        }#T_8ed9f_row9_col8,#T_8ed9f_row14_col13{\n",
       "            background-color:  #cd423b;\n",
       "            color:  #f1f1f1;\n",
       "        }#T_8ed9f_row9_col11{\n",
       "            background-color:  #ea7b60;\n",
       "            color:  #000000;\n",
       "        }#T_8ed9f_row9_col12,#T_8ed9f_row12_col10{\n",
       "            background-color:  #de614d;\n",
       "            color:  #000000;\n",
       "        }#T_8ed9f_row9_col14{\n",
       "            background-color:  #81a4fb;\n",
       "            color:  #000000;\n",
       "        }#T_8ed9f_row9_col15{\n",
       "            background-color:  #4f69d9;\n",
       "            color:  #000000;\n",
       "        }#T_8ed9f_row9_col16,#T_8ed9f_row14_col6{\n",
       "            background-color:  #80a3fa;\n",
       "            color:  #000000;\n",
       "        }#T_8ed9f_row10_col0{\n",
       "            background-color:  #5f7fe8;\n",
       "            color:  #000000;\n",
       "        }#T_8ed9f_row10_col6{\n",
       "            background-color:  #f7ba9f;\n",
       "            color:  #000000;\n",
       "        }#T_8ed9f_row10_col7{\n",
       "            background-color:  #f39475;\n",
       "            color:  #000000;\n",
       "        }#T_8ed9f_row10_col8{\n",
       "            background-color:  #e36b54;\n",
       "            color:  #000000;\n",
       "        }#T_8ed9f_row10_col9{\n",
       "            background-color:  #cc403a;\n",
       "            color:  #f1f1f1;\n",
       "        }#T_8ed9f_row10_col11,#T_8ed9f_row11_col10{\n",
       "            background-color:  #e46e56;\n",
       "            color:  #000000;\n",
       "        }#T_8ed9f_row10_col12{\n",
       "            background-color:  #e0654f;\n",
       "            color:  #000000;\n",
       "        }#T_8ed9f_row10_col14{\n",
       "            background-color:  #4b64d5;\n",
       "            color:  #f1f1f1;\n",
       "        }#T_8ed9f_row10_col16,#T_8ed9f_row12_col4,#T_8ed9f_row15_col12{\n",
       "            background-color:  #799cf8;\n",
       "            color:  #000000;\n",
       "        }#T_8ed9f_row11_col0{\n",
       "            background-color:  #6687ed;\n",
       "            color:  #000000;\n",
       "        }#T_8ed9f_row11_col1{\n",
       "            background-color:  #4961d2;\n",
       "            color:  #f1f1f1;\n",
       "        }#T_8ed9f_row11_col3{\n",
       "            background-color:  #e5d8d1;\n",
       "            color:  #000000;\n",
       "        }#T_8ed9f_row11_col4{\n",
       "            background-color:  #6282ea;\n",
       "            color:  #000000;\n",
       "        }#T_8ed9f_row11_col8{\n",
       "            background-color:  #e16751;\n",
       "            color:  #000000;\n",
       "        }#T_8ed9f_row11_col14,#T_8ed9f_row12_col0,#T_8ed9f_row16_col10{\n",
       "            background-color:  #6f92f3;\n",
       "            color:  #000000;\n",
       "        }#T_8ed9f_row11_col16{\n",
       "            background-color:  #88abfd;\n",
       "            color:  #000000;\n",
       "        }#T_8ed9f_row12_col2{\n",
       "            background-color:  #98b9ff;\n",
       "            color:  #000000;\n",
       "        }#T_8ed9f_row12_col9{\n",
       "            background-color:  #d95847;\n",
       "            color:  #000000;\n",
       "        }#T_8ed9f_row12_col16{\n",
       "            background-color:  #6b8df0;\n",
       "            color:  #000000;\n",
       "        }#T_8ed9f_row13_col1{\n",
       "            background-color:  #c6d6f1;\n",
       "            color:  #000000;\n",
       "        }#T_8ed9f_row13_col2{\n",
       "            background-color:  #f5c4ac;\n",
       "            color:  #000000;\n",
       "        }#T_8ed9f_row13_col7{\n",
       "            background-color:  #9fbfff;\n",
       "            color:  #000000;\n",
       "        }#T_8ed9f_row13_col8{\n",
       "            background-color:  #dadce0;\n",
       "            color:  #000000;\n",
       "        }#T_8ed9f_row13_col12{\n",
       "            background-color:  #7699f6;\n",
       "            color:  #000000;\n",
       "        }#T_8ed9f_row13_col15{\n",
       "            background-color:  #f4c5ad;\n",
       "            color:  #000000;\n",
       "        }#T_8ed9f_row13_col16,#T_8ed9f_row16_col15{\n",
       "            background-color:  #f59f80;\n",
       "            color:  #000000;\n",
       "        }#T_8ed9f_row14_col0,#T_8ed9f_row14_col1,#T_8ed9f_row15_col11{\n",
       "            background-color:  #a6c4fe;\n",
       "            color:  #000000;\n",
       "        }#T_8ed9f_row14_col2{\n",
       "            background-color:  #ead4c8;\n",
       "            color:  #000000;\n",
       "        }#T_8ed9f_row14_col9,#T_8ed9f_row15_col4{\n",
       "            background-color:  #bad0f8;\n",
       "            color:  #000000;\n",
       "        }#T_8ed9f_row14_col11{\n",
       "            background-color:  #94b6ff;\n",
       "            color:  #000000;\n",
       "        }#T_8ed9f_row15_col0{\n",
       "            background-color:  #ccd9ed;\n",
       "            color:  #000000;\n",
       "        }#T_8ed9f_row15_col1,#T_8ed9f_row15_col8{\n",
       "            background-color:  #cfdaea;\n",
       "            color:  #000000;\n",
       "        }#T_8ed9f_row15_col10{\n",
       "            background-color:  #6788ee;\n",
       "            color:  #000000;\n",
       "        }#T_8ed9f_row15_col13{\n",
       "            background-color:  #f6bda2;\n",
       "            color:  #000000;\n",
       "        }#T_8ed9f_row16_col8{\n",
       "            background-color:  #b7cff9;\n",
       "            color:  #000000;\n",
       "        }#T_8ed9f_row16_col13{\n",
       "            background-color:  #f7aa8c;\n",
       "            color:  #000000;\n",
       "        }#T_8ed9f_row16_col14{\n",
       "            background-color:  #f7ad90;\n",
       "            color:  #000000;\n",
       "        }</style><table id=\"T_8ed9f_\" ><thead>    <tr>        <th class=\"blank level0\" ></th>        <th class=\"col_heading level0 col0\" >Dropout-PRIMARY</th>        <th class=\"col_heading level0 col1\" >Dropout-UPPER_PRIMARY</th>        <th class=\"col_heading level0 col2\" >Dropout-SECONDARY</th>        <th class=\"col_heading level0 col3\" >Dropout-HRSECONDARY</th>        <th class=\"col_heading level0 col4\" >Enrollments-Primary</th>        <th class=\"col_heading level0 col5\" >Enrollments-Upper_Primary</th>        <th class=\"col_heading level0 col6\" >Enrollments-Secondary</th>        <th class=\"col_heading level0 col7\" >Enrollments-Higher_Secondary</th>        <th class=\"col_heading level0 col8\" >Drinking water</th>        <th class=\"col_heading level0 col9\" >Electricity</th>        <th class=\"col_heading level0 col10\" >Computer</th>        <th class=\"col_heading level0 col11\" >Boys toilet</th>        <th class=\"col_heading level0 col12\" >Girls toilet</th>        <th class=\"col_heading level0 col13\" >PTR-Primary</th>        <th class=\"col_heading level0 col14\" >PTR-Upper Primary</th>        <th class=\"col_heading level0 col15\" >PTR-Secondary</th>        <th class=\"col_heading level0 col16\" >PTR-Higher Secondary</th>    </tr></thead><tbody>\n",
       "                <tr>\n",
       "                        <th id=\"T_8ed9f_level0_row0\" class=\"row_heading level0 row0\" >Dropout-PRIMARY</th>\n",
       "                        <td id=\"T_8ed9f_row0_col0\" class=\"data row0 col0\" >1.000000</td>\n",
       "                        <td id=\"T_8ed9f_row0_col1\" class=\"data row0 col1\" >0.808626</td>\n",
       "                        <td id=\"T_8ed9f_row0_col2\" class=\"data row0 col2\" >0.433988</td>\n",
       "                        <td id=\"T_8ed9f_row0_col3\" class=\"data row0 col3\" >-0.326441</td>\n",
       "                        <td id=\"T_8ed9f_row0_col4\" class=\"data row0 col4\" >0.546122</td>\n",
       "                        <td id=\"T_8ed9f_row0_col5\" class=\"data row0 col5\" >0.140328</td>\n",
       "                        <td id=\"T_8ed9f_row0_col6\" class=\"data row0 col6\" >-0.348632</td>\n",
       "                        <td id=\"T_8ed9f_row0_col7\" class=\"data row0 col7\" >-0.428581</td>\n",
       "                        <td id=\"T_8ed9f_row0_col8\" class=\"data row0 col8\" >-0.807090</td>\n",
       "                        <td id=\"T_8ed9f_row0_col9\" class=\"data row0 col9\" >-0.735675</td>\n",
       "                        <td id=\"T_8ed9f_row0_col10\" class=\"data row0 col10\" >-0.594915</td>\n",
       "                        <td id=\"T_8ed9f_row0_col11\" class=\"data row0 col11\" >-0.553430</td>\n",
       "                        <td id=\"T_8ed9f_row0_col12\" class=\"data row0 col12\" >-0.504931</td>\n",
       "                        <td id=\"T_8ed9f_row0_col13\" class=\"data row0 col13\" >-0.103060</td>\n",
       "                        <td id=\"T_8ed9f_row0_col14\" class=\"data row0 col14\" >-0.227747</td>\n",
       "                        <td id=\"T_8ed9f_row0_col15\" class=\"data row0 col15\" >-0.015009</td>\n",
       "                        <td id=\"T_8ed9f_row0_col16\" class=\"data row0 col16\" >0.140097</td>\n",
       "            </tr>\n",
       "            <tr>\n",
       "                        <th id=\"T_8ed9f_level0_row1\" class=\"row_heading level0 row1\" >Dropout-UPPER_PRIMARY</th>\n",
       "                        <td id=\"T_8ed9f_row1_col0\" class=\"data row1 col0\" >0.808626</td>\n",
       "                        <td id=\"T_8ed9f_row1_col1\" class=\"data row1 col1\" >1.000000</td>\n",
       "                        <td id=\"T_8ed9f_row1_col2\" class=\"data row1 col2\" >0.684685</td>\n",
       "                        <td id=\"T_8ed9f_row1_col3\" class=\"data row1 col3\" >-0.245976</td>\n",
       "                        <td id=\"T_8ed9f_row1_col4\" class=\"data row1 col4\" >0.491634</td>\n",
       "                        <td id=\"T_8ed9f_row1_col5\" class=\"data row1 col5\" >0.171943</td>\n",
       "                        <td id=\"T_8ed9f_row1_col6\" class=\"data row1 col6\" >-0.469755</td>\n",
       "                        <td id=\"T_8ed9f_row1_col7\" class=\"data row1 col7\" >-0.649678</td>\n",
       "                        <td id=\"T_8ed9f_row1_col8\" class=\"data row1 col8\" >-0.627836</td>\n",
       "                        <td id=\"T_8ed9f_row1_col9\" class=\"data row1 col9\" >-0.607732</td>\n",
       "                        <td id=\"T_8ed9f_row1_col10\" class=\"data row1 col10\" >-0.532561</td>\n",
       "                        <td id=\"T_8ed9f_row1_col11\" class=\"data row1 col11\" >-0.571282</td>\n",
       "                        <td id=\"T_8ed9f_row1_col12\" class=\"data row1 col12\" >-0.464949</td>\n",
       "                        <td id=\"T_8ed9f_row1_col13\" class=\"data row1 col13\" >0.043657</td>\n",
       "                        <td id=\"T_8ed9f_row1_col14\" class=\"data row1 col14\" >-0.120018</td>\n",
       "                        <td id=\"T_8ed9f_row1_col15\" class=\"data row1 col15\" >0.097753</td>\n",
       "                        <td id=\"T_8ed9f_row1_col16\" class=\"data row1 col16\" >0.234128</td>\n",
       "            </tr>\n",
       "            <tr>\n",
       "                        <th id=\"T_8ed9f_level0_row2\" class=\"row_heading level0 row2\" >Dropout-SECONDARY</th>\n",
       "                        <td id=\"T_8ed9f_row2_col0\" class=\"data row2 col0\" >0.433988</td>\n",
       "                        <td id=\"T_8ed9f_row2_col1\" class=\"data row2 col1\" >0.684685</td>\n",
       "                        <td id=\"T_8ed9f_row2_col2\" class=\"data row2 col2\" >1.000000</td>\n",
       "                        <td id=\"T_8ed9f_row2_col3\" class=\"data row2 col3\" >-0.314359</td>\n",
       "                        <td id=\"T_8ed9f_row2_col4\" class=\"data row2 col4\" >0.302703</td>\n",
       "                        <td id=\"T_8ed9f_row2_col5\" class=\"data row2 col5\" >0.020849</td>\n",
       "                        <td id=\"T_8ed9f_row2_col6\" class=\"data row2 col6\" >-0.551866</td>\n",
       "                        <td id=\"T_8ed9f_row2_col7\" class=\"data row2 col7\" >-0.945431</td>\n",
       "                        <td id=\"T_8ed9f_row2_col8\" class=\"data row2 col8\" >-0.437114</td>\n",
       "                        <td id=\"T_8ed9f_row2_col9\" class=\"data row2 col9\" >-0.541753</td>\n",
       "                        <td id=\"T_8ed9f_row2_col10\" class=\"data row2 col10\" >-0.540026</td>\n",
       "                        <td id=\"T_8ed9f_row2_col11\" class=\"data row2 col11\" >-0.473535</td>\n",
       "                        <td id=\"T_8ed9f_row2_col12\" class=\"data row2 col12\" >-0.391753</td>\n",
       "                        <td id=\"T_8ed9f_row2_col13\" class=\"data row2 col13\" >0.275853</td>\n",
       "                        <td id=\"T_8ed9f_row2_col14\" class=\"data row2 col14\" >0.134956</td>\n",
       "                        <td id=\"T_8ed9f_row2_col15\" class=\"data row2 col15\" >0.188422</td>\n",
       "                        <td id=\"T_8ed9f_row2_col16\" class=\"data row2 col16\" >0.249324</td>\n",
       "            </tr>\n",
       "            <tr>\n",
       "                        <th id=\"T_8ed9f_level0_row3\" class=\"row_heading level0 row3\" >Dropout-HRSECONDARY</th>\n",
       "                        <td id=\"T_8ed9f_row3_col0\" class=\"data row3 col0\" >-0.326441</td>\n",
       "                        <td id=\"T_8ed9f_row3_col1\" class=\"data row3 col1\" >-0.245976</td>\n",
       "                        <td id=\"T_8ed9f_row3_col2\" class=\"data row3 col2\" >-0.314359</td>\n",
       "                        <td id=\"T_8ed9f_row3_col3\" class=\"data row3 col3\" >1.000000</td>\n",
       "                        <td id=\"T_8ed9f_row3_col4\" class=\"data row3 col4\" >-0.139472</td>\n",
       "                        <td id=\"T_8ed9f_row3_col5\" class=\"data row3 col5\" >0.096330</td>\n",
       "                        <td id=\"T_8ed9f_row3_col6\" class=\"data row3 col6\" >0.235673</td>\n",
       "                        <td id=\"T_8ed9f_row3_col7\" class=\"data row3 col7\" >0.285383</td>\n",
       "                        <td id=\"T_8ed9f_row3_col8\" class=\"data row3 col8\" >0.260864</td>\n",
       "                        <td id=\"T_8ed9f_row3_col9\" class=\"data row3 col9\" >0.469375</td>\n",
       "                        <td id=\"T_8ed9f_row3_col10\" class=\"data row3 col10\" >0.459240</td>\n",
       "                        <td id=\"T_8ed9f_row3_col11\" class=\"data row3 col11\" >0.358763</td>\n",
       "                        <td id=\"T_8ed9f_row3_col12\" class=\"data row3 col12\" >0.403611</td>\n",
       "                        <td id=\"T_8ed9f_row3_col13\" class=\"data row3 col13\" >-0.355863</td>\n",
       "                        <td id=\"T_8ed9f_row3_col14\" class=\"data row3 col14\" >-0.370273</td>\n",
       "                        <td id=\"T_8ed9f_row3_col15\" class=\"data row3 col15\" >-0.227721</td>\n",
       "                        <td id=\"T_8ed9f_row3_col16\" class=\"data row3 col16\" >-0.288338</td>\n",
       "            </tr>\n",
       "            <tr>\n",
       "                        <th id=\"T_8ed9f_level0_row4\" class=\"row_heading level0 row4\" >Enrollments-Primary</th>\n",
       "                        <td id=\"T_8ed9f_row4_col0\" class=\"data row4 col0\" >0.546122</td>\n",
       "                        <td id=\"T_8ed9f_row4_col1\" class=\"data row4 col1\" >0.491634</td>\n",
       "                        <td id=\"T_8ed9f_row4_col2\" class=\"data row4 col2\" >0.302703</td>\n",
       "                        <td id=\"T_8ed9f_row4_col3\" class=\"data row4 col3\" >-0.139472</td>\n",
       "                        <td id=\"T_8ed9f_row4_col4\" class=\"data row4 col4\" >1.000000</td>\n",
       "                        <td id=\"T_8ed9f_row4_col5\" class=\"data row4 col5\" >0.725354</td>\n",
       "                        <td id=\"T_8ed9f_row4_col6\" class=\"data row4 col6\" >0.090862</td>\n",
       "                        <td id=\"T_8ed9f_row4_col7\" class=\"data row4 col7\" >-0.214672</td>\n",
       "                        <td id=\"T_8ed9f_row4_col8\" class=\"data row4 col8\" >-0.596135</td>\n",
       "                        <td id=\"T_8ed9f_row4_col9\" class=\"data row4 col9\" >-0.498712</td>\n",
       "                        <td id=\"T_8ed9f_row4_col10\" class=\"data row4 col10\" >-0.433719</td>\n",
       "                        <td id=\"T_8ed9f_row4_col11\" class=\"data row4 col11\" >-0.393690</td>\n",
       "                        <td id=\"T_8ed9f_row4_col12\" class=\"data row4 col12\" >-0.286598</td>\n",
       "                        <td id=\"T_8ed9f_row4_col13\" class=\"data row4 col13\" >-0.004121</td>\n",
       "                        <td id=\"T_8ed9f_row4_col14\" class=\"data row4 col14\" >-0.086150</td>\n",
       "                        <td id=\"T_8ed9f_row4_col15\" class=\"data row4 col15\" >0.014167</td>\n",
       "                        <td id=\"T_8ed9f_row4_col16\" class=\"data row4 col16\" >-0.087959</td>\n",
       "            </tr>\n",
       "            <tr>\n",
       "                        <th id=\"T_8ed9f_level0_row5\" class=\"row_heading level0 row5\" >Enrollments-Upper_Primary</th>\n",
       "                        <td id=\"T_8ed9f_row5_col0\" class=\"data row5 col0\" >0.140328</td>\n",
       "                        <td id=\"T_8ed9f_row5_col1\" class=\"data row5 col1\" >0.171943</td>\n",
       "                        <td id=\"T_8ed9f_row5_col2\" class=\"data row5 col2\" >0.020849</td>\n",
       "                        <td id=\"T_8ed9f_row5_col3\" class=\"data row5 col3\" >0.096330</td>\n",
       "                        <td id=\"T_8ed9f_row5_col4\" class=\"data row5 col4\" >0.725354</td>\n",
       "                        <td id=\"T_8ed9f_row5_col5\" class=\"data row5 col5\" >1.000000</td>\n",
       "                        <td id=\"T_8ed9f_row5_col6\" class=\"data row5 col6\" >0.461776</td>\n",
       "                        <td id=\"T_8ed9f_row5_col7\" class=\"data row5 col7\" >0.062548</td>\n",
       "                        <td id=\"T_8ed9f_row5_col8\" class=\"data row5 col8\" >-0.272681</td>\n",
       "                        <td id=\"T_8ed9f_row5_col9\" class=\"data row5 col9\" >-0.144330</td>\n",
       "                        <td id=\"T_8ed9f_row5_col10\" class=\"data row5 col10\" >-0.138739</td>\n",
       "                        <td id=\"T_8ed9f_row5_col11\" class=\"data row5 col11\" >-0.082936</td>\n",
       "                        <td id=\"T_8ed9f_row5_col12\" class=\"data row5 col12\" >0.047423</td>\n",
       "                        <td id=\"T_8ed9f_row5_col13\" class=\"data row5 col13\" >-0.103155</td>\n",
       "                        <td id=\"T_8ed9f_row5_col14\" class=\"data row5 col14\" >-0.108686</td>\n",
       "                        <td id=\"T_8ed9f_row5_col15\" class=\"data row5 col15\" >0.032069</td>\n",
       "                        <td id=\"T_8ed9f_row5_col16\" class=\"data row5 col16\" >-0.276497</td>\n",
       "            </tr>\n",
       "            <tr>\n",
       "                        <th id=\"T_8ed9f_level0_row6\" class=\"row_heading level0 row6\" >Enrollments-Secondary</th>\n",
       "                        <td id=\"T_8ed9f_row6_col0\" class=\"data row6 col0\" >-0.348632</td>\n",
       "                        <td id=\"T_8ed9f_row6_col1\" class=\"data row6 col1\" >-0.469755</td>\n",
       "                        <td id=\"T_8ed9f_row6_col2\" class=\"data row6 col2\" >-0.551866</td>\n",
       "                        <td id=\"T_8ed9f_row6_col3\" class=\"data row6 col3\" >0.235673</td>\n",
       "                        <td id=\"T_8ed9f_row6_col4\" class=\"data row6 col4\" >0.090862</td>\n",
       "                        <td id=\"T_8ed9f_row6_col5\" class=\"data row6 col5\" >0.461776</td>\n",
       "                        <td id=\"T_8ed9f_row6_col6\" class=\"data row6 col6\" >1.000000</td>\n",
       "                        <td id=\"T_8ed9f_row6_col7\" class=\"data row6 col7\" >0.690090</td>\n",
       "                        <td id=\"T_8ed9f_row6_col8\" class=\"data row6 col8\" >0.307990</td>\n",
       "                        <td id=\"T_8ed9f_row6_col9\" class=\"data row6 col9\" >0.459279</td>\n",
       "                        <td id=\"T_8ed9f_row6_col10\" class=\"data row6 col10\" >0.435779</td>\n",
       "                        <td id=\"T_8ed9f_row6_col11\" class=\"data row6 col11\" >0.344108</td>\n",
       "                        <td id=\"T_8ed9f_row6_col12\" class=\"data row6 col12\" >0.442526</td>\n",
       "                        <td id=\"T_8ed9f_row6_col13\" class=\"data row6 col13\" >-0.473149</td>\n",
       "                        <td id=\"T_8ed9f_row6_col14\" class=\"data row6 col14\" >-0.297341</td>\n",
       "                        <td id=\"T_8ed9f_row6_col15\" class=\"data row6 col15\" >-0.319789</td>\n",
       "                        <td id=\"T_8ed9f_row6_col16\" class=\"data row6 col16\" >-0.650354</td>\n",
       "            </tr>\n",
       "            <tr>\n",
       "                        <th id=\"T_8ed9f_level0_row7\" class=\"row_heading level0 row7\" >Enrollments-Higher_Secondary</th>\n",
       "                        <td id=\"T_8ed9f_row7_col0\" class=\"data row7 col0\" >-0.428581</td>\n",
       "                        <td id=\"T_8ed9f_row7_col1\" class=\"data row7 col1\" >-0.649678</td>\n",
       "                        <td id=\"T_8ed9f_row7_col2\" class=\"data row7 col2\" >-0.945431</td>\n",
       "                        <td id=\"T_8ed9f_row7_col3\" class=\"data row7 col3\" >0.285383</td>\n",
       "                        <td id=\"T_8ed9f_row7_col4\" class=\"data row7 col4\" >-0.214672</td>\n",
       "                        <td id=\"T_8ed9f_row7_col5\" class=\"data row7 col5\" >0.062548</td>\n",
       "                        <td id=\"T_8ed9f_row7_col6\" class=\"data row7 col6\" >0.690090</td>\n",
       "                        <td id=\"T_8ed9f_row7_col7\" class=\"data row7 col7\" >1.000000</td>\n",
       "                        <td id=\"T_8ed9f_row7_col8\" class=\"data row7 col8\" >0.417526</td>\n",
       "                        <td id=\"T_8ed9f_row7_col9\" class=\"data row7 col9\" >0.525774</td>\n",
       "                        <td id=\"T_8ed9f_row7_col10\" class=\"data row7 col10\" >0.538481</td>\n",
       "                        <td id=\"T_8ed9f_row7_col11\" class=\"data row7 col11\" >0.404507</td>\n",
       "                        <td id=\"T_8ed9f_row7_col12\" class=\"data row7 col12\" >0.371134</td>\n",
       "                        <td id=\"T_8ed9f_row7_col13\" class=\"data row7 col13\" >-0.359562</td>\n",
       "                        <td id=\"T_8ed9f_row7_col14\" class=\"data row7 col14\" >-0.188397</td>\n",
       "                        <td id=\"T_8ed9f_row7_col15\" class=\"data row7 col15\" >-0.230279</td>\n",
       "                        <td id=\"T_8ed9f_row7_col16\" class=\"data row7 col16\" >-0.327495</td>\n",
       "            </tr>\n",
       "            <tr>\n",
       "                        <th id=\"T_8ed9f_level0_row8\" class=\"row_heading level0 row8\" >Drinking water</th>\n",
       "                        <td id=\"T_8ed9f_row8_col0\" class=\"data row8 col0\" >-0.807090</td>\n",
       "                        <td id=\"T_8ed9f_row8_col1\" class=\"data row8 col1\" >-0.627836</td>\n",
       "                        <td id=\"T_8ed9f_row8_col2\" class=\"data row8 col2\" >-0.437114</td>\n",
       "                        <td id=\"T_8ed9f_row8_col3\" class=\"data row8 col3\" >0.260864</td>\n",
       "                        <td id=\"T_8ed9f_row8_col4\" class=\"data row8 col4\" >-0.596135</td>\n",
       "                        <td id=\"T_8ed9f_row8_col5\" class=\"data row8 col5\" >-0.272681</td>\n",
       "                        <td id=\"T_8ed9f_row8_col6\" class=\"data row8 col6\" >0.307990</td>\n",
       "                        <td id=\"T_8ed9f_row8_col7\" class=\"data row8 col7\" >0.417526</td>\n",
       "                        <td id=\"T_8ed9f_row8_col8\" class=\"data row8 col8\" >1.000000</td>\n",
       "                        <td id=\"T_8ed9f_row8_col9\" class=\"data row8 col9\" >0.866581</td>\n",
       "                        <td id=\"T_8ed9f_row8_col10\" class=\"data row8 col10\" >0.737629</td>\n",
       "                        <td id=\"T_8ed9f_row8_col11\" class=\"data row8 col11\" >0.746873</td>\n",
       "                        <td id=\"T_8ed9f_row8_col12\" class=\"data row8 col12\" >0.698581</td>\n",
       "                        <td id=\"T_8ed9f_row8_col13\" class=\"data row8 col13\" >0.081238</td>\n",
       "                        <td id=\"T_8ed9f_row8_col14\" class=\"data row8 col14\" >0.163368</td>\n",
       "                        <td id=\"T_8ed9f_row8_col15\" class=\"data row8 col15\" >0.009285</td>\n",
       "                        <td id=\"T_8ed9f_row8_col16\" class=\"data row8 col16\" >-0.135139</td>\n",
       "            </tr>\n",
       "            <tr>\n",
       "                        <th id=\"T_8ed9f_level0_row9\" class=\"row_heading level0 row9\" >Electricity</th>\n",
       "                        <td id=\"T_8ed9f_row9_col0\" class=\"data row9 col0\" >-0.735675</td>\n",
       "                        <td id=\"T_8ed9f_row9_col1\" class=\"data row9 col1\" >-0.607732</td>\n",
       "                        <td id=\"T_8ed9f_row9_col2\" class=\"data row9 col2\" >-0.541753</td>\n",
       "                        <td id=\"T_8ed9f_row9_col3\" class=\"data row9 col3\" >0.469375</td>\n",
       "                        <td id=\"T_8ed9f_row9_col4\" class=\"data row9 col4\" >-0.498712</td>\n",
       "                        <td id=\"T_8ed9f_row9_col5\" class=\"data row9 col5\" >-0.144330</td>\n",
       "                        <td id=\"T_8ed9f_row9_col6\" class=\"data row9 col6\" >0.459279</td>\n",
       "                        <td id=\"T_8ed9f_row9_col7\" class=\"data row9 col7\" >0.525774</td>\n",
       "                        <td id=\"T_8ed9f_row9_col8\" class=\"data row9 col8\" >0.866581</td>\n",
       "                        <td id=\"T_8ed9f_row9_col9\" class=\"data row9 col9\" >1.000000</td>\n",
       "                        <td id=\"T_8ed9f_row9_col10\" class=\"data row9 col10\" >0.880671</td>\n",
       "                        <td id=\"T_8ed9f_row9_col11\" class=\"data row9 col11\" >0.714636</td>\n",
       "                        <td id=\"T_8ed9f_row9_col12\" class=\"data row9 col12\" >0.807742</td>\n",
       "                        <td id=\"T_8ed9f_row9_col13\" class=\"data row9 col13\" >-0.098259</td>\n",
       "                        <td id=\"T_8ed9f_row9_col14\" class=\"data row9 col14\" >-0.072207</td>\n",
       "                        <td id=\"T_8ed9f_row9_col15\" class=\"data row9 col15\" >-0.270940</td>\n",
       "                        <td id=\"T_8ed9f_row9_col16\" class=\"data row9 col16\" >-0.298388</td>\n",
       "            </tr>\n",
       "            <tr>\n",
       "                        <th id=\"T_8ed9f_level0_row10\" class=\"row_heading level0 row10\" >Computer</th>\n",
       "                        <td id=\"T_8ed9f_row10_col0\" class=\"data row10 col0\" >-0.594915</td>\n",
       "                        <td id=\"T_8ed9f_row10_col1\" class=\"data row10 col1\" >-0.532561</td>\n",
       "                        <td id=\"T_8ed9f_row10_col2\" class=\"data row10 col2\" >-0.540026</td>\n",
       "                        <td id=\"T_8ed9f_row10_col3\" class=\"data row10 col3\" >0.459240</td>\n",
       "                        <td id=\"T_8ed9f_row10_col4\" class=\"data row10 col4\" >-0.433719</td>\n",
       "                        <td id=\"T_8ed9f_row10_col5\" class=\"data row10 col5\" >-0.138739</td>\n",
       "                        <td id=\"T_8ed9f_row10_col6\" class=\"data row10 col6\" >0.435779</td>\n",
       "                        <td id=\"T_8ed9f_row10_col7\" class=\"data row10 col7\" >0.538481</td>\n",
       "                        <td id=\"T_8ed9f_row10_col8\" class=\"data row10 col8\" >0.737629</td>\n",
       "                        <td id=\"T_8ed9f_row10_col9\" class=\"data row10 col9\" >0.880671</td>\n",
       "                        <td id=\"T_8ed9f_row10_col10\" class=\"data row10 col10\" >1.000000</td>\n",
       "                        <td id=\"T_8ed9f_row10_col11\" class=\"data row10 col11\" >0.755184</td>\n",
       "                        <td id=\"T_8ed9f_row10_col12\" class=\"data row10 col12\" >0.796650</td>\n",
       "                        <td id=\"T_8ed9f_row10_col13\" class=\"data row10 col13\" >-0.307148</td>\n",
       "                        <td id=\"T_8ed9f_row10_col14\" class=\"data row10 col14\" >-0.293993</td>\n",
       "                        <td id=\"T_8ed9f_row10_col15\" class=\"data row10 col15\" >-0.365767</td>\n",
       "                        <td id=\"T_8ed9f_row10_col16\" class=\"data row10 col16\" >-0.332647</td>\n",
       "            </tr>\n",
       "            <tr>\n",
       "                        <th id=\"T_8ed9f_level0_row11\" class=\"row_heading level0 row11\" >Boys toilet</th>\n",
       "                        <td id=\"T_8ed9f_row11_col0\" class=\"data row11 col0\" >-0.553430</td>\n",
       "                        <td id=\"T_8ed9f_row11_col1\" class=\"data row11 col1\" >-0.571282</td>\n",
       "                        <td id=\"T_8ed9f_row11_col2\" class=\"data row11 col2\" >-0.473535</td>\n",
       "                        <td id=\"T_8ed9f_row11_col3\" class=\"data row11 col3\" >0.358763</td>\n",
       "                        <td id=\"T_8ed9f_row11_col4\" class=\"data row11 col4\" >-0.393690</td>\n",
       "                        <td id=\"T_8ed9f_row11_col5\" class=\"data row11 col5\" >-0.082936</td>\n",
       "                        <td id=\"T_8ed9f_row11_col6\" class=\"data row11 col6\" >0.344108</td>\n",
       "                        <td id=\"T_8ed9f_row11_col7\" class=\"data row11 col7\" >0.404507</td>\n",
       "                        <td id=\"T_8ed9f_row11_col8\" class=\"data row11 col8\" >0.746873</td>\n",
       "                        <td id=\"T_8ed9f_row11_col9\" class=\"data row11 col9\" >0.714636</td>\n",
       "                        <td id=\"T_8ed9f_row11_col10\" class=\"data row11 col10\" >0.755184</td>\n",
       "                        <td id=\"T_8ed9f_row11_col11\" class=\"data row11 col11\" >1.000000</td>\n",
       "                        <td id=\"T_8ed9f_row11_col12\" class=\"data row11 col12\" >0.882785</td>\n",
       "                        <td id=\"T_8ed9f_row11_col13\" class=\"data row11 col13\" >-0.175644</td>\n",
       "                        <td id=\"T_8ed9f_row11_col14\" class=\"data row11 col14\" >-0.145223</td>\n",
       "                        <td id=\"T_8ed9f_row11_col15\" class=\"data row11 col15\" >-0.061860</td>\n",
       "                        <td id=\"T_8ed9f_row11_col16\" class=\"data row11 col16\" >-0.263209</td>\n",
       "            </tr>\n",
       "            <tr>\n",
       "                        <th id=\"T_8ed9f_level0_row12\" class=\"row_heading level0 row12\" >Girls toilet</th>\n",
       "                        <td id=\"T_8ed9f_row12_col0\" class=\"data row12 col0\" >-0.504931</td>\n",
       "                        <td id=\"T_8ed9f_row12_col1\" class=\"data row12 col1\" >-0.464949</td>\n",
       "                        <td id=\"T_8ed9f_row12_col2\" class=\"data row12 col2\" >-0.391753</td>\n",
       "                        <td id=\"T_8ed9f_row12_col3\" class=\"data row12 col3\" >0.403611</td>\n",
       "                        <td id=\"T_8ed9f_row12_col4\" class=\"data row12 col4\" >-0.286598</td>\n",
       "                        <td id=\"T_8ed9f_row12_col5\" class=\"data row12 col5\" >0.047423</td>\n",
       "                        <td id=\"T_8ed9f_row12_col6\" class=\"data row12 col6\" >0.442526</td>\n",
       "                        <td id=\"T_8ed9f_row12_col7\" class=\"data row12 col7\" >0.371134</td>\n",
       "                        <td id=\"T_8ed9f_row12_col8\" class=\"data row12 col8\" >0.698581</td>\n",
       "                        <td id=\"T_8ed9f_row12_col9\" class=\"data row12 col9\" >0.807742</td>\n",
       "                        <td id=\"T_8ed9f_row12_col10\" class=\"data row12 col10\" >0.796650</td>\n",
       "                        <td id=\"T_8ed9f_row12_col11\" class=\"data row12 col11\" >0.882785</td>\n",
       "                        <td id=\"T_8ed9f_row12_col12\" class=\"data row12 col12\" >1.000000</td>\n",
       "                        <td id=\"T_8ed9f_row12_col13\" class=\"data row12 col13\" >-0.223469</td>\n",
       "                        <td id=\"T_8ed9f_row12_col14\" class=\"data row12 col14\" >-0.232996</td>\n",
       "                        <td id=\"T_8ed9f_row12_col15\" class=\"data row12 col15\" >-0.214456</td>\n",
       "                        <td id=\"T_8ed9f_row12_col16\" class=\"data row12 col16\" >-0.397937</td>\n",
       "            </tr>\n",
       "            <tr>\n",
       "                        <th id=\"T_8ed9f_level0_row13\" class=\"row_heading level0 row13\" >PTR-Primary</th>\n",
       "                        <td id=\"T_8ed9f_row13_col0\" class=\"data row13 col0\" >-0.103060</td>\n",
       "                        <td id=\"T_8ed9f_row13_col1\" class=\"data row13 col1\" >0.043657</td>\n",
       "                        <td id=\"T_8ed9f_row13_col2\" class=\"data row13 col2\" >0.275853</td>\n",
       "                        <td id=\"T_8ed9f_row13_col3\" class=\"data row13 col3\" >-0.355863</td>\n",
       "                        <td id=\"T_8ed9f_row13_col4\" class=\"data row13 col4\" >-0.004121</td>\n",
       "                        <td id=\"T_8ed9f_row13_col5\" class=\"data row13 col5\" >-0.103155</td>\n",
       "                        <td id=\"T_8ed9f_row13_col6\" class=\"data row13 col6\" >-0.473149</td>\n",
       "                        <td id=\"T_8ed9f_row13_col7\" class=\"data row13 col7\" >-0.359562</td>\n",
       "                        <td id=\"T_8ed9f_row13_col8\" class=\"data row13 col8\" >0.081238</td>\n",
       "                        <td id=\"T_8ed9f_row13_col9\" class=\"data row13 col9\" >-0.098259</td>\n",
       "                        <td id=\"T_8ed9f_row13_col10\" class=\"data row13 col10\" >-0.307148</td>\n",
       "                        <td id=\"T_8ed9f_row13_col11\" class=\"data row13 col11\" >-0.175644</td>\n",
       "                        <td id=\"T_8ed9f_row13_col12\" class=\"data row13 col12\" >-0.223469</td>\n",
       "                        <td id=\"T_8ed9f_row13_col13\" class=\"data row13 col13\" >1.000000</td>\n",
       "                        <td id=\"T_8ed9f_row13_col14\" class=\"data row13 col14\" >0.895303</td>\n",
       "                        <td id=\"T_8ed9f_row13_col15\" class=\"data row13 col15\" >0.486951</td>\n",
       "                        <td id=\"T_8ed9f_row13_col16\" class=\"data row13 col16\" >0.566817</td>\n",
       "            </tr>\n",
       "            <tr>\n",
       "                        <th id=\"T_8ed9f_level0_row14\" class=\"row_heading level0 row14\" >PTR-Upper Primary</th>\n",
       "                        <td id=\"T_8ed9f_row14_col0\" class=\"data row14 col0\" >-0.227747</td>\n",
       "                        <td id=\"T_8ed9f_row14_col1\" class=\"data row14 col1\" >-0.120018</td>\n",
       "                        <td id=\"T_8ed9f_row14_col2\" class=\"data row14 col2\" >0.134956</td>\n",
       "                        <td id=\"T_8ed9f_row14_col3\" class=\"data row14 col3\" >-0.370273</td>\n",
       "                        <td id=\"T_8ed9f_row14_col4\" class=\"data row14 col4\" >-0.086150</td>\n",
       "                        <td id=\"T_8ed9f_row14_col5\" class=\"data row14 col5\" >-0.108686</td>\n",
       "                        <td id=\"T_8ed9f_row14_col6\" class=\"data row14 col6\" >-0.297341</td>\n",
       "                        <td id=\"T_8ed9f_row14_col7\" class=\"data row14 col7\" >-0.188397</td>\n",
       "                        <td id=\"T_8ed9f_row14_col8\" class=\"data row14 col8\" >0.163368</td>\n",
       "                        <td id=\"T_8ed9f_row14_col9\" class=\"data row14 col9\" >-0.072207</td>\n",
       "                        <td id=\"T_8ed9f_row14_col10\" class=\"data row14 col10\" >-0.293993</td>\n",
       "                        <td id=\"T_8ed9f_row14_col11\" class=\"data row14 col11\" >-0.145223</td>\n",
       "                        <td id=\"T_8ed9f_row14_col12\" class=\"data row14 col12\" >-0.232996</td>\n",
       "                        <td id=\"T_8ed9f_row14_col13\" class=\"data row14 col13\" >0.895303</td>\n",
       "                        <td id=\"T_8ed9f_row14_col14\" class=\"data row14 col14\" >1.000000</td>\n",
       "                        <td id=\"T_8ed9f_row14_col15\" class=\"data row14 col15\" >0.629253</td>\n",
       "                        <td id=\"T_8ed9f_row14_col16\" class=\"data row14 col16\" >0.584047</td>\n",
       "            </tr>\n",
       "            <tr>\n",
       "                        <th id=\"T_8ed9f_level0_row15\" class=\"row_heading level0 row15\" >PTR-Secondary</th>\n",
       "                        <td id=\"T_8ed9f_row15_col0\" class=\"data row15 col0\" >-0.015009</td>\n",
       "                        <td id=\"T_8ed9f_row15_col1\" class=\"data row15 col1\" >0.097753</td>\n",
       "                        <td id=\"T_8ed9f_row15_col2\" class=\"data row15 col2\" >0.188422</td>\n",
       "                        <td id=\"T_8ed9f_row15_col3\" class=\"data row15 col3\" >-0.227721</td>\n",
       "                        <td id=\"T_8ed9f_row15_col4\" class=\"data row15 col4\" >0.014167</td>\n",
       "                        <td id=\"T_8ed9f_row15_col5\" class=\"data row15 col5\" >0.032069</td>\n",
       "                        <td id=\"T_8ed9f_row15_col6\" class=\"data row15 col6\" >-0.319789</td>\n",
       "                        <td id=\"T_8ed9f_row15_col7\" class=\"data row15 col7\" >-0.230279</td>\n",
       "                        <td id=\"T_8ed9f_row15_col8\" class=\"data row15 col8\" >0.009285</td>\n",
       "                        <td id=\"T_8ed9f_row15_col9\" class=\"data row15 col9\" >-0.270940</td>\n",
       "                        <td id=\"T_8ed9f_row15_col10\" class=\"data row15 col10\" >-0.365767</td>\n",
       "                        <td id=\"T_8ed9f_row15_col11\" class=\"data row15 col11\" >-0.061860</td>\n",
       "                        <td id=\"T_8ed9f_row15_col12\" class=\"data row15 col12\" >-0.214456</td>\n",
       "                        <td id=\"T_8ed9f_row15_col13\" class=\"data row15 col13\" >0.486951</td>\n",
       "                        <td id=\"T_8ed9f_row15_col14\" class=\"data row15 col14\" >0.629253</td>\n",
       "                        <td id=\"T_8ed9f_row15_col15\" class=\"data row15 col15\" >1.000000</td>\n",
       "                        <td id=\"T_8ed9f_row15_col16\" class=\"data row15 col16\" >0.642309</td>\n",
       "            </tr>\n",
       "            <tr>\n",
       "                        <th id=\"T_8ed9f_level0_row16\" class=\"row_heading level0 row16\" >PTR-Higher Secondary</th>\n",
       "                        <td id=\"T_8ed9f_row16_col0\" class=\"data row16 col0\" >0.140097</td>\n",
       "                        <td id=\"T_8ed9f_row16_col1\" class=\"data row16 col1\" >0.234128</td>\n",
       "                        <td id=\"T_8ed9f_row16_col2\" class=\"data row16 col2\" >0.249324</td>\n",
       "                        <td id=\"T_8ed9f_row16_col3\" class=\"data row16 col3\" >-0.288338</td>\n",
       "                        <td id=\"T_8ed9f_row16_col4\" class=\"data row16 col4\" >-0.087959</td>\n",
       "                        <td id=\"T_8ed9f_row16_col5\" class=\"data row16 col5\" >-0.276497</td>\n",
       "                        <td id=\"T_8ed9f_row16_col6\" class=\"data row16 col6\" >-0.650354</td>\n",
       "                        <td id=\"T_8ed9f_row16_col7\" class=\"data row16 col7\" >-0.327495</td>\n",
       "                        <td id=\"T_8ed9f_row16_col8\" class=\"data row16 col8\" >-0.135139</td>\n",
       "                        <td id=\"T_8ed9f_row16_col9\" class=\"data row16 col9\" >-0.298388</td>\n",
       "                        <td id=\"T_8ed9f_row16_col10\" class=\"data row16 col10\" >-0.332647</td>\n",
       "                        <td id=\"T_8ed9f_row16_col11\" class=\"data row16 col11\" >-0.263209</td>\n",
       "                        <td id=\"T_8ed9f_row16_col12\" class=\"data row16 col12\" >-0.397937</td>\n",
       "                        <td id=\"T_8ed9f_row16_col13\" class=\"data row16 col13\" >0.566817</td>\n",
       "                        <td id=\"T_8ed9f_row16_col14\" class=\"data row16 col14\" >0.584047</td>\n",
       "                        <td id=\"T_8ed9f_row16_col15\" class=\"data row16 col15\" >0.642309</td>\n",
       "                        <td id=\"T_8ed9f_row16_col16\" class=\"data row16 col16\" >1.000000</td>\n",
       "            </tr>\n",
       "    </tbody></table>"
      ],
      "text/plain": [
       "<pandas.io.formats.style.Styler at 0x27a260140a0>"
      ]
     },
     "execution_count": 33,
     "metadata": {},
     "output_type": "execute_result"
    }
   ],
   "source": [
    "dataset.corr(method='spearman').style.background_gradient(cmap='coolwarm')"
   ]
  },
  {
   "cell_type": "markdown",
   "metadata": {},
   "source": [
    "### Observations\n",
    "\n",
    "* Dropouts are negatively correlated with factors. Children need more care. They need drinking water because they play a lot. If there isn't electricity, India primarily being a tropical country,discourage them to come to schools. WRITE BETTER AND FOR THE OTHER POINTS\n",
    "* Correlation with dropouts reduces with increasing age of students\n",
    "* Same thing observed in enrollments"
   ]
  },
  {
   "cell_type": "code",
   "execution_count": 34,
   "metadata": {},
   "outputs": [
    {
     "data": {
      "text/html": [
       "<div>\n",
       "<style scoped>\n",
       "    .dataframe tbody tr th:only-of-type {\n",
       "        vertical-align: middle;\n",
       "    }\n",
       "\n",
       "    .dataframe tbody tr th {\n",
       "        vertical-align: top;\n",
       "    }\n",
       "\n",
       "    .dataframe thead th {\n",
       "        text-align: right;\n",
       "    }\n",
       "</style>\n",
       "<table border=\"1\" class=\"dataframe\">\n",
       "  <thead>\n",
       "    <tr style=\"text-align: right;\">\n",
       "      <th></th>\n",
       "      <th>Drinking water</th>\n",
       "    </tr>\n",
       "    <tr>\n",
       "      <th>State</th>\n",
       "      <th></th>\n",
       "    </tr>\n",
       "  </thead>\n",
       "  <tbody>\n",
       "    <tr>\n",
       "      <th>Andaman &amp; Nicobar Islands</th>\n",
       "      <td>99.403333</td>\n",
       "    </tr>\n",
       "    <tr>\n",
       "      <th>Andhra Pradesh</th>\n",
       "      <td>93.153333</td>\n",
       "    </tr>\n",
       "    <tr>\n",
       "      <th>Arunachal Pradesh</th>\n",
       "      <td>80.633333</td>\n",
       "    </tr>\n",
       "    <tr>\n",
       "      <th>Assam</th>\n",
       "      <td>83.290000</td>\n",
       "    </tr>\n",
       "    <tr>\n",
       "      <th>Bihar</th>\n",
       "      <td>93.233333</td>\n",
       "    </tr>\n",
       "  </tbody>\n",
       "</table>\n",
       "</div>"
      ],
      "text/plain": [
       "                           Drinking water\n",
       "State                                    \n",
       "Andaman & Nicobar Islands       99.403333\n",
       "Andhra Pradesh                  93.153333\n",
       "Arunachal Pradesh               80.633333\n",
       "Assam                           83.290000\n",
       "Bihar                           93.233333"
      ]
     },
     "execution_count": 34,
     "metadata": {},
     "output_type": "execute_result"
    }
   ],
   "source": [
    "drinks.head()"
   ]
  },
  {
   "cell_type": "markdown",
   "metadata": {},
   "source": [
    "## Checking feature importance"
   ]
  },
  {
   "cell_type": "code",
   "execution_count": 35,
   "metadata": {},
   "outputs": [
    {
     "data": {
      "text/html": [
       "<div>\n",
       "<style scoped>\n",
       "    .dataframe tbody tr th:only-of-type {\n",
       "        vertical-align: middle;\n",
       "    }\n",
       "\n",
       "    .dataframe tbody tr th {\n",
       "        vertical-align: top;\n",
       "    }\n",
       "\n",
       "    .dataframe thead th {\n",
       "        text-align: right;\n",
       "    }\n",
       "</style>\n",
       "<table border=\"1\" class=\"dataframe\">\n",
       "  <thead>\n",
       "    <tr style=\"text-align: right;\">\n",
       "      <th></th>\n",
       "      <th>Explained variance</th>\n",
       "      <th>Cumulative explained variance</th>\n",
       "    </tr>\n",
       "    <tr>\n",
       "      <th>Feature</th>\n",
       "      <th></th>\n",
       "      <th></th>\n",
       "    </tr>\n",
       "  </thead>\n",
       "  <tbody>\n",
       "    <tr>\n",
       "      <th>Dropout-PRIMARY</th>\n",
       "      <td>63.915774</td>\n",
       "      <td>63.915774</td>\n",
       "    </tr>\n",
       "    <tr>\n",
       "      <th>Dropout-UPPER_PRIMARY</th>\n",
       "      <td>9.863972</td>\n",
       "      <td>73.779746</td>\n",
       "    </tr>\n",
       "    <tr>\n",
       "      <th>Dropout-SECONDARY</th>\n",
       "      <td>5.872573</td>\n",
       "      <td>79.652319</td>\n",
       "    </tr>\n",
       "    <tr>\n",
       "      <th>Dropout-HRSECONDARY</th>\n",
       "      <td>3.918029</td>\n",
       "      <td>83.570348</td>\n",
       "    </tr>\n",
       "    <tr>\n",
       "      <th>Enrollments-Primary</th>\n",
       "      <td>3.517997</td>\n",
       "      <td>87.088345</td>\n",
       "    </tr>\n",
       "    <tr>\n",
       "      <th>Enrollments-Upper_Primary</th>\n",
       "      <td>2.809554</td>\n",
       "      <td>89.897899</td>\n",
       "    </tr>\n",
       "    <tr>\n",
       "      <th>Enrollments-Secondary</th>\n",
       "      <td>2.136175</td>\n",
       "      <td>92.034074</td>\n",
       "    </tr>\n",
       "    <tr>\n",
       "      <th>Enrollments-Higher_Secondary</th>\n",
       "      <td>1.597391</td>\n",
       "      <td>93.631465</td>\n",
       "    </tr>\n",
       "    <tr>\n",
       "      <th>Drinking water</th>\n",
       "      <td>1.328203</td>\n",
       "      <td>94.959668</td>\n",
       "    </tr>\n",
       "    <tr>\n",
       "      <th>Electricity</th>\n",
       "      <td>1.071597</td>\n",
       "      <td>96.031265</td>\n",
       "    </tr>\n",
       "    <tr>\n",
       "      <th>Computer</th>\n",
       "      <td>0.940158</td>\n",
       "      <td>96.971423</td>\n",
       "    </tr>\n",
       "    <tr>\n",
       "      <th>Boys toilet</th>\n",
       "      <td>0.819912</td>\n",
       "      <td>97.791335</td>\n",
       "    </tr>\n",
       "    <tr>\n",
       "      <th>Girls toilet</th>\n",
       "      <td>0.690469</td>\n",
       "      <td>98.481804</td>\n",
       "    </tr>\n",
       "    <tr>\n",
       "      <th>PTR-Primary</th>\n",
       "      <td>0.580061</td>\n",
       "      <td>99.061865</td>\n",
       "    </tr>\n",
       "    <tr>\n",
       "      <th>PTR-Upper Primary</th>\n",
       "      <td>0.383900</td>\n",
       "      <td>99.445765</td>\n",
       "    </tr>\n",
       "    <tr>\n",
       "      <th>PTR-Secondary</th>\n",
       "      <td>0.357311</td>\n",
       "      <td>99.803076</td>\n",
       "    </tr>\n",
       "    <tr>\n",
       "      <th>PTR-Higher Secondary</th>\n",
       "      <td>0.196924</td>\n",
       "      <td>100.000000</td>\n",
       "    </tr>\n",
       "  </tbody>\n",
       "</table>\n",
       "</div>"
      ],
      "text/plain": [
       "                              Explained variance  \\\n",
       "Feature                                            \n",
       "Dropout-PRIMARY                        63.915774   \n",
       "Dropout-UPPER_PRIMARY                   9.863972   \n",
       "Dropout-SECONDARY                       5.872573   \n",
       "Dropout-HRSECONDARY                     3.918029   \n",
       "Enrollments-Primary                     3.517997   \n",
       "Enrollments-Upper_Primary               2.809554   \n",
       "Enrollments-Secondary                   2.136175   \n",
       "Enrollments-Higher_Secondary            1.597391   \n",
       "Drinking water                          1.328203   \n",
       "Electricity                             1.071597   \n",
       "Computer                                0.940158   \n",
       "Boys toilet                             0.819912   \n",
       "Girls toilet                            0.690469   \n",
       "PTR-Primary                             0.580061   \n",
       "PTR-Upper Primary                       0.383900   \n",
       "PTR-Secondary                           0.357311   \n",
       "PTR-Higher Secondary                    0.196924   \n",
       "\n",
       "                              Cumulative explained variance  \n",
       "Feature                                                      \n",
       "Dropout-PRIMARY                                   63.915774  \n",
       "Dropout-UPPER_PRIMARY                             73.779746  \n",
       "Dropout-SECONDARY                                 79.652319  \n",
       "Dropout-HRSECONDARY                               83.570348  \n",
       "Enrollments-Primary                               87.088345  \n",
       "Enrollments-Upper_Primary                         89.897899  \n",
       "Enrollments-Secondary                             92.034074  \n",
       "Enrollments-Higher_Secondary                      93.631465  \n",
       "Drinking water                                    94.959668  \n",
       "Electricity                                       96.031265  \n",
       "Computer                                          96.971423  \n",
       "Boys toilet                                       97.791335  \n",
       "Girls toilet                                      98.481804  \n",
       "PTR-Primary                                       99.061865  \n",
       "PTR-Upper Primary                                 99.445765  \n",
       "PTR-Secondary                                     99.803076  \n",
       "PTR-Higher Secondary                             100.000000  "
      ]
     },
     "execution_count": 35,
     "metadata": {},
     "output_type": "execute_result"
    }
   ],
   "source": [
    "#Using SVD to find feature importance\n",
    "\n",
    "vals=np.array(dataset)\n",
    "u,sig,v_t=np.linalg.svd(vals)\n",
    "feature_imp=pd.Series(sig,index=list(dataset.columns))\n",
    "feature_imp.index.name=\"Feature\"\n",
    "feature_imp.name=\"Explained variance\"\n",
    "var_exp=pd.DataFrame(feature_imp)\n",
    "tot=var_exp['Explained variance'].sum()\n",
    "var_exp['Explained variance'] = var_exp['Explained variance']/tot*100\n",
    "var_exp.sort_values(['Explained variance'],ascending=False,inplace=True)\n",
    "\n",
    "exp_var=[]\n",
    "for i in range(1,var_exp.shape[0]+1):\n",
    "    exp_var.append(var_exp['Explained variance'].iloc[0:i].sum())\n",
    "pd.concat([var_exp,pd.DataFrame(exp_var,index=var_exp.index, columns=['Cumulative explained variance'])],axis=1)"
   ]
  },
  {
   "cell_type": "markdown",
   "metadata": {},
   "source": [
    "`Observations`:\n",
    "\n",
    "* All the dropout and enrollment features explain enough variance according to the Kaizen criteria\n",
    "* Among the different factors, \"Drinking water\" and \"Electricity\" explain enough variance according to the Kaizen criteria"
   ]
  },
  {
   "cell_type": "markdown",
   "metadata": {},
   "source": [
    "Dropout rates in `primary` school define the maximum difference in education between the states"
   ]
  },
  {
   "cell_type": "code",
   "execution_count": 36,
   "metadata": {},
   "outputs": [
    {
     "name": "stderr",
     "output_type": "stream",
     "text": [
      "c:\\Users\\ADMIN\\Documents\\Codebase\\envs\\machine_L\\lib\\site-packages\\pandas\\core\\frame.py:4524: SettingWithCopyWarning:\n",
      "\n",
      "\n",
      "A value is trying to be set on a copy of a slice from a DataFrame\n",
      "\n",
      "See the caveats in the documentation: https://pandas.pydata.org/pandas-docs/stable/user_guide/indexing.html#returning-a-view-versus-a-copy\n",
      "\n"
     ]
    }
   ],
   "source": [
    "mm=MinMaxScaler()\n",
    "#Lower the better. So we are subtracting the dropout rates from 100% to get the retention rate\n",
    "#We are diving the PTR by 1 as lower is better\n",
    "datasets=dataset.copy()\n",
    "datasets['Dropout-PRIMARY']=100-datasets['Dropout-PRIMARY']\n",
    "datasets['Dropout-UPPER_PRIMARY']=100-datasets['Dropout-UPPER_PRIMARY']\n",
    "datasets['Dropout-SECONDARY']=100-datasets['Dropout-SECONDARY']\n",
    "datasets['Dropout-HRSECONDARY']=100-datasets['Dropout-HRSECONDARY']\n",
    "datasets['PTR-Primary']=1/datasets['PTR-Primary']\n",
    "datasets['PTR-Upper Primary']=1/datasets['PTR-Upper Primary']\n",
    "datasets['PTR-Secondary'] =1/datasets['PTR-Secondary']\n",
    "datasets['PTR-Higher Secondary'] =1/datasets['PTR-Higher Secondary']\n",
    "\n",
    "datasets[['Dropout-PRIMARY','Dropout-UPPER_PRIMARY','Dropout-SECONDARY','Dropout-HRSECONDARY']].replace({np.inf:0},inplace=True)\n",
    "#Because dividing by 0 makes them 0"
   ]
  },
  {
   "cell_type": "markdown",
   "metadata": {},
   "source": [
    "# Overall ranking of states"
   ]
  },
  {
   "cell_type": "code",
   "execution_count": 37,
   "metadata": {},
   "outputs": [
    {
     "name": "stdout",
     "output_type": "stream",
     "text": [
      "\n",
      " Overall rank of states based on dropout rates, enrollment rates, student:teacher ratio and other factors \n",
      "\n"
     ]
    },
    {
     "data": {
      "text/html": [
       "<div>\n",
       "<style scoped>\n",
       "    .dataframe tbody tr th:only-of-type {\n",
       "        vertical-align: middle;\n",
       "    }\n",
       "\n",
       "    .dataframe tbody tr th {\n",
       "        vertical-align: top;\n",
       "    }\n",
       "\n",
       "    .dataframe thead th {\n",
       "        text-align: right;\n",
       "    }\n",
       "</style>\n",
       "<table border=\"1\" class=\"dataframe\">\n",
       "  <thead>\n",
       "    <tr style=\"text-align: right;\">\n",
       "      <th></th>\n",
       "      <th>Overall score</th>\n",
       "    </tr>\n",
       "    <tr>\n",
       "      <th>State</th>\n",
       "      <th></th>\n",
       "    </tr>\n",
       "  </thead>\n",
       "  <tbody>\n",
       "    <tr>\n",
       "      <th>Delhi</th>\n",
       "      <td>75.715240</td>\n",
       "    </tr>\n",
       "    <tr>\n",
       "      <th>Lakshadweep</th>\n",
       "      <td>74.375553</td>\n",
       "    </tr>\n",
       "    <tr>\n",
       "      <th>Kerala</th>\n",
       "      <td>73.349588</td>\n",
       "    </tr>\n",
       "    <tr>\n",
       "      <th>Chandigarh</th>\n",
       "      <td>73.321496</td>\n",
       "    </tr>\n",
       "    <tr>\n",
       "      <th>Sikkim</th>\n",
       "      <td>72.376044</td>\n",
       "    </tr>\n",
       "    <tr>\n",
       "      <th>Puducherry</th>\n",
       "      <td>71.983355</td>\n",
       "    </tr>\n",
       "    <tr>\n",
       "      <th>Himachal Pradesh</th>\n",
       "      <td>71.253593</td>\n",
       "    </tr>\n",
       "    <tr>\n",
       "      <th>Tamil Nadu</th>\n",
       "      <td>70.800147</td>\n",
       "    </tr>\n",
       "    <tr>\n",
       "      <th>Goa</th>\n",
       "      <td>70.517515</td>\n",
       "    </tr>\n",
       "    <tr>\n",
       "      <th>Punjab</th>\n",
       "      <td>69.780648</td>\n",
       "    </tr>\n",
       "    <tr>\n",
       "      <th>Andaman &amp; Nicobar Islands</th>\n",
       "      <td>69.328665</td>\n",
       "    </tr>\n",
       "    <tr>\n",
       "      <th>Maharashtra</th>\n",
       "      <td>69.199601</td>\n",
       "    </tr>\n",
       "    <tr>\n",
       "      <th>Haryana</th>\n",
       "      <td>68.225080</td>\n",
       "    </tr>\n",
       "    <tr>\n",
       "      <th>Mizoram</th>\n",
       "      <td>68.082295</td>\n",
       "    </tr>\n",
       "    <tr>\n",
       "      <th>Gujarat</th>\n",
       "      <td>67.845604</td>\n",
       "    </tr>\n",
       "    <tr>\n",
       "      <th>Manipur</th>\n",
       "      <td>66.166228</td>\n",
       "    </tr>\n",
       "    <tr>\n",
       "      <th>Daman &amp; Diu</th>\n",
       "      <td>64.692744</td>\n",
       "    </tr>\n",
       "    <tr>\n",
       "      <th>Dadra &amp; Nagar Haveli</th>\n",
       "      <td>64.671446</td>\n",
       "    </tr>\n",
       "    <tr>\n",
       "      <th>Karnataka</th>\n",
       "      <td>64.538772</td>\n",
       "    </tr>\n",
       "    <tr>\n",
       "      <th>Uttarakhand</th>\n",
       "      <td>64.354646</td>\n",
       "    </tr>\n",
       "    <tr>\n",
       "      <th>Telangana</th>\n",
       "      <td>64.038517</td>\n",
       "    </tr>\n",
       "    <tr>\n",
       "      <th>Chhattisgarh</th>\n",
       "      <td>63.878395</td>\n",
       "    </tr>\n",
       "    <tr>\n",
       "      <th>Tripura</th>\n",
       "      <td>63.179730</td>\n",
       "    </tr>\n",
       "    <tr>\n",
       "      <th>West Bengal</th>\n",
       "      <td>63.053892</td>\n",
       "    </tr>\n",
       "    <tr>\n",
       "      <th>Uttar Pradesh</th>\n",
       "      <td>63.026678</td>\n",
       "    </tr>\n",
       "    <tr>\n",
       "      <th>Arunachal Pradesh</th>\n",
       "      <td>63.002390</td>\n",
       "    </tr>\n",
       "    <tr>\n",
       "      <th>Rajasthan</th>\n",
       "      <td>62.863038</td>\n",
       "    </tr>\n",
       "    <tr>\n",
       "      <th>Andhra Pradesh</th>\n",
       "      <td>62.255497</td>\n",
       "    </tr>\n",
       "    <tr>\n",
       "      <th>Madhya Pradesh</th>\n",
       "      <td>59.495972</td>\n",
       "    </tr>\n",
       "    <tr>\n",
       "      <th>Nagaland</th>\n",
       "      <td>58.734874</td>\n",
       "    </tr>\n",
       "    <tr>\n",
       "      <th>Jharkhand</th>\n",
       "      <td>58.281952</td>\n",
       "    </tr>\n",
       "    <tr>\n",
       "      <th>Odisha</th>\n",
       "      <td>57.395507</td>\n",
       "    </tr>\n",
       "    <tr>\n",
       "      <th>Meghalaya</th>\n",
       "      <td>57.048438</td>\n",
       "    </tr>\n",
       "    <tr>\n",
       "      <th>Bihar</th>\n",
       "      <td>56.123755</td>\n",
       "    </tr>\n",
       "    <tr>\n",
       "      <th>Jammu And Kashmir</th>\n",
       "      <td>55.186625</td>\n",
       "    </tr>\n",
       "    <tr>\n",
       "      <th>Assam</th>\n",
       "      <td>54.413032</td>\n",
       "    </tr>\n",
       "  </tbody>\n",
       "</table>\n",
       "</div>"
      ],
      "text/plain": [
       "                           Overall score\n",
       "State                                   \n",
       "Delhi                          75.715240\n",
       "Lakshadweep                    74.375553\n",
       "Kerala                         73.349588\n",
       "Chandigarh                     73.321496\n",
       "Sikkim                         72.376044\n",
       "Puducherry                     71.983355\n",
       "Himachal Pradesh               71.253593\n",
       "Tamil Nadu                     70.800147\n",
       "Goa                            70.517515\n",
       "Punjab                         69.780648\n",
       "Andaman & Nicobar Islands      69.328665\n",
       "Maharashtra                    69.199601\n",
       "Haryana                        68.225080\n",
       "Mizoram                        68.082295\n",
       "Gujarat                        67.845604\n",
       "Manipur                        66.166228\n",
       "Daman & Diu                    64.692744\n",
       "Dadra & Nagar Haveli           64.671446\n",
       "Karnataka                      64.538772\n",
       "Uttarakhand                    64.354646\n",
       "Telangana                      64.038517\n",
       "Chhattisgarh                   63.878395\n",
       "Tripura                        63.179730\n",
       "West Bengal                    63.053892\n",
       "Uttar Pradesh                  63.026678\n",
       "Arunachal Pradesh              63.002390\n",
       "Rajasthan                      62.863038\n",
       "Andhra Pradesh                 62.255497\n",
       "Madhya Pradesh                 59.495972\n",
       "Nagaland                       58.734874\n",
       "Jharkhand                      58.281952\n",
       "Odisha                         57.395507\n",
       "Meghalaya                      57.048438\n",
       "Bihar                          56.123755\n",
       "Jammu And Kashmir              55.186625\n",
       "Assam                          54.413032"
      ]
     },
     "execution_count": 37,
     "metadata": {},
     "output_type": "execute_result"
    }
   ],
   "source": [
    "#Aggregating the scores from all the features\n",
    "states['Overall score']=datasets.mean(axis=1)\n",
    "print('\\n Overall rank of states based on dropout rates, enrollment rates, student:teacher ratio and other factors \\n')\n",
    "states.set_index('State').sort_values(['Overall score'],ascending=False) "
   ]
  },
  {
   "cell_type": "markdown",
   "metadata": {},
   "source": [
    "# Finding out if there are any outliers"
   ]
  },
  {
   "cell_type": "code",
   "execution_count": 38,
   "metadata": {},
   "outputs": [
    {
     "data": {
      "application/vnd.plotly.v1+json": {
       "config": {
        "plotlyServerURL": "https://plot.ly"
       },
       "data": [
        {
         "alignmentgroup": "True",
         "hovertemplate": "<b>%{hovertext}</b><br><br>Overall score=%{x}<extra></extra>",
         "hovertext": [
          "Andaman & Nicobar Islands",
          "Andhra Pradesh",
          "Arunachal Pradesh",
          "Assam",
          "Bihar",
          "Chandigarh",
          "Chhattisgarh",
          "Dadra & Nagar Haveli",
          "Daman & Diu",
          "Delhi",
          "Goa",
          "Gujarat",
          "Haryana",
          "Himachal Pradesh",
          "Jammu And Kashmir",
          "Jharkhand",
          "Karnataka",
          "Kerala",
          "Lakshadweep",
          "Madhya Pradesh",
          "Maharashtra",
          "Manipur",
          "Meghalaya",
          "Mizoram",
          "Nagaland",
          "Odisha",
          "Puducherry",
          "Punjab",
          "Rajasthan",
          "Sikkim",
          "Tamil Nadu",
          "Telangana",
          "Tripura",
          "Uttar Pradesh",
          "Uttarakhand",
          "West Bengal"
         ],
         "legendgroup": "",
         "marker": {
          "color": "#636efa"
         },
         "name": "",
         "notched": false,
         "offsetgroup": "",
         "orientation": "h",
         "showlegend": false,
         "type": "box",
         "x": [
          69.32866523058765,
          62.25549697327462,
          63.002390481745714,
          54.41303177378774,
          56.12375454609447,
          73.32149612167512,
          63.87839454241732,
          64.67144585855141,
          64.69274445442511,
          75.71523974637594,
          70.51751451674737,
          67.84560350428305,
          68.22507978409813,
          71.25359300476946,
          55.18662522757151,
          58.28195176637595,
          64.53877161658795,
          73.34958812776314,
          74.37555347891666,
          59.49597231780958,
          69.19960148863261,
          66.16622799453702,
          57.04843773035531,
          68.0822947218103,
          58.73487424916489,
          57.3955074971165,
          71.98335540276719,
          69.78064837699785,
          62.863037556223766,
          72.37604354004186,
          70.80014728067513,
          64.03851741271727,
          63.179729877322266,
          63.026677611798426,
          64.35464588026207,
          63.05389226690266
         ],
         "x0": " ",
         "xaxis": "x",
         "y0": " ",
         "yaxis": "y"
        }
       ],
       "layout": {
        "boxmode": "group",
        "legend": {
         "tracegroupgap": 0
        },
        "template": {
         "data": {
          "bar": [
           {
            "error_x": {
             "color": "#2a3f5f"
            },
            "error_y": {
             "color": "#2a3f5f"
            },
            "marker": {
             "line": {
              "color": "#E5ECF6",
              "width": 0.5
             }
            },
            "type": "bar"
           }
          ],
          "barpolar": [
           {
            "marker": {
             "line": {
              "color": "#E5ECF6",
              "width": 0.5
             }
            },
            "type": "barpolar"
           }
          ],
          "carpet": [
           {
            "aaxis": {
             "endlinecolor": "#2a3f5f",
             "gridcolor": "white",
             "linecolor": "white",
             "minorgridcolor": "white",
             "startlinecolor": "#2a3f5f"
            },
            "baxis": {
             "endlinecolor": "#2a3f5f",
             "gridcolor": "white",
             "linecolor": "white",
             "minorgridcolor": "white",
             "startlinecolor": "#2a3f5f"
            },
            "type": "carpet"
           }
          ],
          "choropleth": [
           {
            "colorbar": {
             "outlinewidth": 0,
             "ticks": ""
            },
            "type": "choropleth"
           }
          ],
          "contour": [
           {
            "colorbar": {
             "outlinewidth": 0,
             "ticks": ""
            },
            "colorscale": [
             [
              0,
              "#0d0887"
             ],
             [
              0.1111111111111111,
              "#46039f"
             ],
             [
              0.2222222222222222,
              "#7201a8"
             ],
             [
              0.3333333333333333,
              "#9c179e"
             ],
             [
              0.4444444444444444,
              "#bd3786"
             ],
             [
              0.5555555555555556,
              "#d8576b"
             ],
             [
              0.6666666666666666,
              "#ed7953"
             ],
             [
              0.7777777777777778,
              "#fb9f3a"
             ],
             [
              0.8888888888888888,
              "#fdca26"
             ],
             [
              1,
              "#f0f921"
             ]
            ],
            "type": "contour"
           }
          ],
          "contourcarpet": [
           {
            "colorbar": {
             "outlinewidth": 0,
             "ticks": ""
            },
            "type": "contourcarpet"
           }
          ],
          "heatmap": [
           {
            "colorbar": {
             "outlinewidth": 0,
             "ticks": ""
            },
            "colorscale": [
             [
              0,
              "#0d0887"
             ],
             [
              0.1111111111111111,
              "#46039f"
             ],
             [
              0.2222222222222222,
              "#7201a8"
             ],
             [
              0.3333333333333333,
              "#9c179e"
             ],
             [
              0.4444444444444444,
              "#bd3786"
             ],
             [
              0.5555555555555556,
              "#d8576b"
             ],
             [
              0.6666666666666666,
              "#ed7953"
             ],
             [
              0.7777777777777778,
              "#fb9f3a"
             ],
             [
              0.8888888888888888,
              "#fdca26"
             ],
             [
              1,
              "#f0f921"
             ]
            ],
            "type": "heatmap"
           }
          ],
          "heatmapgl": [
           {
            "colorbar": {
             "outlinewidth": 0,
             "ticks": ""
            },
            "colorscale": [
             [
              0,
              "#0d0887"
             ],
             [
              0.1111111111111111,
              "#46039f"
             ],
             [
              0.2222222222222222,
              "#7201a8"
             ],
             [
              0.3333333333333333,
              "#9c179e"
             ],
             [
              0.4444444444444444,
              "#bd3786"
             ],
             [
              0.5555555555555556,
              "#d8576b"
             ],
             [
              0.6666666666666666,
              "#ed7953"
             ],
             [
              0.7777777777777778,
              "#fb9f3a"
             ],
             [
              0.8888888888888888,
              "#fdca26"
             ],
             [
              1,
              "#f0f921"
             ]
            ],
            "type": "heatmapgl"
           }
          ],
          "histogram": [
           {
            "marker": {
             "colorbar": {
              "outlinewidth": 0,
              "ticks": ""
             }
            },
            "type": "histogram"
           }
          ],
          "histogram2d": [
           {
            "colorbar": {
             "outlinewidth": 0,
             "ticks": ""
            },
            "colorscale": [
             [
              0,
              "#0d0887"
             ],
             [
              0.1111111111111111,
              "#46039f"
             ],
             [
              0.2222222222222222,
              "#7201a8"
             ],
             [
              0.3333333333333333,
              "#9c179e"
             ],
             [
              0.4444444444444444,
              "#bd3786"
             ],
             [
              0.5555555555555556,
              "#d8576b"
             ],
             [
              0.6666666666666666,
              "#ed7953"
             ],
             [
              0.7777777777777778,
              "#fb9f3a"
             ],
             [
              0.8888888888888888,
              "#fdca26"
             ],
             [
              1,
              "#f0f921"
             ]
            ],
            "type": "histogram2d"
           }
          ],
          "histogram2dcontour": [
           {
            "colorbar": {
             "outlinewidth": 0,
             "ticks": ""
            },
            "colorscale": [
             [
              0,
              "#0d0887"
             ],
             [
              0.1111111111111111,
              "#46039f"
             ],
             [
              0.2222222222222222,
              "#7201a8"
             ],
             [
              0.3333333333333333,
              "#9c179e"
             ],
             [
              0.4444444444444444,
              "#bd3786"
             ],
             [
              0.5555555555555556,
              "#d8576b"
             ],
             [
              0.6666666666666666,
              "#ed7953"
             ],
             [
              0.7777777777777778,
              "#fb9f3a"
             ],
             [
              0.8888888888888888,
              "#fdca26"
             ],
             [
              1,
              "#f0f921"
             ]
            ],
            "type": "histogram2dcontour"
           }
          ],
          "mesh3d": [
           {
            "colorbar": {
             "outlinewidth": 0,
             "ticks": ""
            },
            "type": "mesh3d"
           }
          ],
          "parcoords": [
           {
            "line": {
             "colorbar": {
              "outlinewidth": 0,
              "ticks": ""
             }
            },
            "type": "parcoords"
           }
          ],
          "pie": [
           {
            "automargin": true,
            "type": "pie"
           }
          ],
          "scatter": [
           {
            "marker": {
             "colorbar": {
              "outlinewidth": 0,
              "ticks": ""
             }
            },
            "type": "scatter"
           }
          ],
          "scatter3d": [
           {
            "line": {
             "colorbar": {
              "outlinewidth": 0,
              "ticks": ""
             }
            },
            "marker": {
             "colorbar": {
              "outlinewidth": 0,
              "ticks": ""
             }
            },
            "type": "scatter3d"
           }
          ],
          "scattercarpet": [
           {
            "marker": {
             "colorbar": {
              "outlinewidth": 0,
              "ticks": ""
             }
            },
            "type": "scattercarpet"
           }
          ],
          "scattergeo": [
           {
            "marker": {
             "colorbar": {
              "outlinewidth": 0,
              "ticks": ""
             }
            },
            "type": "scattergeo"
           }
          ],
          "scattergl": [
           {
            "marker": {
             "colorbar": {
              "outlinewidth": 0,
              "ticks": ""
             }
            },
            "type": "scattergl"
           }
          ],
          "scattermapbox": [
           {
            "marker": {
             "colorbar": {
              "outlinewidth": 0,
              "ticks": ""
             }
            },
            "type": "scattermapbox"
           }
          ],
          "scatterpolar": [
           {
            "marker": {
             "colorbar": {
              "outlinewidth": 0,
              "ticks": ""
             }
            },
            "type": "scatterpolar"
           }
          ],
          "scatterpolargl": [
           {
            "marker": {
             "colorbar": {
              "outlinewidth": 0,
              "ticks": ""
             }
            },
            "type": "scatterpolargl"
           }
          ],
          "scatterternary": [
           {
            "marker": {
             "colorbar": {
              "outlinewidth": 0,
              "ticks": ""
             }
            },
            "type": "scatterternary"
           }
          ],
          "surface": [
           {
            "colorbar": {
             "outlinewidth": 0,
             "ticks": ""
            },
            "colorscale": [
             [
              0,
              "#0d0887"
             ],
             [
              0.1111111111111111,
              "#46039f"
             ],
             [
              0.2222222222222222,
              "#7201a8"
             ],
             [
              0.3333333333333333,
              "#9c179e"
             ],
             [
              0.4444444444444444,
              "#bd3786"
             ],
             [
              0.5555555555555556,
              "#d8576b"
             ],
             [
              0.6666666666666666,
              "#ed7953"
             ],
             [
              0.7777777777777778,
              "#fb9f3a"
             ],
             [
              0.8888888888888888,
              "#fdca26"
             ],
             [
              1,
              "#f0f921"
             ]
            ],
            "type": "surface"
           }
          ],
          "table": [
           {
            "cells": {
             "fill": {
              "color": "#EBF0F8"
             },
             "line": {
              "color": "white"
             }
            },
            "header": {
             "fill": {
              "color": "#C8D4E3"
             },
             "line": {
              "color": "white"
             }
            },
            "type": "table"
           }
          ]
         },
         "layout": {
          "annotationdefaults": {
           "arrowcolor": "#2a3f5f",
           "arrowhead": 0,
           "arrowwidth": 1
          },
          "autotypenumbers": "strict",
          "coloraxis": {
           "colorbar": {
            "outlinewidth": 0,
            "ticks": ""
           }
          },
          "colorscale": {
           "diverging": [
            [
             0,
             "#8e0152"
            ],
            [
             0.1,
             "#c51b7d"
            ],
            [
             0.2,
             "#de77ae"
            ],
            [
             0.3,
             "#f1b6da"
            ],
            [
             0.4,
             "#fde0ef"
            ],
            [
             0.5,
             "#f7f7f7"
            ],
            [
             0.6,
             "#e6f5d0"
            ],
            [
             0.7,
             "#b8e186"
            ],
            [
             0.8,
             "#7fbc41"
            ],
            [
             0.9,
             "#4d9221"
            ],
            [
             1,
             "#276419"
            ]
           ],
           "sequential": [
            [
             0,
             "#0d0887"
            ],
            [
             0.1111111111111111,
             "#46039f"
            ],
            [
             0.2222222222222222,
             "#7201a8"
            ],
            [
             0.3333333333333333,
             "#9c179e"
            ],
            [
             0.4444444444444444,
             "#bd3786"
            ],
            [
             0.5555555555555556,
             "#d8576b"
            ],
            [
             0.6666666666666666,
             "#ed7953"
            ],
            [
             0.7777777777777778,
             "#fb9f3a"
            ],
            [
             0.8888888888888888,
             "#fdca26"
            ],
            [
             1,
             "#f0f921"
            ]
           ],
           "sequentialminus": [
            [
             0,
             "#0d0887"
            ],
            [
             0.1111111111111111,
             "#46039f"
            ],
            [
             0.2222222222222222,
             "#7201a8"
            ],
            [
             0.3333333333333333,
             "#9c179e"
            ],
            [
             0.4444444444444444,
             "#bd3786"
            ],
            [
             0.5555555555555556,
             "#d8576b"
            ],
            [
             0.6666666666666666,
             "#ed7953"
            ],
            [
             0.7777777777777778,
             "#fb9f3a"
            ],
            [
             0.8888888888888888,
             "#fdca26"
            ],
            [
             1,
             "#f0f921"
            ]
           ]
          },
          "colorway": [
           "#636efa",
           "#EF553B",
           "#00cc96",
           "#ab63fa",
           "#FFA15A",
           "#19d3f3",
           "#FF6692",
           "#B6E880",
           "#FF97FF",
           "#FECB52"
          ],
          "font": {
           "color": "#2a3f5f"
          },
          "geo": {
           "bgcolor": "white",
           "lakecolor": "white",
           "landcolor": "#E5ECF6",
           "showlakes": true,
           "showland": true,
           "subunitcolor": "white"
          },
          "hoverlabel": {
           "align": "left"
          },
          "hovermode": "closest",
          "mapbox": {
           "style": "light"
          },
          "paper_bgcolor": "white",
          "plot_bgcolor": "#E5ECF6",
          "polar": {
           "angularaxis": {
            "gridcolor": "white",
            "linecolor": "white",
            "ticks": ""
           },
           "bgcolor": "#E5ECF6",
           "radialaxis": {
            "gridcolor": "white",
            "linecolor": "white",
            "ticks": ""
           }
          },
          "scene": {
           "xaxis": {
            "backgroundcolor": "#E5ECF6",
            "gridcolor": "white",
            "gridwidth": 2,
            "linecolor": "white",
            "showbackground": true,
            "ticks": "",
            "zerolinecolor": "white"
           },
           "yaxis": {
            "backgroundcolor": "#E5ECF6",
            "gridcolor": "white",
            "gridwidth": 2,
            "linecolor": "white",
            "showbackground": true,
            "ticks": "",
            "zerolinecolor": "white"
           },
           "zaxis": {
            "backgroundcolor": "#E5ECF6",
            "gridcolor": "white",
            "gridwidth": 2,
            "linecolor": "white",
            "showbackground": true,
            "ticks": "",
            "zerolinecolor": "white"
           }
          },
          "shapedefaults": {
           "line": {
            "color": "#2a3f5f"
           }
          },
          "ternary": {
           "aaxis": {
            "gridcolor": "white",
            "linecolor": "white",
            "ticks": ""
           },
           "baxis": {
            "gridcolor": "white",
            "linecolor": "white",
            "ticks": ""
           },
           "bgcolor": "#E5ECF6",
           "caxis": {
            "gridcolor": "white",
            "linecolor": "white",
            "ticks": ""
           }
          },
          "title": {
           "x": 0.05
          },
          "xaxis": {
           "automargin": true,
           "gridcolor": "white",
           "linecolor": "white",
           "ticks": "",
           "title": {
            "standoff": 15
           },
           "zerolinecolor": "white",
           "zerolinewidth": 2
          },
          "yaxis": {
           "automargin": true,
           "gridcolor": "white",
           "linecolor": "white",
           "ticks": "",
           "title": {
            "standoff": 15
           },
           "zerolinecolor": "white",
           "zerolinewidth": 2
          }
         }
        },
        "title": {
         "text": "Overall scoring of states"
        },
        "xaxis": {
         "anchor": "y",
         "domain": [
          0,
          1
         ],
         "title": {
          "text": "Overall score"
         }
        },
        "yaxis": {
         "anchor": "x",
         "domain": [
          0,
          1
         ]
        }
       }
      }
     },
     "metadata": {},
     "output_type": "display_data"
    }
   ],
   "source": [
    "px.box(data_frame=states, x='Overall score', hover_name='State',title='Overall scoring of states')"
   ]
  },
  {
   "cell_type": "markdown",
   "metadata": {},
   "source": [
    "## Clustering and visualizing the data on the basis of top three features"
   ]
  },
  {
   "cell_type": "code",
   "execution_count": 39,
   "metadata": {},
   "outputs": [
    {
     "name": "stderr",
     "output_type": "stream",
     "text": [
      "c:\\Users\\ADMIN\\Documents\\Codebase\\envs\\machine_L\\lib\\site-packages\\sklearn\\cluster\\_affinity_propagation.py:148: FutureWarning:\n",
      "\n",
      "'random_state' has been introduced in 0.23. It will be set to None starting from 1.0 (renaming of 0.25) which means that results will differ at every function call. Set 'random_state' to None to silence this warning, or to 0 to keep the behavior of versions <0.23.\n",
      "\n"
     ]
    }
   ],
   "source": [
    "db=AffinityPropagation()\n",
    "db.fit(datasets.iloc[:,:-14])\n",
    "labels=list(db.labels_)"
   ]
  },
  {
   "cell_type": "code",
   "execution_count": 40,
   "metadata": {},
   "outputs": [
    {
     "data": {
      "text/markdown": [
       "Publishing document and associated data - *please wait...*"
      ],
      "text/plain": [
       "<IPython.core.display.Markdown object>"
      ]
     },
     "metadata": {},
     "output_type": "display_data"
    },
    {
     "data": {
      "text/markdown": [
       "Your report doesn't contain any text - did you know you can add text to your report from your browser once published?"
      ],
      "text/plain": [
       "<IPython.core.display.Markdown object>"
      ]
     },
     "metadata": {},
     "output_type": "display_data"
    },
    {
     "data": {
      "text/markdown": [
       "Your report only contains a single element - did you know you can add multiple plots and tables to a report, add text to it and export directly to Medium once published?"
      ],
      "text/plain": [
       "<IPython.core.display.Markdown object>"
      ]
     },
     "metadata": {},
     "output_type": "display_data"
    },
    {
     "data": {
      "text/markdown": [
       "Report successfully published at https://datapane.com/u/anupammisra/reports/str/ - you can edit and add additional text online"
      ],
      "text/plain": [
       "<IPython.core.display.Markdown object>"
      ]
     },
     "metadata": {},
     "output_type": "display_data"
    }
   ],
   "source": [
    "figtot = px.scatter_3d(dataset, y='Dropout-PRIMARY', z='Dropout-UPPER_PRIMARY', x='Dropout-SECONDARY',color=labels,  color_continuous_scale='turbo',opacity=0.7,text=states['State'], title='Visualizing performance of states in the education sector')\n",
    "figtot.update_layout(width=1200, height=520)\n",
    "\n",
    "r = dp.Report(\n",
    "  dp.Plot(figtot) #create a chart\n",
    ").publish(name='STR', visibility=dp.Visibility.PUBLIC,open=True) #Publish the report\n"
   ]
  },
  {
   "cell_type": "markdown",
   "metadata": {},
   "source": [
    "https://towardsdatascience.com/unsupervised-machine-learning-affinity-propagation-algorithm-explained-d1fef85f22c8"
   ]
  },
  {
   "cell_type": "code",
   "execution_count": 41,
   "metadata": {},
   "outputs": [
    {
     "data": {
      "application/vnd.plotly.v1+json": {
       "config": {
        "plotlyServerURL": "https://plot.ly"
       },
       "data": [
        {
         "hovertemplate": "Dropout-SECONDARY=%{x}<br>Dropout-PRIMARY=%{y}<br>Dropout-UPPER_PRIMARY=%{z}<br>text=%{text}<br>color=%{marker.color}<extra></extra>",
         "legendgroup": "",
         "marker": {
          "color": [
           4,
           3,
           3,
           1,
           0,
           4,
           5,
           0,
           5,
           4,
           4,
           5,
           4,
           4,
           3,
           1,
           0,
           4,
           4,
           1,
           4,
           3,
           1,
           1,
           1,
           2,
           4,
           4,
           3,
           4,
           4,
           5,
           5,
           4,
           4,
           5
          ],
          "coloraxis": "coloraxis",
          "opacity": 0.7,
          "symbol": "circle"
         },
         "mode": "markers+text",
         "name": "",
         "scene": "scene",
         "showlegend": false,
         "text": [
          "Andaman & Nicobar Islands",
          "Andhra Pradesh",
          "Arunachal Pradesh",
          "Assam",
          "Bihar",
          "Chandigarh",
          "Chhattisgarh",
          "Dadra & Nagar Haveli",
          "Daman & Diu",
          "Delhi",
          "Goa",
          "Gujarat",
          "Haryana",
          "Himachal Pradesh",
          "Jammu And Kashmir",
          "Jharkhand",
          "Karnataka",
          "Kerala",
          "Lakshadweep",
          "Madhya Pradesh",
          "Maharashtra",
          "Manipur",
          "Meghalaya",
          "Mizoram",
          "Nagaland",
          "Odisha",
          "Puducherry",
          "Punjab",
          "Rajasthan",
          "Sikkim",
          "Tamil Nadu",
          "Telangana",
          "Tripura",
          "Uttar Pradesh",
          "Uttarakhand",
          "West Bengal"
         ],
         "type": "scatter3d",
         "x": [
          7.543333333333333,
          13.693333333333333,
          14.843333333333334,
          28.08666666666667,
          27.123333333333335,
          0,
          19.843333333333334,
          23.256666666666664,
          21.21666666666667,
          8.676666666666668,
          9.563333333333333,
          20.066666666666666,
          12.46,
          7.843333333333334,
          16.656666666666666,
          21.883333333333336,
          31.22333333333334,
          12.076666666666668,
          7.489999999999999,
          21.623333333333335,
          14.513333333333334,
          12.646666666666668,
          23.766666666666666,
          20.666666666666668,
          26.61666666666667,
          42.96666666666667,
          13.88,
          9.163333333333334,
          15.300000000000002,
          12.670000000000002,
          10.166666666666666,
          19.486666666666668,
          17.83666666666667,
          9.066666666666666,
          12.133333333333335,
          18.07
         ],
         "y": [
          0.8000000000000002,
          4.75,
          12.290000000000001,
          9.68,
          0.6966666666666667,
          0,
          2.823333333333333,
          1.0133333333333334,
          0.6533333333333333,
          0,
          0.31,
          0.7966666666666667,
          2.436666666666667,
          0.5166666666666667,
          6.183333333333334,
          6.366666666666667,
          2.436666666666667,
          0,
          0.8333333333333334,
          7.613333333333333,
          0.9266666666666667,
          12.506666666666666,
          9.98,
          15.723333333333334,
          10.696666666666667,
          3.1199999999999997,
          0.4566666666666667,
          2.11,
          7.126666666666666,
          3.48,
          1.5066666666666666,
          3.3699999999999997,
          5.046666666666667,
          5.6066666666666665,
          4.47,
          2.19
         ],
         "z": [
          1.1433333333333333,
          4.113333333333333,
          6.59,
          8.253333333333332,
          2.3533333333333335,
          0.54,
          5.0233333333333325,
          3.8433333333333333,
          2.223333333333333,
          1.18,
          0.023333333333333334,
          5.72,
          2.94,
          0.7200000000000001,
          5.086666666666667,
          7.293333333333334,
          3.8033333333333332,
          0,
          1.6433333333333333,
          9.809999999999999,
          1.3800000000000001,
          5.759999999999999,
          7.07,
          10.026666666666667,
          11.87,
          3.473333333333333,
          0.6133333333333334,
          2.9499999999999997,
          4.506666666666667,
          3.2866666666666666,
          1.92,
          3.3633333333333333,
          1.9233333333333331,
          1.12,
          2.6833333333333336,
          4.305
         ]
        }
       ],
       "layout": {
        "coloraxis": {
         "colorbar": {
          "title": {
           "text": "color"
          }
         },
         "colorscale": [
          [
           0,
           "#30123b"
          ],
          [
           0.07142857142857142,
           "#4145ab"
          ],
          [
           0.14285714285714285,
           "#4675ed"
          ],
          [
           0.21428571428571427,
           "#39a2fc"
          ],
          [
           0.2857142857142857,
           "#1bcfd4"
          ],
          [
           0.35714285714285715,
           "#24eca6"
          ],
          [
           0.42857142857142855,
           "#61fc6c"
          ],
          [
           0.5,
           "#a4fc3b"
          ],
          [
           0.5714285714285714,
           "#d1e834"
          ],
          [
           0.6428571428571429,
           "#f3c63a"
          ],
          [
           0.7142857142857143,
           "#fe9b2d"
          ],
          [
           0.7857142857142857,
           "#f36315"
          ],
          [
           0.8571428571428571,
           "#d93806"
          ],
          [
           0.9285714285714286,
           "#b11901"
          ],
          [
           1,
           "#7a0402"
          ]
         ]
        },
        "height": 520,
        "legend": {
         "tracegroupgap": 0
        },
        "scene": {
         "domain": {
          "x": [
           0,
           1
          ],
          "y": [
           0,
           1
          ]
         },
         "xaxis": {
          "title": {
           "text": "Dropout-SECONDARY"
          }
         },
         "yaxis": {
          "title": {
           "text": "Dropout-PRIMARY"
          }
         },
         "zaxis": {
          "title": {
           "text": "Dropout-UPPER_PRIMARY"
          }
         }
        },
        "template": {
         "data": {
          "bar": [
           {
            "error_x": {
             "color": "#2a3f5f"
            },
            "error_y": {
             "color": "#2a3f5f"
            },
            "marker": {
             "line": {
              "color": "#E5ECF6",
              "width": 0.5
             }
            },
            "type": "bar"
           }
          ],
          "barpolar": [
           {
            "marker": {
             "line": {
              "color": "#E5ECF6",
              "width": 0.5
             }
            },
            "type": "barpolar"
           }
          ],
          "carpet": [
           {
            "aaxis": {
             "endlinecolor": "#2a3f5f",
             "gridcolor": "white",
             "linecolor": "white",
             "minorgridcolor": "white",
             "startlinecolor": "#2a3f5f"
            },
            "baxis": {
             "endlinecolor": "#2a3f5f",
             "gridcolor": "white",
             "linecolor": "white",
             "minorgridcolor": "white",
             "startlinecolor": "#2a3f5f"
            },
            "type": "carpet"
           }
          ],
          "choropleth": [
           {
            "colorbar": {
             "outlinewidth": 0,
             "ticks": ""
            },
            "type": "choropleth"
           }
          ],
          "contour": [
           {
            "colorbar": {
             "outlinewidth": 0,
             "ticks": ""
            },
            "colorscale": [
             [
              0,
              "#0d0887"
             ],
             [
              0.1111111111111111,
              "#46039f"
             ],
             [
              0.2222222222222222,
              "#7201a8"
             ],
             [
              0.3333333333333333,
              "#9c179e"
             ],
             [
              0.4444444444444444,
              "#bd3786"
             ],
             [
              0.5555555555555556,
              "#d8576b"
             ],
             [
              0.6666666666666666,
              "#ed7953"
             ],
             [
              0.7777777777777778,
              "#fb9f3a"
             ],
             [
              0.8888888888888888,
              "#fdca26"
             ],
             [
              1,
              "#f0f921"
             ]
            ],
            "type": "contour"
           }
          ],
          "contourcarpet": [
           {
            "colorbar": {
             "outlinewidth": 0,
             "ticks": ""
            },
            "type": "contourcarpet"
           }
          ],
          "heatmap": [
           {
            "colorbar": {
             "outlinewidth": 0,
             "ticks": ""
            },
            "colorscale": [
             [
              0,
              "#0d0887"
             ],
             [
              0.1111111111111111,
              "#46039f"
             ],
             [
              0.2222222222222222,
              "#7201a8"
             ],
             [
              0.3333333333333333,
              "#9c179e"
             ],
             [
              0.4444444444444444,
              "#bd3786"
             ],
             [
              0.5555555555555556,
              "#d8576b"
             ],
             [
              0.6666666666666666,
              "#ed7953"
             ],
             [
              0.7777777777777778,
              "#fb9f3a"
             ],
             [
              0.8888888888888888,
              "#fdca26"
             ],
             [
              1,
              "#f0f921"
             ]
            ],
            "type": "heatmap"
           }
          ],
          "heatmapgl": [
           {
            "colorbar": {
             "outlinewidth": 0,
             "ticks": ""
            },
            "colorscale": [
             [
              0,
              "#0d0887"
             ],
             [
              0.1111111111111111,
              "#46039f"
             ],
             [
              0.2222222222222222,
              "#7201a8"
             ],
             [
              0.3333333333333333,
              "#9c179e"
             ],
             [
              0.4444444444444444,
              "#bd3786"
             ],
             [
              0.5555555555555556,
              "#d8576b"
             ],
             [
              0.6666666666666666,
              "#ed7953"
             ],
             [
              0.7777777777777778,
              "#fb9f3a"
             ],
             [
              0.8888888888888888,
              "#fdca26"
             ],
             [
              1,
              "#f0f921"
             ]
            ],
            "type": "heatmapgl"
           }
          ],
          "histogram": [
           {
            "marker": {
             "colorbar": {
              "outlinewidth": 0,
              "ticks": ""
             }
            },
            "type": "histogram"
           }
          ],
          "histogram2d": [
           {
            "colorbar": {
             "outlinewidth": 0,
             "ticks": ""
            },
            "colorscale": [
             [
              0,
              "#0d0887"
             ],
             [
              0.1111111111111111,
              "#46039f"
             ],
             [
              0.2222222222222222,
              "#7201a8"
             ],
             [
              0.3333333333333333,
              "#9c179e"
             ],
             [
              0.4444444444444444,
              "#bd3786"
             ],
             [
              0.5555555555555556,
              "#d8576b"
             ],
             [
              0.6666666666666666,
              "#ed7953"
             ],
             [
              0.7777777777777778,
              "#fb9f3a"
             ],
             [
              0.8888888888888888,
              "#fdca26"
             ],
             [
              1,
              "#f0f921"
             ]
            ],
            "type": "histogram2d"
           }
          ],
          "histogram2dcontour": [
           {
            "colorbar": {
             "outlinewidth": 0,
             "ticks": ""
            },
            "colorscale": [
             [
              0,
              "#0d0887"
             ],
             [
              0.1111111111111111,
              "#46039f"
             ],
             [
              0.2222222222222222,
              "#7201a8"
             ],
             [
              0.3333333333333333,
              "#9c179e"
             ],
             [
              0.4444444444444444,
              "#bd3786"
             ],
             [
              0.5555555555555556,
              "#d8576b"
             ],
             [
              0.6666666666666666,
              "#ed7953"
             ],
             [
              0.7777777777777778,
              "#fb9f3a"
             ],
             [
              0.8888888888888888,
              "#fdca26"
             ],
             [
              1,
              "#f0f921"
             ]
            ],
            "type": "histogram2dcontour"
           }
          ],
          "mesh3d": [
           {
            "colorbar": {
             "outlinewidth": 0,
             "ticks": ""
            },
            "type": "mesh3d"
           }
          ],
          "parcoords": [
           {
            "line": {
             "colorbar": {
              "outlinewidth": 0,
              "ticks": ""
             }
            },
            "type": "parcoords"
           }
          ],
          "pie": [
           {
            "automargin": true,
            "type": "pie"
           }
          ],
          "scatter": [
           {
            "marker": {
             "colorbar": {
              "outlinewidth": 0,
              "ticks": ""
             }
            },
            "type": "scatter"
           }
          ],
          "scatter3d": [
           {
            "line": {
             "colorbar": {
              "outlinewidth": 0,
              "ticks": ""
             }
            },
            "marker": {
             "colorbar": {
              "outlinewidth": 0,
              "ticks": ""
             }
            },
            "type": "scatter3d"
           }
          ],
          "scattercarpet": [
           {
            "marker": {
             "colorbar": {
              "outlinewidth": 0,
              "ticks": ""
             }
            },
            "type": "scattercarpet"
           }
          ],
          "scattergeo": [
           {
            "marker": {
             "colorbar": {
              "outlinewidth": 0,
              "ticks": ""
             }
            },
            "type": "scattergeo"
           }
          ],
          "scattergl": [
           {
            "marker": {
             "colorbar": {
              "outlinewidth": 0,
              "ticks": ""
             }
            },
            "type": "scattergl"
           }
          ],
          "scattermapbox": [
           {
            "marker": {
             "colorbar": {
              "outlinewidth": 0,
              "ticks": ""
             }
            },
            "type": "scattermapbox"
           }
          ],
          "scatterpolar": [
           {
            "marker": {
             "colorbar": {
              "outlinewidth": 0,
              "ticks": ""
             }
            },
            "type": "scatterpolar"
           }
          ],
          "scatterpolargl": [
           {
            "marker": {
             "colorbar": {
              "outlinewidth": 0,
              "ticks": ""
             }
            },
            "type": "scatterpolargl"
           }
          ],
          "scatterternary": [
           {
            "marker": {
             "colorbar": {
              "outlinewidth": 0,
              "ticks": ""
             }
            },
            "type": "scatterternary"
           }
          ],
          "surface": [
           {
            "colorbar": {
             "outlinewidth": 0,
             "ticks": ""
            },
            "colorscale": [
             [
              0,
              "#0d0887"
             ],
             [
              0.1111111111111111,
              "#46039f"
             ],
             [
              0.2222222222222222,
              "#7201a8"
             ],
             [
              0.3333333333333333,
              "#9c179e"
             ],
             [
              0.4444444444444444,
              "#bd3786"
             ],
             [
              0.5555555555555556,
              "#d8576b"
             ],
             [
              0.6666666666666666,
              "#ed7953"
             ],
             [
              0.7777777777777778,
              "#fb9f3a"
             ],
             [
              0.8888888888888888,
              "#fdca26"
             ],
             [
              1,
              "#f0f921"
             ]
            ],
            "type": "surface"
           }
          ],
          "table": [
           {
            "cells": {
             "fill": {
              "color": "#EBF0F8"
             },
             "line": {
              "color": "white"
             }
            },
            "header": {
             "fill": {
              "color": "#C8D4E3"
             },
             "line": {
              "color": "white"
             }
            },
            "type": "table"
           }
          ]
         },
         "layout": {
          "annotationdefaults": {
           "arrowcolor": "#2a3f5f",
           "arrowhead": 0,
           "arrowwidth": 1
          },
          "autotypenumbers": "strict",
          "coloraxis": {
           "colorbar": {
            "outlinewidth": 0,
            "ticks": ""
           }
          },
          "colorscale": {
           "diverging": [
            [
             0,
             "#8e0152"
            ],
            [
             0.1,
             "#c51b7d"
            ],
            [
             0.2,
             "#de77ae"
            ],
            [
             0.3,
             "#f1b6da"
            ],
            [
             0.4,
             "#fde0ef"
            ],
            [
             0.5,
             "#f7f7f7"
            ],
            [
             0.6,
             "#e6f5d0"
            ],
            [
             0.7,
             "#b8e186"
            ],
            [
             0.8,
             "#7fbc41"
            ],
            [
             0.9,
             "#4d9221"
            ],
            [
             1,
             "#276419"
            ]
           ],
           "sequential": [
            [
             0,
             "#0d0887"
            ],
            [
             0.1111111111111111,
             "#46039f"
            ],
            [
             0.2222222222222222,
             "#7201a8"
            ],
            [
             0.3333333333333333,
             "#9c179e"
            ],
            [
             0.4444444444444444,
             "#bd3786"
            ],
            [
             0.5555555555555556,
             "#d8576b"
            ],
            [
             0.6666666666666666,
             "#ed7953"
            ],
            [
             0.7777777777777778,
             "#fb9f3a"
            ],
            [
             0.8888888888888888,
             "#fdca26"
            ],
            [
             1,
             "#f0f921"
            ]
           ],
           "sequentialminus": [
            [
             0,
             "#0d0887"
            ],
            [
             0.1111111111111111,
             "#46039f"
            ],
            [
             0.2222222222222222,
             "#7201a8"
            ],
            [
             0.3333333333333333,
             "#9c179e"
            ],
            [
             0.4444444444444444,
             "#bd3786"
            ],
            [
             0.5555555555555556,
             "#d8576b"
            ],
            [
             0.6666666666666666,
             "#ed7953"
            ],
            [
             0.7777777777777778,
             "#fb9f3a"
            ],
            [
             0.8888888888888888,
             "#fdca26"
            ],
            [
             1,
             "#f0f921"
            ]
           ]
          },
          "colorway": [
           "#636efa",
           "#EF553B",
           "#00cc96",
           "#ab63fa",
           "#FFA15A",
           "#19d3f3",
           "#FF6692",
           "#B6E880",
           "#FF97FF",
           "#FECB52"
          ],
          "font": {
           "color": "#2a3f5f"
          },
          "geo": {
           "bgcolor": "white",
           "lakecolor": "white",
           "landcolor": "#E5ECF6",
           "showlakes": true,
           "showland": true,
           "subunitcolor": "white"
          },
          "hoverlabel": {
           "align": "left"
          },
          "hovermode": "closest",
          "mapbox": {
           "style": "light"
          },
          "paper_bgcolor": "white",
          "plot_bgcolor": "#E5ECF6",
          "polar": {
           "angularaxis": {
            "gridcolor": "white",
            "linecolor": "white",
            "ticks": ""
           },
           "bgcolor": "#E5ECF6",
           "radialaxis": {
            "gridcolor": "white",
            "linecolor": "white",
            "ticks": ""
           }
          },
          "scene": {
           "xaxis": {
            "backgroundcolor": "#E5ECF6",
            "gridcolor": "white",
            "gridwidth": 2,
            "linecolor": "white",
            "showbackground": true,
            "ticks": "",
            "zerolinecolor": "white"
           },
           "yaxis": {
            "backgroundcolor": "#E5ECF6",
            "gridcolor": "white",
            "gridwidth": 2,
            "linecolor": "white",
            "showbackground": true,
            "ticks": "",
            "zerolinecolor": "white"
           },
           "zaxis": {
            "backgroundcolor": "#E5ECF6",
            "gridcolor": "white",
            "gridwidth": 2,
            "linecolor": "white",
            "showbackground": true,
            "ticks": "",
            "zerolinecolor": "white"
           }
          },
          "shapedefaults": {
           "line": {
            "color": "#2a3f5f"
           }
          },
          "ternary": {
           "aaxis": {
            "gridcolor": "white",
            "linecolor": "white",
            "ticks": ""
           },
           "baxis": {
            "gridcolor": "white",
            "linecolor": "white",
            "ticks": ""
           },
           "bgcolor": "#E5ECF6",
           "caxis": {
            "gridcolor": "white",
            "linecolor": "white",
            "ticks": ""
           }
          },
          "title": {
           "x": 0.05
          },
          "xaxis": {
           "automargin": true,
           "gridcolor": "white",
           "linecolor": "white",
           "ticks": "",
           "title": {
            "standoff": 15
           },
           "zerolinecolor": "white",
           "zerolinewidth": 2
          },
          "yaxis": {
           "automargin": true,
           "gridcolor": "white",
           "linecolor": "white",
           "ticks": "",
           "title": {
            "standoff": 15
           },
           "zerolinecolor": "white",
           "zerolinewidth": 2
          }
         }
        },
        "title": {
         "text": "Visualizing performance of states in the education sector"
        },
        "width": 1200
       }
      }
     },
     "metadata": {},
     "output_type": "display_data"
    }
   ],
   "source": [
    "figtot.show()"
   ]
  },
  {
   "cell_type": "code",
   "execution_count": null,
   "metadata": {},
   "outputs": [],
   "source": []
  }
 ],
 "metadata": {
  "interpreter": {
   "hash": "62a490a61034db1e8b6e05e6e999b5629625384177f9d8186b44b788547d5428"
  },
  "kernelspec": {
   "display_name": "Python 3.9.5 64-bit ('machine_L': venv)",
   "name": "python3"
  },
  "language_info": {
   "codemirror_mode": {
    "name": "ipython",
    "version": 3
   },
   "file_extension": ".py",
   "mimetype": "text/x-python",
   "name": "python",
   "nbconvert_exporter": "python",
   "pygments_lexer": "ipython3",
   "version": "3.9.5"
  },
  "orig_nbformat": 2
 },
 "nbformat": 4,
 "nbformat_minor": 2
}