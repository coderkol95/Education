{
 "cells": [
  {
   "cell_type": "markdown",
   "source": [
    "# Initialization\n"
   ],
   "metadata": {}
  },
  {
   "cell_type": "markdown",
   "source": [
    "## Importing the libraries"
   ],
   "metadata": {}
  },
  {
   "cell_type": "code",
   "execution_count": 2,
   "source": [
    "###############################################################################\r\n",
    "#\r\n",
    "#Importing libraries\r\n",
    "#\r\n",
    "import numpy as np \r\n",
    "import scipy.stats\r\n",
    "import pandas as pd \r\n",
    "from sklearn.metrics import silhouette_score\r\n",
    "import matplotlib.pyplot as plt\r\n",
    "from mpl_toolkits import mplot3d\r\n",
    "import seaborn as sns\r\n",
    "import datapane as dp\r\n",
    "import plotly.express as px\r\n",
    "from sklearn.preprocessing import MinMaxScaler\r\n",
    "from sklearn.cluster import AffinityPropagation\r\n",
    "from scipy.stats import chi2_contingency as chi2\r\n",
    "###############################################################################\r\n",
    "#\r\n",
    "#Notebook options\r\n",
    "#\r\n",
    "%matplotlib inline\r\n",
    "plt.style.use('fivethirtyeight')\r\n",
    "pd.set_option('display.max_columns', 500)\r\n",
    "###############################################################################"
   ],
   "outputs": [],
   "metadata": {}
  },
  {
   "cell_type": "markdown",
   "source": [
    "## Loading the data"
   ],
   "metadata": {}
  },
  {
   "cell_type": "code",
   "execution_count": 3,
   "source": [
    "###############################################################################\r\n",
    "#\r\n",
    "# Reading all the data\r\n",
    "#\r\n",
    "dropout = pd.read_excel(r\"../Data/dropout.xls\")\r\n",
    "enrollments = pd.read_excel(r\"../Data/enrollment.xls\")\r\n",
    "drinks = pd.read_excel(r\"../Data/drinking_water.xls\")\r\n",
    "computers = pd.read_excel(r\"../Data/computers.xls\")\r\n",
    "electricity = pd.read_excel(r\"../Data/electricity.xls\")\r\n",
    "boys_toilet = pd.read_excel(r\"../Data/boys_toilet.xls\")\r\n",
    "girls_toilet = pd.read_excel(r\"../Data/girls_toilet.xls\")\r\n",
    "ptr= pd.read_excel(r\"../Data/pupil_teacher.xls\")\r\n",
    "###############################################################################"
   ],
   "outputs": [],
   "metadata": {}
  },
  {
   "cell_type": "markdown",
   "source": [
    "# Data preparation"
   ],
   "metadata": {}
  },
  {
   "cell_type": "code",
   "execution_count": 4,
   "source": [
    "###############################################################################\r\n",
    "#\r\n",
    "# def returner(xx)\r\n",
    "# Input: \r\n",
    "# xx= input dataframe of different factors\r\n",
    "# \r\n",
    "# 1. Calculate the aggregate score for that factor for a particular state over three years\r\n",
    "# 2. Returns the data as a dataframe with the state as the index\r\n",
    "#\r\n",
    "###############################################################################\r\n",
    "\r\n",
    "def returner(xx):\r\n",
    "    x=[]\r\n",
    "    for i in range(36):\r\n",
    "        x.append([xx['State'].iloc[3*i],xx[['State','All Schools']].iloc[3*i:i*3+3].mean()[0]])  \r\n",
    "    x=pd.DataFrame(x)\r\n",
    "    x.set_index(0, inplace=True)\r\n",
    "    x.index.name='State'\r\n",
    "    return x"
   ],
   "outputs": [],
   "metadata": {}
  },
  {
   "cell_type": "code",
   "execution_count": 5,
   "source": [
    "enrollments['Higher_Secondary_Boys']=enrollments['Higher_Secondary_Boys'].astype('float')\r\n",
    "enrollments['Higher_Secondary_Girls']=enrollments['Higher_Secondary_Girls'].astype('float')\r\n",
    "enrollments['Higher_Secondary_Total']=enrollments['Higher_Secondary_Total'].astype('float')   \r\n",
    "\r\n",
    "drinks=returner(drinks)\r\n",
    "drinks.columns=['Drinking water']\r\n",
    "electricity=returner(electricity)\r\n",
    "electricity.columns=['Electricity']\r\n",
    "computers=returner(computers)\r\n",
    "computers.columns=[\"Computer\"]\r\n",
    "boys_t=returner(boys_toilet)\r\n",
    "boys_t.columns=['Boys toilet']\r\n",
    "girls_t=returner(girls_toilet)\r\n",
    "girls_t.columns=['Girls toilet']\r\n",
    "\r\n",
    "factors=pd.concat([drinks,electricity,computers,boys_t,girls_t],axis=1)\r\n",
    "factors.reset_index(inplace=True)"
   ],
   "outputs": [],
   "metadata": {}
  },
  {
   "cell_type": "code",
   "execution_count": 6,
   "source": [
    "# Extracting the names of the states\r\n",
    "\r\n",
    "states=[]\r\n",
    "for i in range(36):\r\n",
    "    states.append(dropout.State.iloc[3*i])\r\n",
    "states=pd.DataFrame(states, columns=['State'])"
   ],
   "outputs": [],
   "metadata": {}
  },
  {
   "cell_type": "code",
   "execution_count": 7,
   "source": [
    "###############################################################################\r\n",
    "#\r\n",
    "# def create_aggregate(inp)\r\n",
    "# \r\n",
    "# Input: input data of enrollments and dropouts\r\n",
    "#\r\n",
    "# 1. Drop the state and year columns\r\n",
    "# 2. Aggregate the data over 3 years and return it \r\n",
    "#\r\n",
    "################################################################################\r\n",
    "\r\n",
    "def create_aggregate(inp):\r\n",
    "    inp.drop(['State','Year'],axis=1,inplace=True)\r\n",
    "\r\n",
    "    x=pd.DataFrame()\r\n",
    "    for i in range(36):\r\n",
    "        x[i]=inp.iloc[3*i+0:i*3+3,:].mean()\r\n",
    "    x=x.transpose() \r\n",
    "    return x"
   ],
   "outputs": [],
   "metadata": {}
  },
  {
   "cell_type": "code",
   "execution_count": 8,
   "source": [
    "dropouts_x = create_aggregate(dropout)\r\n",
    "enrollments_x=create_aggregate(enrollments)"
   ],
   "outputs": [],
   "metadata": {}
  },
  {
   "cell_type": "markdown",
   "source": [
    "# Data exploration"
   ],
   "metadata": {}
  },
  {
   "cell_type": "code",
   "execution_count": 9,
   "source": [
    "prim=['Primary']*36\r\n",
    "uprim=['Upper Primary']*36\r\n",
    "sec=['Secondary']*36\r\n",
    "usec=['Higher Secondary']*36\r\n",
    "lis=prim+uprim+sec+usec\r\n",
    "lis\r\n",
    "datas=pd.DataFrame({'values':pd.concat([enrollments_x['Primary_Total'],enrollments_x['Upper_Primary_Total'],enrollments_x['Secondary_Total'],enrollments_x['Higher_Secondary_Total']],axis=0), 'ID':lis, 'State':list(states['State'])*4})\r\n",
    "\r\n",
    "enrollments_boys=(enrollments_x['Primary_Boys']+enrollments_x['Upper_Primary_Boys']+enrollments_x['Secondary_Boys']+enrollments_x['Higher_Secondary_Boys'])/4\r\n",
    "enrollments_girls=(enrollments_x['Primary_Girls']+enrollments_x['Upper_Primary_Girls']+enrollments_x['Secondary_Girls']+enrollments_x['Higher_Secondary_Girls'])/4\r\n",
    "boys=['Boys']*36\r\n",
    "girls=['Girls']*36\r\n",
    "sex=boys+girls\r\n",
    "enrolls=pd.concat([enrollments_boys,enrollments_girls],axis=0)\r\n",
    "datassex1=pd.DataFrame({'Enrollments':enrolls,'Sex':sex,'State':list(states['State'])*2})\r\n",
    "\r\n",
    "\r\n",
    "datass=pd.DataFrame({'values':pd.concat([dropouts_x['PRIMARY_TOTAL'],dropouts_x['UPPER_PRIMARY_TOTAL'],dropouts_x['SECONDARY_TOTAL'],dropouts_x['HRSECONDARY_TOTAL']],axis=0), 'ID':lis,'State':list(states['State'])*4})\r\n",
    "\r\n",
    "dropouts_boys=(dropouts_x['PRIMARY_BOYS']+dropouts_x['UPPER_PRIMARY_BOYS']+dropouts_x['SECONDARY_BOYS']+dropouts_x['HRSECONDARY_BOYS'])/4\r\n",
    "dropouts_girls=(dropouts_x['PRIMARY_GIRLS']+dropouts_x['UPPER_PRIMARY_GIRLS']+dropouts_x['SECONDARY_GIRLS']+dropouts_x['HRSECONDARY_GIRLS'])/4\r\n",
    "\r\n",
    "drops=pd.concat([dropouts_boys,dropouts_girls],axis=0)\r\n",
    "datassex2=pd.DataFrame({'Dropouts':drops,'Sex':sex,'State':list(states['State'])*2})\r\n",
    "\r\n",
    "fig,ax=plt.subplots(2,2,figsize=(22,10))\r\n",
    "\r\n",
    "sns.boxplot(x='values',y='ID',data=datas,ax=ax[0,0])\r\n",
    "ax[0,0].set_xlabel('Average enrollment rates(%)')\r\n",
    "ax[0,0].set_ylabel('Section of school')\r\n",
    "#ax[0].suptitle('Comparison of enrollment rates across different sections of the school')\r\n",
    "\r\n",
    "sns.boxplot(x='Enrollments',y='Sex',data=datassex1,ax=ax[0,1])\r\n",
    "ax[0,1].set_xlabel('Average enrollment rates(%)')\r\n",
    "ax[0,1].set_ylabel('Sex')\r\n",
    "#ax[1].suptitle('Comparison of enrollment rates across sex')\r\n",
    "\r\n",
    "sns.boxplot(x='values',y='ID',data=datass,ax=ax[1,0])\r\n",
    "ax[1,0].set_xlabel('Average dropout rates(%)')\r\n",
    "ax[1,0].set_ylabel('Section of school')\r\n",
    "#plt.title('Comparison of dropout rates across different sections of the school')\r\n",
    "\r\n",
    "\r\n",
    "sns.boxplot(x='Dropouts',y='Sex',data=datassex2,ax=ax[1,1])\r\n",
    "ax[1,1].set_xlabel('Average dropout rates(%)')\r\n",
    "ax[1,1].set_ylabel('Sex')\r\n",
    "\r\n",
    "low_prim=datas.State.iloc[datas['values'][datas['ID']=='Primary'].idxmin()]\r\n",
    "up_prim=datas.State.iloc[datas['values'][datas['ID']=='Upper Primary'].idxmin()]\r\n",
    "\r\n",
    "\r\n",
    "p_out=datass.State.iloc[datass['values'][datass['ID']=='Primary'].idxmax()]\r\n",
    "up_out= datass.State.iloc[datass['values'][datass['ID']=='Upper Primary'].idxmax()]\r\n",
    "sec_out=datassex2.State.iloc[datass['values'][datass['ID']=='Primary'].idxmax()]\r\n",
    "boys_out=datassex2.State.iloc[datassex2['Dropouts'][datassex2['Sex']=='Boys'].idxmax()]\r\n",
    "\r\n",
    "\r\n",
    "ax[0,0].text(55,0.1,s=low_prim)\r\n",
    "ax[0,0].text(40,1,s=up_prim)\r\n",
    "ax[1,0].text(17,0.1,s=p_out)\r\n",
    "ax[1,0].text(13,1,s=up_out)\r\n",
    "ax[1,0].text(37,2,s=sec_out)\r\n",
    "ax[1,1].text(14,0.1,s=boys_out)\r\n",
    "\r\n",
    "plt.suptitle(\"Analysis on dropout and enrollment rates\")"
   ],
   "outputs": [
    {
     "output_type": "execute_result",
     "data": {
      "text/plain": [
       "Text(0.5, 0.98, 'Analysis on dropout and enrollment rates')"
      ]
     },
     "metadata": {},
     "execution_count": 9
    },
    {
     "output_type": "display_data",
     "data": {
      "text/plain": [
       "<Figure size 1584x720 with 4 Axes>"
      ],
      "image/png": "[encoded data removed]"
     },
     "metadata": {}
    }
   ],
   "metadata": {}
  },
  {
   "cell_type": "markdown",
   "source": [
    "`Observation:`\n",
    "* Lakshwadeep and J&K have exceptionally low enrollment rates\n",
    "* Mizoram has exceptionally high dropout rates in secondary school\n",
    "* Nagaland has exceptionally high dropout rates of boys"
   ],
   "metadata": {}
  },
  {
   "cell_type": "markdown",
   "source": [
    "## Student to teacher ratio"
   ],
   "metadata": {}
  },
  {
   "cell_type": "code",
   "execution_count": 9,
   "source": [
    "prim=['Primary']*36\r\n",
    "uprim=['Upper Primary']*36\r\n",
    "sec=['Secondary']*36\r\n",
    "usec=['Higher Secondary']*36\r\n",
    "lis=prim+uprim+sec+usec\r\n",
    "lis\r\n",
    "datas=pd.DataFrame({'Mean percentage(%)':pd.concat([ptr['Primary'],ptr['Upper Primary'],ptr['Secondary'],ptr['Higher Secondary']],axis=0), 'Section of school':lis, 'State':list(states['State'])*4})\r\n",
    "\r\n",
    "fig=px.box(data_frame=datas,x='Mean percentage(%)', y='Section of school',hover_name='State',color='Section of school', title=\"Student to teacher ratio\")\r\n",
    "fig.update_layout(showlegend=False)\r\n",
    "\r\n",
    "r = dp.Report(\r\n",
    "  dp.Markdown('Student to teacher ratio'), #add description to the report\r\n",
    "  dp.Plot(fig) #create a chart\r\n",
    ").publish(name='STR', visibility=dp.Visibility.PUBLIC,open=True) #Publish the report\r\n",
    "\r\n",
    "fig.show()"
   ],
   "outputs": [
    {
     "output_type": "stream",
     "name": "stderr",
     "text": [
      "c:\\Users\\ADMIN\\Documents\\Codebase\\envs\\machine_L\\lib\\site-packages\\datapane\\client\\api\\__init__.py:83: UserWarning:\n",
      "\n",
      "Deprecated, to be removed in next release, use dp.Text instead.\n",
      "\n"
     ]
    },
    {
     "output_type": "display_data",
     "data": {
      "text/plain": [
       "<IPython.core.display.Markdown object>"
      ],
      "text/markdown": [
       "Publishing document and associated data - *please wait...*"
      ]
     },
     "metadata": {}
    },
    {
     "output_type": "display_data",
     "data": {
      "text/plain": [
       "<IPython.core.display.Markdown object>"
      ],
      "text/markdown": [
       "Report successfully published at https://datapane.com/u/anupammisra/reports/str/ - you can edit and add additional text online"
      ]
     },
     "metadata": {}
    },
    {
     "output_type": "display_data",
     "data": {
      "application/vnd.plotly.v1+json": {
       "config": {
        "plotlyServerURL": "https://plot.ly"
       },
       "data": [
        {
         "alignmentgroup": "True",
         "hovertemplate": "<b>%{hovertext}</b><br><br>Section of school=%{y}<br>Mean percentage(%)=%{x}<extra></extra>",
         "hovertext": [
          "Andaman & Nicobar Islands",
          "Andhra Pradesh",
          "Arunachal Pradesh",
          "Assam",
          "Bihar",
          "Chandigarh",
          "Chhattisgarh",
          "Dadra & Nagar Haveli",
          "Daman & Diu",
          "Delhi",
          "Goa",
          "Gujarat",
          "Haryana",
          "Himachal Pradesh",
          "Jammu And Kashmir",
          "Jharkhand",
          "Karnataka",
          "Kerala",
          "Lakshadweep",
          "Madhya Pradesh",
          "Maharashtra",
          "Manipur",
          "Meghalaya",
          "Mizoram",
          "Nagaland",
          "Odisha",
          "Puducherry",
          "Punjab",
          "Rajasthan",
          "Sikkim",
          "Tamil Nadu",
          "Telangana",
          "Tripura",
          "Uttar Pradesh",
          "Uttarakhand",
          "West Bengal"
         ],
         "legendgroup": "Primary",
         "marker": {
          "color": "#636efa"
         },
         "name": "Primary",
         "notched": false,
         "offsetgroup": "Primary",
         "orientation": "h",
         "showlegend": true,
         "type": "box",
         "x": [
          8.666666666666666,
          21.666666666666668,
          12.666666666666666,
          23,
          36.333333333333336,
          14.333333333333334,
          20.666666666666668,
          18.666666666666668,
          26,
          24.333333333333332,
          20.666666666666668,
          20,
          22,
          12.333333333333334,
          9,
          28.666666666666668,
          18.333333333333332,
          17.333333333333332,
          8,
          22,
          24.666666666666668,
          12.333333333333334,
          21,
          14,
          11.666666666666666,
          18.666666666666668,
          14,
          18.666666666666668,
          17.333333333333332,
          6,
          18.333333333333332,
          15.333333333333334,
          10.666666666666666,
          39.666666666666664,
          19,
          25.666666666666668
         ],
         "x0": " ",
         "xaxis": "x",
         "y": [
          "Primary",
          "Primary",
          "Primary",
          "Primary",
          "Primary",
          "Primary",
          "Primary",
          "Primary",
          "Primary",
          "Primary",
          "Primary",
          "Primary",
          "Primary",
          "Primary",
          "Primary",
          "Primary",
          "Primary",
          "Primary",
          "Primary",
          "Primary",
          "Primary",
          "Primary",
          "Primary",
          "Primary",
          "Primary",
          "Primary",
          "Primary",
          "Primary",
          "Primary",
          "Primary",
          "Primary",
          "Primary",
          "Primary",
          "Primary",
          "Primary",
          "Primary"
         ],
         "y0": " ",
         "yaxis": "y"
        },
        {
         "alignmentgroup": "True",
         "hovertemplate": "<b>%{hovertext}</b><br><br>Section of school=%{y}<br>Mean percentage(%)=%{x}<extra></extra>",
         "hovertext": [
          "Andaman & Nicobar Islands",
          "Andhra Pradesh",
          "Arunachal Pradesh",
          "Assam",
          "Bihar",
          "Chandigarh",
          "Chhattisgarh",
          "Dadra & Nagar Haveli",
          "Daman & Diu",
          "Delhi",
          "Goa",
          "Gujarat",
          "Haryana",
          "Himachal Pradesh",
          "Jammu And Kashmir",
          "Jharkhand",
          "Karnataka",
          "Kerala",
          "Lakshadweep",
          "Madhya Pradesh",
          "Maharashtra",
          "Manipur",
          "Meghalaya",
          "Mizoram",
          "Nagaland",
          "Odisha",
          "Puducherry",
          "Punjab",
          "Rajasthan",
          "Sikkim",
          "Tamil Nadu",
          "Telangana",
          "Tripura",
          "Uttar Pradesh",
          "Uttarakhand",
          "West Bengal"
         ],
         "legendgroup": "Upper Primary",
         "marker": {
          "color": "#EF553B"
         },
         "name": "Upper Primary",
         "notched": false,
         "offsetgroup": "Upper Primary",
         "orientation": "h",
         "showlegend": true,
         "type": "box",
         "x": [
          6.666666666666667,
          15.666666666666666,
          7.666666666666667,
          13.666666666666666,
          23.333333333333332,
          9.666666666666666,
          18,
          15.333333333333334,
          14.666666666666666,
          18,
          16.333333333333332,
          13,
          13.666666666666666,
          10,
          6,
          19.666666666666668,
          12.666666666666666,
          14,
          7.666666666666667,
          19,
          17,
          8,
          12.666666666666666,
          5.666666666666667,
          7.333333333333333,
          14,
          9,
          12,
          10.333333333333334,
          5.666666666666667,
          15.666666666666666,
          10.333333333333334,
          8.333333333333334,
          32.666666666666664,
          16.333333333333332,
          28
         ],
         "x0": " ",
         "xaxis": "x",
         "y": [
          "Upper Primary",
          "Upper Primary",
          "Upper Primary",
          "Upper Primary",
          "Upper Primary",
          "Upper Primary",
          "Upper Primary",
          "Upper Primary",
          "Upper Primary",
          "Upper Primary",
          "Upper Primary",
          "Upper Primary",
          "Upper Primary",
          "Upper Primary",
          "Upper Primary",
          "Upper Primary",
          "Upper Primary",
          "Upper Primary",
          "Upper Primary",
          "Upper Primary",
          "Upper Primary",
          "Upper Primary",
          "Upper Primary",
          "Upper Primary",
          "Upper Primary",
          "Upper Primary",
          "Upper Primary",
          "Upper Primary",
          "Upper Primary",
          "Upper Primary",
          "Upper Primary",
          "Upper Primary",
          "Upper Primary",
          "Upper Primary",
          "Upper Primary",
          "Upper Primary"
         ],
         "y0": " ",
         "yaxis": "y"
        },
        {
         "alignmentgroup": "True",
         "hovertemplate": "<b>%{hovertext}</b><br><br>Section of school=%{y}<br>Mean percentage(%)=%{x}<extra></extra>",
         "hovertext": [
          "Andaman & Nicobar Islands",
          "Andhra Pradesh",
          "Arunachal Pradesh",
          "Assam",
          "Bihar",
          "Chandigarh",
          "Chhattisgarh",
          "Dadra & Nagar Haveli",
          "Daman & Diu",
          "Delhi",
          "Goa",
          "Gujarat",
          "Haryana",
          "Himachal Pradesh",
          "Jammu And Kashmir",
          "Jharkhand",
          "Karnataka",
          "Kerala",
          "Lakshadweep",
          "Madhya Pradesh",
          "Maharashtra",
          "Manipur",
          "Meghalaya",
          "Mizoram",
          "Nagaland",
          "Odisha",
          "Puducherry",
          "Punjab",
          "Rajasthan",
          "Sikkim",
          "Tamil Nadu",
          "Telangana",
          "Tripura",
          "Uttar Pradesh",
          "Uttarakhand",
          "West Bengal"
         ],
         "legendgroup": "Secondary",
         "marker": {
          "color": "#00cc96"
         },
         "name": "Secondary",
         "notched": false,
         "offsetgroup": "Secondary",
         "orientation": "h",
         "showlegend": true,
         "type": "box",
         "x": [
          14.333333333333334,
          19,
          23,
          13.666666666666666,
          58.333333333333336,
          13.666666666666666,
          33,
          29,
          16.333333333333332,
          29.333333333333332,
          13,
          34,
          15.333333333333334,
          20,
          15.333333333333334,
          63.666666666666664,
          15.666666666666666,
          17,
          8.666666666666666,
          38.333333333333336,
          22.666666666666668,
          12.666666666666666,
          12,
          9,
          16.666666666666668,
          20,
          11.666666666666666,
          17,
          23,
          18.333333333333332,
          21.666666666666668,
          13.666666666666666,
          28.666666666666668,
          54.666666666666664,
          17,
          34.666666666666664
         ],
         "x0": " ",
         "xaxis": "x",
         "y": [
          "Secondary",
          "Secondary",
          "Secondary",
          "Secondary",
          "Secondary",
          "Secondary",
          "Secondary",
          "Secondary",
          "Secondary",
          "Secondary",
          "Secondary",
          "Secondary",
          "Secondary",
          "Secondary",
          "Secondary",
          "Secondary",
          "Secondary",
          "Secondary",
          "Secondary",
          "Secondary",
          "Secondary",
          "Secondary",
          "Secondary",
          "Secondary",
          "Secondary",
          "Secondary",
          "Secondary",
          "Secondary",
          "Secondary",
          "Secondary",
          "Secondary",
          "Secondary",
          "Secondary",
          "Secondary",
          "Secondary",
          "Secondary"
         ],
         "y0": " ",
         "yaxis": "y"
        },
        {
         "alignmentgroup": "True",
         "hovertemplate": "<b>%{hovertext}</b><br><br>Section of school=%{y}<br>Mean percentage(%)=%{x}<extra></extra>",
         "hovertext": [
          "Andaman & Nicobar Islands",
          "Andhra Pradesh",
          "Arunachal Pradesh",
          "Assam",
          "Bihar",
          "Chandigarh",
          "Chhattisgarh",
          "Dadra & Nagar Haveli",
          "Daman & Diu",
          "Delhi",
          "Goa",
          "Gujarat",
          "Haryana",
          "Himachal Pradesh",
          "Jammu And Kashmir",
          "Jharkhand",
          "Karnataka",
          "Kerala",
          "Lakshadweep",
          "Madhya Pradesh",
          "Maharashtra",
          "Manipur",
          "Meghalaya",
          "Mizoram",
          "Nagaland",
          "Odisha",
          "Puducherry",
          "Punjab",
          "Rajasthan",
          "Sikkim",
          "Tamil Nadu",
          "Telangana",
          "Tripura",
          "Uttar Pradesh",
          "Uttarakhand",
          "West Bengal"
         ],
         "legendgroup": "Higher Secondary",
         "marker": {
          "color": "#ab63fa"
         },
         "name": "Higher Secondary",
         "notched": false,
         "offsetgroup": "Higher Secondary",
         "orientation": "h",
         "showlegend": true,
         "type": "box",
         "x": [
          17,
          48,
          36,
          20.666666666666668,
          61.333333333333336,
          28,
          26,
          26.333333333333332,
          22,
          24,
          18.333333333333332,
          31,
          20.333333333333332,
          15,
          30.333333333333332,
          66.33333333333333,
          26,
          20.666666666666668,
          13,
          48.333333333333336,
          43.333333333333336,
          19.666666666666668,
          21.333333333333332,
          15,
          22.666666666666668,
          28.333333333333332,
          22,
          28.333333333333332,
          37,
          19.333333333333332,
          26.333333333333332,
          30.333333333333332,
          10.333333333333334,
          106.33333333333333,
          30.333333333333332,
          56.666666666666664
         ],
         "x0": " ",
         "xaxis": "x",
         "y": [
          "Higher Secondary",
          "Higher Secondary",
          "Higher Secondary",
          "Higher Secondary",
          "Higher Secondary",
          "Higher Secondary",
          "Higher Secondary",
          "Higher Secondary",
          "Higher Secondary",
          "Higher Secondary",
          "Higher Secondary",
          "Higher Secondary",
          "Higher Secondary",
          "Higher Secondary",
          "Higher Secondary",
          "Higher Secondary",
          "Higher Secondary",
          "Higher Secondary",
          "Higher Secondary",
          "Higher Secondary",
          "Higher Secondary",
          "Higher Secondary",
          "Higher Secondary",
          "Higher Secondary",
          "Higher Secondary",
          "Higher Secondary",
          "Higher Secondary",
          "Higher Secondary",
          "Higher Secondary",
          "Higher Secondary",
          "Higher Secondary",
          "Higher Secondary",
          "Higher Secondary",
          "Higher Secondary",
          "Higher Secondary",
          "Higher Secondary"
         ],
         "y0": " ",
         "yaxis": "y"
        }
       ],
       "layout": {
        "boxmode": "overlay",
        "legend": {
         "title": {
          "text": "Section of school"
         },
         "tracegroupgap": 0
        },
        "showlegend": false,
        "template": {
         "data": {
          "bar": [
           {
            "error_x": {
             "color": "#2a3f5f"
            },
            "error_y": {
             "color": "#2a3f5f"
            },
            "marker": {
             "line": {
              "color": "#E5ECF6",
              "width": 0.5
             }
            },
            "type": "bar"
           }
          ],
          "barpolar": [
           {
            "marker": {
             "line": {
              "color": "#E5ECF6",
              "width": 0.5
             }
            },
            "type": "barpolar"
           }
          ],
          "carpet": [
           {
            "aaxis": {
             "endlinecolor": "#2a3f5f",
             "gridcolor": "white",
             "linecolor": "white",
             "minorgridcolor": "white",
             "startlinecolor": "#2a3f5f"
            },
            "baxis": {
             "endlinecolor": "#2a3f5f",
             "gridcolor": "white",
             "linecolor": "white",
             "minorgridcolor": "white",
             "startlinecolor": "#2a3f5f"
            },
            "type": "carpet"
           }
          ],
          "choropleth": [
           {
            "colorbar": {
             "outlinewidth": 0,
             "ticks": ""
            },
            "type": "choropleth"
           }
          ],
          "contour": [
           {
            "colorbar": {
             "outlinewidth": 0,
             "ticks": ""
            },
            "colorscale": [
             [
              0,
              "#0d0887"
             ],
             [
              0.1111111111111111,
              "#46039f"
             ],
             [
              0.2222222222222222,
              "#7201a8"
             ],
             [
              0.3333333333333333,
              "#9c179e"
             ],
             [
              0.4444444444444444,
              "#bd3786"
             ],
             [
              0.5555555555555556,
              "#d8576b"
             ],
             [
              0.6666666666666666,
              "#ed7953"
             ],
             [
              0.7777777777777778,
              "#fb9f3a"
             ],
             [
              0.8888888888888888,
              "#fdca26"
             ],
             [
              1,
              "#f0f921"
             ]
            ],
            "type": "contour"
           }
          ],
          "contourcarpet": [
           {
            "colorbar": {
             "outlinewidth": 0,
             "ticks": ""
            },
            "type": "contourcarpet"
           }
          ],
          "heatmap": [
           {
            "colorbar": {
             "outlinewidth": 0,
             "ticks": ""
            },
            "colorscale": [
             [
              0,
              "#0d0887"
             ],
             [
              0.1111111111111111,
              "#46039f"
             ],
             [
              0.2222222222222222,
              "#7201a8"
             ],
             [
              0.3333333333333333,
              "#9c179e"
             ],
             [
              0.4444444444444444,
              "#bd3786"
             ],
             [
              0.5555555555555556,
              "#d8576b"
             ],
             [
              0.6666666666666666,
              "#ed7953"
             ],
             [
              0.7777777777777778,
              "#fb9f3a"
             ],
             [
              0.8888888888888888,
              "#fdca26"
             ],
             [
              1,
              "#f0f921"
             ]
            ],
            "type": "heatmap"
           }
          ],
          "heatmapgl": [
           {
            "colorbar": {
             "outlinewidth": 0,
             "ticks": ""
            },
            "colorscale": [
             [
              0,
              "#0d0887"
             ],
             [
              0.1111111111111111,
              "#46039f"
             ],
             [
              0.2222222222222222,
              "#7201a8"
             ],
             [
              0.3333333333333333,
              "#9c179e"
             ],
             [
              0.4444444444444444,
              "#bd3786"
             ],
             [
              0.5555555555555556,
              "#d8576b"
             ],
             [
              0.6666666666666666,
              "#ed7953"
             ],
             [
              0.7777777777777778,
              "#fb9f3a"
             ],
             [
              0.8888888888888888,
              "#fdca26"
             ],
             [
              1,
              "#f0f921"
             ]
            ],
            "type": "heatmapgl"
           }
          ],
          "histogram": [
           {
            "marker": {
             "colorbar": {
              "outlinewidth": 0,
              "ticks": ""
             }
            },
            "type": "histogram"
           }
          ],
          "histogram2d": [
           {
            "colorbar": {
             "outlinewidth": 0,
             "ticks": ""
            },
            "colorscale": [
             [
              0,
              "#0d0887"
             ],
             [
              0.1111111111111111,
              "#46039f"
             ],
             [
              0.2222222222222222,
              "#7201a8"
             ],
             [
              0.3333333333333333,
              "#9c179e"
             ],
             [
              0.4444444444444444,
              "#bd3786"
             ],
             [
              0.5555555555555556,
              "#d8576b"
             ],
             [
              0.6666666666666666,
              "#ed7953"
             ],
             [
              0.7777777777777778,
              "#fb9f3a"
             ],
             [
              0.8888888888888888,
              "#fdca26"
             ],
             [
              1,
              "#f0f921"
             ]
            ],
            "type": "histogram2d"
           }
          ],
          "histogram2dcontour": [
           {
            "colorbar": {
             "outlinewidth": 0,
             "ticks": ""
            },
            "colorscale": [
             [
              0,
              "#0d0887"
             ],
             [
              0.1111111111111111,
              "#46039f"
             ],
             [
              0.2222222222222222,
              "#7201a8"
             ],
             [
              0.3333333333333333,
              "#9c179e"
             ],
             [
              0.4444444444444444,
              "#bd3786"
             ],
             [
              0.5555555555555556,
              "#d8576b"
             ],
             [
              0.6666666666666666,
              "#ed7953"
             ],
             [
              0.7777777777777778,
              "#fb9f3a"
             ],
             [
              0.8888888888888888,
              "#fdca26"
             ],
             [
              1,
              "#f0f921"
             ]
            ],
            "type": "histogram2dcontour"
           }
          ],
          "mesh3d": [
           {
            "colorbar": {
             "outlinewidth": 0,
             "ticks": ""
            },
            "type": "mesh3d"
           }
          ],
          "parcoords": [
           {
            "line": {
             "colorbar": {
              "outlinewidth": 0,
              "ticks": ""
             }
            },
            "type": "parcoords"
           }
          ],
          "pie": [
           {
            "automargin": true,
            "type": "pie"
           }
          ],
          "scatter": [
           {
            "marker": {
             "colorbar": {
              "outlinewidth": 0,
              "ticks": ""
             }
            },
            "type": "scatter"
           }
          ],
          "scatter3d": [
           {
            "line": {
             "colorbar": {
              "outlinewidth": 0,
              "ticks": ""
             }
            },
            "marker": {
             "colorbar": {
              "outlinewidth": 0,
              "ticks": ""
             }
            },
            "type": "scatter3d"
           }
          ],
          "scattercarpet": [
           {
            "marker": {
             "colorbar": {
              "outlinewidth": 0,
              "ticks": ""
             }
            },
            "type": "scattercarpet"
           }
          ],
          "scattergeo": [
           {
            "marker": {
             "colorbar": {
              "outlinewidth": 0,
              "ticks": ""
             }
            },
            "type": "scattergeo"
           }
          ],
          "scattergl": [
           {
            "marker": {
             "colorbar": {
              "outlinewidth": 0,
              "ticks": ""
             }
            },
            "type": "scattergl"
           }
          ],
          "scattermapbox": [
           {
            "marker": {
             "colorbar": {
              "outlinewidth": 0,
              "ticks": ""
             }
            },
            "type": "scattermapbox"
           }
          ],
          "scatterpolar": [
           {
            "marker": {
             "colorbar": {
              "outlinewidth": 0,
              "ticks": ""
             }
            },
            "type": "scatterpolar"
           }
          ],
          "scatterpolargl": [
           {
            "marker": {
             "colorbar": {
              "outlinewidth": 0,
              "ticks": ""
             }
            },
            "type": "scatterpolargl"
           }
          ],
          "scatterternary": [
           {
            "marker": {
             "colorbar": {
              "outlinewidth": 0,
              "ticks": ""
             }
            },
            "type": "scatterternary"
           }
          ],
          "surface": [
           {
            "colorbar": {
             "outlinewidth": 0,
             "ticks": ""
            },
            "colorscale": [
             [
              0,
              "#0d0887"
             ],
             [
              0.1111111111111111,
              "#46039f"
             ],
             [
              0.2222222222222222,
              "#7201a8"
             ],
             [
              0.3333333333333333,
              "#9c179e"
             ],
             [
              0.4444444444444444,
              "#bd3786"
             ],
             [
              0.5555555555555556,
              "#d8576b"
             ],
             [
              0.6666666666666666,
              "#ed7953"
             ],
             [
              0.7777777777777778,
              "#fb9f3a"
             ],
             [
              0.8888888888888888,
              "#fdca26"
             ],
             [
              1,
              "#f0f921"
             ]
            ],
            "type": "surface"
           }
          ],
          "table": [
           {
            "cells": {
             "fill": {
              "color": "#EBF0F8"
             },
             "line": {
              "color": "white"
             }
            },
            "header": {
             "fill": {
              "color": "#C8D4E3"
             },
             "line": {
              "color": "white"
             }
            },
            "type": "table"
           }
          ]
         },
         "layout": {
          "annotationdefaults": {
           "arrowcolor": "#2a3f5f",
           "arrowhead": 0,
           "arrowwidth": 1
          },
          "autotypenumbers": "strict",
          "coloraxis": {
           "colorbar": {
            "outlinewidth": 0,
            "ticks": ""
           }
          },
          "colorscale": {
           "diverging": [
            [
             0,
             "#8e0152"
            ],
            [
             0.1,
             "#c51b7d"
            ],
            [
             0.2,
             "#de77ae"
            ],
            [
             0.3,
             "#f1b6da"
            ],
            [
             0.4,
             "#fde0ef"
            ],
            [
             0.5,
             "#f7f7f7"
            ],
            [
             0.6,
             "#e6f5d0"
            ],
            [
             0.7,
             "#b8e186"
            ],
            [
             0.8,
             "#7fbc41"
            ],
            [
             0.9,
             "#4d9221"
            ],
            [
             1,
             "#276419"
            ]
           ],
           "sequential": [
            [
             0,
             "#0d0887"
            ],
            [
             0.1111111111111111,
             "#46039f"
            ],
            [
             0.2222222222222222,
             "#7201a8"
            ],
            [
             0.3333333333333333,
             "#9c179e"
            ],
            [
             0.4444444444444444,
             "#bd3786"
            ],
            [
             0.5555555555555556,
             "#d8576b"
            ],
            [
             0.6666666666666666,
             "#ed7953"
            ],
            [
             0.7777777777777778,
             "#fb9f3a"
            ],
            [
             0.8888888888888888,
             "#fdca26"
            ],
            [
             1,
             "#f0f921"
            ]
           ],
           "sequentialminus": [
            [
             0,
             "#0d0887"
            ],
            [
             0.1111111111111111,
             "#46039f"
            ],
            [
             0.2222222222222222,
             "#7201a8"
            ],
            [
             0.3333333333333333,
             "#9c179e"
            ],
            [
             0.4444444444444444,
             "#bd3786"
            ],
            [
             0.5555555555555556,
             "#d8576b"
            ],
            [
             0.6666666666666666,
             "#ed7953"
            ],
            [
             0.7777777777777778,
             "#fb9f3a"
            ],
            [
             0.8888888888888888,
             "#fdca26"
            ],
            [
             1,
             "#f0f921"
            ]
           ]
          },
          "colorway": [
           "#636efa",
           "#EF553B",
           "#00cc96",
           "#ab63fa",
           "#FFA15A",
           "#19d3f3",
           "#FF6692",
           "#B6E880",
           "#FF97FF",
           "#FECB52"
          ],
          "font": {
           "color": "#2a3f5f"
          },
          "geo": {
           "bgcolor": "white",
           "lakecolor": "white",
           "landcolor": "#E5ECF6",
           "showlakes": true,
           "showland": true,
           "subunitcolor": "white"
          },
          "hoverlabel": {
           "align": "left"
          },
          "hovermode": "closest",
          "mapbox": {
           "style": "light"
          },
          "paper_bgcolor": "white",
          "plot_bgcolor": "#E5ECF6",
          "polar": {
           "angularaxis": {
            "gridcolor": "white",
            "linecolor": "white",
            "ticks": ""
           },
           "bgcolor": "#E5ECF6",
           "radialaxis": {
            "gridcolor": "white",
            "linecolor": "white",
            "ticks": ""
           }
          },
          "scene": {
           "xaxis": {
            "backgroundcolor": "#E5ECF6",
            "gridcolor": "white",
            "gridwidth": 2,
            "linecolor": "white",
            "showbackground": true,
            "ticks": "",
            "zerolinecolor": "white"
           },
           "yaxis": {
            "backgroundcolor": "#E5ECF6",
            "gridcolor": "white",
            "gridwidth": 2,
            "linecolor": "white",
            "showbackground": true,
            "ticks": "",
            "zerolinecolor": "white"
           },
           "zaxis": {
            "backgroundcolor": "#E5ECF6",
            "gridcolor": "white",
            "gridwidth": 2,
            "linecolor": "white",
            "showbackground": true,
            "ticks": "",
            "zerolinecolor": "white"
           }
          },
          "shapedefaults": {
           "line": {
            "color": "#2a3f5f"
           }
          },
          "ternary": {
           "aaxis": {
            "gridcolor": "white",
            "linecolor": "white",
            "ticks": ""
           },
           "baxis": {
            "gridcolor": "white",
            "linecolor": "white",
            "ticks": ""
           },
           "bgcolor": "#E5ECF6",
           "caxis": {
            "gridcolor": "white",
            "linecolor": "white",
            "ticks": ""
           }
          },
          "title": {
           "x": 0.05
          },
          "xaxis": {
           "automargin": true,
           "gridcolor": "white",
           "linecolor": "white",
           "ticks": "",
           "title": {
            "standoff": 15
           },
           "zerolinecolor": "white",
           "zerolinewidth": 2
          },
          "yaxis": {
           "automargin": true,
           "gridcolor": "white",
           "linecolor": "white",
           "ticks": "",
           "title": {
            "standoff": 15
           },
           "zerolinecolor": "white",
           "zerolinewidth": 2
          }
         }
        },
        "title": {
         "text": "Student to teacher ratio"
        },
        "xaxis": {
         "anchor": "y",
         "domain": [
          0,
          1
         ],
         "title": {
          "text": "Mean percentage(%)"
         }
        },
        "yaxis": {
         "anchor": "x",
         "categoryarray": [
          "Higher Secondary",
          "Secondary",
          "Upper Primary",
          "Primary"
         ],
         "categoryorder": "array",
         "domain": [
          0,
          1
         ],
         "title": {
          "text": "Section of school"
         }
        }
       }
      }
     },
     "metadata": {}
    }
   ],
   "metadata": {}
  },
  {
   "cell_type": "markdown",
   "source": [
    "`Observations:`\n",
    "\n",
    "* Most states lack teachers in the higher secondary school. Certain states are doing very poorly namely UP, Bihar, Jharkhand and WB"
   ],
   "metadata": {}
  },
  {
   "cell_type": "code",
   "execution_count": 10,
   "source": [
    "dropss=dropouts_x.iloc[:,[2,5,8,11]].mean(axis=1)\r\n",
    "enrolls=enrollments_x.iloc[:,[2,5,8,11]].mean(axis=1)\r\n",
    "ptrs=ptr.iloc[:,[1,4]].mean(axis=1)\r\n",
    "comb=pd.DataFrame({'Enrollments(%)':enrolls,'Dropouts(%)':dropss,'student_teacher_ratio':ptrs})\r\n",
    "figz = px.scatter(data_frame=comb, x=\"Enrollments(%)\", y=\"Dropouts(%)\", size=\"student_teacher_ratio\", color=states.State, log_x=True, size_max=20, width=1000, height=500, title='Dropouts vs enrollments')\r\n",
    "figz.update_layout(showlegend=False)\r\n",
    "r = dp.Report(\r\n",
    "  dp.Markdown('Overall picture of dropout, enrollment and student:teacher ratio among states'), #add description to the report\r\n",
    "  dp.Plot(figz) #create a chart\r\n",
    ").publish(name='Overall', visibility=dp.Visibility.PUBLIC,open=True) #Publish the report\r\n",
    "\r\n",
    "figz.show()"
   ],
   "outputs": [
    {
     "output_type": "stream",
     "name": "stderr",
     "text": [
      "c:\\Users\\ADMIN\\Documents\\Codebase\\envs\\machine_L\\lib\\site-packages\\datapane\\client\\api\\__init__.py:83: UserWarning:\n",
      "\n",
      "Deprecated, to be removed in next release, use dp.Text instead.\n",
      "\n"
     ]
    },
    {
     "output_type": "display_data",
     "data": {
      "text/plain": [
       "<IPython.core.display.Markdown object>"
      ],
      "text/markdown": [
       "Publishing document and associated data - *please wait...*"
      ]
     },
     "metadata": {}
    },
    {
     "output_type": "display_data",
     "data": {
      "text/plain": [
       "<IPython.core.display.Markdown object>"
      ],
      "text/markdown": [
       "Report successfully published at https://datapane.com/u/anupammisra/reports/overall/ - you can edit and add additional text online"
      ]
     },
     "metadata": {}
    },
    {
     "output_type": "display_data",
     "data": {
      "application/vnd.plotly.v1+json": {
       "config": {
        "plotlyServerURL": "https://plot.ly"
       },
       "data": [
        {
         "hovertemplate": "color=Andaman & Nicobar Islands<br>Enrollments(%)=%{x}<br>Dropouts(%)=%{y}<br>student_teacher_ratio=%{marker.size}<extra></extra>",
         "legendgroup": "Andaman & Nicobar Islands",
         "marker": {
          "color": "#636efa",
          "size": [
           12.833333333333332
          ],
          "sizemode": "area",
          "sizeref": 0.1825,
          "symbol": "circle"
         },
         "mode": "markers",
         "name": "Andaman & Nicobar Islands",
         "orientation": "v",
         "showlegend": true,
         "type": "scatter",
         "x": [
          90.72083333333333
         ],
         "xaxis": "x",
         "y": [
          6.283333333333333
         ],
         "yaxis": "y"
        },
        {
         "hovertemplate": "color=Andhra Pradesh<br>Enrollments(%)=%{x}<br>Dropouts(%)=%{y}<br>student_teacher_ratio=%{marker.size}<extra></extra>",
         "legendgroup": "Andhra Pradesh",
         "marker": {
          "color": "#EF553B",
          "size": [
           34.833333333333336
          ],
          "sizemode": "area",
          "sizeref": 0.1825,
          "symbol": "circle"
         },
         "mode": "markers",
         "name": "Andhra Pradesh",
         "orientation": "v",
         "showlegend": true,
         "type": "scatter",
         "x": [
          75.75
         ],
         "xaxis": "x",
         "y": [
          6.650833333333333
         ],
         "yaxis": "y"
        },
        {
         "hovertemplate": "color=Arunachal Pradesh<br>Enrollments(%)=%{x}<br>Dropouts(%)=%{y}<br>student_teacher_ratio=%{marker.size}<extra></extra>",
         "legendgroup": "Arunachal Pradesh",
         "marker": {
          "color": "#00cc96",
          "size": [
           24.333333333333332
          ],
          "sizemode": "area",
          "sizeref": 0.1825,
          "symbol": "circle"
         },
         "mode": "markers",
         "name": "Arunachal Pradesh",
         "orientation": "v",
         "showlegend": true,
         "type": "scatter",
         "x": [
          101.13666666666667
         ],
         "xaxis": "x",
         "y": [
          11.814166666666667
         ],
         "yaxis": "y"
        },
        {
         "hovertemplate": "color=Assam<br>Enrollments(%)=%{x}<br>Dropouts(%)=%{y}<br>student_teacher_ratio=%{marker.size}<extra></extra>",
         "legendgroup": "Assam",
         "marker": {
          "color": "#ab63fa",
          "size": [
           21.833333333333336
          ],
          "sizemode": "area",
          "sizeref": 0.1825,
          "symbol": "circle"
         },
         "mode": "markers",
         "name": "Assam",
         "orientation": "v",
         "showlegend": true,
         "type": "scatter",
         "x": [
          78.82
         ],
         "xaxis": "x",
         "y": [
          12.499166666666666
         ],
         "yaxis": "y"
        },
        {
         "hovertemplate": "color=Bihar<br>Enrollments(%)=%{x}<br>Dropouts(%)=%{y}<br>student_teacher_ratio=%{marker.size}<extra></extra>",
         "legendgroup": "Bihar",
         "marker": {
          "color": "#FFA15A",
          "size": [
           48.833333333333336
          ],
          "sizemode": "area",
          "sizeref": 0.1825,
          "symbol": "circle"
         },
         "mode": "markers",
         "name": "Bihar",
         "orientation": "v",
         "showlegend": true,
         "type": "scatter",
         "x": [
          74.88083333333334
         ],
         "xaxis": "x",
         "y": [
          7.543333333333334
         ],
         "yaxis": "y"
        },
        {
         "hovertemplate": "color=Chandigarh<br>Enrollments(%)=%{x}<br>Dropouts(%)=%{y}<br>student_teacher_ratio=%{marker.size}<extra></extra>",
         "legendgroup": "Chandigarh",
         "marker": {
          "color": "#19d3f3",
          "size": [
           21.166666666666668
          ],
          "sizemode": "area",
          "sizeref": 0.1825,
          "symbol": "circle"
         },
         "mode": "markers",
         "name": "Chandigarh",
         "orientation": "v",
         "showlegend": true,
         "type": "scatter",
         "x": [
          90.82166666666667
         ],
         "xaxis": "x",
         "y": [
          3.091666666666667
         ],
         "yaxis": "y"
        },
        {
         "hovertemplate": "color=Chhattisgarh<br>Enrollments(%)=%{x}<br>Dropouts(%)=%{y}<br>student_teacher_ratio=%{marker.size}<extra></extra>",
         "legendgroup": "Chhattisgarh",
         "marker": {
          "color": "#FF6692",
          "size": [
           23.333333333333336
          ],
          "sizemode": "area",
          "sizeref": 0.1825,
          "symbol": "circle"
         },
         "mode": "markers",
         "name": "Chhattisgarh",
         "orientation": "v",
         "showlegend": true,
         "type": "scatter",
         "x": [
          89.80666666666667
         ],
         "xaxis": "x",
         "y": [
          7.1525
         ],
         "yaxis": "y"
        },
        {
         "hovertemplate": "color=Dadra & Nagar Haveli<br>Enrollments(%)=%{x}<br>Dropouts(%)=%{y}<br>student_teacher_ratio=%{marker.size}<extra></extra>",
         "legendgroup": "Dadra & Nagar Haveli",
         "marker": {
          "color": "#B6E880",
          "size": [
           22.5
          ],
          "sizemode": "area",
          "sizeref": 0.1825,
          "symbol": "circle"
         },
         "mode": "markers",
         "name": "Dadra & Nagar Haveli",
         "orientation": "v",
         "showlegend": true,
         "type": "scatter",
         "x": [
          76.3925
         ],
         "xaxis": "x",
         "y": [
          9.141666666666666
         ],
         "yaxis": "y"
        },
        {
         "hovertemplate": "color=Daman & Diu<br>Enrollments(%)=%{x}<br>Dropouts(%)=%{y}<br>student_teacher_ratio=%{marker.size}<extra></extra>",
         "legendgroup": "Daman & Diu",
         "marker": {
          "color": "#FF97FF",
          "size": [
           24
          ],
          "sizemode": "area",
          "sizeref": 0.1825,
          "symbol": "circle"
         },
         "mode": "markers",
         "name": "Daman & Diu",
         "orientation": "v",
         "showlegend": true,
         "type": "scatter",
         "x": [
          69.25916666666666
         ],
         "xaxis": "x",
         "y": [
          10.323333333333334
         ],
         "yaxis": "y"
        },
        {
         "hovertemplate": "color=Delhi<br>Enrollments(%)=%{x}<br>Dropouts(%)=%{y}<br>student_teacher_ratio=%{marker.size}<extra></extra>",
         "legendgroup": "Delhi",
         "marker": {
          "color": "#FECB52",
          "size": [
           24.166666666666664
          ],
          "sizemode": "area",
          "sizeref": 0.1825,
          "symbol": "circle"
         },
         "mode": "markers",
         "name": "Delhi",
         "orientation": "v",
         "showlegend": true,
         "type": "scatter",
         "x": [
          107.67666666666668
         ],
         "xaxis": "x",
         "y": [
          6.467499999999999
         ],
         "yaxis": "y"
        },
        {
         "hovertemplate": "color=Goa<br>Enrollments(%)=%{x}<br>Dropouts(%)=%{y}<br>student_teacher_ratio=%{marker.size}<extra></extra>",
         "legendgroup": "Goa",
         "marker": {
          "color": "#636efa",
          "size": [
           19.5
          ],
          "sizemode": "area",
          "sizeref": 0.1825,
          "symbol": "circle"
         },
         "mode": "markers",
         "name": "Goa",
         "orientation": "v",
         "showlegend": true,
         "type": "scatter",
         "x": [
          97.06499999999998
         ],
         "xaxis": "x",
         "y": [
          5.6850000000000005
         ],
         "yaxis": "y"
        },
        {
         "hovertemplate": "color=Gujarat<br>Enrollments(%)=%{x}<br>Dropouts(%)=%{y}<br>student_teacher_ratio=%{marker.size}<extra></extra>",
         "legendgroup": "Gujarat",
         "marker": {
          "color": "#EF553B",
          "size": [
           25.5
          ],
          "sizemode": "area",
          "sizeref": 0.1825,
          "symbol": "circle"
         },
         "mode": "markers",
         "name": "Gujarat",
         "orientation": "v",
         "showlegend": true,
         "type": "scatter",
         "x": [
          78.09
         ],
         "xaxis": "x",
         "y": [
          7.923333333333333
         ],
         "yaxis": "y"
        },
        {
         "hovertemplate": "color=Haryana<br>Enrollments(%)=%{x}<br>Dropouts(%)=%{y}<br>student_teacher_ratio=%{marker.size}<extra></extra>",
         "legendgroup": "Haryana",
         "marker": {
          "color": "#00cc96",
          "size": [
           21.166666666666664
          ],
          "sizemode": "area",
          "sizeref": 0.1825,
          "symbol": "circle"
         },
         "mode": "markers",
         "name": "Haryana",
         "orientation": "v",
         "showlegend": true,
         "type": "scatter",
         "x": [
          84.96333333333334
         ],
         "xaxis": "x",
         "y": [
          5.12
         ],
         "yaxis": "y"
        },
        {
         "hovertemplate": "color=Himachal Pradesh<br>Enrollments(%)=%{x}<br>Dropouts(%)=%{y}<br>student_teacher_ratio=%{marker.size}<extra></extra>",
         "legendgroup": "Himachal Pradesh",
         "marker": {
          "color": "#ab63fa",
          "size": [
           13.666666666666668
          ],
          "sizemode": "area",
          "sizeref": 0.1825,
          "symbol": "circle"
         },
         "mode": "markers",
         "name": "Himachal Pradesh",
         "orientation": "v",
         "showlegend": true,
         "type": "scatter",
         "x": [
          103.62166666666667
         ],
         "xaxis": "x",
         "y": [
          4.2283333333333335
         ],
         "yaxis": "y"
        },
        {
         "hovertemplate": "color=Jammu And Kashmir<br>Enrollments(%)=%{x}<br>Dropouts(%)=%{y}<br>student_teacher_ratio=%{marker.size}<extra></extra>",
         "legendgroup": "Jammu And Kashmir",
         "marker": {
          "color": "#FFA15A",
          "size": [
           19.666666666666664
          ],
          "sizemode": "area",
          "sizeref": 0.1825,
          "symbol": "circle"
         },
         "mode": "markers",
         "name": "Jammu And Kashmir",
         "orientation": "v",
         "showlegend": true,
         "type": "scatter",
         "x": [
          69.89166666666668
         ],
         "xaxis": "x",
         "y": [
          9.560833333333333
         ],
         "yaxis": "y"
        },
        {
         "hovertemplate": "color=Jharkhand<br>Enrollments(%)=%{x}<br>Dropouts(%)=%{y}<br>student_teacher_ratio=%{marker.size}<extra></extra>",
         "legendgroup": "Jharkhand",
         "marker": {
          "color": "#19d3f3",
          "size": [
           47.5
          ],
          "sizemode": "area",
          "sizeref": 0.1825,
          "symbol": "circle"
         },
         "mode": "markers",
         "name": "Jharkhand",
         "orientation": "v",
         "showlegend": true,
         "type": "scatter",
         "x": [
          81.86833333333334
         ],
         "xaxis": "x",
         "y": [
          9.170000000000002
         ],
         "yaxis": "y"
        },
        {
         "hovertemplate": "color=Karnataka<br>Enrollments(%)=%{x}<br>Dropouts(%)=%{y}<br>student_teacher_ratio=%{marker.size}<extra></extra>",
         "legendgroup": "Karnataka",
         "marker": {
          "color": "#FF6692",
          "size": [
           22.166666666666664
          ],
          "sizemode": "area",
          "sizeref": 0.1825,
          "symbol": "circle"
         },
         "mode": "markers",
         "name": "Karnataka",
         "orientation": "v",
         "showlegend": true,
         "type": "scatter",
         "x": [
          76.49000000000001
         ],
         "xaxis": "x",
         "y": [
          10.806666666666668
         ],
         "yaxis": "y"
        },
        {
         "hovertemplate": "color=Kerala<br>Enrollments(%)=%{x}<br>Dropouts(%)=%{y}<br>student_teacher_ratio=%{marker.size}<extra></extra>",
         "legendgroup": "Kerala",
         "marker": {
          "color": "#B6E880",
          "size": [
           19
          ],
          "sizemode": "area",
          "sizeref": 0.1825,
          "symbol": "circle"
         },
         "mode": "markers",
         "name": "Kerala",
         "orientation": "v",
         "showlegend": true,
         "type": "scatter",
         "x": [
          93.89916666666667
         ],
         "xaxis": "x",
         "y": [
          3.591666666666667
         ],
         "yaxis": "y"
        },
        {
         "hovertemplate": "color=Lakshadweep<br>Enrollments(%)=%{x}<br>Dropouts(%)=%{y}<br>student_teacher_ratio=%{marker.size}<extra></extra>",
         "legendgroup": "Lakshadweep",
         "marker": {
          "color": "#FF97FF",
          "size": [
           10.5
          ],
          "sizemode": "area",
          "sizeref": 0.1825,
          "symbol": "circle"
         },
         "mode": "markers",
         "name": "Lakshadweep",
         "orientation": "v",
         "showlegend": true,
         "type": "scatter",
         "x": [
          94.52
         ],
         "xaxis": "x",
         "y": [
          3.5358333333333327
         ],
         "yaxis": "y"
        },
        {
         "hovertemplate": "color=Madhya Pradesh<br>Enrollments(%)=%{x}<br>Dropouts(%)=%{y}<br>student_teacher_ratio=%{marker.size}<extra></extra>",
         "legendgroup": "Madhya Pradesh",
         "marker": {
          "color": "#FECB52",
          "size": [
           35.16666666666667
          ],
          "sizemode": "area",
          "sizeref": 0.1825,
          "symbol": "circle"
         },
         "mode": "markers",
         "name": "Madhya Pradesh",
         "orientation": "v",
         "showlegend": true,
         "type": "scatter",
         "x": [
          81.49166666666667
         ],
         "xaxis": "x",
         "y": [
          9.890833333333333
         ],
         "yaxis": "y"
        },
        {
         "hovertemplate": "color=Maharashtra<br>Enrollments(%)=%{x}<br>Dropouts(%)=%{y}<br>student_teacher_ratio=%{marker.size}<extra></extra>",
         "legendgroup": "Maharashtra",
         "marker": {
          "color": "#636efa",
          "size": [
           34
          ],
          "sizemode": "area",
          "sizeref": 0.1825,
          "symbol": "circle"
         },
         "mode": "markers",
         "name": "Maharashtra",
         "orientation": "v",
         "showlegend": true,
         "type": "scatter",
         "x": [
          87.0725
         ],
         "xaxis": "x",
         "y": [
          4.9025
         ],
         "yaxis": "y"
        },
        {
         "hovertemplate": "color=Manipur<br>Enrollments(%)=%{x}<br>Dropouts(%)=%{y}<br>student_teacher_ratio=%{marker.size}<extra></extra>",
         "legendgroup": "Manipur",
         "marker": {
          "color": "#EF553B",
          "size": [
           16
          ],
          "sizemode": "area",
          "sizeref": 0.1825,
          "symbol": "circle"
         },
         "mode": "markers",
         "name": "Manipur",
         "orientation": "v",
         "showlegend": true,
         "type": "scatter",
         "x": [
          103.32083333333333
         ],
         "xaxis": "x",
         "y": [
          8.655833333333334
         ],
         "yaxis": "y"
        },
        {
         "hovertemplate": "color=Meghalaya<br>Enrollments(%)=%{x}<br>Dropouts(%)=%{y}<br>student_teacher_ratio=%{marker.size}<extra></extra>",
         "legendgroup": "Meghalaya",
         "marker": {
          "color": "#00cc96",
          "size": [
           21.166666666666664
          ],
          "sizemode": "area",
          "sizeref": 0.1825,
          "symbol": "circle"
         },
         "mode": "markers",
         "name": "Meghalaya",
         "orientation": "v",
         "showlegend": true,
         "type": "scatter",
         "x": [
          93.915
         ],
         "xaxis": "x",
         "y": [
          10.204166666666666
         ],
         "yaxis": "y"
        },
        {
         "hovertemplate": "color=Mizoram<br>Enrollments(%)=%{x}<br>Dropouts(%)=%{y}<br>student_teacher_ratio=%{marker.size}<extra></extra>",
         "legendgroup": "Mizoram",
         "marker": {
          "color": "#ab63fa",
          "size": [
           14.5
          ],
          "sizemode": "area",
          "sizeref": 0.1825,
          "symbol": "circle"
         },
         "mode": "markers",
         "name": "Mizoram",
         "orientation": "v",
         "showlegend": true,
         "type": "scatter",
         "x": [
          104.45
         ],
         "xaxis": "x",
         "y": [
          12.180000000000001
         ],
         "yaxis": "y"
        },
        {
         "hovertemplate": "color=Nagaland<br>Enrollments(%)=%{x}<br>Dropouts(%)=%{y}<br>student_teacher_ratio=%{marker.size}<extra></extra>",
         "legendgroup": "Nagaland",
         "marker": {
          "color": "#FFA15A",
          "size": [
           17.166666666666668
          ],
          "sizemode": "area",
          "sizeref": 0.1825,
          "symbol": "circle"
         },
         "mode": "markers",
         "name": "Nagaland",
         "orientation": "v",
         "showlegend": true,
         "type": "scatter",
         "x": [
          77.4075
         ],
         "xaxis": "x",
         "y": [
          15.583333333333334
         ],
         "yaxis": "y"
        },
        {
         "hovertemplate": "color=Odisha<br>Enrollments(%)=%{x}<br>Dropouts(%)=%{y}<br>student_teacher_ratio=%{marker.size}<extra></extra>",
         "legendgroup": "Odisha",
         "marker": {
          "color": "#19d3f3",
          "size": [
           23.5
          ],
          "sizemode": "area",
          "sizeref": 0.1825,
          "symbol": "circle"
         },
         "mode": "markers",
         "name": "Odisha",
         "orientation": "v",
         "showlegend": true,
         "type": "scatter",
         "x": [
          77.23083333333334
         ],
         "xaxis": "x",
         "y": [
          12.39
         ],
         "yaxis": "y"
        },
        {
         "hovertemplate": "color=Puducherry<br>Enrollments(%)=%{x}<br>Dropouts(%)=%{y}<br>student_teacher_ratio=%{marker.size}<extra></extra>",
         "legendgroup": "Puducherry",
         "marker": {
          "color": "#FF6692",
          "size": [
           18
          ],
          "sizemode": "area",
          "sizeref": 0.1825,
          "symbol": "circle"
         },
         "mode": "markers",
         "name": "Puducherry",
         "orientation": "v",
         "showlegend": true,
         "type": "scatter",
         "x": [
          86.86083333333333
         ],
         "xaxis": "x",
         "y": [
          5.48
         ],
         "yaxis": "y"
        },
        {
         "hovertemplate": "color=Punjab<br>Enrollments(%)=%{x}<br>Dropouts(%)=%{y}<br>student_teacher_ratio=%{marker.size}<extra></extra>",
         "legendgroup": "Punjab",
         "marker": {
          "color": "#B6E880",
          "size": [
           23.5
          ],
          "sizemode": "area",
          "sizeref": 0.1825,
          "symbol": "circle"
         },
         "mode": "markers",
         "name": "Punjab",
         "orientation": "v",
         "showlegend": true,
         "type": "scatter",
         "x": [
          89.44333333333333
         ],
         "xaxis": "x",
         "y": [
          5.215833333333333
         ],
         "yaxis": "y"
        },
        {
         "hovertemplate": "color=Rajasthan<br>Enrollments(%)=%{x}<br>Dropouts(%)=%{y}<br>student_teacher_ratio=%{marker.size}<extra></extra>",
         "legendgroup": "Rajasthan",
         "marker": {
          "color": "#FF97FF",
          "size": [
           27.166666666666664
          ],
          "sizemode": "area",
          "sizeref": 0.1825,
          "symbol": "circle"
         },
         "mode": "markers",
         "name": "Rajasthan",
         "orientation": "v",
         "showlegend": true,
         "type": "scatter",
         "x": [
          80.16749999999999
         ],
         "xaxis": "x",
         "y": [
          6.733333333333334
         ],
         "yaxis": "y"
        },
        {
         "hovertemplate": "color=Sikkim<br>Enrollments(%)=%{x}<br>Dropouts(%)=%{y}<br>student_teacher_ratio=%{marker.size}<extra></extra>",
         "legendgroup": "Sikkim",
         "marker": {
          "color": "#FECB52",
          "size": [
           12.666666666666666
          ],
          "sizemode": "area",
          "sizeref": 0.1825,
          "symbol": "circle"
         },
         "mode": "markers",
         "name": "Sikkim",
         "orientation": "v",
         "showlegend": true,
         "type": "scatter",
         "x": [
          108.23166666666667
         ],
         "xaxis": "x",
         "y": [
          7.59
         ],
         "yaxis": "y"
        },
        {
         "hovertemplate": "color=Tamil Nadu<br>Enrollments(%)=%{x}<br>Dropouts(%)=%{y}<br>student_teacher_ratio=%{marker.size}<extra></extra>",
         "legendgroup": "Tamil Nadu",
         "marker": {
          "color": "#636efa",
          "size": [
           22.333333333333332
          ],
          "sizemode": "area",
          "sizeref": 0.1825,
          "symbol": "circle"
         },
         "mode": "markers",
         "name": "Tamil Nadu",
         "orientation": "v",
         "showlegend": true,
         "type": "scatter",
         "x": [
          92.51416666666667
         ],
         "xaxis": "x",
         "y": [
          4.208333333333334
         ],
         "yaxis": "y"
        },
        {
         "hovertemplate": "color=Telangana<br>Enrollments(%)=%{x}<br>Dropouts(%)=%{y}<br>student_teacher_ratio=%{marker.size}<extra></extra>",
         "legendgroup": "Telangana",
         "marker": {
          "color": "#EF553B",
          "size": [
           22.833333333333332
          ],
          "sizemode": "area",
          "sizeref": 0.1825,
          "symbol": "circle"
         },
         "mode": "markers",
         "name": "Telangana",
         "orientation": "v",
         "showlegend": true,
         "type": "scatter",
         "x": [
          88.055
         ],
         "xaxis": "x",
         "y": [
          8.4775
         ],
         "yaxis": "y"
        },
        {
         "hovertemplate": "color=Tripura<br>Enrollments(%)=%{x}<br>Dropouts(%)=%{y}<br>student_teacher_ratio=%{marker.size}<extra></extra>",
         "legendgroup": "Tripura",
         "marker": {
          "color": "#00cc96",
          "size": [
           10.5
          ],
          "sizemode": "area",
          "sizeref": 0.1825,
          "symbol": "circle"
         },
         "mode": "markers",
         "name": "Tripura",
         "orientation": "v",
         "showlegend": true,
         "type": "scatter",
         "x": [
          90.78333333333333
         ],
         "xaxis": "x",
         "y": [
          7.705
         ],
         "yaxis": "y"
        },
        {
         "hovertemplate": "color=Uttar Pradesh<br>Enrollments(%)=%{x}<br>Dropouts(%)=%{y}<br>student_teacher_ratio=%{marker.size}<extra></extra>",
         "legendgroup": "Uttar Pradesh",
         "marker": {
          "color": "#ab63fa",
          "size": [
           73
          ],
          "sizemode": "area",
          "sizeref": 0.1825,
          "symbol": "circle"
         },
         "mode": "markers",
         "name": "Uttar Pradesh",
         "orientation": "v",
         "showlegend": true,
         "type": "scatter",
         "x": [
          78.71416666666667
         ],
         "xaxis": "x",
         "y": [
          4.255833333333333
         ],
         "yaxis": "y"
        },
        {
         "hovertemplate": "color=Uttarakhand<br>Enrollments(%)=%{x}<br>Dropouts(%)=%{y}<br>student_teacher_ratio=%{marker.size}<extra></extra>",
         "legendgroup": "Uttarakhand",
         "marker": {
          "color": "#FFA15A",
          "size": [
           24.666666666666664
          ],
          "sizemode": "area",
          "sizeref": 0.1825,
          "symbol": "circle"
         },
         "mode": "markers",
         "name": "Uttarakhand",
         "orientation": "v",
         "showlegend": true,
         "type": "scatter",
         "x": [
          86.24833333333332
         ],
         "xaxis": "x",
         "y": [
          5.750000000000001
         ],
         "yaxis": "y"
        },
        {
         "hovertemplate": "color=West Bengal<br>Enrollments(%)=%{x}<br>Dropouts(%)=%{y}<br>student_teacher_ratio=%{marker.size}<extra></extra>",
         "legendgroup": "West Bengal",
         "marker": {
          "color": "#19d3f3",
          "size": [
           41.166666666666664
          ],
          "sizemode": "area",
          "sizeref": 0.1825,
          "symbol": "circle"
         },
         "mode": "markers",
         "name": "West Bengal",
         "orientation": "v",
         "showlegend": true,
         "type": "scatter",
         "x": [
          84.67500000000001
         ],
         "xaxis": "x",
         "y": [
          8.142499999999998
         ],
         "yaxis": "y"
        }
       ],
       "layout": {
        "height": 500,
        "legend": {
         "itemsizing": "constant",
         "title": {
          "text": "color"
         },
         "tracegroupgap": 0
        },
        "showlegend": false,
        "template": {
         "data": {
          "bar": [
           {
            "error_x": {
             "color": "#2a3f5f"
            },
            "error_y": {
             "color": "#2a3f5f"
            },
            "marker": {
             "line": {
              "color": "#E5ECF6",
              "width": 0.5
             }
            },
            "type": "bar"
           }
          ],
          "barpolar": [
           {
            "marker": {
             "line": {
              "color": "#E5ECF6",
              "width": 0.5
             }
            },
            "type": "barpolar"
           }
          ],
          "carpet": [
           {
            "aaxis": {
             "endlinecolor": "#2a3f5f",
             "gridcolor": "white",
             "linecolor": "white",
             "minorgridcolor": "white",
             "startlinecolor": "#2a3f5f"
            },
            "baxis": {
             "endlinecolor": "#2a3f5f",
             "gridcolor": "white",
             "linecolor": "white",
             "minorgridcolor": "white",
             "startlinecolor": "#2a3f5f"
            },
            "type": "carpet"
           }
          ],
          "choropleth": [
           {
            "colorbar": {
             "outlinewidth": 0,
             "ticks": ""
            },
            "type": "choropleth"
           }
          ],
          "contour": [
           {
            "colorbar": {
             "outlinewidth": 0,
             "ticks": ""
            },
            "colorscale": [
             [
              0,
              "#0d0887"
             ],
             [
              0.1111111111111111,
              "#46039f"
             ],
             [
              0.2222222222222222,
              "#7201a8"
             ],
             [
              0.3333333333333333,
              "#9c179e"
             ],
             [
              0.4444444444444444,
              "#bd3786"
             ],
             [
              0.5555555555555556,
              "#d8576b"
             ],
             [
              0.6666666666666666,
              "#ed7953"
             ],
             [
              0.7777777777777778,
              "#fb9f3a"
             ],
             [
              0.8888888888888888,
              "#fdca26"
             ],
             [
              1,
              "#f0f921"
             ]
            ],
            "type": "contour"
           }
          ],
          "contourcarpet": [
           {
            "colorbar": {
             "outlinewidth": 0,
             "ticks": ""
            },
            "type": "contourcarpet"
           }
          ],
          "heatmap": [
           {
            "colorbar": {
             "outlinewidth": 0,
             "ticks": ""
            },
            "colorscale": [
             [
              0,
              "#0d0887"
             ],
             [
              0.1111111111111111,
              "#46039f"
             ],
             [
              0.2222222222222222,
              "#7201a8"
             ],
             [
              0.3333333333333333,
              "#9c179e"
             ],
             [
              0.4444444444444444,
              "#bd3786"
             ],
             [
              0.5555555555555556,
              "#d8576b"
             ],
             [
              0.6666666666666666,
              "#ed7953"
             ],
             [
              0.7777777777777778,
              "#fb9f3a"
             ],
             [
              0.8888888888888888,
              "#fdca26"
             ],
             [
              1,
              "#f0f921"
             ]
            ],
            "type": "heatmap"
           }
          ],
          "heatmapgl": [
           {
            "colorbar": {
             "outlinewidth": 0,
             "ticks": ""
            },
            "colorscale": [
             [
              0,
              "#0d0887"
             ],
             [
              0.1111111111111111,
              "#46039f"
             ],
             [
              0.2222222222222222,
              "#7201a8"
             ],
             [
              0.3333333333333333,
              "#9c179e"
             ],
             [
              0.4444444444444444,
              "#bd3786"
             ],
             [
              0.5555555555555556,
              "#d8576b"
             ],
             [
              0.6666666666666666,
              "#ed7953"
             ],
             [
              0.7777777777777778,
              "#fb9f3a"
             ],
             [
              0.8888888888888888,
              "#fdca26"
             ],
             [
              1,
              "#f0f921"
             ]
            ],
            "type": "heatmapgl"
           }
          ],
          "histogram": [
           {
            "marker": {
             "colorbar": {
              "outlinewidth": 0,
              "ticks": ""
             }
            },
            "type": "histogram"
           }
          ],
          "histogram2d": [
           {
            "colorbar": {
             "outlinewidth": 0,
             "ticks": ""
            },
            "colorscale": [
             [
              0,
              "#0d0887"
             ],
             [
              0.1111111111111111,
              "#46039f"
             ],
             [
              0.2222222222222222,
              "#7201a8"
             ],
             [
              0.3333333333333333,
              "#9c179e"
             ],
             [
              0.4444444444444444,
              "#bd3786"
             ],
             [
              0.5555555555555556,
              "#d8576b"
             ],
             [
              0.6666666666666666,
              "#ed7953"
             ],
             [
              0.7777777777777778,
              "#fb9f3a"
             ],
             [
              0.8888888888888888,
              "#fdca26"
             ],
             [
              1,
              "#f0f921"
             ]
            ],
            "type": "histogram2d"
           }
          ],
          "histogram2dcontour": [
           {
            "colorbar": {
             "outlinewidth": 0,
             "ticks": ""
            },
            "colorscale": [
             [
              0,
              "#0d0887"
             ],
             [
              0.1111111111111111,
              "#46039f"
             ],
             [
              0.2222222222222222,
              "#7201a8"
             ],
             [
              0.3333333333333333,
              "#9c179e"
             ],
             [
              0.4444444444444444,
              "#bd3786"
             ],
             [
              0.5555555555555556,
              "#d8576b"
             ],
             [
              0.6666666666666666,
              "#ed7953"
             ],
             [
              0.7777777777777778,
              "#fb9f3a"
             ],
             [
              0.8888888888888888,
              "#fdca26"
             ],
             [
              1,
              "#f0f921"
             ]
            ],
            "type": "histogram2dcontour"
           }
          ],
          "mesh3d": [
           {
            "colorbar": {
             "outlinewidth": 0,
             "ticks": ""
            },
            "type": "mesh3d"
           }
          ],
          "parcoords": [
           {
            "line": {
             "colorbar": {
              "outlinewidth": 0,
              "ticks": ""
             }
            },
            "type": "parcoords"
           }
          ],
          "pie": [
           {
            "automargin": true,
            "type": "pie"
           }
          ],
          "scatter": [
           {
            "marker": {
             "colorbar": {
              "outlinewidth": 0,
              "ticks": ""
             }
            },
            "type": "scatter"
           }
          ],
          "scatter3d": [
           {
            "line": {
             "colorbar": {
              "outlinewidth": 0,
              "ticks": ""
             }
            },
            "marker": {
             "colorbar": {
              "outlinewidth": 0,
              "ticks": ""
             }
            },
            "type": "scatter3d"
           }
          ],
          "scattercarpet": [
           {
            "marker": {
             "colorbar": {
              "outlinewidth": 0,
              "ticks": ""
             }
            },
            "type": "scattercarpet"
           }
          ],
          "scattergeo": [
           {
            "marker": {
             "colorbar": {
              "outlinewidth": 0,
              "ticks": ""
             }
            },
            "type": "scattergeo"
           }
          ],
          "scattergl": [
           {
            "marker": {
             "colorbar": {
              "outlinewidth": 0,
              "ticks": ""
             }
            },
            "type": "scattergl"
           }
          ],
          "scattermapbox": [
           {
            "marker": {
             "colorbar": {
              "outlinewidth": 0,
              "ticks": ""
             }
            },
            "type": "scattermapbox"
           }
          ],
          "scatterpolar": [
           {
            "marker": {
             "colorbar": {
              "outlinewidth": 0,
              "ticks": ""
             }
            },
            "type": "scatterpolar"
           }
          ],
          "scatterpolargl": [
           {
            "marker": {
             "colorbar": {
              "outlinewidth": 0,
              "ticks": ""
             }
            },
            "type": "scatterpolargl"
           }
          ],
          "scatterternary": [
           {
            "marker": {
             "colorbar": {
              "outlinewidth": 0,
              "ticks": ""
             }
            },
            "type": "scatterternary"
           }
          ],
          "surface": [
           {
            "colorbar": {
             "outlinewidth": 0,
             "ticks": ""
            },
            "colorscale": [
             [
              0,
              "#0d0887"
             ],
             [
              0.1111111111111111,
              "#46039f"
             ],
             [
              0.2222222222222222,
              "#7201a8"
             ],
             [
              0.3333333333333333,
              "#9c179e"
             ],
             [
              0.4444444444444444,
              "#bd3786"
             ],
             [
              0.5555555555555556,
              "#d8576b"
             ],
             [
              0.6666666666666666,
              "#ed7953"
             ],
             [
              0.7777777777777778,
              "#fb9f3a"
             ],
             [
              0.8888888888888888,
              "#fdca26"
             ],
             [
              1,
              "#f0f921"
             ]
            ],
            "type": "surface"
           }
          ],
          "table": [
           {
            "cells": {
             "fill": {
              "color": "#EBF0F8"
             },
             "line": {
              "color": "white"
             }
            },
            "header": {
             "fill": {
              "color": "#C8D4E3"
             },
             "line": {
              "color": "white"
             }
            },
            "type": "table"
           }
          ]
         },
         "layout": {
          "annotationdefaults": {
           "arrowcolor": "#2a3f5f",
           "arrowhead": 0,
           "arrowwidth": 1
          },
          "autotypenumbers": "strict",
          "coloraxis": {
           "colorbar": {
            "outlinewidth": 0,
            "ticks": ""
           }
          },
          "colorscale": {
           "diverging": [
            [
             0,
             "#8e0152"
            ],
            [
             0.1,
             "#c51b7d"
            ],
            [
             0.2,
             "#de77ae"
            ],
            [
             0.3,
             "#f1b6da"
            ],
            [
             0.4,
             "#fde0ef"
            ],
            [
             0.5,
             "#f7f7f7"
            ],
            [
             0.6,
             "#e6f5d0"
            ],
            [
             0.7,
             "#b8e186"
            ],
            [
             0.8,
             "#7fbc41"
            ],
            [
             0.9,
             "#4d9221"
            ],
            [
             1,
             "#276419"
            ]
           ],
           "sequential": [
            [
             0,
             "#0d0887"
            ],
            [
             0.1111111111111111,
             "#46039f"
            ],
            [
             0.2222222222222222,
             "#7201a8"
            ],
            [
             0.3333333333333333,
             "#9c179e"
            ],
            [
             0.4444444444444444,
             "#bd3786"
            ],
            [
             0.5555555555555556,
             "#d8576b"
            ],
            [
             0.6666666666666666,
             "#ed7953"
            ],
            [
             0.7777777777777778,
             "#fb9f3a"
            ],
            [
             0.8888888888888888,
             "#fdca26"
            ],
            [
             1,
             "#f0f921"
            ]
           ],
           "sequentialminus": [
            [
             0,
             "#0d0887"
            ],
            [
             0.1111111111111111,
             "#46039f"
            ],
            [
             0.2222222222222222,
             "#7201a8"
            ],
            [
             0.3333333333333333,
             "#9c179e"
            ],
            [
             0.4444444444444444,
             "#bd3786"
            ],
            [
             0.5555555555555556,
             "#d8576b"
            ],
            [
             0.6666666666666666,
             "#ed7953"
            ],
            [
             0.7777777777777778,
             "#fb9f3a"
            ],
            [
             0.8888888888888888,
             "#fdca26"
            ],
            [
             1,
             "#f0f921"
            ]
           ]
          },
          "colorway": [
           "#636efa",
           "#EF553B",
           "#00cc96",
           "#ab63fa",
           "#FFA15A",
           "#19d3f3",
           "#FF6692",
           "#B6E880",
           "#FF97FF",
           "#FECB52"
          ],
          "font": {
           "color": "#2a3f5f"
          },
          "geo": {
           "bgcolor": "white",
           "lakecolor": "white",
           "landcolor": "#E5ECF6",
           "showlakes": true,
           "showland": true,
           "subunitcolor": "white"
          },
          "hoverlabel": {
           "align": "left"
          },
          "hovermode": "closest",
          "mapbox": {
           "style": "light"
          },
          "paper_bgcolor": "white",
          "plot_bgcolor": "#E5ECF6",
          "polar": {
           "angularaxis": {
            "gridcolor": "white",
            "linecolor": "white",
            "ticks": ""
           },
           "bgcolor": "#E5ECF6",
           "radialaxis": {
            "gridcolor": "white",
            "linecolor": "white",
            "ticks": ""
           }
          },
          "scene": {
           "xaxis": {
            "backgroundcolor": "#E5ECF6",
            "gridcolor": "white",
            "gridwidth": 2,
            "linecolor": "white",
            "showbackground": true,
            "ticks": "",
            "zerolinecolor": "white"
           },
           "yaxis": {
            "backgroundcolor": "#E5ECF6",
            "gridcolor": "white",
            "gridwidth": 2,
            "linecolor": "white",
            "showbackground": true,
            "ticks": "",
            "zerolinecolor": "white"
           },
           "zaxis": {
            "backgroundcolor": "#E5ECF6",
            "gridcolor": "white",
            "gridwidth": 2,
            "linecolor": "white",
            "showbackground": true,
            "ticks": "",
            "zerolinecolor": "white"
           }
          },
          "shapedefaults": {
           "line": {
            "color": "#2a3f5f"
           }
          },
          "ternary": {
           "aaxis": {
            "gridcolor": "white",
            "linecolor": "white",
            "ticks": ""
           },
           "baxis": {
            "gridcolor": "white",
            "linecolor": "white",
            "ticks": ""
           },
           "bgcolor": "#E5ECF6",
           "caxis": {
            "gridcolor": "white",
            "linecolor": "white",
            "ticks": ""
           }
          },
          "title": {
           "x": 0.05
          },
          "xaxis": {
           "automargin": true,
           "gridcolor": "white",
           "linecolor": "white",
           "ticks": "",
           "title": {
            "standoff": 15
           },
           "zerolinecolor": "white",
           "zerolinewidth": 2
          },
          "yaxis": {
           "automargin": true,
           "gridcolor": "white",
           "linecolor": "white",
           "ticks": "",
           "title": {
            "standoff": 15
           },
           "zerolinecolor": "white",
           "zerolinewidth": 2
          }
         }
        },
        "title": {
         "text": "Dropouts vs enrollments"
        },
        "width": 1000,
        "xaxis": {
         "anchor": "y",
         "domain": [
          0,
          1
         ],
         "title": {
          "text": "Enrollments(%)"
         },
         "type": "log"
        },
        "yaxis": {
         "anchor": "x",
         "domain": [
          0,
          1
         ],
         "title": {
          "text": "Dropouts(%)"
         }
        }
       }
      }
     },
     "metadata": {}
    }
   ],
   "metadata": {}
  },
  {
   "cell_type": "markdown",
   "source": [
    "`Observations:`\n",
    "\n",
    "* UP has the highest student to teacher ratio. It also has low enrollment rate\n",
    "* Bihar has low enrollment and high dropout rate. They also have a high student to teacher ratio."
   ],
   "metadata": {}
  },
  {
   "cell_type": "code",
   "execution_count": 10,
   "source": [
    "retention_in_secondary = enrollments_x.Secondary_Total * (100-dropouts_x.SECONDARY_TOTAL)/100\r\n",
    "col = lambda x : 1 if x<=60 else (2 if x <=80 else (3 if x<=90 else 4))\r\n",
    "retention_in_secondary = pd.DataFrame(retention_in_secondary)\r\n",
    "retention_in_secondary = pd.concat([states,retention_in_secondary],axis=1)\r\n",
    "retention_in_secondary.columns=['State','Retention(%)']\r\n",
    "retention_in_secondary['Retention(%)'][retention_in_secondary.State=='Chandigarh']=enrollments_x.Secondary_Total[5]\r\n",
    "retention_in_secondary['color'] = retention_in_secondary['Retention(%)'].apply(col)"
   ],
   "outputs": [
    {
     "output_type": "stream",
     "name": "stderr",
     "text": [
      "<ipython-input-10-77be162982c4>:6: SettingWithCopyWarning: \n",
      "A value is trying to be set on a copy of a slice from a DataFrame\n",
      "\n",
      "See the caveats in the documentation: https://pandas.pydata.org/pandas-docs/stable/user_guide/indexing.html#returning-a-view-versus-a-copy\n",
      "  retention_in_secondary['Retention(%)'][retention_in_secondary.State=='Chandigarh']=enrollments_x.Secondary_Total[5]\n"
     ]
    }
   ],
   "metadata": {}
  },
  {
   "cell_type": "code",
   "execution_count": 18,
   "source": [
    "retention_in_secondary['Retention(%)'].iloc[[13,18]]=100\r\n",
    "retention_in_secondary"
   ],
   "outputs": [
    {
     "output_type": "execute_result",
     "data": {
      "text/plain": [
       "                        State  Retention(%)  color\n",
       "0   Andaman & Nicobar Islands     86.209678      3\n",
       "1              Andhra Pradesh     64.186268      2\n",
       "2           Arunachal Pradesh     76.044903      2\n",
       "3                       Assam     53.594610      1\n",
       "4                       Bihar     50.416078      1\n",
       "5                  Chandigarh     89.663333      3\n",
       "6                Chhattisgarh     77.949686      2\n",
       "7        Dadra & Nagar Haveli     66.587632      2\n",
       "8                 Daman & Diu     58.220883      1\n",
       "9                       Delhi     95.210663      4\n",
       "10                        Goa     97.807255      4\n",
       "11                    Gujarat     59.409118      1\n",
       "12                    Haryana     74.315624      2\n",
       "13           Himachal Pradesh    100.000000      4\n",
       "14          Jammu And Kashmir     55.303858      1\n",
       "15                  Jharkhand     56.152864      1\n",
       "16                  Karnataka     55.596765      1\n",
       "17                     Kerala     90.323640      4\n",
       "18                Lakshadweep    100.000000      4\n",
       "19             Madhya Pradesh     63.751581      2\n",
       "20                Maharashtra     75.467629      2\n",
       "21                    Manipur     78.032733      2\n",
       "22                  Meghalaya     61.271271      2\n",
       "23                    Mizoram     85.624467      3\n",
       "24                   Nagaland     49.996065      1\n",
       "25                     Odisha     44.003118      1\n",
       "26                 Puducherry     81.991981      3\n",
       "27                     Punjab     78.434434      2\n",
       "28                  Rajasthan     65.190767      2\n",
       "29                     Sikkim     95.891251      4\n",
       "30                 Tamil Nadu     83.338383      3\n",
       "31                  Telangana     75.626174      2\n",
       "32                    Tripura     83.598453      3\n",
       "33              Uttar Pradesh     67.066364      2\n",
       "34                Uttarakhand     74.203400      2\n",
       "35                West Bengal     66.252695      2"
      ],
      "text/html": [
       "<div>\n",
       "<style scoped>\n",
       "    .dataframe tbody tr th:only-of-type {\n",
       "        vertical-align: middle;\n",
       "    }\n",
       "\n",
       "    .dataframe tbody tr th {\n",
       "        vertical-align: top;\n",
       "    }\n",
       "\n",
       "    .dataframe thead th {\n",
       "        text-align: right;\n",
       "    }\n",
       "</style>\n",
       "<table border=\"1\" class=\"dataframe\">\n",
       "  <thead>\n",
       "    <tr style=\"text-align: right;\">\n",
       "      <th></th>\n",
       "      <th>State</th>\n",
       "      <th>Retention(%)</th>\n",
       "      <th>color</th>\n",
       "    </tr>\n",
       "  </thead>\n",
       "  <tbody>\n",
       "    <tr>\n",
       "      <th>0</th>\n",
       "      <td>Andaman &amp; Nicobar Islands</td>\n",
       "      <td>86.209678</td>\n",
       "      <td>3</td>\n",
       "    </tr>\n",
       "    <tr>\n",
       "      <th>1</th>\n",
       "      <td>Andhra Pradesh</td>\n",
       "      <td>64.186268</td>\n",
       "      <td>2</td>\n",
       "    </tr>\n",
       "    <tr>\n",
       "      <th>2</th>\n",
       "      <td>Arunachal Pradesh</td>\n",
       "      <td>76.044903</td>\n",
       "      <td>2</td>\n",
       "    </tr>\n",
       "    <tr>\n",
       "      <th>3</th>\n",
       "      <td>Assam</td>\n",
       "      <td>53.594610</td>\n",
       "      <td>1</td>\n",
       "    </tr>\n",
       "    <tr>\n",
       "      <th>4</th>\n",
       "      <td>Bihar</td>\n",
       "      <td>50.416078</td>\n",
       "      <td>1</td>\n",
       "    </tr>\n",
       "    <tr>\n",
       "      <th>5</th>\n",
       "      <td>Chandigarh</td>\n",
       "      <td>89.663333</td>\n",
       "      <td>3</td>\n",
       "    </tr>\n",
       "    <tr>\n",
       "      <th>6</th>\n",
       "      <td>Chhattisgarh</td>\n",
       "      <td>77.949686</td>\n",
       "      <td>2</td>\n",
       "    </tr>\n",
       "    <tr>\n",
       "      <th>7</th>\n",
       "      <td>Dadra &amp; Nagar Haveli</td>\n",
       "      <td>66.587632</td>\n",
       "      <td>2</td>\n",
       "    </tr>\n",
       "    <tr>\n",
       "      <th>8</th>\n",
       "      <td>Daman &amp; Diu</td>\n",
       "      <td>58.220883</td>\n",
       "      <td>1</td>\n",
       "    </tr>\n",
       "    <tr>\n",
       "      <th>9</th>\n",
       "      <td>Delhi</td>\n",
       "      <td>95.210663</td>\n",
       "      <td>4</td>\n",
       "    </tr>\n",
       "    <tr>\n",
       "      <th>10</th>\n",
       "      <td>Goa</td>\n",
       "      <td>97.807255</td>\n",
       "      <td>4</td>\n",
       "    </tr>\n",
       "    <tr>\n",
       "      <th>11</th>\n",
       "      <td>Gujarat</td>\n",
       "      <td>59.409118</td>\n",
       "      <td>1</td>\n",
       "    </tr>\n",
       "    <tr>\n",
       "      <th>12</th>\n",
       "      <td>Haryana</td>\n",
       "      <td>74.315624</td>\n",
       "      <td>2</td>\n",
       "    </tr>\n",
       "    <tr>\n",
       "      <th>13</th>\n",
       "      <td>Himachal Pradesh</td>\n",
       "      <td>100.000000</td>\n",
       "      <td>4</td>\n",
       "    </tr>\n",
       "    <tr>\n",
       "      <th>14</th>\n",
       "      <td>Jammu And Kashmir</td>\n",
       "      <td>55.303858</td>\n",
       "      <td>1</td>\n",
       "    </tr>\n",
       "    <tr>\n",
       "      <th>15</th>\n",
       "      <td>Jharkhand</td>\n",
       "      <td>56.152864</td>\n",
       "      <td>1</td>\n",
       "    </tr>\n",
       "    <tr>\n",
       "      <th>16</th>\n",
       "      <td>Karnataka</td>\n",
       "      <td>55.596765</td>\n",
       "      <td>1</td>\n",
       "    </tr>\n",
       "    <tr>\n",
       "      <th>17</th>\n",
       "      <td>Kerala</td>\n",
       "      <td>90.323640</td>\n",
       "      <td>4</td>\n",
       "    </tr>\n",
       "    <tr>\n",
       "      <th>18</th>\n",
       "      <td>Lakshadweep</td>\n",
       "      <td>100.000000</td>\n",
       "      <td>4</td>\n",
       "    </tr>\n",
       "    <tr>\n",
       "      <th>19</th>\n",
       "      <td>Madhya Pradesh</td>\n",
       "      <td>63.751581</td>\n",
       "      <td>2</td>\n",
       "    </tr>\n",
       "    <tr>\n",
       "      <th>20</th>\n",
       "      <td>Maharashtra</td>\n",
       "      <td>75.467629</td>\n",
       "      <td>2</td>\n",
       "    </tr>\n",
       "    <tr>\n",
       "      <th>21</th>\n",
       "      <td>Manipur</td>\n",
       "      <td>78.032733</td>\n",
       "      <td>2</td>\n",
       "    </tr>\n",
       "    <tr>\n",
       "      <th>22</th>\n",
       "      <td>Meghalaya</td>\n",
       "      <td>61.271271</td>\n",
       "      <td>2</td>\n",
       "    </tr>\n",
       "    <tr>\n",
       "      <th>23</th>\n",
       "      <td>Mizoram</td>\n",
       "      <td>85.624467</td>\n",
       "      <td>3</td>\n",
       "    </tr>\n",
       "    <tr>\n",
       "      <th>24</th>\n",
       "      <td>Nagaland</td>\n",
       "      <td>49.996065</td>\n",
       "      <td>1</td>\n",
       "    </tr>\n",
       "    <tr>\n",
       "      <th>25</th>\n",
       "      <td>Odisha</td>\n",
       "      <td>44.003118</td>\n",
       "      <td>1</td>\n",
       "    </tr>\n",
       "    <tr>\n",
       "      <th>26</th>\n",
       "      <td>Puducherry</td>\n",
       "      <td>81.991981</td>\n",
       "      <td>3</td>\n",
       "    </tr>\n",
       "    <tr>\n",
       "      <th>27</th>\n",
       "      <td>Punjab</td>\n",
       "      <td>78.434434</td>\n",
       "      <td>2</td>\n",
       "    </tr>\n",
       "    <tr>\n",
       "      <th>28</th>\n",
       "      <td>Rajasthan</td>\n",
       "      <td>65.190767</td>\n",
       "      <td>2</td>\n",
       "    </tr>\n",
       "    <tr>\n",
       "      <th>29</th>\n",
       "      <td>Sikkim</td>\n",
       "      <td>95.891251</td>\n",
       "      <td>4</td>\n",
       "    </tr>\n",
       "    <tr>\n",
       "      <th>30</th>\n",
       "      <td>Tamil Nadu</td>\n",
       "      <td>83.338383</td>\n",
       "      <td>3</td>\n",
       "    </tr>\n",
       "    <tr>\n",
       "      <th>31</th>\n",
       "      <td>Telangana</td>\n",
       "      <td>75.626174</td>\n",
       "      <td>2</td>\n",
       "    </tr>\n",
       "    <tr>\n",
       "      <th>32</th>\n",
       "      <td>Tripura</td>\n",
       "      <td>83.598453</td>\n",
       "      <td>3</td>\n",
       "    </tr>\n",
       "    <tr>\n",
       "      <th>33</th>\n",
       "      <td>Uttar Pradesh</td>\n",
       "      <td>67.066364</td>\n",
       "      <td>2</td>\n",
       "    </tr>\n",
       "    <tr>\n",
       "      <th>34</th>\n",
       "      <td>Uttarakhand</td>\n",
       "      <td>74.203400</td>\n",
       "      <td>2</td>\n",
       "    </tr>\n",
       "    <tr>\n",
       "      <th>35</th>\n",
       "      <td>West Bengal</td>\n",
       "      <td>66.252695</td>\n",
       "      <td>2</td>\n",
       "    </tr>\n",
       "  </tbody>\n",
       "</table>\n",
       "</div>"
      ]
     },
     "metadata": {},
     "execution_count": 18
    }
   ],
   "metadata": {}
  },
  {
   "cell_type": "code",
   "execution_count": 19,
   "source": [
    "figx=px.scatter(data_frame= retention_in_secondary, x = 'Retention(%)', hover_name ='State' , color='color', color_continuous_scale='turbo',title=\"Retention rates in secondary school\")\r\n",
    "figx.update_layout(showlegend=False)\r\n",
    "\r\n",
    "r2 = dp.Report(\r\n",
    "  dp.Plot(figx) #create a chart\r\n",
    ").publish(name='Retention', visibility=dp.Visibility.PUBLIC,open=True) #Publish the report\r\n",
    "figx.show()"
   ],
   "outputs": [
    {
     "output_type": "display_data",
     "data": {
      "text/plain": [
       "<IPython.core.display.Markdown object>"
      ],
      "text/markdown": [
       "Publishing document and associated data - *please wait...*"
      ]
     },
     "metadata": {}
    },
    {
     "output_type": "display_data",
     "data": {
      "text/plain": [
       "<IPython.core.display.Markdown object>"
      ],
      "text/markdown": [
       "Your report doesn't contain any text - did you know you can add text to your report from your browser once published?"
      ]
     },
     "metadata": {}
    },
    {
     "output_type": "display_data",
     "data": {
      "text/plain": [
       "<IPython.core.display.Markdown object>"
      ],
      "text/markdown": [
       "Your report only contains a single element - did you know you can add multiple plots and tables to a report, add text to it and export directly to Medium once published?"
      ]
     },
     "metadata": {}
    }
   ],
   "metadata": {}
  },
  {
   "cell_type": "markdown",
   "source": [
    "## Other factors in schooling"
   ],
   "metadata": {}
  },
  {
   "cell_type": "code",
   "execution_count": 13,
   "source": [
    "prim=['Drinking water']*36\r\n",
    "uprim=['Electricity']*36\r\n",
    "uuprim=['Computer']*36\r\n",
    "sec=['Boys toilet']*36\r\n",
    "usec=['Girls toilet']*36\r\n",
    "lis=prim+uprim+uuprim+sec+usec\r\n",
    "\r\n",
    "datas_facts=pd.DataFrame({'Mean percentage(%)':pd.concat([factors['Drinking water'],factors['Electricity'],factors['Computer'],factors['Boys toilet'], factors['Girls toilet']],axis=0), 'Factor':lis,'State':list(states['State'])*5})\r\n",
    "\r\n",
    "figy=px.box(data_frame=datas_facts,x='Mean percentage(%)', y='Factor',hover_name='State',color='Factor', title=\"Presence of factors in school\")\r\n",
    "figy.update_layout(showlegend=False)\r\n",
    "\r\n",
    "r = dp.Report(\r\n",
    "  dp.Markdown('Presence of factors in school'), #add description to the report\r\n",
    "  dp.Plot(figy) #create a chart\r\n",
    ").publish(name='Factors', visibility=dp.Visibility.PUBLIC,open=True) #Publish the report\r\n",
    "figy.show()"
   ],
   "outputs": [
    {
     "output_type": "display_data",
     "data": {
      "text/plain": [
       "<IPython.core.display.Markdown object>"
      ],
      "text/markdown": [
       "Publishing document and associated data - *please wait...*"
      ]
     },
     "metadata": {}
    },
    {
     "output_type": "display_data",
     "data": {
      "text/plain": [
       "<IPython.core.display.Markdown object>"
      ],
      "text/markdown": [
       "Report successfully published at https://datapane.com/u/anupammisra/reports/factors/ - you can edit and add additional text online"
      ]
     },
     "metadata": {}
    },
    {
     "output_type": "display_data",
     "data": {
      "application/vnd.plotly.v1+json": {
       "config": {
        "plotlyServerURL": "https://plot.ly"
       },
       "data": [
        {
         "alignmentgroup": "True",
         "hovertemplate": "<b>%{hovertext}</b><br><br>Factor=%{y}<br>Mean percentage(%)=%{x}<extra></extra>",
         "hovertext": [
          "Andaman & Nicobar Islands",
          "Andhra Pradesh",
          "Arunachal Pradesh",
          "Assam",
          "Bihar",
          "Chandigarh",
          "Chhattisgarh",
          "Dadra & Nagar Haveli",
          "Daman & Diu",
          "Delhi",
          "Goa",
          "Gujarat",
          "Haryana",
          "Himachal Pradesh",
          "Jammu And Kashmir",
          "Jharkhand",
          "Karnataka",
          "Kerala",
          "Lakshadweep",
          "Madhya Pradesh",
          "Maharashtra",
          "Manipur",
          "Meghalaya",
          "Mizoram",
          "Nagaland",
          "Odisha",
          "Puducherry",
          "Punjab",
          "Rajasthan",
          "Sikkim",
          "Tamil Nadu",
          "Telangana",
          "Tripura",
          "Uttar Pradesh",
          "Uttarakhand",
          "West Bengal"
         ],
         "legendgroup": "Drinking water",
         "marker": {
          "color": "#636efa"
         },
         "name": "Drinking water",
         "notched": false,
         "offsetgroup": "Drinking water",
         "orientation": "h",
         "showlegend": true,
         "type": "box",
         "x": [
          99.40333333333332,
          93.15333333333332,
          80.63333333333334,
          83.29,
          93.23333333333333,
          100,
          97.18666666666667,
          100,
          100,
          100,
          99.28000000000002,
          99.93333333333334,
          99.84333333333332,
          99.33333333333333,
          91.04,
          92.29333333333334,
          99.75,
          99.54666666666667,
          100,
          96.24333333333334,
          99.56333333333333,
          92.43666666666667,
          63.10333333333333,
          92.90666666666668,
          77.52333333333333,
          98.08999999999999,
          99.91000000000001,
          99.90666666666668,
          96.74333333333334,
          97.62,
          99.92333333333333,
          90.69333333333333,
          92.33,
          97.67333333333333,
          96.44,
          98.17500000000001
         ],
         "x0": " ",
         "xaxis": "x",
         "y": [
          "Drinking water",
          "Drinking water",
          "Drinking water",
          "Drinking water",
          "Drinking water",
          "Drinking water",
          "Drinking water",
          "Drinking water",
          "Drinking water",
          "Drinking water",
          "Drinking water",
          "Drinking water",
          "Drinking water",
          "Drinking water",
          "Drinking water",
          "Drinking water",
          "Drinking water",
          "Drinking water",
          "Drinking water",
          "Drinking water",
          "Drinking water",
          "Drinking water",
          "Drinking water",
          "Drinking water",
          "Drinking water",
          "Drinking water",
          "Drinking water",
          "Drinking water",
          "Drinking water",
          "Drinking water",
          "Drinking water",
          "Drinking water",
          "Drinking water",
          "Drinking water",
          "Drinking water",
          "Drinking water"
         ],
         "y0": " ",
         "yaxis": "y"
        },
        {
         "alignmentgroup": "True",
         "hovertemplate": "<b>%{hovertext}</b><br><br>Factor=%{y}<br>Mean percentage(%)=%{x}<extra></extra>",
         "hovertext": [
          "Andaman & Nicobar Islands",
          "Andhra Pradesh",
          "Arunachal Pradesh",
          "Assam",
          "Bihar",
          "Chandigarh",
          "Chhattisgarh",
          "Dadra & Nagar Haveli",
          "Daman & Diu",
          "Delhi",
          "Goa",
          "Gujarat",
          "Haryana",
          "Himachal Pradesh",
          "Jammu And Kashmir",
          "Jharkhand",
          "Karnataka",
          "Kerala",
          "Lakshadweep",
          "Madhya Pradesh",
          "Maharashtra",
          "Manipur",
          "Meghalaya",
          "Mizoram",
          "Nagaland",
          "Odisha",
          "Puducherry",
          "Punjab",
          "Rajasthan",
          "Sikkim",
          "Tamil Nadu",
          "Telangana",
          "Tripura",
          "Uttar Pradesh",
          "Uttarakhand",
          "West Bengal"
         ],
         "legendgroup": "Electricity",
         "marker": {
          "color": "#EF553B"
         },
         "name": "Electricity",
         "notched": false,
         "offsetgroup": "Electricity",
         "orientation": "h",
         "showlegend": true,
         "type": "box",
         "x": [
          89.28333333333335,
          92.2,
          38.163333333333334,
          22.44666666666667,
          24.320000000000004,
          100,
          65.60666666666667,
          98.44666666666667,
          100,
          100,
          98.92,
          99.72333333333334,
          98.86666666666667,
          95.12,
          26.94333333333333,
          17.926666666666666,
          97.51333333333334,
          96.85000000000001,
          100,
          28.453333333333333,
          93.54,
          33.63333333333333,
          26.583333333333332,
          75.07000000000001,
          43.9,
          30.213333333333335,
          100,
          99.89333333333333,
          54.67333333333334,
          74.66333333333333,
          98.41666666666667,
          69.19,
          36.846666666666664,
          60.68666666666667,
          66.11666666666666,
          65.92
         ],
         "x0": " ",
         "xaxis": "x",
         "y": [
          "Electricity",
          "Electricity",
          "Electricity",
          "Electricity",
          "Electricity",
          "Electricity",
          "Electricity",
          "Electricity",
          "Electricity",
          "Electricity",
          "Electricity",
          "Electricity",
          "Electricity",
          "Electricity",
          "Electricity",
          "Electricity",
          "Electricity",
          "Electricity",
          "Electricity",
          "Electricity",
          "Electricity",
          "Electricity",
          "Electricity",
          "Electricity",
          "Electricity",
          "Electricity",
          "Electricity",
          "Electricity",
          "Electricity",
          "Electricity",
          "Electricity",
          "Electricity",
          "Electricity",
          "Electricity",
          "Electricity",
          "Electricity"
         ],
         "y0": " ",
         "yaxis": "y"
        },
        {
         "alignmentgroup": "True",
         "hovertemplate": "<b>%{hovertext}</b><br><br>Factor=%{y}<br>Mean percentage(%)=%{x}<extra></extra>",
         "hovertext": [
          "Andaman & Nicobar Islands",
          "Andhra Pradesh",
          "Arunachal Pradesh",
          "Assam",
          "Bihar",
          "Chandigarh",
          "Chhattisgarh",
          "Dadra & Nagar Haveli",
          "Daman & Diu",
          "Delhi",
          "Goa",
          "Gujarat",
          "Haryana",
          "Himachal Pradesh",
          "Jammu And Kashmir",
          "Jharkhand",
          "Karnataka",
          "Kerala",
          "Lakshadweep",
          "Madhya Pradesh",
          "Maharashtra",
          "Manipur",
          "Meghalaya",
          "Mizoram",
          "Nagaland",
          "Odisha",
          "Puducherry",
          "Punjab",
          "Rajasthan",
          "Sikkim",
          "Tamil Nadu",
          "Telangana",
          "Tripura",
          "Uttar Pradesh",
          "Uttarakhand",
          "West Bengal"
         ],
         "legendgroup": "Computer",
         "marker": {
          "color": "#00cc96"
         },
         "name": "Computer",
         "notched": false,
         "offsetgroup": "Computer",
         "orientation": "h",
         "showlegend": true,
         "type": "box",
         "x": [
          55.77,
          29.406666666666666,
          24.439999999999998,
          9.813333333333333,
          7.676666666666667,
          95.26333333333332,
          11.459999999999999,
          40.32,
          63.81999999999999,
          82.14999999999999,
          42.95333333333334,
          74.26666666666667,
          45.696666666666665,
          24.113333333333333,
          17.536666666666665,
          9.643333333333333,
          37.76,
          93.63333333333333,
          100,
          14.26,
          56.50333333333333,
          25.986666666666665,
          10.453333333333333,
          30.823333333333334,
          36.92333333333334,
          13.11,
          98.06666666666666,
          52.426666666666655,
          27.393333333333334,
          57.416666666666664,
          56.346666666666664,
          28.27,
          13.959999999999999,
          19.333333333333332,
          25.759999999999994,
          12.4
         ],
         "x0": " ",
         "xaxis": "x",
         "y": [
          "Computer",
          "Computer",
          "Computer",
          "Computer",
          "Computer",
          "Computer",
          "Computer",
          "Computer",
          "Computer",
          "Computer",
          "Computer",
          "Computer",
          "Computer",
          "Computer",
          "Computer",
          "Computer",
          "Computer",
          "Computer",
          "Computer",
          "Computer",
          "Computer",
          "Computer",
          "Computer",
          "Computer",
          "Computer",
          "Computer",
          "Computer",
          "Computer",
          "Computer",
          "Computer",
          "Computer",
          "Computer",
          "Computer",
          "Computer",
          "Computer",
          "Computer"
         ],
         "y0": " ",
         "yaxis": "y"
        },
        {
         "alignmentgroup": "True",
         "hovertemplate": "<b>%{hovertext}</b><br><br>Factor=%{y}<br>Mean percentage(%)=%{x}<extra></extra>",
         "hovertext": [
          "Andaman & Nicobar Islands",
          "Andhra Pradesh",
          "Arunachal Pradesh",
          "Assam",
          "Bihar",
          "Chandigarh",
          "Chhattisgarh",
          "Dadra & Nagar Haveli",
          "Daman & Diu",
          "Delhi",
          "Goa",
          "Gujarat",
          "Haryana",
          "Himachal Pradesh",
          "Jammu And Kashmir",
          "Jharkhand",
          "Karnataka",
          "Kerala",
          "Lakshadweep",
          "Madhya Pradesh",
          "Maharashtra",
          "Manipur",
          "Meghalaya",
          "Mizoram",
          "Nagaland",
          "Odisha",
          "Puducherry",
          "Punjab",
          "Rajasthan",
          "Sikkim",
          "Tamil Nadu",
          "Telangana",
          "Tripura",
          "Uttar Pradesh",
          "Uttarakhand",
          "West Bengal"
         ],
         "legendgroup": "Boys toilet",
         "marker": {
          "color": "#ab63fa"
         },
         "name": "Boys toilet",
         "notched": false,
         "offsetgroup": "Boys toilet",
         "orientation": "h",
         "showlegend": true,
         "type": "box",
         "x": [
          98.17333333333333,
          73.97,
          80.11666666666666,
          65.92333333333333,
          78.83333333333333,
          100,
          85.80333333333333,
          93.62333333333333,
          100,
          100,
          92.63999999999999,
          98.75666666666666,
          97.23,
          96.60333333333334,
          77.74666666666667,
          89.43666666666667,
          99.47666666666667,
          97.33666666666666,
          100,
          92.83999999999999,
          98.88666666666666,
          96.30000000000001,
          68.19666666666667,
          89.52333333333333,
          93.74333333333334,
          84.27,
          99.90333333333332,
          97.99666666666667,
          97.37666666666667,
          98.34666666666665,
          96.65000000000002,
          88.17999999999999,
          98.79333333333334,
          97.64999999999999,
          91.77,
          93.815
         ],
         "x0": " ",
         "xaxis": "x",
         "y": [
          "Boys toilet",
          "Boys toilet",
          "Boys toilet",
          "Boys toilet",
          "Boys toilet",
          "Boys toilet",
          "Boys toilet",
          "Boys toilet",
          "Boys toilet",
          "Boys toilet",
          "Boys toilet",
          "Boys toilet",
          "Boys toilet",
          "Boys toilet",
          "Boys toilet",
          "Boys toilet",
          "Boys toilet",
          "Boys toilet",
          "Boys toilet",
          "Boys toilet",
          "Boys toilet",
          "Boys toilet",
          "Boys toilet",
          "Boys toilet",
          "Boys toilet",
          "Boys toilet",
          "Boys toilet",
          "Boys toilet",
          "Boys toilet",
          "Boys toilet",
          "Boys toilet",
          "Boys toilet",
          "Boys toilet",
          "Boys toilet",
          "Boys toilet",
          "Boys toilet"
         ],
         "y0": " ",
         "yaxis": "y"
        },
        {
         "alignmentgroup": "True",
         "hovertemplate": "<b>%{hovertext}</b><br><br>Factor=%{y}<br>Mean percentage(%)=%{x}<extra></extra>",
         "hovertext": [
          "Andaman & Nicobar Islands",
          "Andhra Pradesh",
          "Arunachal Pradesh",
          "Assam",
          "Bihar",
          "Chandigarh",
          "Chhattisgarh",
          "Dadra & Nagar Haveli",
          "Daman & Diu",
          "Delhi",
          "Goa",
          "Gujarat",
          "Haryana",
          "Himachal Pradesh",
          "Jammu And Kashmir",
          "Jharkhand",
          "Karnataka",
          "Kerala",
          "Lakshadweep",
          "Madhya Pradesh",
          "Maharashtra",
          "Manipur",
          "Meghalaya",
          "Mizoram",
          "Nagaland",
          "Odisha",
          "Puducherry",
          "Punjab",
          "Rajasthan",
          "Sikkim",
          "Tamil Nadu",
          "Telangana",
          "Tripura",
          "Uttar Pradesh",
          "Uttarakhand",
          "West Bengal"
         ],
         "legendgroup": "Girls toilet",
         "marker": {
          "color": "#FFA15A"
         },
         "name": "Girls toilet",
         "notched": false,
         "offsetgroup": "Girls toilet",
         "orientation": "h",
         "showlegend": true,
         "type": "box",
         "x": [
          97.81333333333333,
          93.03333333333335,
          90.11666666666667,
          78.02666666666666,
          80.58666666666666,
          100,
          95.08666666666666,
          97.83,
          100,
          100,
          99.24333333333334,
          99.83999999999999,
          98.58333333333333,
          98.27,
          83.20666666666666,
          90.58333333333333,
          99.69,
          98.11000000000001,
          100,
          93.08666666666666,
          99.05333333333333,
          97.47333333333334,
          66.38666666666667,
          99.57,
          98.77999999999999,
          90.46666666666665,
          100,
          98.90666666666665,
          98.52333333333333,
          99.33,
          98.83999999999999,
          93.74333333333334,
          99.46666666666665,
          98.19333333333333,
          91.74333333333334,
          95.355
         ],
         "x0": " ",
         "xaxis": "x",
         "y": [
          "Girls toilet",
          "Girls toilet",
          "Girls toilet",
          "Girls toilet",
          "Girls toilet",
          "Girls toilet",
          "Girls toilet",
          "Girls toilet",
          "Girls toilet",
          "Girls toilet",
          "Girls toilet",
          "Girls toilet",
          "Girls toilet",
          "Girls toilet",
          "Girls toilet",
          "Girls toilet",
          "Girls toilet",
          "Girls toilet",
          "Girls toilet",
          "Girls toilet",
          "Girls toilet",
          "Girls toilet",
          "Girls toilet",
          "Girls toilet",
          "Girls toilet",
          "Girls toilet",
          "Girls toilet",
          "Girls toilet",
          "Girls toilet",
          "Girls toilet",
          "Girls toilet",
          "Girls toilet",
          "Girls toilet",
          "Girls toilet",
          "Girls toilet",
          "Girls toilet"
         ],
         "y0": " ",
         "yaxis": "y"
        }
       ],
       "layout": {
        "boxmode": "overlay",
        "legend": {
         "title": {
          "text": "Factor"
         },
         "tracegroupgap": 0
        },
        "showlegend": false,
        "template": {
         "data": {
          "bar": [
           {
            "error_x": {
             "color": "#2a3f5f"
            },
            "error_y": {
             "color": "#2a3f5f"
            },
            "marker": {
             "line": {
              "color": "#E5ECF6",
              "width": 0.5
             }
            },
            "type": "bar"
           }
          ],
          "barpolar": [
           {
            "marker": {
             "line": {
              "color": "#E5ECF6",
              "width": 0.5
             }
            },
            "type": "barpolar"
           }
          ],
          "carpet": [
           {
            "aaxis": {
             "endlinecolor": "#2a3f5f",
             "gridcolor": "white",
             "linecolor": "white",
             "minorgridcolor": "white",
             "startlinecolor": "#2a3f5f"
            },
            "baxis": {
             "endlinecolor": "#2a3f5f",
             "gridcolor": "white",
             "linecolor": "white",
             "minorgridcolor": "white",
             "startlinecolor": "#2a3f5f"
            },
            "type": "carpet"
           }
          ],
          "choropleth": [
           {
            "colorbar": {
             "outlinewidth": 0,
             "ticks": ""
            },
            "type": "choropleth"
           }
          ],
          "contour": [
           {
            "colorbar": {
             "outlinewidth": 0,
             "ticks": ""
            },
            "colorscale": [
             [
              0,
              "#0d0887"
             ],
             [
              0.1111111111111111,
              "#46039f"
             ],
             [
              0.2222222222222222,
              "#7201a8"
             ],
             [
              0.3333333333333333,
              "#9c179e"
             ],
             [
              0.4444444444444444,
              "#bd3786"
             ],
             [
              0.5555555555555556,
              "#d8576b"
             ],
             [
              0.6666666666666666,
              "#ed7953"
             ],
             [
              0.7777777777777778,
              "#fb9f3a"
             ],
             [
              0.8888888888888888,
              "#fdca26"
             ],
             [
              1,
              "#f0f921"
             ]
            ],
            "type": "contour"
           }
          ],
          "contourcarpet": [
           {
            "colorbar": {
             "outlinewidth": 0,
             "ticks": ""
            },
            "type": "contourcarpet"
           }
          ],
          "heatmap": [
           {
            "colorbar": {
             "outlinewidth": 0,
             "ticks": ""
            },
            "colorscale": [
             [
              0,
              "#0d0887"
             ],
             [
              0.1111111111111111,
              "#46039f"
             ],
             [
              0.2222222222222222,
              "#7201a8"
             ],
             [
              0.3333333333333333,
              "#9c179e"
             ],
             [
              0.4444444444444444,
              "#bd3786"
             ],
             [
              0.5555555555555556,
              "#d8576b"
             ],
             [
              0.6666666666666666,
              "#ed7953"
             ],
             [
              0.7777777777777778,
              "#fb9f3a"
             ],
             [
              0.8888888888888888,
              "#fdca26"
             ],
             [
              1,
              "#f0f921"
             ]
            ],
            "type": "heatmap"
           }
          ],
          "heatmapgl": [
           {
            "colorbar": {
             "outlinewidth": 0,
             "ticks": ""
            },
            "colorscale": [
             [
              0,
              "#0d0887"
             ],
             [
              0.1111111111111111,
              "#46039f"
             ],
             [
              0.2222222222222222,
              "#7201a8"
             ],
             [
              0.3333333333333333,
              "#9c179e"
             ],
             [
              0.4444444444444444,
              "#bd3786"
             ],
             [
              0.5555555555555556,
              "#d8576b"
             ],
             [
              0.6666666666666666,
              "#ed7953"
             ],
             [
              0.7777777777777778,
              "#fb9f3a"
             ],
             [
              0.8888888888888888,
              "#fdca26"
             ],
             [
              1,
              "#f0f921"
             ]
            ],
            "type": "heatmapgl"
           }
          ],
          "histogram": [
           {
            "marker": {
             "colorbar": {
              "outlinewidth": 0,
              "ticks": ""
             }
            },
            "type": "histogram"
           }
          ],
          "histogram2d": [
           {
            "colorbar": {
             "outlinewidth": 0,
             "ticks": ""
            },
            "colorscale": [
             [
              0,
              "#0d0887"
             ],
             [
              0.1111111111111111,
              "#46039f"
             ],
             [
              0.2222222222222222,
              "#7201a8"
             ],
             [
              0.3333333333333333,
              "#9c179e"
             ],
             [
              0.4444444444444444,
              "#bd3786"
             ],
             [
              0.5555555555555556,
              "#d8576b"
             ],
             [
              0.6666666666666666,
              "#ed7953"
             ],
             [
              0.7777777777777778,
              "#fb9f3a"
             ],
             [
              0.8888888888888888,
              "#fdca26"
             ],
             [
              1,
              "#f0f921"
             ]
            ],
            "type": "histogram2d"
           }
          ],
          "histogram2dcontour": [
           {
            "colorbar": {
             "outlinewidth": 0,
             "ticks": ""
            },
            "colorscale": [
             [
              0,
              "#0d0887"
             ],
             [
              0.1111111111111111,
              "#46039f"
             ],
             [
              0.2222222222222222,
              "#7201a8"
             ],
             [
              0.3333333333333333,
              "#9c179e"
             ],
             [
              0.4444444444444444,
              "#bd3786"
             ],
             [
              0.5555555555555556,
              "#d8576b"
             ],
             [
              0.6666666666666666,
              "#ed7953"
             ],
             [
              0.7777777777777778,
              "#fb9f3a"
             ],
             [
              0.8888888888888888,
              "#fdca26"
             ],
             [
              1,
              "#f0f921"
             ]
            ],
            "type": "histogram2dcontour"
           }
          ],
          "mesh3d": [
           {
            "colorbar": {
             "outlinewidth": 0,
             "ticks": ""
            },
            "type": "mesh3d"
           }
          ],
          "parcoords": [
           {
            "line": {
             "colorbar": {
              "outlinewidth": 0,
              "ticks": ""
             }
            },
            "type": "parcoords"
           }
          ],
          "pie": [
           {
            "automargin": true,
            "type": "pie"
           }
          ],
          "scatter": [
           {
            "marker": {
             "colorbar": {
              "outlinewidth": 0,
              "ticks": ""
             }
            },
            "type": "scatter"
           }
          ],
          "scatter3d": [
           {
            "line": {
             "colorbar": {
              "outlinewidth": 0,
              "ticks": ""
             }
            },
            "marker": {
             "colorbar": {
              "outlinewidth": 0,
              "ticks": ""
             }
            },
            "type": "scatter3d"
           }
          ],
          "scattercarpet": [
           {
            "marker": {
             "colorbar": {
              "outlinewidth": 0,
              "ticks": ""
             }
            },
            "type": "scattercarpet"
           }
          ],
          "scattergeo": [
           {
            "marker": {
             "colorbar": {
              "outlinewidth": 0,
              "ticks": ""
             }
            },
            "type": "scattergeo"
           }
          ],
          "scattergl": [
           {
            "marker": {
             "colorbar": {
              "outlinewidth": 0,
              "ticks": ""
             }
            },
            "type": "scattergl"
           }
          ],
          "scattermapbox": [
           {
            "marker": {
             "colorbar": {
              "outlinewidth": 0,
              "ticks": ""
             }
            },
            "type": "scattermapbox"
           }
          ],
          "scatterpolar": [
           {
            "marker": {
             "colorbar": {
              "outlinewidth": 0,
              "ticks": ""
             }
            },
            "type": "scatterpolar"
           }
          ],
          "scatterpolargl": [
           {
            "marker": {
             "colorbar": {
              "outlinewidth": 0,
              "ticks": ""
             }
            },
            "type": "scatterpolargl"
           }
          ],
          "scatterternary": [
           {
            "marker": {
             "colorbar": {
              "outlinewidth": 0,
              "ticks": ""
             }
            },
            "type": "scatterternary"
           }
          ],
          "surface": [
           {
            "colorbar": {
             "outlinewidth": 0,
             "ticks": ""
            },
            "colorscale": [
             [
              0,
              "#0d0887"
             ],
             [
              0.1111111111111111,
              "#46039f"
             ],
             [
              0.2222222222222222,
              "#7201a8"
             ],
             [
              0.3333333333333333,
              "#9c179e"
             ],
             [
              0.4444444444444444,
              "#bd3786"
             ],
             [
              0.5555555555555556,
              "#d8576b"
             ],
             [
              0.6666666666666666,
              "#ed7953"
             ],
             [
              0.7777777777777778,
              "#fb9f3a"
             ],
             [
              0.8888888888888888,
              "#fdca26"
             ],
             [
              1,
              "#f0f921"
             ]
            ],
            "type": "surface"
           }
          ],
          "table": [
           {
            "cells": {
             "fill": {
              "color": "#EBF0F8"
             },
             "line": {
              "color": "white"
             }
            },
            "header": {
             "fill": {
              "color": "#C8D4E3"
             },
             "line": {
              "color": "white"
             }
            },
            "type": "table"
           }
          ]
         },
         "layout": {
          "annotationdefaults": {
           "arrowcolor": "#2a3f5f",
           "arrowhead": 0,
           "arrowwidth": 1
          },
          "autotypenumbers": "strict",
          "coloraxis": {
           "colorbar": {
            "outlinewidth": 0,
            "ticks": ""
           }
          },
          "colorscale": {
           "diverging": [
            [
             0,
             "#8e0152"
            ],
            [
             0.1,
             "#c51b7d"
            ],
            [
             0.2,
             "#de77ae"
            ],
            [
             0.3,
             "#f1b6da"
            ],
            [
             0.4,
             "#fde0ef"
            ],
            [
             0.5,
             "#f7f7f7"
            ],
            [
             0.6,
             "#e6f5d0"
            ],
            [
             0.7,
             "#b8e186"
            ],
            [
             0.8,
             "#7fbc41"
            ],
            [
             0.9,
             "#4d9221"
            ],
            [
             1,
             "#276419"
            ]
           ],
           "sequential": [
            [
             0,
             "#0d0887"
            ],
            [
             0.1111111111111111,
             "#46039f"
            ],
            [
             0.2222222222222222,
             "#7201a8"
            ],
            [
             0.3333333333333333,
             "#9c179e"
            ],
            [
             0.4444444444444444,
             "#bd3786"
            ],
            [
             0.5555555555555556,
             "#d8576b"
            ],
            [
             0.6666666666666666,
             "#ed7953"
            ],
            [
             0.7777777777777778,
             "#fb9f3a"
            ],
            [
             0.8888888888888888,
             "#fdca26"
            ],
            [
             1,
             "#f0f921"
            ]
           ],
           "sequentialminus": [
            [
             0,
             "#0d0887"
            ],
            [
             0.1111111111111111,
             "#46039f"
            ],
            [
             0.2222222222222222,
             "#7201a8"
            ],
            [
             0.3333333333333333,
             "#9c179e"
            ],
            [
             0.4444444444444444,
             "#bd3786"
            ],
            [
             0.5555555555555556,
             "#d8576b"
            ],
            [
             0.6666666666666666,
             "#ed7953"
            ],
            [
             0.7777777777777778,
             "#fb9f3a"
            ],
            [
             0.8888888888888888,
             "#fdca26"
            ],
            [
             1,
             "#f0f921"
            ]
           ]
          },
          "colorway": [
           "#636efa",
           "#EF553B",
           "#00cc96",
           "#ab63fa",
           "#FFA15A",
           "#19d3f3",
           "#FF6692",
           "#B6E880",
           "#FF97FF",
           "#FECB52"
          ],
          "font": {
           "color": "#2a3f5f"
          },
          "geo": {
           "bgcolor": "white",
           "lakecolor": "white",
           "landcolor": "#E5ECF6",
           "showlakes": true,
           "showland": true,
           "subunitcolor": "white"
          },
          "hoverlabel": {
           "align": "left"
          },
          "hovermode": "closest",
          "mapbox": {
           "style": "light"
          },
          "paper_bgcolor": "white",
          "plot_bgcolor": "#E5ECF6",
          "polar": {
           "angularaxis": {
            "gridcolor": "white",
            "linecolor": "white",
            "ticks": ""
           },
           "bgcolor": "#E5ECF6",
           "radialaxis": {
            "gridcolor": "white",
            "linecolor": "white",
            "ticks": ""
           }
          },
          "scene": {
           "xaxis": {
            "backgroundcolor": "#E5ECF6",
            "gridcolor": "white",
            "gridwidth": 2,
            "linecolor": "white",
            "showbackground": true,
            "ticks": "",
            "zerolinecolor": "white"
           },
           "yaxis": {
            "backgroundcolor": "#E5ECF6",
            "gridcolor": "white",
            "gridwidth": 2,
            "linecolor": "white",
            "showbackground": true,
            "ticks": "",
            "zerolinecolor": "white"
           },
           "zaxis": {
            "backgroundcolor": "#E5ECF6",
            "gridcolor": "white",
            "gridwidth": 2,
            "linecolor": "white",
            "showbackground": true,
            "ticks": "",
            "zerolinecolor": "white"
           }
          },
          "shapedefaults": {
           "line": {
            "color": "#2a3f5f"
           }
          },
          "ternary": {
           "aaxis": {
            "gridcolor": "white",
            "linecolor": "white",
            "ticks": ""
           },
           "baxis": {
            "gridcolor": "white",
            "linecolor": "white",
            "ticks": ""
           },
           "bgcolor": "#E5ECF6",
           "caxis": {
            "gridcolor": "white",
            "linecolor": "white",
            "ticks": ""
           }
          },
          "title": {
           "x": 0.05
          },
          "xaxis": {
           "automargin": true,
           "gridcolor": "white",
           "linecolor": "white",
           "ticks": "",
           "title": {
            "standoff": 15
           },
           "zerolinecolor": "white",
           "zerolinewidth": 2
          },
          "yaxis": {
           "automargin": true,
           "gridcolor": "white",
           "linecolor": "white",
           "ticks": "",
           "title": {
            "standoff": 15
           },
           "zerolinecolor": "white",
           "zerolinewidth": 2
          }
         }
        },
        "title": {
         "text": "Presence of factors in school"
        },
        "xaxis": {
         "anchor": "y",
         "domain": [
          0,
          1
         ],
         "title": {
          "text": "Mean percentage(%)"
         }
        },
        "yaxis": {
         "anchor": "x",
         "categoryarray": [
          "Girls toilet",
          "Boys toilet",
          "Computer",
          "Electricity",
          "Drinking water"
         ],
         "categoryorder": "array",
         "domain": [
          0,
          1
         ],
         "title": {
          "text": "Factor"
         }
        }
       }
      }
     },
     "metadata": {}
    }
   ],
   "metadata": {}
  },
  {
   "cell_type": "code",
   "execution_count": 14,
   "source": [
    "stages= ['Primary','Upper_primary','Secondary','Higher_secondary']\r\n",
    "\r\n",
    "b_t = [90.48205607,\t82.0528972,\t47.04252336, 57.7953271]\r\n",
    "g_t = [93.83728972,\t87.60654206, 48.00429907, 56.09971963]\r\n",
    "e=[62.60271028,\t71.00336449, 53.25831776, 74.1571028]\r\n",
    "c=[21.07261682,\t47.78841121, 33.04831776, 44.17813084]\r\n",
    "dw=[93.69271028, 88.96682243, 65.32897196, 78.47168224]\r\n",
    "boys_t = pd.DataFrame(b_t, index=stages, columns=[\"Boys toilet\"])\r\n",
    "girls_t = pd.DataFrame(g_t, index=stages, columns=[\"Girls toilet\"])\r\n",
    "elecs = pd.DataFrame(e, index=stages, columns=[\"Electricity\"])\r\n",
    "dww = pd.DataFrame(dw, index=stages, columns=[\"Drinking water\"])\r\n",
    "comps = pd.DataFrame(c, index=stages, columns=[\"Computers\"])\r\n",
    "composite=pd.concat([boys_t, girls_t,dww,elecs,comps], axis=1)"
   ],
   "outputs": [],
   "metadata": {}
  },
  {
   "cell_type": "code",
   "execution_count": 15,
   "source": [
    "composite.transpose().style.background_gradient(cmap='RdPu')"
   ],
   "outputs": [
    {
     "output_type": "execute_result",
     "data": {
      "text/plain": [
       "<pandas.io.formats.style.Styler at 0x2b7e57f2bb0>"
      ],
      "text/html": [
       "<style  type=\"text/css\" >\n",
       "#T_0c12d_row0_col0{\n",
       "            background-color:  #5a006e;\n",
       "            color:  #f1f1f1;\n",
       "        }#T_0c12d_row0_col1{\n",
       "            background-color:  #8b0179;\n",
       "            color:  #f1f1f1;\n",
       "        }#T_0c12d_row0_col2{\n",
       "            background-color:  #f986ac;\n",
       "            color:  #000000;\n",
       "        }#T_0c12d_row0_col3{\n",
       "            background-color:  #f996b2;\n",
       "            color:  #000000;\n",
       "        }#T_0c12d_row1_col0,#T_0c12d_row2_col0,#T_0c12d_row2_col1,#T_0c12d_row2_col2,#T_0c12d_row2_col3{\n",
       "            background-color:  #49006a;\n",
       "            color:  #f1f1f1;\n",
       "        }#T_0c12d_row1_col1{\n",
       "            background-color:  #55006d;\n",
       "            color:  #f1f1f1;\n",
       "        }#T_0c12d_row1_col2{\n",
       "            background-color:  #f878a7;\n",
       "            color:  #000000;\n",
       "        }#T_0c12d_row1_col3{\n",
       "            background-color:  #faa8b8;\n",
       "            color:  #000000;\n",
       "        }#T_0c12d_row3_col0{\n",
       "            background-color:  #e84a9b;\n",
       "            color:  #000000;\n",
       "        }#T_0c12d_row3_col1{\n",
       "            background-color:  #ea4d9c;\n",
       "            color:  #000000;\n",
       "        }#T_0c12d_row3_col2{\n",
       "            background-color:  #dc3397;\n",
       "            color:  #f1f1f1;\n",
       "        }#T_0c12d_row3_col3{\n",
       "            background-color:  #7a0177;\n",
       "            color:  #f1f1f1;\n",
       "        }#T_0c12d_row4_col0,#T_0c12d_row4_col1,#T_0c12d_row4_col2,#T_0c12d_row4_col3{\n",
       "            background-color:  #fff7f3;\n",
       "            color:  #000000;\n",
       "        }</style><table id=\"T_0c12d_\" ><thead>    <tr>        <th class=\"blank level0\" ></th>        <th class=\"col_heading level0 col0\" >Primary</th>        <th class=\"col_heading level0 col1\" >Upper_primary</th>        <th class=\"col_heading level0 col2\" >Secondary</th>        <th class=\"col_heading level0 col3\" >Higher_secondary</th>    </tr></thead><tbody>\n",
       "                <tr>\n",
       "                        <th id=\"T_0c12d_level0_row0\" class=\"row_heading level0 row0\" >Boys toilet</th>\n",
       "                        <td id=\"T_0c12d_row0_col0\" class=\"data row0 col0\" >90.482056</td>\n",
       "                        <td id=\"T_0c12d_row0_col1\" class=\"data row0 col1\" >82.052897</td>\n",
       "                        <td id=\"T_0c12d_row0_col2\" class=\"data row0 col2\" >47.042523</td>\n",
       "                        <td id=\"T_0c12d_row0_col3\" class=\"data row0 col3\" >57.795327</td>\n",
       "            </tr>\n",
       "            <tr>\n",
       "                        <th id=\"T_0c12d_level0_row1\" class=\"row_heading level0 row1\" >Girls toilet</th>\n",
       "                        <td id=\"T_0c12d_row1_col0\" class=\"data row1 col0\" >93.837290</td>\n",
       "                        <td id=\"T_0c12d_row1_col1\" class=\"data row1 col1\" >87.606542</td>\n",
       "                        <td id=\"T_0c12d_row1_col2\" class=\"data row1 col2\" >48.004299</td>\n",
       "                        <td id=\"T_0c12d_row1_col3\" class=\"data row1 col3\" >56.099720</td>\n",
       "            </tr>\n",
       "            <tr>\n",
       "                        <th id=\"T_0c12d_level0_row2\" class=\"row_heading level0 row2\" >Drinking water</th>\n",
       "                        <td id=\"T_0c12d_row2_col0\" class=\"data row2 col0\" >93.692710</td>\n",
       "                        <td id=\"T_0c12d_row2_col1\" class=\"data row2 col1\" >88.966822</td>\n",
       "                        <td id=\"T_0c12d_row2_col2\" class=\"data row2 col2\" >65.328972</td>\n",
       "                        <td id=\"T_0c12d_row2_col3\" class=\"data row2 col3\" >78.471682</td>\n",
       "            </tr>\n",
       "            <tr>\n",
       "                        <th id=\"T_0c12d_level0_row3\" class=\"row_heading level0 row3\" >Electricity</th>\n",
       "                        <td id=\"T_0c12d_row3_col0\" class=\"data row3 col0\" >62.602710</td>\n",
       "                        <td id=\"T_0c12d_row3_col1\" class=\"data row3 col1\" >71.003364</td>\n",
       "                        <td id=\"T_0c12d_row3_col2\" class=\"data row3 col2\" >53.258318</td>\n",
       "                        <td id=\"T_0c12d_row3_col3\" class=\"data row3 col3\" >74.157103</td>\n",
       "            </tr>\n",
       "            <tr>\n",
       "                        <th id=\"T_0c12d_level0_row4\" class=\"row_heading level0 row4\" >Computers</th>\n",
       "                        <td id=\"T_0c12d_row4_col0\" class=\"data row4 col0\" >21.072617</td>\n",
       "                        <td id=\"T_0c12d_row4_col1\" class=\"data row4 col1\" >47.788411</td>\n",
       "                        <td id=\"T_0c12d_row4_col2\" class=\"data row4 col2\" >33.048318</td>\n",
       "                        <td id=\"T_0c12d_row4_col3\" class=\"data row4 col3\" >44.178131</td>\n",
       "            </tr>\n",
       "    </tbody></table>"
      ]
     },
     "metadata": {},
     "execution_count": 15
    }
   ],
   "metadata": {}
  },
  {
   "cell_type": "markdown",
   "source": [
    "# Hypothesis testing"
   ],
   "metadata": {}
  },
  {
   "cell_type": "markdown",
   "source": [
    "## Dropouts"
   ],
   "metadata": {}
  },
  {
   "cell_type": "markdown",
   "source": [
    "$$H_0 = Dropout\\ rates\\ of\\ girls\\ =\\ dropout\\ rates\\ of\\ boys$$\n",
    "$$H_A = Dropout\\ rates\\ of\\ girls\\ \\neq\\ dropout\\ rates\\ of\\ boys$$"
   ],
   "metadata": {}
  },
  {
   "cell_type": "markdown",
   "source": [
    "$$ t = \\frac{\\bar X_1 - \\bar X_2}{\\sqrt{\\frac{s_1^2}{n_1}+\\frac{s_2^2}{n_2}}} $$"
   ],
   "metadata": {}
  },
  {
   "cell_type": "code",
   "execution_count": 16,
   "source": [
    "g_m,g_sd=dropouts_girls.mean(), dropouts_girls.std()\r\n",
    "b_m,b_sd=dropouts_boys.mean(), dropouts_boys.std()\r\n",
    "\r\n",
    "Z = (g_m-b_m)/(g_sd**2/36+b_sd**2/36)\r\n",
    "\r\n",
    "#find p-value for two-tailed test\r\n",
    "s,p=scipy.stats.ttest_ind(dropouts_girls,dropouts_boys,alternative='two-sided')\r\n",
    "s,p"
   ],
   "outputs": [
    {
     "output_type": "execute_result",
     "data": {
      "text/plain": [
       "(-0.9810354738258853, 0.3299538292807268)"
      ]
     },
     "metadata": {},
     "execution_count": 16
    }
   ],
   "metadata": {}
  },
  {
   "cell_type": "markdown",
   "source": [
    "$$There\\ is\\ a\\ 32\\%\\ chance\\ of\\ boys'\\ and\\ girls'\\ dropout\\ rates\\ being\\ same. $$"
   ],
   "metadata": {}
  },
  {
   "cell_type": "markdown",
   "source": [
    "$$ANOVA\\\\ H_0\\ =\\ Dropout\\ rates\\ are\\ the\\ same\\ in\\ different\\ sections\\ of\\ school \\\\ H_A\\ =\\ Dropout\\ rates\\ are\\ different\\ in\\ different\\ sections\\ of\\ school$$"
   ],
   "metadata": {}
  },
  {
   "cell_type": "code",
   "execution_count": 17,
   "source": [
    "F, p = scipy.stats.f_oneway(dropouts_x['PRIMARY_TOTAL'],dropouts_x['UPPER_PRIMARY_TOTAL'],dropouts_x['SECONDARY_TOTAL'],dropouts_x['HRSECONDARY_TOTAL'])\r\n",
    "# Seeing if the overall model is significant\r\n",
    "print('F-Statistic=%.3f, p=%.3f' % (F, p))"
   ],
   "outputs": [
    {
     "output_type": "stream",
     "name": "stdout",
     "text": [
      "F-Statistic=45.282, p=0.000\n"
     ]
    }
   ],
   "metadata": {}
  },
  {
   "cell_type": "markdown",
   "source": [
    "The dropout rates are different in different sections of school"
   ],
   "metadata": {}
  },
  {
   "cell_type": "markdown",
   "source": [
    "## Enrollments"
   ],
   "metadata": {}
  },
  {
   "cell_type": "markdown",
   "source": [
    "$$H_0 = Enrollment\\ rates\\ of\\ girls\\ =\\ enrollment\\ rates\\ of\\ boys$$\n",
    "$$H_A = Enrollment\\ rates\\ of\\ girls\\ \\neq\\ enrollment\\ rates\\ of\\ boys$$"
   ],
   "metadata": {}
  },
  {
   "cell_type": "code",
   "execution_count": 18,
   "source": [
    "g_m,g_sd=enrollments_girls.mean(), enrollments_girls.std()\r\n",
    "b_m,b_sd=enrollments_boys.mean(), enrollments_boys.std()\r\n",
    "\r\n",
    "Z = (g_m-b_m)/(g_sd**2/36+b_sd**2/36)\r\n",
    "\r\n",
    "#find p-value for two-tailed test\r\n",
    "s,p=scipy.stats.ttest_ind(enrollments_girls,enrollments_boys,alternative='two-sided')\r\n",
    "s,p"
   ],
   "outputs": [
    {
     "output_type": "execute_result",
     "data": {
      "text/plain": [
       "(0.9242406257489818, 0.35853619885206833)"
      ]
     },
     "metadata": {},
     "execution_count": 18
    }
   ],
   "metadata": {}
  },
  {
   "cell_type": "markdown",
   "source": [
    "$$There\\ is\\ a\\ 36\\%\\ chance\\ of\\ boys'\\ and\\ girls'\\ enrollment\\ rates\\ being\\ same.$$"
   ],
   "metadata": {}
  },
  {
   "cell_type": "markdown",
   "source": [
    "$$ANOVA\\\\ H_0\\ =\\ Enrollment\\ rates\\ are\\ the\\ same\\ in\\ different\\ sections\\ of\\ school \\\\ H_A\\ =\\ Enrollment\\ rates\\ are\\ different\\ in\\ different\\ sections\\ of\\ school$$"
   ],
   "metadata": {}
  },
  {
   "cell_type": "code",
   "execution_count": 19,
   "source": [
    "F, p = scipy.stats.f_oneway(enrollments_x['Primary_Total'],enrollments_x['Upper_Primary_Total'],enrollments_x['Secondary_Total'],enrollments_x['Higher_Secondary_Total'])\r\n",
    "# Seeing if the overall model is significant\r\n",
    "print('F-Statistic=%.3f, p=%.3f' % (F, p))"
   ],
   "outputs": [
    {
     "output_type": "stream",
     "name": "stdout",
     "text": [
      "F-Statistic=56.868, p=0.000\n"
     ]
    }
   ],
   "metadata": {}
  },
  {
   "cell_type": "markdown",
   "source": [
    "The enrollment rates are different in different sections of school"
   ],
   "metadata": {}
  },
  {
   "cell_type": "markdown",
   "source": [
    "## Student to teacher ratio"
   ],
   "metadata": {}
  },
  {
   "cell_type": "markdown",
   "source": [
    "$$ANOVA\\\\ H_0\\ =\\ Student\\ to\\ teacher\\ ratio\\ is\\ the\\ same\\ in\\ primary,\\ upper\\ primary,\\ secondary\\ and\\ higher\\ secondary \\\\ H_A\\ =\\ Student\\ to\\ teacher\\ ratio\\ is\\ different\\ in\\ primary,\\ upper\\ primary,\\ secondary\\ and\\ higher\\ secondary$$"
   ],
   "metadata": {}
  },
  {
   "cell_type": "code",
   "execution_count": 20,
   "source": [
    "F, p = scipy.stats.f_oneway(ptr['Primary'],ptr['Upper Primary'],ptr['Secondary'],ptr['Higher Secondary'])\r\n",
    "# Seeing if the overall model is significant\r\n",
    "print('F-Statistic=%.3f, p=%.3f' % (F, p))"
   ],
   "outputs": [
    {
     "output_type": "stream",
     "name": "stdout",
     "text": [
      "F-Statistic=12.850, p=0.000\n"
     ]
    }
   ],
   "metadata": {}
  },
  {
   "cell_type": "markdown",
   "source": [
    "$$The\\ student\\ to\\ teacher\\ ratio\\ is\\ different\\ in\\ different\\ sections\\ of\\ school$$"
   ],
   "metadata": {}
  },
  {
   "cell_type": "markdown",
   "source": [
    "## Other factors"
   ],
   "metadata": {}
  },
  {
   "cell_type": "markdown",
   "source": [
    "$$Chi^2\\\\ H_0\\ =\\ Presence\\ of\\ different\\ factors\\ is\\ independent\\ of\\ the\\ section\\ of\\ the\\ school \\\\ H_A\\ =\\ Presence\\ of\\ different\\ factors\\ is\\ dependent\\ on\\ the\\ section\\ of\\ the\\ school$$"
   ],
   "metadata": {}
  },
  {
   "cell_type": "code",
   "execution_count": 21,
   "source": [
    "from scipy.stats import chi2_contingency as chi2\r\n",
    "stat,p,dof,exp=chi2(composite)\r\n",
    "stat,p,dof"
   ],
   "outputs": [
    {
     "output_type": "execute_result",
     "data": {
      "text/plain": [
       "(28.070220529870937, 0.005402667046801286, 12)"
      ]
     },
     "metadata": {},
     "execution_count": 21
    }
   ],
   "metadata": {}
  },
  {
   "cell_type": "code",
   "execution_count": 22,
   "source": [
    "F, p = scipy.stats.f_oneway(factors['Drinking water'],factors['Electricity'],factors['Computer'],factors['Boys toilet'],factors['Girls toilet'])\r\n",
    "# Seeing if the overall model is significant\r\n",
    "print('F-Statistic=%.3f, p=%.3f' % (F, p))"
   ],
   "outputs": [
    {
     "output_type": "stream",
     "name": "stdout",
     "text": [
      "F-Statistic=53.836, p=0.000\n"
     ]
    }
   ],
   "metadata": {}
  },
  {
   "cell_type": "markdown",
   "source": [
    "$$The\\ presence\\ of\\ different\\ factors\\ is\\ different\\ in\\ schools$$"
   ],
   "metadata": {}
  },
  {
   "cell_type": "markdown",
   "source": [
    "# Analysis"
   ],
   "metadata": {}
  },
  {
   "cell_type": "code",
   "execution_count": 23,
   "source": [
    "#ptr['average ptr']=(ptr['Primary']+ptr['Upper Primary']+ptr['Secondary']+ptr['Higher Secondary'])/4\r\n",
    "ptr.drop(['State'],axis=1,inplace=True)"
   ],
   "outputs": [],
   "metadata": {}
  },
  {
   "cell_type": "code",
   "execution_count": 24,
   "source": [
    "#Only keeping totals for overall analysis\r\n",
    "\r\n",
    "dropouts_x=dropouts_x[['PRIMARY_TOTAL', 'UPPER_PRIMARY_TOTAL', 'SECONDARY_TOTAL','HRSECONDARY_TOTAL']]\r\n",
    "enrollments_x=enrollments_x[['Primary_Total', 'Upper_Primary_Total', 'Secondary_Total','Higher_Secondary_Total']]\r\n",
    "factors.drop(['State'],axis=1,inplace=True)"
   ],
   "outputs": [],
   "metadata": {}
  },
  {
   "cell_type": "code",
   "execution_count": 25,
   "source": [
    "#Creating dataset for overall analysis\r\n",
    "dataset=pd.concat([dropouts_x,enrollments_x,factors,ptr],axis=1)\r\n",
    "cols=[]\r\n",
    "for col in dataset.columns[:4]:\r\n",
    "    cols.append(\"Dropout-\"+col[:-6])\r\n",
    "for col in dataset.columns[4:8]:\r\n",
    "    cols.append(\"Enrollments-\"+col[:-6])\r\n",
    "for col in dataset.columns[8:13]:\r\n",
    "    cols.append(col)  \r\n",
    "for col in dataset.columns[13:17]:\r\n",
    "    cols.append(\"PTR-\"+col)   \r\n",
    "dataset.columns=cols\r\n"
   ],
   "outputs": [],
   "metadata": {}
  },
  {
   "cell_type": "code",
   "execution_count": 26,
   "source": [
    "dataset.corr(method='spearman').style.background_gradient(cmap='coolwarm')"
   ],
   "outputs": [
    {
     "output_type": "execute_result",
     "data": {
      "text/plain": [
       "<pandas.io.formats.style.Styler at 0x2b7e32afe20>"
      ],
      "text/html": [
       "<style  type=\"text/css\" >\n",
       "#T_fd685_row0_col0,#T_fd685_row1_col1,#T_fd685_row2_col2,#T_fd685_row3_col3,#T_fd685_row4_col4,#T_fd685_row5_col5,#T_fd685_row6_col6,#T_fd685_row7_col7,#T_fd685_row8_col8,#T_fd685_row9_col9,#T_fd685_row10_col10,#T_fd685_row11_col11,#T_fd685_row12_col12,#T_fd685_row13_col13,#T_fd685_row14_col14,#T_fd685_row15_col15,#T_fd685_row16_col16{\n",
       "            background-color:  #b40426;\n",
       "            color:  #f1f1f1;\n",
       "        }#T_fd685_row0_col1{\n",
       "            background-color:  #da5a49;\n",
       "            color:  #000000;\n",
       "        }#T_fd685_row0_col2,#T_fd685_row7_col10{\n",
       "            background-color:  #f7a98b;\n",
       "            color:  #000000;\n",
       "        }#T_fd685_row0_col3,#T_fd685_row2_col10,#T_fd685_row6_col15{\n",
       "            background-color:  #445acc;\n",
       "            color:  #f1f1f1;\n",
       "        }#T_fd685_row0_col4{\n",
       "            background-color:  #f7a688;\n",
       "            color:  #000000;\n",
       "        }#T_fd685_row0_col5,#T_fd685_row3_col2{\n",
       "            background-color:  #a7c5fe;\n",
       "            color:  #000000;\n",
       "        }#T_fd685_row0_col6,#T_fd685_row1_col14,#T_fd685_row13_col10,#T_fd685_row14_col12{\n",
       "            background-color:  #7597f6;\n",
       "            color:  #000000;\n",
       "        }#T_fd685_row0_col7,#T_fd685_row3_col0,#T_fd685_row15_col9{\n",
       "            background-color:  #93b5fe;\n",
       "            color:  #000000;\n",
       "        }#T_fd685_row0_col8,#T_fd685_row0_col9,#T_fd685_row0_col10,#T_fd685_row0_col12,#T_fd685_row1_col11,#T_fd685_row2_col7,#T_fd685_row3_col14,#T_fd685_row6_col13,#T_fd685_row6_col16,#T_fd685_row7_col1,#T_fd685_row7_col2,#T_fd685_row8_col0,#T_fd685_row8_col4,#T_fd685_row8_col5,#T_fd685_row10_col15,#T_fd685_row14_col3,#T_fd685_row16_col5,#T_fd685_row16_col6{\n",
       "            background-color:  #3b4cc0;\n",
       "            color:  #f1f1f1;\n",
       "        }#T_fd685_row0_col11,#T_fd685_row13_col3{\n",
       "            background-color:  #3d50c3;\n",
       "            color:  #f1f1f1;\n",
       "        }#T_fd685_row0_col13,#T_fd685_row5_col13,#T_fd685_row6_col0,#T_fd685_row12_col5,#T_fd685_row13_col11,#T_fd685_row16_col9{\n",
       "            background-color:  #8db0fe;\n",
       "            color:  #000000;\n",
       "        }#T_fd685_row0_col14,#T_fd685_row9_col5,#T_fd685_row10_col4,#T_fd685_row15_col3{\n",
       "            background-color:  #5a78e4;\n",
       "            color:  #000000;\n",
       "        }#T_fd685_row0_col15,#T_fd685_row9_col13{\n",
       "            background-color:  #8fb1fe;\n",
       "            color:  #000000;\n",
       "        }#T_fd685_row0_col16,#T_fd685_row7_col3{\n",
       "            background-color:  #d7dce3;\n",
       "            color:  #000000;\n",
       "        }#T_fd685_row1_col0{\n",
       "            background-color:  #d85646;\n",
       "            color:  #000000;\n",
       "        }#T_fd685_row1_col2,#T_fd685_row8_col11{\n",
       "            background-color:  #e67259;\n",
       "            color:  #000000;\n",
       "        }#T_fd685_row1_col3{\n",
       "            background-color:  #5673e0;\n",
       "            color:  #000000;\n",
       "        }#T_fd685_row1_col4{\n",
       "            background-color:  #f7b396;\n",
       "            color:  #000000;\n",
       "        }#T_fd685_row1_col5,#T_fd685_row1_col13{\n",
       "            background-color:  #afcafc;\n",
       "            color:  #000000;\n",
       "        }#T_fd685_row1_col6,#T_fd685_row2_col9,#T_fd685_row4_col11,#T_fd685_row10_col13,#T_fd685_row12_col1,#T_fd685_row12_col15{\n",
       "            background-color:  #5d7ce6;\n",
       "            color:  #000000;\n",
       "        }#T_fd685_row1_col7,#T_fd685_row11_col5{\n",
       "            background-color:  #6a8bef;\n",
       "            color:  #000000;\n",
       "        }#T_fd685_row1_col8,#T_fd685_row3_col15,#T_fd685_row4_col10,#T_fd685_row7_col15,#T_fd685_row12_col14{\n",
       "            background-color:  #5977e3;\n",
       "            color:  #000000;\n",
       "        }#T_fd685_row1_col9,#T_fd685_row10_col1,#T_fd685_row16_col12{\n",
       "            background-color:  #506bda;\n",
       "            color:  #000000;\n",
       "        }#T_fd685_row1_col10,#T_fd685_row2_col3,#T_fd685_row9_col0{\n",
       "            background-color:  #465ecf;\n",
       "            color:  #f1f1f1;\n",
       "        }#T_fd685_row1_col12,#T_fd685_row9_col1{\n",
       "            background-color:  #4257c9;\n",
       "            color:  #f1f1f1;\n",
       "        }#T_fd685_row1_col15{\n",
       "            background-color:  #abc8fd;\n",
       "            color:  #000000;\n",
       "        }#T_fd685_row1_col16,#T_fd685_row3_col6,#T_fd685_row14_col8,#T_fd685_row16_col1{\n",
       "            background-color:  #e6d7cf;\n",
       "            color:  #000000;\n",
       "        }#T_fd685_row2_col0{\n",
       "            background-color:  #f7b194;\n",
       "            color:  #000000;\n",
       "        }#T_fd685_row2_col1,#T_fd685_row7_col6{\n",
       "            background-color:  #ec7f63;\n",
       "            color:  #000000;\n",
       "        }#T_fd685_row2_col4,#T_fd685_row12_col3{\n",
       "            background-color:  #ecd3c5;\n",
       "            color:  #000000;\n",
       "        }#T_fd685_row2_col5{\n",
       "            background-color:  #86a9fc;\n",
       "            color:  #000000;\n",
       "        }#T_fd685_row2_col6,#T_fd685_row2_col11,#T_fd685_row9_col4,#T_fd685_row16_col3{\n",
       "            background-color:  #4c66d6;\n",
       "            color:  #000000;\n",
       "        }#T_fd685_row2_col8{\n",
       "            background-color:  #7da0f9;\n",
       "            color:  #000000;\n",
       "        }#T_fd685_row2_col12,#T_fd685_row7_col13{\n",
       "            background-color:  #516ddb;\n",
       "            color:  #000000;\n",
       "        }#T_fd685_row2_col13{\n",
       "            background-color:  #dfdbd9;\n",
       "            color:  #000000;\n",
       "        }#T_fd685_row2_col14,#T_fd685_row13_col4,#T_fd685_row13_col9,#T_fd685_row15_col7{\n",
       "            background-color:  #b6cefa;\n",
       "            color:  #000000;\n",
       "        }#T_fd685_row2_col15{\n",
       "            background-color:  #c1d4f4;\n",
       "            color:  #000000;\n",
       "        }#T_fd685_row2_col16{\n",
       "            background-color:  #e8d6cc;\n",
       "            color:  #000000;\n",
       "        }#T_fd685_row3_col1,#T_fd685_row11_col2{\n",
       "            background-color:  #8badfd;\n",
       "            color:  #000000;\n",
       "        }#T_fd685_row3_col4,#T_fd685_row5_col10{\n",
       "            background-color:  #9abbff;\n",
       "            color:  #000000;\n",
       "        }#T_fd685_row3_col5,#T_fd685_row5_col15{\n",
       "            background-color:  #9bbcff;\n",
       "            color:  #000000;\n",
       "        }#T_fd685_row3_col7,#T_fd685_row6_col12{\n",
       "            background-color:  #f5c2aa;\n",
       "            color:  #000000;\n",
       "        }#T_fd685_row3_col8,#T_fd685_row3_col11{\n",
       "            background-color:  #f1cdba;\n",
       "            color:  #000000;\n",
       "        }#T_fd685_row3_col9,#T_fd685_row4_col1,#T_fd685_row11_col7{\n",
       "            background-color:  #f7af91;\n",
       "            color:  #000000;\n",
       "        }#T_fd685_row3_col10,#T_fd685_row12_col6{\n",
       "            background-color:  #f7b99e;\n",
       "            color:  #000000;\n",
       "        }#T_fd685_row3_col12,#T_fd685_row10_col3,#T_fd685_row11_col6{\n",
       "            background-color:  #f2cab5;\n",
       "            color:  #000000;\n",
       "        }#T_fd685_row3_col13{\n",
       "            background-color:  #536edd;\n",
       "            color:  #000000;\n",
       "        }#T_fd685_row3_col16,#T_fd685_row11_col15{\n",
       "            background-color:  #82a6fb;\n",
       "            color:  #000000;\n",
       "        }#T_fd685_row4_col0,#T_fd685_row14_col16{\n",
       "            background-color:  #f49a7b;\n",
       "            color:  #000000;\n",
       "        }#T_fd685_row4_col2{\n",
       "            background-color:  #f6bfa6;\n",
       "            color:  #000000;\n",
       "        }#T_fd685_row4_col3,#T_fd685_row12_col13{\n",
       "            background-color:  #7093f3;\n",
       "            color:  #000000;\n",
       "        }#T_fd685_row4_col5,#T_fd685_row15_col16{\n",
       "            background-color:  #f08b6e;\n",
       "            color:  #000000;\n",
       "        }#T_fd685_row4_col6{\n",
       "            background-color:  #cedaeb;\n",
       "            color:  #000000;\n",
       "        }#T_fd685_row4_col7,#T_fd685_row8_col13{\n",
       "            background-color:  #b9d0f9;\n",
       "            color:  #000000;\n",
       "        }#T_fd685_row4_col8{\n",
       "            background-color:  #5e7de7;\n",
       "            color:  #000000;\n",
       "        }#T_fd685_row4_col9,#T_fd685_row13_col5{\n",
       "            background-color:  #6485ec;\n",
       "            color:  #000000;\n",
       "        }#T_fd685_row4_col12{\n",
       "            background-color:  #688aef;\n",
       "            color:  #000000;\n",
       "        }#T_fd685_row4_col13,#T_fd685_row14_col4,#T_fd685_row16_col4,#T_fd685_row16_col7{\n",
       "            background-color:  #a5c3fe;\n",
       "            color:  #000000;\n",
       "        }#T_fd685_row4_col14,#T_fd685_row7_col0,#T_fd685_row9_col2,#T_fd685_row10_col2{\n",
       "            background-color:  #7ea1fa;\n",
       "            color:  #000000;\n",
       "        }#T_fd685_row4_col15{\n",
       "            background-color:  #97b8ff;\n",
       "            color:  #000000;\n",
       "        }#T_fd685_row4_col16,#T_fd685_row5_col3,#T_fd685_row5_col9{\n",
       "            background-color:  #adc9fd;\n",
       "            color:  #000000;\n",
       "        }#T_fd685_row5_col0,#T_fd685_row16_col0{\n",
       "            background-color:  #e3d9d3;\n",
       "            color:  #000000;\n",
       "        }#T_fd685_row5_col1,#T_fd685_row5_col2{\n",
       "            background-color:  #dcdddd;\n",
       "            color:  #000000;\n",
       "        }#T_fd685_row5_col4{\n",
       "            background-color:  #e9785d;\n",
       "            color:  #000000;\n",
       "        }#T_fd685_row5_col6,#T_fd685_row9_col6{\n",
       "            background-color:  #f7b599;\n",
       "            color:  #000000;\n",
       "        }#T_fd685_row5_col7{\n",
       "            background-color:  #e1dad6;\n",
       "            color:  #000000;\n",
       "        }#T_fd685_row5_col8{\n",
       "            background-color:  #9dbdff;\n",
       "            color:  #000000;\n",
       "        }#T_fd685_row5_col11,#T_fd685_row8_col16{\n",
       "            background-color:  #a2c1ff;\n",
       "            color:  #000000;\n",
       "        }#T_fd685_row5_col12{\n",
       "            background-color:  #b5cdfa;\n",
       "            color:  #000000;\n",
       "        }#T_fd685_row5_col14,#T_fd685_row14_col10{\n",
       "            background-color:  #779af7;\n",
       "            color:  #000000;\n",
       "        }#T_fd685_row5_col16{\n",
       "            background-color:  #84a7fc;\n",
       "            color:  #000000;\n",
       "        }#T_fd685_row6_col1,#T_fd685_row10_col5,#T_fd685_row13_col6{\n",
       "            background-color:  #5b7ae5;\n",
       "            color:  #000000;\n",
       "        }#T_fd685_row6_col2,#T_fd685_row11_col13,#T_fd685_row15_col6{\n",
       "            background-color:  #7b9ff9;\n",
       "            color:  #000000;\n",
       "        }#T_fd685_row6_col3{\n",
       "            background-color:  #cdd9ec;\n",
       "            color:  #000000;\n",
       "        }#T_fd685_row6_col4{\n",
       "            background-color:  #cad8ef;\n",
       "            color:  #000000;\n",
       "        }#T_fd685_row6_col5,#T_fd685_row8_col6{\n",
       "            background-color:  #efcfbf;\n",
       "            color:  #000000;\n",
       "        }#T_fd685_row6_col7{\n",
       "            background-color:  #e57058;\n",
       "            color:  #000000;\n",
       "        }#T_fd685_row6_col8,#T_fd685_row16_col2{\n",
       "            background-color:  #f3c7b1;\n",
       "            color:  #000000;\n",
       "        }#T_fd685_row6_col9{\n",
       "            background-color:  #f7b093;\n",
       "            color:  #000000;\n",
       "        }#T_fd685_row6_col10{\n",
       "            background-color:  #f6bea4;\n",
       "            color:  #000000;\n",
       "        }#T_fd685_row6_col11,#T_fd685_row7_col12,#T_fd685_row15_col2{\n",
       "            background-color:  #efcebd;\n",
       "            color:  #000000;\n",
       "        }#T_fd685_row6_col14{\n",
       "            background-color:  #4a63d3;\n",
       "            color:  #f1f1f1;\n",
       "        }#T_fd685_row7_col4,#T_fd685_row15_col5{\n",
       "            background-color:  #89acfd;\n",
       "            color:  #000000;\n",
       "        }#T_fd685_row7_col5{\n",
       "            background-color:  #92b4fe;\n",
       "            color:  #000000;\n",
       "        }#T_fd685_row7_col8,#T_fd685_row12_col7{\n",
       "            background-color:  #f7b497;\n",
       "            color:  #000000;\n",
       "        }#T_fd685_row7_col9,#T_fd685_row14_col15,#T_fd685_row15_col14{\n",
       "            background-color:  #f6a283;\n",
       "            color:  #000000;\n",
       "        }#T_fd685_row7_col11{\n",
       "            background-color:  #f4c6af;\n",
       "            color:  #000000;\n",
       "        }#T_fd685_row7_col14,#T_fd685_row14_col5{\n",
       "            background-color:  #6384eb;\n",
       "            color:  #000000;\n",
       "        }#T_fd685_row7_col16,#T_fd685_row16_col11{\n",
       "            background-color:  #7a9df8;\n",
       "            color:  #000000;\n",
       "        }#T_fd685_row8_col1{\n",
       "            background-color:  #3e51c5;\n",
       "            color:  #f1f1f1;\n",
       "        }#T_fd685_row8_col2{\n",
       "            background-color:  #90b2fe;\n",
       "            color:  #000000;\n",
       "        }#T_fd685_row8_col3{\n",
       "            background-color:  #d2dbe8;\n",
       "            color:  #000000;\n",
       "        }#T_fd685_row8_col7{\n",
       "            background-color:  #f7ac8e;\n",
       "            color:  #000000;\n",
       "        }#T_fd685_row8_col9,#T_fd685_row9_col10,#T_fd685_row11_col12,#T_fd685_row12_col11,#T_fd685_row13_col14{\n",
       "            background-color:  #cf453c;\n",
       "            color:  #f1f1f1;\n",
       "        }#T_fd685_row8_col10,#T_fd685_row11_col9,#T_fd685_row12_col8{\n",
       "            background-color:  #e7745b;\n",
       "            color:  #000000;\n",
       "        }#T_fd685_row8_col12{\n",
       "            background-color:  #ee8468;\n",
       "            color:  #000000;\n",
       "        }#T_fd685_row8_col14,#T_fd685_row13_col0,#T_fd685_row14_col7{\n",
       "            background-color:  #bcd2f7;\n",
       "            color:  #000000;\n",
       "        }#T_fd685_row8_col15{\n",
       "            background-color:  #96b7ff;\n",
       "            color:  #000000;\n",
       "        }#T_fd685_row9_col3{\n",
       "            background-color:  #f3c8b2;\n",
       "            color:  #000000;\n",
       "        }#T_fd685_row9_col7{\n",
       "            background-color:  #f39778;\n",
       "            color:  #000000;\n",
       "        }#T_fd685_row9_col8,#T_fd685_row14_col13{\n",
       "            background-color:  #cd423b;\n",
       "            color:  #f1f1f1;\n",
       "        }#T_fd685_row9_col11{\n",
       "            background-color:  #ea7b60;\n",
       "            color:  #000000;\n",
       "        }#T_fd685_row9_col12,#T_fd685_row12_col10{\n",
       "            background-color:  #de614d;\n",
       "            color:  #000000;\n",
       "        }#T_fd685_row9_col14{\n",
       "            background-color:  #81a4fb;\n",
       "            color:  #000000;\n",
       "        }#T_fd685_row9_col15{\n",
       "            background-color:  #4f69d9;\n",
       "            color:  #000000;\n",
       "        }#T_fd685_row9_col16,#T_fd685_row14_col6{\n",
       "            background-color:  #80a3fa;\n",
       "            color:  #000000;\n",
       "        }#T_fd685_row10_col0{\n",
       "            background-color:  #5f7fe8;\n",
       "            color:  #000000;\n",
       "        }#T_fd685_row10_col6{\n",
       "            background-color:  #f7ba9f;\n",
       "            color:  #000000;\n",
       "        }#T_fd685_row10_col7{\n",
       "            background-color:  #f39475;\n",
       "            color:  #000000;\n",
       "        }#T_fd685_row10_col8{\n",
       "            background-color:  #e36b54;\n",
       "            color:  #000000;\n",
       "        }#T_fd685_row10_col9{\n",
       "            background-color:  #cc403a;\n",
       "            color:  #f1f1f1;\n",
       "        }#T_fd685_row10_col11,#T_fd685_row11_col10{\n",
       "            background-color:  #e46e56;\n",
       "            color:  #000000;\n",
       "        }#T_fd685_row10_col12{\n",
       "            background-color:  #e0654f;\n",
       "            color:  #000000;\n",
       "        }#T_fd685_row10_col14{\n",
       "            background-color:  #4b64d5;\n",
       "            color:  #f1f1f1;\n",
       "        }#T_fd685_row10_col16,#T_fd685_row12_col4,#T_fd685_row15_col12{\n",
       "            background-color:  #799cf8;\n",
       "            color:  #000000;\n",
       "        }#T_fd685_row11_col0{\n",
       "            background-color:  #6687ed;\n",
       "            color:  #000000;\n",
       "        }#T_fd685_row11_col1{\n",
       "            background-color:  #4961d2;\n",
       "            color:  #f1f1f1;\n",
       "        }#T_fd685_row11_col3{\n",
       "            background-color:  #e5d8d1;\n",
       "            color:  #000000;\n",
       "        }#T_fd685_row11_col4{\n",
       "            background-color:  #6282ea;\n",
       "            color:  #000000;\n",
       "        }#T_fd685_row11_col8{\n",
       "            background-color:  #e16751;\n",
       "            color:  #000000;\n",
       "        }#T_fd685_row11_col14,#T_fd685_row12_col0,#T_fd685_row16_col10{\n",
       "            background-color:  #6f92f3;\n",
       "            color:  #000000;\n",
       "        }#T_fd685_row11_col16{\n",
       "            background-color:  #88abfd;\n",
       "            color:  #000000;\n",
       "        }#T_fd685_row12_col2{\n",
       "            background-color:  #98b9ff;\n",
       "            color:  #000000;\n",
       "        }#T_fd685_row12_col9{\n",
       "            background-color:  #d95847;\n",
       "            color:  #000000;\n",
       "        }#T_fd685_row12_col16{\n",
       "            background-color:  #6b8df0;\n",
       "            color:  #000000;\n",
       "        }#T_fd685_row13_col1{\n",
       "            background-color:  #c6d6f1;\n",
       "            color:  #000000;\n",
       "        }#T_fd685_row13_col2{\n",
       "            background-color:  #f5c4ac;\n",
       "            color:  #000000;\n",
       "        }#T_fd685_row13_col7{\n",
       "            background-color:  #9fbfff;\n",
       "            color:  #000000;\n",
       "        }#T_fd685_row13_col8{\n",
       "            background-color:  #dadce0;\n",
       "            color:  #000000;\n",
       "        }#T_fd685_row13_col12{\n",
       "            background-color:  #7699f6;\n",
       "            color:  #000000;\n",
       "        }#T_fd685_row13_col15{\n",
       "            background-color:  #f4c5ad;\n",
       "            color:  #000000;\n",
       "        }#T_fd685_row13_col16,#T_fd685_row16_col15{\n",
       "            background-color:  #f59f80;\n",
       "            color:  #000000;\n",
       "        }#T_fd685_row14_col0,#T_fd685_row14_col1,#T_fd685_row15_col11{\n",
       "            background-color:  #a6c4fe;\n",
       "            color:  #000000;\n",
       "        }#T_fd685_row14_col2{\n",
       "            background-color:  #ead4c8;\n",
       "            color:  #000000;\n",
       "        }#T_fd685_row14_col9,#T_fd685_row15_col4{\n",
       "            background-color:  #bad0f8;\n",
       "            color:  #000000;\n",
       "        }#T_fd685_row14_col11{\n",
       "            background-color:  #94b6ff;\n",
       "            color:  #000000;\n",
       "        }#T_fd685_row15_col0{\n",
       "            background-color:  #ccd9ed;\n",
       "            color:  #000000;\n",
       "        }#T_fd685_row15_col1,#T_fd685_row15_col8{\n",
       "            background-color:  #cfdaea;\n",
       "            color:  #000000;\n",
       "        }#T_fd685_row15_col10{\n",
       "            background-color:  #6788ee;\n",
       "            color:  #000000;\n",
       "        }#T_fd685_row15_col13{\n",
       "            background-color:  #f6bda2;\n",
       "            color:  #000000;\n",
       "        }#T_fd685_row16_col8{\n",
       "            background-color:  #b7cff9;\n",
       "            color:  #000000;\n",
       "        }#T_fd685_row16_col13{\n",
       "            background-color:  #f7aa8c;\n",
       "            color:  #000000;\n",
       "        }#T_fd685_row16_col14{\n",
       "            background-color:  #f7ad90;\n",
       "            color:  #000000;\n",
       "        }</style><table id=\"T_fd685_\" ><thead>    <tr>        <th class=\"blank level0\" ></th>        <th class=\"col_heading level0 col0\" >Dropout-PRIMARY</th>        <th class=\"col_heading level0 col1\" >Dropout-UPPER_PRIMARY</th>        <th class=\"col_heading level0 col2\" >Dropout-SECONDARY</th>        <th class=\"col_heading level0 col3\" >Dropout-HRSECONDARY</th>        <th class=\"col_heading level0 col4\" >Enrollments-Primary</th>        <th class=\"col_heading level0 col5\" >Enrollments-Upper_Primary</th>        <th class=\"col_heading level0 col6\" >Enrollments-Secondary</th>        <th class=\"col_heading level0 col7\" >Enrollments-Higher_Secondary</th>        <th class=\"col_heading level0 col8\" >Drinking water</th>        <th class=\"col_heading level0 col9\" >Electricity</th>        <th class=\"col_heading level0 col10\" >Computer</th>        <th class=\"col_heading level0 col11\" >Boys toilet</th>        <th class=\"col_heading level0 col12\" >Girls toilet</th>        <th class=\"col_heading level0 col13\" >PTR-Primary</th>        <th class=\"col_heading level0 col14\" >PTR-Upper Primary</th>        <th class=\"col_heading level0 col15\" >PTR-Secondary</th>        <th class=\"col_heading level0 col16\" >PTR-Higher Secondary</th>    </tr></thead><tbody>\n",
       "                <tr>\n",
       "                        <th id=\"T_fd685_level0_row0\" class=\"row_heading level0 row0\" >Dropout-PRIMARY</th>\n",
       "                        <td id=\"T_fd685_row0_col0\" class=\"data row0 col0\" >1.000000</td>\n",
       "                        <td id=\"T_fd685_row0_col1\" class=\"data row0 col1\" >0.808626</td>\n",
       "                        <td id=\"T_fd685_row0_col2\" class=\"data row0 col2\" >0.433988</td>\n",
       "                        <td id=\"T_fd685_row0_col3\" class=\"data row0 col3\" >-0.326441</td>\n",
       "                        <td id=\"T_fd685_row0_col4\" class=\"data row0 col4\" >0.546122</td>\n",
       "                        <td id=\"T_fd685_row0_col5\" class=\"data row0 col5\" >0.140328</td>\n",
       "                        <td id=\"T_fd685_row0_col6\" class=\"data row0 col6\" >-0.348632</td>\n",
       "                        <td id=\"T_fd685_row0_col7\" class=\"data row0 col7\" >-0.428581</td>\n",
       "                        <td id=\"T_fd685_row0_col8\" class=\"data row0 col8\" >-0.807090</td>\n",
       "                        <td id=\"T_fd685_row0_col9\" class=\"data row0 col9\" >-0.735675</td>\n",
       "                        <td id=\"T_fd685_row0_col10\" class=\"data row0 col10\" >-0.594915</td>\n",
       "                        <td id=\"T_fd685_row0_col11\" class=\"data row0 col11\" >-0.553430</td>\n",
       "                        <td id=\"T_fd685_row0_col12\" class=\"data row0 col12\" >-0.504931</td>\n",
       "                        <td id=\"T_fd685_row0_col13\" class=\"data row0 col13\" >-0.103060</td>\n",
       "                        <td id=\"T_fd685_row0_col14\" class=\"data row0 col14\" >-0.227747</td>\n",
       "                        <td id=\"T_fd685_row0_col15\" class=\"data row0 col15\" >-0.015009</td>\n",
       "                        <td id=\"T_fd685_row0_col16\" class=\"data row0 col16\" >0.140097</td>\n",
       "            </tr>\n",
       "            <tr>\n",
       "                        <th id=\"T_fd685_level0_row1\" class=\"row_heading level0 row1\" >Dropout-UPPER_PRIMARY</th>\n",
       "                        <td id=\"T_fd685_row1_col0\" class=\"data row1 col0\" >0.808626</td>\n",
       "                        <td id=\"T_fd685_row1_col1\" class=\"data row1 col1\" >1.000000</td>\n",
       "                        <td id=\"T_fd685_row1_col2\" class=\"data row1 col2\" >0.684685</td>\n",
       "                        <td id=\"T_fd685_row1_col3\" class=\"data row1 col3\" >-0.245976</td>\n",
       "                        <td id=\"T_fd685_row1_col4\" class=\"data row1 col4\" >0.491634</td>\n",
       "                        <td id=\"T_fd685_row1_col5\" class=\"data row1 col5\" >0.171943</td>\n",
       "                        <td id=\"T_fd685_row1_col6\" class=\"data row1 col6\" >-0.469755</td>\n",
       "                        <td id=\"T_fd685_row1_col7\" class=\"data row1 col7\" >-0.649678</td>\n",
       "                        <td id=\"T_fd685_row1_col8\" class=\"data row1 col8\" >-0.627836</td>\n",
       "                        <td id=\"T_fd685_row1_col9\" class=\"data row1 col9\" >-0.607732</td>\n",
       "                        <td id=\"T_fd685_row1_col10\" class=\"data row1 col10\" >-0.532561</td>\n",
       "                        <td id=\"T_fd685_row1_col11\" class=\"data row1 col11\" >-0.571282</td>\n",
       "                        <td id=\"T_fd685_row1_col12\" class=\"data row1 col12\" >-0.464949</td>\n",
       "                        <td id=\"T_fd685_row1_col13\" class=\"data row1 col13\" >0.043657</td>\n",
       "                        <td id=\"T_fd685_row1_col14\" class=\"data row1 col14\" >-0.120018</td>\n",
       "                        <td id=\"T_fd685_row1_col15\" class=\"data row1 col15\" >0.097753</td>\n",
       "                        <td id=\"T_fd685_row1_col16\" class=\"data row1 col16\" >0.234128</td>\n",
       "            </tr>\n",
       "            <tr>\n",
       "                        <th id=\"T_fd685_level0_row2\" class=\"row_heading level0 row2\" >Dropout-SECONDARY</th>\n",
       "                        <td id=\"T_fd685_row2_col0\" class=\"data row2 col0\" >0.433988</td>\n",
       "                        <td id=\"T_fd685_row2_col1\" class=\"data row2 col1\" >0.684685</td>\n",
       "                        <td id=\"T_fd685_row2_col2\" class=\"data row2 col2\" >1.000000</td>\n",
       "                        <td id=\"T_fd685_row2_col3\" class=\"data row2 col3\" >-0.314359</td>\n",
       "                        <td id=\"T_fd685_row2_col4\" class=\"data row2 col4\" >0.302703</td>\n",
       "                        <td id=\"T_fd685_row2_col5\" class=\"data row2 col5\" >0.020849</td>\n",
       "                        <td id=\"T_fd685_row2_col6\" class=\"data row2 col6\" >-0.551866</td>\n",
       "                        <td id=\"T_fd685_row2_col7\" class=\"data row2 col7\" >-0.945431</td>\n",
       "                        <td id=\"T_fd685_row2_col8\" class=\"data row2 col8\" >-0.437114</td>\n",
       "                        <td id=\"T_fd685_row2_col9\" class=\"data row2 col9\" >-0.541753</td>\n",
       "                        <td id=\"T_fd685_row2_col10\" class=\"data row2 col10\" >-0.540026</td>\n",
       "                        <td id=\"T_fd685_row2_col11\" class=\"data row2 col11\" >-0.473535</td>\n",
       "                        <td id=\"T_fd685_row2_col12\" class=\"data row2 col12\" >-0.391753</td>\n",
       "                        <td id=\"T_fd685_row2_col13\" class=\"data row2 col13\" >0.275853</td>\n",
       "                        <td id=\"T_fd685_row2_col14\" class=\"data row2 col14\" >0.134956</td>\n",
       "                        <td id=\"T_fd685_row2_col15\" class=\"data row2 col15\" >0.188422</td>\n",
       "                        <td id=\"T_fd685_row2_col16\" class=\"data row2 col16\" >0.249324</td>\n",
       "            </tr>\n",
       "            <tr>\n",
       "                        <th id=\"T_fd685_level0_row3\" class=\"row_heading level0 row3\" >Dropout-HRSECONDARY</th>\n",
       "                        <td id=\"T_fd685_row3_col0\" class=\"data row3 col0\" >-0.326441</td>\n",
       "                        <td id=\"T_fd685_row3_col1\" class=\"data row3 col1\" >-0.245976</td>\n",
       "                        <td id=\"T_fd685_row3_col2\" class=\"data row3 col2\" >-0.314359</td>\n",
       "                        <td id=\"T_fd685_row3_col3\" class=\"data row3 col3\" >1.000000</td>\n",
       "                        <td id=\"T_fd685_row3_col4\" class=\"data row3 col4\" >-0.139472</td>\n",
       "                        <td id=\"T_fd685_row3_col5\" class=\"data row3 col5\" >0.096330</td>\n",
       "                        <td id=\"T_fd685_row3_col6\" class=\"data row3 col6\" >0.235673</td>\n",
       "                        <td id=\"T_fd685_row3_col7\" class=\"data row3 col7\" >0.285383</td>\n",
       "                        <td id=\"T_fd685_row3_col8\" class=\"data row3 col8\" >0.260864</td>\n",
       "                        <td id=\"T_fd685_row3_col9\" class=\"data row3 col9\" >0.469375</td>\n",
       "                        <td id=\"T_fd685_row3_col10\" class=\"data row3 col10\" >0.459240</td>\n",
       "                        <td id=\"T_fd685_row3_col11\" class=\"data row3 col11\" >0.358763</td>\n",
       "                        <td id=\"T_fd685_row3_col12\" class=\"data row3 col12\" >0.403611</td>\n",
       "                        <td id=\"T_fd685_row3_col13\" class=\"data row3 col13\" >-0.355863</td>\n",
       "                        <td id=\"T_fd685_row3_col14\" class=\"data row3 col14\" >-0.370273</td>\n",
       "                        <td id=\"T_fd685_row3_col15\" class=\"data row3 col15\" >-0.227721</td>\n",
       "                        <td id=\"T_fd685_row3_col16\" class=\"data row3 col16\" >-0.288338</td>\n",
       "            </tr>\n",
       "            <tr>\n",
       "                        <th id=\"T_fd685_level0_row4\" class=\"row_heading level0 row4\" >Enrollments-Primary</th>\n",
       "                        <td id=\"T_fd685_row4_col0\" class=\"data row4 col0\" >0.546122</td>\n",
       "                        <td id=\"T_fd685_row4_col1\" class=\"data row4 col1\" >0.491634</td>\n",
       "                        <td id=\"T_fd685_row4_col2\" class=\"data row4 col2\" >0.302703</td>\n",
       "                        <td id=\"T_fd685_row4_col3\" class=\"data row4 col3\" >-0.139472</td>\n",
       "                        <td id=\"T_fd685_row4_col4\" class=\"data row4 col4\" >1.000000</td>\n",
       "                        <td id=\"T_fd685_row4_col5\" class=\"data row4 col5\" >0.725354</td>\n",
       "                        <td id=\"T_fd685_row4_col6\" class=\"data row4 col6\" >0.090862</td>\n",
       "                        <td id=\"T_fd685_row4_col7\" class=\"data row4 col7\" >-0.214672</td>\n",
       "                        <td id=\"T_fd685_row4_col8\" class=\"data row4 col8\" >-0.596135</td>\n",
       "                        <td id=\"T_fd685_row4_col9\" class=\"data row4 col9\" >-0.498712</td>\n",
       "                        <td id=\"T_fd685_row4_col10\" class=\"data row4 col10\" >-0.433719</td>\n",
       "                        <td id=\"T_fd685_row4_col11\" class=\"data row4 col11\" >-0.393690</td>\n",
       "                        <td id=\"T_fd685_row4_col12\" class=\"data row4 col12\" >-0.286598</td>\n",
       "                        <td id=\"T_fd685_row4_col13\" class=\"data row4 col13\" >-0.004121</td>\n",
       "                        <td id=\"T_fd685_row4_col14\" class=\"data row4 col14\" >-0.086150</td>\n",
       "                        <td id=\"T_fd685_row4_col15\" class=\"data row4 col15\" >0.014167</td>\n",
       "                        <td id=\"T_fd685_row4_col16\" class=\"data row4 col16\" >-0.087959</td>\n",
       "            </tr>\n",
       "            <tr>\n",
       "                        <th id=\"T_fd685_level0_row5\" class=\"row_heading level0 row5\" >Enrollments-Upper_Primary</th>\n",
       "                        <td id=\"T_fd685_row5_col0\" class=\"data row5 col0\" >0.140328</td>\n",
       "                        <td id=\"T_fd685_row5_col1\" class=\"data row5 col1\" >0.171943</td>\n",
       "                        <td id=\"T_fd685_row5_col2\" class=\"data row5 col2\" >0.020849</td>\n",
       "                        <td id=\"T_fd685_row5_col3\" class=\"data row5 col3\" >0.096330</td>\n",
       "                        <td id=\"T_fd685_row5_col4\" class=\"data row5 col4\" >0.725354</td>\n",
       "                        <td id=\"T_fd685_row5_col5\" class=\"data row5 col5\" >1.000000</td>\n",
       "                        <td id=\"T_fd685_row5_col6\" class=\"data row5 col6\" >0.461776</td>\n",
       "                        <td id=\"T_fd685_row5_col7\" class=\"data row5 col7\" >0.062548</td>\n",
       "                        <td id=\"T_fd685_row5_col8\" class=\"data row5 col8\" >-0.272681</td>\n",
       "                        <td id=\"T_fd685_row5_col9\" class=\"data row5 col9\" >-0.144330</td>\n",
       "                        <td id=\"T_fd685_row5_col10\" class=\"data row5 col10\" >-0.138739</td>\n",
       "                        <td id=\"T_fd685_row5_col11\" class=\"data row5 col11\" >-0.082936</td>\n",
       "                        <td id=\"T_fd685_row5_col12\" class=\"data row5 col12\" >0.047423</td>\n",
       "                        <td id=\"T_fd685_row5_col13\" class=\"data row5 col13\" >-0.103155</td>\n",
       "                        <td id=\"T_fd685_row5_col14\" class=\"data row5 col14\" >-0.108686</td>\n",
       "                        <td id=\"T_fd685_row5_col15\" class=\"data row5 col15\" >0.032069</td>\n",
       "                        <td id=\"T_fd685_row5_col16\" class=\"data row5 col16\" >-0.276497</td>\n",
       "            </tr>\n",
       "            <tr>\n",
       "                        <th id=\"T_fd685_level0_row6\" class=\"row_heading level0 row6\" >Enrollments-Secondary</th>\n",
       "                        <td id=\"T_fd685_row6_col0\" class=\"data row6 col0\" >-0.348632</td>\n",
       "                        <td id=\"T_fd685_row6_col1\" class=\"data row6 col1\" >-0.469755</td>\n",
       "                        <td id=\"T_fd685_row6_col2\" class=\"data row6 col2\" >-0.551866</td>\n",
       "                        <td id=\"T_fd685_row6_col3\" class=\"data row6 col3\" >0.235673</td>\n",
       "                        <td id=\"T_fd685_row6_col4\" class=\"data row6 col4\" >0.090862</td>\n",
       "                        <td id=\"T_fd685_row6_col5\" class=\"data row6 col5\" >0.461776</td>\n",
       "                        <td id=\"T_fd685_row6_col6\" class=\"data row6 col6\" >1.000000</td>\n",
       "                        <td id=\"T_fd685_row6_col7\" class=\"data row6 col7\" >0.690090</td>\n",
       "                        <td id=\"T_fd685_row6_col8\" class=\"data row6 col8\" >0.307990</td>\n",
       "                        <td id=\"T_fd685_row6_col9\" class=\"data row6 col9\" >0.459279</td>\n",
       "                        <td id=\"T_fd685_row6_col10\" class=\"data row6 col10\" >0.435779</td>\n",
       "                        <td id=\"T_fd685_row6_col11\" class=\"data row6 col11\" >0.344108</td>\n",
       "                        <td id=\"T_fd685_row6_col12\" class=\"data row6 col12\" >0.442526</td>\n",
       "                        <td id=\"T_fd685_row6_col13\" class=\"data row6 col13\" >-0.473149</td>\n",
       "                        <td id=\"T_fd685_row6_col14\" class=\"data row6 col14\" >-0.297341</td>\n",
       "                        <td id=\"T_fd685_row6_col15\" class=\"data row6 col15\" >-0.319789</td>\n",
       "                        <td id=\"T_fd685_row6_col16\" class=\"data row6 col16\" >-0.650354</td>\n",
       "            </tr>\n",
       "            <tr>\n",
       "                        <th id=\"T_fd685_level0_row7\" class=\"row_heading level0 row7\" >Enrollments-Higher_Secondary</th>\n",
       "                        <td id=\"T_fd685_row7_col0\" class=\"data row7 col0\" >-0.428581</td>\n",
       "                        <td id=\"T_fd685_row7_col1\" class=\"data row7 col1\" >-0.649678</td>\n",
       "                        <td id=\"T_fd685_row7_col2\" class=\"data row7 col2\" >-0.945431</td>\n",
       "                        <td id=\"T_fd685_row7_col3\" class=\"data row7 col3\" >0.285383</td>\n",
       "                        <td id=\"T_fd685_row7_col4\" class=\"data row7 col4\" >-0.214672</td>\n",
       "                        <td id=\"T_fd685_row7_col5\" class=\"data row7 col5\" >0.062548</td>\n",
       "                        <td id=\"T_fd685_row7_col6\" class=\"data row7 col6\" >0.690090</td>\n",
       "                        <td id=\"T_fd685_row7_col7\" class=\"data row7 col7\" >1.000000</td>\n",
       "                        <td id=\"T_fd685_row7_col8\" class=\"data row7 col8\" >0.417526</td>\n",
       "                        <td id=\"T_fd685_row7_col9\" class=\"data row7 col9\" >0.525774</td>\n",
       "                        <td id=\"T_fd685_row7_col10\" class=\"data row7 col10\" >0.538481</td>\n",
       "                        <td id=\"T_fd685_row7_col11\" class=\"data row7 col11\" >0.404507</td>\n",
       "                        <td id=\"T_fd685_row7_col12\" class=\"data row7 col12\" >0.371134</td>\n",
       "                        <td id=\"T_fd685_row7_col13\" class=\"data row7 col13\" >-0.359562</td>\n",
       "                        <td id=\"T_fd685_row7_col14\" class=\"data row7 col14\" >-0.188397</td>\n",
       "                        <td id=\"T_fd685_row7_col15\" class=\"data row7 col15\" >-0.230279</td>\n",
       "                        <td id=\"T_fd685_row7_col16\" class=\"data row7 col16\" >-0.327495</td>\n",
       "            </tr>\n",
       "            <tr>\n",
       "                        <th id=\"T_fd685_level0_row8\" class=\"row_heading level0 row8\" >Drinking water</th>\n",
       "                        <td id=\"T_fd685_row8_col0\" class=\"data row8 col0\" >-0.807090</td>\n",
       "                        <td id=\"T_fd685_row8_col1\" class=\"data row8 col1\" >-0.627836</td>\n",
       "                        <td id=\"T_fd685_row8_col2\" class=\"data row8 col2\" >-0.437114</td>\n",
       "                        <td id=\"T_fd685_row8_col3\" class=\"data row8 col3\" >0.260864</td>\n",
       "                        <td id=\"T_fd685_row8_col4\" class=\"data row8 col4\" >-0.596135</td>\n",
       "                        <td id=\"T_fd685_row8_col5\" class=\"data row8 col5\" >-0.272681</td>\n",
       "                        <td id=\"T_fd685_row8_col6\" class=\"data row8 col6\" >0.307990</td>\n",
       "                        <td id=\"T_fd685_row8_col7\" class=\"data row8 col7\" >0.417526</td>\n",
       "                        <td id=\"T_fd685_row8_col8\" class=\"data row8 col8\" >1.000000</td>\n",
       "                        <td id=\"T_fd685_row8_col9\" class=\"data row8 col9\" >0.866581</td>\n",
       "                        <td id=\"T_fd685_row8_col10\" class=\"data row8 col10\" >0.737629</td>\n",
       "                        <td id=\"T_fd685_row8_col11\" class=\"data row8 col11\" >0.746873</td>\n",
       "                        <td id=\"T_fd685_row8_col12\" class=\"data row8 col12\" >0.698581</td>\n",
       "                        <td id=\"T_fd685_row8_col13\" class=\"data row8 col13\" >0.081238</td>\n",
       "                        <td id=\"T_fd685_row8_col14\" class=\"data row8 col14\" >0.163368</td>\n",
       "                        <td id=\"T_fd685_row8_col15\" class=\"data row8 col15\" >0.009285</td>\n",
       "                        <td id=\"T_fd685_row8_col16\" class=\"data row8 col16\" >-0.135139</td>\n",
       "            </tr>\n",
       "            <tr>\n",
       "                        <th id=\"T_fd685_level0_row9\" class=\"row_heading level0 row9\" >Electricity</th>\n",
       "                        <td id=\"T_fd685_row9_col0\" class=\"data row9 col0\" >-0.735675</td>\n",
       "                        <td id=\"T_fd685_row9_col1\" class=\"data row9 col1\" >-0.607732</td>\n",
       "                        <td id=\"T_fd685_row9_col2\" class=\"data row9 col2\" >-0.541753</td>\n",
       "                        <td id=\"T_fd685_row9_col3\" class=\"data row9 col3\" >0.469375</td>\n",
       "                        <td id=\"T_fd685_row9_col4\" class=\"data row9 col4\" >-0.498712</td>\n",
       "                        <td id=\"T_fd685_row9_col5\" class=\"data row9 col5\" >-0.144330</td>\n",
       "                        <td id=\"T_fd685_row9_col6\" class=\"data row9 col6\" >0.459279</td>\n",
       "                        <td id=\"T_fd685_row9_col7\" class=\"data row9 col7\" >0.525774</td>\n",
       "                        <td id=\"T_fd685_row9_col8\" class=\"data row9 col8\" >0.866581</td>\n",
       "                        <td id=\"T_fd685_row9_col9\" class=\"data row9 col9\" >1.000000</td>\n",
       "                        <td id=\"T_fd685_row9_col10\" class=\"data row9 col10\" >0.880671</td>\n",
       "                        <td id=\"T_fd685_row9_col11\" class=\"data row9 col11\" >0.714636</td>\n",
       "                        <td id=\"T_fd685_row9_col12\" class=\"data row9 col12\" >0.807742</td>\n",
       "                        <td id=\"T_fd685_row9_col13\" class=\"data row9 col13\" >-0.098259</td>\n",
       "                        <td id=\"T_fd685_row9_col14\" class=\"data row9 col14\" >-0.072207</td>\n",
       "                        <td id=\"T_fd685_row9_col15\" class=\"data row9 col15\" >-0.270940</td>\n",
       "                        <td id=\"T_fd685_row9_col16\" class=\"data row9 col16\" >-0.298388</td>\n",
       "            </tr>\n",
       "            <tr>\n",
       "                        <th id=\"T_fd685_level0_row10\" class=\"row_heading level0 row10\" >Computer</th>\n",
       "                        <td id=\"T_fd685_row10_col0\" class=\"data row10 col0\" >-0.594915</td>\n",
       "                        <td id=\"T_fd685_row10_col1\" class=\"data row10 col1\" >-0.532561</td>\n",
       "                        <td id=\"T_fd685_row10_col2\" class=\"data row10 col2\" >-0.540026</td>\n",
       "                        <td id=\"T_fd685_row10_col3\" class=\"data row10 col3\" >0.459240</td>\n",
       "                        <td id=\"T_fd685_row10_col4\" class=\"data row10 col4\" >-0.433719</td>\n",
       "                        <td id=\"T_fd685_row10_col5\" class=\"data row10 col5\" >-0.138739</td>\n",
       "                        <td id=\"T_fd685_row10_col6\" class=\"data row10 col6\" >0.435779</td>\n",
       "                        <td id=\"T_fd685_row10_col7\" class=\"data row10 col7\" >0.538481</td>\n",
       "                        <td id=\"T_fd685_row10_col8\" class=\"data row10 col8\" >0.737629</td>\n",
       "                        <td id=\"T_fd685_row10_col9\" class=\"data row10 col9\" >0.880671</td>\n",
       "                        <td id=\"T_fd685_row10_col10\" class=\"data row10 col10\" >1.000000</td>\n",
       "                        <td id=\"T_fd685_row10_col11\" class=\"data row10 col11\" >0.755184</td>\n",
       "                        <td id=\"T_fd685_row10_col12\" class=\"data row10 col12\" >0.796650</td>\n",
       "                        <td id=\"T_fd685_row10_col13\" class=\"data row10 col13\" >-0.307148</td>\n",
       "                        <td id=\"T_fd685_row10_col14\" class=\"data row10 col14\" >-0.293993</td>\n",
       "                        <td id=\"T_fd685_row10_col15\" class=\"data row10 col15\" >-0.365767</td>\n",
       "                        <td id=\"T_fd685_row10_col16\" class=\"data row10 col16\" >-0.332647</td>\n",
       "            </tr>\n",
       "            <tr>\n",
       "                        <th id=\"T_fd685_level0_row11\" class=\"row_heading level0 row11\" >Boys toilet</th>\n",
       "                        <td id=\"T_fd685_row11_col0\" class=\"data row11 col0\" >-0.553430</td>\n",
       "                        <td id=\"T_fd685_row11_col1\" class=\"data row11 col1\" >-0.571282</td>\n",
       "                        <td id=\"T_fd685_row11_col2\" class=\"data row11 col2\" >-0.473535</td>\n",
       "                        <td id=\"T_fd685_row11_col3\" class=\"data row11 col3\" >0.358763</td>\n",
       "                        <td id=\"T_fd685_row11_col4\" class=\"data row11 col4\" >-0.393690</td>\n",
       "                        <td id=\"T_fd685_row11_col5\" class=\"data row11 col5\" >-0.082936</td>\n",
       "                        <td id=\"T_fd685_row11_col6\" class=\"data row11 col6\" >0.344108</td>\n",
       "                        <td id=\"T_fd685_row11_col7\" class=\"data row11 col7\" >0.404507</td>\n",
       "                        <td id=\"T_fd685_row11_col8\" class=\"data row11 col8\" >0.746873</td>\n",
       "                        <td id=\"T_fd685_row11_col9\" class=\"data row11 col9\" >0.714636</td>\n",
       "                        <td id=\"T_fd685_row11_col10\" class=\"data row11 col10\" >0.755184</td>\n",
       "                        <td id=\"T_fd685_row11_col11\" class=\"data row11 col11\" >1.000000</td>\n",
       "                        <td id=\"T_fd685_row11_col12\" class=\"data row11 col12\" >0.882785</td>\n",
       "                        <td id=\"T_fd685_row11_col13\" class=\"data row11 col13\" >-0.175644</td>\n",
       "                        <td id=\"T_fd685_row11_col14\" class=\"data row11 col14\" >-0.145223</td>\n",
       "                        <td id=\"T_fd685_row11_col15\" class=\"data row11 col15\" >-0.061860</td>\n",
       "                        <td id=\"T_fd685_row11_col16\" class=\"data row11 col16\" >-0.263209</td>\n",
       "            </tr>\n",
       "            <tr>\n",
       "                        <th id=\"T_fd685_level0_row12\" class=\"row_heading level0 row12\" >Girls toilet</th>\n",
       "                        <td id=\"T_fd685_row12_col0\" class=\"data row12 col0\" >-0.504931</td>\n",
       "                        <td id=\"T_fd685_row12_col1\" class=\"data row12 col1\" >-0.464949</td>\n",
       "                        <td id=\"T_fd685_row12_col2\" class=\"data row12 col2\" >-0.391753</td>\n",
       "                        <td id=\"T_fd685_row12_col3\" class=\"data row12 col3\" >0.403611</td>\n",
       "                        <td id=\"T_fd685_row12_col4\" class=\"data row12 col4\" >-0.286598</td>\n",
       "                        <td id=\"T_fd685_row12_col5\" class=\"data row12 col5\" >0.047423</td>\n",
       "                        <td id=\"T_fd685_row12_col6\" class=\"data row12 col6\" >0.442526</td>\n",
       "                        <td id=\"T_fd685_row12_col7\" class=\"data row12 col7\" >0.371134</td>\n",
       "                        <td id=\"T_fd685_row12_col8\" class=\"data row12 col8\" >0.698581</td>\n",
       "                        <td id=\"T_fd685_row12_col9\" class=\"data row12 col9\" >0.807742</td>\n",
       "                        <td id=\"T_fd685_row12_col10\" class=\"data row12 col10\" >0.796650</td>\n",
       "                        <td id=\"T_fd685_row12_col11\" class=\"data row12 col11\" >0.882785</td>\n",
       "                        <td id=\"T_fd685_row12_col12\" class=\"data row12 col12\" >1.000000</td>\n",
       "                        <td id=\"T_fd685_row12_col13\" class=\"data row12 col13\" >-0.223469</td>\n",
       "                        <td id=\"T_fd685_row12_col14\" class=\"data row12 col14\" >-0.232996</td>\n",
       "                        <td id=\"T_fd685_row12_col15\" class=\"data row12 col15\" >-0.214456</td>\n",
       "                        <td id=\"T_fd685_row12_col16\" class=\"data row12 col16\" >-0.397937</td>\n",
       "            </tr>\n",
       "            <tr>\n",
       "                        <th id=\"T_fd685_level0_row13\" class=\"row_heading level0 row13\" >PTR-Primary</th>\n",
       "                        <td id=\"T_fd685_row13_col0\" class=\"data row13 col0\" >-0.103060</td>\n",
       "                        <td id=\"T_fd685_row13_col1\" class=\"data row13 col1\" >0.043657</td>\n",
       "                        <td id=\"T_fd685_row13_col2\" class=\"data row13 col2\" >0.275853</td>\n",
       "                        <td id=\"T_fd685_row13_col3\" class=\"data row13 col3\" >-0.355863</td>\n",
       "                        <td id=\"T_fd685_row13_col4\" class=\"data row13 col4\" >-0.004121</td>\n",
       "                        <td id=\"T_fd685_row13_col5\" class=\"data row13 col5\" >-0.103155</td>\n",
       "                        <td id=\"T_fd685_row13_col6\" class=\"data row13 col6\" >-0.473149</td>\n",
       "                        <td id=\"T_fd685_row13_col7\" class=\"data row13 col7\" >-0.359562</td>\n",
       "                        <td id=\"T_fd685_row13_col8\" class=\"data row13 col8\" >0.081238</td>\n",
       "                        <td id=\"T_fd685_row13_col9\" class=\"data row13 col9\" >-0.098259</td>\n",
       "                        <td id=\"T_fd685_row13_col10\" class=\"data row13 col10\" >-0.307148</td>\n",
       "                        <td id=\"T_fd685_row13_col11\" class=\"data row13 col11\" >-0.175644</td>\n",
       "                        <td id=\"T_fd685_row13_col12\" class=\"data row13 col12\" >-0.223469</td>\n",
       "                        <td id=\"T_fd685_row13_col13\" class=\"data row13 col13\" >1.000000</td>\n",
       "                        <td id=\"T_fd685_row13_col14\" class=\"data row13 col14\" >0.895303</td>\n",
       "                        <td id=\"T_fd685_row13_col15\" class=\"data row13 col15\" >0.486951</td>\n",
       "                        <td id=\"T_fd685_row13_col16\" class=\"data row13 col16\" >0.566817</td>\n",
       "            </tr>\n",
       "            <tr>\n",
       "                        <th id=\"T_fd685_level0_row14\" class=\"row_heading level0 row14\" >PTR-Upper Primary</th>\n",
       "                        <td id=\"T_fd685_row14_col0\" class=\"data row14 col0\" >-0.227747</td>\n",
       "                        <td id=\"T_fd685_row14_col1\" class=\"data row14 col1\" >-0.120018</td>\n",
       "                        <td id=\"T_fd685_row14_col2\" class=\"data row14 col2\" >0.134956</td>\n",
       "                        <td id=\"T_fd685_row14_col3\" class=\"data row14 col3\" >-0.370273</td>\n",
       "                        <td id=\"T_fd685_row14_col4\" class=\"data row14 col4\" >-0.086150</td>\n",
       "                        <td id=\"T_fd685_row14_col5\" class=\"data row14 col5\" >-0.108686</td>\n",
       "                        <td id=\"T_fd685_row14_col6\" class=\"data row14 col6\" >-0.297341</td>\n",
       "                        <td id=\"T_fd685_row14_col7\" class=\"data row14 col7\" >-0.188397</td>\n",
       "                        <td id=\"T_fd685_row14_col8\" class=\"data row14 col8\" >0.163368</td>\n",
       "                        <td id=\"T_fd685_row14_col9\" class=\"data row14 col9\" >-0.072207</td>\n",
       "                        <td id=\"T_fd685_row14_col10\" class=\"data row14 col10\" >-0.293993</td>\n",
       "                        <td id=\"T_fd685_row14_col11\" class=\"data row14 col11\" >-0.145223</td>\n",
       "                        <td id=\"T_fd685_row14_col12\" class=\"data row14 col12\" >-0.232996</td>\n",
       "                        <td id=\"T_fd685_row14_col13\" class=\"data row14 col13\" >0.895303</td>\n",
       "                        <td id=\"T_fd685_row14_col14\" class=\"data row14 col14\" >1.000000</td>\n",
       "                        <td id=\"T_fd685_row14_col15\" class=\"data row14 col15\" >0.629253</td>\n",
       "                        <td id=\"T_fd685_row14_col16\" class=\"data row14 col16\" >0.584047</td>\n",
       "            </tr>\n",
       "            <tr>\n",
       "                        <th id=\"T_fd685_level0_row15\" class=\"row_heading level0 row15\" >PTR-Secondary</th>\n",
       "                        <td id=\"T_fd685_row15_col0\" class=\"data row15 col0\" >-0.015009</td>\n",
       "                        <td id=\"T_fd685_row15_col1\" class=\"data row15 col1\" >0.097753</td>\n",
       "                        <td id=\"T_fd685_row15_col2\" class=\"data row15 col2\" >0.188422</td>\n",
       "                        <td id=\"T_fd685_row15_col3\" class=\"data row15 col3\" >-0.227721</td>\n",
       "                        <td id=\"T_fd685_row15_col4\" class=\"data row15 col4\" >0.014167</td>\n",
       "                        <td id=\"T_fd685_row15_col5\" class=\"data row15 col5\" >0.032069</td>\n",
       "                        <td id=\"T_fd685_row15_col6\" class=\"data row15 col6\" >-0.319789</td>\n",
       "                        <td id=\"T_fd685_row15_col7\" class=\"data row15 col7\" >-0.230279</td>\n",
       "                        <td id=\"T_fd685_row15_col8\" class=\"data row15 col8\" >0.009285</td>\n",
       "                        <td id=\"T_fd685_row15_col9\" class=\"data row15 col9\" >-0.270940</td>\n",
       "                        <td id=\"T_fd685_row15_col10\" class=\"data row15 col10\" >-0.365767</td>\n",
       "                        <td id=\"T_fd685_row15_col11\" class=\"data row15 col11\" >-0.061860</td>\n",
       "                        <td id=\"T_fd685_row15_col12\" class=\"data row15 col12\" >-0.214456</td>\n",
       "                        <td id=\"T_fd685_row15_col13\" class=\"data row15 col13\" >0.486951</td>\n",
       "                        <td id=\"T_fd685_row15_col14\" class=\"data row15 col14\" >0.629253</td>\n",
       "                        <td id=\"T_fd685_row15_col15\" class=\"data row15 col15\" >1.000000</td>\n",
       "                        <td id=\"T_fd685_row15_col16\" class=\"data row15 col16\" >0.642309</td>\n",
       "            </tr>\n",
       "            <tr>\n",
       "                        <th id=\"T_fd685_level0_row16\" class=\"row_heading level0 row16\" >PTR-Higher Secondary</th>\n",
       "                        <td id=\"T_fd685_row16_col0\" class=\"data row16 col0\" >0.140097</td>\n",
       "                        <td id=\"T_fd685_row16_col1\" class=\"data row16 col1\" >0.234128</td>\n",
       "                        <td id=\"T_fd685_row16_col2\" class=\"data row16 col2\" >0.249324</td>\n",
       "                        <td id=\"T_fd685_row16_col3\" class=\"data row16 col3\" >-0.288338</td>\n",
       "                        <td id=\"T_fd685_row16_col4\" class=\"data row16 col4\" >-0.087959</td>\n",
       "                        <td id=\"T_fd685_row16_col5\" class=\"data row16 col5\" >-0.276497</td>\n",
       "                        <td id=\"T_fd685_row16_col6\" class=\"data row16 col6\" >-0.650354</td>\n",
       "                        <td id=\"T_fd685_row16_col7\" class=\"data row16 col7\" >-0.327495</td>\n",
       "                        <td id=\"T_fd685_row16_col8\" class=\"data row16 col8\" >-0.135139</td>\n",
       "                        <td id=\"T_fd685_row16_col9\" class=\"data row16 col9\" >-0.298388</td>\n",
       "                        <td id=\"T_fd685_row16_col10\" class=\"data row16 col10\" >-0.332647</td>\n",
       "                        <td id=\"T_fd685_row16_col11\" class=\"data row16 col11\" >-0.263209</td>\n",
       "                        <td id=\"T_fd685_row16_col12\" class=\"data row16 col12\" >-0.397937</td>\n",
       "                        <td id=\"T_fd685_row16_col13\" class=\"data row16 col13\" >0.566817</td>\n",
       "                        <td id=\"T_fd685_row16_col14\" class=\"data row16 col14\" >0.584047</td>\n",
       "                        <td id=\"T_fd685_row16_col15\" class=\"data row16 col15\" >0.642309</td>\n",
       "                        <td id=\"T_fd685_row16_col16\" class=\"data row16 col16\" >1.000000</td>\n",
       "            </tr>\n",
       "    </tbody></table>"
      ]
     },
     "metadata": {},
     "execution_count": 26
    }
   ],
   "metadata": {}
  },
  {
   "cell_type": "markdown",
   "source": [
    "### Observations\n",
    "\n",
    "* Dropouts are negatively correlated with factors. Children need more care. They need drinking water because they play a lot. If there isn't electricity, India primarily being a tropical country,discourage them to come to schools. WRITE BETTER AND FOR THE OTHER POINTS\n",
    "* Correlation with dropouts reduces with increasing age of students\n",
    "* Same thing observed in enrollments"
   ],
   "metadata": {}
  },
  {
   "cell_type": "code",
   "execution_count": 31,
   "source": [
    "from sklearn.preprocessing import StandardScaler\r\n",
    "s=StandardScaler()\r\n",
    "dataset=pd.DataFrame(s.fit_transform(dataset), columns=dataset.column)\r\n",
    "dataset\r\n"
   ],
   "outputs": [
    {
     "output_type": "execute_result",
     "data": {
      "text/plain": [
       "    Dropout-PRIMARY  Dropout-UPPER_PRIMARY  Dropout-SECONDARY  \\\n",
       "0         -0.810141              -0.925734          -1.138841   \n",
       "1          0.152148               0.090535          -0.380664   \n",
       "2          1.989023               0.937995          -0.238891   \n",
       "3          1.353182               1.507151           1.393758   \n",
       "4         -0.835314              -0.511698           1.274998   \n",
       "5         -1.005034              -1.132181          -2.068789   \n",
       "6         -0.317221               0.401916           0.377513   \n",
       "7         -0.758169              -0.001853           0.798312   \n",
       "8         -0.845871              -0.556182           0.546819   \n",
       "9         -1.005034              -0.913187          -0.999123   \n",
       "10        -0.929513              -1.308973          -0.889814   \n",
       "11        -0.810953               0.640300           0.405046   \n",
       "12        -0.411420              -0.310954          -0.532710   \n",
       "13        -0.879166              -1.070589          -1.101857   \n",
       "14         0.501333               0.423588          -0.015342   \n",
       "15         0.545996               1.178660           0.629006   \n",
       "16        -0.411420              -0.015541           1.780449   \n",
       "17        -1.005034              -1.316957          -0.579968   \n",
       "18        -0.802020              -0.754645          -1.145416   \n",
       "19         0.849706               2.039808           0.596953   \n",
       "20        -0.779282              -0.844752          -0.279573   \n",
       "21         2.041807               0.653987          -0.509698   \n",
       "22         1.426267               1.102240           0.861185   \n",
       "23         2.825443               2.113946           0.479014   \n",
       "24         1.600859               2.744694           1.212535   \n",
       "25        -0.244948              -0.128459           3.228177   \n",
       "26        -0.893783              -1.107088          -0.357651   \n",
       "27        -0.491002              -0.307532          -0.939126   \n",
       "28         0.731145               0.225124          -0.182593   \n",
       "29        -0.157246              -0.192332          -0.506821   \n",
       "30        -0.637984              -0.659975          -0.815434   \n",
       "31        -0.184044              -0.166099           0.333543   \n",
       "32         0.224421              -0.658835           0.130130   \n",
       "33         0.360847              -0.933718          -0.951043   \n",
       "34         0.083935              -0.398780          -0.572982   \n",
       "35        -0.471512               0.156119           0.158895   \n",
       "\n",
       "    Dropout-HRSECONDARY  Enrollments-Primary  Enrollments-Upper_Primary  \\\n",
       "0              1.911346            -0.840960                  -0.790850   \n",
       "1             -0.418047            -0.948743                  -1.231422   \n",
       "2              1.486968             1.873936                   1.570402   \n",
       "3             -0.432103             0.663544                  -0.367929   \n",
       "4             -1.230657            -0.024781                  -0.112114   \n",
       "5              1.144253            -1.172486                  -0.067873   \n",
       "6             -1.045912            -0.015613                   0.141868   \n",
       "7              0.466855            -1.418033                  -0.412628   \n",
       "8              2.223270            -1.276800                  -1.106035   \n",
       "9              1.984976             0.629599                   1.792063   \n",
       "10             1.348409             0.098116                   0.151267   \n",
       "11            -0.204519            -0.263391                  -0.411253   \n",
       "12            -0.699850            -0.504230                  -0.355322   \n",
       "13             0.342353            -0.223003                   0.255564   \n",
       "14             0.841030            -1.260447                  -1.938582   \n",
       "15            -1.002403             0.498772                  -0.003231   \n",
       "16            -0.073323            -0.047577                  -0.452284   \n",
       "17            -0.770802            -0.538919                  -0.171254   \n",
       "18            -0.391941            -1.904915                  -0.636811   \n",
       "19            -1.126905            -0.016109                  -0.155208   \n",
       "20            -0.670398            -0.278010                  -0.076584   \n",
       "21            -0.485653             2.642541                   1.464270   \n",
       "22            -1.230657             2.649479                   1.622894   \n",
       "23            -0.768125             1.583046                   1.885128   \n",
       "24             1.409991             0.275773                   0.104046   \n",
       "25            -1.230657             0.182856                  -0.630392   \n",
       "26             0.168987            -1.052561                  -0.591195   \n",
       "27             0.102720             0.116452                  -0.174234   \n",
       "28            -1.230657            -0.176421                  -0.833945   \n",
       "29             0.962855             0.796353                   3.026213   \n",
       "30            -0.580033             0.045588                  -0.256984   \n",
       "31             0.313570             0.301789                  -0.086211   \n",
       "32            -0.023121             0.164273                   0.540721   \n",
       "33            -0.983661            -0.527274                  -1.411593   \n",
       "34            -0.484983            -0.063930                  -0.605178   \n",
       "35             0.376825             0.032084                   0.324676   \n",
       "\n",
       "    Enrollments-Secondary  Enrollments-Higher_Secondary  Drinking water  \\\n",
       "0                0.395965                      1.633634        0.580773   \n",
       "1               -0.989060                     -0.129552       -0.229265   \n",
       "2                0.106582                      0.290592       -1.851931   \n",
       "3               -0.977563                     -1.306131       -1.507612   \n",
       "4               -1.369930                     -1.565131       -0.218896   \n",
       "5                0.133245                      1.523545        0.658104   \n",
       "6                0.689750                     -0.085587        0.293480   \n",
       "7               -0.079327                     -0.949630        0.658104   \n",
       "8               -1.023552                     -1.347614        0.658104   \n",
       "9                1.204181                      1.605270        0.658104   \n",
       "10               1.489895                      0.789978        0.564788   \n",
       "11              -0.992485                     -0.753917        0.649464   \n",
       "12              -0.216803                      0.275169        0.637799   \n",
       "13               1.950020                      2.000417        0.571700   \n",
       "14              -1.577121                     -0.179721       -0.503165   \n",
       "15              -1.171545                     -0.681234       -0.340726   \n",
       "16              -0.514502                     -1.563359        0.625703   \n",
       "17               1.092146                      1.109961        0.599350   \n",
       "18               2.219589                      1.762336        0.658104   \n",
       "19              -0.477565                     -0.778381        0.171218   \n",
       "20               0.031729                      0.166322        0.601510   \n",
       "21               0.108784                      0.285806       -0.322149   \n",
       "22              -0.548504                     -1.366405       -4.123924   \n",
       "23               1.473750                     -0.030632       -0.261234   \n",
       "24              -1.446985                     -1.353996       -2.255006   \n",
       "25              -0.784805                     -1.236994        0.410557   \n",
       "26               0.540044                      0.705063        0.646440   \n",
       "27              -0.110149                      0.566788        0.646008   \n",
       "28              -0.798503                     -0.187875        0.236021   \n",
       "29               1.611225                      0.354589        0.349642   \n",
       "30               0.361229                      0.993136        0.648168   \n",
       "31               0.446356                     -0.332533       -0.548095   \n",
       "32               1.019984                     -0.554305       -0.335973   \n",
       "33              -1.034315                      0.371607        0.356554   \n",
       "34              -0.249337                      0.450318        0.196707   \n",
       "35              -0.512423                     -0.481533        0.421573   \n",
       "\n",
       "    Electricity  Computer  Boys toilet  Girls toilet  PTR-Primary  \\\n",
       "0      0.649345  0.566114     0.679135      0.388869    -1.388644   \n",
       "1      0.747579 -0.388956    -1.958711     -0.264986     0.418266   \n",
       "2     -1.072387 -0.568884    -1.288805     -0.663955    -0.832672   \n",
       "3     -1.601728 -1.098768    -2.835692     -2.317742     0.603591   \n",
       "4     -1.538634 -1.176173    -1.428672     -1.967561     2.456833   \n",
       "5      1.010285  1.996847     0.878217      0.687982    -0.601017   \n",
       "6     -0.148090 -1.039114    -0.669033      0.015889     0.279273   \n",
       "7      0.957968  0.006403     0.183244      0.391149     0.001287   \n",
       "8      1.010285  0.857743     0.878217      0.687982     1.020570   \n",
       "9      1.010285  1.521787     0.878217      0.687982     0.788915   \n",
       "10     0.973910  0.101802     0.076074      0.584478     0.279273   \n",
       "11     1.000967  1.236196     0.742710      0.666096     0.186611   \n",
       "12     0.972114  0.201185     0.576324      0.494197     0.464597   \n",
       "13     0.845925 -0.580719     0.508025      0.451336    -0.879003   \n",
       "14    -1.450279 -0.818973    -1.547104     -1.609172    -1.342313   \n",
       "15    -1.753963 -1.104926    -0.273047     -0.600120     1.391218   \n",
       "16     0.926533 -0.086338     0.821181      0.645577    -0.045044   \n",
       "17     0.904192  1.937796     0.587949      0.429450    -0.184037   \n",
       "18     1.010285  2.168443     0.878217      0.687982    -1.481307   \n",
       "19    -1.399422 -0.937677     0.097871     -0.257690     0.464597   \n",
       "20     0.792711  0.592680     0.756879      0.558488     0.835246   \n",
       "21    -1.224959 -0.512853     0.474966      0.342360    -0.879003   \n",
       "22    -1.462404 -1.075582    -2.587929     -3.909973     0.325604   \n",
       "23     0.170637 -0.337634    -0.263602      0.629163    -0.647348   \n",
       "24    -0.879175 -0.116648     0.196323      0.521099    -0.971665   \n",
       "25    -1.340145 -0.979339    -0.836146     -0.616079     0.001287   \n",
       "26     1.010285  2.098404     0.867682      0.687982    -0.647348   \n",
       "27     1.006692  0.444994     0.659880      0.538426     0.001287   \n",
       "28    -0.516327 -0.461893     0.592308      0.485990    -0.184037   \n",
       "29     0.156940  0.625768     0.698026      0.596333    -1.759293   \n",
       "30     0.956958  0.587005     0.513111      0.529306    -0.045044   \n",
       "31    -0.027403 -0.430134    -0.410008     -0.167865    -0.462024   \n",
       "32    -1.116733 -0.948546     0.746706      0.615028    -1.110658   \n",
       "33    -0.313797 -0.753885     0.622098      0.440849     2.920143   \n",
       "34    -0.130913 -0.521065    -0.018745     -0.441444     0.047618   \n",
       "35    -0.137537 -1.005060     0.204133      0.052594     0.974239   \n",
       "\n",
       "    PTR-Upper Primary  PTR-Secondary  PTR-Higher Secondary  \n",
       "0           -1.151139      -0.650850             -0.766542  \n",
       "1            0.354792      -0.295841              0.930801  \n",
       "2           -0.983813       0.008453              0.273765  \n",
       "3            0.020141      -0.701566             -0.565781  \n",
       "4            1.637622       2.696379              1.660841  \n",
       "5           -0.649162      -0.701566             -0.164259  \n",
       "6            0.745219       0.769187             -0.273765  \n",
       "7            0.299017       0.464893             -0.255514  \n",
       "8            0.187467      -0.498703             -0.492777  \n",
       "9            0.745219       0.490251             -0.383271  \n",
       "10           0.466343      -0.752281             -0.693538  \n",
       "11          -0.091409       0.845260              0.000000  \n",
       "12           0.020141      -0.574777             -0.584032  \n",
       "13          -0.593386      -0.219768             -0.876048  \n",
       "14          -1.262689      -0.574777             -0.036502  \n",
       "15           1.024095       3.102104              1.934606  \n",
       "16          -0.147185      -0.549419             -0.273765  \n",
       "17           0.075916      -0.447988             -0.565781  \n",
       "18          -0.983813      -1.081933             -0.985554  \n",
       "19           0.912545       1.174911              0.949052  \n",
       "20           0.577893      -0.016905              0.675287  \n",
       "21          -0.928038      -0.777639             -0.620534  \n",
       "22          -0.147185      -0.828355             -0.529279  \n",
       "23          -1.318464      -1.056575             -0.876048  \n",
       "24          -1.039588      -0.473346             -0.456275  \n",
       "25           0.075916      -0.219768             -0.146008  \n",
       "26          -0.760712      -0.853713             -0.492777  \n",
       "27          -0.258735      -0.447988             -0.146008  \n",
       "28          -0.537611       0.008453              0.328518  \n",
       "29          -1.318464      -0.346557             -0.638785  \n",
       "30           0.354792      -0.092979             -0.255514  \n",
       "31          -0.537611      -0.701566             -0.036502  \n",
       "32          -0.872262       0.439535             -1.131562  \n",
       "33           3.199329       2.417443              4.124726  \n",
       "34           0.466343      -0.447988             -0.036502  \n",
       "35           2.418476       0.895976              1.405327  "
      ],
      "text/html": [
       "<div>\n",
       "<style scoped>\n",
       "    .dataframe tbody tr th:only-of-type {\n",
       "        vertical-align: middle;\n",
       "    }\n",
       "\n",
       "    .dataframe tbody tr th {\n",
       "        vertical-align: top;\n",
       "    }\n",
       "\n",
       "    .dataframe thead th {\n",
       "        text-align: right;\n",
       "    }\n",
       "</style>\n",
       "<table border=\"1\" class=\"dataframe\">\n",
       "  <thead>\n",
       "    <tr style=\"text-align: right;\">\n",
       "      <th></th>\n",
       "      <th>Dropout-PRIMARY</th>\n",
       "      <th>Dropout-UPPER_PRIMARY</th>\n",
       "      <th>Dropout-SECONDARY</th>\n",
       "      <th>Dropout-HRSECONDARY</th>\n",
       "      <th>Enrollments-Primary</th>\n",
       "      <th>Enrollments-Upper_Primary</th>\n",
       "      <th>Enrollments-Secondary</th>\n",
       "      <th>Enrollments-Higher_Secondary</th>\n",
       "      <th>Drinking water</th>\n",
       "      <th>Electricity</th>\n",
       "      <th>Computer</th>\n",
       "      <th>Boys toilet</th>\n",
       "      <th>Girls toilet</th>\n",
       "      <th>PTR-Primary</th>\n",
       "      <th>PTR-Upper Primary</th>\n",
       "      <th>PTR-Secondary</th>\n",
       "      <th>PTR-Higher Secondary</th>\n",
       "    </tr>\n",
       "  </thead>\n",
       "  <tbody>\n",
       "    <tr>\n",
       "      <th>0</th>\n",
       "      <td>-0.810141</td>\n",
       "      <td>-0.925734</td>\n",
       "      <td>-1.138841</td>\n",
       "      <td>1.911346</td>\n",
       "      <td>-0.840960</td>\n",
       "      <td>-0.790850</td>\n",
       "      <td>0.395965</td>\n",
       "      <td>1.633634</td>\n",
       "      <td>0.580773</td>\n",
       "      <td>0.649345</td>\n",
       "      <td>0.566114</td>\n",
       "      <td>0.679135</td>\n",
       "      <td>0.388869</td>\n",
       "      <td>-1.388644</td>\n",
       "      <td>-1.151139</td>\n",
       "      <td>-0.650850</td>\n",
       "      <td>-0.766542</td>\n",
       "    </tr>\n",
       "    <tr>\n",
       "      <th>1</th>\n",
       "      <td>0.152148</td>\n",
       "      <td>0.090535</td>\n",
       "      <td>-0.380664</td>\n",
       "      <td>-0.418047</td>\n",
       "      <td>-0.948743</td>\n",
       "      <td>-1.231422</td>\n",
       "      <td>-0.989060</td>\n",
       "      <td>-0.129552</td>\n",
       "      <td>-0.229265</td>\n",
       "      <td>0.747579</td>\n",
       "      <td>-0.388956</td>\n",
       "      <td>-1.958711</td>\n",
       "      <td>-0.264986</td>\n",
       "      <td>0.418266</td>\n",
       "      <td>0.354792</td>\n",
       "      <td>-0.295841</td>\n",
       "      <td>0.930801</td>\n",
       "    </tr>\n",
       "    <tr>\n",
       "      <th>2</th>\n",
       "      <td>1.989023</td>\n",
       "      <td>0.937995</td>\n",
       "      <td>-0.238891</td>\n",
       "      <td>1.486968</td>\n",
       "      <td>1.873936</td>\n",
       "      <td>1.570402</td>\n",
       "      <td>0.106582</td>\n",
       "      <td>0.290592</td>\n",
       "      <td>-1.851931</td>\n",
       "      <td>-1.072387</td>\n",
       "      <td>-0.568884</td>\n",
       "      <td>-1.288805</td>\n",
       "      <td>-0.663955</td>\n",
       "      <td>-0.832672</td>\n",
       "      <td>-0.983813</td>\n",
       "      <td>0.008453</td>\n",
       "      <td>0.273765</td>\n",
       "    </tr>\n",
       "    <tr>\n",
       "      <th>3</th>\n",
       "      <td>1.353182</td>\n",
       "      <td>1.507151</td>\n",
       "      <td>1.393758</td>\n",
       "      <td>-0.432103</td>\n",
       "      <td>0.663544</td>\n",
       "      <td>-0.367929</td>\n",
       "      <td>-0.977563</td>\n",
       "      <td>-1.306131</td>\n",
       "      <td>-1.507612</td>\n",
       "      <td>-1.601728</td>\n",
       "      <td>-1.098768</td>\n",
       "      <td>-2.835692</td>\n",
       "      <td>-2.317742</td>\n",
       "      <td>0.603591</td>\n",
       "      <td>0.020141</td>\n",
       "      <td>-0.701566</td>\n",
       "      <td>-0.565781</td>\n",
       "    </tr>\n",
       "    <tr>\n",
       "      <th>4</th>\n",
       "      <td>-0.835314</td>\n",
       "      <td>-0.511698</td>\n",
       "      <td>1.274998</td>\n",
       "      <td>-1.230657</td>\n",
       "      <td>-0.024781</td>\n",
       "      <td>-0.112114</td>\n",
       "      <td>-1.369930</td>\n",
       "      <td>-1.565131</td>\n",
       "      <td>-0.218896</td>\n",
       "      <td>-1.538634</td>\n",
       "      <td>-1.176173</td>\n",
       "      <td>-1.428672</td>\n",
       "      <td>-1.967561</td>\n",
       "      <td>2.456833</td>\n",
       "      <td>1.637622</td>\n",
       "      <td>2.696379</td>\n",
       "      <td>1.660841</td>\n",
       "    </tr>\n",
       "    <tr>\n",
       "      <th>5</th>\n",
       "      <td>-1.005034</td>\n",
       "      <td>-1.132181</td>\n",
       "      <td>-2.068789</td>\n",
       "      <td>1.144253</td>\n",
       "      <td>-1.172486</td>\n",
       "      <td>-0.067873</td>\n",
       "      <td>0.133245</td>\n",
       "      <td>1.523545</td>\n",
       "      <td>0.658104</td>\n",
       "      <td>1.010285</td>\n",
       "      <td>1.996847</td>\n",
       "      <td>0.878217</td>\n",
       "      <td>0.687982</td>\n",
       "      <td>-0.601017</td>\n",
       "      <td>-0.649162</td>\n",
       "      <td>-0.701566</td>\n",
       "      <td>-0.164259</td>\n",
       "    </tr>\n",
       "    <tr>\n",
       "      <th>6</th>\n",
       "      <td>-0.317221</td>\n",
       "      <td>0.401916</td>\n",
       "      <td>0.377513</td>\n",
       "      <td>-1.045912</td>\n",
       "      <td>-0.015613</td>\n",
       "      <td>0.141868</td>\n",
       "      <td>0.689750</td>\n",
       "      <td>-0.085587</td>\n",
       "      <td>0.293480</td>\n",
       "      <td>-0.148090</td>\n",
       "      <td>-1.039114</td>\n",
       "      <td>-0.669033</td>\n",
       "      <td>0.015889</td>\n",
       "      <td>0.279273</td>\n",
       "      <td>0.745219</td>\n",
       "      <td>0.769187</td>\n",
       "      <td>-0.273765</td>\n",
       "    </tr>\n",
       "    <tr>\n",
       "      <th>7</th>\n",
       "      <td>-0.758169</td>\n",
       "      <td>-0.001853</td>\n",
       "      <td>0.798312</td>\n",
       "      <td>0.466855</td>\n",
       "      <td>-1.418033</td>\n",
       "      <td>-0.412628</td>\n",
       "      <td>-0.079327</td>\n",
       "      <td>-0.949630</td>\n",
       "      <td>0.658104</td>\n",
       "      <td>0.957968</td>\n",
       "      <td>0.006403</td>\n",
       "      <td>0.183244</td>\n",
       "      <td>0.391149</td>\n",
       "      <td>0.001287</td>\n",
       "      <td>0.299017</td>\n",
       "      <td>0.464893</td>\n",
       "      <td>-0.255514</td>\n",
       "    </tr>\n",
       "    <tr>\n",
       "      <th>8</th>\n",
       "      <td>-0.845871</td>\n",
       "      <td>-0.556182</td>\n",
       "      <td>0.546819</td>\n",
       "      <td>2.223270</td>\n",
       "      <td>-1.276800</td>\n",
       "      <td>-1.106035</td>\n",
       "      <td>-1.023552</td>\n",
       "      <td>-1.347614</td>\n",
       "      <td>0.658104</td>\n",
       "      <td>1.010285</td>\n",
       "      <td>0.857743</td>\n",
       "      <td>0.878217</td>\n",
       "      <td>0.687982</td>\n",
       "      <td>1.020570</td>\n",
       "      <td>0.187467</td>\n",
       "      <td>-0.498703</td>\n",
       "      <td>-0.492777</td>\n",
       "    </tr>\n",
       "    <tr>\n",
       "      <th>9</th>\n",
       "      <td>-1.005034</td>\n",
       "      <td>-0.913187</td>\n",
       "      <td>-0.999123</td>\n",
       "      <td>1.984976</td>\n",
       "      <td>0.629599</td>\n",
       "      <td>1.792063</td>\n",
       "      <td>1.204181</td>\n",
       "      <td>1.605270</td>\n",
       "      <td>0.658104</td>\n",
       "      <td>1.010285</td>\n",
       "      <td>1.521787</td>\n",
       "      <td>0.878217</td>\n",
       "      <td>0.687982</td>\n",
       "      <td>0.788915</td>\n",
       "      <td>0.745219</td>\n",
       "      <td>0.490251</td>\n",
       "      <td>-0.383271</td>\n",
       "    </tr>\n",
       "    <tr>\n",
       "      <th>10</th>\n",
       "      <td>-0.929513</td>\n",
       "      <td>-1.308973</td>\n",
       "      <td>-0.889814</td>\n",
       "      <td>1.348409</td>\n",
       "      <td>0.098116</td>\n",
       "      <td>0.151267</td>\n",
       "      <td>1.489895</td>\n",
       "      <td>0.789978</td>\n",
       "      <td>0.564788</td>\n",
       "      <td>0.973910</td>\n",
       "      <td>0.101802</td>\n",
       "      <td>0.076074</td>\n",
       "      <td>0.584478</td>\n",
       "      <td>0.279273</td>\n",
       "      <td>0.466343</td>\n",
       "      <td>-0.752281</td>\n",
       "      <td>-0.693538</td>\n",
       "    </tr>\n",
       "    <tr>\n",
       "      <th>11</th>\n",
       "      <td>-0.810953</td>\n",
       "      <td>0.640300</td>\n",
       "      <td>0.405046</td>\n",
       "      <td>-0.204519</td>\n",
       "      <td>-0.263391</td>\n",
       "      <td>-0.411253</td>\n",
       "      <td>-0.992485</td>\n",
       "      <td>-0.753917</td>\n",
       "      <td>0.649464</td>\n",
       "      <td>1.000967</td>\n",
       "      <td>1.236196</td>\n",
       "      <td>0.742710</td>\n",
       "      <td>0.666096</td>\n",
       "      <td>0.186611</td>\n",
       "      <td>-0.091409</td>\n",
       "      <td>0.845260</td>\n",
       "      <td>0.000000</td>\n",
       "    </tr>\n",
       "    <tr>\n",
       "      <th>12</th>\n",
       "      <td>-0.411420</td>\n",
       "      <td>-0.310954</td>\n",
       "      <td>-0.532710</td>\n",
       "      <td>-0.699850</td>\n",
       "      <td>-0.504230</td>\n",
       "      <td>-0.355322</td>\n",
       "      <td>-0.216803</td>\n",
       "      <td>0.275169</td>\n",
       "      <td>0.637799</td>\n",
       "      <td>0.972114</td>\n",
       "      <td>0.201185</td>\n",
       "      <td>0.576324</td>\n",
       "      <td>0.494197</td>\n",
       "      <td>0.464597</td>\n",
       "      <td>0.020141</td>\n",
       "      <td>-0.574777</td>\n",
       "      <td>-0.584032</td>\n",
       "    </tr>\n",
       "    <tr>\n",
       "      <th>13</th>\n",
       "      <td>-0.879166</td>\n",
       "      <td>-1.070589</td>\n",
       "      <td>-1.101857</td>\n",
       "      <td>0.342353</td>\n",
       "      <td>-0.223003</td>\n",
       "      <td>0.255564</td>\n",
       "      <td>1.950020</td>\n",
       "      <td>2.000417</td>\n",
       "      <td>0.571700</td>\n",
       "      <td>0.845925</td>\n",
       "      <td>-0.580719</td>\n",
       "      <td>0.508025</td>\n",
       "      <td>0.451336</td>\n",
       "      <td>-0.879003</td>\n",
       "      <td>-0.593386</td>\n",
       "      <td>-0.219768</td>\n",
       "      <td>-0.876048</td>\n",
       "    </tr>\n",
       "    <tr>\n",
       "      <th>14</th>\n",
       "      <td>0.501333</td>\n",
       "      <td>0.423588</td>\n",
       "      <td>-0.015342</td>\n",
       "      <td>0.841030</td>\n",
       "      <td>-1.260447</td>\n",
       "      <td>-1.938582</td>\n",
       "      <td>-1.577121</td>\n",
       "      <td>-0.179721</td>\n",
       "      <td>-0.503165</td>\n",
       "      <td>-1.450279</td>\n",
       "      <td>-0.818973</td>\n",
       "      <td>-1.547104</td>\n",
       "      <td>-1.609172</td>\n",
       "      <td>-1.342313</td>\n",
       "      <td>-1.262689</td>\n",
       "      <td>-0.574777</td>\n",
       "      <td>-0.036502</td>\n",
       "    </tr>\n",
       "    <tr>\n",
       "      <th>15</th>\n",
       "      <td>0.545996</td>\n",
       "      <td>1.178660</td>\n",
       "      <td>0.629006</td>\n",
       "      <td>-1.002403</td>\n",
       "      <td>0.498772</td>\n",
       "      <td>-0.003231</td>\n",
       "      <td>-1.171545</td>\n",
       "      <td>-0.681234</td>\n",
       "      <td>-0.340726</td>\n",
       "      <td>-1.753963</td>\n",
       "      <td>-1.104926</td>\n",
       "      <td>-0.273047</td>\n",
       "      <td>-0.600120</td>\n",
       "      <td>1.391218</td>\n",
       "      <td>1.024095</td>\n",
       "      <td>3.102104</td>\n",
       "      <td>1.934606</td>\n",
       "    </tr>\n",
       "    <tr>\n",
       "      <th>16</th>\n",
       "      <td>-0.411420</td>\n",
       "      <td>-0.015541</td>\n",
       "      <td>1.780449</td>\n",
       "      <td>-0.073323</td>\n",
       "      <td>-0.047577</td>\n",
       "      <td>-0.452284</td>\n",
       "      <td>-0.514502</td>\n",
       "      <td>-1.563359</td>\n",
       "      <td>0.625703</td>\n",
       "      <td>0.926533</td>\n",
       "      <td>-0.086338</td>\n",
       "      <td>0.821181</td>\n",
       "      <td>0.645577</td>\n",
       "      <td>-0.045044</td>\n",
       "      <td>-0.147185</td>\n",
       "      <td>-0.549419</td>\n",
       "      <td>-0.273765</td>\n",
       "    </tr>\n",
       "    <tr>\n",
       "      <th>17</th>\n",
       "      <td>-1.005034</td>\n",
       "      <td>-1.316957</td>\n",
       "      <td>-0.579968</td>\n",
       "      <td>-0.770802</td>\n",
       "      <td>-0.538919</td>\n",
       "      <td>-0.171254</td>\n",
       "      <td>1.092146</td>\n",
       "      <td>1.109961</td>\n",
       "      <td>0.599350</td>\n",
       "      <td>0.904192</td>\n",
       "      <td>1.937796</td>\n",
       "      <td>0.587949</td>\n",
       "      <td>0.429450</td>\n",
       "      <td>-0.184037</td>\n",
       "      <td>0.075916</td>\n",
       "      <td>-0.447988</td>\n",
       "      <td>-0.565781</td>\n",
       "    </tr>\n",
       "    <tr>\n",
       "      <th>18</th>\n",
       "      <td>-0.802020</td>\n",
       "      <td>-0.754645</td>\n",
       "      <td>-1.145416</td>\n",
       "      <td>-0.391941</td>\n",
       "      <td>-1.904915</td>\n",
       "      <td>-0.636811</td>\n",
       "      <td>2.219589</td>\n",
       "      <td>1.762336</td>\n",
       "      <td>0.658104</td>\n",
       "      <td>1.010285</td>\n",
       "      <td>2.168443</td>\n",
       "      <td>0.878217</td>\n",
       "      <td>0.687982</td>\n",
       "      <td>-1.481307</td>\n",
       "      <td>-0.983813</td>\n",
       "      <td>-1.081933</td>\n",
       "      <td>-0.985554</td>\n",
       "    </tr>\n",
       "    <tr>\n",
       "      <th>19</th>\n",
       "      <td>0.849706</td>\n",
       "      <td>2.039808</td>\n",
       "      <td>0.596953</td>\n",
       "      <td>-1.126905</td>\n",
       "      <td>-0.016109</td>\n",
       "      <td>-0.155208</td>\n",
       "      <td>-0.477565</td>\n",
       "      <td>-0.778381</td>\n",
       "      <td>0.171218</td>\n",
       "      <td>-1.399422</td>\n",
       "      <td>-0.937677</td>\n",
       "      <td>0.097871</td>\n",
       "      <td>-0.257690</td>\n",
       "      <td>0.464597</td>\n",
       "      <td>0.912545</td>\n",
       "      <td>1.174911</td>\n",
       "      <td>0.949052</td>\n",
       "    </tr>\n",
       "    <tr>\n",
       "      <th>20</th>\n",
       "      <td>-0.779282</td>\n",
       "      <td>-0.844752</td>\n",
       "      <td>-0.279573</td>\n",
       "      <td>-0.670398</td>\n",
       "      <td>-0.278010</td>\n",
       "      <td>-0.076584</td>\n",
       "      <td>0.031729</td>\n",
       "      <td>0.166322</td>\n",
       "      <td>0.601510</td>\n",
       "      <td>0.792711</td>\n",
       "      <td>0.592680</td>\n",
       "      <td>0.756879</td>\n",
       "      <td>0.558488</td>\n",
       "      <td>0.835246</td>\n",
       "      <td>0.577893</td>\n",
       "      <td>-0.016905</td>\n",
       "      <td>0.675287</td>\n",
       "    </tr>\n",
       "    <tr>\n",
       "      <th>21</th>\n",
       "      <td>2.041807</td>\n",
       "      <td>0.653987</td>\n",
       "      <td>-0.509698</td>\n",
       "      <td>-0.485653</td>\n",
       "      <td>2.642541</td>\n",
       "      <td>1.464270</td>\n",
       "      <td>0.108784</td>\n",
       "      <td>0.285806</td>\n",
       "      <td>-0.322149</td>\n",
       "      <td>-1.224959</td>\n",
       "      <td>-0.512853</td>\n",
       "      <td>0.474966</td>\n",
       "      <td>0.342360</td>\n",
       "      <td>-0.879003</td>\n",
       "      <td>-0.928038</td>\n",
       "      <td>-0.777639</td>\n",
       "      <td>-0.620534</td>\n",
       "    </tr>\n",
       "    <tr>\n",
       "      <th>22</th>\n",
       "      <td>1.426267</td>\n",
       "      <td>1.102240</td>\n",
       "      <td>0.861185</td>\n",
       "      <td>-1.230657</td>\n",
       "      <td>2.649479</td>\n",
       "      <td>1.622894</td>\n",
       "      <td>-0.548504</td>\n",
       "      <td>-1.366405</td>\n",
       "      <td>-4.123924</td>\n",
       "      <td>-1.462404</td>\n",
       "      <td>-1.075582</td>\n",
       "      <td>-2.587929</td>\n",
       "      <td>-3.909973</td>\n",
       "      <td>0.325604</td>\n",
       "      <td>-0.147185</td>\n",
       "      <td>-0.828355</td>\n",
       "      <td>-0.529279</td>\n",
       "    </tr>\n",
       "    <tr>\n",
       "      <th>23</th>\n",
       "      <td>2.825443</td>\n",
       "      <td>2.113946</td>\n",
       "      <td>0.479014</td>\n",
       "      <td>-0.768125</td>\n",
       "      <td>1.583046</td>\n",
       "      <td>1.885128</td>\n",
       "      <td>1.473750</td>\n",
       "      <td>-0.030632</td>\n",
       "      <td>-0.261234</td>\n",
       "      <td>0.170637</td>\n",
       "      <td>-0.337634</td>\n",
       "      <td>-0.263602</td>\n",
       "      <td>0.629163</td>\n",
       "      <td>-0.647348</td>\n",
       "      <td>-1.318464</td>\n",
       "      <td>-1.056575</td>\n",
       "      <td>-0.876048</td>\n",
       "    </tr>\n",
       "    <tr>\n",
       "      <th>24</th>\n",
       "      <td>1.600859</td>\n",
       "      <td>2.744694</td>\n",
       "      <td>1.212535</td>\n",
       "      <td>1.409991</td>\n",
       "      <td>0.275773</td>\n",
       "      <td>0.104046</td>\n",
       "      <td>-1.446985</td>\n",
       "      <td>-1.353996</td>\n",
       "      <td>-2.255006</td>\n",
       "      <td>-0.879175</td>\n",
       "      <td>-0.116648</td>\n",
       "      <td>0.196323</td>\n",
       "      <td>0.521099</td>\n",
       "      <td>-0.971665</td>\n",
       "      <td>-1.039588</td>\n",
       "      <td>-0.473346</td>\n",
       "      <td>-0.456275</td>\n",
       "    </tr>\n",
       "    <tr>\n",
       "      <th>25</th>\n",
       "      <td>-0.244948</td>\n",
       "      <td>-0.128459</td>\n",
       "      <td>3.228177</td>\n",
       "      <td>-1.230657</td>\n",
       "      <td>0.182856</td>\n",
       "      <td>-0.630392</td>\n",
       "      <td>-0.784805</td>\n",
       "      <td>-1.236994</td>\n",
       "      <td>0.410557</td>\n",
       "      <td>-1.340145</td>\n",
       "      <td>-0.979339</td>\n",
       "      <td>-0.836146</td>\n",
       "      <td>-0.616079</td>\n",
       "      <td>0.001287</td>\n",
       "      <td>0.075916</td>\n",
       "      <td>-0.219768</td>\n",
       "      <td>-0.146008</td>\n",
       "    </tr>\n",
       "    <tr>\n",
       "      <th>26</th>\n",
       "      <td>-0.893783</td>\n",
       "      <td>-1.107088</td>\n",
       "      <td>-0.357651</td>\n",
       "      <td>0.168987</td>\n",
       "      <td>-1.052561</td>\n",
       "      <td>-0.591195</td>\n",
       "      <td>0.540044</td>\n",
       "      <td>0.705063</td>\n",
       "      <td>0.646440</td>\n",
       "      <td>1.010285</td>\n",
       "      <td>2.098404</td>\n",
       "      <td>0.867682</td>\n",
       "      <td>0.687982</td>\n",
       "      <td>-0.647348</td>\n",
       "      <td>-0.760712</td>\n",
       "      <td>-0.853713</td>\n",
       "      <td>-0.492777</td>\n",
       "    </tr>\n",
       "    <tr>\n",
       "      <th>27</th>\n",
       "      <td>-0.491002</td>\n",
       "      <td>-0.307532</td>\n",
       "      <td>-0.939126</td>\n",
       "      <td>0.102720</td>\n",
       "      <td>0.116452</td>\n",
       "      <td>-0.174234</td>\n",
       "      <td>-0.110149</td>\n",
       "      <td>0.566788</td>\n",
       "      <td>0.646008</td>\n",
       "      <td>1.006692</td>\n",
       "      <td>0.444994</td>\n",
       "      <td>0.659880</td>\n",
       "      <td>0.538426</td>\n",
       "      <td>0.001287</td>\n",
       "      <td>-0.258735</td>\n",
       "      <td>-0.447988</td>\n",
       "      <td>-0.146008</td>\n",
       "    </tr>\n",
       "    <tr>\n",
       "      <th>28</th>\n",
       "      <td>0.731145</td>\n",
       "      <td>0.225124</td>\n",
       "      <td>-0.182593</td>\n",
       "      <td>-1.230657</td>\n",
       "      <td>-0.176421</td>\n",
       "      <td>-0.833945</td>\n",
       "      <td>-0.798503</td>\n",
       "      <td>-0.187875</td>\n",
       "      <td>0.236021</td>\n",
       "      <td>-0.516327</td>\n",
       "      <td>-0.461893</td>\n",
       "      <td>0.592308</td>\n",
       "      <td>0.485990</td>\n",
       "      <td>-0.184037</td>\n",
       "      <td>-0.537611</td>\n",
       "      <td>0.008453</td>\n",
       "      <td>0.328518</td>\n",
       "    </tr>\n",
       "    <tr>\n",
       "      <th>29</th>\n",
       "      <td>-0.157246</td>\n",
       "      <td>-0.192332</td>\n",
       "      <td>-0.506821</td>\n",
       "      <td>0.962855</td>\n",
       "      <td>0.796353</td>\n",
       "      <td>3.026213</td>\n",
       "      <td>1.611225</td>\n",
       "      <td>0.354589</td>\n",
       "      <td>0.349642</td>\n",
       "      <td>0.156940</td>\n",
       "      <td>0.625768</td>\n",
       "      <td>0.698026</td>\n",
       "      <td>0.596333</td>\n",
       "      <td>-1.759293</td>\n",
       "      <td>-1.318464</td>\n",
       "      <td>-0.346557</td>\n",
       "      <td>-0.638785</td>\n",
       "    </tr>\n",
       "    <tr>\n",
       "      <th>30</th>\n",
       "      <td>-0.637984</td>\n",
       "      <td>-0.659975</td>\n",
       "      <td>-0.815434</td>\n",
       "      <td>-0.580033</td>\n",
       "      <td>0.045588</td>\n",
       "      <td>-0.256984</td>\n",
       "      <td>0.361229</td>\n",
       "      <td>0.993136</td>\n",
       "      <td>0.648168</td>\n",
       "      <td>0.956958</td>\n",
       "      <td>0.587005</td>\n",
       "      <td>0.513111</td>\n",
       "      <td>0.529306</td>\n",
       "      <td>-0.045044</td>\n",
       "      <td>0.354792</td>\n",
       "      <td>-0.092979</td>\n",
       "      <td>-0.255514</td>\n",
       "    </tr>\n",
       "    <tr>\n",
       "      <th>31</th>\n",
       "      <td>-0.184044</td>\n",
       "      <td>-0.166099</td>\n",
       "      <td>0.333543</td>\n",
       "      <td>0.313570</td>\n",
       "      <td>0.301789</td>\n",
       "      <td>-0.086211</td>\n",
       "      <td>0.446356</td>\n",
       "      <td>-0.332533</td>\n",
       "      <td>-0.548095</td>\n",
       "      <td>-0.027403</td>\n",
       "      <td>-0.430134</td>\n",
       "      <td>-0.410008</td>\n",
       "      <td>-0.167865</td>\n",
       "      <td>-0.462024</td>\n",
       "      <td>-0.537611</td>\n",
       "      <td>-0.701566</td>\n",
       "      <td>-0.036502</td>\n",
       "    </tr>\n",
       "    <tr>\n",
       "      <th>32</th>\n",
       "      <td>0.224421</td>\n",
       "      <td>-0.658835</td>\n",
       "      <td>0.130130</td>\n",
       "      <td>-0.023121</td>\n",
       "      <td>0.164273</td>\n",
       "      <td>0.540721</td>\n",
       "      <td>1.019984</td>\n",
       "      <td>-0.554305</td>\n",
       "      <td>-0.335973</td>\n",
       "      <td>-1.116733</td>\n",
       "      <td>-0.948546</td>\n",
       "      <td>0.746706</td>\n",
       "      <td>0.615028</td>\n",
       "      <td>-1.110658</td>\n",
       "      <td>-0.872262</td>\n",
       "      <td>0.439535</td>\n",
       "      <td>-1.131562</td>\n",
       "    </tr>\n",
       "    <tr>\n",
       "      <th>33</th>\n",
       "      <td>0.360847</td>\n",
       "      <td>-0.933718</td>\n",
       "      <td>-0.951043</td>\n",
       "      <td>-0.983661</td>\n",
       "      <td>-0.527274</td>\n",
       "      <td>-1.411593</td>\n",
       "      <td>-1.034315</td>\n",
       "      <td>0.371607</td>\n",
       "      <td>0.356554</td>\n",
       "      <td>-0.313797</td>\n",
       "      <td>-0.753885</td>\n",
       "      <td>0.622098</td>\n",
       "      <td>0.440849</td>\n",
       "      <td>2.920143</td>\n",
       "      <td>3.199329</td>\n",
       "      <td>2.417443</td>\n",
       "      <td>4.124726</td>\n",
       "    </tr>\n",
       "    <tr>\n",
       "      <th>34</th>\n",
       "      <td>0.083935</td>\n",
       "      <td>-0.398780</td>\n",
       "      <td>-0.572982</td>\n",
       "      <td>-0.484983</td>\n",
       "      <td>-0.063930</td>\n",
       "      <td>-0.605178</td>\n",
       "      <td>-0.249337</td>\n",
       "      <td>0.450318</td>\n",
       "      <td>0.196707</td>\n",
       "      <td>-0.130913</td>\n",
       "      <td>-0.521065</td>\n",
       "      <td>-0.018745</td>\n",
       "      <td>-0.441444</td>\n",
       "      <td>0.047618</td>\n",
       "      <td>0.466343</td>\n",
       "      <td>-0.447988</td>\n",
       "      <td>-0.036502</td>\n",
       "    </tr>\n",
       "    <tr>\n",
       "      <th>35</th>\n",
       "      <td>-0.471512</td>\n",
       "      <td>0.156119</td>\n",
       "      <td>0.158895</td>\n",
       "      <td>0.376825</td>\n",
       "      <td>0.032084</td>\n",
       "      <td>0.324676</td>\n",
       "      <td>-0.512423</td>\n",
       "      <td>-0.481533</td>\n",
       "      <td>0.421573</td>\n",
       "      <td>-0.137537</td>\n",
       "      <td>-1.005060</td>\n",
       "      <td>0.204133</td>\n",
       "      <td>0.052594</td>\n",
       "      <td>0.974239</td>\n",
       "      <td>2.418476</td>\n",
       "      <td>0.895976</td>\n",
       "      <td>1.405327</td>\n",
       "    </tr>\n",
       "  </tbody>\n",
       "</table>\n",
       "</div>"
      ]
     },
     "metadata": {},
     "execution_count": 31
    }
   ],
   "metadata": {}
  },
  {
   "cell_type": "markdown",
   "source": [
    "## Checking feature importance"
   ],
   "metadata": {}
  },
  {
   "cell_type": "code",
   "execution_count": 32,
   "source": [
    "from factor_analyzer.factor_analyzer import calculate_bartlett_sphericity\r\n",
    "chi2,p = calculate_bartlett_sphericity(dataset)\r\n",
    "p"
   ],
   "outputs": [
    {
     "output_type": "execute_result",
     "data": {
      "text/plain": [
       "1.7797734559233775e-58"
      ]
     },
     "metadata": {},
     "execution_count": 32
    }
   ],
   "metadata": {}
  },
  {
   "cell_type": "code",
   "execution_count": 33,
   "source": [
    "from factor_analyzer.factor_analyzer import calculate_kmo\r\n",
    "kmo_vars,kmo_model = calculate_kmo(dataset)\r\n",
    "print(kmo_model)"
   ],
   "outputs": [
    {
     "output_type": "stream",
     "name": "stdout",
     "text": [
      "0.6135015067877297\n"
     ]
    },
    {
     "output_type": "stream",
     "name": "stderr",
     "text": [
      "c:\\Users\\ADMIN\\Documents\\Codebase\\envs\\machine_L\\lib\\site-packages\\factor_analyzer\\utils.py:248: UserWarning:\n",
      "\n",
      "The inverse of the variance-covariance matrix was calculated using the Moore-Penrose generalized matrix inversion, due to its determinant being at or very close to zero.\n",
      "\n"
     ]
    }
   ],
   "metadata": {}
  },
  {
   "cell_type": "code",
   "execution_count": 35,
   "source": [
    "#Using SVD to find feature importance\r\n",
    "from sklearn.decomposition import PCA\r\n",
    "p=PCA(n_components=3)\r\n",
    "clusters_X=p.fit_transform(dataset)\r\n",
    "\r\n",
    "for_factor_loadings = pd.concat([dataset,pd.DataFrame(clusters_X)], axis=1)\r\n",
    "for_factor_loadings.corr().iloc[:-3,-3:].style.background_gradient(cmap='Reds')"
   ],
   "outputs": [
    {
     "output_type": "execute_result",
     "data": {
      "text/plain": [
       "<pandas.io.formats.style.Styler at 0x2b7ead7e220>"
      ],
      "text/html": [
       "<style  type=\"text/css\" >\n",
       "#T_a6aec_row0_col0{\n",
       "            background-color:  #77040f;\n",
       "            color:  #f1f1f1;\n",
       "        }#T_a6aec_row0_col1,#T_a6aec_row4_col1{\n",
       "            background-color:  #ffede5;\n",
       "            color:  #000000;\n",
       "        }#T_a6aec_row0_col2{\n",
       "            background-color:  #fb7656;\n",
       "            color:  #000000;\n",
       "        }#T_a6aec_row1_col0,#T_a6aec_row2_col2,#T_a6aec_row14_col1{\n",
       "            background-color:  #67000d;\n",
       "            color:  #f1f1f1;\n",
       "        }#T_a6aec_row1_col1{\n",
       "            background-color:  #fed8c7;\n",
       "            color:  #000000;\n",
       "        }#T_a6aec_row1_col2{\n",
       "            background-color:  #db2824;\n",
       "            color:  #f1f1f1;\n",
       "        }#T_a6aec_row2_col0{\n",
       "            background-color:  #6f020e;\n",
       "            color:  #f1f1f1;\n",
       "        }#T_a6aec_row2_col1{\n",
       "            background-color:  #fc8666;\n",
       "            color:  #000000;\n",
       "        }#T_a6aec_row3_col0{\n",
       "            background-color:  #fcb89e;\n",
       "            color:  #000000;\n",
       "        }#T_a6aec_row3_col1{\n",
       "            background-color:  #fcc2aa;\n",
       "            color:  #000000;\n",
       "        }#T_a6aec_row3_col2{\n",
       "            background-color:  #c3161b;\n",
       "            color:  #f1f1f1;\n",
       "        }#T_a6aec_row4_col0{\n",
       "            background-color:  #9d0d14;\n",
       "            color:  #f1f1f1;\n",
       "        }#T_a6aec_row4_col2{\n",
       "            background-color:  #fee2d5;\n",
       "            color:  #000000;\n",
       "        }#T_a6aec_row5_col0{\n",
       "            background-color:  #f34935;\n",
       "            color:  #000000;\n",
       "        }#T_a6aec_row5_col1,#T_a6aec_row5_col2,#T_a6aec_row9_col0{\n",
       "            background-color:  #fff5f0;\n",
       "            color:  #000000;\n",
       "        }#T_a6aec_row6_col0{\n",
       "            background-color:  #fedecf;\n",
       "            color:  #000000;\n",
       "        }#T_a6aec_row6_col1{\n",
       "            background-color:  #fedfd0;\n",
       "            color:  #000000;\n",
       "        }#T_a6aec_row6_col2{\n",
       "            background-color:  #fcbfa7;\n",
       "            color:  #000000;\n",
       "        }#T_a6aec_row7_col0,#T_a6aec_row12_col0{\n",
       "            background-color:  #ffebe2;\n",
       "            color:  #000000;\n",
       "        }#T_a6aec_row7_col1{\n",
       "            background-color:  #fc9d7f;\n",
       "            color:  #000000;\n",
       "        }#T_a6aec_row7_col2{\n",
       "            background-color:  #fcad90;\n",
       "            color:  #000000;\n",
       "        }#T_a6aec_row8_col0{\n",
       "            background-color:  #fee6da;\n",
       "            color:  #000000;\n",
       "        }#T_a6aec_row8_col1{\n",
       "            background-color:  #ca181d;\n",
       "            color:  #f1f1f1;\n",
       "        }#T_a6aec_row8_col2{\n",
       "            background-color:  #ea362a;\n",
       "            color:  #f1f1f1;\n",
       "        }#T_a6aec_row9_col1{\n",
       "            background-color:  #fb6b4b;\n",
       "            color:  #000000;\n",
       "        }#T_a6aec_row9_col2{\n",
       "            background-color:  #d92523;\n",
       "            color:  #f1f1f1;\n",
       "        }#T_a6aec_row10_col0{\n",
       "            background-color:  #fff1ea;\n",
       "            color:  #000000;\n",
       "        }#T_a6aec_row10_col1,#T_a6aec_row16_col2{\n",
       "            background-color:  #fc9272;\n",
       "            color:  #000000;\n",
       "        }#T_a6aec_row10_col2{\n",
       "            background-color:  #d11e1f;\n",
       "            color:  #f1f1f1;\n",
       "        }#T_a6aec_row11_col0{\n",
       "            background-color:  #feeae1;\n",
       "            color:  #000000;\n",
       "        }#T_a6aec_row11_col1{\n",
       "            background-color:  #f85d42;\n",
       "            color:  #000000;\n",
       "        }#T_a6aec_row11_col2{\n",
       "            background-color:  #fb7252;\n",
       "            color:  #000000;\n",
       "        }#T_a6aec_row12_col1{\n",
       "            background-color:  #fb6c4c;\n",
       "            color:  #000000;\n",
       "        }#T_a6aec_row12_col2{\n",
       "            background-color:  #f85f43;\n",
       "            color:  #000000;\n",
       "        }#T_a6aec_row13_col0,#T_a6aec_row15_col0{\n",
       "            background-color:  #bd151a;\n",
       "            color:  #f1f1f1;\n",
       "        }#T_a6aec_row13_col1{\n",
       "            background-color:  #79040f;\n",
       "            color:  #f1f1f1;\n",
       "        }#T_a6aec_row13_col2{\n",
       "            background-color:  #fc8060;\n",
       "            color:  #000000;\n",
       "        }#T_a6aec_row14_col0{\n",
       "            background-color:  #d42121;\n",
       "            color:  #f1f1f1;\n",
       "        }#T_a6aec_row14_col2{\n",
       "            background-color:  #fc9b7c;\n",
       "            color:  #000000;\n",
       "        }#T_a6aec_row15_col1{\n",
       "            background-color:  #980c13;\n",
       "            color:  #f1f1f1;\n",
       "        }#T_a6aec_row15_col2{\n",
       "            background-color:  #fcab8f;\n",
       "            color:  #000000;\n",
       "        }#T_a6aec_row16_col0{\n",
       "            background-color:  #bc141a;\n",
       "            color:  #f1f1f1;\n",
       "        }#T_a6aec_row16_col1{\n",
       "            background-color:  #820711;\n",
       "            color:  #f1f1f1;\n",
       "        }</style><table id=\"T_a6aec_\" ><thead>    <tr>        <th class=\"blank level0\" ></th>        <th class=\"col_heading level0 col0\" >0</th>        <th class=\"col_heading level0 col1\" >1</th>        <th class=\"col_heading level0 col2\" >2</th>    </tr></thead><tbody>\n",
       "                <tr>\n",
       "                        <th id=\"T_a6aec_level0_row0\" class=\"row_heading level0 row0\" >Dropout-PRIMARY</th>\n",
       "                        <td id=\"T_a6aec_row0_col0\" class=\"data row0 col0\" >0.656923</td>\n",
       "                        <td id=\"T_a6aec_row0_col1\" class=\"data row0 col1\" >-0.519195</td>\n",
       "                        <td id=\"T_a6aec_row0_col2\" class=\"data row0 col2\" >-0.185737</td>\n",
       "            </tr>\n",
       "            <tr>\n",
       "                        <th id=\"T_a6aec_level0_row1\" class=\"row_heading level0 row1\" >Dropout-UPPER_PRIMARY</th>\n",
       "                        <td id=\"T_a6aec_row1_col0\" class=\"data row1 col0\" >0.707836</td>\n",
       "                        <td id=\"T_a6aec_row1_col1\" class=\"data row1 col1\" >-0.369527</td>\n",
       "                        <td id=\"T_a6aec_row1_col2\" class=\"data row1 col2\" >0.056796</td>\n",
       "            </tr>\n",
       "            <tr>\n",
       "                        <th id=\"T_a6aec_level0_row2\" class=\"row_heading level0 row2\" >Dropout-SECONDARY</th>\n",
       "                        <td id=\"T_a6aec_row2_col0\" class=\"data row2 col0\" >0.682609</td>\n",
       "                        <td id=\"T_a6aec_row2_col1\" class=\"data row2 col1\" >0.003668</td>\n",
       "                        <td id=\"T_a6aec_row2_col2\" class=\"data row2 col2\" >0.383791</td>\n",
       "            </tr>\n",
       "            <tr>\n",
       "                        <th id=\"T_a6aec_level0_row3\" class=\"row_heading level0 row3\" >Dropout-HRSECONDARY</th>\n",
       "                        <td id=\"T_a6aec_row3_col0\" class=\"data row3 col0\" >-0.451020</td>\n",
       "                        <td id=\"T_a6aec_row3_col1\" class=\"data row3 col1\" >-0.260169</td>\n",
       "                        <td id=\"T_a6aec_row3_col2\" class=\"data row3 col2\" >0.143775</td>\n",
       "            </tr>\n",
       "            <tr>\n",
       "                        <th id=\"T_a6aec_level0_row4\" class=\"row_heading level0 row4\" >Enrollments-Primary</th>\n",
       "                        <td id=\"T_a6aec_row4_col0\" class=\"data row4 col0\" >0.532726</td>\n",
       "                        <td id=\"T_a6aec_row4_col1\" class=\"data row4 col1\" >-0.521771</td>\n",
       "                        <td id=\"T_a6aec_row4_col2\" class=\"data row4 col2\" >-0.554618</td>\n",
       "            </tr>\n",
       "            <tr>\n",
       "                        <th id=\"T_a6aec_level0_row5\" class=\"row_heading level0 row5\" >Enrollments-Upper_Primary</th>\n",
       "                        <td id=\"T_a6aec_row5_col0\" class=\"data row5 col0\" >0.062995</td>\n",
       "                        <td id=\"T_a6aec_row5_col1\" class=\"data row5 col1\" >-0.590274</td>\n",
       "                        <td id=\"T_a6aec_row5_col2\" class=\"data row5 col2\" >-0.676731</td>\n",
       "            </tr>\n",
       "            <tr>\n",
       "                        <th id=\"T_a6aec_level0_row6\" class=\"row_heading level0 row6\" >Enrollments-Secondary</th>\n",
       "                        <td id=\"T_a6aec_row6_col0\" class=\"data row6 col0\" >-0.648772</td>\n",
       "                        <td id=\"T_a6aec_row6_col1\" class=\"data row6 col1\" >-0.400731</td>\n",
       "                        <td id=\"T_a6aec_row6_col2\" class=\"data row6 col2\" >-0.427098</td>\n",
       "            </tr>\n",
       "            <tr>\n",
       "                        <th id=\"T_a6aec_level0_row7\" class=\"row_heading level0 row7\" >Enrollments-Higher_Secondary</th>\n",
       "                        <td id=\"T_a6aec_row7_col0\" class=\"data row7 col0\" >-0.767092</td>\n",
       "                        <td id=\"T_a6aec_row7_col1\" class=\"data row7 col1\" >-0.100585</td>\n",
       "                        <td id=\"T_a6aec_row7_col2\" class=\"data row7 col2\" >-0.364499</td>\n",
       "            </tr>\n",
       "            <tr>\n",
       "                        <th id=\"T_a6aec_level0_row8\" class=\"row_heading level0 row8\" >Drinking water</th>\n",
       "                        <td id=\"T_a6aec_row8_col0\" class=\"data row8 col0\" >-0.715778</td>\n",
       "                        <td id=\"T_a6aec_row8_col1\" class=\"data row8 col1\" >0.488371</td>\n",
       "                        <td id=\"T_a6aec_row8_col2\" class=\"data row8 col2\" >0.006592</td>\n",
       "            </tr>\n",
       "            <tr>\n",
       "                        <th id=\"T_a6aec_level0_row9\" class=\"row_heading level0 row9\" >Electricity</th>\n",
       "                        <td id=\"T_a6aec_row9_col0\" class=\"data row9 col0\" >-0.859840</td>\n",
       "                        <td id=\"T_a6aec_row9_col1\" class=\"data row9 col1\" >0.126897</td>\n",
       "                        <td id=\"T_a6aec_row9_col2\" class=\"data row9 col2\" >0.067341</td>\n",
       "            </tr>\n",
       "            <tr>\n",
       "                        <th id=\"T_a6aec_level0_row10\" class=\"row_heading level0 row10\" >Computer</th>\n",
       "                        <td id=\"T_a6aec_row10_col0\" class=\"data row10 col0\" >-0.817325</td>\n",
       "                        <td id=\"T_a6aec_row10_col1\" class=\"data row10 col1\" >-0.048580</td>\n",
       "                        <td id=\"T_a6aec_row10_col2\" class=\"data row10 col2\" >0.093942</td>\n",
       "            </tr>\n",
       "            <tr>\n",
       "                        <th id=\"T_a6aec_level0_row11\" class=\"row_heading level0 row11\" >Boys toilet</th>\n",
       "                        <td id=\"T_a6aec_row11_col0\" class=\"data row11 col0\" >-0.757686</td>\n",
       "                        <td id=\"T_a6aec_row11_col1\" class=\"data row11 col1\" >0.178410</td>\n",
       "                        <td id=\"T_a6aec_row11_col2\" class=\"data row11 col2\" >-0.175200</td>\n",
       "            </tr>\n",
       "            <tr>\n",
       "                        <th id=\"T_a6aec_level0_row12\" class=\"row_heading level0 row12\" >Girls toilet</th>\n",
       "                        <td id=\"T_a6aec_row12_col0\" class=\"data row12 col0\" >-0.766648</td>\n",
       "                        <td id=\"T_a6aec_row12_col1\" class=\"data row12 col1\" >0.117402</td>\n",
       "                        <td id=\"T_a6aec_row12_col2\" class=\"data row12 col2\" >-0.114024</td>\n",
       "            </tr>\n",
       "            <tr>\n",
       "                        <th id=\"T_a6aec_level0_row13\" class=\"row_heading level0 row13\" >PTR-Primary</th>\n",
       "                        <td id=\"T_a6aec_row13_col0\" class=\"data row13 col0\" >0.387885</td>\n",
       "                        <td id=\"T_a6aec_row13_col1\" class=\"data row13 col1\" >0.795338</td>\n",
       "                        <td id=\"T_a6aec_row13_col2\" class=\"data row13 col2\" >-0.218482</td>\n",
       "            </tr>\n",
       "            <tr>\n",
       "                        <th id=\"T_a6aec_level0_row14\" class=\"row_heading level0 row14\" >PTR-Upper Primary</th>\n",
       "                        <td id=\"T_a6aec_row14_col0\" class=\"data row14 col0\" >0.263169</td>\n",
       "                        <td id=\"T_a6aec_row14_col1\" class=\"data row14 col1\" >0.846251</td>\n",
       "                        <td id=\"T_a6aec_row14_col2\" class=\"data row14 col2\" >-0.304276</td>\n",
       "            </tr>\n",
       "            <tr>\n",
       "                        <th id=\"T_a6aec_level0_row15\" class=\"row_heading level0 row15\" >PTR-Secondary</th>\n",
       "                        <td id=\"T_a6aec_row15_col0\" class=\"data row15 col0\" >0.386264</td>\n",
       "                        <td id=\"T_a6aec_row15_col1\" class=\"data row15 col1\" >0.704000</td>\n",
       "                        <td id=\"T_a6aec_row15_col2\" class=\"data row15 col2\" >-0.361869</td>\n",
       "            </tr>\n",
       "            <tr>\n",
       "                        <th id=\"T_a6aec_level0_row16\" class=\"row_heading level0 row16\" >PTR-Higher Secondary</th>\n",
       "                        <td id=\"T_a6aec_row16_col0\" class=\"data row16 col0\" >0.395285</td>\n",
       "                        <td id=\"T_a6aec_row16_col1\" class=\"data row16 col1\" >0.763538</td>\n",
       "                        <td id=\"T_a6aec_row16_col2\" class=\"data row16 col2\" >-0.278496</td>\n",
       "            </tr>\n",
       "    </tbody></table>"
      ]
     },
     "metadata": {},
     "execution_count": 35
    }
   ],
   "metadata": {}
  },
  {
   "cell_type": "markdown",
   "source": [
    "`Observations`:\r\n",
    "\r\n",
    "* PC1 explains the factors in school\r\n",
    "* PC2 explains the student:teacher ratio\r\n",
    "* PC3 explains enrollments and dropouts indirectly\r\n",
    "\r\n",
    "We will now create clusters with these three PCs"
   ],
   "metadata": {}
  },
  {
   "cell_type": "code",
   "execution_count": 36,
   "source": [
    "clusters_X= pd.DataFrame(clusters_X)\r\n",
    "from sklearn.cluster import KMeans\r\n",
    "from sklearn.metrics import silhouette_score\r\n",
    "\r\n",
    "scores=[]\r\n"
   ],
   "outputs": [],
   "metadata": {}
  },
  {
   "cell_type": "code",
   "execution_count": 40,
   "source": [
    "silhouette_coefficients = []\r\n",
    "for k in range(2, 10):\r\n",
    "    kmeans = KMeans(n_clusters=k, n_init=10, max_iter=100, )\r\n",
    "    kmeans.fit(clusters_X)\r\n",
    "    score = silhouette_score(clusters_X, kmeans.labels_)\r\n",
    "    silhouette_coefficients.append(score)"
   ],
   "outputs": [],
   "metadata": {}
  },
  {
   "cell_type": "code",
   "execution_count": 53,
   "source": [
    "fig=pd.DataFrame(silhouette_coefficients)\r\n",
    "fig.plot()\r\n",
    "fig.xlabel=[2,3,4,5,6,7,8,9]"
   ],
   "outputs": [
    {
     "output_type": "stream",
     "name": "stderr",
     "text": [
      "<ipython-input-53-5c04b32f5741>:3: UserWarning:\n",
      "\n",
      "Pandas doesn't allow columns to be created via a new attribute name - see https://pandas.pydata.org/pandas-docs/stable/indexing.html#attribute-access\n",
      "\n"
     ]
    },
    {
     "output_type": "display_data",
     "data": {
      "text/plain": [
       "<Figure size 432x288 with 1 Axes>"
      ],
      "image/png": "[encoded data removed]"
     },
     "metadata": {}
    }
   ],
   "metadata": {}
  },
  {
   "cell_type": "markdown",
   "source": [
    "The best no. of clusters are obtained with 7 clusters"
   ],
   "metadata": {}
  },
  {
   "cell_type": "code",
   "execution_count": 41,
   "source": [
    "kk=KMeans(n_clusters=3)\r\n",
    "kk.fit(clusters_X)\r\n",
    "states['labels']=pd.Series(kk.labels_)\r\n",
    "states"
   ],
   "outputs": [
    {
     "output_type": "execute_result",
     "data": {
      "text/plain": [
       "                        State  labels\n",
       "0   Andaman & Nicobar Islands       0\n",
       "1              Andhra Pradesh       2\n",
       "2           Arunachal Pradesh       1\n",
       "3                       Assam       1\n",
       "4                       Bihar       2\n",
       "5                  Chandigarh       0\n",
       "6                Chhattisgarh       2\n",
       "7        Dadra & Nagar Haveli       0\n",
       "8                 Daman & Diu       0\n",
       "9                       Delhi       0\n",
       "10                        Goa       0\n",
       "11                    Gujarat       0\n",
       "12                    Haryana       0\n",
       "13           Himachal Pradesh       0\n",
       "14          Jammu And Kashmir       1\n",
       "15                  Jharkhand       2\n",
       "16                  Karnataka       0\n",
       "17                     Kerala       0\n",
       "18                Lakshadweep       0\n",
       "19             Madhya Pradesh       2\n",
       "20                Maharashtra       0\n",
       "21                    Manipur       1\n",
       "22                  Meghalaya       1\n",
       "23                    Mizoram       1\n",
       "24                   Nagaland       1\n",
       "25                     Odisha       2\n",
       "26                 Puducherry       0\n",
       "27                     Punjab       0\n",
       "28                  Rajasthan       0\n",
       "29                     Sikkim       0\n",
       "30                 Tamil Nadu       0\n",
       "31                  Telangana       0\n",
       "32                    Tripura       0\n",
       "33              Uttar Pradesh       2\n",
       "34                Uttarakhand       0\n",
       "35                West Bengal       2"
      ],
      "text/html": [
       "<div>\n",
       "<style scoped>\n",
       "    .dataframe tbody tr th:only-of-type {\n",
       "        vertical-align: middle;\n",
       "    }\n",
       "\n",
       "    .dataframe tbody tr th {\n",
       "        vertical-align: top;\n",
       "    }\n",
       "\n",
       "    .dataframe thead th {\n",
       "        text-align: right;\n",
       "    }\n",
       "</style>\n",
       "<table border=\"1\" class=\"dataframe\">\n",
       "  <thead>\n",
       "    <tr style=\"text-align: right;\">\n",
       "      <th></th>\n",
       "      <th>State</th>\n",
       "      <th>labels</th>\n",
       "    </tr>\n",
       "  </thead>\n",
       "  <tbody>\n",
       "    <tr>\n",
       "      <th>0</th>\n",
       "      <td>Andaman &amp; Nicobar Islands</td>\n",
       "      <td>0</td>\n",
       "    </tr>\n",
       "    <tr>\n",
       "      <th>1</th>\n",
       "      <td>Andhra Pradesh</td>\n",
       "      <td>2</td>\n",
       "    </tr>\n",
       "    <tr>\n",
       "      <th>2</th>\n",
       "      <td>Arunachal Pradesh</td>\n",
       "      <td>1</td>\n",
       "    </tr>\n",
       "    <tr>\n",
       "      <th>3</th>\n",
       "      <td>Assam</td>\n",
       "      <td>1</td>\n",
       "    </tr>\n",
       "    <tr>\n",
       "      <th>4</th>\n",
       "      <td>Bihar</td>\n",
       "      <td>2</td>\n",
       "    </tr>\n",
       "    <tr>\n",
       "      <th>5</th>\n",
       "      <td>Chandigarh</td>\n",
       "      <td>0</td>\n",
       "    </tr>\n",
       "    <tr>\n",
       "      <th>6</th>\n",
       "      <td>Chhattisgarh</td>\n",
       "      <td>2</td>\n",
       "    </tr>\n",
       "    <tr>\n",
       "      <th>7</th>\n",
       "      <td>Dadra &amp; Nagar Haveli</td>\n",
       "      <td>0</td>\n",
       "    </tr>\n",
       "    <tr>\n",
       "      <th>8</th>\n",
       "      <td>Daman &amp; Diu</td>\n",
       "      <td>0</td>\n",
       "    </tr>\n",
       "    <tr>\n",
       "      <th>9</th>\n",
       "      <td>Delhi</td>\n",
       "      <td>0</td>\n",
       "    </tr>\n",
       "    <tr>\n",
       "      <th>10</th>\n",
       "      <td>Goa</td>\n",
       "      <td>0</td>\n",
       "    </tr>\n",
       "    <tr>\n",
       "      <th>11</th>\n",
       "      <td>Gujarat</td>\n",
       "      <td>0</td>\n",
       "    </tr>\n",
       "    <tr>\n",
       "      <th>12</th>\n",
       "      <td>Haryana</td>\n",
       "      <td>0</td>\n",
       "    </tr>\n",
       "    <tr>\n",
       "      <th>13</th>\n",
       "      <td>Himachal Pradesh</td>\n",
       "      <td>0</td>\n",
       "    </tr>\n",
       "    <tr>\n",
       "      <th>14</th>\n",
       "      <td>Jammu And Kashmir</td>\n",
       "      <td>1</td>\n",
       "    </tr>\n",
       "    <tr>\n",
       "      <th>15</th>\n",
       "      <td>Jharkhand</td>\n",
       "      <td>2</td>\n",
       "    </tr>\n",
       "    <tr>\n",
       "      <th>16</th>\n",
       "      <td>Karnataka</td>\n",
       "      <td>0</td>\n",
       "    </tr>\n",
       "    <tr>\n",
       "      <th>17</th>\n",
       "      <td>Kerala</td>\n",
       "      <td>0</td>\n",
       "    </tr>\n",
       "    <tr>\n",
       "      <th>18</th>\n",
       "      <td>Lakshadweep</td>\n",
       "      <td>0</td>\n",
       "    </tr>\n",
       "    <tr>\n",
       "      <th>19</th>\n",
       "      <td>Madhya Pradesh</td>\n",
       "      <td>2</td>\n",
       "    </tr>\n",
       "    <tr>\n",
       "      <th>20</th>\n",
       "      <td>Maharashtra</td>\n",
       "      <td>0</td>\n",
       "    </tr>\n",
       "    <tr>\n",
       "      <th>21</th>\n",
       "      <td>Manipur</td>\n",
       "      <td>1</td>\n",
       "    </tr>\n",
       "    <tr>\n",
       "      <th>22</th>\n",
       "      <td>Meghalaya</td>\n",
       "      <td>1</td>\n",
       "    </tr>\n",
       "    <tr>\n",
       "      <th>23</th>\n",
       "      <td>Mizoram</td>\n",
       "      <td>1</td>\n",
       "    </tr>\n",
       "    <tr>\n",
       "      <th>24</th>\n",
       "      <td>Nagaland</td>\n",
       "      <td>1</td>\n",
       "    </tr>\n",
       "    <tr>\n",
       "      <th>25</th>\n",
       "      <td>Odisha</td>\n",
       "      <td>2</td>\n",
       "    </tr>\n",
       "    <tr>\n",
       "      <th>26</th>\n",
       "      <td>Puducherry</td>\n",
       "      <td>0</td>\n",
       "    </tr>\n",
       "    <tr>\n",
       "      <th>27</th>\n",
       "      <td>Punjab</td>\n",
       "      <td>0</td>\n",
       "    </tr>\n",
       "    <tr>\n",
       "      <th>28</th>\n",
       "      <td>Rajasthan</td>\n",
       "      <td>0</td>\n",
       "    </tr>\n",
       "    <tr>\n",
       "      <th>29</th>\n",
       "      <td>Sikkim</td>\n",
       "      <td>0</td>\n",
       "    </tr>\n",
       "    <tr>\n",
       "      <th>30</th>\n",
       "      <td>Tamil Nadu</td>\n",
       "      <td>0</td>\n",
       "    </tr>\n",
       "    <tr>\n",
       "      <th>31</th>\n",
       "      <td>Telangana</td>\n",
       "      <td>0</td>\n",
       "    </tr>\n",
       "    <tr>\n",
       "      <th>32</th>\n",
       "      <td>Tripura</td>\n",
       "      <td>0</td>\n",
       "    </tr>\n",
       "    <tr>\n",
       "      <th>33</th>\n",
       "      <td>Uttar Pradesh</td>\n",
       "      <td>2</td>\n",
       "    </tr>\n",
       "    <tr>\n",
       "      <th>34</th>\n",
       "      <td>Uttarakhand</td>\n",
       "      <td>0</td>\n",
       "    </tr>\n",
       "    <tr>\n",
       "      <th>35</th>\n",
       "      <td>West Bengal</td>\n",
       "      <td>2</td>\n",
       "    </tr>\n",
       "  </tbody>\n",
       "</table>\n",
       "</div>"
      ]
     },
     "metadata": {},
     "execution_count": 41
    }
   ],
   "metadata": {}
  },
  {
   "cell_type": "code",
   "execution_count": 42,
   "source": [
    "clusters_X = pd.DataFrame(clusters_X)\r\n",
    "clusters_X.rename(columns={0:'Factors',1:'Student:teacher ratio',2:'Enrollment'}, inplace=True)"
   ],
   "outputs": [],
   "metadata": {}
  },
  {
   "cell_type": "code",
   "execution_count": 43,
   "source": [
    "clusters_X.head()"
   ],
   "outputs": [
    {
     "output_type": "execute_result",
     "data": {
      "text/plain": [
       "    Factors  Student:teacher ratio  Enrollment\n",
       "0 -3.324732              -0.886976    0.932189\n",
       "1  0.896447               1.192116    1.256030\n",
       "2  2.222883              -3.174106   -1.446597\n",
       "3  4.741221              -1.421303    1.456738\n",
       "4  4.194012               3.756544   -0.407823"
      ],
      "text/html": [
       "<div>\n",
       "<style scoped>\n",
       "    .dataframe tbody tr th:only-of-type {\n",
       "        vertical-align: middle;\n",
       "    }\n",
       "\n",
       "    .dataframe tbody tr th {\n",
       "        vertical-align: top;\n",
       "    }\n",
       "\n",
       "    .dataframe thead th {\n",
       "        text-align: right;\n",
       "    }\n",
       "</style>\n",
       "<table border=\"1\" class=\"dataframe\">\n",
       "  <thead>\n",
       "    <tr style=\"text-align: right;\">\n",
       "      <th></th>\n",
       "      <th>Factors</th>\n",
       "      <th>Student:teacher ratio</th>\n",
       "      <th>Enrollment</th>\n",
       "    </tr>\n",
       "  </thead>\n",
       "  <tbody>\n",
       "    <tr>\n",
       "      <th>0</th>\n",
       "      <td>-3.324732</td>\n",
       "      <td>-0.886976</td>\n",
       "      <td>0.932189</td>\n",
       "    </tr>\n",
       "    <tr>\n",
       "      <th>1</th>\n",
       "      <td>0.896447</td>\n",
       "      <td>1.192116</td>\n",
       "      <td>1.256030</td>\n",
       "    </tr>\n",
       "    <tr>\n",
       "      <th>2</th>\n",
       "      <td>2.222883</td>\n",
       "      <td>-3.174106</td>\n",
       "      <td>-1.446597</td>\n",
       "    </tr>\n",
       "    <tr>\n",
       "      <th>3</th>\n",
       "      <td>4.741221</td>\n",
       "      <td>-1.421303</td>\n",
       "      <td>1.456738</td>\n",
       "    </tr>\n",
       "    <tr>\n",
       "      <th>4</th>\n",
       "      <td>4.194012</td>\n",
       "      <td>3.756544</td>\n",
       "      <td>-0.407823</td>\n",
       "    </tr>\n",
       "  </tbody>\n",
       "</table>\n",
       "</div>"
      ]
     },
     "metadata": {},
     "execution_count": 43
    }
   ],
   "metadata": {}
  },
  {
   "cell_type": "code",
   "execution_count": 44,
   "source": [
    "figtot = px.scatter_3d(clusters_X, y='Student:teacher ratio', z='Enrollment', x='Factors',color=states.labels,opacity=0.7,text=states['State'], title='Visualizing performance of states in the education sector')\r\n",
    "figtot.update_layout(width=1200, height=520)\r\n",
    "\r\n",
    "\r\n",
    "r = dp.Report(\r\n",
    "  dp.Plot(figtot) #create a chart\r\n",
    ").publish(name='performance', visibility=dp.Visibility.PUBLIC,open=True) #Publish the report\r\n"
   ],
   "outputs": [
    {
     "output_type": "display_data",
     "data": {
      "text/plain": [
       "<IPython.core.display.Markdown object>"
      ],
      "text/markdown": [
       "Publishing document and associated data - *please wait...*"
      ]
     },
     "metadata": {}
    },
    {
     "output_type": "display_data",
     "data": {
      "text/plain": [
       "<IPython.core.display.Markdown object>"
      ],
      "text/markdown": [
       "Your report doesn't contain any text - did you know you can add text to your report from your browser once published?"
      ]
     },
     "metadata": {}
    },
    {
     "output_type": "display_data",
     "data": {
      "text/plain": [
       "<IPython.core.display.Markdown object>"
      ],
      "text/markdown": [
       "Your report only contains a single element - did you know you can add multiple plots and tables to a report, add text to it and export directly to Medium once published?"
      ]
     },
     "metadata": {}
    },
    {
     "output_type": "display_data",
     "data": {
      "text/plain": [
       "<IPython.core.display.Markdown object>"
      ],
      "text/markdown": [
       "Report successfully published at https://datapane.com/u/anupammisra/reports/performance/ - you can edit and add additional text online"
      ]
     },
     "metadata": {}
    }
   ],
   "metadata": {}
  },
  {
   "cell_type": "markdown",
   "source": [
    "https://towardsdatascience.com/unsupervised-machine-learning-affinity-propagation-algorithm-explained-d1fef85f22c8"
   ],
   "metadata": {}
  },
  {
   "cell_type": "code",
   "execution_count": 45,
   "source": [
    "figtot.show()"
   ],
   "outputs": [
    {
     "output_type": "display_data",
     "data": {
      "application/vnd.plotly.v1+json": {
       "config": {
        "plotlyServerURL": "https://plot.ly"
       },
       "data": [
        {
         "hovertemplate": "Factors=%{x}<br>Student:teacher ratio=%{y}<br>Enrollment=%{z}<br>text=%{text}<br>color=%{marker.color}<extra></extra>",
         "legendgroup": "",
         "marker": {
          "color": [
           0,
           2,
           1,
           1,
           2,
           0,
           2,
           0,
           0,
           0,
           0,
           0,
           0,
           0,
           1,
           2,
           0,
           0,
           0,
           2,
           0,
           1,
           1,
           1,
           1,
           2,
           0,
           0,
           0,
           0,
           0,
           0,
           0,
           2,
           0,
           2
          ],
          "coloraxis": "coloraxis",
          "opacity": 0.7,
          "symbol": "circle"
         },
         "mode": "markers+text",
         "name": "",
         "scene": "scene",
         "showlegend": false,
         "text": [
          "Andaman & Nicobar Islands",
          "Andhra Pradesh",
          "Arunachal Pradesh",
          "Assam",
          "Bihar",
          "Chandigarh",
          "Chhattisgarh",
          "Dadra & Nagar Haveli",
          "Daman & Diu",
          "Delhi",
          "Goa",
          "Gujarat",
          "Haryana",
          "Himachal Pradesh",
          "Jammu And Kashmir",
          "Jharkhand",
          "Karnataka",
          "Kerala",
          "Lakshadweep",
          "Madhya Pradesh",
          "Maharashtra",
          "Manipur",
          "Meghalaya",
          "Mizoram",
          "Nagaland",
          "Odisha",
          "Puducherry",
          "Punjab",
          "Rajasthan",
          "Sikkim",
          "Tamil Nadu",
          "Telangana",
          "Tripura",
          "Uttar Pradesh",
          "Uttarakhand",
          "West Bengal"
         ],
         "type": "scatter3d",
         "x": [
          -3.3247324327841863,
          0.8964473492738159,
          2.222883154997527,
          4.741220711044979,
          4.194011545806339,
          -3.9905619480422834,
          0.8542729463153319,
          -0.685099898381425,
          -1.492478168060957,
          -3.012826555666533,
          -2.5200692484168252,
          -0.6622966971617863,
          -1.348494474141662,
          -2.9268706131263706,
          1.646587689290111,
          3.8095374815258447,
          -0.08679971001785917,
          -2.945002116697652,
          -4.4925321946417585,
          2.7546848469151484,
          -1.2393729825414461,
          1.1116270721292956,
          6.031006780372873,
          1.072839858581429,
          2.4388059341727897,
          2.613132522639309,
          -3.2883953399874466,
          -1.7417950344107518,
          0.5242383722085985,
          -1.9683665007850615,
          -1.8785503309175844,
          0.22319654956481463,
          -0.13087383197753488,
          1.4690642323197307,
          0.01906883874455583,
          1.112492191856631
         ],
         "y": [
          -0.8869759947899495,
          1.1921161766683745,
          -3.174106429940562,
          -1.421302992224222,
          3.756544044832928,
          0.011731158649572146,
          0.5948878179192416,
          1.14774194799707,
          1.4115892546729119,
          0.11634529449209695,
          -0.08530203484201178,
          1.177645664482013,
          0.5816390420769669,
          -0.8628659919288062,
          -0.8041071486226228,
          2.5032536641341196,
          0.39705432281415726,
          0.33969084157944585,
          -0.924084710657207,
          1.0518777215299617,
          1.6380990320845397,
          -3.0825890938911957,
          -3.3663549924297382,
          -3.8417478017910596,
          -2.5726811144490243,
          0.43920031863490283,
          -0.05985773015979335,
          0.16278830250220597,
          0.3353446276031734,
          -2.9391453090595827,
          0.58701359033622,
          -0.9319371796345823,
          -1.4282700660590857,
          6.058949392500232,
          0.40620692692254606,
          2.471609448046761
         ],
         "z": [
          0.9321889307765654,
          1.2560302759571582,
          -1.4465966923595006,
          1.4567378839470086,
          -0.4078233794225205,
          0.17908644240738028,
          -0.5800462487818311,
          1.3562114676361816,
          2.304745317030653,
          -2.3916252196021133,
          -0.6680035320181135,
          0.8447953778040931,
          0.35385767839482185,
          -1.0151284319069631,
          3.0503138182747556,
          -1.4203084248522173,
          1.5688377004689802,
          -0.18915984026925756,
          0.6456849925702711,
          -0.46953150686025885,
          -0.46013876172813273,
          -1.953264857941802,
          -0.6078603727772522,
          -1.5234153731829798,
          1.5857240045825565,
          1.8029036183221043,
          1.0333985350438177,
          -0.1230519879247957,
          0.44209525760086577,
          -1.825266264621803,
          -0.5401368321106531,
          0.4558633460573325,
          -0.3277868961527496,
          -2.2724504324343577,
          0.05888429655224638,
          -1.1057638884794898
         ]
        }
       ],
       "layout": {
        "coloraxis": {
         "colorbar": {
          "title": {
           "text": "color"
          }
         },
         "colorscale": [
          [
           0,
           "#0d0887"
          ],
          [
           0.1111111111111111,
           "#46039f"
          ],
          [
           0.2222222222222222,
           "#7201a8"
          ],
          [
           0.3333333333333333,
           "#9c179e"
          ],
          [
           0.4444444444444444,
           "#bd3786"
          ],
          [
           0.5555555555555556,
           "#d8576b"
          ],
          [
           0.6666666666666666,
           "#ed7953"
          ],
          [
           0.7777777777777778,
           "#fb9f3a"
          ],
          [
           0.8888888888888888,
           "#fdca26"
          ],
          [
           1,
           "#f0f921"
          ]
         ]
        },
        "height": 520,
        "legend": {
         "tracegroupgap": 0
        },
        "scene": {
         "domain": {
          "x": [
           0,
           1
          ],
          "y": [
           0,
           1
          ]
         },
         "xaxis": {
          "title": {
           "text": "Factors"
          }
         },
         "yaxis": {
          "title": {
           "text": "Student:teacher ratio"
          }
         },
         "zaxis": {
          "title": {
           "text": "Enrollment"
          }
         }
        },
        "template": {
         "data": {
          "bar": [
           {
            "error_x": {
             "color": "#2a3f5f"
            },
            "error_y": {
             "color": "#2a3f5f"
            },
            "marker": {
             "line": {
              "color": "#E5ECF6",
              "width": 0.5
             }
            },
            "type": "bar"
           }
          ],
          "barpolar": [
           {
            "marker": {
             "line": {
              "color": "#E5ECF6",
              "width": 0.5
             }
            },
            "type": "barpolar"
           }
          ],
          "carpet": [
           {
            "aaxis": {
             "endlinecolor": "#2a3f5f",
             "gridcolor": "white",
             "linecolor": "white",
             "minorgridcolor": "white",
             "startlinecolor": "#2a3f5f"
            },
            "baxis": {
             "endlinecolor": "#2a3f5f",
             "gridcolor": "white",
             "linecolor": "white",
             "minorgridcolor": "white",
             "startlinecolor": "#2a3f5f"
            },
            "type": "carpet"
           }
          ],
          "choropleth": [
           {
            "colorbar": {
             "outlinewidth": 0,
             "ticks": ""
            },
            "type": "choropleth"
           }
          ],
          "contour": [
           {
            "colorbar": {
             "outlinewidth": 0,
             "ticks": ""
            },
            "colorscale": [
             [
              0,
              "#0d0887"
             ],
             [
              0.1111111111111111,
              "#46039f"
             ],
             [
              0.2222222222222222,
              "#7201a8"
             ],
             [
              0.3333333333333333,
              "#9c179e"
             ],
             [
              0.4444444444444444,
              "#bd3786"
             ],
             [
              0.5555555555555556,
              "#d8576b"
             ],
             [
              0.6666666666666666,
              "#ed7953"
             ],
             [
              0.7777777777777778,
              "#fb9f3a"
             ],
             [
              0.8888888888888888,
              "#fdca26"
             ],
             [
              1,
              "#f0f921"
             ]
            ],
            "type": "contour"
           }
          ],
          "contourcarpet": [
           {
            "colorbar": {
             "outlinewidth": 0,
             "ticks": ""
            },
            "type": "contourcarpet"
           }
          ],
          "heatmap": [
           {
            "colorbar": {
             "outlinewidth": 0,
             "ticks": ""
            },
            "colorscale": [
             [
              0,
              "#0d0887"
             ],
             [
              0.1111111111111111,
              "#46039f"
             ],
             [
              0.2222222222222222,
              "#7201a8"
             ],
             [
              0.3333333333333333,
              "#9c179e"
             ],
             [
              0.4444444444444444,
              "#bd3786"
             ],
             [
              0.5555555555555556,
              "#d8576b"
             ],
             [
              0.6666666666666666,
              "#ed7953"
             ],
             [
              0.7777777777777778,
              "#fb9f3a"
             ],
             [
              0.8888888888888888,
              "#fdca26"
             ],
             [
              1,
              "#f0f921"
             ]
            ],
            "type": "heatmap"
           }
          ],
          "heatmapgl": [
           {
            "colorbar": {
             "outlinewidth": 0,
             "ticks": ""
            },
            "colorscale": [
             [
              0,
              "#0d0887"
             ],
             [
              0.1111111111111111,
              "#46039f"
             ],
             [
              0.2222222222222222,
              "#7201a8"
             ],
             [
              0.3333333333333333,
              "#9c179e"
             ],
             [
              0.4444444444444444,
              "#bd3786"
             ],
             [
              0.5555555555555556,
              "#d8576b"
             ],
             [
              0.6666666666666666,
              "#ed7953"
             ],
             [
              0.7777777777777778,
              "#fb9f3a"
             ],
             [
              0.8888888888888888,
              "#fdca26"
             ],
             [
              1,
              "#f0f921"
             ]
            ],
            "type": "heatmapgl"
           }
          ],
          "histogram": [
           {
            "marker": {
             "colorbar": {
              "outlinewidth": 0,
              "ticks": ""
             }
            },
            "type": "histogram"
           }
          ],
          "histogram2d": [
           {
            "colorbar": {
             "outlinewidth": 0,
             "ticks": ""
            },
            "colorscale": [
             [
              0,
              "#0d0887"
             ],
             [
              0.1111111111111111,
              "#46039f"
             ],
             [
              0.2222222222222222,
              "#7201a8"
             ],
             [
              0.3333333333333333,
              "#9c179e"
             ],
             [
              0.4444444444444444,
              "#bd3786"
             ],
             [
              0.5555555555555556,
              "#d8576b"
             ],
             [
              0.6666666666666666,
              "#ed7953"
             ],
             [
              0.7777777777777778,
              "#fb9f3a"
             ],
             [
              0.8888888888888888,
              "#fdca26"
             ],
             [
              1,
              "#f0f921"
             ]
            ],
            "type": "histogram2d"
           }
          ],
          "histogram2dcontour": [
           {
            "colorbar": {
             "outlinewidth": 0,
             "ticks": ""
            },
            "colorscale": [
             [
              0,
              "#0d0887"
             ],
             [
              0.1111111111111111,
              "#46039f"
             ],
             [
              0.2222222222222222,
              "#7201a8"
             ],
             [
              0.3333333333333333,
              "#9c179e"
             ],
             [
              0.4444444444444444,
              "#bd3786"
             ],
             [
              0.5555555555555556,
              "#d8576b"
             ],
             [
              0.6666666666666666,
              "#ed7953"
             ],
             [
              0.7777777777777778,
              "#fb9f3a"
             ],
             [
              0.8888888888888888,
              "#fdca26"
             ],
             [
              1,
              "#f0f921"
             ]
            ],
            "type": "histogram2dcontour"
           }
          ],
          "mesh3d": [
           {
            "colorbar": {
             "outlinewidth": 0,
             "ticks": ""
            },
            "type": "mesh3d"
           }
          ],
          "parcoords": [
           {
            "line": {
             "colorbar": {
              "outlinewidth": 0,
              "ticks": ""
             }
            },
            "type": "parcoords"
           }
          ],
          "pie": [
           {
            "automargin": true,
            "type": "pie"
           }
          ],
          "scatter": [
           {
            "marker": {
             "colorbar": {
              "outlinewidth": 0,
              "ticks": ""
             }
            },
            "type": "scatter"
           }
          ],
          "scatter3d": [
           {
            "line": {
             "colorbar": {
              "outlinewidth": 0,
              "ticks": ""
             }
            },
            "marker": {
             "colorbar": {
              "outlinewidth": 0,
              "ticks": ""
             }
            },
            "type": "scatter3d"
           }
          ],
          "scattercarpet": [
           {
            "marker": {
             "colorbar": {
              "outlinewidth": 0,
              "ticks": ""
             }
            },
            "type": "scattercarpet"
           }
          ],
          "scattergeo": [
           {
            "marker": {
             "colorbar": {
              "outlinewidth": 0,
              "ticks": ""
             }
            },
            "type": "scattergeo"
           }
          ],
          "scattergl": [
           {
            "marker": {
             "colorbar": {
              "outlinewidth": 0,
              "ticks": ""
             }
            },
            "type": "scattergl"
           }
          ],
          "scattermapbox": [
           {
            "marker": {
             "colorbar": {
              "outlinewidth": 0,
              "ticks": ""
             }
            },
            "type": "scattermapbox"
           }
          ],
          "scatterpolar": [
           {
            "marker": {
             "colorbar": {
              "outlinewidth": 0,
              "ticks": ""
             }
            },
            "type": "scatterpolar"
           }
          ],
          "scatterpolargl": [
           {
            "marker": {
             "colorbar": {
              "outlinewidth": 0,
              "ticks": ""
             }
            },
            "type": "scatterpolargl"
           }
          ],
          "scatterternary": [
           {
            "marker": {
             "colorbar": {
              "outlinewidth": 0,
              "ticks": ""
             }
            },
            "type": "scatterternary"
           }
          ],
          "surface": [
           {
            "colorbar": {
             "outlinewidth": 0,
             "ticks": ""
            },
            "colorscale": [
             [
              0,
              "#0d0887"
             ],
             [
              0.1111111111111111,
              "#46039f"
             ],
             [
              0.2222222222222222,
              "#7201a8"
             ],
             [
              0.3333333333333333,
              "#9c179e"
             ],
             [
              0.4444444444444444,
              "#bd3786"
             ],
             [
              0.5555555555555556,
              "#d8576b"
             ],
             [
              0.6666666666666666,
              "#ed7953"
             ],
             [
              0.7777777777777778,
              "#fb9f3a"
             ],
             [
              0.8888888888888888,
              "#fdca26"
             ],
             [
              1,
              "#f0f921"
             ]
            ],
            "type": "surface"
           }
          ],
          "table": [
           {
            "cells": {
             "fill": {
              "color": "#EBF0F8"
             },
             "line": {
              "color": "white"
             }
            },
            "header": {
             "fill": {
              "color": "#C8D4E3"
             },
             "line": {
              "color": "white"
             }
            },
            "type": "table"
           }
          ]
         },
         "layout": {
          "annotationdefaults": {
           "arrowcolor": "#2a3f5f",
           "arrowhead": 0,
           "arrowwidth": 1
          },
          "autotypenumbers": "strict",
          "coloraxis": {
           "colorbar": {
            "outlinewidth": 0,
            "ticks": ""
           }
          },
          "colorscale": {
           "diverging": [
            [
             0,
             "#8e0152"
            ],
            [
             0.1,
             "#c51b7d"
            ],
            [
             0.2,
             "#de77ae"
            ],
            [
             0.3,
             "#f1b6da"
            ],
            [
             0.4,
             "#fde0ef"
            ],
            [
             0.5,
             "#f7f7f7"
            ],
            [
             0.6,
             "#e6f5d0"
            ],
            [
             0.7,
             "#b8e186"
            ],
            [
             0.8,
             "#7fbc41"
            ],
            [
             0.9,
             "#4d9221"
            ],
            [
             1,
             "#276419"
            ]
           ],
           "sequential": [
            [
             0,
             "#0d0887"
            ],
            [
             0.1111111111111111,
             "#46039f"
            ],
            [
             0.2222222222222222,
             "#7201a8"
            ],
            [
             0.3333333333333333,
             "#9c179e"
            ],
            [
             0.4444444444444444,
             "#bd3786"
            ],
            [
             0.5555555555555556,
             "#d8576b"
            ],
            [
             0.6666666666666666,
             "#ed7953"
            ],
            [
             0.7777777777777778,
             "#fb9f3a"
            ],
            [
             0.8888888888888888,
             "#fdca26"
            ],
            [
             1,
             "#f0f921"
            ]
           ],
           "sequentialminus": [
            [
             0,
             "#0d0887"
            ],
            [
             0.1111111111111111,
             "#46039f"
            ],
            [
             0.2222222222222222,
             "#7201a8"
            ],
            [
             0.3333333333333333,
             "#9c179e"
            ],
            [
             0.4444444444444444,
             "#bd3786"
            ],
            [
             0.5555555555555556,
             "#d8576b"
            ],
            [
             0.6666666666666666,
             "#ed7953"
            ],
            [
             0.7777777777777778,
             "#fb9f3a"
            ],
            [
             0.8888888888888888,
             "#fdca26"
            ],
            [
             1,
             "#f0f921"
            ]
           ]
          },
          "colorway": [
           "#636efa",
           "#EF553B",
           "#00cc96",
           "#ab63fa",
           "#FFA15A",
           "#19d3f3",
           "#FF6692",
           "#B6E880",
           "#FF97FF",
           "#FECB52"
          ],
          "font": {
           "color": "#2a3f5f"
          },
          "geo": {
           "bgcolor": "white",
           "lakecolor": "white",
           "landcolor": "#E5ECF6",
           "showlakes": true,
           "showland": true,
           "subunitcolor": "white"
          },
          "hoverlabel": {
           "align": "left"
          },
          "hovermode": "closest",
          "mapbox": {
           "style": "light"
          },
          "paper_bgcolor": "white",
          "plot_bgcolor": "#E5ECF6",
          "polar": {
           "angularaxis": {
            "gridcolor": "white",
            "linecolor": "white",
            "ticks": ""
           },
           "bgcolor": "#E5ECF6",
           "radialaxis": {
            "gridcolor": "white",
            "linecolor": "white",
            "ticks": ""
           }
          },
          "scene": {
           "xaxis": {
            "backgroundcolor": "#E5ECF6",
            "gridcolor": "white",
            "gridwidth": 2,
            "linecolor": "white",
            "showbackground": true,
            "ticks": "",
            "zerolinecolor": "white"
           },
           "yaxis": {
            "backgroundcolor": "#E5ECF6",
            "gridcolor": "white",
            "gridwidth": 2,
            "linecolor": "white",
            "showbackground": true,
            "ticks": "",
            "zerolinecolor": "white"
           },
           "zaxis": {
            "backgroundcolor": "#E5ECF6",
            "gridcolor": "white",
            "gridwidth": 2,
            "linecolor": "white",
            "showbackground": true,
            "ticks": "",
            "zerolinecolor": "white"
           }
          },
          "shapedefaults": {
           "line": {
            "color": "#2a3f5f"
           }
          },
          "ternary": {
           "aaxis": {
            "gridcolor": "white",
            "linecolor": "white",
            "ticks": ""
           },
           "baxis": {
            "gridcolor": "white",
            "linecolor": "white",
            "ticks": ""
           },
           "bgcolor": "#E5ECF6",
           "caxis": {
            "gridcolor": "white",
            "linecolor": "white",
            "ticks": ""
           }
          },
          "title": {
           "x": 0.05
          },
          "xaxis": {
           "automargin": true,
           "gridcolor": "white",
           "linecolor": "white",
           "ticks": "",
           "title": {
            "standoff": 15
           },
           "zerolinecolor": "white",
           "zerolinewidth": 2
          },
          "yaxis": {
           "automargin": true,
           "gridcolor": "white",
           "linecolor": "white",
           "ticks": "",
           "title": {
            "standoff": 15
           },
           "zerolinecolor": "white",
           "zerolinewidth": 2
          }
         }
        },
        "title": {
         "text": "Visualizing performance of states in the education sector"
        },
        "width": 1200
       }
      }
     },
     "metadata": {}
    }
   ],
   "metadata": {}
  },
  {
   "cell_type": "code",
   "execution_count": 48,
   "source": [
    "clusters_X['labels']=kk.labels_"
   ],
   "outputs": [],
   "metadata": {}
  },
  {
   "cell_type": "code",
   "execution_count": 50,
   "source": [
    "clusters_X.columns"
   ],
   "outputs": [
    {
     "output_type": "execute_result",
     "data": {
      "text/plain": [
       "Index(['Factors', 'Student:teacher ratio', 'Enrollment', 'labels'], dtype='object')"
      ]
     },
     "metadata": {},
     "execution_count": 50
    }
   ],
   "metadata": {}
  },
  {
   "cell_type": "code",
   "execution_count": 51,
   "source": [
    "clusters_X.groupby('labels')['Factors', 'Student:teacher ratio', 'Enrollment', 'labels'].mean()"
   ],
   "outputs": [
    {
     "output_type": "stream",
     "name": "stderr",
     "text": [
      "<ipython-input-51-3cae57920c3c>:1: FutureWarning:\n",
      "\n",
      "Indexing with multiple keys (implicitly converted to a tuple of keys) will be deprecated, use a list instead.\n",
      "\n"
     ]
    },
    {
     "output_type": "execute_result",
     "data": {
      "text/plain": [
       "         Factors  Student:teacher ratio  Enrollment  labels\n",
       "labels                                                     \n",
       "0      -1.760410               0.009260    0.125493       0\n",
       "1       2.752139              -2.608984    0.080234       1\n",
       "2       2.212955               2.258555   -0.399624       2"
      ],
      "text/html": [
       "<div>\n",
       "<style scoped>\n",
       "    .dataframe tbody tr th:only-of-type {\n",
       "        vertical-align: middle;\n",
       "    }\n",
       "\n",
       "    .dataframe tbody tr th {\n",
       "        vertical-align: top;\n",
       "    }\n",
       "\n",
       "    .dataframe thead th {\n",
       "        text-align: right;\n",
       "    }\n",
       "</style>\n",
       "<table border=\"1\" class=\"dataframe\">\n",
       "  <thead>\n",
       "    <tr style=\"text-align: right;\">\n",
       "      <th></th>\n",
       "      <th>Factors</th>\n",
       "      <th>Student:teacher ratio</th>\n",
       "      <th>Enrollment</th>\n",
       "      <th>labels</th>\n",
       "    </tr>\n",
       "    <tr>\n",
       "      <th>labels</th>\n",
       "      <th></th>\n",
       "      <th></th>\n",
       "      <th></th>\n",
       "      <th></th>\n",
       "    </tr>\n",
       "  </thead>\n",
       "  <tbody>\n",
       "    <tr>\n",
       "      <th>0</th>\n",
       "      <td>-1.760410</td>\n",
       "      <td>0.009260</td>\n",
       "      <td>0.125493</td>\n",
       "      <td>0</td>\n",
       "    </tr>\n",
       "    <tr>\n",
       "      <th>1</th>\n",
       "      <td>2.752139</td>\n",
       "      <td>-2.608984</td>\n",
       "      <td>0.080234</td>\n",
       "      <td>1</td>\n",
       "    </tr>\n",
       "    <tr>\n",
       "      <th>2</th>\n",
       "      <td>2.212955</td>\n",
       "      <td>2.258555</td>\n",
       "      <td>-0.399624</td>\n",
       "      <td>2</td>\n",
       "    </tr>\n",
       "  </tbody>\n",
       "</table>\n",
       "</div>"
      ]
     },
     "metadata": {},
     "execution_count": 51
    }
   ],
   "metadata": {}
  },
  {
   "cell_type": "code",
   "execution_count": null,
   "source": [],
   "outputs": [],
   "metadata": {}
  }
 ],
 "metadata": {
  "interpreter": {
   "hash": "62a490a61034db1e8b6e05e6e999b5629625384177f9d8186b44b788547d5428"
  },
  "kernelspec": {
   "name": "python3",
   "display_name": "Python 3.9.5 64-bit ('machine_L': venv)"
  },
  "language_info": {
   "codemirror_mode": {
    "name": "ipython",
    "version": 3
   },
   "file_extension": ".py",
   "mimetype": "text/x-python",
   "name": "python",
   "nbconvert_exporter": "python",
   "pygments_lexer": "ipython3",
   "version": "3.9.5"
  },
  "orig_nbformat": 2
 },
 "nbformat": 4,
 "nbformat_minor": 2
}