{
 "cells": [
  {
   "cell_type": "markdown",
   "source": [
    "# Initialization\n"
   ],
   "metadata": {}
  },
  {
   "cell_type": "markdown",
   "source": [
    "## Importing the libraries"
   ],
   "metadata": {}
  },
  {
   "cell_type": "code",
   "execution_count": 1,
   "source": [
    "###############################################################################\r\n",
    "#\r\n",
    "#Importing libraries\r\n",
    "#\r\n",
    "import numpy as np \r\n",
    "import scipy.stats\r\n",
    "import pandas as pd \r\n",
    "from sklearn.metrics import silhouette_score\r\n",
    "import matplotlib.pyplot as plt \r\n",
    "from mpl_toolkits import mplot3d\r\n",
    "import seaborn as sns\r\n",
    "import datapane as dp\r\n",
    "import plotly.express as px\r\n",
    "from sklearn.preprocessing import MinMaxScaler\r\n",
    "from sklearn.cluster import AffinityPropagation\r\n",
    "from scipy.stats import chi2_contingency as chi2\r\n",
    "###############################################################################\r\n",
    "#\r\n",
    "#Notebook options\r\n",
    "#\r\n",
    "%matplotlib inline\r\n",
    "plt.style.use('fivethirtyeight')\r\n",
    "pd.set_option('display.max_columns', 500)\r\n",
    "###############################################################################"
   ],
   "outputs": [],
   "metadata": {}
  },
  {
   "cell_type": "markdown",
   "source": [
    "## Loading the data"
   ],
   "metadata": {}
  },
  {
   "cell_type": "code",
   "execution_count": 2,
   "source": [
    "###############################################################################\r\n",
    "#\r\n",
    "# Reading all the data\r\n",
    "#\r\n",
    "dropout = pd.read_excel(r\"../Data/dropout.xls\")\r\n",
    "enrollments = pd.read_excel(r\"../Data/enrollment.xls\")\r\n",
    "drinks = pd.read_excel(r\"../Data/drinking_water.xls\")\r\n",
    "computers = pd.read_excel(r\"../Data/computers.xls\")\r\n",
    "electricity = pd.read_excel(r\"../Data/electricity.xls\")\r\n",
    "boys_toilet = pd.read_excel(r\"../Data/boys_toilet.xls\")\r\n",
    "girls_toilet = pd.read_excel(r\"../Data/girls_toilet.xls\")\r\n",
    "ptr= pd.read_excel(r\"../Data/pupil_teacher.xls\")\r\n",
    "###############################################################################"
   ],
   "outputs": [],
   "metadata": {}
  },
  {
   "cell_type": "markdown",
   "source": [
    "# Data preparation"
   ],
   "metadata": {}
  },
  {
   "cell_type": "code",
   "execution_count": 3,
   "source": [
    "###############################################################################\r\n",
    "#\r\n",
    "# def returner(xx)\r\n",
    "# Input: \r\n",
    "# xx= input dataframe of different factors\r\n",
    "# \r\n",
    "# 1. Calculate the aggregate score for that factor for a particular state over three years\r\n",
    "# 2. Returns the data as a dataframe with the state as the index\r\n",
    "#\r\n",
    "###############################################################################\r\n",
    "\r\n",
    "def returner(xx):\r\n",
    "    x=[]\r\n",
    "    for i in range(36):\r\n",
    "        x.append([xx['State'].iloc[3*i],xx[['State','All Schools']].iloc[3*i:i*3+3].mean()[0]])  \r\n",
    "    x=pd.DataFrame(x)\r\n",
    "    x.set_index(0, inplace=True)\r\n",
    "    x.index.name='State'\r\n",
    "    return x"
   ],
   "outputs": [],
   "metadata": {}
  },
  {
   "cell_type": "code",
   "execution_count": 4,
   "source": [
    "enrollments['Higher_Secondary_Boys']=enrollments['Higher_Secondary_Boys'].astype('float')\r\n",
    "enrollments['Higher_Secondary_Girls']=enrollments['Higher_Secondary_Girls'].astype('float')\r\n",
    "enrollments['Higher_Secondary_Total']=enrollments['Higher_Secondary_Total'].astype('float')   \r\n",
    "\r\n",
    "drinks=returner(drinks)\r\n",
    "drinks.columns=['Drinking water']\r\n",
    "electricity=returner(electricity)\r\n",
    "electricity.columns=['Electricity']\r\n",
    "computers=returner(computers)\r\n",
    "computers.columns=[\"Computer\"]\r\n",
    "boys_t=returner(boys_toilet)\r\n",
    "boys_t.columns=['Boys toilet']\r\n",
    "girls_t=returner(girls_toilet)\r\n",
    "girls_t.columns=['Girls toilet']\r\n",
    "\r\n",
    "factors=pd.concat([drinks,electricity,computers,boys_t,girls_t],axis=1)\r\n",
    "factors.reset_index(inplace=True)"
   ],
   "outputs": [],
   "metadata": {}
  },
  {
   "cell_type": "code",
   "execution_count": 5,
   "source": [
    "# Extracting the names of the states\r\n",
    "\r\n",
    "states=[]\r\n",
    "for i in range(36):\r\n",
    "    states.append(dropout.State.iloc[3*i])\r\n",
    "states=pd.DataFrame(states, columns=['State'])"
   ],
   "outputs": [],
   "metadata": {}
  },
  {
   "cell_type": "code",
   "execution_count": 6,
   "source": [
    "###############################################################################\r\n",
    "#\r\n",
    "# def create_aggregate(inp)\r\n",
    "# \r\n",
    "# Input: input data of enrollments and dropouts\r\n",
    "#\r\n",
    "# 1. Drop the state and year columns\r\n",
    "# 2. Aggregate the data over 3 years and return it \r\n",
    "#\r\n",
    "################################################################################\r\n",
    "\r\n",
    "def create_aggregate(inp):\r\n",
    "    inp.drop(['State','Year'],axis=1,inplace=True)\r\n",
    "\r\n",
    "    x=pd.DataFrame()\r\n",
    "    for i in range(36):\r\n",
    "        x[i]=inp.iloc[3*i+0:i*3+3,:].mean()\r\n",
    "    x=x.transpose() \r\n",
    "    return x"
   ],
   "outputs": [],
   "metadata": {}
  },
  {
   "cell_type": "code",
   "execution_count": 7,
   "source": [
    "dropouts_x = create_aggregate(dropout)\r\n",
    "enrollments_x=create_aggregate(enrollments)"
   ],
   "outputs": [],
   "metadata": {}
  },
  {
   "cell_type": "markdown",
   "source": [
    "# Data exploration"
   ],
   "metadata": {}
  },
  {
   "cell_type": "code",
   "execution_count": 8,
   "source": [
    "prim=['Primary']*36\r\n",
    "uprim=['Upper Primary']*36\r\n",
    "sec=['Secondary']*36\r\n",
    "usec=['Higher Secondary']*36\r\n",
    "lis=prim+uprim+sec+usec\r\n",
    "lis\r\n",
    "datas=pd.DataFrame({'values':pd.concat([enrollments_x['Primary_Total'],enrollments_x['Upper_Primary_Total'],enrollments_x['Secondary_Total'],enrollments_x['Higher_Secondary_Total']],axis=0), 'ID':lis, 'State':list(states['State'])*4})\r\n",
    "\r\n",
    "enrollments_boys=(enrollments_x['Primary_Boys']+enrollments_x['Upper_Primary_Boys']+enrollments_x['Secondary_Boys']+enrollments_x['Higher_Secondary_Boys'])/4\r\n",
    "enrollments_girls=(enrollments_x['Primary_Girls']+enrollments_x['Upper_Primary_Girls']+enrollments_x['Secondary_Girls']+enrollments_x['Higher_Secondary_Girls'])/4\r\n",
    "boys=['Boys']*36\r\n",
    "girls=['Girls']*36\r\n",
    "sex=boys+girls\r\n",
    "enrolls=pd.concat([enrollments_boys,enrollments_girls],axis=0)\r\n",
    "datassex1=pd.DataFrame({'Enrollments':enrolls,'Sex':sex,'State':list(states['State'])*2})\r\n",
    "\r\n",
    "\r\n",
    "datass=pd.DataFrame({'values':pd.concat([dropouts_x['PRIMARY_TOTAL'],dropouts_x['UPPER_PRIMARY_TOTAL'],dropouts_x['SECONDARY_TOTAL'],dropouts_x['HRSECONDARY_TOTAL']],axis=0), 'ID':lis,'State':list(states['State'])*4})\r\n",
    "\r\n",
    "dropouts_boys=(dropouts_x['PRIMARY_BOYS']+dropouts_x['UPPER_PRIMARY_BOYS']+dropouts_x['SECONDARY_BOYS']+dropouts_x['HRSECONDARY_BOYS'])/4\r\n",
    "dropouts_girls=(dropouts_x['PRIMARY_GIRLS']+dropouts_x['UPPER_PRIMARY_GIRLS']+dropouts_x['SECONDARY_GIRLS']+dropouts_x['HRSECONDARY_GIRLS'])/4\r\n",
    "\r\n",
    "drops=pd.concat([dropouts_boys,dropouts_girls],axis=0)\r\n",
    "datassex2=pd.DataFrame({'Dropouts':drops,'Sex':sex,'State':list(states['State'])*2})\r\n",
    "\r\n",
    "fig,ax=plt.subplots(2,2,figsize=(22,10))\r\n",
    "\r\n",
    "sns.boxplot(x='values',y='ID',data=datas,ax=ax[0,0])\r\n",
    "ax[0,0].set_xlabel('Average enrollment rates(%)')\r\n",
    "ax[0,0].set_ylabel('Section of school')\r\n",
    "#ax[0].suptitle('Comparison of enrollment rates across different sections of the school')\r\n",
    "\r\n",
    "sns.boxplot(x='Enrollments',y='Sex',data=datassex1,ax=ax[0,1])\r\n",
    "ax[0,1].set_xlabel('Average enrollment rates(%)')\r\n",
    "ax[0,1].set_ylabel('Sex')\r\n",
    "#ax[1].suptitle('Comparison of enrollment rates across sex')\r\n",
    "\r\n",
    "sns.boxplot(x='values',y='ID',data=datass,ax=ax[1,0])\r\n",
    "ax[1,0].set_xlabel('Average dropout rates(%)')\r\n",
    "ax[1,0].set_ylabel('Section of school')\r\n",
    "#plt.title('Comparison of dropout rates across different sections of the school')\r\n",
    "\r\n",
    "\r\n",
    "sns.boxplot(x='Dropouts',y='Sex',data=datassex2,ax=ax[1,1])\r\n",
    "ax[1,1].set_xlabel('Average dropout rates(%)')\r\n",
    "ax[1,1].set_ylabel('Sex')\r\n",
    "\r\n",
    "low_prim=datas.State.iloc[datas['values'][datas['ID']=='Primary'].idxmin()]\r\n",
    "up_prim=datas.State.iloc[datas['values'][datas['ID']=='Upper Primary'].idxmin()]\r\n",
    "\r\n",
    "\r\n",
    "p_out=datass.State.iloc[datass['values'][datass['ID']=='Primary'].idxmax()]\r\n",
    "up_out= datass.State.iloc[datass['values'][datass['ID']=='Upper Primary'].idxmax()]\r\n",
    "sec_out=datassex2.State.iloc[datass['values'][datass['ID']=='Primary'].idxmax()]\r\n",
    "boys_out=datassex2.State.iloc[datassex2['Dropouts'][datassex2['Sex']=='Boys'].idxmax()]\r\n",
    "\r\n",
    "\r\n",
    "ax[0,0].text(55,0.1,s=low_prim)\r\n",
    "ax[0,0].text(40,1,s=up_prim)\r\n",
    "ax[1,0].text(17,0.1,s=p_out)\r\n",
    "ax[1,0].text(13,1,s=up_out)\r\n",
    "ax[1,0].text(37,2,s=sec_out)\r\n",
    "ax[1,1].text(14,0.1,s=boys_out)\r\n",
    "\r\n",
    "plt.suptitle(\"Analysis on dropout and enrollment rates\")"
   ],
   "outputs": [
    {
     "output_type": "execute_result",
     "data": {
      "text/plain": [
       "Text(0.5, 0.98, 'Analysis on dropout and enrollment rates')"
      ]
     },
     "metadata": {},
     "execution_count": 8
    },
    {
     "output_type": "display_data",
     "data": {
      "text/plain": [
       "<Figure size 1584x720 with 4 Axes>"
      ],
      "image/png": "[encoded data removed]"
     },
     "metadata": {}
    }
   ],
   "metadata": {}
  },
  {
   "cell_type": "markdown",
   "source": [
    "`Observation:`\n",
    "* Lakshwadeep and J&K have exceptionally low enrollment rates\n",
    "* Mizoram has exceptionally high dropout rates in secondary school\n",
    "* Nagaland has exceptionally high dropout rates of boys"
   ],
   "metadata": {}
  },
  {
   "cell_type": "markdown",
   "source": [
    "## Student to teacher ratio"
   ],
   "metadata": {}
  },
  {
   "cell_type": "code",
   "execution_count": 9,
   "source": [
    "prim=['Primary']*36\r\n",
    "uprim=['Upper Primary']*36\r\n",
    "sec=['Secondary']*36\r\n",
    "usec=['Higher Secondary']*36\r\n",
    "lis=prim+uprim+sec+usec\r\n",
    "lis\r\n",
    "datas=pd.DataFrame({'Mean percentage(%)':pd.concat([ptr['Primary'],ptr['Upper Primary'],ptr['Secondary'],ptr['Higher Secondary']],axis=0), 'Section of school':lis, 'State':list(states['State'])*4})\r\n",
    "\r\n",
    "fig=px.box(data_frame=datas,x='Mean percentage(%)', y='Section of school',hover_name='State',color='Section of school', title=\"Student to teacher ratio\")\r\n",
    "fig.update_layout(showlegend=False)\r\n",
    "\r\n",
    "r = dp.Report(\r\n",
    "  dp.Markdown('Student to teacher ratio'), #add description to the report\r\n",
    "  dp.Plot(fig) #create a chart\r\n",
    ").publish(name='STR', visibility=dp.Visibility.PUBLIC,open=True) #Publish the report\r\n",
    "\r\n",
    "fig.show()"
   ],
   "outputs": [
    {
     "output_type": "stream",
     "name": "stderr",
     "text": [
      "c:\\Users\\ADMIN\\Documents\\Codebase\\envs\\machine_L\\lib\\site-packages\\datapane\\client\\api\\__init__.py:83: UserWarning:\n",
      "\n",
      "Deprecated, to be removed in next release, use dp.Text instead.\n",
      "\n"
     ]
    },
    {
     "output_type": "display_data",
     "data": {
      "text/plain": [
       "<IPython.core.display.Markdown object>"
      ],
      "text/markdown": [
       "Publishing document and associated data - *please wait...*"
      ]
     },
     "metadata": {}
    },
    {
     "output_type": "display_data",
     "data": {
      "text/plain": [
       "<IPython.core.display.Markdown object>"
      ],
      "text/markdown": [
       "Report successfully published at https://datapane.com/u/anupammisra/reports/str/ - you can edit and add additional text online"
      ]
     },
     "metadata": {}
    },
    {
     "output_type": "display_data",
     "data": {
      "application/vnd.plotly.v1+json": {
       "config": {
        "plotlyServerURL": "https://plot.ly"
       },
       "data": [
        {
         "alignmentgroup": "True",
         "hovertemplate": "<b>%{hovertext}</b><br><br>Section of school=%{y}<br>Mean percentage(%)=%{x}<extra></extra>",
         "hovertext": [
          "Andaman & Nicobar Islands",
          "Andhra Pradesh",
          "Arunachal Pradesh",
          "Assam",
          "Bihar",
          "Chandigarh",
          "Chhattisgarh",
          "Dadra & Nagar Haveli",
          "Daman & Diu",
          "Delhi",
          "Goa",
          "Gujarat",
          "Haryana",
          "Himachal Pradesh",
          "Jammu And Kashmir",
          "Jharkhand",
          "Karnataka",
          "Kerala",
          "Lakshadweep",
          "Madhya Pradesh",
          "Maharashtra",
          "Manipur",
          "Meghalaya",
          "Mizoram",
          "Nagaland",
          "Odisha",
          "Puducherry",
          "Punjab",
          "Rajasthan",
          "Sikkim",
          "Tamil Nadu",
          "Telangana",
          "Tripura",
          "Uttar Pradesh",
          "Uttarakhand",
          "West Bengal"
         ],
         "legendgroup": "Primary",
         "marker": {
          "color": "#636efa"
         },
         "name": "Primary",
         "notched": false,
         "offsetgroup": "Primary",
         "orientation": "h",
         "showlegend": true,
         "type": "box",
         "x": [
          8.666666666666666,
          21.666666666666668,
          12.666666666666666,
          23,
          36.333333333333336,
          14.333333333333334,
          20.666666666666668,
          18.666666666666668,
          26,
          24.333333333333332,
          20.666666666666668,
          20,
          22,
          12.333333333333334,
          9,
          28.666666666666668,
          18.333333333333332,
          17.333333333333332,
          8,
          22,
          24.666666666666668,
          12.333333333333334,
          21,
          14,
          11.666666666666666,
          18.666666666666668,
          14,
          18.666666666666668,
          17.333333333333332,
          6,
          18.333333333333332,
          15.333333333333334,
          10.666666666666666,
          39.666666666666664,
          19,
          25.666666666666668
         ],
         "x0": " ",
         "xaxis": "x",
         "y": [
          "Primary",
          "Primary",
          "Primary",
          "Primary",
          "Primary",
          "Primary",
          "Primary",
          "Primary",
          "Primary",
          "Primary",
          "Primary",
          "Primary",
          "Primary",
          "Primary",
          "Primary",
          "Primary",
          "Primary",
          "Primary",
          "Primary",
          "Primary",
          "Primary",
          "Primary",
          "Primary",
          "Primary",
          "Primary",
          "Primary",
          "Primary",
          "Primary",
          "Primary",
          "Primary",
          "Primary",
          "Primary",
          "Primary",
          "Primary",
          "Primary",
          "Primary"
         ],
         "y0": " ",
         "yaxis": "y"
        },
        {
         "alignmentgroup": "True",
         "hovertemplate": "<b>%{hovertext}</b><br><br>Section of school=%{y}<br>Mean percentage(%)=%{x}<extra></extra>",
         "hovertext": [
          "Andaman & Nicobar Islands",
          "Andhra Pradesh",
          "Arunachal Pradesh",
          "Assam",
          "Bihar",
          "Chandigarh",
          "Chhattisgarh",
          "Dadra & Nagar Haveli",
          "Daman & Diu",
          "Delhi",
          "Goa",
          "Gujarat",
          "Haryana",
          "Himachal Pradesh",
          "Jammu And Kashmir",
          "Jharkhand",
          "Karnataka",
          "Kerala",
          "Lakshadweep",
          "Madhya Pradesh",
          "Maharashtra",
          "Manipur",
          "Meghalaya",
          "Mizoram",
          "Nagaland",
          "Odisha",
          "Puducherry",
          "Punjab",
          "Rajasthan",
          "Sikkim",
          "Tamil Nadu",
          "Telangana",
          "Tripura",
          "Uttar Pradesh",
          "Uttarakhand",
          "West Bengal"
         ],
         "legendgroup": "Upper Primary",
         "marker": {
          "color": "#EF553B"
         },
         "name": "Upper Primary",
         "notched": false,
         "offsetgroup": "Upper Primary",
         "orientation": "h",
         "showlegend": true,
         "type": "box",
         "x": [
          6.666666666666667,
          15.666666666666666,
          7.666666666666667,
          13.666666666666666,
          23.333333333333332,
          9.666666666666666,
          18,
          15.333333333333334,
          14.666666666666666,
          18,
          16.333333333333332,
          13,
          13.666666666666666,
          10,
          6,
          19.666666666666668,
          12.666666666666666,
          14,
          7.666666666666667,
          19,
          17,
          8,
          12.666666666666666,
          5.666666666666667,
          7.333333333333333,
          14,
          9,
          12,
          10.333333333333334,
          5.666666666666667,
          15.666666666666666,
          10.333333333333334,
          8.333333333333334,
          32.666666666666664,
          16.333333333333332,
          28
         ],
         "x0": " ",
         "xaxis": "x",
         "y": [
          "Upper Primary",
          "Upper Primary",
          "Upper Primary",
          "Upper Primary",
          "Upper Primary",
          "Upper Primary",
          "Upper Primary",
          "Upper Primary",
          "Upper Primary",
          "Upper Primary",
          "Upper Primary",
          "Upper Primary",
          "Upper Primary",
          "Upper Primary",
          "Upper Primary",
          "Upper Primary",
          "Upper Primary",
          "Upper Primary",
          "Upper Primary",
          "Upper Primary",
          "Upper Primary",
          "Upper Primary",
          "Upper Primary",
          "Upper Primary",
          "Upper Primary",
          "Upper Primary",
          "Upper Primary",
          "Upper Primary",
          "Upper Primary",
          "Upper Primary",
          "Upper Primary",
          "Upper Primary",
          "Upper Primary",
          "Upper Primary",
          "Upper Primary",
          "Upper Primary"
         ],
         "y0": " ",
         "yaxis": "y"
        },
        {
         "alignmentgroup": "True",
         "hovertemplate": "<b>%{hovertext}</b><br><br>Section of school=%{y}<br>Mean percentage(%)=%{x}<extra></extra>",
         "hovertext": [
          "Andaman & Nicobar Islands",
          "Andhra Pradesh",
          "Arunachal Pradesh",
          "Assam",
          "Bihar",
          "Chandigarh",
          "Chhattisgarh",
          "Dadra & Nagar Haveli",
          "Daman & Diu",
          "Delhi",
          "Goa",
          "Gujarat",
          "Haryana",
          "Himachal Pradesh",
          "Jammu And Kashmir",
          "Jharkhand",
          "Karnataka",
          "Kerala",
          "Lakshadweep",
          "Madhya Pradesh",
          "Maharashtra",
          "Manipur",
          "Meghalaya",
          "Mizoram",
          "Nagaland",
          "Odisha",
          "Puducherry",
          "Punjab",
          "Rajasthan",
          "Sikkim",
          "Tamil Nadu",
          "Telangana",
          "Tripura",
          "Uttar Pradesh",
          "Uttarakhand",
          "West Bengal"
         ],
         "legendgroup": "Secondary",
         "marker": {
          "color": "#00cc96"
         },
         "name": "Secondary",
         "notched": false,
         "offsetgroup": "Secondary",
         "orientation": "h",
         "showlegend": true,
         "type": "box",
         "x": [
          14.333333333333334,
          19,
          23,
          13.666666666666666,
          58.333333333333336,
          13.666666666666666,
          33,
          29,
          16.333333333333332,
          29.333333333333332,
          13,
          34,
          15.333333333333334,
          20,
          15.333333333333334,
          63.666666666666664,
          15.666666666666666,
          17,
          8.666666666666666,
          38.333333333333336,
          22.666666666666668,
          12.666666666666666,
          12,
          9,
          16.666666666666668,
          20,
          11.666666666666666,
          17,
          23,
          18.333333333333332,
          21.666666666666668,
          13.666666666666666,
          28.666666666666668,
          54.666666666666664,
          17,
          34.666666666666664
         ],
         "x0": " ",
         "xaxis": "x",
         "y": [
          "Secondary",
          "Secondary",
          "Secondary",
          "Secondary",
          "Secondary",
          "Secondary",
          "Secondary",
          "Secondary",
          "Secondary",
          "Secondary",
          "Secondary",
          "Secondary",
          "Secondary",
          "Secondary",
          "Secondary",
          "Secondary",
          "Secondary",
          "Secondary",
          "Secondary",
          "Secondary",
          "Secondary",
          "Secondary",
          "Secondary",
          "Secondary",
          "Secondary",
          "Secondary",
          "Secondary",
          "Secondary",
          "Secondary",
          "Secondary",
          "Secondary",
          "Secondary",
          "Secondary",
          "Secondary",
          "Secondary",
          "Secondary"
         ],
         "y0": " ",
         "yaxis": "y"
        },
        {
         "alignmentgroup": "True",
         "hovertemplate": "<b>%{hovertext}</b><br><br>Section of school=%{y}<br>Mean percentage(%)=%{x}<extra></extra>",
         "hovertext": [
          "Andaman & Nicobar Islands",
          "Andhra Pradesh",
          "Arunachal Pradesh",
          "Assam",
          "Bihar",
          "Chandigarh",
          "Chhattisgarh",
          "Dadra & Nagar Haveli",
          "Daman & Diu",
          "Delhi",
          "Goa",
          "Gujarat",
          "Haryana",
          "Himachal Pradesh",
          "Jammu And Kashmir",
          "Jharkhand",
          "Karnataka",
          "Kerala",
          "Lakshadweep",
          "Madhya Pradesh",
          "Maharashtra",
          "Manipur",
          "Meghalaya",
          "Mizoram",
          "Nagaland",
          "Odisha",
          "Puducherry",
          "Punjab",
          "Rajasthan",
          "Sikkim",
          "Tamil Nadu",
          "Telangana",
          "Tripura",
          "Uttar Pradesh",
          "Uttarakhand",
          "West Bengal"
         ],
         "legendgroup": "Higher Secondary",
         "marker": {
          "color": "#ab63fa"
         },
         "name": "Higher Secondary",
         "notched": false,
         "offsetgroup": "Higher Secondary",
         "orientation": "h",
         "showlegend": true,
         "type": "box",
         "x": [
          17,
          48,
          36,
          20.666666666666668,
          61.333333333333336,
          28,
          26,
          26.333333333333332,
          22,
          24,
          18.333333333333332,
          31,
          20.333333333333332,
          15,
          30.333333333333332,
          66.33333333333333,
          26,
          20.666666666666668,
          13,
          48.333333333333336,
          43.333333333333336,
          19.666666666666668,
          21.333333333333332,
          15,
          22.666666666666668,
          28.333333333333332,
          22,
          28.333333333333332,
          37,
          19.333333333333332,
          26.333333333333332,
          30.333333333333332,
          10.333333333333334,
          106.33333333333333,
          30.333333333333332,
          56.666666666666664
         ],
         "x0": " ",
         "xaxis": "x",
         "y": [
          "Higher Secondary",
          "Higher Secondary",
          "Higher Secondary",
          "Higher Secondary",
          "Higher Secondary",
          "Higher Secondary",
          "Higher Secondary",
          "Higher Secondary",
          "Higher Secondary",
          "Higher Secondary",
          "Higher Secondary",
          "Higher Secondary",
          "Higher Secondary",
          "Higher Secondary",
          "Higher Secondary",
          "Higher Secondary",
          "Higher Secondary",
          "Higher Secondary",
          "Higher Secondary",
          "Higher Secondary",
          "Higher Secondary",
          "Higher Secondary",
          "Higher Secondary",
          "Higher Secondary",
          "Higher Secondary",
          "Higher Secondary",
          "Higher Secondary",
          "Higher Secondary",
          "Higher Secondary",
          "Higher Secondary",
          "Higher Secondary",
          "Higher Secondary",
          "Higher Secondary",
          "Higher Secondary",
          "Higher Secondary",
          "Higher Secondary"
         ],
         "y0": " ",
         "yaxis": "y"
        }
       ],
       "layout": {
        "boxmode": "overlay",
        "legend": {
         "title": {
          "text": "Section of school"
         },
         "tracegroupgap": 0
        },
        "showlegend": false,
        "template": {
         "data": {
          "bar": [
           {
            "error_x": {
             "color": "#2a3f5f"
            },
            "error_y": {
             "color": "#2a3f5f"
            },
            "marker": {
             "line": {
              "color": "#E5ECF6",
              "width": 0.5
             }
            },
            "type": "bar"
           }
          ],
          "barpolar": [
           {
            "marker": {
             "line": {
              "color": "#E5ECF6",
              "width": 0.5
             }
            },
            "type": "barpolar"
           }
          ],
          "carpet": [
           {
            "aaxis": {
             "endlinecolor": "#2a3f5f",
             "gridcolor": "white",
             "linecolor": "white",
             "minorgridcolor": "white",
             "startlinecolor": "#2a3f5f"
            },
            "baxis": {
             "endlinecolor": "#2a3f5f",
             "gridcolor": "white",
             "linecolor": "white",
             "minorgridcolor": "white",
             "startlinecolor": "#2a3f5f"
            },
            "type": "carpet"
           }
          ],
          "choropleth": [
           {
            "colorbar": {
             "outlinewidth": 0,
             "ticks": ""
            },
            "type": "choropleth"
           }
          ],
          "contour": [
           {
            "colorbar": {
             "outlinewidth": 0,
             "ticks": ""
            },
            "colorscale": [
             [
              0,
              "#0d0887"
             ],
             [
              0.1111111111111111,
              "#46039f"
             ],
             [
              0.2222222222222222,
              "#7201a8"
             ],
             [
              0.3333333333333333,
              "#9c179e"
             ],
             [
              0.4444444444444444,
              "#bd3786"
             ],
             [
              0.5555555555555556,
              "#d8576b"
             ],
             [
              0.6666666666666666,
              "#ed7953"
             ],
             [
              0.7777777777777778,
              "#fb9f3a"
             ],
             [
              0.8888888888888888,
              "#fdca26"
             ],
             [
              1,
              "#f0f921"
             ]
            ],
            "type": "contour"
           }
          ],
          "contourcarpet": [
           {
            "colorbar": {
             "outlinewidth": 0,
             "ticks": ""
            },
            "type": "contourcarpet"
           }
          ],
          "heatmap": [
           {
            "colorbar": {
             "outlinewidth": 0,
             "ticks": ""
            },
            "colorscale": [
             [
              0,
              "#0d0887"
             ],
             [
              0.1111111111111111,
              "#46039f"
             ],
             [
              0.2222222222222222,
              "#7201a8"
             ],
             [
              0.3333333333333333,
              "#9c179e"
             ],
             [
              0.4444444444444444,
              "#bd3786"
             ],
             [
              0.5555555555555556,
              "#d8576b"
             ],
             [
              0.6666666666666666,
              "#ed7953"
             ],
             [
              0.7777777777777778,
              "#fb9f3a"
             ],
             [
              0.8888888888888888,
              "#fdca26"
             ],
             [
              1,
              "#f0f921"
             ]
            ],
            "type": "heatmap"
           }
          ],
          "heatmapgl": [
           {
            "colorbar": {
             "outlinewidth": 0,
             "ticks": ""
            },
            "colorscale": [
             [
              0,
              "#0d0887"
             ],
             [
              0.1111111111111111,
              "#46039f"
             ],
             [
              0.2222222222222222,
              "#7201a8"
             ],
             [
              0.3333333333333333,
              "#9c179e"
             ],
             [
              0.4444444444444444,
              "#bd3786"
             ],
             [
              0.5555555555555556,
              "#d8576b"
             ],
             [
              0.6666666666666666,
              "#ed7953"
             ],
             [
              0.7777777777777778,
              "#fb9f3a"
             ],
             [
              0.8888888888888888,
              "#fdca26"
             ],
             [
              1,
              "#f0f921"
             ]
            ],
            "type": "heatmapgl"
           }
          ],
          "histogram": [
           {
            "marker": {
             "colorbar": {
              "outlinewidth": 0,
              "ticks": ""
             }
            },
            "type": "histogram"
           }
          ],
          "histogram2d": [
           {
            "colorbar": {
             "outlinewidth": 0,
             "ticks": ""
            },
            "colorscale": [
             [
              0,
              "#0d0887"
             ],
             [
              0.1111111111111111,
              "#46039f"
             ],
             [
              0.2222222222222222,
              "#7201a8"
             ],
             [
              0.3333333333333333,
              "#9c179e"
             ],
             [
              0.4444444444444444,
              "#bd3786"
             ],
             [
              0.5555555555555556,
              "#d8576b"
             ],
             [
              0.6666666666666666,
              "#ed7953"
             ],
             [
              0.7777777777777778,
              "#fb9f3a"
             ],
             [
              0.8888888888888888,
              "#fdca26"
             ],
             [
              1,
              "#f0f921"
             ]
            ],
            "type": "histogram2d"
           }
          ],
          "histogram2dcontour": [
           {
            "colorbar": {
             "outlinewidth": 0,
             "ticks": ""
            },
            "colorscale": [
             [
              0,
              "#0d0887"
             ],
             [
              0.1111111111111111,
              "#46039f"
             ],
             [
              0.2222222222222222,
              "#7201a8"
             ],
             [
              0.3333333333333333,
              "#9c179e"
             ],
             [
              0.4444444444444444,
              "#bd3786"
             ],
             [
              0.5555555555555556,
              "#d8576b"
             ],
             [
              0.6666666666666666,
              "#ed7953"
             ],
             [
              0.7777777777777778,
              "#fb9f3a"
             ],
             [
              0.8888888888888888,
              "#fdca26"
             ],
             [
              1,
              "#f0f921"
             ]
            ],
            "type": "histogram2dcontour"
           }
          ],
          "mesh3d": [
           {
            "colorbar": {
             "outlinewidth": 0,
             "ticks": ""
            },
            "type": "mesh3d"
           }
          ],
          "parcoords": [
           {
            "line": {
             "colorbar": {
              "outlinewidth": 0,
              "ticks": ""
             }
            },
            "type": "parcoords"
           }
          ],
          "pie": [
           {
            "automargin": true,
            "type": "pie"
           }
          ],
          "scatter": [
           {
            "marker": {
             "colorbar": {
              "outlinewidth": 0,
              "ticks": ""
             }
            },
            "type": "scatter"
           }
          ],
          "scatter3d": [
           {
            "line": {
             "colorbar": {
              "outlinewidth": 0,
              "ticks": ""
             }
            },
            "marker": {
             "colorbar": {
              "outlinewidth": 0,
              "ticks": ""
             }
            },
            "type": "scatter3d"
           }
          ],
          "scattercarpet": [
           {
            "marker": {
             "colorbar": {
              "outlinewidth": 0,
              "ticks": ""
             }
            },
            "type": "scattercarpet"
           }
          ],
          "scattergeo": [
           {
            "marker": {
             "colorbar": {
              "outlinewidth": 0,
              "ticks": ""
             }
            },
            "type": "scattergeo"
           }
          ],
          "scattergl": [
           {
            "marker": {
             "colorbar": {
              "outlinewidth": 0,
              "ticks": ""
             }
            },
            "type": "scattergl"
           }
          ],
          "scattermapbox": [
           {
            "marker": {
             "colorbar": {
              "outlinewidth": 0,
              "ticks": ""
             }
            },
            "type": "scattermapbox"
           }
          ],
          "scatterpolar": [
           {
            "marker": {
             "colorbar": {
              "outlinewidth": 0,
              "ticks": ""
             }
            },
            "type": "scatterpolar"
           }
          ],
          "scatterpolargl": [
           {
            "marker": {
             "colorbar": {
              "outlinewidth": 0,
              "ticks": ""
             }
            },
            "type": "scatterpolargl"
           }
          ],
          "scatterternary": [
           {
            "marker": {
             "colorbar": {
              "outlinewidth": 0,
              "ticks": ""
             }
            },
            "type": "scatterternary"
           }
          ],
          "surface": [
           {
            "colorbar": {
             "outlinewidth": 0,
             "ticks": ""
            },
            "colorscale": [
             [
              0,
              "#0d0887"
             ],
             [
              0.1111111111111111,
              "#46039f"
             ],
             [
              0.2222222222222222,
              "#7201a8"
             ],
             [
              0.3333333333333333,
              "#9c179e"
             ],
             [
              0.4444444444444444,
              "#bd3786"
             ],
             [
              0.5555555555555556,
              "#d8576b"
             ],
             [
              0.6666666666666666,
              "#ed7953"
             ],
             [
              0.7777777777777778,
              "#fb9f3a"
             ],
             [
              0.8888888888888888,
              "#fdca26"
             ],
             [
              1,
              "#f0f921"
             ]
            ],
            "type": "surface"
           }
          ],
          "table": [
           {
            "cells": {
             "fill": {
              "color": "#EBF0F8"
             },
             "line": {
              "color": "white"
             }
            },
            "header": {
             "fill": {
              "color": "#C8D4E3"
             },
             "line": {
              "color": "white"
             }
            },
            "type": "table"
           }
          ]
         },
         "layout": {
          "annotationdefaults": {
           "arrowcolor": "#2a3f5f",
           "arrowhead": 0,
           "arrowwidth": 1
          },
          "autotypenumbers": "strict",
          "coloraxis": {
           "colorbar": {
            "outlinewidth": 0,
            "ticks": ""
           }
          },
          "colorscale": {
           "diverging": [
            [
             0,
             "#8e0152"
            ],
            [
             0.1,
             "#c51b7d"
            ],
            [
             0.2,
             "#de77ae"
            ],
            [
             0.3,
             "#f1b6da"
            ],
            [
             0.4,
             "#fde0ef"
            ],
            [
             0.5,
             "#f7f7f7"
            ],
            [
             0.6,
             "#e6f5d0"
            ],
            [
             0.7,
             "#b8e186"
            ],
            [
             0.8,
             "#7fbc41"
            ],
            [
             0.9,
             "#4d9221"
            ],
            [
             1,
             "#276419"
            ]
           ],
           "sequential": [
            [
             0,
             "#0d0887"
            ],
            [
             0.1111111111111111,
             "#46039f"
            ],
            [
             0.2222222222222222,
             "#7201a8"
            ],
            [
             0.3333333333333333,
             "#9c179e"
            ],
            [
             0.4444444444444444,
             "#bd3786"
            ],
            [
             0.5555555555555556,
             "#d8576b"
            ],
            [
             0.6666666666666666,
             "#ed7953"
            ],
            [
             0.7777777777777778,
             "#fb9f3a"
            ],
            [
             0.8888888888888888,
             "#fdca26"
            ],
            [
             1,
             "#f0f921"
            ]
           ],
           "sequentialminus": [
            [
             0,
             "#0d0887"
            ],
            [
             0.1111111111111111,
             "#46039f"
            ],
            [
             0.2222222222222222,
             "#7201a8"
            ],
            [
             0.3333333333333333,
             "#9c179e"
            ],
            [
             0.4444444444444444,
             "#bd3786"
            ],
            [
             0.5555555555555556,
             "#d8576b"
            ],
            [
             0.6666666666666666,
             "#ed7953"
            ],
            [
             0.7777777777777778,
             "#fb9f3a"
            ],
            [
             0.8888888888888888,
             "#fdca26"
            ],
            [
             1,
             "#f0f921"
            ]
           ]
          },
          "colorway": [
           "#636efa",
           "#EF553B",
           "#00cc96",
           "#ab63fa",
           "#FFA15A",
           "#19d3f3",
           "#FF6692",
           "#B6E880",
           "#FF97FF",
           "#FECB52"
          ],
          "font": {
           "color": "#2a3f5f"
          },
          "geo": {
           "bgcolor": "white",
           "lakecolor": "white",
           "landcolor": "#E5ECF6",
           "showlakes": true,
           "showland": true,
           "subunitcolor": "white"
          },
          "hoverlabel": {
           "align": "left"
          },
          "hovermode": "closest",
          "mapbox": {
           "style": "light"
          },
          "paper_bgcolor": "white",
          "plot_bgcolor": "#E5ECF6",
          "polar": {
           "angularaxis": {
            "gridcolor": "white",
            "linecolor": "white",
            "ticks": ""
           },
           "bgcolor": "#E5ECF6",
           "radialaxis": {
            "gridcolor": "white",
            "linecolor": "white",
            "ticks": ""
           }
          },
          "scene": {
           "xaxis": {
            "backgroundcolor": "#E5ECF6",
            "gridcolor": "white",
            "gridwidth": 2,
            "linecolor": "white",
            "showbackground": true,
            "ticks": "",
            "zerolinecolor": "white"
           },
           "yaxis": {
            "backgroundcolor": "#E5ECF6",
            "gridcolor": "white",
            "gridwidth": 2,
            "linecolor": "white",
            "showbackground": true,
            "ticks": "",
            "zerolinecolor": "white"
           },
           "zaxis": {
            "backgroundcolor": "#E5ECF6",
            "gridcolor": "white",
            "gridwidth": 2,
            "linecolor": "white",
            "showbackground": true,
            "ticks": "",
            "zerolinecolor": "white"
           }
          },
          "shapedefaults": {
           "line": {
            "color": "#2a3f5f"
           }
          },
          "ternary": {
           "aaxis": {
            "gridcolor": "white",
            "linecolor": "white",
            "ticks": ""
           },
           "baxis": {
            "gridcolor": "white",
            "linecolor": "white",
            "ticks": ""
           },
           "bgcolor": "#E5ECF6",
           "caxis": {
            "gridcolor": "white",
            "linecolor": "white",
            "ticks": ""
           }
          },
          "title": {
           "x": 0.05
          },
          "xaxis": {
           "automargin": true,
           "gridcolor": "white",
           "linecolor": "white",
           "ticks": "",
           "title": {
            "standoff": 15
           },
           "zerolinecolor": "white",
           "zerolinewidth": 2
          },
          "yaxis": {
           "automargin": true,
           "gridcolor": "white",
           "linecolor": "white",
           "ticks": "",
           "title": {
            "standoff": 15
           },
           "zerolinecolor": "white",
           "zerolinewidth": 2
          }
         }
        },
        "title": {
         "text": "Student to teacher ratio"
        },
        "xaxis": {
         "anchor": "y",
         "domain": [
          0,
          1
         ],
         "title": {
          "text": "Mean percentage(%)"
         }
        },
        "yaxis": {
         "anchor": "x",
         "categoryarray": [
          "Higher Secondary",
          "Secondary",
          "Upper Primary",
          "Primary"
         ],
         "categoryorder": "array",
         "domain": [
          0,
          1
         ],
         "title": {
          "text": "Section of school"
         }
        }
       }
      }
     },
     "metadata": {}
    }
   ],
   "metadata": {}
  },
  {
   "cell_type": "markdown",
   "source": [
    "`Observations:`\n",
    "\n",
    "* Most states lack teachers in the higher secondary school. Certain states are doing very poorly namely UP, Bihar, Jharkhand and WB"
   ],
   "metadata": {}
  },
  {
   "cell_type": "code",
   "execution_count": 10,
   "source": [
    "dropss=dropouts_x.iloc[:,[2,5,8,11]].mean(axis=1)\r\n",
    "enrolls=enrollments_x.iloc[:,[2,5,8,11]].mean(axis=1)\r\n",
    "ptrs=ptr.iloc[:,[1,4]].mean(axis=1)\r\n",
    "comb=pd.DataFrame({'Enrollments(%)':enrolls,'Dropouts(%)':dropss,'student_teacher_ratio':ptrs})\r\n",
    "figz = px.scatter(data_frame=comb, x=\"Enrollments(%)\", y=\"Dropouts(%)\", size=\"student_teacher_ratio\", color=states.State, log_x=True, size_max=20, width=1000, height=500, title='Dropouts vs enrollments')\r\n",
    "figz.update_layout(showlegend=False)\r\n",
    "r = dp.Report(\r\n",
    "  dp.Markdown('Overall picture of dropout, enrollment and student:teacher ratio among states'), #add description to the report\r\n",
    "  dp.Plot(figz) #create a chart\r\n",
    ").publish(name='Overall', visibility=dp.Visibility.PUBLIC,open=True) #Publish the report\r\n",
    "\r\n",
    "figz.show()"
   ],
   "outputs": [
    {
     "output_type": "stream",
     "name": "stderr",
     "text": [
      "c:\\Users\\ADMIN\\Documents\\Codebase\\envs\\machine_L\\lib\\site-packages\\datapane\\client\\api\\__init__.py:83: UserWarning:\n",
      "\n",
      "Deprecated, to be removed in next release, use dp.Text instead.\n",
      "\n"
     ]
    },
    {
     "output_type": "display_data",
     "data": {
      "text/plain": [
       "<IPython.core.display.Markdown object>"
      ],
      "text/markdown": [
       "Publishing document and associated data - *please wait...*"
      ]
     },
     "metadata": {}
    },
    {
     "output_type": "display_data",
     "data": {
      "text/plain": [
       "<IPython.core.display.Markdown object>"
      ],
      "text/markdown": [
       "Report successfully published at https://datapane.com/u/anupammisra/reports/overall/ - you can edit and add additional text online"
      ]
     },
     "metadata": {}
    },
    {
     "output_type": "display_data",
     "data": {
      "application/vnd.plotly.v1+json": {
       "config": {
        "plotlyServerURL": "https://plot.ly"
       },
       "data": [
        {
         "hovertemplate": "color=Andaman & Nicobar Islands<br>Enrollments(%)=%{x}<br>Dropouts(%)=%{y}<br>student_teacher_ratio=%{marker.size}<extra></extra>",
         "legendgroup": "Andaman & Nicobar Islands",
         "marker": {
          "color": "#636efa",
          "size": [
           12.833333333333332
          ],
          "sizemode": "area",
          "sizeref": 0.1825,
          "symbol": "circle"
         },
         "mode": "markers",
         "name": "Andaman & Nicobar Islands",
         "orientation": "v",
         "showlegend": true,
         "type": "scatter",
         "x": [
          90.72083333333333
         ],
         "xaxis": "x",
         "y": [
          6.283333333333333
         ],
         "yaxis": "y"
        },
        {
         "hovertemplate": "color=Andhra Pradesh<br>Enrollments(%)=%{x}<br>Dropouts(%)=%{y}<br>student_teacher_ratio=%{marker.size}<extra></extra>",
         "legendgroup": "Andhra Pradesh",
         "marker": {
          "color": "#EF553B",
          "size": [
           34.833333333333336
          ],
          "sizemode": "area",
          "sizeref": 0.1825,
          "symbol": "circle"
         },
         "mode": "markers",
         "name": "Andhra Pradesh",
         "orientation": "v",
         "showlegend": true,
         "type": "scatter",
         "x": [
          75.75
         ],
         "xaxis": "x",
         "y": [
          6.650833333333333
         ],
         "yaxis": "y"
        },
        {
         "hovertemplate": "color=Arunachal Pradesh<br>Enrollments(%)=%{x}<br>Dropouts(%)=%{y}<br>student_teacher_ratio=%{marker.size}<extra></extra>",
         "legendgroup": "Arunachal Pradesh",
         "marker": {
          "color": "#00cc96",
          "size": [
           24.333333333333332
          ],
          "sizemode": "area",
          "sizeref": 0.1825,
          "symbol": "circle"
         },
         "mode": "markers",
         "name": "Arunachal Pradesh",
         "orientation": "v",
         "showlegend": true,
         "type": "scatter",
         "x": [
          101.13666666666667
         ],
         "xaxis": "x",
         "y": [
          11.814166666666667
         ],
         "yaxis": "y"
        },
        {
         "hovertemplate": "color=Assam<br>Enrollments(%)=%{x}<br>Dropouts(%)=%{y}<br>student_teacher_ratio=%{marker.size}<extra></extra>",
         "legendgroup": "Assam",
         "marker": {
          "color": "#ab63fa",
          "size": [
           21.833333333333336
          ],
          "sizemode": "area",
          "sizeref": 0.1825,
          "symbol": "circle"
         },
         "mode": "markers",
         "name": "Assam",
         "orientation": "v",
         "showlegend": true,
         "type": "scatter",
         "x": [
          78.82
         ],
         "xaxis": "x",
         "y": [
          12.499166666666666
         ],
         "yaxis": "y"
        },
        {
         "hovertemplate": "color=Bihar<br>Enrollments(%)=%{x}<br>Dropouts(%)=%{y}<br>student_teacher_ratio=%{marker.size}<extra></extra>",
         "legendgroup": "Bihar",
         "marker": {
          "color": "#FFA15A",
          "size": [
           48.833333333333336
          ],
          "sizemode": "area",
          "sizeref": 0.1825,
          "symbol": "circle"
         },
         "mode": "markers",
         "name": "Bihar",
         "orientation": "v",
         "showlegend": true,
         "type": "scatter",
         "x": [
          74.88083333333334
         ],
         "xaxis": "x",
         "y": [
          7.543333333333334
         ],
         "yaxis": "y"
        },
        {
         "hovertemplate": "color=Chandigarh<br>Enrollments(%)=%{x}<br>Dropouts(%)=%{y}<br>student_teacher_ratio=%{marker.size}<extra></extra>",
         "legendgroup": "Chandigarh",
         "marker": {
          "color": "#19d3f3",
          "size": [
           21.166666666666668
          ],
          "sizemode": "area",
          "sizeref": 0.1825,
          "symbol": "circle"
         },
         "mode": "markers",
         "name": "Chandigarh",
         "orientation": "v",
         "showlegend": true,
         "type": "scatter",
         "x": [
          90.82166666666667
         ],
         "xaxis": "x",
         "y": [
          3.091666666666667
         ],
         "yaxis": "y"
        },
        {
         "hovertemplate": "color=Chhattisgarh<br>Enrollments(%)=%{x}<br>Dropouts(%)=%{y}<br>student_teacher_ratio=%{marker.size}<extra></extra>",
         "legendgroup": "Chhattisgarh",
         "marker": {
          "color": "#FF6692",
          "size": [
           23.333333333333336
          ],
          "sizemode": "area",
          "sizeref": 0.1825,
          "symbol": "circle"
         },
         "mode": "markers",
         "name": "Chhattisgarh",
         "orientation": "v",
         "showlegend": true,
         "type": "scatter",
         "x": [
          89.80666666666667
         ],
         "xaxis": "x",
         "y": [
          7.1525
         ],
         "yaxis": "y"
        },
        {
         "hovertemplate": "color=Dadra & Nagar Haveli<br>Enrollments(%)=%{x}<br>Dropouts(%)=%{y}<br>student_teacher_ratio=%{marker.size}<extra></extra>",
         "legendgroup": "Dadra & Nagar Haveli",
         "marker": {
          "color": "#B6E880",
          "size": [
           22.5
          ],
          "sizemode": "area",
          "sizeref": 0.1825,
          "symbol": "circle"
         },
         "mode": "markers",
         "name": "Dadra & Nagar Haveli",
         "orientation": "v",
         "showlegend": true,
         "type": "scatter",
         "x": [
          76.3925
         ],
         "xaxis": "x",
         "y": [
          9.141666666666666
         ],
         "yaxis": "y"
        },
        {
         "hovertemplate": "color=Daman & Diu<br>Enrollments(%)=%{x}<br>Dropouts(%)=%{y}<br>student_teacher_ratio=%{marker.size}<extra></extra>",
         "legendgroup": "Daman & Diu",
         "marker": {
          "color": "#FF97FF",
          "size": [
           24
          ],
          "sizemode": "area",
          "sizeref": 0.1825,
          "symbol": "circle"
         },
         "mode": "markers",
         "name": "Daman & Diu",
         "orientation": "v",
         "showlegend": true,
         "type": "scatter",
         "x": [
          69.25916666666666
         ],
         "xaxis": "x",
         "y": [
          10.323333333333334
         ],
         "yaxis": "y"
        },
        {
         "hovertemplate": "color=Delhi<br>Enrollments(%)=%{x}<br>Dropouts(%)=%{y}<br>student_teacher_ratio=%{marker.size}<extra></extra>",
         "legendgroup": "Delhi",
         "marker": {
          "color": "#FECB52",
          "size": [
           24.166666666666664
          ],
          "sizemode": "area",
          "sizeref": 0.1825,
          "symbol": "circle"
         },
         "mode": "markers",
         "name": "Delhi",
         "orientation": "v",
         "showlegend": true,
         "type": "scatter",
         "x": [
          107.67666666666668
         ],
         "xaxis": "x",
         "y": [
          6.467499999999999
         ],
         "yaxis": "y"
        },
        {
         "hovertemplate": "color=Goa<br>Enrollments(%)=%{x}<br>Dropouts(%)=%{y}<br>student_teacher_ratio=%{marker.size}<extra></extra>",
         "legendgroup": "Goa",
         "marker": {
          "color": "#636efa",
          "size": [
           19.5
          ],
          "sizemode": "area",
          "sizeref": 0.1825,
          "symbol": "circle"
         },
         "mode": "markers",
         "name": "Goa",
         "orientation": "v",
         "showlegend": true,
         "type": "scatter",
         "x": [
          97.06499999999998
         ],
         "xaxis": "x",
         "y": [
          5.6850000000000005
         ],
         "yaxis": "y"
        },
        {
         "hovertemplate": "color=Gujarat<br>Enrollments(%)=%{x}<br>Dropouts(%)=%{y}<br>student_teacher_ratio=%{marker.size}<extra></extra>",
         "legendgroup": "Gujarat",
         "marker": {
          "color": "#EF553B",
          "size": [
           25.5
          ],
          "sizemode": "area",
          "sizeref": 0.1825,
          "symbol": "circle"
         },
         "mode": "markers",
         "name": "Gujarat",
         "orientation": "v",
         "showlegend": true,
         "type": "scatter",
         "x": [
          78.09
         ],
         "xaxis": "x",
         "y": [
          7.923333333333333
         ],
         "yaxis": "y"
        },
        {
         "hovertemplate": "color=Haryana<br>Enrollments(%)=%{x}<br>Dropouts(%)=%{y}<br>student_teacher_ratio=%{marker.size}<extra></extra>",
         "legendgroup": "Haryana",
         "marker": {
          "color": "#00cc96",
          "size": [
           21.166666666666664
          ],
          "sizemode": "area",
          "sizeref": 0.1825,
          "symbol": "circle"
         },
         "mode": "markers",
         "name": "Haryana",
         "orientation": "v",
         "showlegend": true,
         "type": "scatter",
         "x": [
          84.96333333333334
         ],
         "xaxis": "x",
         "y": [
          5.12
         ],
         "yaxis": "y"
        },
        {
         "hovertemplate": "color=Himachal Pradesh<br>Enrollments(%)=%{x}<br>Dropouts(%)=%{y}<br>student_teacher_ratio=%{marker.size}<extra></extra>",
         "legendgroup": "Himachal Pradesh",
         "marker": {
          "color": "#ab63fa",
          "size": [
           13.666666666666668
          ],
          "sizemode": "area",
          "sizeref": 0.1825,
          "symbol": "circle"
         },
         "mode": "markers",
         "name": "Himachal Pradesh",
         "orientation": "v",
         "showlegend": true,
         "type": "scatter",
         "x": [
          103.62166666666667
         ],
         "xaxis": "x",
         "y": [
          4.2283333333333335
         ],
         "yaxis": "y"
        },
        {
         "hovertemplate": "color=Jammu And Kashmir<br>Enrollments(%)=%{x}<br>Dropouts(%)=%{y}<br>student_teacher_ratio=%{marker.size}<extra></extra>",
         "legendgroup": "Jammu And Kashmir",
         "marker": {
          "color": "#FFA15A",
          "size": [
           19.666666666666664
          ],
          "sizemode": "area",
          "sizeref": 0.1825,
          "symbol": "circle"
         },
         "mode": "markers",
         "name": "Jammu And Kashmir",
         "orientation": "v",
         "showlegend": true,
         "type": "scatter",
         "x": [
          69.89166666666668
         ],
         "xaxis": "x",
         "y": [
          9.560833333333333
         ],
         "yaxis": "y"
        },
        {
         "hovertemplate": "color=Jharkhand<br>Enrollments(%)=%{x}<br>Dropouts(%)=%{y}<br>student_teacher_ratio=%{marker.size}<extra></extra>",
         "legendgroup": "Jharkhand",
         "marker": {
          "color": "#19d3f3",
          "size": [
           47.5
          ],
          "sizemode": "area",
          "sizeref": 0.1825,
          "symbol": "circle"
         },
         "mode": "markers",
         "name": "Jharkhand",
         "orientation": "v",
         "showlegend": true,
         "type": "scatter",
         "x": [
          81.86833333333334
         ],
         "xaxis": "x",
         "y": [
          9.170000000000002
         ],
         "yaxis": "y"
        },
        {
         "hovertemplate": "color=Karnataka<br>Enrollments(%)=%{x}<br>Dropouts(%)=%{y}<br>student_teacher_ratio=%{marker.size}<extra></extra>",
         "legendgroup": "Karnataka",
         "marker": {
          "color": "#FF6692",
          "size": [
           22.166666666666664
          ],
          "sizemode": "area",
          "sizeref": 0.1825,
          "symbol": "circle"
         },
         "mode": "markers",
         "name": "Karnataka",
         "orientation": "v",
         "showlegend": true,
         "type": "scatter",
         "x": [
          76.49000000000001
         ],
         "xaxis": "x",
         "y": [
          10.806666666666668
         ],
         "yaxis": "y"
        },
        {
         "hovertemplate": "color=Kerala<br>Enrollments(%)=%{x}<br>Dropouts(%)=%{y}<br>student_teacher_ratio=%{marker.size}<extra></extra>",
         "legendgroup": "Kerala",
         "marker": {
          "color": "#B6E880",
          "size": [
           19
          ],
          "sizemode": "area",
          "sizeref": 0.1825,
          "symbol": "circle"
         },
         "mode": "markers",
         "name": "Kerala",
         "orientation": "v",
         "showlegend": true,
         "type": "scatter",
         "x": [
          93.89916666666667
         ],
         "xaxis": "x",
         "y": [
          3.591666666666667
         ],
         "yaxis": "y"
        },
        {
         "hovertemplate": "color=Lakshadweep<br>Enrollments(%)=%{x}<br>Dropouts(%)=%{y}<br>student_teacher_ratio=%{marker.size}<extra></extra>",
         "legendgroup": "Lakshadweep",
         "marker": {
          "color": "#FF97FF",
          "size": [
           10.5
          ],
          "sizemode": "area",
          "sizeref": 0.1825,
          "symbol": "circle"
         },
         "mode": "markers",
         "name": "Lakshadweep",
         "orientation": "v",
         "showlegend": true,
         "type": "scatter",
         "x": [
          94.52
         ],
         "xaxis": "x",
         "y": [
          3.5358333333333327
         ],
         "yaxis": "y"
        },
        {
         "hovertemplate": "color=Madhya Pradesh<br>Enrollments(%)=%{x}<br>Dropouts(%)=%{y}<br>student_teacher_ratio=%{marker.size}<extra></extra>",
         "legendgroup": "Madhya Pradesh",
         "marker": {
          "color": "#FECB52",
          "size": [
           35.16666666666667
          ],
          "sizemode": "area",
          "sizeref": 0.1825,
          "symbol": "circle"
         },
         "mode": "markers",
         "name": "Madhya Pradesh",
         "orientation": "v",
         "showlegend": true,
         "type": "scatter",
         "x": [
          81.49166666666667
         ],
         "xaxis": "x",
         "y": [
          9.890833333333333
         ],
         "yaxis": "y"
        },
        {
         "hovertemplate": "color=Maharashtra<br>Enrollments(%)=%{x}<br>Dropouts(%)=%{y}<br>student_teacher_ratio=%{marker.size}<extra></extra>",
         "legendgroup": "Maharashtra",
         "marker": {
          "color": "#636efa",
          "size": [
           34
          ],
          "sizemode": "area",
          "sizeref": 0.1825,
          "symbol": "circle"
         },
         "mode": "markers",
         "name": "Maharashtra",
         "orientation": "v",
         "showlegend": true,
         "type": "scatter",
         "x": [
          87.0725
         ],
         "xaxis": "x",
         "y": [
          4.9025
         ],
         "yaxis": "y"
        },
        {
         "hovertemplate": "color=Manipur<br>Enrollments(%)=%{x}<br>Dropouts(%)=%{y}<br>student_teacher_ratio=%{marker.size}<extra></extra>",
         "legendgroup": "Manipur",
         "marker": {
          "color": "#EF553B",
          "size": [
           16
          ],
          "sizemode": "area",
          "sizeref": 0.1825,
          "symbol": "circle"
         },
         "mode": "markers",
         "name": "Manipur",
         "orientation": "v",
         "showlegend": true,
         "type": "scatter",
         "x": [
          103.32083333333333
         ],
         "xaxis": "x",
         "y": [
          8.655833333333334
         ],
         "yaxis": "y"
        },
        {
         "hovertemplate": "color=Meghalaya<br>Enrollments(%)=%{x}<br>Dropouts(%)=%{y}<br>student_teacher_ratio=%{marker.size}<extra></extra>",
         "legendgroup": "Meghalaya",
         "marker": {
          "color": "#00cc96",
          "size": [
           21.166666666666664
          ],
          "sizemode": "area",
          "sizeref": 0.1825,
          "symbol": "circle"
         },
         "mode": "markers",
         "name": "Meghalaya",
         "orientation": "v",
         "showlegend": true,
         "type": "scatter",
         "x": [
          93.915
         ],
         "xaxis": "x",
         "y": [
          10.204166666666666
         ],
         "yaxis": "y"
        },
        {
         "hovertemplate": "color=Mizoram<br>Enrollments(%)=%{x}<br>Dropouts(%)=%{y}<br>student_teacher_ratio=%{marker.size}<extra></extra>",
         "legendgroup": "Mizoram",
         "marker": {
          "color": "#ab63fa",
          "size": [
           14.5
          ],
          "sizemode": "area",
          "sizeref": 0.1825,
          "symbol": "circle"
         },
         "mode": "markers",
         "name": "Mizoram",
         "orientation": "v",
         "showlegend": true,
         "type": "scatter",
         "x": [
          104.45
         ],
         "xaxis": "x",
         "y": [
          12.180000000000001
         ],
         "yaxis": "y"
        },
        {
         "hovertemplate": "color=Nagaland<br>Enrollments(%)=%{x}<br>Dropouts(%)=%{y}<br>student_teacher_ratio=%{marker.size}<extra></extra>",
         "legendgroup": "Nagaland",
         "marker": {
          "color": "#FFA15A",
          "size": [
           17.166666666666668
          ],
          "sizemode": "area",
          "sizeref": 0.1825,
          "symbol": "circle"
         },
         "mode": "markers",
         "name": "Nagaland",
         "orientation": "v",
         "showlegend": true,
         "type": "scatter",
         "x": [
          77.4075
         ],
         "xaxis": "x",
         "y": [
          15.583333333333334
         ],
         "yaxis": "y"
        },
        {
         "hovertemplate": "color=Odisha<br>Enrollments(%)=%{x}<br>Dropouts(%)=%{y}<br>student_teacher_ratio=%{marker.size}<extra></extra>",
         "legendgroup": "Odisha",
         "marker": {
          "color": "#19d3f3",
          "size": [
           23.5
          ],
          "sizemode": "area",
          "sizeref": 0.1825,
          "symbol": "circle"
         },
         "mode": "markers",
         "name": "Odisha",
         "orientation": "v",
         "showlegend": true,
         "type": "scatter",
         "x": [
          77.23083333333334
         ],
         "xaxis": "x",
         "y": [
          12.39
         ],
         "yaxis": "y"
        },
        {
         "hovertemplate": "color=Puducherry<br>Enrollments(%)=%{x}<br>Dropouts(%)=%{y}<br>student_teacher_ratio=%{marker.size}<extra></extra>",
         "legendgroup": "Puducherry",
         "marker": {
          "color": "#FF6692",
          "size": [
           18
          ],
          "sizemode": "area",
          "sizeref": 0.1825,
          "symbol": "circle"
         },
         "mode": "markers",
         "name": "Puducherry",
         "orientation": "v",
         "showlegend": true,
         "type": "scatter",
         "x": [
          86.86083333333333
         ],
         "xaxis": "x",
         "y": [
          5.48
         ],
         "yaxis": "y"
        },
        {
         "hovertemplate": "color=Punjab<br>Enrollments(%)=%{x}<br>Dropouts(%)=%{y}<br>student_teacher_ratio=%{marker.size}<extra></extra>",
         "legendgroup": "Punjab",
         "marker": {
          "color": "#B6E880",
          "size": [
           23.5
          ],
          "sizemode": "area",
          "sizeref": 0.1825,
          "symbol": "circle"
         },
         "mode": "markers",
         "name": "Punjab",
         "orientation": "v",
         "showlegend": true,
         "type": "scatter",
         "x": [
          89.44333333333333
         ],
         "xaxis": "x",
         "y": [
          5.215833333333333
         ],
         "yaxis": "y"
        },
        {
         "hovertemplate": "color=Rajasthan<br>Enrollments(%)=%{x}<br>Dropouts(%)=%{y}<br>student_teacher_ratio=%{marker.size}<extra></extra>",
         "legendgroup": "Rajasthan",
         "marker": {
          "color": "#FF97FF",
          "size": [
           27.166666666666664
          ],
          "sizemode": "area",
          "sizeref": 0.1825,
          "symbol": "circle"
         },
         "mode": "markers",
         "name": "Rajasthan",
         "orientation": "v",
         "showlegend": true,
         "type": "scatter",
         "x": [
          80.16749999999999
         ],
         "xaxis": "x",
         "y": [
          6.733333333333334
         ],
         "yaxis": "y"
        },
        {
         "hovertemplate": "color=Sikkim<br>Enrollments(%)=%{x}<br>Dropouts(%)=%{y}<br>student_teacher_ratio=%{marker.size}<extra></extra>",
         "legendgroup": "Sikkim",
         "marker": {
          "color": "#FECB52",
          "size": [
           12.666666666666666
          ],
          "sizemode": "area",
          "sizeref": 0.1825,
          "symbol": "circle"
         },
         "mode": "markers",
         "name": "Sikkim",
         "orientation": "v",
         "showlegend": true,
         "type": "scatter",
         "x": [
          108.23166666666667
         ],
         "xaxis": "x",
         "y": [
          7.59
         ],
         "yaxis": "y"
        },
        {
         "hovertemplate": "color=Tamil Nadu<br>Enrollments(%)=%{x}<br>Dropouts(%)=%{y}<br>student_teacher_ratio=%{marker.size}<extra></extra>",
         "legendgroup": "Tamil Nadu",
         "marker": {
          "color": "#636efa",
          "size": [
           22.333333333333332
          ],
          "sizemode": "area",
          "sizeref": 0.1825,
          "symbol": "circle"
         },
         "mode": "markers",
         "name": "Tamil Nadu",
         "orientation": "v",
         "showlegend": true,
         "type": "scatter",
         "x": [
          92.51416666666667
         ],
         "xaxis": "x",
         "y": [
          4.208333333333334
         ],
         "yaxis": "y"
        },
        {
         "hovertemplate": "color=Telangana<br>Enrollments(%)=%{x}<br>Dropouts(%)=%{y}<br>student_teacher_ratio=%{marker.size}<extra></extra>",
         "legendgroup": "Telangana",
         "marker": {
          "color": "#EF553B",
          "size": [
           22.833333333333332
          ],
          "sizemode": "area",
          "sizeref": 0.1825,
          "symbol": "circle"
         },
         "mode": "markers",
         "name": "Telangana",
         "orientation": "v",
         "showlegend": true,
         "type": "scatter",
         "x": [
          88.055
         ],
         "xaxis": "x",
         "y": [
          8.4775
         ],
         "yaxis": "y"
        },
        {
         "hovertemplate": "color=Tripura<br>Enrollments(%)=%{x}<br>Dropouts(%)=%{y}<br>student_teacher_ratio=%{marker.size}<extra></extra>",
         "legendgroup": "Tripura",
         "marker": {
          "color": "#00cc96",
          "size": [
           10.5
          ],
          "sizemode": "area",
          "sizeref": 0.1825,
          "symbol": "circle"
         },
         "mode": "markers",
         "name": "Tripura",
         "orientation": "v",
         "showlegend": true,
         "type": "scatter",
         "x": [
          90.78333333333333
         ],
         "xaxis": "x",
         "y": [
          7.705
         ],
         "yaxis": "y"
        },
        {
         "hovertemplate": "color=Uttar Pradesh<br>Enrollments(%)=%{x}<br>Dropouts(%)=%{y}<br>student_teacher_ratio=%{marker.size}<extra></extra>",
         "legendgroup": "Uttar Pradesh",
         "marker": {
          "color": "#ab63fa",
          "size": [
           73
          ],
          "sizemode": "area",
          "sizeref": 0.1825,
          "symbol": "circle"
         },
         "mode": "markers",
         "name": "Uttar Pradesh",
         "orientation": "v",
         "showlegend": true,
         "type": "scatter",
         "x": [
          78.71416666666667
         ],
         "xaxis": "x",
         "y": [
          4.255833333333333
         ],
         "yaxis": "y"
        },
        {
         "hovertemplate": "color=Uttarakhand<br>Enrollments(%)=%{x}<br>Dropouts(%)=%{y}<br>student_teacher_ratio=%{marker.size}<extra></extra>",
         "legendgroup": "Uttarakhand",
         "marker": {
          "color": "#FFA15A",
          "size": [
           24.666666666666664
          ],
          "sizemode": "area",
          "sizeref": 0.1825,
          "symbol": "circle"
         },
         "mode": "markers",
         "name": "Uttarakhand",
         "orientation": "v",
         "showlegend": true,
         "type": "scatter",
         "x": [
          86.24833333333332
         ],
         "xaxis": "x",
         "y": [
          5.750000000000001
         ],
         "yaxis": "y"
        },
        {
         "hovertemplate": "color=West Bengal<br>Enrollments(%)=%{x}<br>Dropouts(%)=%{y}<br>student_teacher_ratio=%{marker.size}<extra></extra>",
         "legendgroup": "West Bengal",
         "marker": {
          "color": "#19d3f3",
          "size": [
           41.166666666666664
          ],
          "sizemode": "area",
          "sizeref": 0.1825,
          "symbol": "circle"
         },
         "mode": "markers",
         "name": "West Bengal",
         "orientation": "v",
         "showlegend": true,
         "type": "scatter",
         "x": [
          84.67500000000001
         ],
         "xaxis": "x",
         "y": [
          8.142499999999998
         ],
         "yaxis": "y"
        }
       ],
       "layout": {
        "height": 500,
        "legend": {
         "itemsizing": "constant",
         "title": {
          "text": "color"
         },
         "tracegroupgap": 0
        },
        "showlegend": false,
        "template": {
         "data": {
          "bar": [
           {
            "error_x": {
             "color": "#2a3f5f"
            },
            "error_y": {
             "color": "#2a3f5f"
            },
            "marker": {
             "line": {
              "color": "#E5ECF6",
              "width": 0.5
             }
            },
            "type": "bar"
           }
          ],
          "barpolar": [
           {
            "marker": {
             "line": {
              "color": "#E5ECF6",
              "width": 0.5
             }
            },
            "type": "barpolar"
           }
          ],
          "carpet": [
           {
            "aaxis": {
             "endlinecolor": "#2a3f5f",
             "gridcolor": "white",
             "linecolor": "white",
             "minorgridcolor": "white",
             "startlinecolor": "#2a3f5f"
            },
            "baxis": {
             "endlinecolor": "#2a3f5f",
             "gridcolor": "white",
             "linecolor": "white",
             "minorgridcolor": "white",
             "startlinecolor": "#2a3f5f"
            },
            "type": "carpet"
           }
          ],
          "choropleth": [
           {
            "colorbar": {
             "outlinewidth": 0,
             "ticks": ""
            },
            "type": "choropleth"
           }
          ],
          "contour": [
           {
            "colorbar": {
             "outlinewidth": 0,
             "ticks": ""
            },
            "colorscale": [
             [
              0,
              "#0d0887"
             ],
             [
              0.1111111111111111,
              "#46039f"
             ],
             [
              0.2222222222222222,
              "#7201a8"
             ],
             [
              0.3333333333333333,
              "#9c179e"
             ],
             [
              0.4444444444444444,
              "#bd3786"
             ],
             [
              0.5555555555555556,
              "#d8576b"
             ],
             [
              0.6666666666666666,
              "#ed7953"
             ],
             [
              0.7777777777777778,
              "#fb9f3a"
             ],
             [
              0.8888888888888888,
              "#fdca26"
             ],
             [
              1,
              "#f0f921"
             ]
            ],
            "type": "contour"
           }
          ],
          "contourcarpet": [
           {
            "colorbar": {
             "outlinewidth": 0,
             "ticks": ""
            },
            "type": "contourcarpet"
           }
          ],
          "heatmap": [
           {
            "colorbar": {
             "outlinewidth": 0,
             "ticks": ""
            },
            "colorscale": [
             [
              0,
              "#0d0887"
             ],
             [
              0.1111111111111111,
              "#46039f"
             ],
             [
              0.2222222222222222,
              "#7201a8"
             ],
             [
              0.3333333333333333,
              "#9c179e"
             ],
             [
              0.4444444444444444,
              "#bd3786"
             ],
             [
              0.5555555555555556,
              "#d8576b"
             ],
             [
              0.6666666666666666,
              "#ed7953"
             ],
             [
              0.7777777777777778,
              "#fb9f3a"
             ],
             [
              0.8888888888888888,
              "#fdca26"
             ],
             [
              1,
              "#f0f921"
             ]
            ],
            "type": "heatmap"
           }
          ],
          "heatmapgl": [
           {
            "colorbar": {
             "outlinewidth": 0,
             "ticks": ""
            },
            "colorscale": [
             [
              0,
              "#0d0887"
             ],
             [
              0.1111111111111111,
              "#46039f"
             ],
             [
              0.2222222222222222,
              "#7201a8"
             ],
             [
              0.3333333333333333,
              "#9c179e"
             ],
             [
              0.4444444444444444,
              "#bd3786"
             ],
             [
              0.5555555555555556,
              "#d8576b"
             ],
             [
              0.6666666666666666,
              "#ed7953"
             ],
             [
              0.7777777777777778,
              "#fb9f3a"
             ],
             [
              0.8888888888888888,
              "#fdca26"
             ],
             [
              1,
              "#f0f921"
             ]
            ],
            "type": "heatmapgl"
           }
          ],
          "histogram": [
           {
            "marker": {
             "colorbar": {
              "outlinewidth": 0,
              "ticks": ""
             }
            },
            "type": "histogram"
           }
          ],
          "histogram2d": [
           {
            "colorbar": {
             "outlinewidth": 0,
             "ticks": ""
            },
            "colorscale": [
             [
              0,
              "#0d0887"
             ],
             [
              0.1111111111111111,
              "#46039f"
             ],
             [
              0.2222222222222222,
              "#7201a8"
             ],
             [
              0.3333333333333333,
              "#9c179e"
             ],
             [
              0.4444444444444444,
              "#bd3786"
             ],
             [
              0.5555555555555556,
              "#d8576b"
             ],
             [
              0.6666666666666666,
              "#ed7953"
             ],
             [
              0.7777777777777778,
              "#fb9f3a"
             ],
             [
              0.8888888888888888,
              "#fdca26"
             ],
             [
              1,
              "#f0f921"
             ]
            ],
            "type": "histogram2d"
           }
          ],
          "histogram2dcontour": [
           {
            "colorbar": {
             "outlinewidth": 0,
             "ticks": ""
            },
            "colorscale": [
             [
              0,
              "#0d0887"
             ],
             [
              0.1111111111111111,
              "#46039f"
             ],
             [
              0.2222222222222222,
              "#7201a8"
             ],
             [
              0.3333333333333333,
              "#9c179e"
             ],
             [
              0.4444444444444444,
              "#bd3786"
             ],
             [
              0.5555555555555556,
              "#d8576b"
             ],
             [
              0.6666666666666666,
              "#ed7953"
             ],
             [
              0.7777777777777778,
              "#fb9f3a"
             ],
             [
              0.8888888888888888,
              "#fdca26"
             ],
             [
              1,
              "#f0f921"
             ]
            ],
            "type": "histogram2dcontour"
           }
          ],
          "mesh3d": [
           {
            "colorbar": {
             "outlinewidth": 0,
             "ticks": ""
            },
            "type": "mesh3d"
           }
          ],
          "parcoords": [
           {
            "line": {
             "colorbar": {
              "outlinewidth": 0,
              "ticks": ""
             }
            },
            "type": "parcoords"
           }
          ],
          "pie": [
           {
            "automargin": true,
            "type": "pie"
           }
          ],
          "scatter": [
           {
            "marker": {
             "colorbar": {
              "outlinewidth": 0,
              "ticks": ""
             }
            },
            "type": "scatter"
           }
          ],
          "scatter3d": [
           {
            "line": {
             "colorbar": {
              "outlinewidth": 0,
              "ticks": ""
             }
            },
            "marker": {
             "colorbar": {
              "outlinewidth": 0,
              "ticks": ""
             }
            },
            "type": "scatter3d"
           }
          ],
          "scattercarpet": [
           {
            "marker": {
             "colorbar": {
              "outlinewidth": 0,
              "ticks": ""
             }
            },
            "type": "scattercarpet"
           }
          ],
          "scattergeo": [
           {
            "marker": {
             "colorbar": {
              "outlinewidth": 0,
              "ticks": ""
             }
            },
            "type": "scattergeo"
           }
          ],
          "scattergl": [
           {
            "marker": {
             "colorbar": {
              "outlinewidth": 0,
              "ticks": ""
             }
            },
            "type": "scattergl"
           }
          ],
          "scattermapbox": [
           {
            "marker": {
             "colorbar": {
              "outlinewidth": 0,
              "ticks": ""
             }
            },
            "type": "scattermapbox"
           }
          ],
          "scatterpolar": [
           {
            "marker": {
             "colorbar": {
              "outlinewidth": 0,
              "ticks": ""
             }
            },
            "type": "scatterpolar"
           }
          ],
          "scatterpolargl": [
           {
            "marker": {
             "colorbar": {
              "outlinewidth": 0,
              "ticks": ""
             }
            },
            "type": "scatterpolargl"
           }
          ],
          "scatterternary": [
           {
            "marker": {
             "colorbar": {
              "outlinewidth": 0,
              "ticks": ""
             }
            },
            "type": "scatterternary"
           }
          ],
          "surface": [
           {
            "colorbar": {
             "outlinewidth": 0,
             "ticks": ""
            },
            "colorscale": [
             [
              0,
              "#0d0887"
             ],
             [
              0.1111111111111111,
              "#46039f"
             ],
             [
              0.2222222222222222,
              "#7201a8"
             ],
             [
              0.3333333333333333,
              "#9c179e"
             ],
             [
              0.4444444444444444,
              "#bd3786"
             ],
             [
              0.5555555555555556,
              "#d8576b"
             ],
             [
              0.6666666666666666,
              "#ed7953"
             ],
             [
              0.7777777777777778,
              "#fb9f3a"
             ],
             [
              0.8888888888888888,
              "#fdca26"
             ],
             [
              1,
              "#f0f921"
             ]
            ],
            "type": "surface"
           }
          ],
          "table": [
           {
            "cells": {
             "fill": {
              "color": "#EBF0F8"
             },
             "line": {
              "color": "white"
             }
            },
            "header": {
             "fill": {
              "color": "#C8D4E3"
             },
             "line": {
              "color": "white"
             }
            },
            "type": "table"
           }
          ]
         },
         "layout": {
          "annotationdefaults": {
           "arrowcolor": "#2a3f5f",
           "arrowhead": 0,
           "arrowwidth": 1
          },
          "autotypenumbers": "strict",
          "coloraxis": {
           "colorbar": {
            "outlinewidth": 0,
            "ticks": ""
           }
          },
          "colorscale": {
           "diverging": [
            [
             0,
             "#8e0152"
            ],
            [
             0.1,
             "#c51b7d"
            ],
            [
             0.2,
             "#de77ae"
            ],
            [
             0.3,
             "#f1b6da"
            ],
            [
             0.4,
             "#fde0ef"
            ],
            [
             0.5,
             "#f7f7f7"
            ],
            [
             0.6,
             "#e6f5d0"
            ],
            [
             0.7,
             "#b8e186"
            ],
            [
             0.8,
             "#7fbc41"
            ],
            [
             0.9,
             "#4d9221"
            ],
            [
             1,
             "#276419"
            ]
           ],
           "sequential": [
            [
             0,
             "#0d0887"
            ],
            [
             0.1111111111111111,
             "#46039f"
            ],
            [
             0.2222222222222222,
             "#7201a8"
            ],
            [
             0.3333333333333333,
             "#9c179e"
            ],
            [
             0.4444444444444444,
             "#bd3786"
            ],
            [
             0.5555555555555556,
             "#d8576b"
            ],
            [
             0.6666666666666666,
             "#ed7953"
            ],
            [
             0.7777777777777778,
             "#fb9f3a"
            ],
            [
             0.8888888888888888,
             "#fdca26"
            ],
            [
             1,
             "#f0f921"
            ]
           ],
           "sequentialminus": [
            [
             0,
             "#0d0887"
            ],
            [
             0.1111111111111111,
             "#46039f"
            ],
            [
             0.2222222222222222,
             "#7201a8"
            ],
            [
             0.3333333333333333,
             "#9c179e"
            ],
            [
             0.4444444444444444,
             "#bd3786"
            ],
            [
             0.5555555555555556,
             "#d8576b"
            ],
            [
             0.6666666666666666,
             "#ed7953"
            ],
            [
             0.7777777777777778,
             "#fb9f3a"
            ],
            [
             0.8888888888888888,
             "#fdca26"
            ],
            [
             1,
             "#f0f921"
            ]
           ]
          },
          "colorway": [
           "#636efa",
           "#EF553B",
           "#00cc96",
           "#ab63fa",
           "#FFA15A",
           "#19d3f3",
           "#FF6692",
           "#B6E880",
           "#FF97FF",
           "#FECB52"
          ],
          "font": {
           "color": "#2a3f5f"
          },
          "geo": {
           "bgcolor": "white",
           "lakecolor": "white",
           "landcolor": "#E5ECF6",
           "showlakes": true,
           "showland": true,
           "subunitcolor": "white"
          },
          "hoverlabel": {
           "align": "left"
          },
          "hovermode": "closest",
          "mapbox": {
           "style": "light"
          },
          "paper_bgcolor": "white",
          "plot_bgcolor": "#E5ECF6",
          "polar": {
           "angularaxis": {
            "gridcolor": "white",
            "linecolor": "white",
            "ticks": ""
           },
           "bgcolor": "#E5ECF6",
           "radialaxis": {
            "gridcolor": "white",
            "linecolor": "white",
            "ticks": ""
           }
          },
          "scene": {
           "xaxis": {
            "backgroundcolor": "#E5ECF6",
            "gridcolor": "white",
            "gridwidth": 2,
            "linecolor": "white",
            "showbackground": true,
            "ticks": "",
            "zerolinecolor": "white"
           },
           "yaxis": {
            "backgroundcolor": "#E5ECF6",
            "gridcolor": "white",
            "gridwidth": 2,
            "linecolor": "white",
            "showbackground": true,
            "ticks": "",
            "zerolinecolor": "white"
           },
           "zaxis": {
            "backgroundcolor": "#E5ECF6",
            "gridcolor": "white",
            "gridwidth": 2,
            "linecolor": "white",
            "showbackground": true,
            "ticks": "",
            "zerolinecolor": "white"
           }
          },
          "shapedefaults": {
           "line": {
            "color": "#2a3f5f"
           }
          },
          "ternary": {
           "aaxis": {
            "gridcolor": "white",
            "linecolor": "white",
            "ticks": ""
           },
           "baxis": {
            "gridcolor": "white",
            "linecolor": "white",
            "ticks": ""
           },
           "bgcolor": "#E5ECF6",
           "caxis": {
            "gridcolor": "white",
            "linecolor": "white",
            "ticks": ""
           }
          },
          "title": {
           "x": 0.05
          },
          "xaxis": {
           "automargin": true,
           "gridcolor": "white",
           "linecolor": "white",
           "ticks": "",
           "title": {
            "standoff": 15
           },
           "zerolinecolor": "white",
           "zerolinewidth": 2
          },
          "yaxis": {
           "automargin": true,
           "gridcolor": "white",
           "linecolor": "white",
           "ticks": "",
           "title": {
            "standoff": 15
           },
           "zerolinecolor": "white",
           "zerolinewidth": 2
          }
         }
        },
        "title": {
         "text": "Dropouts vs enrollments"
        },
        "width": 1000,
        "xaxis": {
         "anchor": "y",
         "domain": [
          0,
          1
         ],
         "title": {
          "text": "Enrollments(%)"
         },
         "type": "log"
        },
        "yaxis": {
         "anchor": "x",
         "domain": [
          0,
          1
         ],
         "title": {
          "text": "Dropouts(%)"
         }
        }
       }
      }
     },
     "metadata": {}
    }
   ],
   "metadata": {}
  },
  {
   "cell_type": "markdown",
   "source": [
    "`Observations:`\n",
    "\n",
    "* UP has the highest student to teacher ratio. It also has low enrollment rate\n",
    "* Bihar has low enrollment and high dropout rate. They also have a high student to teacher ratio."
   ],
   "metadata": {}
  },
  {
   "cell_type": "code",
   "execution_count": 11,
   "source": [
    "retention_in_secondary = enrollments_x.Secondary_Total * (100-dropouts_x.SECONDARY_TOTAL)/100\r\n",
    "col = lambda x : 1 if x<=60 else (2 if x <=80 else (3 if x<=90 else 4))\r\n",
    "retention_in_secondary = pd.DataFrame(retention_in_secondary)\r\n",
    "retention_in_secondary = pd.concat([states,retention_in_secondary],axis=1)\r\n",
    "retention_in_secondary.columns=['State','Retention(%)']\r\n",
    "retention_in_secondary['Retention(%)'][retention_in_secondary.State=='Chandigarh']=enrollments_x.Secondary_Total[5]\r\n",
    "retention_in_secondary['color'] = retention_in_secondary['Retention(%)'].apply(col)"
   ],
   "outputs": [
    {
     "output_type": "stream",
     "name": "stderr",
     "text": [
      "<ipython-input-11-77be162982c4>:6: SettingWithCopyWarning:\n",
      "\n",
      "\n",
      "A value is trying to be set on a copy of a slice from a DataFrame\n",
      "\n",
      "See the caveats in the documentation: https://pandas.pydata.org/pandas-docs/stable/user_guide/indexing.html#returning-a-view-versus-a-copy\n",
      "\n"
     ]
    }
   ],
   "metadata": {}
  },
  {
   "cell_type": "code",
   "execution_count": 12,
   "source": [
    "figx=px.scatter(data_frame= retention_in_secondary, x = 'Retention(%)', hover_name ='State' , color='color', color_continuous_scale='turbo',title=\"Retention rates in secondary school\")\r\n",
    "figx.update_layout(showlegend=False)\r\n",
    "\r\n",
    "r2 = dp.Report(\r\n",
    "  dp.Plot(figx) #create a chart\r\n",
    ").publish(name='Retention', visibility=dp.Visibility.PUBLIC,open=True) #Publish the report\r\n",
    "figx.show()"
   ],
   "outputs": [
    {
     "output_type": "display_data",
     "data": {
      "text/plain": [
       "<IPython.core.display.Markdown object>"
      ],
      "text/markdown": [
       "Publishing document and associated data - *please wait...*"
      ]
     },
     "metadata": {}
    },
    {
     "output_type": "display_data",
     "data": {
      "text/plain": [
       "<IPython.core.display.Markdown object>"
      ],
      "text/markdown": [
       "Your report doesn't contain any text - did you know you can add text to your report from your browser once published?"
      ]
     },
     "metadata": {}
    },
    {
     "output_type": "display_data",
     "data": {
      "text/plain": [
       "<IPython.core.display.Markdown object>"
      ],
      "text/markdown": [
       "Your report only contains a single element - did you know you can add multiple plots and tables to a report, add text to it and export directly to Medium once published?"
      ]
     },
     "metadata": {}
    },
    {
     "output_type": "display_data",
     "data": {
      "text/plain": [
       "<IPython.core.display.Markdown object>"
      ],
      "text/markdown": [
       "Report successfully published at https://datapane.com/u/anupammisra/reports/retention/ - you can edit and add additional text online"
      ]
     },
     "metadata": {}
    },
    {
     "output_type": "display_data",
     "data": {
      "application/vnd.plotly.v1+json": {
       "config": {
        "plotlyServerURL": "https://plot.ly"
       },
       "data": [
        {
         "hovertemplate": "<b>%{hovertext}</b><br><br>Retention(%)=%{x}<br>index=%{y}<br>color=%{marker.color}<extra></extra>",
         "hovertext": [
          "Andaman & Nicobar Islands",
          "Andhra Pradesh",
          "Arunachal Pradesh",
          "Assam",
          "Bihar",
          "Chandigarh",
          "Chhattisgarh",
          "Dadra & Nagar Haveli",
          "Daman & Diu",
          "Delhi",
          "Goa",
          "Gujarat",
          "Haryana",
          "Himachal Pradesh",
          "Jammu And Kashmir",
          "Jharkhand",
          "Karnataka",
          "Kerala",
          "Lakshadweep",
          "Madhya Pradesh",
          "Maharashtra",
          "Manipur",
          "Meghalaya",
          "Mizoram",
          "Nagaland",
          "Odisha",
          "Puducherry",
          "Punjab",
          "Rajasthan",
          "Sikkim",
          "Tamil Nadu",
          "Telangana",
          "Tripura",
          "Uttar Pradesh",
          "Uttarakhand",
          "West Bengal"
         ],
         "legendgroup": "",
         "marker": {
          "color": [
           3,
           2,
           2,
           1,
           1,
           3,
           2,
           2,
           1,
           4,
           4,
           1,
           2,
           4,
           1,
           1,
           1,
           4,
           4,
           2,
           2,
           2,
           2,
           3,
           1,
           1,
           3,
           2,
           2,
           4,
           3,
           2,
           3,
           2,
           2,
           2
          ],
          "coloraxis": "coloraxis",
          "symbol": "circle"
         },
         "mode": "markers",
         "name": "",
         "orientation": "h",
         "showlegend": false,
         "type": "scatter",
         "x": [
          86.20967788888889,
          64.18626800000001,
          76.04490333333334,
          53.594610222222215,
          50.416078,
          89.66333333333334,
          77.94968644444445,
          66.58763222222223,
          58.22088333333332,
          95.21066322222222,
          97.80725499999998,
          59.40911777777778,
          74.31562399999999,
          105.44565800000001,
          55.303857888888885,
          56.15286388888889,
          55.596764777777764,
          90.32364033333333,
          109.24814266666667,
          63.75158066666666,
          75.46762933333335,
          78.03273266666666,
          61.27127111111111,
          85.62446666666665,
          49.996065,
          44.00311777777778,
          81.99198133333333,
          78.43443377777777,
          65.19076666666666,
          95.89125100000001,
          83.33838333333333,
          75.626174,
          83.59845288888887,
          67.06636444444446,
          74.20339999999999,
          66.25269450000002
         ],
         "xaxis": "x",
         "y": [
          0,
          1,
          2,
          3,
          4,
          5,
          6,
          7,
          8,
          9,
          10,
          11,
          12,
          13,
          14,
          15,
          16,
          17,
          18,
          19,
          20,
          21,
          22,
          23,
          24,
          25,
          26,
          27,
          28,
          29,
          30,
          31,
          32,
          33,
          34,
          35
         ],
         "yaxis": "y"
        }
       ],
       "layout": {
        "coloraxis": {
         "colorbar": {
          "title": {
           "text": "color"
          }
         },
         "colorscale": [
          [
           0,
           "#30123b"
          ],
          [
           0.07142857142857142,
           "#4145ab"
          ],
          [
           0.14285714285714285,
           "#4675ed"
          ],
          [
           0.21428571428571427,
           "#39a2fc"
          ],
          [
           0.2857142857142857,
           "#1bcfd4"
          ],
          [
           0.35714285714285715,
           "#24eca6"
          ],
          [
           0.42857142857142855,
           "#61fc6c"
          ],
          [
           0.5,
           "#a4fc3b"
          ],
          [
           0.5714285714285714,
           "#d1e834"
          ],
          [
           0.6428571428571429,
           "#f3c63a"
          ],
          [
           0.7142857142857143,
           "#fe9b2d"
          ],
          [
           0.7857142857142857,
           "#f36315"
          ],
          [
           0.8571428571428571,
           "#d93806"
          ],
          [
           0.9285714285714286,
           "#b11901"
          ],
          [
           1,
           "#7a0402"
          ]
         ]
        },
        "legend": {
         "tracegroupgap": 0
        },
        "showlegend": false,
        "template": {
         "data": {
          "bar": [
           {
            "error_x": {
             "color": "#2a3f5f"
            },
            "error_y": {
             "color": "#2a3f5f"
            },
            "marker": {
             "line": {
              "color": "#E5ECF6",
              "width": 0.5
             }
            },
            "type": "bar"
           }
          ],
          "barpolar": [
           {
            "marker": {
             "line": {
              "color": "#E5ECF6",
              "width": 0.5
             }
            },
            "type": "barpolar"
           }
          ],
          "carpet": [
           {
            "aaxis": {
             "endlinecolor": "#2a3f5f",
             "gridcolor": "white",
             "linecolor": "white",
             "minorgridcolor": "white",
             "startlinecolor": "#2a3f5f"
            },
            "baxis": {
             "endlinecolor": "#2a3f5f",
             "gridcolor": "white",
             "linecolor": "white",
             "minorgridcolor": "white",
             "startlinecolor": "#2a3f5f"
            },
            "type": "carpet"
           }
          ],
          "choropleth": [
           {
            "colorbar": {
             "outlinewidth": 0,
             "ticks": ""
            },
            "type": "choropleth"
           }
          ],
          "contour": [
           {
            "colorbar": {
             "outlinewidth": 0,
             "ticks": ""
            },
            "colorscale": [
             [
              0,
              "#0d0887"
             ],
             [
              0.1111111111111111,
              "#46039f"
             ],
             [
              0.2222222222222222,
              "#7201a8"
             ],
             [
              0.3333333333333333,
              "#9c179e"
             ],
             [
              0.4444444444444444,
              "#bd3786"
             ],
             [
              0.5555555555555556,
              "#d8576b"
             ],
             [
              0.6666666666666666,
              "#ed7953"
             ],
             [
              0.7777777777777778,
              "#fb9f3a"
             ],
             [
              0.8888888888888888,
              "#fdca26"
             ],
             [
              1,
              "#f0f921"
             ]
            ],
            "type": "contour"
           }
          ],
          "contourcarpet": [
           {
            "colorbar": {
             "outlinewidth": 0,
             "ticks": ""
            },
            "type": "contourcarpet"
           }
          ],
          "heatmap": [
           {
            "colorbar": {
             "outlinewidth": 0,
             "ticks": ""
            },
            "colorscale": [
             [
              0,
              "#0d0887"
             ],
             [
              0.1111111111111111,
              "#46039f"
             ],
             [
              0.2222222222222222,
              "#7201a8"
             ],
             [
              0.3333333333333333,
              "#9c179e"
             ],
             [
              0.4444444444444444,
              "#bd3786"
             ],
             [
              0.5555555555555556,
              "#d8576b"
             ],
             [
              0.6666666666666666,
              "#ed7953"
             ],
             [
              0.7777777777777778,
              "#fb9f3a"
             ],
             [
              0.8888888888888888,
              "#fdca26"
             ],
             [
              1,
              "#f0f921"
             ]
            ],
            "type": "heatmap"
           }
          ],
          "heatmapgl": [
           {
            "colorbar": {
             "outlinewidth": 0,
             "ticks": ""
            },
            "colorscale": [
             [
              0,
              "#0d0887"
             ],
             [
              0.1111111111111111,
              "#46039f"
             ],
             [
              0.2222222222222222,
              "#7201a8"
             ],
             [
              0.3333333333333333,
              "#9c179e"
             ],
             [
              0.4444444444444444,
              "#bd3786"
             ],
             [
              0.5555555555555556,
              "#d8576b"
             ],
             [
              0.6666666666666666,
              "#ed7953"
             ],
             [
              0.7777777777777778,
              "#fb9f3a"
             ],
             [
              0.8888888888888888,
              "#fdca26"
             ],
             [
              1,
              "#f0f921"
             ]
            ],
            "type": "heatmapgl"
           }
          ],
          "histogram": [
           {
            "marker": {
             "colorbar": {
              "outlinewidth": 0,
              "ticks": ""
             }
            },
            "type": "histogram"
           }
          ],
          "histogram2d": [
           {
            "colorbar": {
             "outlinewidth": 0,
             "ticks": ""
            },
            "colorscale": [
             [
              0,
              "#0d0887"
             ],
             [
              0.1111111111111111,
              "#46039f"
             ],
             [
              0.2222222222222222,
              "#7201a8"
             ],
             [
              0.3333333333333333,
              "#9c179e"
             ],
             [
              0.4444444444444444,
              "#bd3786"
             ],
             [
              0.5555555555555556,
              "#d8576b"
             ],
             [
              0.6666666666666666,
              "#ed7953"
             ],
             [
              0.7777777777777778,
              "#fb9f3a"
             ],
             [
              0.8888888888888888,
              "#fdca26"
             ],
             [
              1,
              "#f0f921"
             ]
            ],
            "type": "histogram2d"
           }
          ],
          "histogram2dcontour": [
           {
            "colorbar": {
             "outlinewidth": 0,
             "ticks": ""
            },
            "colorscale": [
             [
              0,
              "#0d0887"
             ],
             [
              0.1111111111111111,
              "#46039f"
             ],
             [
              0.2222222222222222,
              "#7201a8"
             ],
             [
              0.3333333333333333,
              "#9c179e"
             ],
             [
              0.4444444444444444,
              "#bd3786"
             ],
             [
              0.5555555555555556,
              "#d8576b"
             ],
             [
              0.6666666666666666,
              "#ed7953"
             ],
             [
              0.7777777777777778,
              "#fb9f3a"
             ],
             [
              0.8888888888888888,
              "#fdca26"
             ],
             [
              1,
              "#f0f921"
             ]
            ],
            "type": "histogram2dcontour"
           }
          ],
          "mesh3d": [
           {
            "colorbar": {
             "outlinewidth": 0,
             "ticks": ""
            },
            "type": "mesh3d"
           }
          ],
          "parcoords": [
           {
            "line": {
             "colorbar": {
              "outlinewidth": 0,
              "ticks": ""
             }
            },
            "type": "parcoords"
           }
          ],
          "pie": [
           {
            "automargin": true,
            "type": "pie"
           }
          ],
          "scatter": [
           {
            "marker": {
             "colorbar": {
              "outlinewidth": 0,
              "ticks": ""
             }
            },
            "type": "scatter"
           }
          ],
          "scatter3d": [
           {
            "line": {
             "colorbar": {
              "outlinewidth": 0,
              "ticks": ""
             }
            },
            "marker": {
             "colorbar": {
              "outlinewidth": 0,
              "ticks": ""
             }
            },
            "type": "scatter3d"
           }
          ],
          "scattercarpet": [
           {
            "marker": {
             "colorbar": {
              "outlinewidth": 0,
              "ticks": ""
             }
            },
            "type": "scattercarpet"
           }
          ],
          "scattergeo": [
           {
            "marker": {
             "colorbar": {
              "outlinewidth": 0,
              "ticks": ""
             }
            },
            "type": "scattergeo"
           }
          ],
          "scattergl": [
           {
            "marker": {
             "colorbar": {
              "outlinewidth": 0,
              "ticks": ""
             }
            },
            "type": "scattergl"
           }
          ],
          "scattermapbox": [
           {
            "marker": {
             "colorbar": {
              "outlinewidth": 0,
              "ticks": ""
             }
            },
            "type": "scattermapbox"
           }
          ],
          "scatterpolar": [
           {
            "marker": {
             "colorbar": {
              "outlinewidth": 0,
              "ticks": ""
             }
            },
            "type": "scatterpolar"
           }
          ],
          "scatterpolargl": [
           {
            "marker": {
             "colorbar": {
              "outlinewidth": 0,
              "ticks": ""
             }
            },
            "type": "scatterpolargl"
           }
          ],
          "scatterternary": [
           {
            "marker": {
             "colorbar": {
              "outlinewidth": 0,
              "ticks": ""
             }
            },
            "type": "scatterternary"
           }
          ],
          "surface": [
           {
            "colorbar": {
             "outlinewidth": 0,
             "ticks": ""
            },
            "colorscale": [
             [
              0,
              "#0d0887"
             ],
             [
              0.1111111111111111,
              "#46039f"
             ],
             [
              0.2222222222222222,
              "#7201a8"
             ],
             [
              0.3333333333333333,
              "#9c179e"
             ],
             [
              0.4444444444444444,
              "#bd3786"
             ],
             [
              0.5555555555555556,
              "#d8576b"
             ],
             [
              0.6666666666666666,
              "#ed7953"
             ],
             [
              0.7777777777777778,
              "#fb9f3a"
             ],
             [
              0.8888888888888888,
              "#fdca26"
             ],
             [
              1,
              "#f0f921"
             ]
            ],
            "type": "surface"
           }
          ],
          "table": [
           {
            "cells": {
             "fill": {
              "color": "#EBF0F8"
             },
             "line": {
              "color": "white"
             }
            },
            "header": {
             "fill": {
              "color": "#C8D4E3"
             },
             "line": {
              "color": "white"
             }
            },
            "type": "table"
           }
          ]
         },
         "layout": {
          "annotationdefaults": {
           "arrowcolor": "#2a3f5f",
           "arrowhead": 0,
           "arrowwidth": 1
          },
          "autotypenumbers": "strict",
          "coloraxis": {
           "colorbar": {
            "outlinewidth": 0,
            "ticks": ""
           }
          },
          "colorscale": {
           "diverging": [
            [
             0,
             "#8e0152"
            ],
            [
             0.1,
             "#c51b7d"
            ],
            [
             0.2,
             "#de77ae"
            ],
            [
             0.3,
             "#f1b6da"
            ],
            [
             0.4,
             "#fde0ef"
            ],
            [
             0.5,
             "#f7f7f7"
            ],
            [
             0.6,
             "#e6f5d0"
            ],
            [
             0.7,
             "#b8e186"
            ],
            [
             0.8,
             "#7fbc41"
            ],
            [
             0.9,
             "#4d9221"
            ],
            [
             1,
             "#276419"
            ]
           ],
           "sequential": [
            [
             0,
             "#0d0887"
            ],
            [
             0.1111111111111111,
             "#46039f"
            ],
            [
             0.2222222222222222,
             "#7201a8"
            ],
            [
             0.3333333333333333,
             "#9c179e"
            ],
            [
             0.4444444444444444,
             "#bd3786"
            ],
            [
             0.5555555555555556,
             "#d8576b"
            ],
            [
             0.6666666666666666,
             "#ed7953"
            ],
            [
             0.7777777777777778,
             "#fb9f3a"
            ],
            [
             0.8888888888888888,
             "#fdca26"
            ],
            [
             1,
             "#f0f921"
            ]
           ],
           "sequentialminus": [
            [
             0,
             "#0d0887"
            ],
            [
             0.1111111111111111,
             "#46039f"
            ],
            [
             0.2222222222222222,
             "#7201a8"
            ],
            [
             0.3333333333333333,
             "#9c179e"
            ],
            [
             0.4444444444444444,
             "#bd3786"
            ],
            [
             0.5555555555555556,
             "#d8576b"
            ],
            [
             0.6666666666666666,
             "#ed7953"
            ],
            [
             0.7777777777777778,
             "#fb9f3a"
            ],
            [
             0.8888888888888888,
             "#fdca26"
            ],
            [
             1,
             "#f0f921"
            ]
           ]
          },
          "colorway": [
           "#636efa",
           "#EF553B",
           "#00cc96",
           "#ab63fa",
           "#FFA15A",
           "#19d3f3",
           "#FF6692",
           "#B6E880",
           "#FF97FF",
           "#FECB52"
          ],
          "font": {
           "color": "#2a3f5f"
          },
          "geo": {
           "bgcolor": "white",
           "lakecolor": "white",
           "landcolor": "#E5ECF6",
           "showlakes": true,
           "showland": true,
           "subunitcolor": "white"
          },
          "hoverlabel": {
           "align": "left"
          },
          "hovermode": "closest",
          "mapbox": {
           "style": "light"
          },
          "paper_bgcolor": "white",
          "plot_bgcolor": "#E5ECF6",
          "polar": {
           "angularaxis": {
            "gridcolor": "white",
            "linecolor": "white",
            "ticks": ""
           },
           "bgcolor": "#E5ECF6",
           "radialaxis": {
            "gridcolor": "white",
            "linecolor": "white",
            "ticks": ""
           }
          },
          "scene": {
           "xaxis": {
            "backgroundcolor": "#E5ECF6",
            "gridcolor": "white",
            "gridwidth": 2,
            "linecolor": "white",
            "showbackground": true,
            "ticks": "",
            "zerolinecolor": "white"
           },
           "yaxis": {
            "backgroundcolor": "#E5ECF6",
            "gridcolor": "white",
            "gridwidth": 2,
            "linecolor": "white",
            "showbackground": true,
            "ticks": "",
            "zerolinecolor": "white"
           },
           "zaxis": {
            "backgroundcolor": "#E5ECF6",
            "gridcolor": "white",
            "gridwidth": 2,
            "linecolor": "white",
            "showbackground": true,
            "ticks": "",
            "zerolinecolor": "white"
           }
          },
          "shapedefaults": {
           "line": {
            "color": "#2a3f5f"
           }
          },
          "ternary": {
           "aaxis": {
            "gridcolor": "white",
            "linecolor": "white",
            "ticks": ""
           },
           "baxis": {
            "gridcolor": "white",
            "linecolor": "white",
            "ticks": ""
           },
           "bgcolor": "#E5ECF6",
           "caxis": {
            "gridcolor": "white",
            "linecolor": "white",
            "ticks": ""
           }
          },
          "title": {
           "x": 0.05
          },
          "xaxis": {
           "automargin": true,
           "gridcolor": "white",
           "linecolor": "white",
           "ticks": "",
           "title": {
            "standoff": 15
           },
           "zerolinecolor": "white",
           "zerolinewidth": 2
          },
          "yaxis": {
           "automargin": true,
           "gridcolor": "white",
           "linecolor": "white",
           "ticks": "",
           "title": {
            "standoff": 15
           },
           "zerolinecolor": "white",
           "zerolinewidth": 2
          }
         }
        },
        "title": {
         "text": "Retention rates in secondary school"
        },
        "xaxis": {
         "anchor": "y",
         "domain": [
          0,
          1
         ],
         "title": {
          "text": "Retention(%)"
         }
        },
        "yaxis": {
         "anchor": "x",
         "domain": [
          0,
          1
         ],
         "title": {
          "text": "index"
         }
        }
       }
      }
     },
     "metadata": {}
    }
   ],
   "metadata": {}
  },
  {
   "cell_type": "markdown",
   "source": [
    "## Other factors in schooling"
   ],
   "metadata": {}
  },
  {
   "cell_type": "code",
   "execution_count": 13,
   "source": [
    "prim=['Drinking water']*36\r\n",
    "uprim=['Electricity']*36\r\n",
    "uuprim=['Computer']*36\r\n",
    "sec=['Boys toilet']*36\r\n",
    "usec=['Girls toilet']*36\r\n",
    "lis=prim+uprim+uuprim+sec+usec\r\n",
    "\r\n",
    "datas_facts=pd.DataFrame({'Mean percentage(%)':pd.concat([factors['Drinking water'],factors['Electricity'],factors['Computer'],factors['Boys toilet'], factors['Girls toilet']],axis=0), 'Factor':lis,'State':list(states['State'])*5})\r\n",
    "\r\n",
    "figy=px.box(data_frame=datas_facts,x='Mean percentage(%)', y='Factor',hover_name='State',color='Factor', title=\"Presence of factors in school\")\r\n",
    "figy.update_layout(showlegend=False)\r\n",
    "\r\n",
    "r = dp.Report(\r\n",
    "  dp.Markdown('Presence of factors in school'), #add description to the report\r\n",
    "  dp.Plot(figy) #create a chart\r\n",
    ").publish(name='Factors', visibility=dp.Visibility.PUBLIC,open=True) #Publish the report\r\n",
    "figy.show()"
   ],
   "outputs": [
    {
     "output_type": "display_data",
     "data": {
      "text/plain": [
       "<IPython.core.display.Markdown object>"
      ],
      "text/markdown": [
       "Publishing document and associated data - *please wait...*"
      ]
     },
     "metadata": {}
    },
    {
     "output_type": "display_data",
     "data": {
      "text/plain": [
       "<IPython.core.display.Markdown object>"
      ],
      "text/markdown": [
       "Report successfully published at https://datapane.com/u/anupammisra/reports/factors/ - you can edit and add additional text online"
      ]
     },
     "metadata": {}
    },
    {
     "output_type": "display_data",
     "data": {
      "application/vnd.plotly.v1+json": {
       "config": {
        "plotlyServerURL": "https://plot.ly"
       },
       "data": [
        {
         "alignmentgroup": "True",
         "hovertemplate": "<b>%{hovertext}</b><br><br>Factor=%{y}<br>Mean percentage(%)=%{x}<extra></extra>",
         "hovertext": [
          "Andaman & Nicobar Islands",
          "Andhra Pradesh",
          "Arunachal Pradesh",
          "Assam",
          "Bihar",
          "Chandigarh",
          "Chhattisgarh",
          "Dadra & Nagar Haveli",
          "Daman & Diu",
          "Delhi",
          "Goa",
          "Gujarat",
          "Haryana",
          "Himachal Pradesh",
          "Jammu And Kashmir",
          "Jharkhand",
          "Karnataka",
          "Kerala",
          "Lakshadweep",
          "Madhya Pradesh",
          "Maharashtra",
          "Manipur",
          "Meghalaya",
          "Mizoram",
          "Nagaland",
          "Odisha",
          "Puducherry",
          "Punjab",
          "Rajasthan",
          "Sikkim",
          "Tamil Nadu",
          "Telangana",
          "Tripura",
          "Uttar Pradesh",
          "Uttarakhand",
          "West Bengal"
         ],
         "legendgroup": "Drinking water",
         "marker": {
          "color": "#636efa"
         },
         "name": "Drinking water",
         "notched": false,
         "offsetgroup": "Drinking water",
         "orientation": "h",
         "showlegend": true,
         "type": "box",
         "x": [
          99.40333333333332,
          93.15333333333332,
          80.63333333333334,
          83.29,
          93.23333333333333,
          100,
          97.18666666666667,
          100,
          100,
          100,
          99.28000000000002,
          99.93333333333334,
          99.84333333333332,
          99.33333333333333,
          91.04,
          92.29333333333334,
          99.75,
          99.54666666666667,
          100,
          96.24333333333334,
          99.56333333333333,
          92.43666666666667,
          63.10333333333333,
          92.90666666666668,
          77.52333333333333,
          98.08999999999999,
          99.91000000000001,
          99.90666666666668,
          96.74333333333334,
          97.62,
          99.92333333333333,
          90.69333333333333,
          92.33,
          97.67333333333333,
          96.44,
          98.17500000000001
         ],
         "x0": " ",
         "xaxis": "x",
         "y": [
          "Drinking water",
          "Drinking water",
          "Drinking water",
          "Drinking water",
          "Drinking water",
          "Drinking water",
          "Drinking water",
          "Drinking water",
          "Drinking water",
          "Drinking water",
          "Drinking water",
          "Drinking water",
          "Drinking water",
          "Drinking water",
          "Drinking water",
          "Drinking water",
          "Drinking water",
          "Drinking water",
          "Drinking water",
          "Drinking water",
          "Drinking water",
          "Drinking water",
          "Drinking water",
          "Drinking water",
          "Drinking water",
          "Drinking water",
          "Drinking water",
          "Drinking water",
          "Drinking water",
          "Drinking water",
          "Drinking water",
          "Drinking water",
          "Drinking water",
          "Drinking water",
          "Drinking water",
          "Drinking water"
         ],
         "y0": " ",
         "yaxis": "y"
        },
        {
         "alignmentgroup": "True",
         "hovertemplate": "<b>%{hovertext}</b><br><br>Factor=%{y}<br>Mean percentage(%)=%{x}<extra></extra>",
         "hovertext": [
          "Andaman & Nicobar Islands",
          "Andhra Pradesh",
          "Arunachal Pradesh",
          "Assam",
          "Bihar",
          "Chandigarh",
          "Chhattisgarh",
          "Dadra & Nagar Haveli",
          "Daman & Diu",
          "Delhi",
          "Goa",
          "Gujarat",
          "Haryana",
          "Himachal Pradesh",
          "Jammu And Kashmir",
          "Jharkhand",
          "Karnataka",
          "Kerala",
          "Lakshadweep",
          "Madhya Pradesh",
          "Maharashtra",
          "Manipur",
          "Meghalaya",
          "Mizoram",
          "Nagaland",
          "Odisha",
          "Puducherry",
          "Punjab",
          "Rajasthan",
          "Sikkim",
          "Tamil Nadu",
          "Telangana",
          "Tripura",
          "Uttar Pradesh",
          "Uttarakhand",
          "West Bengal"
         ],
         "legendgroup": "Electricity",
         "marker": {
          "color": "#EF553B"
         },
         "name": "Electricity",
         "notched": false,
         "offsetgroup": "Electricity",
         "orientation": "h",
         "showlegend": true,
         "type": "box",
         "x": [
          89.28333333333335,
          92.2,
          38.163333333333334,
          22.44666666666667,
          24.320000000000004,
          100,
          65.60666666666667,
          98.44666666666667,
          100,
          100,
          98.92,
          99.72333333333334,
          98.86666666666667,
          95.12,
          26.94333333333333,
          17.926666666666666,
          97.51333333333334,
          96.85000000000001,
          100,
          28.453333333333333,
          93.54,
          33.63333333333333,
          26.583333333333332,
          75.07000000000001,
          43.9,
          30.213333333333335,
          100,
          99.89333333333333,
          54.67333333333334,
          74.66333333333333,
          98.41666666666667,
          69.19,
          36.846666666666664,
          60.68666666666667,
          66.11666666666666,
          65.92
         ],
         "x0": " ",
         "xaxis": "x",
         "y": [
          "Electricity",
          "Electricity",
          "Electricity",
          "Electricity",
          "Electricity",
          "Electricity",
          "Electricity",
          "Electricity",
          "Electricity",
          "Electricity",
          "Electricity",
          "Electricity",
          "Electricity",
          "Electricity",
          "Electricity",
          "Electricity",
          "Electricity",
          "Electricity",
          "Electricity",
          "Electricity",
          "Electricity",
          "Electricity",
          "Electricity",
          "Electricity",
          "Electricity",
          "Electricity",
          "Electricity",
          "Electricity",
          "Electricity",
          "Electricity",
          "Electricity",
          "Electricity",
          "Electricity",
          "Electricity",
          "Electricity",
          "Electricity"
         ],
         "y0": " ",
         "yaxis": "y"
        },
        {
         "alignmentgroup": "True",
         "hovertemplate": "<b>%{hovertext}</b><br><br>Factor=%{y}<br>Mean percentage(%)=%{x}<extra></extra>",
         "hovertext": [
          "Andaman & Nicobar Islands",
          "Andhra Pradesh",
          "Arunachal Pradesh",
          "Assam",
          "Bihar",
          "Chandigarh",
          "Chhattisgarh",
          "Dadra & Nagar Haveli",
          "Daman & Diu",
          "Delhi",
          "Goa",
          "Gujarat",
          "Haryana",
          "Himachal Pradesh",
          "Jammu And Kashmir",
          "Jharkhand",
          "Karnataka",
          "Kerala",
          "Lakshadweep",
          "Madhya Pradesh",
          "Maharashtra",
          "Manipur",
          "Meghalaya",
          "Mizoram",
          "Nagaland",
          "Odisha",
          "Puducherry",
          "Punjab",
          "Rajasthan",
          "Sikkim",
          "Tamil Nadu",
          "Telangana",
          "Tripura",
          "Uttar Pradesh",
          "Uttarakhand",
          "West Bengal"
         ],
         "legendgroup": "Computer",
         "marker": {
          "color": "#00cc96"
         },
         "name": "Computer",
         "notched": false,
         "offsetgroup": "Computer",
         "orientation": "h",
         "showlegend": true,
         "type": "box",
         "x": [
          55.77,
          29.406666666666666,
          24.439999999999998,
          9.813333333333333,
          7.676666666666667,
          95.26333333333332,
          11.459999999999999,
          40.32,
          63.81999999999999,
          82.14999999999999,
          42.95333333333334,
          74.26666666666667,
          45.696666666666665,
          24.113333333333333,
          17.536666666666665,
          9.643333333333333,
          37.76,
          93.63333333333333,
          100,
          14.26,
          56.50333333333333,
          25.986666666666665,
          10.453333333333333,
          30.823333333333334,
          36.92333333333334,
          13.11,
          98.06666666666666,
          52.426666666666655,
          27.393333333333334,
          57.416666666666664,
          56.346666666666664,
          28.27,
          13.959999999999999,
          19.333333333333332,
          25.759999999999994,
          12.4
         ],
         "x0": " ",
         "xaxis": "x",
         "y": [
          "Computer",
          "Computer",
          "Computer",
          "Computer",
          "Computer",
          "Computer",
          "Computer",
          "Computer",
          "Computer",
          "Computer",
          "Computer",
          "Computer",
          "Computer",
          "Computer",
          "Computer",
          "Computer",
          "Computer",
          "Computer",
          "Computer",
          "Computer",
          "Computer",
          "Computer",
          "Computer",
          "Computer",
          "Computer",
          "Computer",
          "Computer",
          "Computer",
          "Computer",
          "Computer",
          "Computer",
          "Computer",
          "Computer",
          "Computer",
          "Computer",
          "Computer"
         ],
         "y0": " ",
         "yaxis": "y"
        },
        {
         "alignmentgroup": "True",
         "hovertemplate": "<b>%{hovertext}</b><br><br>Factor=%{y}<br>Mean percentage(%)=%{x}<extra></extra>",
         "hovertext": [
          "Andaman & Nicobar Islands",
          "Andhra Pradesh",
          "Arunachal Pradesh",
          "Assam",
          "Bihar",
          "Chandigarh",
          "Chhattisgarh",
          "Dadra & Nagar Haveli",
          "Daman & Diu",
          "Delhi",
          "Goa",
          "Gujarat",
          "Haryana",
          "Himachal Pradesh",
          "Jammu And Kashmir",
          "Jharkhand",
          "Karnataka",
          "Kerala",
          "Lakshadweep",
          "Madhya Pradesh",
          "Maharashtra",
          "Manipur",
          "Meghalaya",
          "Mizoram",
          "Nagaland",
          "Odisha",
          "Puducherry",
          "Punjab",
          "Rajasthan",
          "Sikkim",
          "Tamil Nadu",
          "Telangana",
          "Tripura",
          "Uttar Pradesh",
          "Uttarakhand",
          "West Bengal"
         ],
         "legendgroup": "Boys toilet",
         "marker": {
          "color": "#ab63fa"
         },
         "name": "Boys toilet",
         "notched": false,
         "offsetgroup": "Boys toilet",
         "orientation": "h",
         "showlegend": true,
         "type": "box",
         "x": [
          98.17333333333333,
          73.97,
          80.11666666666666,
          65.92333333333333,
          78.83333333333333,
          100,
          85.80333333333333,
          93.62333333333333,
          100,
          100,
          92.63999999999999,
          98.75666666666666,
          97.23,
          96.60333333333334,
          77.74666666666667,
          89.43666666666667,
          99.47666666666667,
          97.33666666666666,
          100,
          92.83999999999999,
          98.88666666666666,
          96.30000000000001,
          68.19666666666667,
          89.52333333333333,
          93.74333333333334,
          84.27,
          99.90333333333332,
          97.99666666666667,
          97.37666666666667,
          98.34666666666665,
          96.65000000000002,
          88.17999999999999,
          98.79333333333334,
          97.64999999999999,
          91.77,
          93.815
         ],
         "x0": " ",
         "xaxis": "x",
         "y": [
          "Boys toilet",
          "Boys toilet",
          "Boys toilet",
          "Boys toilet",
          "Boys toilet",
          "Boys toilet",
          "Boys toilet",
          "Boys toilet",
          "Boys toilet",
          "Boys toilet",
          "Boys toilet",
          "Boys toilet",
          "Boys toilet",
          "Boys toilet",
          "Boys toilet",
          "Boys toilet",
          "Boys toilet",
          "Boys toilet",
          "Boys toilet",
          "Boys toilet",
          "Boys toilet",
          "Boys toilet",
          "Boys toilet",
          "Boys toilet",
          "Boys toilet",
          "Boys toilet",
          "Boys toilet",
          "Boys toilet",
          "Boys toilet",
          "Boys toilet",
          "Boys toilet",
          "Boys toilet",
          "Boys toilet",
          "Boys toilet",
          "Boys toilet",
          "Boys toilet"
         ],
         "y0": " ",
         "yaxis": "y"
        },
        {
         "alignmentgroup": "True",
         "hovertemplate": "<b>%{hovertext}</b><br><br>Factor=%{y}<br>Mean percentage(%)=%{x}<extra></extra>",
         "hovertext": [
          "Andaman & Nicobar Islands",
          "Andhra Pradesh",
          "Arunachal Pradesh",
          "Assam",
          "Bihar",
          "Chandigarh",
          "Chhattisgarh",
          "Dadra & Nagar Haveli",
          "Daman & Diu",
          "Delhi",
          "Goa",
          "Gujarat",
          "Haryana",
          "Himachal Pradesh",
          "Jammu And Kashmir",
          "Jharkhand",
          "Karnataka",
          "Kerala",
          "Lakshadweep",
          "Madhya Pradesh",
          "Maharashtra",
          "Manipur",
          "Meghalaya",
          "Mizoram",
          "Nagaland",
          "Odisha",
          "Puducherry",
          "Punjab",
          "Rajasthan",
          "Sikkim",
          "Tamil Nadu",
          "Telangana",
          "Tripura",
          "Uttar Pradesh",
          "Uttarakhand",
          "West Bengal"
         ],
         "legendgroup": "Girls toilet",
         "marker": {
          "color": "#FFA15A"
         },
         "name": "Girls toilet",
         "notched": false,
         "offsetgroup": "Girls toilet",
         "orientation": "h",
         "showlegend": true,
         "type": "box",
         "x": [
          97.81333333333333,
          93.03333333333335,
          90.11666666666667,
          78.02666666666666,
          80.58666666666666,
          100,
          95.08666666666666,
          97.83,
          100,
          100,
          99.24333333333334,
          99.83999999999999,
          98.58333333333333,
          98.27,
          83.20666666666666,
          90.58333333333333,
          99.69,
          98.11000000000001,
          100,
          93.08666666666666,
          99.05333333333333,
          97.47333333333334,
          66.38666666666667,
          99.57,
          98.77999999999999,
          90.46666666666665,
          100,
          98.90666666666665,
          98.52333333333333,
          99.33,
          98.83999999999999,
          93.74333333333334,
          99.46666666666665,
          98.19333333333333,
          91.74333333333334,
          95.355
         ],
         "x0": " ",
         "xaxis": "x",
         "y": [
          "Girls toilet",
          "Girls toilet",
          "Girls toilet",
          "Girls toilet",
          "Girls toilet",
          "Girls toilet",
          "Girls toilet",
          "Girls toilet",
          "Girls toilet",
          "Girls toilet",
          "Girls toilet",
          "Girls toilet",
          "Girls toilet",
          "Girls toilet",
          "Girls toilet",
          "Girls toilet",
          "Girls toilet",
          "Girls toilet",
          "Girls toilet",
          "Girls toilet",
          "Girls toilet",
          "Girls toilet",
          "Girls toilet",
          "Girls toilet",
          "Girls toilet",
          "Girls toilet",
          "Girls toilet",
          "Girls toilet",
          "Girls toilet",
          "Girls toilet",
          "Girls toilet",
          "Girls toilet",
          "Girls toilet",
          "Girls toilet",
          "Girls toilet",
          "Girls toilet"
         ],
         "y0": " ",
         "yaxis": "y"
        }
       ],
       "layout": {
        "boxmode": "overlay",
        "legend": {
         "title": {
          "text": "Factor"
         },
         "tracegroupgap": 0
        },
        "showlegend": false,
        "template": {
         "data": {
          "bar": [
           {
            "error_x": {
             "color": "#2a3f5f"
            },
            "error_y": {
             "color": "#2a3f5f"
            },
            "marker": {
             "line": {
              "color": "#E5ECF6",
              "width": 0.5
             }
            },
            "type": "bar"
           }
          ],
          "barpolar": [
           {
            "marker": {
             "line": {
              "color": "#E5ECF6",
              "width": 0.5
             }
            },
            "type": "barpolar"
           }
          ],
          "carpet": [
           {
            "aaxis": {
             "endlinecolor": "#2a3f5f",
             "gridcolor": "white",
             "linecolor": "white",
             "minorgridcolor": "white",
             "startlinecolor": "#2a3f5f"
            },
            "baxis": {
             "endlinecolor": "#2a3f5f",
             "gridcolor": "white",
             "linecolor": "white",
             "minorgridcolor": "white",
             "startlinecolor": "#2a3f5f"
            },
            "type": "carpet"
           }
          ],
          "choropleth": [
           {
            "colorbar": {
             "outlinewidth": 0,
             "ticks": ""
            },
            "type": "choropleth"
           }
          ],
          "contour": [
           {
            "colorbar": {
             "outlinewidth": 0,
             "ticks": ""
            },
            "colorscale": [
             [
              0,
              "#0d0887"
             ],
             [
              0.1111111111111111,
              "#46039f"
             ],
             [
              0.2222222222222222,
              "#7201a8"
             ],
             [
              0.3333333333333333,
              "#9c179e"
             ],
             [
              0.4444444444444444,
              "#bd3786"
             ],
             [
              0.5555555555555556,
              "#d8576b"
             ],
             [
              0.6666666666666666,
              "#ed7953"
             ],
             [
              0.7777777777777778,
              "#fb9f3a"
             ],
             [
              0.8888888888888888,
              "#fdca26"
             ],
             [
              1,
              "#f0f921"
             ]
            ],
            "type": "contour"
           }
          ],
          "contourcarpet": [
           {
            "colorbar": {
             "outlinewidth": 0,
             "ticks": ""
            },
            "type": "contourcarpet"
           }
          ],
          "heatmap": [
           {
            "colorbar": {
             "outlinewidth": 0,
             "ticks": ""
            },
            "colorscale": [
             [
              0,
              "#0d0887"
             ],
             [
              0.1111111111111111,
              "#46039f"
             ],
             [
              0.2222222222222222,
              "#7201a8"
             ],
             [
              0.3333333333333333,
              "#9c179e"
             ],
             [
              0.4444444444444444,
              "#bd3786"
             ],
             [
              0.5555555555555556,
              "#d8576b"
             ],
             [
              0.6666666666666666,
              "#ed7953"
             ],
             [
              0.7777777777777778,
              "#fb9f3a"
             ],
             [
              0.8888888888888888,
              "#fdca26"
             ],
             [
              1,
              "#f0f921"
             ]
            ],
            "type": "heatmap"
           }
          ],
          "heatmapgl": [
           {
            "colorbar": {
             "outlinewidth": 0,
             "ticks": ""
            },
            "colorscale": [
             [
              0,
              "#0d0887"
             ],
             [
              0.1111111111111111,
              "#46039f"
             ],
             [
              0.2222222222222222,
              "#7201a8"
             ],
             [
              0.3333333333333333,
              "#9c179e"
             ],
             [
              0.4444444444444444,
              "#bd3786"
             ],
             [
              0.5555555555555556,
              "#d8576b"
             ],
             [
              0.6666666666666666,
              "#ed7953"
             ],
             [
              0.7777777777777778,
              "#fb9f3a"
             ],
             [
              0.8888888888888888,
              "#fdca26"
             ],
             [
              1,
              "#f0f921"
             ]
            ],
            "type": "heatmapgl"
           }
          ],
          "histogram": [
           {
            "marker": {
             "colorbar": {
              "outlinewidth": 0,
              "ticks": ""
             }
            },
            "type": "histogram"
           }
          ],
          "histogram2d": [
           {
            "colorbar": {
             "outlinewidth": 0,
             "ticks": ""
            },
            "colorscale": [
             [
              0,
              "#0d0887"
             ],
             [
              0.1111111111111111,
              "#46039f"
             ],
             [
              0.2222222222222222,
              "#7201a8"
             ],
             [
              0.3333333333333333,
              "#9c179e"
             ],
             [
              0.4444444444444444,
              "#bd3786"
             ],
             [
              0.5555555555555556,
              "#d8576b"
             ],
             [
              0.6666666666666666,
              "#ed7953"
             ],
             [
              0.7777777777777778,
              "#fb9f3a"
             ],
             [
              0.8888888888888888,
              "#fdca26"
             ],
             [
              1,
              "#f0f921"
             ]
            ],
            "type": "histogram2d"
           }
          ],
          "histogram2dcontour": [
           {
            "colorbar": {
             "outlinewidth": 0,
             "ticks": ""
            },
            "colorscale": [
             [
              0,
              "#0d0887"
             ],
             [
              0.1111111111111111,
              "#46039f"
             ],
             [
              0.2222222222222222,
              "#7201a8"
             ],
             [
              0.3333333333333333,
              "#9c179e"
             ],
             [
              0.4444444444444444,
              "#bd3786"
             ],
             [
              0.5555555555555556,
              "#d8576b"
             ],
             [
              0.6666666666666666,
              "#ed7953"
             ],
             [
              0.7777777777777778,
              "#fb9f3a"
             ],
             [
              0.8888888888888888,
              "#fdca26"
             ],
             [
              1,
              "#f0f921"
             ]
            ],
            "type": "histogram2dcontour"
           }
          ],
          "mesh3d": [
           {
            "colorbar": {
             "outlinewidth": 0,
             "ticks": ""
            },
            "type": "mesh3d"
           }
          ],
          "parcoords": [
           {
            "line": {
             "colorbar": {
              "outlinewidth": 0,
              "ticks": ""
             }
            },
            "type": "parcoords"
           }
          ],
          "pie": [
           {
            "automargin": true,
            "type": "pie"
           }
          ],
          "scatter": [
           {
            "marker": {
             "colorbar": {
              "outlinewidth": 0,
              "ticks": ""
             }
            },
            "type": "scatter"
           }
          ],
          "scatter3d": [
           {
            "line": {
             "colorbar": {
              "outlinewidth": 0,
              "ticks": ""
             }
            },
            "marker": {
             "colorbar": {
              "outlinewidth": 0,
              "ticks": ""
             }
            },
            "type": "scatter3d"
           }
          ],
          "scattercarpet": [
           {
            "marker": {
             "colorbar": {
              "outlinewidth": 0,
              "ticks": ""
             }
            },
            "type": "scattercarpet"
           }
          ],
          "scattergeo": [
           {
            "marker": {
             "colorbar": {
              "outlinewidth": 0,
              "ticks": ""
             }
            },
            "type": "scattergeo"
           }
          ],
          "scattergl": [
           {
            "marker": {
             "colorbar": {
              "outlinewidth": 0,
              "ticks": ""
             }
            },
            "type": "scattergl"
           }
          ],
          "scattermapbox": [
           {
            "marker": {
             "colorbar": {
              "outlinewidth": 0,
              "ticks": ""
             }
            },
            "type": "scattermapbox"
           }
          ],
          "scatterpolar": [
           {
            "marker": {
             "colorbar": {
              "outlinewidth": 0,
              "ticks": ""
             }
            },
            "type": "scatterpolar"
           }
          ],
          "scatterpolargl": [
           {
            "marker": {
             "colorbar": {
              "outlinewidth": 0,
              "ticks": ""
             }
            },
            "type": "scatterpolargl"
           }
          ],
          "scatterternary": [
           {
            "marker": {
             "colorbar": {
              "outlinewidth": 0,
              "ticks": ""
             }
            },
            "type": "scatterternary"
           }
          ],
          "surface": [
           {
            "colorbar": {
             "outlinewidth": 0,
             "ticks": ""
            },
            "colorscale": [
             [
              0,
              "#0d0887"
             ],
             [
              0.1111111111111111,
              "#46039f"
             ],
             [
              0.2222222222222222,
              "#7201a8"
             ],
             [
              0.3333333333333333,
              "#9c179e"
             ],
             [
              0.4444444444444444,
              "#bd3786"
             ],
             [
              0.5555555555555556,
              "#d8576b"
             ],
             [
              0.6666666666666666,
              "#ed7953"
             ],
             [
              0.7777777777777778,
              "#fb9f3a"
             ],
             [
              0.8888888888888888,
              "#fdca26"
             ],
             [
              1,
              "#f0f921"
             ]
            ],
            "type": "surface"
           }
          ],
          "table": [
           {
            "cells": {
             "fill": {
              "color": "#EBF0F8"
             },
             "line": {
              "color": "white"
             }
            },
            "header": {
             "fill": {
              "color": "#C8D4E3"
             },
             "line": {
              "color": "white"
             }
            },
            "type": "table"
           }
          ]
         },
         "layout": {
          "annotationdefaults": {
           "arrowcolor": "#2a3f5f",
           "arrowhead": 0,
           "arrowwidth": 1
          },
          "autotypenumbers": "strict",
          "coloraxis": {
           "colorbar": {
            "outlinewidth": 0,
            "ticks": ""
           }
          },
          "colorscale": {
           "diverging": [
            [
             0,
             "#8e0152"
            ],
            [
             0.1,
             "#c51b7d"
            ],
            [
             0.2,
             "#de77ae"
            ],
            [
             0.3,
             "#f1b6da"
            ],
            [
             0.4,
             "#fde0ef"
            ],
            [
             0.5,
             "#f7f7f7"
            ],
            [
             0.6,
             "#e6f5d0"
            ],
            [
             0.7,
             "#b8e186"
            ],
            [
             0.8,
             "#7fbc41"
            ],
            [
             0.9,
             "#4d9221"
            ],
            [
             1,
             "#276419"
            ]
           ],
           "sequential": [
            [
             0,
             "#0d0887"
            ],
            [
             0.1111111111111111,
             "#46039f"
            ],
            [
             0.2222222222222222,
             "#7201a8"
            ],
            [
             0.3333333333333333,
             "#9c179e"
            ],
            [
             0.4444444444444444,
             "#bd3786"
            ],
            [
             0.5555555555555556,
             "#d8576b"
            ],
            [
             0.6666666666666666,
             "#ed7953"
            ],
            [
             0.7777777777777778,
             "#fb9f3a"
            ],
            [
             0.8888888888888888,
             "#fdca26"
            ],
            [
             1,
             "#f0f921"
            ]
           ],
           "sequentialminus": [
            [
             0,
             "#0d0887"
            ],
            [
             0.1111111111111111,
             "#46039f"
            ],
            [
             0.2222222222222222,
             "#7201a8"
            ],
            [
             0.3333333333333333,
             "#9c179e"
            ],
            [
             0.4444444444444444,
             "#bd3786"
            ],
            [
             0.5555555555555556,
             "#d8576b"
            ],
            [
             0.6666666666666666,
             "#ed7953"
            ],
            [
             0.7777777777777778,
             "#fb9f3a"
            ],
            [
             0.8888888888888888,
             "#fdca26"
            ],
            [
             1,
             "#f0f921"
            ]
           ]
          },
          "colorway": [
           "#636efa",
           "#EF553B",
           "#00cc96",
           "#ab63fa",
           "#FFA15A",
           "#19d3f3",
           "#FF6692",
           "#B6E880",
           "#FF97FF",
           "#FECB52"
          ],
          "font": {
           "color": "#2a3f5f"
          },
          "geo": {
           "bgcolor": "white",
           "lakecolor": "white",
           "landcolor": "#E5ECF6",
           "showlakes": true,
           "showland": true,
           "subunitcolor": "white"
          },
          "hoverlabel": {
           "align": "left"
          },
          "hovermode": "closest",
          "mapbox": {
           "style": "light"
          },
          "paper_bgcolor": "white",
          "plot_bgcolor": "#E5ECF6",
          "polar": {
           "angularaxis": {
            "gridcolor": "white",
            "linecolor": "white",
            "ticks": ""
           },
           "bgcolor": "#E5ECF6",
           "radialaxis": {
            "gridcolor": "white",
            "linecolor": "white",
            "ticks": ""
           }
          },
          "scene": {
           "xaxis": {
            "backgroundcolor": "#E5ECF6",
            "gridcolor": "white",
            "gridwidth": 2,
            "linecolor": "white",
            "showbackground": true,
            "ticks": "",
            "zerolinecolor": "white"
           },
           "yaxis": {
            "backgroundcolor": "#E5ECF6",
            "gridcolor": "white",
            "gridwidth": 2,
            "linecolor": "white",
            "showbackground": true,
            "ticks": "",
            "zerolinecolor": "white"
           },
           "zaxis": {
            "backgroundcolor": "#E5ECF6",
            "gridcolor": "white",
            "gridwidth": 2,
            "linecolor": "white",
            "showbackground": true,
            "ticks": "",
            "zerolinecolor": "white"
           }
          },
          "shapedefaults": {
           "line": {
            "color": "#2a3f5f"
           }
          },
          "ternary": {
           "aaxis": {
            "gridcolor": "white",
            "linecolor": "white",
            "ticks": ""
           },
           "baxis": {
            "gridcolor": "white",
            "linecolor": "white",
            "ticks": ""
           },
           "bgcolor": "#E5ECF6",
           "caxis": {
            "gridcolor": "white",
            "linecolor": "white",
            "ticks": ""
           }
          },
          "title": {
           "x": 0.05
          },
          "xaxis": {
           "automargin": true,
           "gridcolor": "white",
           "linecolor": "white",
           "ticks": "",
           "title": {
            "standoff": 15
           },
           "zerolinecolor": "white",
           "zerolinewidth": 2
          },
          "yaxis": {
           "automargin": true,
           "gridcolor": "white",
           "linecolor": "white",
           "ticks": "",
           "title": {
            "standoff": 15
           },
           "zerolinecolor": "white",
           "zerolinewidth": 2
          }
         }
        },
        "title": {
         "text": "Presence of factors in school"
        },
        "xaxis": {
         "anchor": "y",
         "domain": [
          0,
          1
         ],
         "title": {
          "text": "Mean percentage(%)"
         }
        },
        "yaxis": {
         "anchor": "x",
         "categoryarray": [
          "Girls toilet",
          "Boys toilet",
          "Computer",
          "Electricity",
          "Drinking water"
         ],
         "categoryorder": "array",
         "domain": [
          0,
          1
         ],
         "title": {
          "text": "Factor"
         }
        }
       }
      }
     },
     "metadata": {}
    }
   ],
   "metadata": {}
  },
  {
   "cell_type": "code",
   "execution_count": 14,
   "source": [
    "stages= ['Primary','Upper_primary','Secondary','Higher_secondary']\r\n",
    "\r\n",
    "b_t = [90.48205607,\t82.0528972,\t47.04252336, 57.7953271]\r\n",
    "g_t = [93.83728972,\t87.60654206, 48.00429907, 56.09971963]\r\n",
    "e=[62.60271028,\t71.00336449, 53.25831776, 74.1571028]\r\n",
    "c=[21.07261682,\t47.78841121, 33.04831776, 44.17813084]\r\n",
    "dw=[93.69271028, 88.96682243, 65.32897196, 78.47168224]\r\n",
    "boys_t = pd.DataFrame(b_t, index=stages, columns=[\"Boys toilet\"])\r\n",
    "girls_t = pd.DataFrame(g_t, index=stages, columns=[\"Girls toilet\"])\r\n",
    "elecs = pd.DataFrame(e, index=stages, columns=[\"Electricity\"])\r\n",
    "dww = pd.DataFrame(dw, index=stages, columns=[\"Drinking water\"])\r\n",
    "comps = pd.DataFrame(c, index=stages, columns=[\"Computers\"])\r\n",
    "composite=pd.concat([boys_t, girls_t,dww,elecs,comps], axis=1)"
   ],
   "outputs": [],
   "metadata": {}
  },
  {
   "cell_type": "code",
   "execution_count": 15,
   "source": [
    "composite.transpose().style.background_gradient(cmap='RdPu')"
   ],
   "outputs": [
    {
     "output_type": "execute_result",
     "data": {
      "text/plain": [
       "<pandas.io.formats.style.Styler at 0x2b7b1aadc40>"
      ],
      "text/html": [
       "<style  type=\"text/css\" >\n",
       "#T_31fe0_row0_col0{\n",
       "            background-color:  #5a006e;\n",
       "            color:  #f1f1f1;\n",
       "        }#T_31fe0_row0_col1{\n",
       "            background-color:  #8b0179;\n",
       "            color:  #f1f1f1;\n",
       "        }#T_31fe0_row0_col2{\n",
       "            background-color:  #f986ac;\n",
       "            color:  #000000;\n",
       "        }#T_31fe0_row0_col3{\n",
       "            background-color:  #f996b2;\n",
       "            color:  #000000;\n",
       "        }#T_31fe0_row1_col0,#T_31fe0_row2_col0,#T_31fe0_row2_col1,#T_31fe0_row2_col2,#T_31fe0_row2_col3{\n",
       "            background-color:  #49006a;\n",
       "            color:  #f1f1f1;\n",
       "        }#T_31fe0_row1_col1{\n",
       "            background-color:  #55006d;\n",
       "            color:  #f1f1f1;\n",
       "        }#T_31fe0_row1_col2{\n",
       "            background-color:  #f878a7;\n",
       "            color:  #000000;\n",
       "        }#T_31fe0_row1_col3{\n",
       "            background-color:  #faa8b8;\n",
       "            color:  #000000;\n",
       "        }#T_31fe0_row3_col0{\n",
       "            background-color:  #e84a9b;\n",
       "            color:  #000000;\n",
       "        }#T_31fe0_row3_col1{\n",
       "            background-color:  #ea4d9c;\n",
       "            color:  #000000;\n",
       "        }#T_31fe0_row3_col2{\n",
       "            background-color:  #dc3397;\n",
       "            color:  #f1f1f1;\n",
       "        }#T_31fe0_row3_col3{\n",
       "            background-color:  #7a0177;\n",
       "            color:  #f1f1f1;\n",
       "        }#T_31fe0_row4_col0,#T_31fe0_row4_col1,#T_31fe0_row4_col2,#T_31fe0_row4_col3{\n",
       "            background-color:  #fff7f3;\n",
       "            color:  #000000;\n",
       "        }</style><table id=\"T_31fe0_\" ><thead>    <tr>        <th class=\"blank level0\" ></th>        <th class=\"col_heading level0 col0\" >Primary</th>        <th class=\"col_heading level0 col1\" >Upper_primary</th>        <th class=\"col_heading level0 col2\" >Secondary</th>        <th class=\"col_heading level0 col3\" >Higher_secondary</th>    </tr></thead><tbody>\n",
       "                <tr>\n",
       "                        <th id=\"T_31fe0_level0_row0\" class=\"row_heading level0 row0\" >Boys toilet</th>\n",
       "                        <td id=\"T_31fe0_row0_col0\" class=\"data row0 col0\" >90.482056</td>\n",
       "                        <td id=\"T_31fe0_row0_col1\" class=\"data row0 col1\" >82.052897</td>\n",
       "                        <td id=\"T_31fe0_row0_col2\" class=\"data row0 col2\" >47.042523</td>\n",
       "                        <td id=\"T_31fe0_row0_col3\" class=\"data row0 col3\" >57.795327</td>\n",
       "            </tr>\n",
       "            <tr>\n",
       "                        <th id=\"T_31fe0_level0_row1\" class=\"row_heading level0 row1\" >Girls toilet</th>\n",
       "                        <td id=\"T_31fe0_row1_col0\" class=\"data row1 col0\" >93.837290</td>\n",
       "                        <td id=\"T_31fe0_row1_col1\" class=\"data row1 col1\" >87.606542</td>\n",
       "                        <td id=\"T_31fe0_row1_col2\" class=\"data row1 col2\" >48.004299</td>\n",
       "                        <td id=\"T_31fe0_row1_col3\" class=\"data row1 col3\" >56.099720</td>\n",
       "            </tr>\n",
       "            <tr>\n",
       "                        <th id=\"T_31fe0_level0_row2\" class=\"row_heading level0 row2\" >Drinking water</th>\n",
       "                        <td id=\"T_31fe0_row2_col0\" class=\"data row2 col0\" >93.692710</td>\n",
       "                        <td id=\"T_31fe0_row2_col1\" class=\"data row2 col1\" >88.966822</td>\n",
       "                        <td id=\"T_31fe0_row2_col2\" class=\"data row2 col2\" >65.328972</td>\n",
       "                        <td id=\"T_31fe0_row2_col3\" class=\"data row2 col3\" >78.471682</td>\n",
       "            </tr>\n",
       "            <tr>\n",
       "                        <th id=\"T_31fe0_level0_row3\" class=\"row_heading level0 row3\" >Electricity</th>\n",
       "                        <td id=\"T_31fe0_row3_col0\" class=\"data row3 col0\" >62.602710</td>\n",
       "                        <td id=\"T_31fe0_row3_col1\" class=\"data row3 col1\" >71.003364</td>\n",
       "                        <td id=\"T_31fe0_row3_col2\" class=\"data row3 col2\" >53.258318</td>\n",
       "                        <td id=\"T_31fe0_row3_col3\" class=\"data row3 col3\" >74.157103</td>\n",
       "            </tr>\n",
       "            <tr>\n",
       "                        <th id=\"T_31fe0_level0_row4\" class=\"row_heading level0 row4\" >Computers</th>\n",
       "                        <td id=\"T_31fe0_row4_col0\" class=\"data row4 col0\" >21.072617</td>\n",
       "                        <td id=\"T_31fe0_row4_col1\" class=\"data row4 col1\" >47.788411</td>\n",
       "                        <td id=\"T_31fe0_row4_col2\" class=\"data row4 col2\" >33.048318</td>\n",
       "                        <td id=\"T_31fe0_row4_col3\" class=\"data row4 col3\" >44.178131</td>\n",
       "            </tr>\n",
       "    </tbody></table>"
      ]
     },
     "metadata": {},
     "execution_count": 15
    }
   ],
   "metadata": {}
  },
  {
   "cell_type": "markdown",
   "source": [
    "# Hypothesis testing"
   ],
   "metadata": {}
  },
  {
   "cell_type": "markdown",
   "source": [
    "## Dropouts"
   ],
   "metadata": {}
  },
  {
   "cell_type": "markdown",
   "source": [
    "$$H_0 = Dropout\\ rates\\ of\\ girls\\ =\\ dropout\\ rates\\ of\\ boys$$\n",
    "$$H_A = Dropout\\ rates\\ of\\ girls\\ \\neq\\ dropout\\ rates\\ of\\ boys$$"
   ],
   "metadata": {}
  },
  {
   "cell_type": "markdown",
   "source": [
    "$$ t = \\frac{\\bar X_1 - \\bar X_2}{\\sqrt{\\frac{s_1^2}{n_1}+\\frac{s_2^2}{n_2}}} $$"
   ],
   "metadata": {}
  },
  {
   "cell_type": "code",
   "execution_count": 16,
   "source": [
    "g_m,g_sd=dropouts_girls.mean(), dropouts_girls.std()\r\n",
    "b_m,b_sd=dropouts_boys.mean(), dropouts_boys.std()\r\n",
    "\r\n",
    "Z = (g_m-b_m)/(g_sd**2/36+b_sd**2/36)\r\n",
    "\r\n",
    "#find p-value for two-tailed test\r\n",
    "s,p=scipy.stats.ttest_ind(dropouts_girls,dropouts_boys,alternative='two-sided')\r\n",
    "s,p"
   ],
   "outputs": [
    {
     "output_type": "execute_result",
     "data": {
      "text/plain": [
       "(-0.9810354738258853, 0.3299538292807268)"
      ]
     },
     "metadata": {},
     "execution_count": 16
    }
   ],
   "metadata": {}
  },
  {
   "cell_type": "markdown",
   "source": [
    "$$There\\ is\\ a\\ 32\\%\\ chance\\ of\\ boys'\\ and\\ girls'\\ dropout\\ rates\\ being\\ same. $$"
   ],
   "metadata": {}
  },
  {
   "cell_type": "markdown",
   "source": [
    "$$ANOVA\\\\ H_0\\ =\\ Dropout\\ rates\\ are\\ the\\ same\\ in\\ different\\ sections\\ of\\ school \\\\ H_A\\ =\\ Dropout\\ rates\\ are\\ different\\ in\\ different\\ sections\\ of\\ school$$"
   ],
   "metadata": {}
  },
  {
   "cell_type": "code",
   "execution_count": 17,
   "source": [
    "F, p = scipy.stats.f_oneway(dropouts_x['PRIMARY_TOTAL'],dropouts_x['UPPER_PRIMARY_TOTAL'],dropouts_x['SECONDARY_TOTAL'],dropouts_x['HRSECONDARY_TOTAL'])\r\n",
    "# Seeing if the overall model is significant\r\n",
    "print('F-Statistic=%.3f, p=%.3f' % (F, p))"
   ],
   "outputs": [
    {
     "output_type": "stream",
     "name": "stdout",
     "text": [
      "F-Statistic=45.282, p=0.000\n"
     ]
    }
   ],
   "metadata": {}
  },
  {
   "cell_type": "markdown",
   "source": [
    "The dropout rates are different in different sections of school"
   ],
   "metadata": {}
  },
  {
   "cell_type": "markdown",
   "source": [
    "## Enrollments"
   ],
   "metadata": {}
  },
  {
   "cell_type": "markdown",
   "source": [
    "$$H_0 = Enrollment\\ rates\\ of\\ girls\\ =\\ enrollment\\ rates\\ of\\ boys$$\n",
    "$$H_A = Enrollment\\ rates\\ of\\ girls\\ \\neq\\ enrollment\\ rates\\ of\\ boys$$"
   ],
   "metadata": {}
  },
  {
   "cell_type": "code",
   "execution_count": 18,
   "source": [
    "g_m,g_sd=enrollments_girls.mean(), enrollments_girls.std()\r\n",
    "b_m,b_sd=enrollments_boys.mean(), enrollments_boys.std()\r\n",
    "\r\n",
    "Z = (g_m-b_m)/(g_sd**2/36+b_sd**2/36)\r\n",
    "\r\n",
    "#find p-value for two-tailed test\r\n",
    "s,p=scipy.stats.ttest_ind(enrollments_girls,enrollments_boys,alternative='two-sided')\r\n",
    "s,p"
   ],
   "outputs": [
    {
     "output_type": "execute_result",
     "data": {
      "text/plain": [
       "(0.9242406257489818, 0.35853619885206833)"
      ]
     },
     "metadata": {},
     "execution_count": 18
    }
   ],
   "metadata": {}
  },
  {
   "cell_type": "markdown",
   "source": [
    "$$There\\ is\\ a\\ 36\\%\\ chance\\ of\\ boys'\\ and\\ girls'\\ enrollment\\ rates\\ being\\ same.$$"
   ],
   "metadata": {}
  },
  {
   "cell_type": "markdown",
   "source": [
    "$$ANOVA\\\\ H_0\\ =\\ Enrollment\\ rates\\ are\\ the\\ same\\ in\\ different\\ sections\\ of\\ school \\\\ H_A\\ =\\ Enrollment\\ rates\\ are\\ different\\ in\\ different\\ sections\\ of\\ school$$"
   ],
   "metadata": {}
  },
  {
   "cell_type": "code",
   "execution_count": 19,
   "source": [
    "F, p = scipy.stats.f_oneway(enrollments_x['Primary_Total'],enrollments_x['Upper_Primary_Total'],enrollments_x['Secondary_Total'],enrollments_x['Higher_Secondary_Total'])\r\n",
    "# Seeing if the overall model is significant\r\n",
    "print('F-Statistic=%.3f, p=%.3f' % (F, p))"
   ],
   "outputs": [
    {
     "output_type": "stream",
     "name": "stdout",
     "text": [
      "F-Statistic=56.868, p=0.000\n"
     ]
    }
   ],
   "metadata": {}
  },
  {
   "cell_type": "markdown",
   "source": [
    "The enrollment rates are different in different sections of school"
   ],
   "metadata": {}
  },
  {
   "cell_type": "markdown",
   "source": [
    "## Student to teacher ratio"
   ],
   "metadata": {}
  },
  {
   "cell_type": "markdown",
   "source": [
    "$$ANOVA\\\\ H_0\\ =\\ Student\\ to\\ teacher\\ ratio\\ is\\ the\\ same\\ in\\ primary,\\ upper\\ primary,\\ secondary\\ and\\ higher\\ secondary \\\\ H_A\\ =\\ Student\\ to\\ teacher\\ ratio\\ is\\ different\\ in\\ primary,\\ upper\\ primary,\\ secondary\\ and\\ higher\\ secondary$$"
   ],
   "metadata": {}
  },
  {
   "cell_type": "code",
   "execution_count": 20,
   "source": [
    "F, p = scipy.stats.f_oneway(ptr['Primary'],ptr['Upper Primary'],ptr['Secondary'],ptr['Higher Secondary'])\r\n",
    "# Seeing if the overall model is significant\r\n",
    "print('F-Statistic=%.3f, p=%.3f' % (F, p))"
   ],
   "outputs": [
    {
     "output_type": "stream",
     "name": "stdout",
     "text": [
      "F-Statistic=12.850, p=0.000\n"
     ]
    }
   ],
   "metadata": {}
  },
  {
   "cell_type": "markdown",
   "source": [
    "$$The\\ student\\ to\\ teacher\\ ratio\\ is\\ different\\ in\\ different\\ sections\\ of\\ school$$"
   ],
   "metadata": {}
  },
  {
   "cell_type": "markdown",
   "source": [
    "## Other factors"
   ],
   "metadata": {}
  },
  {
   "cell_type": "markdown",
   "source": [
    "$$Chi^2\\\\ H_0\\ =\\ Presence\\ of\\ different\\ factors\\ is\\ independent\\ of\\ the\\ section\\ of\\ the\\ school \\\\ H_A\\ =\\ Presence\\ of\\ different\\ factors\\ is\\ dependent\\ on\\ the\\ section\\ of\\ the\\ school$$"
   ],
   "metadata": {}
  },
  {
   "cell_type": "code",
   "execution_count": 21,
   "source": [
    "from scipy.stats import chi2_contingency as chi2\r\n",
    "stat,p,dof,exp=chi2(composite)\r\n",
    "stat,p,dof"
   ],
   "outputs": [
    {
     "output_type": "execute_result",
     "data": {
      "text/plain": [
       "(28.070220529870937, 0.005402667046801286, 12)"
      ]
     },
     "metadata": {},
     "execution_count": 21
    }
   ],
   "metadata": {}
  },
  {
   "cell_type": "code",
   "execution_count": 22,
   "source": [
    "F, p = scipy.stats.f_oneway(factors['Drinking water'],factors['Electricity'],factors['Computer'],factors['Boys toilet'],factors['Girls toilet'])\r\n",
    "# Seeing if the overall model is significant\r\n",
    "print('F-Statistic=%.3f, p=%.3f' % (F, p))"
   ],
   "outputs": [
    {
     "output_type": "stream",
     "name": "stdout",
     "text": [
      "F-Statistic=53.836, p=0.000\n"
     ]
    }
   ],
   "metadata": {}
  },
  {
   "cell_type": "markdown",
   "source": [
    "$$The\\ presence\\ of\\ different\\ factors\\ is\\ different\\ in\\ schools$$"
   ],
   "metadata": {}
  },
  {
   "cell_type": "markdown",
   "source": [
    "# Analysis"
   ],
   "metadata": {}
  },
  {
   "cell_type": "code",
   "execution_count": 23,
   "source": [
    "#ptr['average ptr']=(ptr['Primary']+ptr['Upper Primary']+ptr['Secondary']+ptr['Higher Secondary'])/4\r\n",
    "ptr.drop(['State'],axis=1,inplace=True)"
   ],
   "outputs": [],
   "metadata": {}
  },
  {
   "cell_type": "code",
   "execution_count": 24,
   "source": [
    "#Only keeping totals for overall analysis\r\n",
    "\r\n",
    "dropouts_x=dropouts_x[['PRIMARY_TOTAL', 'UPPER_PRIMARY_TOTAL', 'SECONDARY_TOTAL','HRSECONDARY_TOTAL']]\r\n",
    "enrollments_x=enrollments_x[['Primary_Total', 'Upper_Primary_Total', 'Secondary_Total','Higher_Secondary_Total']]\r\n",
    "factors.drop(['State'],axis=1,inplace=True)"
   ],
   "outputs": [],
   "metadata": {}
  },
  {
   "cell_type": "code",
   "execution_count": 25,
   "source": [
    "#Creating dataset for overall analysis\r\n",
    "dataset=pd.concat([dropouts_x,enrollments_x,factors,ptr],axis=1)\r\n",
    "cols=[]\r\n",
    "for col in dataset.columns[:4]:\r\n",
    "    cols.append(\"Dropout-\"+col[:-6])\r\n",
    "for col in dataset.columns[4:8]:\r\n",
    "    cols.append(\"Enrollments-\"+col[:-6])\r\n",
    "for col in dataset.columns[8:13]:\r\n",
    "    cols.append(col)  \r\n",
    "for col in dataset.columns[13:17]:\r\n",
    "    cols.append(\"PTR-\"+col)   \r\n",
    "dataset.columns=cols\r\n"
   ],
   "outputs": [],
   "metadata": {}
  },
  {
   "cell_type": "code",
   "execution_count": 26,
   "source": [
    "dataset.corr(method='spearman').style.background_gradient(cmap='coolwarm')"
   ],
   "outputs": [
    {
     "output_type": "execute_result",
     "data": {
      "text/plain": [
       "<pandas.io.formats.style.Styler at 0x2b7b1626e50>"
      ],
      "text/html": [
       "<style  type=\"text/css\" >\n",
       "#T_b7c0b_row0_col0,#T_b7c0b_row1_col1,#T_b7c0b_row2_col2,#T_b7c0b_row3_col3,#T_b7c0b_row4_col4,#T_b7c0b_row5_col5,#T_b7c0b_row6_col6,#T_b7c0b_row7_col7,#T_b7c0b_row8_col8,#T_b7c0b_row9_col9,#T_b7c0b_row10_col10,#T_b7c0b_row11_col11,#T_b7c0b_row12_col12,#T_b7c0b_row13_col13,#T_b7c0b_row14_col14,#T_b7c0b_row15_col15,#T_b7c0b_row16_col16{\n",
       "            background-color:  #b40426;\n",
       "            color:  #f1f1f1;\n",
       "        }#T_b7c0b_row0_col1{\n",
       "            background-color:  #da5a49;\n",
       "            color:  #000000;\n",
       "        }#T_b7c0b_row0_col2,#T_b7c0b_row7_col10{\n",
       "            background-color:  #f7a98b;\n",
       "            color:  #000000;\n",
       "        }#T_b7c0b_row0_col3,#T_b7c0b_row2_col10,#T_b7c0b_row6_col15{\n",
       "            background-color:  #445acc;\n",
       "            color:  #f1f1f1;\n",
       "        }#T_b7c0b_row0_col4{\n",
       "            background-color:  #f7a688;\n",
       "            color:  #000000;\n",
       "        }#T_b7c0b_row0_col5,#T_b7c0b_row3_col2{\n",
       "            background-color:  #a7c5fe;\n",
       "            color:  #000000;\n",
       "        }#T_b7c0b_row0_col6,#T_b7c0b_row1_col14,#T_b7c0b_row13_col10,#T_b7c0b_row14_col12{\n",
       "            background-color:  #7597f6;\n",
       "            color:  #000000;\n",
       "        }#T_b7c0b_row0_col7,#T_b7c0b_row3_col0,#T_b7c0b_row15_col9{\n",
       "            background-color:  #93b5fe;\n",
       "            color:  #000000;\n",
       "        }#T_b7c0b_row0_col8,#T_b7c0b_row0_col9,#T_b7c0b_row0_col10,#T_b7c0b_row0_col12,#T_b7c0b_row1_col11,#T_b7c0b_row2_col7,#T_b7c0b_row3_col14,#T_b7c0b_row6_col13,#T_b7c0b_row6_col16,#T_b7c0b_row7_col1,#T_b7c0b_row7_col2,#T_b7c0b_row8_col0,#T_b7c0b_row8_col4,#T_b7c0b_row8_col5,#T_b7c0b_row10_col15,#T_b7c0b_row14_col3,#T_b7c0b_row16_col5,#T_b7c0b_row16_col6{\n",
       "            background-color:  #3b4cc0;\n",
       "            color:  #f1f1f1;\n",
       "        }#T_b7c0b_row0_col11,#T_b7c0b_row13_col3{\n",
       "            background-color:  #3d50c3;\n",
       "            color:  #f1f1f1;\n",
       "        }#T_b7c0b_row0_col13,#T_b7c0b_row5_col13,#T_b7c0b_row6_col0,#T_b7c0b_row12_col5,#T_b7c0b_row13_col11,#T_b7c0b_row16_col9{\n",
       "            background-color:  #8db0fe;\n",
       "            color:  #000000;\n",
       "        }#T_b7c0b_row0_col14,#T_b7c0b_row9_col5,#T_b7c0b_row10_col4,#T_b7c0b_row15_col3{\n",
       "            background-color:  #5a78e4;\n",
       "            color:  #000000;\n",
       "        }#T_b7c0b_row0_col15,#T_b7c0b_row9_col13{\n",
       "            background-color:  #8fb1fe;\n",
       "            color:  #000000;\n",
       "        }#T_b7c0b_row0_col16,#T_b7c0b_row7_col3{\n",
       "            background-color:  #d7dce3;\n",
       "            color:  #000000;\n",
       "        }#T_b7c0b_row1_col0{\n",
       "            background-color:  #d85646;\n",
       "            color:  #000000;\n",
       "        }#T_b7c0b_row1_col2,#T_b7c0b_row8_col11{\n",
       "            background-color:  #e67259;\n",
       "            color:  #000000;\n",
       "        }#T_b7c0b_row1_col3{\n",
       "            background-color:  #5673e0;\n",
       "            color:  #000000;\n",
       "        }#T_b7c0b_row1_col4{\n",
       "            background-color:  #f7b396;\n",
       "            color:  #000000;\n",
       "        }#T_b7c0b_row1_col5,#T_b7c0b_row1_col13{\n",
       "            background-color:  #afcafc;\n",
       "            color:  #000000;\n",
       "        }#T_b7c0b_row1_col6,#T_b7c0b_row2_col9,#T_b7c0b_row4_col11,#T_b7c0b_row10_col13,#T_b7c0b_row12_col1,#T_b7c0b_row12_col15{\n",
       "            background-color:  #5d7ce6;\n",
       "            color:  #000000;\n",
       "        }#T_b7c0b_row1_col7,#T_b7c0b_row11_col5{\n",
       "            background-color:  #6a8bef;\n",
       "            color:  #000000;\n",
       "        }#T_b7c0b_row1_col8,#T_b7c0b_row3_col15,#T_b7c0b_row4_col10,#T_b7c0b_row7_col15,#T_b7c0b_row12_col14{\n",
       "            background-color:  #5977e3;\n",
       "            color:  #000000;\n",
       "        }#T_b7c0b_row1_col9,#T_b7c0b_row10_col1,#T_b7c0b_row16_col12{\n",
       "            background-color:  #506bda;\n",
       "            color:  #000000;\n",
       "        }#T_b7c0b_row1_col10,#T_b7c0b_row2_col3,#T_b7c0b_row9_col0{\n",
       "            background-color:  #465ecf;\n",
       "            color:  #f1f1f1;\n",
       "        }#T_b7c0b_row1_col12,#T_b7c0b_row9_col1{\n",
       "            background-color:  #4257c9;\n",
       "            color:  #f1f1f1;\n",
       "        }#T_b7c0b_row1_col15{\n",
       "            background-color:  #abc8fd;\n",
       "            color:  #000000;\n",
       "        }#T_b7c0b_row1_col16,#T_b7c0b_row3_col6,#T_b7c0b_row14_col8,#T_b7c0b_row16_col1{\n",
       "            background-color:  #e6d7cf;\n",
       "            color:  #000000;\n",
       "        }#T_b7c0b_row2_col0{\n",
       "            background-color:  #f7b194;\n",
       "            color:  #000000;\n",
       "        }#T_b7c0b_row2_col1,#T_b7c0b_row7_col6{\n",
       "            background-color:  #ec7f63;\n",
       "            color:  #000000;\n",
       "        }#T_b7c0b_row2_col4,#T_b7c0b_row12_col3{\n",
       "            background-color:  #ecd3c5;\n",
       "            color:  #000000;\n",
       "        }#T_b7c0b_row2_col5{\n",
       "            background-color:  #86a9fc;\n",
       "            color:  #000000;\n",
       "        }#T_b7c0b_row2_col6,#T_b7c0b_row2_col11,#T_b7c0b_row9_col4,#T_b7c0b_row16_col3{\n",
       "            background-color:  #4c66d6;\n",
       "            color:  #000000;\n",
       "        }#T_b7c0b_row2_col8{\n",
       "            background-color:  #7da0f9;\n",
       "            color:  #000000;\n",
       "        }#T_b7c0b_row2_col12,#T_b7c0b_row7_col13{\n",
       "            background-color:  #516ddb;\n",
       "            color:  #000000;\n",
       "        }#T_b7c0b_row2_col13{\n",
       "            background-color:  #dfdbd9;\n",
       "            color:  #000000;\n",
       "        }#T_b7c0b_row2_col14,#T_b7c0b_row13_col4,#T_b7c0b_row13_col9,#T_b7c0b_row15_col7{\n",
       "            background-color:  #b6cefa;\n",
       "            color:  #000000;\n",
       "        }#T_b7c0b_row2_col15{\n",
       "            background-color:  #c1d4f4;\n",
       "            color:  #000000;\n",
       "        }#T_b7c0b_row2_col16{\n",
       "            background-color:  #e8d6cc;\n",
       "            color:  #000000;\n",
       "        }#T_b7c0b_row3_col1,#T_b7c0b_row11_col2{\n",
       "            background-color:  #8badfd;\n",
       "            color:  #000000;\n",
       "        }#T_b7c0b_row3_col4,#T_b7c0b_row5_col10{\n",
       "            background-color:  #9abbff;\n",
       "            color:  #000000;\n",
       "        }#T_b7c0b_row3_col5,#T_b7c0b_row5_col15{\n",
       "            background-color:  #9bbcff;\n",
       "            color:  #000000;\n",
       "        }#T_b7c0b_row3_col7,#T_b7c0b_row6_col12{\n",
       "            background-color:  #f5c2aa;\n",
       "            color:  #000000;\n",
       "        }#T_b7c0b_row3_col8,#T_b7c0b_row3_col11{\n",
       "            background-color:  #f1cdba;\n",
       "            color:  #000000;\n",
       "        }#T_b7c0b_row3_col9,#T_b7c0b_row4_col1,#T_b7c0b_row11_col7{\n",
       "            background-color:  #f7af91;\n",
       "            color:  #000000;\n",
       "        }#T_b7c0b_row3_col10,#T_b7c0b_row12_col6{\n",
       "            background-color:  #f7b99e;\n",
       "            color:  #000000;\n",
       "        }#T_b7c0b_row3_col12,#T_b7c0b_row10_col3,#T_b7c0b_row11_col6{\n",
       "            background-color:  #f2cab5;\n",
       "            color:  #000000;\n",
       "        }#T_b7c0b_row3_col13{\n",
       "            background-color:  #536edd;\n",
       "            color:  #000000;\n",
       "        }#T_b7c0b_row3_col16,#T_b7c0b_row11_col15{\n",
       "            background-color:  #82a6fb;\n",
       "            color:  #000000;\n",
       "        }#T_b7c0b_row4_col0,#T_b7c0b_row14_col16{\n",
       "            background-color:  #f49a7b;\n",
       "            color:  #000000;\n",
       "        }#T_b7c0b_row4_col2{\n",
       "            background-color:  #f6bfa6;\n",
       "            color:  #000000;\n",
       "        }#T_b7c0b_row4_col3,#T_b7c0b_row12_col13{\n",
       "            background-color:  #7093f3;\n",
       "            color:  #000000;\n",
       "        }#T_b7c0b_row4_col5,#T_b7c0b_row15_col16{\n",
       "            background-color:  #f08b6e;\n",
       "            color:  #000000;\n",
       "        }#T_b7c0b_row4_col6{\n",
       "            background-color:  #cedaeb;\n",
       "            color:  #000000;\n",
       "        }#T_b7c0b_row4_col7,#T_b7c0b_row8_col13{\n",
       "            background-color:  #b9d0f9;\n",
       "            color:  #000000;\n",
       "        }#T_b7c0b_row4_col8{\n",
       "            background-color:  #5e7de7;\n",
       "            color:  #000000;\n",
       "        }#T_b7c0b_row4_col9,#T_b7c0b_row13_col5{\n",
       "            background-color:  #6485ec;\n",
       "            color:  #000000;\n",
       "        }#T_b7c0b_row4_col12{\n",
       "            background-color:  #688aef;\n",
       "            color:  #000000;\n",
       "        }#T_b7c0b_row4_col13,#T_b7c0b_row14_col4,#T_b7c0b_row16_col4,#T_b7c0b_row16_col7{\n",
       "            background-color:  #a5c3fe;\n",
       "            color:  #000000;\n",
       "        }#T_b7c0b_row4_col14,#T_b7c0b_row7_col0,#T_b7c0b_row9_col2,#T_b7c0b_row10_col2{\n",
       "            background-color:  #7ea1fa;\n",
       "            color:  #000000;\n",
       "        }#T_b7c0b_row4_col15{\n",
       "            background-color:  #97b8ff;\n",
       "            color:  #000000;\n",
       "        }#T_b7c0b_row4_col16,#T_b7c0b_row5_col3,#T_b7c0b_row5_col9{\n",
       "            background-color:  #adc9fd;\n",
       "            color:  #000000;\n",
       "        }#T_b7c0b_row5_col0,#T_b7c0b_row16_col0{\n",
       "            background-color:  #e3d9d3;\n",
       "            color:  #000000;\n",
       "        }#T_b7c0b_row5_col1,#T_b7c0b_row5_col2{\n",
       "            background-color:  #dcdddd;\n",
       "            color:  #000000;\n",
       "        }#T_b7c0b_row5_col4{\n",
       "            background-color:  #e9785d;\n",
       "            color:  #000000;\n",
       "        }#T_b7c0b_row5_col6,#T_b7c0b_row9_col6{\n",
       "            background-color:  #f7b599;\n",
       "            color:  #000000;\n",
       "        }#T_b7c0b_row5_col7{\n",
       "            background-color:  #e1dad6;\n",
       "            color:  #000000;\n",
       "        }#T_b7c0b_row5_col8{\n",
       "            background-color:  #9dbdff;\n",
       "            color:  #000000;\n",
       "        }#T_b7c0b_row5_col11,#T_b7c0b_row8_col16{\n",
       "            background-color:  #a2c1ff;\n",
       "            color:  #000000;\n",
       "        }#T_b7c0b_row5_col12{\n",
       "            background-color:  #b5cdfa;\n",
       "            color:  #000000;\n",
       "        }#T_b7c0b_row5_col14,#T_b7c0b_row14_col10{\n",
       "            background-color:  #779af7;\n",
       "            color:  #000000;\n",
       "        }#T_b7c0b_row5_col16{\n",
       "            background-color:  #84a7fc;\n",
       "            color:  #000000;\n",
       "        }#T_b7c0b_row6_col1,#T_b7c0b_row10_col5,#T_b7c0b_row13_col6{\n",
       "            background-color:  #5b7ae5;\n",
       "            color:  #000000;\n",
       "        }#T_b7c0b_row6_col2,#T_b7c0b_row11_col13,#T_b7c0b_row15_col6{\n",
       "            background-color:  #7b9ff9;\n",
       "            color:  #000000;\n",
       "        }#T_b7c0b_row6_col3{\n",
       "            background-color:  #cdd9ec;\n",
       "            color:  #000000;\n",
       "        }#T_b7c0b_row6_col4{\n",
       "            background-color:  #cad8ef;\n",
       "            color:  #000000;\n",
       "        }#T_b7c0b_row6_col5,#T_b7c0b_row8_col6{\n",
       "            background-color:  #efcfbf;\n",
       "            color:  #000000;\n",
       "        }#T_b7c0b_row6_col7{\n",
       "            background-color:  #e57058;\n",
       "            color:  #000000;\n",
       "        }#T_b7c0b_row6_col8,#T_b7c0b_row16_col2{\n",
       "            background-color:  #f3c7b1;\n",
       "            color:  #000000;\n",
       "        }#T_b7c0b_row6_col9{\n",
       "            background-color:  #f7b093;\n",
       "            color:  #000000;\n",
       "        }#T_b7c0b_row6_col10{\n",
       "            background-color:  #f6bea4;\n",
       "            color:  #000000;\n",
       "        }#T_b7c0b_row6_col11,#T_b7c0b_row7_col12,#T_b7c0b_row15_col2{\n",
       "            background-color:  #efcebd;\n",
       "            color:  #000000;\n",
       "        }#T_b7c0b_row6_col14{\n",
       "            background-color:  #4a63d3;\n",
       "            color:  #f1f1f1;\n",
       "        }#T_b7c0b_row7_col4,#T_b7c0b_row15_col5{\n",
       "            background-color:  #89acfd;\n",
       "            color:  #000000;\n",
       "        }#T_b7c0b_row7_col5{\n",
       "            background-color:  #92b4fe;\n",
       "            color:  #000000;\n",
       "        }#T_b7c0b_row7_col8,#T_b7c0b_row12_col7{\n",
       "            background-color:  #f7b497;\n",
       "            color:  #000000;\n",
       "        }#T_b7c0b_row7_col9,#T_b7c0b_row14_col15,#T_b7c0b_row15_col14{\n",
       "            background-color:  #f6a283;\n",
       "            color:  #000000;\n",
       "        }#T_b7c0b_row7_col11{\n",
       "            background-color:  #f4c6af;\n",
       "            color:  #000000;\n",
       "        }#T_b7c0b_row7_col14,#T_b7c0b_row14_col5{\n",
       "            background-color:  #6384eb;\n",
       "            color:  #000000;\n",
       "        }#T_b7c0b_row7_col16,#T_b7c0b_row16_col11{\n",
       "            background-color:  #7a9df8;\n",
       "            color:  #000000;\n",
       "        }#T_b7c0b_row8_col1{\n",
       "            background-color:  #3e51c5;\n",
       "            color:  #f1f1f1;\n",
       "        }#T_b7c0b_row8_col2{\n",
       "            background-color:  #90b2fe;\n",
       "            color:  #000000;\n",
       "        }#T_b7c0b_row8_col3{\n",
       "            background-color:  #d2dbe8;\n",
       "            color:  #000000;\n",
       "        }#T_b7c0b_row8_col7{\n",
       "            background-color:  #f7ac8e;\n",
       "            color:  #000000;\n",
       "        }#T_b7c0b_row8_col9,#T_b7c0b_row9_col10,#T_b7c0b_row11_col12,#T_b7c0b_row12_col11,#T_b7c0b_row13_col14{\n",
       "            background-color:  #cf453c;\n",
       "            color:  #f1f1f1;\n",
       "        }#T_b7c0b_row8_col10,#T_b7c0b_row11_col9,#T_b7c0b_row12_col8{\n",
       "            background-color:  #e7745b;\n",
       "            color:  #000000;\n",
       "        }#T_b7c0b_row8_col12{\n",
       "            background-color:  #ee8468;\n",
       "            color:  #000000;\n",
       "        }#T_b7c0b_row8_col14,#T_b7c0b_row13_col0,#T_b7c0b_row14_col7{\n",
       "            background-color:  #bcd2f7;\n",
       "            color:  #000000;\n",
       "        }#T_b7c0b_row8_col15{\n",
       "            background-color:  #96b7ff;\n",
       "            color:  #000000;\n",
       "        }#T_b7c0b_row9_col3{\n",
       "            background-color:  #f3c8b2;\n",
       "            color:  #000000;\n",
       "        }#T_b7c0b_row9_col7{\n",
       "            background-color:  #f39778;\n",
       "            color:  #000000;\n",
       "        }#T_b7c0b_row9_col8,#T_b7c0b_row14_col13{\n",
       "            background-color:  #cd423b;\n",
       "            color:  #f1f1f1;\n",
       "        }#T_b7c0b_row9_col11{\n",
       "            background-color:  #ea7b60;\n",
       "            color:  #000000;\n",
       "        }#T_b7c0b_row9_col12,#T_b7c0b_row12_col10{\n",
       "            background-color:  #de614d;\n",
       "            color:  #000000;\n",
       "        }#T_b7c0b_row9_col14{\n",
       "            background-color:  #81a4fb;\n",
       "            color:  #000000;\n",
       "        }#T_b7c0b_row9_col15{\n",
       "            background-color:  #4f69d9;\n",
       "            color:  #000000;\n",
       "        }#T_b7c0b_row9_col16,#T_b7c0b_row14_col6{\n",
       "            background-color:  #80a3fa;\n",
       "            color:  #000000;\n",
       "        }#T_b7c0b_row10_col0{\n",
       "            background-color:  #5f7fe8;\n",
       "            color:  #000000;\n",
       "        }#T_b7c0b_row10_col6{\n",
       "            background-color:  #f7ba9f;\n",
       "            color:  #000000;\n",
       "        }#T_b7c0b_row10_col7{\n",
       "            background-color:  #f39475;\n",
       "            color:  #000000;\n",
       "        }#T_b7c0b_row10_col8{\n",
       "            background-color:  #e36b54;\n",
       "            color:  #000000;\n",
       "        }#T_b7c0b_row10_col9{\n",
       "            background-color:  #cc403a;\n",
       "            color:  #f1f1f1;\n",
       "        }#T_b7c0b_row10_col11,#T_b7c0b_row11_col10{\n",
       "            background-color:  #e46e56;\n",
       "            color:  #000000;\n",
       "        }#T_b7c0b_row10_col12{\n",
       "            background-color:  #e0654f;\n",
       "            color:  #000000;\n",
       "        }#T_b7c0b_row10_col14{\n",
       "            background-color:  #4b64d5;\n",
       "            color:  #f1f1f1;\n",
       "        }#T_b7c0b_row10_col16,#T_b7c0b_row12_col4,#T_b7c0b_row15_col12{\n",
       "            background-color:  #799cf8;\n",
       "            color:  #000000;\n",
       "        }#T_b7c0b_row11_col0{\n",
       "            background-color:  #6687ed;\n",
       "            color:  #000000;\n",
       "        }#T_b7c0b_row11_col1{\n",
       "            background-color:  #4961d2;\n",
       "            color:  #f1f1f1;\n",
       "        }#T_b7c0b_row11_col3{\n",
       "            background-color:  #e5d8d1;\n",
       "            color:  #000000;\n",
       "        }#T_b7c0b_row11_col4{\n",
       "            background-color:  #6282ea;\n",
       "            color:  #000000;\n",
       "        }#T_b7c0b_row11_col8{\n",
       "            background-color:  #e16751;\n",
       "            color:  #000000;\n",
       "        }#T_b7c0b_row11_col14,#T_b7c0b_row12_col0,#T_b7c0b_row16_col10{\n",
       "            background-color:  #6f92f3;\n",
       "            color:  #000000;\n",
       "        }#T_b7c0b_row11_col16{\n",
       "            background-color:  #88abfd;\n",
       "            color:  #000000;\n",
       "        }#T_b7c0b_row12_col2{\n",
       "            background-color:  #98b9ff;\n",
       "            color:  #000000;\n",
       "        }#T_b7c0b_row12_col9{\n",
       "            background-color:  #d95847;\n",
       "            color:  #000000;\n",
       "        }#T_b7c0b_row12_col16{\n",
       "            background-color:  #6b8df0;\n",
       "            color:  #000000;\n",
       "        }#T_b7c0b_row13_col1{\n",
       "            background-color:  #c6d6f1;\n",
       "            color:  #000000;\n",
       "        }#T_b7c0b_row13_col2{\n",
       "            background-color:  #f5c4ac;\n",
       "            color:  #000000;\n",
       "        }#T_b7c0b_row13_col7{\n",
       "            background-color:  #9fbfff;\n",
       "            color:  #000000;\n",
       "        }#T_b7c0b_row13_col8{\n",
       "            background-color:  #dadce0;\n",
       "            color:  #000000;\n",
       "        }#T_b7c0b_row13_col12{\n",
       "            background-color:  #7699f6;\n",
       "            color:  #000000;\n",
       "        }#T_b7c0b_row13_col15{\n",
       "            background-color:  #f4c5ad;\n",
       "            color:  #000000;\n",
       "        }#T_b7c0b_row13_col16,#T_b7c0b_row16_col15{\n",
       "            background-color:  #f59f80;\n",
       "            color:  #000000;\n",
       "        }#T_b7c0b_row14_col0,#T_b7c0b_row14_col1,#T_b7c0b_row15_col11{\n",
       "            background-color:  #a6c4fe;\n",
       "            color:  #000000;\n",
       "        }#T_b7c0b_row14_col2{\n",
       "            background-color:  #ead4c8;\n",
       "            color:  #000000;\n",
       "        }#T_b7c0b_row14_col9,#T_b7c0b_row15_col4{\n",
       "            background-color:  #bad0f8;\n",
       "            color:  #000000;\n",
       "        }#T_b7c0b_row14_col11{\n",
       "            background-color:  #94b6ff;\n",
       "            color:  #000000;\n",
       "        }#T_b7c0b_row15_col0{\n",
       "            background-color:  #ccd9ed;\n",
       "            color:  #000000;\n",
       "        }#T_b7c0b_row15_col1,#T_b7c0b_row15_col8{\n",
       "            background-color:  #cfdaea;\n",
       "            color:  #000000;\n",
       "        }#T_b7c0b_row15_col10{\n",
       "            background-color:  #6788ee;\n",
       "            color:  #000000;\n",
       "        }#T_b7c0b_row15_col13{\n",
       "            background-color:  #f6bda2;\n",
       "            color:  #000000;\n",
       "        }#T_b7c0b_row16_col8{\n",
       "            background-color:  #b7cff9;\n",
       "            color:  #000000;\n",
       "        }#T_b7c0b_row16_col13{\n",
       "            background-color:  #f7aa8c;\n",
       "            color:  #000000;\n",
       "        }#T_b7c0b_row16_col14{\n",
       "            background-color:  #f7ad90;\n",
       "            color:  #000000;\n",
       "        }</style><table id=\"T_b7c0b_\" ><thead>    <tr>        <th class=\"blank level0\" ></th>        <th class=\"col_heading level0 col0\" >Dropout-PRIMARY</th>        <th class=\"col_heading level0 col1\" >Dropout-UPPER_PRIMARY</th>        <th class=\"col_heading level0 col2\" >Dropout-SECONDARY</th>        <th class=\"col_heading level0 col3\" >Dropout-HRSECONDARY</th>        <th class=\"col_heading level0 col4\" >Enrollments-Primary</th>        <th class=\"col_heading level0 col5\" >Enrollments-Upper_Primary</th>        <th class=\"col_heading level0 col6\" >Enrollments-Secondary</th>        <th class=\"col_heading level0 col7\" >Enrollments-Higher_Secondary</th>        <th class=\"col_heading level0 col8\" >Drinking water</th>        <th class=\"col_heading level0 col9\" >Electricity</th>        <th class=\"col_heading level0 col10\" >Computer</th>        <th class=\"col_heading level0 col11\" >Boys toilet</th>        <th class=\"col_heading level0 col12\" >Girls toilet</th>        <th class=\"col_heading level0 col13\" >PTR-Primary</th>        <th class=\"col_heading level0 col14\" >PTR-Upper Primary</th>        <th class=\"col_heading level0 col15\" >PTR-Secondary</th>        <th class=\"col_heading level0 col16\" >PTR-Higher Secondary</th>    </tr></thead><tbody>\n",
       "                <tr>\n",
       "                        <th id=\"T_b7c0b_level0_row0\" class=\"row_heading level0 row0\" >Dropout-PRIMARY</th>\n",
       "                        <td id=\"T_b7c0b_row0_col0\" class=\"data row0 col0\" >1.000000</td>\n",
       "                        <td id=\"T_b7c0b_row0_col1\" class=\"data row0 col1\" >0.808626</td>\n",
       "                        <td id=\"T_b7c0b_row0_col2\" class=\"data row0 col2\" >0.433988</td>\n",
       "                        <td id=\"T_b7c0b_row0_col3\" class=\"data row0 col3\" >-0.326441</td>\n",
       "                        <td id=\"T_b7c0b_row0_col4\" class=\"data row0 col4\" >0.546122</td>\n",
       "                        <td id=\"T_b7c0b_row0_col5\" class=\"data row0 col5\" >0.140328</td>\n",
       "                        <td id=\"T_b7c0b_row0_col6\" class=\"data row0 col6\" >-0.348632</td>\n",
       "                        <td id=\"T_b7c0b_row0_col7\" class=\"data row0 col7\" >-0.428581</td>\n",
       "                        <td id=\"T_b7c0b_row0_col8\" class=\"data row0 col8\" >-0.807090</td>\n",
       "                        <td id=\"T_b7c0b_row0_col9\" class=\"data row0 col9\" >-0.735675</td>\n",
       "                        <td id=\"T_b7c0b_row0_col10\" class=\"data row0 col10\" >-0.594915</td>\n",
       "                        <td id=\"T_b7c0b_row0_col11\" class=\"data row0 col11\" >-0.553430</td>\n",
       "                        <td id=\"T_b7c0b_row0_col12\" class=\"data row0 col12\" >-0.504931</td>\n",
       "                        <td id=\"T_b7c0b_row0_col13\" class=\"data row0 col13\" >-0.103060</td>\n",
       "                        <td id=\"T_b7c0b_row0_col14\" class=\"data row0 col14\" >-0.227747</td>\n",
       "                        <td id=\"T_b7c0b_row0_col15\" class=\"data row0 col15\" >-0.015009</td>\n",
       "                        <td id=\"T_b7c0b_row0_col16\" class=\"data row0 col16\" >0.140097</td>\n",
       "            </tr>\n",
       "            <tr>\n",
       "                        <th id=\"T_b7c0b_level0_row1\" class=\"row_heading level0 row1\" >Dropout-UPPER_PRIMARY</th>\n",
       "                        <td id=\"T_b7c0b_row1_col0\" class=\"data row1 col0\" >0.808626</td>\n",
       "                        <td id=\"T_b7c0b_row1_col1\" class=\"data row1 col1\" >1.000000</td>\n",
       "                        <td id=\"T_b7c0b_row1_col2\" class=\"data row1 col2\" >0.684685</td>\n",
       "                        <td id=\"T_b7c0b_row1_col3\" class=\"data row1 col3\" >-0.245976</td>\n",
       "                        <td id=\"T_b7c0b_row1_col4\" class=\"data row1 col4\" >0.491634</td>\n",
       "                        <td id=\"T_b7c0b_row1_col5\" class=\"data row1 col5\" >0.171943</td>\n",
       "                        <td id=\"T_b7c0b_row1_col6\" class=\"data row1 col6\" >-0.469755</td>\n",
       "                        <td id=\"T_b7c0b_row1_col7\" class=\"data row1 col7\" >-0.649678</td>\n",
       "                        <td id=\"T_b7c0b_row1_col8\" class=\"data row1 col8\" >-0.627836</td>\n",
       "                        <td id=\"T_b7c0b_row1_col9\" class=\"data row1 col9\" >-0.607732</td>\n",
       "                        <td id=\"T_b7c0b_row1_col10\" class=\"data row1 col10\" >-0.532561</td>\n",
       "                        <td id=\"T_b7c0b_row1_col11\" class=\"data row1 col11\" >-0.571282</td>\n",
       "                        <td id=\"T_b7c0b_row1_col12\" class=\"data row1 col12\" >-0.464949</td>\n",
       "                        <td id=\"T_b7c0b_row1_col13\" class=\"data row1 col13\" >0.043657</td>\n",
       "                        <td id=\"T_b7c0b_row1_col14\" class=\"data row1 col14\" >-0.120018</td>\n",
       "                        <td id=\"T_b7c0b_row1_col15\" class=\"data row1 col15\" >0.097753</td>\n",
       "                        <td id=\"T_b7c0b_row1_col16\" class=\"data row1 col16\" >0.234128</td>\n",
       "            </tr>\n",
       "            <tr>\n",
       "                        <th id=\"T_b7c0b_level0_row2\" class=\"row_heading level0 row2\" >Dropout-SECONDARY</th>\n",
       "                        <td id=\"T_b7c0b_row2_col0\" class=\"data row2 col0\" >0.433988</td>\n",
       "                        <td id=\"T_b7c0b_row2_col1\" class=\"data row2 col1\" >0.684685</td>\n",
       "                        <td id=\"T_b7c0b_row2_col2\" class=\"data row2 col2\" >1.000000</td>\n",
       "                        <td id=\"T_b7c0b_row2_col3\" class=\"data row2 col3\" >-0.314359</td>\n",
       "                        <td id=\"T_b7c0b_row2_col4\" class=\"data row2 col4\" >0.302703</td>\n",
       "                        <td id=\"T_b7c0b_row2_col5\" class=\"data row2 col5\" >0.020849</td>\n",
       "                        <td id=\"T_b7c0b_row2_col6\" class=\"data row2 col6\" >-0.551866</td>\n",
       "                        <td id=\"T_b7c0b_row2_col7\" class=\"data row2 col7\" >-0.945431</td>\n",
       "                        <td id=\"T_b7c0b_row2_col8\" class=\"data row2 col8\" >-0.437114</td>\n",
       "                        <td id=\"T_b7c0b_row2_col9\" class=\"data row2 col9\" >-0.541753</td>\n",
       "                        <td id=\"T_b7c0b_row2_col10\" class=\"data row2 col10\" >-0.540026</td>\n",
       "                        <td id=\"T_b7c0b_row2_col11\" class=\"data row2 col11\" >-0.473535</td>\n",
       "                        <td id=\"T_b7c0b_row2_col12\" class=\"data row2 col12\" >-0.391753</td>\n",
       "                        <td id=\"T_b7c0b_row2_col13\" class=\"data row2 col13\" >0.275853</td>\n",
       "                        <td id=\"T_b7c0b_row2_col14\" class=\"data row2 col14\" >0.134956</td>\n",
       "                        <td id=\"T_b7c0b_row2_col15\" class=\"data row2 col15\" >0.188422</td>\n",
       "                        <td id=\"T_b7c0b_row2_col16\" class=\"data row2 col16\" >0.249324</td>\n",
       "            </tr>\n",
       "            <tr>\n",
       "                        <th id=\"T_b7c0b_level0_row3\" class=\"row_heading level0 row3\" >Dropout-HRSECONDARY</th>\n",
       "                        <td id=\"T_b7c0b_row3_col0\" class=\"data row3 col0\" >-0.326441</td>\n",
       "                        <td id=\"T_b7c0b_row3_col1\" class=\"data row3 col1\" >-0.245976</td>\n",
       "                        <td id=\"T_b7c0b_row3_col2\" class=\"data row3 col2\" >-0.314359</td>\n",
       "                        <td id=\"T_b7c0b_row3_col3\" class=\"data row3 col3\" >1.000000</td>\n",
       "                        <td id=\"T_b7c0b_row3_col4\" class=\"data row3 col4\" >-0.139472</td>\n",
       "                        <td id=\"T_b7c0b_row3_col5\" class=\"data row3 col5\" >0.096330</td>\n",
       "                        <td id=\"T_b7c0b_row3_col6\" class=\"data row3 col6\" >0.235673</td>\n",
       "                        <td id=\"T_b7c0b_row3_col7\" class=\"data row3 col7\" >0.285383</td>\n",
       "                        <td id=\"T_b7c0b_row3_col8\" class=\"data row3 col8\" >0.260864</td>\n",
       "                        <td id=\"T_b7c0b_row3_col9\" class=\"data row3 col9\" >0.469375</td>\n",
       "                        <td id=\"T_b7c0b_row3_col10\" class=\"data row3 col10\" >0.459240</td>\n",
       "                        <td id=\"T_b7c0b_row3_col11\" class=\"data row3 col11\" >0.358763</td>\n",
       "                        <td id=\"T_b7c0b_row3_col12\" class=\"data row3 col12\" >0.403611</td>\n",
       "                        <td id=\"T_b7c0b_row3_col13\" class=\"data row3 col13\" >-0.355863</td>\n",
       "                        <td id=\"T_b7c0b_row3_col14\" class=\"data row3 col14\" >-0.370273</td>\n",
       "                        <td id=\"T_b7c0b_row3_col15\" class=\"data row3 col15\" >-0.227721</td>\n",
       "                        <td id=\"T_b7c0b_row3_col16\" class=\"data row3 col16\" >-0.288338</td>\n",
       "            </tr>\n",
       "            <tr>\n",
       "                        <th id=\"T_b7c0b_level0_row4\" class=\"row_heading level0 row4\" >Enrollments-Primary</th>\n",
       "                        <td id=\"T_b7c0b_row4_col0\" class=\"data row4 col0\" >0.546122</td>\n",
       "                        <td id=\"T_b7c0b_row4_col1\" class=\"data row4 col1\" >0.491634</td>\n",
       "                        <td id=\"T_b7c0b_row4_col2\" class=\"data row4 col2\" >0.302703</td>\n",
       "                        <td id=\"T_b7c0b_row4_col3\" class=\"data row4 col3\" >-0.139472</td>\n",
       "                        <td id=\"T_b7c0b_row4_col4\" class=\"data row4 col4\" >1.000000</td>\n",
       "                        <td id=\"T_b7c0b_row4_col5\" class=\"data row4 col5\" >0.725354</td>\n",
       "                        <td id=\"T_b7c0b_row4_col6\" class=\"data row4 col6\" >0.090862</td>\n",
       "                        <td id=\"T_b7c0b_row4_col7\" class=\"data row4 col7\" >-0.214672</td>\n",
       "                        <td id=\"T_b7c0b_row4_col8\" class=\"data row4 col8\" >-0.596135</td>\n",
       "                        <td id=\"T_b7c0b_row4_col9\" class=\"data row4 col9\" >-0.498712</td>\n",
       "                        <td id=\"T_b7c0b_row4_col10\" class=\"data row4 col10\" >-0.433719</td>\n",
       "                        <td id=\"T_b7c0b_row4_col11\" class=\"data row4 col11\" >-0.393690</td>\n",
       "                        <td id=\"T_b7c0b_row4_col12\" class=\"data row4 col12\" >-0.286598</td>\n",
       "                        <td id=\"T_b7c0b_row4_col13\" class=\"data row4 col13\" >-0.004121</td>\n",
       "                        <td id=\"T_b7c0b_row4_col14\" class=\"data row4 col14\" >-0.086150</td>\n",
       "                        <td id=\"T_b7c0b_row4_col15\" class=\"data row4 col15\" >0.014167</td>\n",
       "                        <td id=\"T_b7c0b_row4_col16\" class=\"data row4 col16\" >-0.087959</td>\n",
       "            </tr>\n",
       "            <tr>\n",
       "                        <th id=\"T_b7c0b_level0_row5\" class=\"row_heading level0 row5\" >Enrollments-Upper_Primary</th>\n",
       "                        <td id=\"T_b7c0b_row5_col0\" class=\"data row5 col0\" >0.140328</td>\n",
       "                        <td id=\"T_b7c0b_row5_col1\" class=\"data row5 col1\" >0.171943</td>\n",
       "                        <td id=\"T_b7c0b_row5_col2\" class=\"data row5 col2\" >0.020849</td>\n",
       "                        <td id=\"T_b7c0b_row5_col3\" class=\"data row5 col3\" >0.096330</td>\n",
       "                        <td id=\"T_b7c0b_row5_col4\" class=\"data row5 col4\" >0.725354</td>\n",
       "                        <td id=\"T_b7c0b_row5_col5\" class=\"data row5 col5\" >1.000000</td>\n",
       "                        <td id=\"T_b7c0b_row5_col6\" class=\"data row5 col6\" >0.461776</td>\n",
       "                        <td id=\"T_b7c0b_row5_col7\" class=\"data row5 col7\" >0.062548</td>\n",
       "                        <td id=\"T_b7c0b_row5_col8\" class=\"data row5 col8\" >-0.272681</td>\n",
       "                        <td id=\"T_b7c0b_row5_col9\" class=\"data row5 col9\" >-0.144330</td>\n",
       "                        <td id=\"T_b7c0b_row5_col10\" class=\"data row5 col10\" >-0.138739</td>\n",
       "                        <td id=\"T_b7c0b_row5_col11\" class=\"data row5 col11\" >-0.082936</td>\n",
       "                        <td id=\"T_b7c0b_row5_col12\" class=\"data row5 col12\" >0.047423</td>\n",
       "                        <td id=\"T_b7c0b_row5_col13\" class=\"data row5 col13\" >-0.103155</td>\n",
       "                        <td id=\"T_b7c0b_row5_col14\" class=\"data row5 col14\" >-0.108686</td>\n",
       "                        <td id=\"T_b7c0b_row5_col15\" class=\"data row5 col15\" >0.032069</td>\n",
       "                        <td id=\"T_b7c0b_row5_col16\" class=\"data row5 col16\" >-0.276497</td>\n",
       "            </tr>\n",
       "            <tr>\n",
       "                        <th id=\"T_b7c0b_level0_row6\" class=\"row_heading level0 row6\" >Enrollments-Secondary</th>\n",
       "                        <td id=\"T_b7c0b_row6_col0\" class=\"data row6 col0\" >-0.348632</td>\n",
       "                        <td id=\"T_b7c0b_row6_col1\" class=\"data row6 col1\" >-0.469755</td>\n",
       "                        <td id=\"T_b7c0b_row6_col2\" class=\"data row6 col2\" >-0.551866</td>\n",
       "                        <td id=\"T_b7c0b_row6_col3\" class=\"data row6 col3\" >0.235673</td>\n",
       "                        <td id=\"T_b7c0b_row6_col4\" class=\"data row6 col4\" >0.090862</td>\n",
       "                        <td id=\"T_b7c0b_row6_col5\" class=\"data row6 col5\" >0.461776</td>\n",
       "                        <td id=\"T_b7c0b_row6_col6\" class=\"data row6 col6\" >1.000000</td>\n",
       "                        <td id=\"T_b7c0b_row6_col7\" class=\"data row6 col7\" >0.690090</td>\n",
       "                        <td id=\"T_b7c0b_row6_col8\" class=\"data row6 col8\" >0.307990</td>\n",
       "                        <td id=\"T_b7c0b_row6_col9\" class=\"data row6 col9\" >0.459279</td>\n",
       "                        <td id=\"T_b7c0b_row6_col10\" class=\"data row6 col10\" >0.435779</td>\n",
       "                        <td id=\"T_b7c0b_row6_col11\" class=\"data row6 col11\" >0.344108</td>\n",
       "                        <td id=\"T_b7c0b_row6_col12\" class=\"data row6 col12\" >0.442526</td>\n",
       "                        <td id=\"T_b7c0b_row6_col13\" class=\"data row6 col13\" >-0.473149</td>\n",
       "                        <td id=\"T_b7c0b_row6_col14\" class=\"data row6 col14\" >-0.297341</td>\n",
       "                        <td id=\"T_b7c0b_row6_col15\" class=\"data row6 col15\" >-0.319789</td>\n",
       "                        <td id=\"T_b7c0b_row6_col16\" class=\"data row6 col16\" >-0.650354</td>\n",
       "            </tr>\n",
       "            <tr>\n",
       "                        <th id=\"T_b7c0b_level0_row7\" class=\"row_heading level0 row7\" >Enrollments-Higher_Secondary</th>\n",
       "                        <td id=\"T_b7c0b_row7_col0\" class=\"data row7 col0\" >-0.428581</td>\n",
       "                        <td id=\"T_b7c0b_row7_col1\" class=\"data row7 col1\" >-0.649678</td>\n",
       "                        <td id=\"T_b7c0b_row7_col2\" class=\"data row7 col2\" >-0.945431</td>\n",
       "                        <td id=\"T_b7c0b_row7_col3\" class=\"data row7 col3\" >0.285383</td>\n",
       "                        <td id=\"T_b7c0b_row7_col4\" class=\"data row7 col4\" >-0.214672</td>\n",
       "                        <td id=\"T_b7c0b_row7_col5\" class=\"data row7 col5\" >0.062548</td>\n",
       "                        <td id=\"T_b7c0b_row7_col6\" class=\"data row7 col6\" >0.690090</td>\n",
       "                        <td id=\"T_b7c0b_row7_col7\" class=\"data row7 col7\" >1.000000</td>\n",
       "                        <td id=\"T_b7c0b_row7_col8\" class=\"data row7 col8\" >0.417526</td>\n",
       "                        <td id=\"T_b7c0b_row7_col9\" class=\"data row7 col9\" >0.525774</td>\n",
       "                        <td id=\"T_b7c0b_row7_col10\" class=\"data row7 col10\" >0.538481</td>\n",
       "                        <td id=\"T_b7c0b_row7_col11\" class=\"data row7 col11\" >0.404507</td>\n",
       "                        <td id=\"T_b7c0b_row7_col12\" class=\"data row7 col12\" >0.371134</td>\n",
       "                        <td id=\"T_b7c0b_row7_col13\" class=\"data row7 col13\" >-0.359562</td>\n",
       "                        <td id=\"T_b7c0b_row7_col14\" class=\"data row7 col14\" >-0.188397</td>\n",
       "                        <td id=\"T_b7c0b_row7_col15\" class=\"data row7 col15\" >-0.230279</td>\n",
       "                        <td id=\"T_b7c0b_row7_col16\" class=\"data row7 col16\" >-0.327495</td>\n",
       "            </tr>\n",
       "            <tr>\n",
       "                        <th id=\"T_b7c0b_level0_row8\" class=\"row_heading level0 row8\" >Drinking water</th>\n",
       "                        <td id=\"T_b7c0b_row8_col0\" class=\"data row8 col0\" >-0.807090</td>\n",
       "                        <td id=\"T_b7c0b_row8_col1\" class=\"data row8 col1\" >-0.627836</td>\n",
       "                        <td id=\"T_b7c0b_row8_col2\" class=\"data row8 col2\" >-0.437114</td>\n",
       "                        <td id=\"T_b7c0b_row8_col3\" class=\"data row8 col3\" >0.260864</td>\n",
       "                        <td id=\"T_b7c0b_row8_col4\" class=\"data row8 col4\" >-0.596135</td>\n",
       "                        <td id=\"T_b7c0b_row8_col5\" class=\"data row8 col5\" >-0.272681</td>\n",
       "                        <td id=\"T_b7c0b_row8_col6\" class=\"data row8 col6\" >0.307990</td>\n",
       "                        <td id=\"T_b7c0b_row8_col7\" class=\"data row8 col7\" >0.417526</td>\n",
       "                        <td id=\"T_b7c0b_row8_col8\" class=\"data row8 col8\" >1.000000</td>\n",
       "                        <td id=\"T_b7c0b_row8_col9\" class=\"data row8 col9\" >0.866581</td>\n",
       "                        <td id=\"T_b7c0b_row8_col10\" class=\"data row8 col10\" >0.737629</td>\n",
       "                        <td id=\"T_b7c0b_row8_col11\" class=\"data row8 col11\" >0.746873</td>\n",
       "                        <td id=\"T_b7c0b_row8_col12\" class=\"data row8 col12\" >0.698581</td>\n",
       "                        <td id=\"T_b7c0b_row8_col13\" class=\"data row8 col13\" >0.081238</td>\n",
       "                        <td id=\"T_b7c0b_row8_col14\" class=\"data row8 col14\" >0.163368</td>\n",
       "                        <td id=\"T_b7c0b_row8_col15\" class=\"data row8 col15\" >0.009285</td>\n",
       "                        <td id=\"T_b7c0b_row8_col16\" class=\"data row8 col16\" >-0.135139</td>\n",
       "            </tr>\n",
       "            <tr>\n",
       "                        <th id=\"T_b7c0b_level0_row9\" class=\"row_heading level0 row9\" >Electricity</th>\n",
       "                        <td id=\"T_b7c0b_row9_col0\" class=\"data row9 col0\" >-0.735675</td>\n",
       "                        <td id=\"T_b7c0b_row9_col1\" class=\"data row9 col1\" >-0.607732</td>\n",
       "                        <td id=\"T_b7c0b_row9_col2\" class=\"data row9 col2\" >-0.541753</td>\n",
       "                        <td id=\"T_b7c0b_row9_col3\" class=\"data row9 col3\" >0.469375</td>\n",
       "                        <td id=\"T_b7c0b_row9_col4\" class=\"data row9 col4\" >-0.498712</td>\n",
       "                        <td id=\"T_b7c0b_row9_col5\" class=\"data row9 col5\" >-0.144330</td>\n",
       "                        <td id=\"T_b7c0b_row9_col6\" class=\"data row9 col6\" >0.459279</td>\n",
       "                        <td id=\"T_b7c0b_row9_col7\" class=\"data row9 col7\" >0.525774</td>\n",
       "                        <td id=\"T_b7c0b_row9_col8\" class=\"data row9 col8\" >0.866581</td>\n",
       "                        <td id=\"T_b7c0b_row9_col9\" class=\"data row9 col9\" >1.000000</td>\n",
       "                        <td id=\"T_b7c0b_row9_col10\" class=\"data row9 col10\" >0.880671</td>\n",
       "                        <td id=\"T_b7c0b_row9_col11\" class=\"data row9 col11\" >0.714636</td>\n",
       "                        <td id=\"T_b7c0b_row9_col12\" class=\"data row9 col12\" >0.807742</td>\n",
       "                        <td id=\"T_b7c0b_row9_col13\" class=\"data row9 col13\" >-0.098259</td>\n",
       "                        <td id=\"T_b7c0b_row9_col14\" class=\"data row9 col14\" >-0.072207</td>\n",
       "                        <td id=\"T_b7c0b_row9_col15\" class=\"data row9 col15\" >-0.270940</td>\n",
       "                        <td id=\"T_b7c0b_row9_col16\" class=\"data row9 col16\" >-0.298388</td>\n",
       "            </tr>\n",
       "            <tr>\n",
       "                        <th id=\"T_b7c0b_level0_row10\" class=\"row_heading level0 row10\" >Computer</th>\n",
       "                        <td id=\"T_b7c0b_row10_col0\" class=\"data row10 col0\" >-0.594915</td>\n",
       "                        <td id=\"T_b7c0b_row10_col1\" class=\"data row10 col1\" >-0.532561</td>\n",
       "                        <td id=\"T_b7c0b_row10_col2\" class=\"data row10 col2\" >-0.540026</td>\n",
       "                        <td id=\"T_b7c0b_row10_col3\" class=\"data row10 col3\" >0.459240</td>\n",
       "                        <td id=\"T_b7c0b_row10_col4\" class=\"data row10 col4\" >-0.433719</td>\n",
       "                        <td id=\"T_b7c0b_row10_col5\" class=\"data row10 col5\" >-0.138739</td>\n",
       "                        <td id=\"T_b7c0b_row10_col6\" class=\"data row10 col6\" >0.435779</td>\n",
       "                        <td id=\"T_b7c0b_row10_col7\" class=\"data row10 col7\" >0.538481</td>\n",
       "                        <td id=\"T_b7c0b_row10_col8\" class=\"data row10 col8\" >0.737629</td>\n",
       "                        <td id=\"T_b7c0b_row10_col9\" class=\"data row10 col9\" >0.880671</td>\n",
       "                        <td id=\"T_b7c0b_row10_col10\" class=\"data row10 col10\" >1.000000</td>\n",
       "                        <td id=\"T_b7c0b_row10_col11\" class=\"data row10 col11\" >0.755184</td>\n",
       "                        <td id=\"T_b7c0b_row10_col12\" class=\"data row10 col12\" >0.796650</td>\n",
       "                        <td id=\"T_b7c0b_row10_col13\" class=\"data row10 col13\" >-0.307148</td>\n",
       "                        <td id=\"T_b7c0b_row10_col14\" class=\"data row10 col14\" >-0.293993</td>\n",
       "                        <td id=\"T_b7c0b_row10_col15\" class=\"data row10 col15\" >-0.365767</td>\n",
       "                        <td id=\"T_b7c0b_row10_col16\" class=\"data row10 col16\" >-0.332647</td>\n",
       "            </tr>\n",
       "            <tr>\n",
       "                        <th id=\"T_b7c0b_level0_row11\" class=\"row_heading level0 row11\" >Boys toilet</th>\n",
       "                        <td id=\"T_b7c0b_row11_col0\" class=\"data row11 col0\" >-0.553430</td>\n",
       "                        <td id=\"T_b7c0b_row11_col1\" class=\"data row11 col1\" >-0.571282</td>\n",
       "                        <td id=\"T_b7c0b_row11_col2\" class=\"data row11 col2\" >-0.473535</td>\n",
       "                        <td id=\"T_b7c0b_row11_col3\" class=\"data row11 col3\" >0.358763</td>\n",
       "                        <td id=\"T_b7c0b_row11_col4\" class=\"data row11 col4\" >-0.393690</td>\n",
       "                        <td id=\"T_b7c0b_row11_col5\" class=\"data row11 col5\" >-0.082936</td>\n",
       "                        <td id=\"T_b7c0b_row11_col6\" class=\"data row11 col6\" >0.344108</td>\n",
       "                        <td id=\"T_b7c0b_row11_col7\" class=\"data row11 col7\" >0.404507</td>\n",
       "                        <td id=\"T_b7c0b_row11_col8\" class=\"data row11 col8\" >0.746873</td>\n",
       "                        <td id=\"T_b7c0b_row11_col9\" class=\"data row11 col9\" >0.714636</td>\n",
       "                        <td id=\"T_b7c0b_row11_col10\" class=\"data row11 col10\" >0.755184</td>\n",
       "                        <td id=\"T_b7c0b_row11_col11\" class=\"data row11 col11\" >1.000000</td>\n",
       "                        <td id=\"T_b7c0b_row11_col12\" class=\"data row11 col12\" >0.882785</td>\n",
       "                        <td id=\"T_b7c0b_row11_col13\" class=\"data row11 col13\" >-0.175644</td>\n",
       "                        <td id=\"T_b7c0b_row11_col14\" class=\"data row11 col14\" >-0.145223</td>\n",
       "                        <td id=\"T_b7c0b_row11_col15\" class=\"data row11 col15\" >-0.061860</td>\n",
       "                        <td id=\"T_b7c0b_row11_col16\" class=\"data row11 col16\" >-0.263209</td>\n",
       "            </tr>\n",
       "            <tr>\n",
       "                        <th id=\"T_b7c0b_level0_row12\" class=\"row_heading level0 row12\" >Girls toilet</th>\n",
       "                        <td id=\"T_b7c0b_row12_col0\" class=\"data row12 col0\" >-0.504931</td>\n",
       "                        <td id=\"T_b7c0b_row12_col1\" class=\"data row12 col1\" >-0.464949</td>\n",
       "                        <td id=\"T_b7c0b_row12_col2\" class=\"data row12 col2\" >-0.391753</td>\n",
       "                        <td id=\"T_b7c0b_row12_col3\" class=\"data row12 col3\" >0.403611</td>\n",
       "                        <td id=\"T_b7c0b_row12_col4\" class=\"data row12 col4\" >-0.286598</td>\n",
       "                        <td id=\"T_b7c0b_row12_col5\" class=\"data row12 col5\" >0.047423</td>\n",
       "                        <td id=\"T_b7c0b_row12_col6\" class=\"data row12 col6\" >0.442526</td>\n",
       "                        <td id=\"T_b7c0b_row12_col7\" class=\"data row12 col7\" >0.371134</td>\n",
       "                        <td id=\"T_b7c0b_row12_col8\" class=\"data row12 col8\" >0.698581</td>\n",
       "                        <td id=\"T_b7c0b_row12_col9\" class=\"data row12 col9\" >0.807742</td>\n",
       "                        <td id=\"T_b7c0b_row12_col10\" class=\"data row12 col10\" >0.796650</td>\n",
       "                        <td id=\"T_b7c0b_row12_col11\" class=\"data row12 col11\" >0.882785</td>\n",
       "                        <td id=\"T_b7c0b_row12_col12\" class=\"data row12 col12\" >1.000000</td>\n",
       "                        <td id=\"T_b7c0b_row12_col13\" class=\"data row12 col13\" >-0.223469</td>\n",
       "                        <td id=\"T_b7c0b_row12_col14\" class=\"data row12 col14\" >-0.232996</td>\n",
       "                        <td id=\"T_b7c0b_row12_col15\" class=\"data row12 col15\" >-0.214456</td>\n",
       "                        <td id=\"T_b7c0b_row12_col16\" class=\"data row12 col16\" >-0.397937</td>\n",
       "            </tr>\n",
       "            <tr>\n",
       "                        <th id=\"T_b7c0b_level0_row13\" class=\"row_heading level0 row13\" >PTR-Primary</th>\n",
       "                        <td id=\"T_b7c0b_row13_col0\" class=\"data row13 col0\" >-0.103060</td>\n",
       "                        <td id=\"T_b7c0b_row13_col1\" class=\"data row13 col1\" >0.043657</td>\n",
       "                        <td id=\"T_b7c0b_row13_col2\" class=\"data row13 col2\" >0.275853</td>\n",
       "                        <td id=\"T_b7c0b_row13_col3\" class=\"data row13 col3\" >-0.355863</td>\n",
       "                        <td id=\"T_b7c0b_row13_col4\" class=\"data row13 col4\" >-0.004121</td>\n",
       "                        <td id=\"T_b7c0b_row13_col5\" class=\"data row13 col5\" >-0.103155</td>\n",
       "                        <td id=\"T_b7c0b_row13_col6\" class=\"data row13 col6\" >-0.473149</td>\n",
       "                        <td id=\"T_b7c0b_row13_col7\" class=\"data row13 col7\" >-0.359562</td>\n",
       "                        <td id=\"T_b7c0b_row13_col8\" class=\"data row13 col8\" >0.081238</td>\n",
       "                        <td id=\"T_b7c0b_row13_col9\" class=\"data row13 col9\" >-0.098259</td>\n",
       "                        <td id=\"T_b7c0b_row13_col10\" class=\"data row13 col10\" >-0.307148</td>\n",
       "                        <td id=\"T_b7c0b_row13_col11\" class=\"data row13 col11\" >-0.175644</td>\n",
       "                        <td id=\"T_b7c0b_row13_col12\" class=\"data row13 col12\" >-0.223469</td>\n",
       "                        <td id=\"T_b7c0b_row13_col13\" class=\"data row13 col13\" >1.000000</td>\n",
       "                        <td id=\"T_b7c0b_row13_col14\" class=\"data row13 col14\" >0.895303</td>\n",
       "                        <td id=\"T_b7c0b_row13_col15\" class=\"data row13 col15\" >0.486951</td>\n",
       "                        <td id=\"T_b7c0b_row13_col16\" class=\"data row13 col16\" >0.566817</td>\n",
       "            </tr>\n",
       "            <tr>\n",
       "                        <th id=\"T_b7c0b_level0_row14\" class=\"row_heading level0 row14\" >PTR-Upper Primary</th>\n",
       "                        <td id=\"T_b7c0b_row14_col0\" class=\"data row14 col0\" >-0.227747</td>\n",
       "                        <td id=\"T_b7c0b_row14_col1\" class=\"data row14 col1\" >-0.120018</td>\n",
       "                        <td id=\"T_b7c0b_row14_col2\" class=\"data row14 col2\" >0.134956</td>\n",
       "                        <td id=\"T_b7c0b_row14_col3\" class=\"data row14 col3\" >-0.370273</td>\n",
       "                        <td id=\"T_b7c0b_row14_col4\" class=\"data row14 col4\" >-0.086150</td>\n",
       "                        <td id=\"T_b7c0b_row14_col5\" class=\"data row14 col5\" >-0.108686</td>\n",
       "                        <td id=\"T_b7c0b_row14_col6\" class=\"data row14 col6\" >-0.297341</td>\n",
       "                        <td id=\"T_b7c0b_row14_col7\" class=\"data row14 col7\" >-0.188397</td>\n",
       "                        <td id=\"T_b7c0b_row14_col8\" class=\"data row14 col8\" >0.163368</td>\n",
       "                        <td id=\"T_b7c0b_row14_col9\" class=\"data row14 col9\" >-0.072207</td>\n",
       "                        <td id=\"T_b7c0b_row14_col10\" class=\"data row14 col10\" >-0.293993</td>\n",
       "                        <td id=\"T_b7c0b_row14_col11\" class=\"data row14 col11\" >-0.145223</td>\n",
       "                        <td id=\"T_b7c0b_row14_col12\" class=\"data row14 col12\" >-0.232996</td>\n",
       "                        <td id=\"T_b7c0b_row14_col13\" class=\"data row14 col13\" >0.895303</td>\n",
       "                        <td id=\"T_b7c0b_row14_col14\" class=\"data row14 col14\" >1.000000</td>\n",
       "                        <td id=\"T_b7c0b_row14_col15\" class=\"data row14 col15\" >0.629253</td>\n",
       "                        <td id=\"T_b7c0b_row14_col16\" class=\"data row14 col16\" >0.584047</td>\n",
       "            </tr>\n",
       "            <tr>\n",
       "                        <th id=\"T_b7c0b_level0_row15\" class=\"row_heading level0 row15\" >PTR-Secondary</th>\n",
       "                        <td id=\"T_b7c0b_row15_col0\" class=\"data row15 col0\" >-0.015009</td>\n",
       "                        <td id=\"T_b7c0b_row15_col1\" class=\"data row15 col1\" >0.097753</td>\n",
       "                        <td id=\"T_b7c0b_row15_col2\" class=\"data row15 col2\" >0.188422</td>\n",
       "                        <td id=\"T_b7c0b_row15_col3\" class=\"data row15 col3\" >-0.227721</td>\n",
       "                        <td id=\"T_b7c0b_row15_col4\" class=\"data row15 col4\" >0.014167</td>\n",
       "                        <td id=\"T_b7c0b_row15_col5\" class=\"data row15 col5\" >0.032069</td>\n",
       "                        <td id=\"T_b7c0b_row15_col6\" class=\"data row15 col6\" >-0.319789</td>\n",
       "                        <td id=\"T_b7c0b_row15_col7\" class=\"data row15 col7\" >-0.230279</td>\n",
       "                        <td id=\"T_b7c0b_row15_col8\" class=\"data row15 col8\" >0.009285</td>\n",
       "                        <td id=\"T_b7c0b_row15_col9\" class=\"data row15 col9\" >-0.270940</td>\n",
       "                        <td id=\"T_b7c0b_row15_col10\" class=\"data row15 col10\" >-0.365767</td>\n",
       "                        <td id=\"T_b7c0b_row15_col11\" class=\"data row15 col11\" >-0.061860</td>\n",
       "                        <td id=\"T_b7c0b_row15_col12\" class=\"data row15 col12\" >-0.214456</td>\n",
       "                        <td id=\"T_b7c0b_row15_col13\" class=\"data row15 col13\" >0.486951</td>\n",
       "                        <td id=\"T_b7c0b_row15_col14\" class=\"data row15 col14\" >0.629253</td>\n",
       "                        <td id=\"T_b7c0b_row15_col15\" class=\"data row15 col15\" >1.000000</td>\n",
       "                        <td id=\"T_b7c0b_row15_col16\" class=\"data row15 col16\" >0.642309</td>\n",
       "            </tr>\n",
       "            <tr>\n",
       "                        <th id=\"T_b7c0b_level0_row16\" class=\"row_heading level0 row16\" >PTR-Higher Secondary</th>\n",
       "                        <td id=\"T_b7c0b_row16_col0\" class=\"data row16 col0\" >0.140097</td>\n",
       "                        <td id=\"T_b7c0b_row16_col1\" class=\"data row16 col1\" >0.234128</td>\n",
       "                        <td id=\"T_b7c0b_row16_col2\" class=\"data row16 col2\" >0.249324</td>\n",
       "                        <td id=\"T_b7c0b_row16_col3\" class=\"data row16 col3\" >-0.288338</td>\n",
       "                        <td id=\"T_b7c0b_row16_col4\" class=\"data row16 col4\" >-0.087959</td>\n",
       "                        <td id=\"T_b7c0b_row16_col5\" class=\"data row16 col5\" >-0.276497</td>\n",
       "                        <td id=\"T_b7c0b_row16_col6\" class=\"data row16 col6\" >-0.650354</td>\n",
       "                        <td id=\"T_b7c0b_row16_col7\" class=\"data row16 col7\" >-0.327495</td>\n",
       "                        <td id=\"T_b7c0b_row16_col8\" class=\"data row16 col8\" >-0.135139</td>\n",
       "                        <td id=\"T_b7c0b_row16_col9\" class=\"data row16 col9\" >-0.298388</td>\n",
       "                        <td id=\"T_b7c0b_row16_col10\" class=\"data row16 col10\" >-0.332647</td>\n",
       "                        <td id=\"T_b7c0b_row16_col11\" class=\"data row16 col11\" >-0.263209</td>\n",
       "                        <td id=\"T_b7c0b_row16_col12\" class=\"data row16 col12\" >-0.397937</td>\n",
       "                        <td id=\"T_b7c0b_row16_col13\" class=\"data row16 col13\" >0.566817</td>\n",
       "                        <td id=\"T_b7c0b_row16_col14\" class=\"data row16 col14\" >0.584047</td>\n",
       "                        <td id=\"T_b7c0b_row16_col15\" class=\"data row16 col15\" >0.642309</td>\n",
       "                        <td id=\"T_b7c0b_row16_col16\" class=\"data row16 col16\" >1.000000</td>\n",
       "            </tr>\n",
       "    </tbody></table>"
      ]
     },
     "metadata": {},
     "execution_count": 26
    }
   ],
   "metadata": {}
  },
  {
   "cell_type": "markdown",
   "source": [
    "### Observations\n",
    "\n",
    "* Dropouts are negatively correlated with factors. Children need more care. They need drinking water because they play a lot. If there isn't electricity, India primarily being a tropical country,discourage them to come to schools. WRITE BETTER AND FOR THE OTHER POINTS\n",
    "* Correlation with dropouts reduces with increasing age of students\n",
    "* Same thing observed in enrollments"
   ],
   "metadata": {}
  },
  {
   "cell_type": "markdown",
   "source": [
    "## Checking feature importance"
   ],
   "metadata": {}
  },
  {
   "cell_type": "code",
   "execution_count": 29,
   "source": [
    "from factor_analyzer.factor_analyzer import calculate_bartlett_sphericity\r\n",
    "chi2,p = calculate_bartlett_sphericity(dataset)\r\n",
    "p"
   ],
   "outputs": [
    {
     "output_type": "execute_result",
     "data": {
      "text/plain": [
       "1.7797734559232763e-58"
      ]
     },
     "metadata": {},
     "execution_count": 29
    }
   ],
   "metadata": {}
  },
  {
   "cell_type": "code",
   "execution_count": 32,
   "source": [
    "from factor_analyzer.factor_analyzer import calculate_kmo\r\n",
    "kmo_vars,kmo_model = calculate_kmo(dataset)\r\n",
    "print(kmo_model)"
   ],
   "outputs": [
    {
     "output_type": "stream",
     "name": "stdout",
     "text": [
      "0.6135015067877297\n"
     ]
    }
   ],
   "metadata": {}
  },
  {
   "cell_type": "code",
   "execution_count": 28,
   "source": [
    "#Using SVD to find feature importance\r\n",
    "from sklearn.decomposition import PCA\r\n",
    "p=PCA(n_components=3)\r\n",
    "clusters_X=p.fit_transform(dataset)\r\n",
    "\r\n",
    "for_factor_loadings = pd.concat([dataset,pd.DataFrame(clusters_X)], axis=1)\r\n",
    "for_factor_loadings.corr().iloc[:-3,-3:].style.background_gradient(cmap='Reds')"
   ],
   "outputs": [
    {
     "output_type": "execute_result",
     "data": {
      "text/plain": [
       "<pandas.io.formats.style.Styler at 0x1da598dddc0>"
      ],
      "text/html": [
       "<style  type=\"text/css\" >\n",
       "#T_b94ed_row0_col0{\n",
       "            background-color:  #fff2ec;\n",
       "            color:  #000000;\n",
       "        }#T_b94ed_row0_col1{\n",
       "            background-color:  #fdcebb;\n",
       "            color:  #000000;\n",
       "        }#T_b94ed_row0_col2{\n",
       "            background-color:  #f75c41;\n",
       "            color:  #000000;\n",
       "        }#T_b94ed_row1_col0{\n",
       "            background-color:  #fff3ed;\n",
       "            color:  #000000;\n",
       "        }#T_b94ed_row1_col1{\n",
       "            background-color:  #fca98c;\n",
       "            color:  #000000;\n",
       "        }#T_b94ed_row1_col2{\n",
       "            background-color:  #fcab8f;\n",
       "            color:  #000000;\n",
       "        }#T_b94ed_row2_col0,#T_b94ed_row2_col2,#T_b94ed_row5_col1{\n",
       "            background-color:  #fff5f0;\n",
       "            color:  #000000;\n",
       "        }#T_b94ed_row2_col1{\n",
       "            background-color:  #fb7151;\n",
       "            color:  #000000;\n",
       "        }#T_b94ed_row3_col0,#T_b94ed_row11_col2{\n",
       "            background-color:  #e22e27;\n",
       "            color:  #f1f1f1;\n",
       "        }#T_b94ed_row3_col1{\n",
       "            background-color:  #fc9070;\n",
       "            color:  #000000;\n",
       "        }#T_b94ed_row3_col2{\n",
       "            background-color:  #fc8767;\n",
       "            color:  #000000;\n",
       "        }#T_b94ed_row4_col0{\n",
       "            background-color:  #fee5d9;\n",
       "            color:  #000000;\n",
       "        }#T_b94ed_row4_col1{\n",
       "            background-color:  #ffebe2;\n",
       "            color:  #000000;\n",
       "        }#T_b94ed_row4_col2{\n",
       "            background-color:  #c7171c;\n",
       "            color:  #f1f1f1;\n",
       "        }#T_b94ed_row5_col0{\n",
       "            background-color:  #fc8e6e;\n",
       "            color:  #000000;\n",
       "        }#T_b94ed_row5_col2{\n",
       "            background-color:  #9f0e14;\n",
       "            color:  #f1f1f1;\n",
       "        }#T_b94ed_row6_col0,#T_b94ed_row8_col0{\n",
       "            background-color:  #bd151a;\n",
       "            color:  #f1f1f1;\n",
       "        }#T_b94ed_row6_col1{\n",
       "            background-color:  #fedbcc;\n",
       "            color:  #000000;\n",
       "        }#T_b94ed_row6_col2{\n",
       "            background-color:  #a91016;\n",
       "            color:  #f1f1f1;\n",
       "        }#T_b94ed_row7_col0{\n",
       "            background-color:  #aa1016;\n",
       "            color:  #f1f1f1;\n",
       "        }#T_b94ed_row7_col1{\n",
       "            background-color:  #fc8969;\n",
       "            color:  #000000;\n",
       "        }#T_b94ed_row7_col2,#T_b94ed_row9_col0,#T_b94ed_row16_col1{\n",
       "            background-color:  #67000d;\n",
       "            color:  #f1f1f1;\n",
       "        }#T_b94ed_row8_col1{\n",
       "            background-color:  #be151a;\n",
       "            color:  #f1f1f1;\n",
       "        }#T_b94ed_row8_col2,#T_b94ed_row9_col1{\n",
       "            background-color:  #f0402f;\n",
       "            color:  #f1f1f1;\n",
       "        }#T_b94ed_row9_col2{\n",
       "            background-color:  #fb7d5d;\n",
       "            color:  #000000;\n",
       "        }#T_b94ed_row10_col0{\n",
       "            background-color:  #6b010e;\n",
       "            color:  #f1f1f1;\n",
       "        }#T_b94ed_row10_col1{\n",
       "            background-color:  #fa6849;\n",
       "            color:  #000000;\n",
       "        }#T_b94ed_row10_col2{\n",
       "            background-color:  #fc8161;\n",
       "            color:  #000000;\n",
       "        }#T_b94ed_row11_col0{\n",
       "            background-color:  #b11218;\n",
       "            color:  #f1f1f1;\n",
       "        }#T_b94ed_row11_col1{\n",
       "            background-color:  #f14130;\n",
       "            color:  #f1f1f1;\n",
       "        }#T_b94ed_row12_col0{\n",
       "            background-color:  #ac1117;\n",
       "            color:  #f1f1f1;\n",
       "        }#T_b94ed_row12_col1{\n",
       "            background-color:  #f14432;\n",
       "            color:  #f1f1f1;\n",
       "        }#T_b94ed_row12_col2{\n",
       "            background-color:  #ee3a2c;\n",
       "            color:  #f1f1f1;\n",
       "        }#T_b94ed_row13_col0{\n",
       "            background-color:  #fdd0bc;\n",
       "            color:  #000000;\n",
       "        }#T_b94ed_row13_col1{\n",
       "            background-color:  #7e0610;\n",
       "            color:  #f1f1f1;\n",
       "        }#T_b94ed_row13_col2{\n",
       "            background-color:  #e32f27;\n",
       "            color:  #f1f1f1;\n",
       "        }#T_b94ed_row14_col0{\n",
       "            background-color:  #fcc3ab;\n",
       "            color:  #000000;\n",
       "        }#T_b94ed_row14_col1{\n",
       "            background-color:  #77040f;\n",
       "            color:  #f1f1f1;\n",
       "        }#T_b94ed_row14_col2{\n",
       "            background-color:  #bb141a;\n",
       "            color:  #f1f1f1;\n",
       "        }#T_b94ed_row15_col0{\n",
       "            background-color:  #fee4d8;\n",
       "            color:  #000000;\n",
       "        }#T_b94ed_row15_col1{\n",
       "            background-color:  #9d0d14;\n",
       "            color:  #f1f1f1;\n",
       "        }#T_b94ed_row15_col2{\n",
       "            background-color:  #9a0c14;\n",
       "            color:  #f1f1f1;\n",
       "        }#T_b94ed_row16_col0{\n",
       "            background-color:  #fee0d2;\n",
       "            color:  #000000;\n",
       "        }#T_b94ed_row16_col2{\n",
       "            background-color:  #a60f15;\n",
       "            color:  #f1f1f1;\n",
       "        }</style><table id=\"T_b94ed_\" ><thead>    <tr>        <th class=\"blank level0\" ></th>        <th class=\"col_heading level0 col0\" >0</th>        <th class=\"col_heading level0 col1\" >1</th>        <th class=\"col_heading level0 col2\" >2</th>    </tr></thead><tbody>\n",
       "                <tr>\n",
       "                        <th id=\"T_b94ed_level0_row0\" class=\"row_heading level0 row0\" >Dropout-PRIMARY</th>\n",
       "                        <td id=\"T_b94ed_row0_col0\" class=\"data row0 col0\" >-0.605367</td>\n",
       "                        <td id=\"T_b94ed_row0_col1\" class=\"data row0 col1\" >-0.448930</td>\n",
       "                        <td id=\"T_b94ed_row0_col2\" class=\"data row0 col2\" >0.047109</td>\n",
       "            </tr>\n",
       "            <tr>\n",
       "                        <th id=\"T_b94ed_level0_row1\" class=\"row_heading level0 row1\" >Dropout-UPPER_PRIMARY</th>\n",
       "                        <td id=\"T_b94ed_row1_col0\" class=\"data row1 col0\" >-0.611272</td>\n",
       "                        <td id=\"T_b94ed_row1_col1\" class=\"data row1 col1\" >-0.270419</td>\n",
       "                        <td id=\"T_b94ed_row1_col2\" class=\"data row1 col2\" >-0.210429</td>\n",
       "            </tr>\n",
       "            <tr>\n",
       "                        <th id=\"T_b94ed_level0_row2\" class=\"row_heading level0 row2\" >Dropout-SECONDARY</th>\n",
       "                        <td id=\"T_b94ed_row2_col0\" class=\"data row2 col0\" >-0.631073</td>\n",
       "                        <td id=\"T_b94ed_row2_col1\" class=\"data row2 col1\" >-0.016987</td>\n",
       "                        <td id=\"T_b94ed_row2_col2\" class=\"data row2 col2\" >-0.535872</td>\n",
       "            </tr>\n",
       "            <tr>\n",
       "                        <th id=\"T_b94ed_level0_row3\" class=\"row_heading level0 row3\" >Dropout-HRSECONDARY</th>\n",
       "                        <td id=\"T_b94ed_row3_col0\" class=\"data row3 col0\" >0.412864</td>\n",
       "                        <td id=\"T_b94ed_row3_col1\" class=\"data row3 col1\" >-0.160236</td>\n",
       "                        <td id=\"T_b94ed_row3_col2\" class=\"data row3 col2\" >-0.091888</td>\n",
       "            </tr>\n",
       "            <tr>\n",
       "                        <th id=\"T_b94ed_level0_row4\" class=\"row_heading level0 row4\" >Enrollments-Primary</th>\n",
       "                        <td id=\"T_b94ed_row4_col0\" class=\"data row4 col0\" >-0.482652</td>\n",
       "                        <td id=\"T_b94ed_row4_col1\" class=\"data row4 col1\" >-0.635357</td>\n",
       "                        <td id=\"T_b94ed_row4_col2\" class=\"data row4 col2\" >0.297179</td>\n",
       "            </tr>\n",
       "            <tr>\n",
       "                        <th id=\"T_b94ed_level0_row5\" class=\"row_heading level0 row5\" >Enrollments-Upper_Primary</th>\n",
       "                        <td id=\"T_b94ed_row5_col0\" class=\"data row5 col0\" >-0.028903</td>\n",
       "                        <td id=\"T_b94ed_row5_col1\" class=\"data row5 col1\" >-0.723007</td>\n",
       "                        <td id=\"T_b94ed_row5_col2\" class=\"data row5 col2\" >0.427753</td>\n",
       "            </tr>\n",
       "            <tr>\n",
       "                        <th id=\"T_b94ed_level0_row6\" class=\"row_heading level0 row6\" >Enrollments-Secondary</th>\n",
       "                        <td id=\"T_b94ed_row6_col0\" class=\"data row6 col0\" >0.606071</td>\n",
       "                        <td id=\"T_b94ed_row6_col1\" class=\"data row6 col1\" >-0.511391</td>\n",
       "                        <td id=\"T_b94ed_row6_col2\" class=\"data row6 col2\" >0.403274</td>\n",
       "            </tr>\n",
       "            <tr>\n",
       "                        <th id=\"T_b94ed_level0_row7\" class=\"row_heading level0 row7\" >Enrollments-Higher_Secondary</th>\n",
       "                        <td id=\"T_b94ed_row7_col0\" class=\"data row7 col0\" >0.704590</td>\n",
       "                        <td id=\"T_b94ed_row7_col1\" class=\"data row7 col1\" >-0.122832</td>\n",
       "                        <td id=\"T_b94ed_row7_col2\" class=\"data row7 col2\" >0.552387</td>\n",
       "            </tr>\n",
       "            <tr>\n",
       "                        <th id=\"T_b94ed_level0_row8\" class=\"row_heading level0 row8\" >Drinking water</th>\n",
       "                        <td id=\"T_b94ed_row8_col0\" class=\"data row8 col0\" >0.605336</td>\n",
       "                        <td id=\"T_b94ed_row8_col1\" class=\"data row8 col1\" >0.442926</td>\n",
       "                        <td id=\"T_b94ed_row8_col2\" class=\"data row8 col2\" >0.129574</td>\n",
       "            </tr>\n",
       "            <tr>\n",
       "                        <th id=\"T_b94ed_level0_row9\" class=\"row_heading level0 row9\" >Electricity</th>\n",
       "                        <td id=\"T_b94ed_row9_col0\" class=\"data row9 col0\" >0.925155</td>\n",
       "                        <td id=\"T_b94ed_row9_col1\" class=\"data row9 col1\" >0.182813</td>\n",
       "                        <td id=\"T_b94ed_row9_col2\" class=\"data row9 col2\" >-0.056075</td>\n",
       "            </tr>\n",
       "            <tr>\n",
       "                        <th id=\"T_b94ed_level0_row10\" class=\"row_heading level0 row10\" >Computer</th>\n",
       "                        <td id=\"T_b94ed_row10_col0\" class=\"data row10 col0\" >0.908568</td>\n",
       "                        <td id=\"T_b94ed_row10_col1\" class=\"data row10 col1\" >0.027022</td>\n",
       "                        <td id=\"T_b94ed_row10_col2\" class=\"data row10 col2\" >-0.071563</td>\n",
       "            </tr>\n",
       "            <tr>\n",
       "                        <th id=\"T_b94ed_level0_row11\" class=\"row_heading level0 row11\" >Boys toilet</th>\n",
       "                        <td id=\"T_b94ed_row11_col0\" class=\"data row11 col0\" >0.667180</td>\n",
       "                        <td id=\"T_b94ed_row11_col1\" class=\"data row11 col1\" >0.175650</td>\n",
       "                        <td id=\"T_b94ed_row11_col2\" class=\"data row11 col2\" >0.191686</td>\n",
       "            </tr>\n",
       "            <tr>\n",
       "                        <th id=\"T_b94ed_level0_row12\" class=\"row_heading level0 row12\" >Girls toilet</th>\n",
       "                        <td id=\"T_b94ed_row12_col0\" class=\"data row12 col0\" >0.688874</td>\n",
       "                        <td id=\"T_b94ed_row12_col1\" class=\"data row12 col1\" >0.163650</td>\n",
       "                        <td id=\"T_b94ed_row12_col2\" class=\"data row12 col2\" >0.144995</td>\n",
       "            </tr>\n",
       "            <tr>\n",
       "                        <th id=\"T_b94ed_level0_row13\" class=\"row_heading level0 row13\" >PTR-Primary</th>\n",
       "                        <td id=\"T_b94ed_row13_col0\" class=\"data row13 col0\" >-0.348016</td>\n",
       "                        <td id=\"T_b94ed_row13_col1\" class=\"data row13 col1\" >0.681566</td>\n",
       "                        <td id=\"T_b94ed_row13_col2\" class=\"data row13 col2\" >0.191033</td>\n",
       "            </tr>\n",
       "            <tr>\n",
       "                        <th id=\"T_b94ed_level0_row14\" class=\"row_heading level0 row14\" >PTR-Upper Primary</th>\n",
       "                        <td id=\"T_b94ed_row14_col0\" class=\"data row14 col0\" >-0.279693</td>\n",
       "                        <td id=\"T_b94ed_row14_col1\" class=\"data row14 col1\" >0.707498</td>\n",
       "                        <td id=\"T_b94ed_row14_col2\" class=\"data row14 col2\" >0.337248</td>\n",
       "            </tr>\n",
       "            <tr>\n",
       "                        <th id=\"T_b94ed_level0_row15\" class=\"row_heading level0 row15\" >PTR-Secondary</th>\n",
       "                        <td id=\"T_b94ed_row15_col0\" class=\"data row15 col0\" >-0.469275</td>\n",
       "                        <td id=\"T_b94ed_row15_col1\" class=\"data row15 col1\" >0.592761</td>\n",
       "                        <td id=\"T_b94ed_row15_col2\" class=\"data row15 col2\" >0.437909</td>\n",
       "            </tr>\n",
       "            <tr>\n",
       "                        <th id=\"T_b94ed_level0_row16\" class=\"row_heading level0 row16\" >PTR-Higher Secondary</th>\n",
       "                        <td id=\"T_b94ed_row16_col0\" class=\"data row16 col0\" >-0.433361</td>\n",
       "                        <td id=\"T_b94ed_row16_col1\" class=\"data row16 col1\" >0.754515</td>\n",
       "                        <td id=\"T_b94ed_row16_col2\" class=\"data row16 col2\" >0.411774</td>\n",
       "            </tr>\n",
       "    </tbody></table>"
      ]
     },
     "metadata": {},
     "execution_count": 28
    }
   ],
   "metadata": {}
  },
  {
   "cell_type": "markdown",
   "source": [
    "`Observations`:\r\n",
    "\r\n",
    "* PC1 explains the factors in school\r\n",
    "* PC2 explains the student:teacher ratio\r\n",
    "* PC3 explains enrollments and dropouts indirectly\r\n",
    "\r\n",
    "We will now create clusters with these three PCs"
   ],
   "metadata": {}
  },
  {
   "cell_type": "code",
   "execution_count": 31,
   "source": [
    "clusters_X= pd.DataFrame(clusters_X)\r\n",
    "from sklearn.cluster import KMeans\r\n",
    "from sklearn.metrics import silhouette_score\r\n",
    "\r\n",
    "scores=[]\r\n",
    "\r\n",
    "#for i in range(2,15):\r\n",
    "k=KMeans(n_clusters=3)\r\n",
    "k.fit(clusters_X)\r\n",
    "k.labels_\r\n",
    "#scores.append(silhouette_score(X,labels))\r\n"
   ],
   "outputs": [
    {
     "output_type": "execute_result",
     "data": {
      "text/plain": [
       "array([1, 1, 0, 0, 2, 1, 0, 1, 1, 1, 1, 1, 1, 1, 0, 2, 1, 1, 1, 2, 1, 0,\n",
       "       0, 0, 0, 0, 1, 1, 0, 0, 1, 0, 0, 2, 0, 2])"
      ]
     },
     "metadata": {},
     "execution_count": 31
    }
   ],
   "metadata": {}
  },
  {
   "cell_type": "code",
   "execution_count": 45,
   "source": [
    "silhouette_coefficients = []\r\n",
    "for k in range(2, 20):\r\n",
    "    kmeans = KMeans(n_clusters=k, n_init=10, max_iter=100, )\r\n",
    "    kmeans.fit(clusters_X)\r\n",
    "    score = silhouette_score(clusters_X, kmeans.labels_)\r\n",
    "    silhouette_coefficients.append(score)"
   ],
   "outputs": [],
   "metadata": {}
  },
  {
   "cell_type": "code",
   "execution_count": 46,
   "source": [
    "pd.DataFrame(silhouette_coefficients).plot()"
   ],
   "outputs": [
    {
     "output_type": "execute_result",
     "data": {
      "text/plain": [
       "<AxesSubplot:>"
      ]
     },
     "metadata": {},
     "execution_count": 46
    },
    {
     "output_type": "display_data",
     "data": {
      "text/plain": [
       "<Figure size 432x288 with 1 Axes>"
      ],
      "image/png": "[encoded data removed]"
     },
     "metadata": {}
    }
   ],
   "metadata": {}
  },
  {
   "cell_type": "markdown",
   "source": [
    "The best no. of clusters are obtained with 7 clusters"
   ],
   "metadata": {}
  },
  {
   "cell_type": "code",
   "execution_count": 47,
   "source": [
    "kk=KMeans(n_clusters=7)\r\n",
    "kk.fit(clusters_X)\r\n",
    "states['labels']=pd.Series(kk.labels_)\r\n",
    "states"
   ],
   "outputs": [
    {
     "output_type": "execute_result",
     "data": {
      "text/plain": [
       "                        State  labels  Overall score  actual_labels\n",
       "0   Andaman & Nicobar Islands       1      69.328665              1\n",
       "1              Andhra Pradesh       4      62.255497              3\n",
       "2           Arunachal Pradesh       3      63.002390              2\n",
       "3                       Assam       0      54.413032              4\n",
       "4                       Bihar       6      56.123755              0\n",
       "5                  Chandigarh       1      73.321496              1\n",
       "6                Chhattisgarh       2      63.878395              6\n",
       "7        Dadra & Nagar Haveli       4      64.671446              3\n",
       "8                 Daman & Diu       4      64.692744              3\n",
       "9                       Delhi       1      75.715240              1\n",
       "10                        Goa       1      70.517515              1\n",
       "11                    Gujarat       4      67.845604              3\n",
       "12                    Haryana       4      68.225080              3\n",
       "13           Himachal Pradesh       3      71.253593              1\n",
       "14          Jammu And Kashmir       0      55.186625              4\n",
       "15                  Jharkhand       6      58.281952              0\n",
       "16                  Karnataka       4      64.538772              3\n",
       "17                     Kerala       1      73.349588              1\n",
       "18                Lakshadweep       1      74.375553              1\n",
       "19             Madhya Pradesh       6      59.495972              0\n",
       "20                Maharashtra       1      69.199601              1\n",
       "21                    Manipur       3      66.166228              2\n",
       "22                  Meghalaya       0      57.048438              4\n",
       "23                    Mizoram       3      68.082295              2\n",
       "24                   Nagaland       0      58.734874              4\n",
       "25                     Odisha       0      57.395507              4\n",
       "26                 Puducherry       1      71.983355              1\n",
       "27                     Punjab       1      69.780648              1\n",
       "28                  Rajasthan       2      62.863038              6\n",
       "29                     Sikkim       3      72.376044              2\n",
       "30                 Tamil Nadu       1      70.800147              1\n",
       "31                  Telangana       2      64.038517              6\n",
       "32                    Tripura       2      63.179730              6\n",
       "33              Uttar Pradesh       5      63.026678              5\n",
       "34                Uttarakhand       2      64.354646              6\n",
       "35                West Bengal       6      63.053892              0"
      ],
      "text/html": [
       "<div>\n",
       "<style scoped>\n",
       "    .dataframe tbody tr th:only-of-type {\n",
       "        vertical-align: middle;\n",
       "    }\n",
       "\n",
       "    .dataframe tbody tr th {\n",
       "        vertical-align: top;\n",
       "    }\n",
       "\n",
       "    .dataframe thead th {\n",
       "        text-align: right;\n",
       "    }\n",
       "</style>\n",
       "<table border=\"1\" class=\"dataframe\">\n",
       "  <thead>\n",
       "    <tr style=\"text-align: right;\">\n",
       "      <th></th>\n",
       "      <th>State</th>\n",
       "      <th>labels</th>\n",
       "      <th>Overall score</th>\n",
       "      <th>actual_labels</th>\n",
       "    </tr>\n",
       "  </thead>\n",
       "  <tbody>\n",
       "    <tr>\n",
       "      <th>0</th>\n",
       "      <td>Andaman &amp; Nicobar Islands</td>\n",
       "      <td>1</td>\n",
       "      <td>69.328665</td>\n",
       "      <td>1</td>\n",
       "    </tr>\n",
       "    <tr>\n",
       "      <th>1</th>\n",
       "      <td>Andhra Pradesh</td>\n",
       "      <td>4</td>\n",
       "      <td>62.255497</td>\n",
       "      <td>3</td>\n",
       "    </tr>\n",
       "    <tr>\n",
       "      <th>2</th>\n",
       "      <td>Arunachal Pradesh</td>\n",
       "      <td>3</td>\n",
       "      <td>63.002390</td>\n",
       "      <td>2</td>\n",
       "    </tr>\n",
       "    <tr>\n",
       "      <th>3</th>\n",
       "      <td>Assam</td>\n",
       "      <td>0</td>\n",
       "      <td>54.413032</td>\n",
       "      <td>4</td>\n",
       "    </tr>\n",
       "    <tr>\n",
       "      <th>4</th>\n",
       "      <td>Bihar</td>\n",
       "      <td>6</td>\n",
       "      <td>56.123755</td>\n",
       "      <td>0</td>\n",
       "    </tr>\n",
       "    <tr>\n",
       "      <th>5</th>\n",
       "      <td>Chandigarh</td>\n",
       "      <td>1</td>\n",
       "      <td>73.321496</td>\n",
       "      <td>1</td>\n",
       "    </tr>\n",
       "    <tr>\n",
       "      <th>6</th>\n",
       "      <td>Chhattisgarh</td>\n",
       "      <td>2</td>\n",
       "      <td>63.878395</td>\n",
       "      <td>6</td>\n",
       "    </tr>\n",
       "    <tr>\n",
       "      <th>7</th>\n",
       "      <td>Dadra &amp; Nagar Haveli</td>\n",
       "      <td>4</td>\n",
       "      <td>64.671446</td>\n",
       "      <td>3</td>\n",
       "    </tr>\n",
       "    <tr>\n",
       "      <th>8</th>\n",
       "      <td>Daman &amp; Diu</td>\n",
       "      <td>4</td>\n",
       "      <td>64.692744</td>\n",
       "      <td>3</td>\n",
       "    </tr>\n",
       "    <tr>\n",
       "      <th>9</th>\n",
       "      <td>Delhi</td>\n",
       "      <td>1</td>\n",
       "      <td>75.715240</td>\n",
       "      <td>1</td>\n",
       "    </tr>\n",
       "    <tr>\n",
       "      <th>10</th>\n",
       "      <td>Goa</td>\n",
       "      <td>1</td>\n",
       "      <td>70.517515</td>\n",
       "      <td>1</td>\n",
       "    </tr>\n",
       "    <tr>\n",
       "      <th>11</th>\n",
       "      <td>Gujarat</td>\n",
       "      <td>4</td>\n",
       "      <td>67.845604</td>\n",
       "      <td>3</td>\n",
       "    </tr>\n",
       "    <tr>\n",
       "      <th>12</th>\n",
       "      <td>Haryana</td>\n",
       "      <td>4</td>\n",
       "      <td>68.225080</td>\n",
       "      <td>3</td>\n",
       "    </tr>\n",
       "    <tr>\n",
       "      <th>13</th>\n",
       "      <td>Himachal Pradesh</td>\n",
       "      <td>3</td>\n",
       "      <td>71.253593</td>\n",
       "      <td>1</td>\n",
       "    </tr>\n",
       "    <tr>\n",
       "      <th>14</th>\n",
       "      <td>Jammu And Kashmir</td>\n",
       "      <td>0</td>\n",
       "      <td>55.186625</td>\n",
       "      <td>4</td>\n",
       "    </tr>\n",
       "    <tr>\n",
       "      <th>15</th>\n",
       "      <td>Jharkhand</td>\n",
       "      <td>6</td>\n",
       "      <td>58.281952</td>\n",
       "      <td>0</td>\n",
       "    </tr>\n",
       "    <tr>\n",
       "      <th>16</th>\n",
       "      <td>Karnataka</td>\n",
       "      <td>4</td>\n",
       "      <td>64.538772</td>\n",
       "      <td>3</td>\n",
       "    </tr>\n",
       "    <tr>\n",
       "      <th>17</th>\n",
       "      <td>Kerala</td>\n",
       "      <td>1</td>\n",
       "      <td>73.349588</td>\n",
       "      <td>1</td>\n",
       "    </tr>\n",
       "    <tr>\n",
       "      <th>18</th>\n",
       "      <td>Lakshadweep</td>\n",
       "      <td>1</td>\n",
       "      <td>74.375553</td>\n",
       "      <td>1</td>\n",
       "    </tr>\n",
       "    <tr>\n",
       "      <th>19</th>\n",
       "      <td>Madhya Pradesh</td>\n",
       "      <td>6</td>\n",
       "      <td>59.495972</td>\n",
       "      <td>0</td>\n",
       "    </tr>\n",
       "    <tr>\n",
       "      <th>20</th>\n",
       "      <td>Maharashtra</td>\n",
       "      <td>1</td>\n",
       "      <td>69.199601</td>\n",
       "      <td>1</td>\n",
       "    </tr>\n",
       "    <tr>\n",
       "      <th>21</th>\n",
       "      <td>Manipur</td>\n",
       "      <td>3</td>\n",
       "      <td>66.166228</td>\n",
       "      <td>2</td>\n",
       "    </tr>\n",
       "    <tr>\n",
       "      <th>22</th>\n",
       "      <td>Meghalaya</td>\n",
       "      <td>0</td>\n",
       "      <td>57.048438</td>\n",
       "      <td>4</td>\n",
       "    </tr>\n",
       "    <tr>\n",
       "      <th>23</th>\n",
       "      <td>Mizoram</td>\n",
       "      <td>3</td>\n",
       "      <td>68.082295</td>\n",
       "      <td>2</td>\n",
       "    </tr>\n",
       "    <tr>\n",
       "      <th>24</th>\n",
       "      <td>Nagaland</td>\n",
       "      <td>0</td>\n",
       "      <td>58.734874</td>\n",
       "      <td>4</td>\n",
       "    </tr>\n",
       "    <tr>\n",
       "      <th>25</th>\n",
       "      <td>Odisha</td>\n",
       "      <td>0</td>\n",
       "      <td>57.395507</td>\n",
       "      <td>4</td>\n",
       "    </tr>\n",
       "    <tr>\n",
       "      <th>26</th>\n",
       "      <td>Puducherry</td>\n",
       "      <td>1</td>\n",
       "      <td>71.983355</td>\n",
       "      <td>1</td>\n",
       "    </tr>\n",
       "    <tr>\n",
       "      <th>27</th>\n",
       "      <td>Punjab</td>\n",
       "      <td>1</td>\n",
       "      <td>69.780648</td>\n",
       "      <td>1</td>\n",
       "    </tr>\n",
       "    <tr>\n",
       "      <th>28</th>\n",
       "      <td>Rajasthan</td>\n",
       "      <td>2</td>\n",
       "      <td>62.863038</td>\n",
       "      <td>6</td>\n",
       "    </tr>\n",
       "    <tr>\n",
       "      <th>29</th>\n",
       "      <td>Sikkim</td>\n",
       "      <td>3</td>\n",
       "      <td>72.376044</td>\n",
       "      <td>2</td>\n",
       "    </tr>\n",
       "    <tr>\n",
       "      <th>30</th>\n",
       "      <td>Tamil Nadu</td>\n",
       "      <td>1</td>\n",
       "      <td>70.800147</td>\n",
       "      <td>1</td>\n",
       "    </tr>\n",
       "    <tr>\n",
       "      <th>31</th>\n",
       "      <td>Telangana</td>\n",
       "      <td>2</td>\n",
       "      <td>64.038517</td>\n",
       "      <td>6</td>\n",
       "    </tr>\n",
       "    <tr>\n",
       "      <th>32</th>\n",
       "      <td>Tripura</td>\n",
       "      <td>2</td>\n",
       "      <td>63.179730</td>\n",
       "      <td>6</td>\n",
       "    </tr>\n",
       "    <tr>\n",
       "      <th>33</th>\n",
       "      <td>Uttar Pradesh</td>\n",
       "      <td>5</td>\n",
       "      <td>63.026678</td>\n",
       "      <td>5</td>\n",
       "    </tr>\n",
       "    <tr>\n",
       "      <th>34</th>\n",
       "      <td>Uttarakhand</td>\n",
       "      <td>2</td>\n",
       "      <td>64.354646</td>\n",
       "      <td>6</td>\n",
       "    </tr>\n",
       "    <tr>\n",
       "      <th>35</th>\n",
       "      <td>West Bengal</td>\n",
       "      <td>6</td>\n",
       "      <td>63.053892</td>\n",
       "      <td>0</td>\n",
       "    </tr>\n",
       "  </tbody>\n",
       "</table>\n",
       "</div>"
      ]
     },
     "metadata": {},
     "execution_count": 47
    }
   ],
   "metadata": {}
  },
  {
   "cell_type": "code",
   "execution_count": 41,
   "source": [
    "clusters_X = pd.DataFrame(clusters_X)\r\n",
    "clusters_X.rename(columns={0:'Factors',1:'Student:teacher ratio',2:'Enrollment'}, inplace=True)"
   ],
   "outputs": [],
   "metadata": {}
  },
  {
   "cell_type": "code",
   "execution_count": 42,
   "source": [
    "clusters_X.head()"
   ],
   "outputs": [
    {
     "output_type": "execute_result",
     "data": {
      "text/plain": [
       "    Factors  Student:teacher ratio  Enrollment\n",
       "0  0.740958               0.352544    0.505275\n",
       "1  0.488040               0.623250    0.350353\n",
       "2  0.260189               0.123299    0.732246\n",
       "3  0.076437               0.221830    0.178413\n",
       "4  0.000000               0.635192    0.554892"
      ],
      "text/html": [
       "<div>\n",
       "<style scoped>\n",
       "    .dataframe tbody tr th:only-of-type {\n",
       "        vertical-align: middle;\n",
       "    }\n",
       "\n",
       "    .dataframe tbody tr th {\n",
       "        vertical-align: top;\n",
       "    }\n",
       "\n",
       "    .dataframe thead th {\n",
       "        text-align: right;\n",
       "    }\n",
       "</style>\n",
       "<table border=\"1\" class=\"dataframe\">\n",
       "  <thead>\n",
       "    <tr style=\"text-align: right;\">\n",
       "      <th></th>\n",
       "      <th>Factors</th>\n",
       "      <th>Student:teacher ratio</th>\n",
       "      <th>Enrollment</th>\n",
       "    </tr>\n",
       "  </thead>\n",
       "  <tbody>\n",
       "    <tr>\n",
       "      <th>0</th>\n",
       "      <td>0.740958</td>\n",
       "      <td>0.352544</td>\n",
       "      <td>0.505275</td>\n",
       "    </tr>\n",
       "    <tr>\n",
       "      <th>1</th>\n",
       "      <td>0.488040</td>\n",
       "      <td>0.623250</td>\n",
       "      <td>0.350353</td>\n",
       "    </tr>\n",
       "    <tr>\n",
       "      <th>2</th>\n",
       "      <td>0.260189</td>\n",
       "      <td>0.123299</td>\n",
       "      <td>0.732246</td>\n",
       "    </tr>\n",
       "    <tr>\n",
       "      <th>3</th>\n",
       "      <td>0.076437</td>\n",
       "      <td>0.221830</td>\n",
       "      <td>0.178413</td>\n",
       "    </tr>\n",
       "    <tr>\n",
       "      <th>4</th>\n",
       "      <td>0.000000</td>\n",
       "      <td>0.635192</td>\n",
       "      <td>0.554892</td>\n",
       "    </tr>\n",
       "  </tbody>\n",
       "</table>\n",
       "</div>"
      ]
     },
     "metadata": {},
     "execution_count": 42
    }
   ],
   "metadata": {}
  },
  {
   "cell_type": "code",
   "execution_count": 43,
   "source": [
    "figtot = px.scatter_3d(clusters_X, y='Student:teacher ratio', z='Enrollment', x='Factors',color=states.actual_labels,opacity=0.7,text=states['State'], title='Visualizing performance of states in the education sector')\r\n",
    "figtot.update_layout(width=1200, height=520)\r\n",
    "\r\n",
    "\r\n",
    "r = dp.Report(\r\n",
    "  dp.Plot(figtot) #create a chart\r\n",
    ").publish(name='performance', visibility=dp.Visibility.PUBLIC,open=True) #Publish the report\r\n"
   ],
   "outputs": [
    {
     "output_type": "display_data",
     "data": {
      "text/plain": [
       "<IPython.core.display.Markdown object>"
      ],
      "text/markdown": [
       "Publishing document and associated data - *please wait...*"
      ]
     },
     "metadata": {}
    },
    {
     "output_type": "display_data",
     "data": {
      "text/plain": [
       "<IPython.core.display.Markdown object>"
      ],
      "text/markdown": [
       "Your report doesn't contain any text - did you know you can add text to your report from your browser once published?"
      ]
     },
     "metadata": {}
    },
    {
     "output_type": "display_data",
     "data": {
      "text/plain": [
       "<IPython.core.display.Markdown object>"
      ],
      "text/markdown": [
       "Your report only contains a single element - did you know you can add multiple plots and tables to a report, add text to it and export directly to Medium once published?"
      ]
     },
     "metadata": {}
    },
    {
     "output_type": "display_data",
     "data": {
      "text/plain": [
       "<IPython.core.display.Markdown object>"
      ],
      "text/markdown": [
       "Report successfully published at https://datapane.com/u/anupammisra/reports/performance/ - you can edit and add additional text online"
      ]
     },
     "metadata": {}
    }
   ],
   "metadata": {}
  },
  {
   "cell_type": "markdown",
   "source": [
    "https://towardsdatascience.com/unsupervised-machine-learning-affinity-propagation-algorithm-explained-d1fef85f22c8"
   ],
   "metadata": {}
  },
  {
   "cell_type": "code",
   "execution_count": 44,
   "source": [
    "figtot.show()"
   ],
   "outputs": [
    {
     "output_type": "display_data",
     "data": {
      "application/vnd.plotly.v1+json": {
       "config": {
        "plotlyServerURL": "https://plot.ly"
       },
       "data": [
        {
         "hovertemplate": "Factors=%{x}<br>Student:teacher ratio=%{y}<br>Enrollment=%{z}<br>text=%{text}<br>color=%{marker.color}<extra></extra>",
         "legendgroup": "",
         "marker": {
          "color": [
           1,
           3,
           2,
           4,
           0,
           1,
           6,
           3,
           3,
           1,
           1,
           3,
           3,
           1,
           4,
           0,
           3,
           1,
           1,
           0,
           1,
           2,
           4,
           2,
           4,
           4,
           1,
           1,
           6,
           2,
           1,
           6,
           6,
           5,
           6,
           0
          ],
          "coloraxis": "coloraxis",
          "opacity": 0.7,
          "symbol": "circle"
         },
         "mode": "markers+text",
         "name": "",
         "scene": "scene",
         "showlegend": false,
         "text": [
          "Andaman & Nicobar Islands",
          "Andhra Pradesh",
          "Arunachal Pradesh",
          "Assam",
          "Bihar",
          "Chandigarh",
          "Chhattisgarh",
          "Dadra & Nagar Haveli",
          "Daman & Diu",
          "Delhi",
          "Goa",
          "Gujarat",
          "Haryana",
          "Himachal Pradesh",
          "Jammu And Kashmir",
          "Jharkhand",
          "Karnataka",
          "Kerala",
          "Lakshadweep",
          "Madhya Pradesh",
          "Maharashtra",
          "Manipur",
          "Meghalaya",
          "Mizoram",
          "Nagaland",
          "Odisha",
          "Puducherry",
          "Punjab",
          "Rajasthan",
          "Sikkim",
          "Tamil Nadu",
          "Telangana",
          "Tripura",
          "Uttar Pradesh",
          "Uttarakhand",
          "West Bengal"
         ],
         "type": "scatter3d",
         "x": [
          0.7409575790054979,
          0.4880398140326725,
          0.2601890032904428,
          0.07643726379044669,
          0,
          0.9149323954285853,
          0.3560376804671934,
          0.5806431609235267,
          0.6663893238582439,
          0.8433195515008343,
          0.6948776267468438,
          0.6831266146066755,
          0.6595864666773101,
          0.671114594971996,
          0.20444977228408834,
          0.020113845604201153,
          0.5336279423043595,
          0.8771016076377012,
          1,
          0.14467369909359995,
          0.6411831913367051,
          0.2923427257506188,
          0.057057009289495864,
          0.49311170771821,
          0.29304685970722544,
          0.14459224342935034,
          0.8981512698065891,
          0.6878395755272186,
          0.3588845639109486,
          0.6273723363655554,
          0.7149147767499944,
          0.4295267750604041,
          0.27927452790800855,
          0.26122661718538986,
          0.43404370660225045,
          0.29736498216650875
         ],
         "y": [
          0.35254378546868026,
          0.6232501896078525,
          0.12329887748643359,
          0.22183035126357223,
          0.6351919422804431,
          0.4375018498251396,
          0.3513033035615203,
          0.5354522731680676,
          0.5719795509409582,
          0.27812883379707176,
          0.2927663579881634,
          0.566569558278784,
          0.4256676488742893,
          0.23728493065996098,
          0.4301690787095604,
          0.6010450356616385,
          0.4653039153317679,
          0.37096070378489115,
          0.3280295297235203,
          0.46903000827603114,
          0.5290943778431607,
          0.013296889697144876,
          0,
          0.03388312879464778,
          0.27805947007047815,
          0.34848047689882644,
          0.42473168757391533,
          0.4216101953525804,
          0.4572147841674756,
          0.0509169714431324,
          0.41379088440814815,
          0.3131178415101187,
          0.1497318855514136,
          1,
          0.3927170567300765,
          0.5644039829787657
         ],
         "z": [
          0.5052752723129271,
          0.35035280423277326,
          0.7322459761030288,
          0.17841347425848186,
          0.5548916052720256,
          0.5354179415499972,
          0.5604775219659615,
          0.2253807504353476,
          0,
          0.8344242359600551,
          0.5634834303099218,
          0.25896989879067167,
          0.36657575875402726,
          0.7771961966679235,
          0.20332857450357655,
          0.781104470303357,
          0.10116529780058398,
          0.4986607421250858,
          0.47993414655878375,
          0.566599860343965,
          0.5322725378887054,
          0.6748863130155065,
          0.37141373348991086,
          0.5648632621814654,
          0.14929471690918794,
          0.21036872498963755,
          0.3356122895897139,
          0.48656618819059894,
          0.42962755995202595,
          0.7167886286505994,
          0.5658019240108568,
          0.4137688235389669,
          0.47665212592963707,
          1,
          0.4990868880526683,
          0.6538822098842063
         ]
        }
       ],
       "layout": {
        "coloraxis": {
         "colorbar": {
          "title": {
           "text": "color"
          }
         },
         "colorscale": [
          [
           0,
           "#0d0887"
          ],
          [
           0.1111111111111111,
           "#46039f"
          ],
          [
           0.2222222222222222,
           "#7201a8"
          ],
          [
           0.3333333333333333,
           "#9c179e"
          ],
          [
           0.4444444444444444,
           "#bd3786"
          ],
          [
           0.5555555555555556,
           "#d8576b"
          ],
          [
           0.6666666666666666,
           "#ed7953"
          ],
          [
           0.7777777777777778,
           "#fb9f3a"
          ],
          [
           0.8888888888888888,
           "#fdca26"
          ],
          [
           1,
           "#f0f921"
          ]
         ]
        },
        "height": 520,
        "legend": {
         "tracegroupgap": 0
        },
        "scene": {
         "domain": {
          "x": [
           0,
           1
          ],
          "y": [
           0,
           1
          ]
         },
         "xaxis": {
          "title": {
           "text": "Factors"
          }
         },
         "yaxis": {
          "title": {
           "text": "Student:teacher ratio"
          }
         },
         "zaxis": {
          "title": {
           "text": "Enrollment"
          }
         }
        },
        "template": {
         "data": {
          "bar": [
           {
            "error_x": {
             "color": "#2a3f5f"
            },
            "error_y": {
             "color": "#2a3f5f"
            },
            "marker": {
             "line": {
              "color": "#E5ECF6",
              "width": 0.5
             }
            },
            "type": "bar"
           }
          ],
          "barpolar": [
           {
            "marker": {
             "line": {
              "color": "#E5ECF6",
              "width": 0.5
             }
            },
            "type": "barpolar"
           }
          ],
          "carpet": [
           {
            "aaxis": {
             "endlinecolor": "#2a3f5f",
             "gridcolor": "white",
             "linecolor": "white",
             "minorgridcolor": "white",
             "startlinecolor": "#2a3f5f"
            },
            "baxis": {
             "endlinecolor": "#2a3f5f",
             "gridcolor": "white",
             "linecolor": "white",
             "minorgridcolor": "white",
             "startlinecolor": "#2a3f5f"
            },
            "type": "carpet"
           }
          ],
          "choropleth": [
           {
            "colorbar": {
             "outlinewidth": 0,
             "ticks": ""
            },
            "type": "choropleth"
           }
          ],
          "contour": [
           {
            "colorbar": {
             "outlinewidth": 0,
             "ticks": ""
            },
            "colorscale": [
             [
              0,
              "#0d0887"
             ],
             [
              0.1111111111111111,
              "#46039f"
             ],
             [
              0.2222222222222222,
              "#7201a8"
             ],
             [
              0.3333333333333333,
              "#9c179e"
             ],
             [
              0.4444444444444444,
              "#bd3786"
             ],
             [
              0.5555555555555556,
              "#d8576b"
             ],
             [
              0.6666666666666666,
              "#ed7953"
             ],
             [
              0.7777777777777778,
              "#fb9f3a"
             ],
             [
              0.8888888888888888,
              "#fdca26"
             ],
             [
              1,
              "#f0f921"
             ]
            ],
            "type": "contour"
           }
          ],
          "contourcarpet": [
           {
            "colorbar": {
             "outlinewidth": 0,
             "ticks": ""
            },
            "type": "contourcarpet"
           }
          ],
          "heatmap": [
           {
            "colorbar": {
             "outlinewidth": 0,
             "ticks": ""
            },
            "colorscale": [
             [
              0,
              "#0d0887"
             ],
             [
              0.1111111111111111,
              "#46039f"
             ],
             [
              0.2222222222222222,
              "#7201a8"
             ],
             [
              0.3333333333333333,
              "#9c179e"
             ],
             [
              0.4444444444444444,
              "#bd3786"
             ],
             [
              0.5555555555555556,
              "#d8576b"
             ],
             [
              0.6666666666666666,
              "#ed7953"
             ],
             [
              0.7777777777777778,
              "#fb9f3a"
             ],
             [
              0.8888888888888888,
              "#fdca26"
             ],
             [
              1,
              "#f0f921"
             ]
            ],
            "type": "heatmap"
           }
          ],
          "heatmapgl": [
           {
            "colorbar": {
             "outlinewidth": 0,
             "ticks": ""
            },
            "colorscale": [
             [
              0,
              "#0d0887"
             ],
             [
              0.1111111111111111,
              "#46039f"
             ],
             [
              0.2222222222222222,
              "#7201a8"
             ],
             [
              0.3333333333333333,
              "#9c179e"
             ],
             [
              0.4444444444444444,
              "#bd3786"
             ],
             [
              0.5555555555555556,
              "#d8576b"
             ],
             [
              0.6666666666666666,
              "#ed7953"
             ],
             [
              0.7777777777777778,
              "#fb9f3a"
             ],
             [
              0.8888888888888888,
              "#fdca26"
             ],
             [
              1,
              "#f0f921"
             ]
            ],
            "type": "heatmapgl"
           }
          ],
          "histogram": [
           {
            "marker": {
             "colorbar": {
              "outlinewidth": 0,
              "ticks": ""
             }
            },
            "type": "histogram"
           }
          ],
          "histogram2d": [
           {
            "colorbar": {
             "outlinewidth": 0,
             "ticks": ""
            },
            "colorscale": [
             [
              0,
              "#0d0887"
             ],
             [
              0.1111111111111111,
              "#46039f"
             ],
             [
              0.2222222222222222,
              "#7201a8"
             ],
             [
              0.3333333333333333,
              "#9c179e"
             ],
             [
              0.4444444444444444,
              "#bd3786"
             ],
             [
              0.5555555555555556,
              "#d8576b"
             ],
             [
              0.6666666666666666,
              "#ed7953"
             ],
             [
              0.7777777777777778,
              "#fb9f3a"
             ],
             [
              0.8888888888888888,
              "#fdca26"
             ],
             [
              1,
              "#f0f921"
             ]
            ],
            "type": "histogram2d"
           }
          ],
          "histogram2dcontour": [
           {
            "colorbar": {
             "outlinewidth": 0,
             "ticks": ""
            },
            "colorscale": [
             [
              0,
              "#0d0887"
             ],
             [
              0.1111111111111111,
              "#46039f"
             ],
             [
              0.2222222222222222,
              "#7201a8"
             ],
             [
              0.3333333333333333,
              "#9c179e"
             ],
             [
              0.4444444444444444,
              "#bd3786"
             ],
             [
              0.5555555555555556,
              "#d8576b"
             ],
             [
              0.6666666666666666,
              "#ed7953"
             ],
             [
              0.7777777777777778,
              "#fb9f3a"
             ],
             [
              0.8888888888888888,
              "#fdca26"
             ],
             [
              1,
              "#f0f921"
             ]
            ],
            "type": "histogram2dcontour"
           }
          ],
          "mesh3d": [
           {
            "colorbar": {
             "outlinewidth": 0,
             "ticks": ""
            },
            "type": "mesh3d"
           }
          ],
          "parcoords": [
           {
            "line": {
             "colorbar": {
              "outlinewidth": 0,
              "ticks": ""
             }
            },
            "type": "parcoords"
           }
          ],
          "pie": [
           {
            "automargin": true,
            "type": "pie"
           }
          ],
          "scatter": [
           {
            "marker": {
             "colorbar": {
              "outlinewidth": 0,
              "ticks": ""
             }
            },
            "type": "scatter"
           }
          ],
          "scatter3d": [
           {
            "line": {
             "colorbar": {
              "outlinewidth": 0,
              "ticks": ""
             }
            },
            "marker": {
             "colorbar": {
              "outlinewidth": 0,
              "ticks": ""
             }
            },
            "type": "scatter3d"
           }
          ],
          "scattercarpet": [
           {
            "marker": {
             "colorbar": {
              "outlinewidth": 0,
              "ticks": ""
             }
            },
            "type": "scattercarpet"
           }
          ],
          "scattergeo": [
           {
            "marker": {
             "colorbar": {
              "outlinewidth": 0,
              "ticks": ""
             }
            },
            "type": "scattergeo"
           }
          ],
          "scattergl": [
           {
            "marker": {
             "colorbar": {
              "outlinewidth": 0,
              "ticks": ""
             }
            },
            "type": "scattergl"
           }
          ],
          "scattermapbox": [
           {
            "marker": {
             "colorbar": {
              "outlinewidth": 0,
              "ticks": ""
             }
            },
            "type": "scattermapbox"
           }
          ],
          "scatterpolar": [
           {
            "marker": {
             "colorbar": {
              "outlinewidth": 0,
              "ticks": ""
             }
            },
            "type": "scatterpolar"
           }
          ],
          "scatterpolargl": [
           {
            "marker": {
             "colorbar": {
              "outlinewidth": 0,
              "ticks": ""
             }
            },
            "type": "scatterpolargl"
           }
          ],
          "scatterternary": [
           {
            "marker": {
             "colorbar": {
              "outlinewidth": 0,
              "ticks": ""
             }
            },
            "type": "scatterternary"
           }
          ],
          "surface": [
           {
            "colorbar": {
             "outlinewidth": 0,
             "ticks": ""
            },
            "colorscale": [
             [
              0,
              "#0d0887"
             ],
             [
              0.1111111111111111,
              "#46039f"
             ],
             [
              0.2222222222222222,
              "#7201a8"
             ],
             [
              0.3333333333333333,
              "#9c179e"
             ],
             [
              0.4444444444444444,
              "#bd3786"
             ],
             [
              0.5555555555555556,
              "#d8576b"
             ],
             [
              0.6666666666666666,
              "#ed7953"
             ],
             [
              0.7777777777777778,
              "#fb9f3a"
             ],
             [
              0.8888888888888888,
              "#fdca26"
             ],
             [
              1,
              "#f0f921"
             ]
            ],
            "type": "surface"
           }
          ],
          "table": [
           {
            "cells": {
             "fill": {
              "color": "#EBF0F8"
             },
             "line": {
              "color": "white"
             }
            },
            "header": {
             "fill": {
              "color": "#C8D4E3"
             },
             "line": {
              "color": "white"
             }
            },
            "type": "table"
           }
          ]
         },
         "layout": {
          "annotationdefaults": {
           "arrowcolor": "#2a3f5f",
           "arrowhead": 0,
           "arrowwidth": 1
          },
          "autotypenumbers": "strict",
          "coloraxis": {
           "colorbar": {
            "outlinewidth": 0,
            "ticks": ""
           }
          },
          "colorscale": {
           "diverging": [
            [
             0,
             "#8e0152"
            ],
            [
             0.1,
             "#c51b7d"
            ],
            [
             0.2,
             "#de77ae"
            ],
            [
             0.3,
             "#f1b6da"
            ],
            [
             0.4,
             "#fde0ef"
            ],
            [
             0.5,
             "#f7f7f7"
            ],
            [
             0.6,
             "#e6f5d0"
            ],
            [
             0.7,
             "#b8e186"
            ],
            [
             0.8,
             "#7fbc41"
            ],
            [
             0.9,
             "#4d9221"
            ],
            [
             1,
             "#276419"
            ]
           ],
           "sequential": [
            [
             0,
             "#0d0887"
            ],
            [
             0.1111111111111111,
             "#46039f"
            ],
            [
             0.2222222222222222,
             "#7201a8"
            ],
            [
             0.3333333333333333,
             "#9c179e"
            ],
            [
             0.4444444444444444,
             "#bd3786"
            ],
            [
             0.5555555555555556,
             "#d8576b"
            ],
            [
             0.6666666666666666,
             "#ed7953"
            ],
            [
             0.7777777777777778,
             "#fb9f3a"
            ],
            [
             0.8888888888888888,
             "#fdca26"
            ],
            [
             1,
             "#f0f921"
            ]
           ],
           "sequentialminus": [
            [
             0,
             "#0d0887"
            ],
            [
             0.1111111111111111,
             "#46039f"
            ],
            [
             0.2222222222222222,
             "#7201a8"
            ],
            [
             0.3333333333333333,
             "#9c179e"
            ],
            [
             0.4444444444444444,
             "#bd3786"
            ],
            [
             0.5555555555555556,
             "#d8576b"
            ],
            [
             0.6666666666666666,
             "#ed7953"
            ],
            [
             0.7777777777777778,
             "#fb9f3a"
            ],
            [
             0.8888888888888888,
             "#fdca26"
            ],
            [
             1,
             "#f0f921"
            ]
           ]
          },
          "colorway": [
           "#636efa",
           "#EF553B",
           "#00cc96",
           "#ab63fa",
           "#FFA15A",
           "#19d3f3",
           "#FF6692",
           "#B6E880",
           "#FF97FF",
           "#FECB52"
          ],
          "font": {
           "color": "#2a3f5f"
          },
          "geo": {
           "bgcolor": "white",
           "lakecolor": "white",
           "landcolor": "#E5ECF6",
           "showlakes": true,
           "showland": true,
           "subunitcolor": "white"
          },
          "hoverlabel": {
           "align": "left"
          },
          "hovermode": "closest",
          "mapbox": {
           "style": "light"
          },
          "paper_bgcolor": "white",
          "plot_bgcolor": "#E5ECF6",
          "polar": {
           "angularaxis": {
            "gridcolor": "white",
            "linecolor": "white",
            "ticks": ""
           },
           "bgcolor": "#E5ECF6",
           "radialaxis": {
            "gridcolor": "white",
            "linecolor": "white",
            "ticks": ""
           }
          },
          "scene": {
           "xaxis": {
            "backgroundcolor": "#E5ECF6",
            "gridcolor": "white",
            "gridwidth": 2,
            "linecolor": "white",
            "showbackground": true,
            "ticks": "",
            "zerolinecolor": "white"
           },
           "yaxis": {
            "backgroundcolor": "#E5ECF6",
            "gridcolor": "white",
            "gridwidth": 2,
            "linecolor": "white",
            "showbackground": true,
            "ticks": "",
            "zerolinecolor": "white"
           },
           "zaxis": {
            "backgroundcolor": "#E5ECF6",
            "gridcolor": "white",
            "gridwidth": 2,
            "linecolor": "white",
            "showbackground": true,
            "ticks": "",
            "zerolinecolor": "white"
           }
          },
          "shapedefaults": {
           "line": {
            "color": "#2a3f5f"
           }
          },
          "ternary": {
           "aaxis": {
            "gridcolor": "white",
            "linecolor": "white",
            "ticks": ""
           },
           "baxis": {
            "gridcolor": "white",
            "linecolor": "white",
            "ticks": ""
           },
           "bgcolor": "#E5ECF6",
           "caxis": {
            "gridcolor": "white",
            "linecolor": "white",
            "ticks": ""
           }
          },
          "title": {
           "x": 0.05
          },
          "xaxis": {
           "automargin": true,
           "gridcolor": "white",
           "linecolor": "white",
           "ticks": "",
           "title": {
            "standoff": 15
           },
           "zerolinecolor": "white",
           "zerolinewidth": 2
          },
          "yaxis": {
           "automargin": true,
           "gridcolor": "white",
           "linecolor": "white",
           "ticks": "",
           "title": {
            "standoff": 15
           },
           "zerolinecolor": "white",
           "zerolinewidth": 2
          }
         }
        },
        "title": {
         "text": "Visualizing performance of states in the education sector"
        },
        "width": 1200
       }
      }
     },
     "metadata": {}
    }
   ],
   "metadata": {}
  },
  {
   "cell_type": "code",
   "execution_count": null,
   "source": [],
   "outputs": [],
   "metadata": {}
  },
  {
   "cell_type": "code",
   "execution_count": null,
   "source": [],
   "outputs": [],
   "metadata": {}
  }
 ],
 "metadata": {
  "interpreter": {
   "hash": "62a490a61034db1e8b6e05e6e999b5629625384177f9d8186b44b788547d5428"
  },
  "kernelspec": {
   "display_name": "Python 3.9.5 64-bit ('machine_L': venv)",
   "name": "python3"
  },
  "language_info": {
   "codemirror_mode": {
    "name": "ipython",
    "version": 3
   },
   "file_extension": ".py",
   "mimetype": "text/x-python",
   "name": "python",
   "nbconvert_exporter": "python",
   "pygments_lexer": "ipython3",
   "version": "3.9.5"
  },
  "orig_nbformat": 2
 },
 "nbformat": 4,
 "nbformat_minor": 2
}